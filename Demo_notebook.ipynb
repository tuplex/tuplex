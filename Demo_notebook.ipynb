{
 "cells": [
  {
   "cell_type": "code",
   "execution_count": 1,
   "id": "1521ba82",
   "metadata": {},
   "outputs": [],
   "source": [
    "import logging\n",
    "logging.basicConfig(format='%(asctime)s %(message)s', level=logging.DEBUG)"
   ]
  },
  {
   "cell_type": "code",
   "execution_count": 2,
   "id": "3f4eb0ae",
   "metadata": {},
   "outputs": [
    {
     "name": "stdout",
     "output_type": "stream",
     "text": [
      "Welcome to\n",
      "\n",
      "  _____            _\n",
      " |_   _|   _ _ __ | | _____  __\n",
      "   | || | | | '_ \\| |/ _ \\ \\/ /\n",
      "   | || |_| | |_) | |  __/>  <\n",
      "   |_| \\__,_| .__/|_|\\___/_/\\_\\ 0.3.1\n",
      "            |_|\n",
      "    \n",
      "using Python 3.9.7 (default, Sep  3 2021, 12:45:31) \n",
      "[Clang 12.0.0 (clang-1200.0.32.29)] on darwin\n"
     ]
    }
   ],
   "source": [
    "import tuplex"
   ]
  },
  {
   "cell_type": "code",
   "execution_count": null,
   "id": "7d393357",
   "metadata": {},
   "outputs": [],
   "source": [
    "c = tuplex.Context()"
   ]
  },
  {
   "cell_type": "code",
   "execution_count": null,
   "id": "797fee2c",
   "metadata": {},
   "outputs": [],
   "source": [
    "c.parallelize([1, 1, 2, 3]).map(lambda x: x* x).collect()"
   ]
  },
  {
   "cell_type": "code",
   "execution_count": null,
   "id": "b39f2b3c",
   "metadata": {},
   "outputs": [],
   "source": [
    "c.parallelize([1, 0, 1, 2, 3, 0]).map(lambda x: 10 / x).collect()"
   ]
  },
  {
   "cell_type": "code",
   "execution_count": null,
   "id": "d9146c3d",
   "metadata": {},
   "outputs": [],
   "source": [
    "ds = c.parallelize([1, 0, 1, 2, 3, 0])\n",
    "\n",
    "ds.map(lambda x: 10 / x).collect()"
   ]
  },
  {
   "cell_type": "code",
   "execution_count": null,
   "id": "61085ab2",
   "metadata": {},
   "outputs": [],
   "source": [
    "import tuplex.libexec.tuplex as tplxtx"
   ]
  },
  {
   "cell_type": "code",
   "execution_count": null,
   "id": "1bf4d00e",
   "metadata": {},
   "outputs": [],
   "source": [
    "tplx.getDefaultOptionsAsJSON()"
   ]
  },
  {
   "cell_type": "code",
   "execution_count": null,
   "id": "4ef62162",
   "metadata": {},
   "outputs": [],
   "source": [
    "import json"
   ]
  },
  {
   "cell_type": "code",
   "execution_count": null,
   "id": "03005f50",
   "metadata": {},
   "outputs": [],
   "source": [
    "def parse_to_obj(s):\n",
    "    if s.lower() == 'true' or s.lower() == 'false':\n",
    "        return bool(s)\n",
    "    try:\n",
    "        return int(s)\n",
    "    except:\n",
    "        pass\n",
    "    try:\n",
    "        return float(s)\n",
    "    except:\n",
    "        pass\n",
    "    return s"
   ]
  },
  {
   "cell_type": "code",
   "execution_count": null,
   "id": "edcc4496",
   "metadata": {},
   "outputs": [],
   "source": [
    "json.loads(tplx.getDefaultOptionsAsJSON()).items()"
   ]
  },
  {
   "cell_type": "code",
   "execution_count": null,
   "id": "4af5c24f",
   "metadata": {},
   "outputs": [],
   "source": [
    "bool('true')"
   ]
  },
  {
   "cell_type": "code",
   "execution_count": null,
   "id": "3ef3d12c",
   "metadata": {},
   "outputs": [],
   "source": []
  }
 ],
 "metadata": {
  "kernelspec": {
   "display_name": "Python 3",
   "language": "python",
   "name": "python3"
  },
  "language_info": {
   "codemirror_mode": {
    "name": "ipython",
    "version": 3
   },
   "file_extension": ".py",
   "mimetype": "text/x-python",
   "name": "python",
   "nbconvert_exporter": "python",
   "pygments_lexer": "ipython3",
   "version": "3.9.7"
  }
 },
 "nbformat": 4,
 "nbformat_minor": 5
}
