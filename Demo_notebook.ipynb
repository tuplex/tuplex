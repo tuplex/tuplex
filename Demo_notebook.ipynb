{
 "cells": [
  {
   "cell_type": "code",
   "execution_count": 1,
   "id": "1521ba82",
   "metadata": {},
   "outputs": [],
   "source": [
    "import logging\n",
    "logging.basicConfig(format='%(asctime)s %(message)s', level=logging.DEBUG)"
   ]
  },
  {
   "cell_type": "code",
   "execution_count": 2,
   "id": "3f4eb0ae",
   "metadata": {},
   "outputs": [
    {
     "name": "stdout",
     "output_type": "stream",
     "text": [
      "Welcome to\n",
      "\n",
      "  _____            _\n",
      " |_   _|   _ _ __ | | _____  __\n",
      "   | || | | | '_ \\| |/ _ \\ \\/ /\n",
      "   | || |_| | |_) | |  __/>  <\n",
      "   |_| \\__,_| .__/|_|\\___/_/\\_\\ 0.3.1\n",
      "            |_|\n",
      "    \n",
      "using Python 3.9.7 (default, Sep  3 2021, 12:45:31) \n",
      "[Clang 12.0.0 (clang-1200.0.32.29)] on darwin\n"
     ]
    }
   ],
   "source": [
    "import tuplex"
   ]
  },
  {
   "cell_type": "code",
   "execution_count": 3,
   "id": "7d393357",
   "metadata": {},
   "outputs": [
    {
     "name": "stderr",
     "output_type": "stream",
     "text": [
      "2021-10-28 17:56:45,884 Using local MongoDB instance\n",
      "2021-10-28 17:56:45,920 starting MongoDB daemon process via mongod --fork --logpath /tmp/tuplex-cache-leonhards/webui/logs/mongod.log --port 27017 --dbpath /tmp/tuplex-cache-leonhards/webui/data\n",
      "2021-10-28 17:56:47,159 MongoDB Daemon PID=74910\n",
      "2021-10-28 17:56:47,239 Couldn't connect to http://localhost:5000/api/version, starting WebUI...\n",
      "2021-10-28 17:56:47,240 Dev version of tuplex\n",
      "2021-10-28 17:56:47,241 Launching gunicorn from /Users/leonhards/projects/tuplex-public/tuplex/historyserver\n",
      "2021-10-28 17:56:47,243 Starting gunicorn with command: gunicorn --daemon --worker-class eventlet --chdir /Users/leonhards/projects/tuplex-public/tuplex/historyserver --pid /var/folders/l7/8zgzcszx7z5gk7kk92f6nc1c0000gn/T/tmpg7pnxiww --log-file /tmp/tuplex-cache-leonhards/webui/logs/gunicorn.log -b localhost:5000 thserver:app\n",
      "2021-10-28 17:56:47,703 Gunicorn locally started...\n",
      "2021-10-28 17:56:47,759 Polling for Gunicorn PID... -- 1.95s of poll time left\n",
      "2021-10-28 17:56:47,810 Polling for Gunicorn PID... -- 1.89s of poll time left\n",
      "2021-10-28 17:56:47,865 Polling for Gunicorn PID... -- 1.84s of poll time left\n",
      "2021-10-28 17:56:47,866 Gunicorn PID=74918\n",
      "2021-10-28 17:56:47,867 Adding auto-shutdown of process with PID=74918 (WebUI)\n"
     ]
    },
    {
     "name": "stdout",
     "output_type": "stream",
     "text": [
      "Tuplex WebUI can be accessed under http://localhost:5000\n"
     ]
    }
   ],
   "source": [
    "c = tuplex.Context()"
   ]
  },
  {
   "cell_type": "code",
   "execution_count": 4,
   "id": "797fee2c",
   "metadata": {},
   "outputs": [
    {
     "data": {
      "text/plain": [
       "[1, 1, 4, 9]"
      ]
     },
     "execution_count": 4,
     "metadata": {},
     "output_type": "execute_result"
    }
   ],
   "source": [
    "c.parallelize([1, 1, 2, 3]).map(lambda x: x* x).collect()"
   ]
  },
  {
   "cell_type": "code",
   "execution_count": 5,
   "id": "b39f2b3c",
   "metadata": {},
   "outputs": [
    {
     "data": {
      "text/plain": [
       "[10.0, 10.0, 5.0, 3.3333333333333335]"
      ]
     },
     "execution_count": 5,
     "metadata": {},
     "output_type": "execute_result"
    }
   ],
   "source": [
    "c.parallelize([1, 0, 1, 2, 3, 0]).map(lambda x: 10 / x).collect()"
   ]
  },
  {
   "cell_type": "code",
   "execution_count": 6,
   "id": "d9146c3d",
   "metadata": {},
   "outputs": [
    {
     "data": {
      "text/plain": [
       "[10.0, 10.0, 5.0, 3.3333333333333335]"
      ]
     },
     "execution_count": 6,
     "metadata": {},
     "output_type": "execute_result"
    }
   ],
   "source": [
    "ds = c.parallelize([1, 0, 1, 2, 3, 0])\n",
    "\n",
    "ds.map(lambda x: 10 / x).collect()"
   ]
  },
  {
   "cell_type": "code",
   "execution_count": null,
   "id": "61085ab2",
   "metadata": {},
   "outputs": [],
   "source": [
    "import tuplex.libexec.tuplex as tplx"
   ]
  },
  {
   "cell_type": "code",
   "execution_count": null,
   "id": "1bf4d00e",
   "metadata": {},
   "outputs": [],
   "source": [
    "tplx.getDefaultOptionsAsJSON()"
   ]
  },
  {
   "cell_type": "code",
   "execution_count": null,
   "id": "4ef62162",
   "metadata": {},
   "outputs": [],
   "source": [
    "import json"
   ]
  },
  {
   "cell_type": "code",
   "execution_count": null,
   "id": "03005f50",
   "metadata": {},
   "outputs": [],
   "source": [
    "def parse_to_obj(s):\n",
    "    if s.lower() == 'true' or s.lower() == 'false':\n",
    "        return bool(s)\n",
    "    try:\n",
    "        return int(s)\n",
    "    except:\n",
    "        pass\n",
    "    try:\n",
    "        return float(s)\n",
    "    except:\n",
    "        pass\n",
    "    return s"
   ]
  },
  {
   "cell_type": "code",
   "execution_count": null,
   "id": "edcc4496",
   "metadata": {},
   "outputs": [],
   "source": [
    "json.loads(tplx.getDefaultOptionsAsJSON()).items()"
   ]
  },
  {
   "cell_type": "code",
   "execution_count": null,
   "id": "4af5c24f",
   "metadata": {},
   "outputs": [],
   "source": [
    "bool('true')"
   ]
  },
  {
   "cell_type": "code",
   "execution_count": null,
   "id": "3ef3d12c",
   "metadata": {},
   "outputs": [],
   "source": []
  }
 ],
 "metadata": {
  "kernelspec": {
   "display_name": "Python 3",
   "language": "python",
   "name": "python3"
  },
  "language_info": {
   "codemirror_mode": {
    "name": "ipython",
    "version": 3
   },
   "file_extension": ".py",
   "mimetype": "text/x-python",
   "name": "python",
   "nbconvert_exporter": "python",
   "pygments_lexer": "ipython3",
   "version": "3.9.7"
  }
 },
 "nbformat": 4,
 "nbformat_minor": 5
}
