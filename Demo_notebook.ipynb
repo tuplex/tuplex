{
 "cells": [
  {
   "cell_type": "code",
   "execution_count": 1,
   "id": "c9d31205",
   "metadata": {},
   "outputs": [],
   "source": [
    "import logging\n",
    "logging.basicConfig(format='%(asctime)s %(message)s', level=logging.DEBUG)"
   ]
  },
  {
   "cell_type": "code",
   "execution_count": 2,
   "id": "3f4eb0ae",
   "metadata": {},
   "outputs": [
    {
     "name": "stdout",
     "output_type": "stream",
     "text": [
      "Welcome to\n",
      "\n",
      "  _____            _\n",
      " |_   _|   _ _ __ | | _____  __\n",
      "   | || | | | '_ \\| |/ _ \\ \\/ /\n",
      "   | || |_| | |_) | |  __/>  <\n",
      "   |_| \\__,_| .__/|_|\\___/_/\\_\\ 0.3.1\n",
      "            |_|\n",
      "    \n",
      "using Python 3.9.7 (default, Sep  3 2021, 12:45:31) \n",
      "[Clang 12.0.0 (clang-1200.0.32.29)] on darwin\n"
     ]
    }
   ],
   "source": [
    "import tuplex"
   ]
  },
  {
   "cell_type": "code",
   "execution_count": 3,
   "id": "7d393357",
   "metadata": {},
   "outputs": [
    {
     "name": "stderr",
     "output_type": "stream",
     "text": [
      "2021-10-28 17:46:27,411 Using local MongoDB instance\n",
      "2021-10-28 17:46:27,456 starting MongoDB daemon process via mongod --fork --logpath /tmp/tuplex-cache-leonhards/webui/logs/mongod.log --port 27017 --dbpath /tmp/tuplex-cache-leonhards/webui/data\n",
      "2021-10-28 17:46:28,666 MongoDB Daemon PID=73569\n",
      "2021-10-28 17:46:28,805 Couldn't connect to http://localhost:5000/api/version, starting WebUI...\n",
      "2021-10-28 17:46:28,809 Dev version of tuplex\n",
      "2021-10-28 17:46:28,810 Launching gunicorn from /Users/leonhards/projects/tuplex-public/tuplex/historyserver\n",
      "2021-10-28 17:46:28,812 Starting gunicorn with command: gunicorn --daemon --worker-class eventlet --chdir /Users/leonhards/projects/tuplex-public/tuplex/historyserver --pid /var/folders/l7/8zgzcszx7z5gk7kk92f6nc1c0000gn/T/tmp8fjywrss --log-file /tmp/tuplex-cache-leonhards/webui/logs/gunicorn.log -b localhost:5000 thserver:app\n",
      "2021-10-28 17:46:29,206 Gunicorn locally started...\n",
      "2021-10-28 17:46:29,259 Polling for Gunicorn PID... -- 1.95s of poll time left\n",
      "2021-10-28 17:46:29,314 Polling for Gunicorn PID... -- 1.89s of poll time left\n",
      "2021-10-28 17:46:29,367 Polling for Gunicorn PID... -- 1.84s of poll time left\n",
      "2021-10-28 17:46:29,369 Gunicorn PID=73575\n",
      "2021-10-28 17:46:29,370 Adding auto-shutdown of process with PID=73575 (WebUI)\n"
     ]
    },
    {
     "name": "stdout",
     "output_type": "stream",
     "text": [
      "Tuplex WebUI can be accessed under http://localhost:5000\n"
     ]
    }
   ],
   "source": [
    "c = tuplex.Context()"
   ]
  },
  {
   "cell_type": "code",
   "execution_count": 6,
   "id": "433c758a",
   "metadata": {},
   "outputs": [
    {
     "data": {
      "text/plain": [
       "[1, 1, 4, 9]"
      ]
     },
     "execution_count": 6,
     "metadata": {},
     "output_type": "execute_result"
    }
   ],
   "source": [
    "c.parallelize([1, 1, 2, 3]).map(lambda x: x* x).collect()"
   ]
  },
  {
   "cell_type": "code",
   "execution_count": 9,
   "id": "3758e032",
   "metadata": {},
   "outputs": [
    {
     "ename": "Exception",
     "evalue": "Couldn't generate code again for lambda function.",
     "output_type": "error",
     "traceback": [
      "\u001b[0;31m---------------------------------------------------------------------------\u001b[0m",
      "\u001b[0;31mException\u001b[0m                                 Traceback (most recent call last)",
      "\u001b[0;32m<ipython-input-9-a58b000fe742>\u001b[0m in \u001b[0;36m<module>\u001b[0;34m\u001b[0m\n\u001b[0;32m----> 1\u001b[0;31m \u001b[0mc\u001b[0m\u001b[0;34m.\u001b[0m\u001b[0mparallelize\u001b[0m\u001b[0;34m(\u001b[0m\u001b[0;34m[\u001b[0m\u001b[0;36m1\u001b[0m\u001b[0;34m,\u001b[0m \u001b[0;36m0\u001b[0m\u001b[0;34m,\u001b[0m \u001b[0;36m1\u001b[0m\u001b[0;34m,\u001b[0m \u001b[0;36m2\u001b[0m\u001b[0;34m,\u001b[0m \u001b[0;36m3\u001b[0m\u001b[0;34m,\u001b[0m \u001b[0;36m0\u001b[0m\u001b[0;34m]\u001b[0m\u001b[0;34m)\u001b[0m\u001b[0;34m.\u001b[0m\u001b[0mmap\u001b[0m\u001b[0;34m(\u001b[0m\u001b[0;32mlambda\u001b[0m \u001b[0mx\u001b[0m\u001b[0;34m:\u001b[0m \u001b[0;36m10\u001b[0m \u001b[0;34m/\u001b[0m \u001b[0mx\u001b[0m\u001b[0;34m)\u001b[0m\u001b[0;34m.\u001b[0m\u001b[0mcollect\u001b[0m\u001b[0;34m(\u001b[0m\u001b[0;34m)\u001b[0m\u001b[0;34m\u001b[0m\u001b[0;34m\u001b[0m\u001b[0m\n\u001b[0m",
      "\u001b[0;32m~/projects/tuplex-public/tuplex/python/tuplex/dataset.py\u001b[0m in \u001b[0;36mmap\u001b[0;34m(self, ftor)\u001b[0m\n\u001b[1;32m     62\u001b[0m         \u001b[0;32mtry\u001b[0m\u001b[0;34m:\u001b[0m\u001b[0;34m\u001b[0m\u001b[0;34m\u001b[0m\u001b[0m\n\u001b[1;32m     63\u001b[0m             \u001b[0;31m# convert code object to str representation\u001b[0m\u001b[0;34m\u001b[0m\u001b[0;34m\u001b[0m\u001b[0m\n\u001b[0;32m---> 64\u001b[0;31m             \u001b[0mcode\u001b[0m \u001b[0;34m=\u001b[0m \u001b[0mget_udf_source\u001b[0m\u001b[0;34m(\u001b[0m\u001b[0mftor\u001b[0m\u001b[0;34m)\u001b[0m\u001b[0;34m\u001b[0m\u001b[0;34m\u001b[0m\u001b[0m\n\u001b[0m\u001b[1;32m     65\u001b[0m         \u001b[0;32mexcept\u001b[0m \u001b[0mUDFCodeExtractionError\u001b[0m \u001b[0;32mas\u001b[0m \u001b[0me\u001b[0m\u001b[0;34m:\u001b[0m\u001b[0;34m\u001b[0m\u001b[0;34m\u001b[0m\u001b[0m\n\u001b[1;32m     66\u001b[0m             \u001b[0mlogging\u001b[0m\u001b[0;34m.\u001b[0m\u001b[0mwarn\u001b[0m\u001b[0;34m(\u001b[0m\u001b[0;34m'Could not extract code for {}. Details:\\n{}'\u001b[0m\u001b[0;34m.\u001b[0m\u001b[0mformat\u001b[0m\u001b[0;34m(\u001b[0m\u001b[0mftor\u001b[0m\u001b[0;34m,\u001b[0m \u001b[0me\u001b[0m\u001b[0;34m)\u001b[0m\u001b[0;34m)\u001b[0m\u001b[0;34m\u001b[0m\u001b[0;34m\u001b[0m\u001b[0m\n",
      "\u001b[0;32m~/projects/tuplex-public/tuplex/python/tuplex/utils/reflection.py\u001b[0m in \u001b[0;36mget_source\u001b[0;34m(f)\u001b[0m\n\u001b[1;32m    192\u001b[0m                 \u001b[0msrc_info\u001b[0m \u001b[0;34m=\u001b[0m \u001b[0minspect\u001b[0m\u001b[0;34m.\u001b[0m\u001b[0mgetsourcelines\u001b[0m\u001b[0;34m(\u001b[0m\u001b[0mf\u001b[0m\u001b[0;34m)\u001b[0m\u001b[0;34m\u001b[0m\u001b[0;34m\u001b[0m\u001b[0m\n\u001b[1;32m    193\u001b[0m \u001b[0;34m\u001b[0m\u001b[0m\n\u001b[0;32m--> 194\u001b[0;31m                 vault.extractAndPutAllLambdas(src_info,\n\u001b[0m\u001b[1;32m    195\u001b[0m                                               \u001b[0mf_filename\u001b[0m\u001b[0;34m,\u001b[0m\u001b[0;34m\u001b[0m\u001b[0;34m\u001b[0m\u001b[0m\n\u001b[1;32m    196\u001b[0m                                               \u001b[0mf_lineno\u001b[0m\u001b[0;34m,\u001b[0m\u001b[0;34m\u001b[0m\u001b[0;34m\u001b[0m\u001b[0m\n",
      "\u001b[0;32m~/projects/tuplex-public/tuplex/python/tuplex/utils/source_vault.py\u001b[0m in \u001b[0;36mextractAndPutAllLambdas\u001b[0;34m(self, src_info, filename, lineno, colno, globals)\u001b[0m\n\u001b[1;32m    243\u001b[0m \u001b[0;34m\u001b[0m\u001b[0m\n\u001b[1;32m    244\u001b[0m             \u001b[0;32mif\u001b[0m \u001b[0;36m0\u001b[0m \u001b[0;34m==\u001b[0m \u001b[0mlen\u001b[0m\u001b[0;34m(\u001b[0m\u001b[0mcode\u001b[0m\u001b[0;34m)\u001b[0m\u001b[0;34m:\u001b[0m\u001b[0;34m\u001b[0m\u001b[0;34m\u001b[0m\u001b[0m\n\u001b[0;32m--> 245\u001b[0;31m                 \u001b[0;32mraise\u001b[0m \u001b[0mException\u001b[0m\u001b[0;34m(\u001b[0m\u001b[0;34m'Couldn\\'t generate code again for lambda function.'\u001b[0m\u001b[0;34m)\u001b[0m\u001b[0;34m\u001b[0m\u001b[0;34m\u001b[0m\u001b[0m\n\u001b[0m\u001b[1;32m    246\u001b[0m \u001b[0;34m\u001b[0m\u001b[0m\n\u001b[1;32m    247\u001b[0m             \u001b[0;31m# Note: can get colno from ast!\u001b[0m\u001b[0;34m\u001b[0m\u001b[0;34m\u001b[0m\u001b[0m\n",
      "\u001b[0;31mException\u001b[0m: Couldn't generate code again for lambda function."
     ]
    }
   ],
   "source": [
    "c.parallelize([1, 0, 1, 2, 3, 0]).map(lambda x: 10 / x).collect()"
   ]
  },
  {
   "cell_type": "code",
   "execution_count": 11,
   "id": "09604b83",
   "metadata": {},
   "outputs": [
    {
     "ename": "Exception",
     "evalue": "Couldn't generate code again for lambda function.",
     "output_type": "error",
     "traceback": [
      "\u001b[0;31m---------------------------------------------------------------------------\u001b[0m",
      "\u001b[0;31mException\u001b[0m                                 Traceback (most recent call last)",
      "\u001b[0;32m<ipython-input-11-c799071fe6e5>\u001b[0m in \u001b[0;36m<module>\u001b[0;34m\u001b[0m\n\u001b[1;32m      1\u001b[0m \u001b[0mds\u001b[0m \u001b[0;34m=\u001b[0m \u001b[0mc\u001b[0m\u001b[0;34m.\u001b[0m\u001b[0mparallelize\u001b[0m\u001b[0;34m(\u001b[0m\u001b[0;34m[\u001b[0m\u001b[0;36m1\u001b[0m\u001b[0;34m,\u001b[0m \u001b[0;36m0\u001b[0m\u001b[0;34m,\u001b[0m \u001b[0;36m1\u001b[0m\u001b[0;34m,\u001b[0m \u001b[0;36m2\u001b[0m\u001b[0;34m,\u001b[0m \u001b[0;36m3\u001b[0m\u001b[0;34m,\u001b[0m \u001b[0;36m0\u001b[0m\u001b[0;34m]\u001b[0m\u001b[0;34m)\u001b[0m\u001b[0;34m\u001b[0m\u001b[0;34m\u001b[0m\u001b[0m\n\u001b[1;32m      2\u001b[0m \u001b[0;34m\u001b[0m\u001b[0m\n\u001b[0;32m----> 3\u001b[0;31m \u001b[0mds\u001b[0m\u001b[0;34m.\u001b[0m\u001b[0mmap\u001b[0m\u001b[0;34m(\u001b[0m\u001b[0;32mlambda\u001b[0m \u001b[0mx\u001b[0m\u001b[0;34m:\u001b[0m \u001b[0;36m10\u001b[0m \u001b[0;34m/\u001b[0m \u001b[0mx\u001b[0m\u001b[0;34m)\u001b[0m\u001b[0;34m.\u001b[0m\u001b[0mcollect\u001b[0m\u001b[0;34m(\u001b[0m\u001b[0;34m)\u001b[0m\u001b[0;34m\u001b[0m\u001b[0;34m\u001b[0m\u001b[0m\n\u001b[0m",
      "\u001b[0;32m~/projects/tuplex-public/tuplex/python/tuplex/dataset.py\u001b[0m in \u001b[0;36mmap\u001b[0;34m(self, ftor)\u001b[0m\n\u001b[1;32m     62\u001b[0m         \u001b[0;32mtry\u001b[0m\u001b[0;34m:\u001b[0m\u001b[0;34m\u001b[0m\u001b[0;34m\u001b[0m\u001b[0m\n\u001b[1;32m     63\u001b[0m             \u001b[0;31m# convert code object to str representation\u001b[0m\u001b[0;34m\u001b[0m\u001b[0;34m\u001b[0m\u001b[0m\n\u001b[0;32m---> 64\u001b[0;31m             \u001b[0mcode\u001b[0m \u001b[0;34m=\u001b[0m \u001b[0mget_udf_source\u001b[0m\u001b[0;34m(\u001b[0m\u001b[0mftor\u001b[0m\u001b[0;34m)\u001b[0m\u001b[0;34m\u001b[0m\u001b[0;34m\u001b[0m\u001b[0m\n\u001b[0m\u001b[1;32m     65\u001b[0m         \u001b[0;32mexcept\u001b[0m \u001b[0mUDFCodeExtractionError\u001b[0m \u001b[0;32mas\u001b[0m \u001b[0me\u001b[0m\u001b[0;34m:\u001b[0m\u001b[0;34m\u001b[0m\u001b[0;34m\u001b[0m\u001b[0m\n\u001b[1;32m     66\u001b[0m             \u001b[0mlogging\u001b[0m\u001b[0;34m.\u001b[0m\u001b[0mwarn\u001b[0m\u001b[0;34m(\u001b[0m\u001b[0;34m'Could not extract code for {}. Details:\\n{}'\u001b[0m\u001b[0;34m.\u001b[0m\u001b[0mformat\u001b[0m\u001b[0;34m(\u001b[0m\u001b[0mftor\u001b[0m\u001b[0;34m,\u001b[0m \u001b[0me\u001b[0m\u001b[0;34m)\u001b[0m\u001b[0;34m)\u001b[0m\u001b[0;34m\u001b[0m\u001b[0;34m\u001b[0m\u001b[0m\n",
      "\u001b[0;32m~/projects/tuplex-public/tuplex/python/tuplex/utils/reflection.py\u001b[0m in \u001b[0;36mget_source\u001b[0;34m(f)\u001b[0m\n\u001b[1;32m    192\u001b[0m                 \u001b[0msrc_info\u001b[0m \u001b[0;34m=\u001b[0m \u001b[0minspect\u001b[0m\u001b[0;34m.\u001b[0m\u001b[0mgetsourcelines\u001b[0m\u001b[0;34m(\u001b[0m\u001b[0mf\u001b[0m\u001b[0;34m)\u001b[0m\u001b[0;34m\u001b[0m\u001b[0;34m\u001b[0m\u001b[0m\n\u001b[1;32m    193\u001b[0m \u001b[0;34m\u001b[0m\u001b[0m\n\u001b[0;32m--> 194\u001b[0;31m                 vault.extractAndPutAllLambdas(src_info,\n\u001b[0m\u001b[1;32m    195\u001b[0m                                               \u001b[0mf_filename\u001b[0m\u001b[0;34m,\u001b[0m\u001b[0;34m\u001b[0m\u001b[0;34m\u001b[0m\u001b[0m\n\u001b[1;32m    196\u001b[0m                                               \u001b[0mf_lineno\u001b[0m\u001b[0;34m,\u001b[0m\u001b[0;34m\u001b[0m\u001b[0;34m\u001b[0m\u001b[0m\n",
      "\u001b[0;32m~/projects/tuplex-public/tuplex/python/tuplex/utils/source_vault.py\u001b[0m in \u001b[0;36mextractAndPutAllLambdas\u001b[0;34m(self, src_info, filename, lineno, colno, globals)\u001b[0m\n\u001b[1;32m    243\u001b[0m \u001b[0;34m\u001b[0m\u001b[0m\n\u001b[1;32m    244\u001b[0m             \u001b[0;32mif\u001b[0m \u001b[0;36m0\u001b[0m \u001b[0;34m==\u001b[0m \u001b[0mlen\u001b[0m\u001b[0;34m(\u001b[0m\u001b[0mcode\u001b[0m\u001b[0;34m)\u001b[0m\u001b[0;34m:\u001b[0m\u001b[0;34m\u001b[0m\u001b[0;34m\u001b[0m\u001b[0m\n\u001b[0;32m--> 245\u001b[0;31m                 \u001b[0;32mraise\u001b[0m \u001b[0mException\u001b[0m\u001b[0;34m(\u001b[0m\u001b[0;34m'Couldn\\'t generate code again for lambda function.'\u001b[0m\u001b[0;34m)\u001b[0m\u001b[0;34m\u001b[0m\u001b[0;34m\u001b[0m\u001b[0m\n\u001b[0m\u001b[1;32m    246\u001b[0m \u001b[0;34m\u001b[0m\u001b[0m\n\u001b[1;32m    247\u001b[0m             \u001b[0;31m# Note: can get colno from ast!\u001b[0m\u001b[0;34m\u001b[0m\u001b[0;34m\u001b[0m\u001b[0m\n",
      "\u001b[0;31mException\u001b[0m: Couldn't generate code again for lambda function."
     ]
    }
   ],
   "source": [
    "ds = c.parallelize([1, 0, 1, 2, 3, 0])\n",
    "\n",
    "ds.map(lambda x: 10 / x).collect()"
   ]
  },
  {
   "cell_type": "code",
   "execution_count": 4,
   "id": "61085ab2",
   "metadata": {},
   "outputs": [],
   "source": [
    "import tuplex.libexec.tuplex as tplx"
   ]
  },
  {
   "cell_type": "code",
   "execution_count": null,
   "id": "cd7e895f",
   "metadata": {},
   "outputs": [],
   "source": [
    "tplx.getDefaultOptionsAsJSON()"
   ]
  },
  {
   "cell_type": "code",
   "execution_count": null,
   "id": "4620a794",
   "metadata": {},
   "outputs": [],
   "source": [
    "import json"
   ]
  },
  {
   "cell_type": "code",
   "execution_count": null,
   "id": "db8c29fc",
   "metadata": {},
   "outputs": [],
   "source": [
    "def parse_to_obj(s):\n",
    "    if s.lower() == 'true' or s.lower() == 'false':\n",
    "        return bool(s)\n",
    "    try:\n",
    "        return int(s)\n",
    "    except:\n",
    "        pass\n",
    "    try:\n",
    "        return float(s)\n",
    "    except:\n",
    "        pass\n",
    "    return s"
   ]
  },
  {
   "cell_type": "code",
   "execution_count": null,
   "id": "bc6c9e14",
   "metadata": {},
   "outputs": [],
   "source": [
    "json.loads(tplx.getDefaultOptionsAsJSON()).items()"
   ]
  },
  {
   "cell_type": "code",
   "execution_count": null,
   "id": "2979d4d4",
   "metadata": {},
   "outputs": [],
   "source": [
    "bool('true')"
   ]
  },
  {
   "cell_type": "code",
   "execution_count": null,
   "id": "0d617042",
   "metadata": {},
   "outputs": [],
   "source": []
  }
 ],
 "metadata": {
  "kernelspec": {
   "display_name": "Python 3",
   "language": "python",
   "name": "python3"
  },
  "language_info": {
   "codemirror_mode": {
    "name": "ipython",
    "version": 3
   },
   "file_extension": ".py",
   "mimetype": "text/x-python",
   "name": "python",
   "nbconvert_exporter": "python",
   "pygments_lexer": "ipython3",
   "version": "3.9.7"
  }
 },
 "nbformat": 4,
 "nbformat_minor": 5
}
