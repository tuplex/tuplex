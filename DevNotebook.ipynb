{
 "cells": [
  {
   "cell_type": "code",
   "execution_count": 18,
   "id": "1026cb14",
   "metadata": {},
   "outputs": [],
   "source": [
    "import boto3\n",
    "import tempfile\n",
    "import logging\n",
    "import os\n",
    "import base64"
   ]
  },
  {
   "cell_type": "code",
   "execution_count": 2,
   "id": "d1b122c2",
   "metadata": {},
   "outputs": [],
   "source": [
    "import logging\n",
    "logging.basicConfig(\n",
    "    format='%(asctime)s %(levelname)-8s %(message)s',\n",
    "    level=logging.INFO,\n",
    "    datefmt='%Y-%m-%d %H:%M:%S')\n",
    "logger = logging.getLogger()\n",
    "logger.setLevel(logging.INFO)\n"
   ]
  },
  {
   "cell_type": "code",
   "execution_count": 3,
   "id": "f8b9346c",
   "metadata": {},
   "outputs": [],
   "source": [
    "logging.debug('hello')"
   ]
  },
  {
   "cell_type": "code",
   "execution_count": 4,
   "id": "a82c13f3",
   "metadata": {},
   "outputs": [
    {
     "name": "stderr",
     "output_type": "stream",
     "text": [
      "2021-11-04 12:37:04 INFO     Found credentials in environment variables.\n"
     ]
    }
   ],
   "source": [
    "# Let's use Amazon S3\n",
    "s3 = boto3.resource('s3')"
   ]
  },
  {
   "cell_type": "code",
   "execution_count": 5,
   "id": "4a5fe4b3",
   "metadata": {},
   "outputs": [
    {
     "name": "stdout",
     "output_type": "stream",
     "text": [
      "aws-deepracer-3f4fbafa-e09c-412c-8491-baeb4b0bffb7\n",
      "bbsn00\n",
      "bmwcpo\n",
      "tuplex\n",
      "tuplex-leonhard\n",
      "tuplex-public\n",
      "tuplex-test\n"
     ]
    }
   ],
   "source": [
    "# Tuplex needs a bucket.\n",
    "# => create one tuplex-<iam-user> per default.\n",
    "# => this is where stuff gets stored.\n",
    "\n",
    "# layout bucket like this:\n",
    "# tuplex-<iam-user>/notebooks\n",
    "# tuplex-<iam-user>/data\n",
    "# tuplex-<iam-user>/scratch\n",
    "\n",
    "# upload lambda function as\n",
    "# tuplex-runner\n",
    "\n",
    "# -> add versioning to tuplex-runner! => allow for auto upload?\n",
    "\n",
    "\n",
    "# Print out bucket names\n",
    "for bucket in s3.buckets.all():\n",
    "    print(bucket.name)"
   ]
  },
  {
   "cell_type": "code",
   "execution_count": 6,
   "id": "3ace75d1",
   "metadata": {},
   "outputs": [
    {
     "name": "stderr",
     "output_type": "stream",
     "text": [
      "2021-11-04 12:37:05 INFO     Setting up AWS Lambda backend for IAM user leonhard\n",
      "2021-11-04 12:37:05 INFO     Configuring backend in zone: us-east-1\n"
     ]
    }
   ],
   "source": [
    "def current_iam_user():\n",
    "    iam = boto3.resource('iam')\n",
    "    user = iam.CurrentUser()\n",
    "    return user.user_name.lower()\n",
    "\n",
    "def default_lambda_name():\n",
    "    return 'tuplex-lambda-runner'\n",
    "\n",
    "def default_lambda_role():\n",
    "    return 'tuplex-lambda-role'\n",
    "\n",
    "def default_bucket_name():\n",
    "    return 'tuplex-' + current_iam_user()\n",
    "\n",
    "def current_region():\n",
    "    session = boto3.session.Session()\n",
    "    region = session.region_name\n",
    "    return region\n",
    "\n",
    "def setup_aws(iam_user=current_iam_user(),\n",
    "              lambda_name=default_lambda_name(),\n",
    "              lambda_role=default_lambda_role(),\n",
    "              region=current_region()\n",
    "              ):\n",
    "    logging.info('Setting up AWS Lambda backend for IAM user {}'.format(iam_user))\n",
    "    logging.info('Configuring backend in zone: {}'.format(region))\n",
    "    \n",
    "    # check if iam user is found?\n",
    "    # --> skip for now, later properly authenticate using assume_role as described in\n",
    "    # https://docs.aws.amazon.com/IAM/latest/UserGuide/id_roles_use_switch-role-api.html\n",
    "    \n",
    "    # step 1: create Lambda role if not exists\n",
    "    iam = boto3.resource('iam')\n",
    "    \n",
    "    \n",
    "   \n",
    "    \n",
    "setup_aws()"
   ]
  },
  {
   "cell_type": "code",
   "execution_count": 7,
   "id": "30c826ad",
   "metadata": {},
   "outputs": [],
   "source": [
    "iam = boto3.resource('iam')\n",
    "iam_client = boto3.client('iam')"
   ]
  },
  {
   "cell_type": "code",
   "execution_count": 8,
   "id": "e9767709",
   "metadata": {},
   "outputs": [],
   "source": [
    "lambda_role=default_lambda_role()\n",
    "\n",
    "region = current_region()\n",
    "overwrite = True\n",
    "\n",
    "\n",
    "def create_lambda_role(iam_client, lambda_role):\n",
    "    \n",
    "    # Roles required for AWS Lambdas\n",
    "    trust_policy = '{\"Version\":\"2012-10-17\",\"Statement\":[{\"Effect\":\"Allow\",\"Principal\":{\"Service\":\"lambda.amazonaws.com\"},\"Action\":\"sts:AssumeRole\"}]}'\n",
    "    lambda_access_to_s3 = '{\"Version\":\"2012-10-17\",\"Statement\":[{\"Effect\":\"Allow\",\"Action\":[\"s3:*MultipartUpload*\",\"s3:Get*\",\"s3:ListBucket\",\"s3:Put*\"],\"Resource\":\"*\"}]}'\n",
    "    lambda_invoke_others = '{\"Version\":\"2012-10-17\",\"Statement\":[{\"Effect\":\"Allow\",\"Action\":[\"lambda:InvokeFunction\",\"lambda:InvokeAsync\"],\"Resource\":\"*\"}]}'\n",
    "\n",
    "    iam_client.create_role(RoleName=lambda_role,\n",
    "                           AssumeRolePolicyDocument=trust_policy,\n",
    "                           Description='Auto-created Role for Tuplex AWS Lambda runner')\n",
    "    iam_client.attach_role_policy(RoleName=lambda_role, PolicyArn='arn:aws:iam::aws:policy/service-role/AWSLambdaBasicExecutionRole')\n",
    "    iam_client.put_role_policy(RoleName=lambda_role, PolicyName='InvokeOtherlambdas', PolicyDocument=lambda_invoke_others)\n",
    "    iam_client.put_role_policy(RoleName=lambda_role, PolicyName='LambdaAccessForS3', PolicyDocument=lambda_access_to_s3)\n",
    "    logging.info('Created Tuplex AWS Lambda runner role ({})'.format(lambda_role))\n",
    "    \n",
    "    # check it exists\n",
    "    try:\n",
    "        response = iam_client.get_role(RoleName=lambda_role)\n",
    "        print(response)\n",
    "    except:\n",
    "        raise Exception('Failed to create AWS Lambda Role')\n",
    "    \n",
    "def remove_lambda_role(iam_client, lambda_role):\n",
    "    \n",
    "    # detach policies...\n",
    "    try:\n",
    "        iam_client.detach_role_policy(RoleName=lambda_role, PolicyArn='arn:aws:iam::aws:policy/service-role/AWSLambdaBasicExecutionRole')\n",
    "    except Exception as e:\n",
    "        logging.error('Error while detaching policy AWSLambdaBasicExecutionRole, Tuplex setup corrupted? Details: {}'.format(e))\n",
    "        \n",
    "    policy_names = iam_client.list_role_policies(RoleName=lambda_role)['PolicyNames']\n",
    "    \n",
    "    for name in policy_names:\n",
    "        try:\n",
    "            iam_client.delete_role_policy(RoleName=lambda_role, PolicyName=name)\n",
    "        except Exception as e:\n",
    "            logging.error('Error while detaching policy {}, Tuplex setup corrupted? Details: {}'.format(name, e))\n",
    "        \n",
    "    # delete role...\n",
    "    iam_client.delete_role(RoleName=lambda_role)\n",
    "\n",
    "def setup_lambda_role(iam_client, lambda_role, region, overwrite):\n",
    "    try:\n",
    "        response = iam_client.get_role(RoleName=lambda_role)\n",
    "        logging.info('Found Lambda role from {}'.format(response['Role']['CreateDate']))\n",
    "\n",
    "         # throw dummy exception to force overwrite\n",
    "        if overwrite:\n",
    "            remove_lambda_role(iam_client, lambda_role)\n",
    "            logging.info('Overwriting existing role {}'.format(lambda_role))\n",
    "            create_lambda_role(iam_client, lambda_role)\n",
    "\n",
    "    except iam_client.exceptions.NoSuchEntityException as e:\n",
    "        logging.info('Role {} was not found in {}, creating ...'.format(lambda_role, region))\n",
    "        create_lambda_role(iam_client, lambda_role)"
   ]
  },
  {
   "cell_type": "markdown",
   "id": "b23b2244",
   "metadata": {},
   "source": [
    "## Creating/specifying s3 scratch space"
   ]
  },
  {
   "cell_type": "code",
   "execution_count": 9,
   "id": "7060ff33",
   "metadata": {},
   "outputs": [],
   "source": [
    "s3_client = boto3.client('s3', region_name=current_region())"
   ]
  },
  {
   "cell_type": "code",
   "execution_count": 10,
   "id": "1ad08821",
   "metadata": {},
   "outputs": [],
   "source": [
    "# create bucket if it not exists (private one)"
   ]
  },
  {
   "cell_type": "code",
   "execution_count": 11,
   "id": "a1fd54df",
   "metadata": {},
   "outputs": [
    {
     "data": {
      "text/plain": [
       "'tuplex-leonhard'"
      ]
     },
     "execution_count": 11,
     "metadata": {},
     "output_type": "execute_result"
    }
   ],
   "source": [
    "default_bucket_name()"
   ]
  },
  {
   "cell_type": "code",
   "execution_count": 12,
   "id": "d1bb67a2",
   "metadata": {},
   "outputs": [
    {
     "name": "stderr",
     "output_type": "stream",
     "text": [
      "2021-11-04 12:37:07 INFO     Found bucket tuplex-leonhard\n"
     ]
    }
   ],
   "source": [
    "def ensure_s3_bucket(s3_client, bucket_name, region):\n",
    "    bucket_names = list(map(lambda b: b['Name'], s3_client.list_buckets()['Buckets']))\n",
    "    \n",
    "    if bucket_name not in bucket_names:\n",
    "        logging.info('Bucket {} not found, creating (private bucket) in {} ...'.format(bucket_name, region))\n",
    "        \n",
    "        # bug in boto3: \n",
    "        if region == current_region():\n",
    "            s3_client.create_bucket(Bucket=bucket_name)\n",
    "            logging.info('Bucket {} created in {}'.format(bucket_name, region))\n",
    "        else:\n",
    "            location = {'LocationConstraint': region.strip()}\n",
    "            s3_client.create_bucket(Bucket=bucket_name,\n",
    "                                    CreateBucketConfiguration=location)\n",
    "            logging.info('Bucket {} created in {}'.format(bucket_name, region))\n",
    "    else:\n",
    "        logging.info('Found bucket {}'.format(bucket_name))\n",
    "    \n",
    "ensure_s3_bucket(s3_client, default_bucket_name(), current_region())"
   ]
  },
  {
   "cell_type": "markdown",
   "id": "0a85cf6c",
   "metadata": {},
   "source": [
    "### Creating/uploading actual lambda function"
   ]
  },
  {
   "cell_type": "code",
   "execution_count": 13,
   "id": "06593736",
   "metadata": {},
   "outputs": [],
   "source": [
    "lambda_client = boto3.client('lambda')"
   ]
  },
  {
   "cell_type": "code",
   "execution_count": 14,
   "id": "85009345",
   "metadata": {},
   "outputs": [
    {
     "name": "stderr",
     "output_type": "stream",
     "text": [
      "2021-11-04 12:37:07 INFO     Function tuplex-lambda-runner was not found in us-east-1, uploading ...\n"
     ]
    }
   ],
   "source": [
    "lambda_function_name=default_lambda_name()\n",
    "lambda_zip_file = './tplxlam.zip'\n",
    "\n",
    "try:\n",
    "    response = lambda_client.get_function(FunctionName=lambda_function_name)\n",
    "    print(response)\n",
    "except lambda_client.exceptions.ResourceNotFoundException as e:\n",
    "    logging.info('Function {} was not found in {}, uploading ...'.format(lambda_function_name, region))\n",
    "    "
   ]
  },
  {
   "cell_type": "code",
   "execution_count": null,
   "id": "aed50d5b",
   "metadata": {},
   "outputs": [
    {
     "name": "stderr",
     "output_type": "stream",
     "text": [
      "2021-11-04 13:55:54 INFO     Encoding Lambda as base64 (43.9MiB)\n",
      "2021-11-04 13:55:54 INFO     File size as base64 is 58.6MiB\n"
     ]
    }
   ],
   "source": [
    "# from utils.common\n",
    "try:\n",
    "    import pwd\n",
    "except ImportError:\n",
    "    import getpass\n",
    "    pwd = None\n",
    "    \n",
    "import datetime\n",
    "import socket\n",
    "\n",
    "\n",
    "import os\n",
    "import sys\n",
    "import threading\n",
    "\n",
    "def current_user():\n",
    "    \"\"\"\n",
    "    retrieve current user name\n",
    "    Returns: username as string\n",
    "\n",
    "    \"\"\"\n",
    "    if pwd:\n",
    "        return pwd.getpwuid(os.geteuid()).pw_name\n",
    "    else:\n",
    "        return getpass.getuser()\n",
    "\n",
    "def host_name():\n",
    "    \"\"\"\n",
    "    retrieve host name to identify machine\n",
    "    Returns: some hostname as string\n",
    "\n",
    "    \"\"\"\n",
    "    if socket.gethostname().find('.') >= 0:\n",
    "        return socket.gethostname()\n",
    "    else:\n",
    "        return socket.gethostbyaddr(socket.gethostname())[0]\n",
    "\n",
    "\n",
    "def sizeof_fmt(num, suffix=\"B\"):\n",
    "    # from https://stackoverflow.com/questions/1094841/get-human-readable-version-of-file-size\n",
    "    for unit in [\"\", \"Ki\", \"Mi\", \"Gi\", \"Ti\", \"Pi\", \"Ei\", \"Zi\"]:\n",
    "        if abs(num) < 1024.0:\n",
    "            return f\"{num:3.1f}{unit}{suffix}\"\n",
    "        num /= 1024.0\n",
    "    return f\"{num:.1f}Yi{suffix}\"\n",
    "\n",
    "class ProgressPercentage(object):\n",
    "\n",
    "    def __init__(self, filename):\n",
    "        self._filename = filename\n",
    "        self._size = float(os.path.getsize(filename))\n",
    "        self._seen_so_far = 0\n",
    "        self._lock = threading.Lock()\n",
    "\n",
    "    def __call__(self, bytes_amount):\n",
    "        # To simplify, assume this is hooked up to a single filename\n",
    "        with self._lock:\n",
    "            self._seen_so_far += bytes_amount\n",
    "            percentage = (self._seen_so_far / self._size) * 100\n",
    "            sys.stdout.write(\n",
    "                \"\\r%s  %s / %s  (%.2f%%)\" % (\n",
    "                    self._filename, sizeof_fmt(self._seen_so_far), sizeof_fmt(self._size),\n",
    "                    percentage))\n",
    "            sys.stdout.flush()\n",
    "\n",
    "def s3_split_uri(uri):\n",
    "    assert '/' in uri, 'at least one / is required!'\n",
    "    uri = uri.replace('s3://', '')\n",
    "        \n",
    "    bucket = uri[:uri.find('/')]\n",
    "    key = uri[uri.find('/')+1:]\n",
    "    return bucket, key\n",
    "\n",
    "\n",
    "\n",
    "def upload_lambda(iam_client, lambda_client, lambda_function_name, lambda_role,\n",
    "                  lambda_zip_file, overwrite=False, s3_client=None, s3_scratch_space=None):\n",
    "    # AWS only allows 50MB to be uploaded directly via request. Else, requires S3 upload.\n",
    "    \n",
    "    ZIP_UPLOAD_LIMIT_SIZE=50000000 \n",
    "    \n",
    "    # Lambda defaults, be careful what to set here!\n",
    "    # for runtime, choose https://docs.aws.amazon.com/lambda/latest/dg/lambda-runtimes.html\n",
    "    RUNTIME=\"provided.al2\"\n",
    "    HANDLER=\"tplxlam\" # this is how the executable is called...\n",
    "    ARCHITECTURES=['x86_64']\n",
    "    DEFAULT_MEMORY_SIZE=1536\n",
    "    DEFAULT_TIMEOUT=30 # 30s timeout\n",
    "    \n",
    "    if not os.path.isfile(lambda_zip_file):\n",
    "        raise Exception('Could not find local lambda zip file {}'.format(lambda_zip_file))\n",
    "    file_size = os.stat(lambda_zip_file).st_size\n",
    "    \n",
    "    # if file size is smaller than limit, check how large the base64 encoded version is...\n",
    "    CODE = None\n",
    "    if file_size < ZIP_UPLOAD_LIMIT_SIZE:\n",
    "        logging.info('Encoding Lambda as base64 ({})'.format(sizeof_fmt(file_size)))\n",
    "        with open(lambda_zip_file, 'rb') as fp:\n",
    "            CODE = fp.read()\n",
    "            CODE = base64.b64encode(CODE)\n",
    "            b64_file_size = len(CODE) + 1\n",
    "            logging.info('File size as base64 is {}'.format(sizeof_fmt(b64_file_size)))\n",
    "    else:\n",
    "        b64_file_size = ZIP_UPLOAD_LIMIT_SIZE + 42 # to not trigger below if\n",
    "        \n",
    "    # get ARN of lambda role\n",
    "    response = iam_client.get_role(RoleName=lambda_role)\n",
    "    lambda_role_arn = response['Role']['Arn']\n",
    "        \n",
    "        \n",
    "    # check if Lambda function already exists, if overwrite delete!\n",
    "    l_response = lambda_client.list_functions(FunctionVersion='ALL')\n",
    "    functions = list(filter(lambda f: f['FunctionName'] == lambda_function_name, l_response['Functions']))\n",
    "    if len(functions) > 0:\n",
    "        if len(functions) != 1:\n",
    "            logging.warning('Found multiple functions with name {}, deleting them all.'.format(lambda_function_name))\n",
    "        \n",
    "        if not overwrite:\n",
    "            raise Exception('Found existing Lambda function {}, specify overwrite=True to replace'.format(lambda_function_name))\n",
    "        \n",
    "        for f in functions:\n",
    "            lambda_client.delete_function(FunctionName=f['FunctionName'])\n",
    "            logging.info('Removed existing function {} (Runtime={}, MemorySize={}) from {}'.format(f['FunctionName'],\n",
    "                                                                                         f['Runtime'],\n",
    "                                                                                         f['MemorySize'],\n",
    "                                                                                        f['LastModified']))\n",
    "        \n",
    "    logging.info('Assigning role {} to runner'.format(lambda_role_arn))\n",
    "        \n",
    "    user = current_user()\n",
    "    host = host_name()\n",
    "\n",
    "    DEPLOY_MESSAGE=\"Auto-deployed Tuplex Lambda Runner function.\" \\\n",
    "    \" Uploaded by {} from {} on {}\".format(user, host, datetime.datetime.now())\n",
    "    \n",
    "    \n",
    "    if b64_file_size < ZIP_UPLOAD_LIMIT_SIZE:\n",
    "        logging.info('Found packaged lambda ({})'.format(sizeof_fmt(file_size)))\n",
    "        \n",
    "        logging.info('Loading local zipped lambda...')\n",
    "\n",
    "        logging.info('Uploading Lambda to AWS ({})'.format(sizeof_fmt(file_size)))\n",
    "        try:\n",
    "            # upload directly, we use Custom \n",
    "            response = lambda_client.create_function(FunctionName=lambda_function_name,\n",
    "                                         Runtime=RUNTIME,\n",
    "                                         Handler=HANDLER,\n",
    "                                         Role=lambda_role_arn,\n",
    "                                         Code={'ZipFile': CODE}, \n",
    "                                         Description=DEPLOY_MESSAGE,\n",
    "                                         PackageType='Zip',\n",
    "                                         MemorySize=DEFAULT_MEMORY_SIZE,\n",
    "                                         Timeout=DEFAULT_TIMEOUT)\n",
    "        except Exception as e:\n",
    "            logging.error('Failed with: {}'.format(type(e)))\n",
    "            logging.error('Details: {}'.format(str(e)[:2048]))\n",
    "            raise e\n",
    "    else:\n",
    "        if s3_client is None or s3_scratch_space is None:\n",
    "            raise Exception(\"Local packaged lambda to large to upload directly, \" \\\n",
    "                            \"need S3. Please specify S3 client + scratch space\")\n",
    "        logging.info(\"Lambda function is larger than current limit ({}) AWS allows, \" \\\n",
    "                      \" deploying via S3...\".format(sizeof_fmt(ZIP_UPLOAD_LIMIT_SIZE)))\n",
    "        \n",
    "        # upload to s3 temporarily\n",
    "        s3_bucket, s3_key = s3_split_uri(s3_scratch_space)\n",
    "        \n",
    "        # scratch space, so naming doesn't matter\n",
    "        TEMP_NAME = 'lambda-deploy.zip'\n",
    "        s3_key_obj = s3_key + '/' + TEMP_NAME\n",
    "        s3_target_uri = 's3://' + s3_bucket + '/' + s3_key + '/' + TEMP_NAME\n",
    "        s3_client.upload_file(lambda_zip_file, s3_bucket, s3_key_obj, Callback=ProgressPercentage(lambda_zip_file))\n",
    "        logging.info('Deploying Lambda from S3 ({})'.format(s3_target_uri))\n",
    "        \n",
    "        try:\n",
    "            # upload directly, we use Custom \n",
    "            response = lambda_client.create_function(FunctionName=lambda_function_name,\n",
    "                                         Runtime=RUNTIME,\n",
    "                                         Handler=HANDLER,\n",
    "                                         Role=lambda_role_arn,\n",
    "                                         Code={'S3Bucket': s3_bucket, 'S3Key' : s3_key_obj}, \n",
    "                                         Description=DEPLOY_MESSAGE,\n",
    "                                         PackageType='Zip',\n",
    "                                         MemorySize=DEFAULT_MEMORY_SIZE,\n",
    "                                         Timeout=DEFAULT_TIMEOUT)\n",
    "        except Exception as e:\n",
    "            logging.error('Failed with: {}'.format(type(e)))\n",
    "            logging.error('Details: {}'.format(str(e)[:2048]))\n",
    "            \n",
    "            # delete S3 file from scratch\n",
    "            s3_client.delete_object(Bucket=s3_bucket, Key=s3_key_obj)\n",
    "            logging.info('Removed {} from S3'.format(s3_target_uri))\n",
    "            \n",
    "            raise e\n",
    "        \n",
    "        # delete S3 file from scratch\n",
    "        s3_client.delete_object(Bucket=s3_bucket, Key=s3_key_obj)\n",
    "        logging.info('Removed {} from S3'.format(s3_target_uri))\n",
    "    \n",
    "    # print out deployment details\n",
    "    logging.info('Lambda function {} deployed (MemorySize={}MB, Timeout={}).'.format(response['FunctionName'],\n",
    "                                                                                     response['MemorySize'],\n",
    "                                                                                    response['Timeout']))\n",
    "    \n",
    "    # return lambda response\n",
    "    return response\n",
    "        \n",
    "        \n",
    "s3_scratch = default_bucket_name() + '/scratch'\n",
    "upload_lambda(iam_client, lambda_client, lambda_function_name, lambda_role, lambda_zip_file, True, s3_client, s3_scratch)"
   ]
  },
  {
   "cell_type": "code",
   "execution_count": 75,
   "id": "f91ec0fd",
   "metadata": {},
   "outputs": [
    {
     "data": {
      "text/plain": [
       "{'ResponseMetadata': {'RequestId': '4934da7f-3c60-448b-9f3b-82646ffec61d',\n",
       "  'HTTPStatusCode': 200,\n",
       "  'HTTPHeaders': {'date': 'Thu, 04 Nov 2021 17:51:37 GMT',\n",
       "   'content-type': 'application/json',\n",
       "   'content-length': '6537',\n",
       "   'connection': 'keep-alive',\n",
       "   'x-amzn-requestid': '4934da7f-3c60-448b-9f3b-82646ffec61d'},\n",
       "  'RetryAttempts': 0},\n",
       " 'Functions': [{'FunctionName': 's3demo',\n",
       "   'FunctionArn': 'arn:aws:lambda:us-east-1:587583095482:function:s3demo',\n",
       "   'Runtime': 'provided',\n",
       "   'Role': 'arn:aws:iam::587583095482:role/lambda-demo',\n",
       "   'Handler': 's3demo',\n",
       "   'CodeSize': 22041513,\n",
       "   'Description': '',\n",
       "   'Timeout': 15,\n",
       "   'MemorySize': 256,\n",
       "   'LastModified': '2019-06-20T18:11:06.992+0000',\n",
       "   'CodeSha256': 'SeVXy3ZKbqLt8MF+iwh/SkU+zDfGjzCn275rurh0CLM=',\n",
       "   'Version': '$LATEST',\n",
       "   'VpcConfig': {'SubnetIds': [], 'SecurityGroupIds': [], 'VpcId': ''},\n",
       "   'TracingConfig': {'Mode': 'PassThrough'},\n",
       "   'RevisionId': '127d255e-c0cb-4074-abe2-1e84d55d39b6',\n",
       "   'PackageType': 'Zip'},\n",
       "  {'FunctionName': 'pywren_1',\n",
       "   'FunctionArn': 'arn:aws:lambda:us-east-1:587583095482:function:pywren_1',\n",
       "   'Runtime': 'python2.7',\n",
       "   'Role': 'arn:aws:iam::587583095482:role/pywren_exec_role_1',\n",
       "   'Handler': 'wrenhandler.aws_lambda_handler',\n",
       "   'CodeSize': 39974,\n",
       "   'Description': '',\n",
       "   'Timeout': 300,\n",
       "   'MemorySize': 1536,\n",
       "   'LastModified': '2019-06-11T20:56:48.137+0000',\n",
       "   'CodeSha256': 'NpeNNGBudJwaSLLMO9JPskZukdjnFzQ/x82MjlcbX7Q=',\n",
       "   'Version': '$LATEST',\n",
       "   'TracingConfig': {'Mode': 'PassThrough'},\n",
       "   'RevisionId': 'f2131b81-cab3-4101-a54e-734008ace985',\n",
       "   'PackageType': 'Zip'},\n",
       "  {'FunctionName': 'aws-deepracer-reward-fn-b110ace6-d9a9-4fbf-a40e-4d998a885127',\n",
       "   'FunctionArn': 'arn:aws:lambda:us-east-1:587583095482:function:aws-deepracer-reward-fn-b110ace6-d9a9-4fbf-a40e-4d998a885127',\n",
       "   'Runtime': 'python3.6',\n",
       "   'Role': 'arn:aws:iam::587583095482:role/service-role/AWSDeepRacerLambdaAccessRole',\n",
       "   'Handler': 'lambda_function.lambda_handler',\n",
       "   'CodeSize': 3317,\n",
       "   'Description': 'Test your AWS DeepRacer reward function',\n",
       "   'Timeout': 15,\n",
       "   'MemorySize': 128,\n",
       "   'LastModified': '2020-03-02T23:09:42.862+0000',\n",
       "   'CodeSha256': 'KVt2MczujcwQpxVw2cr2aqDZA7yyVBXvEVzUGoyIs58=',\n",
       "   'Version': '$LATEST',\n",
       "   'TracingConfig': {'Mode': 'PassThrough'},\n",
       "   'RevisionId': '04ddb227-707a-4e87-b4f9-4af62dbd27ed',\n",
       "   'PackageType': 'Zip'},\n",
       "  {'FunctionName': 'demo',\n",
       "   'FunctionArn': 'arn:aws:lambda:us-east-1:587583095482:function:demo',\n",
       "   'Runtime': 'provided',\n",
       "   'Role': 'arn:aws:iam::587583095482:role/lambda-demo',\n",
       "   'Handler': 'demo',\n",
       "   'CodeSize': 11019477,\n",
       "   'Description': '',\n",
       "   'Timeout': 15,\n",
       "   'MemorySize': 128,\n",
       "   'LastModified': '2019-06-11T17:56:13.761+0000',\n",
       "   'CodeSha256': 'dCpYrVjRENXnfzLj0IwGtlv1ecpvm/FsMFMqCzKPZX8=',\n",
       "   'Version': '$LATEST',\n",
       "   'TracingConfig': {'Mode': 'PassThrough'},\n",
       "   'RevisionId': '3bf3e50b-e783-47fb-a234-f641e42e8a83',\n",
       "   'PackageType': 'Zip'},\n",
       "  {'FunctionName': 'tplxlam',\n",
       "   'FunctionArn': 'arn:aws:lambda:us-east-1:587583095482:function:tplxlam',\n",
       "   'Runtime': 'provided',\n",
       "   'Role': 'arn:aws:iam::587583095482:role/lambda-demo',\n",
       "   'Handler': 'tplxlam',\n",
       "   'CodeSize': 42179772,\n",
       "   'Description': '',\n",
       "   'Timeout': 600,\n",
       "   'MemorySize': 1536,\n",
       "   'LastModified': '2021-03-12T20:45:14.554+0000',\n",
       "   'CodeSha256': 'yl3P7H8QVCOmxwlmtRbggCQgQCWJKxoS1UWuXYpbwOg=',\n",
       "   'Version': '$LATEST',\n",
       "   'VpcConfig': {'SubnetIds': [], 'SecurityGroupIds': [], 'VpcId': ''},\n",
       "   'TracingConfig': {'Mode': 'PassThrough'},\n",
       "   'RevisionId': 'f8c339f4-2071-4cab-8cc2-ae883082436f',\n",
       "   'PackageType': 'Zip'},\n",
       "  {'FunctionName': 'python_3_6_lambda_test',\n",
       "   'FunctionArn': 'arn:aws:lambda:us-east-1:587583095482:function:python_3_6_lambda_test',\n",
       "   'Runtime': 'python3.6',\n",
       "   'Role': 'arn:aws:iam::587583095482:role/lambda-s3-role',\n",
       "   'Handler': 'lambda_function.lambda_handler',\n",
       "   'CodeSize': 299,\n",
       "   'Description': '',\n",
       "   'Timeout': 3,\n",
       "   'MemorySize': 128,\n",
       "   'LastModified': '2019-06-10T18:49:08.610+0000',\n",
       "   'CodeSha256': 'ZQukCqxtkqFgyF2cU41Avj99TKQ/hNihPtDtRcc08mI=',\n",
       "   'Version': '$LATEST',\n",
       "   'TracingConfig': {'Mode': 'PassThrough'},\n",
       "   'RevisionId': 'dc40c981-ba1f-4fd3-a766-aec978f4a6f9',\n",
       "   'PackageType': 'Zip'},\n",
       "  {'FunctionName': 'warmer3',\n",
       "   'FunctionArn': 'arn:aws:lambda:us-east-1:587583095482:function:warmer3',\n",
       "   'Runtime': 'provided',\n",
       "   'Role': 'arn:aws:iam::587583095482:role/lambda-demo',\n",
       "   'Handler': 'warmer3',\n",
       "   'CodeSize': 20205064,\n",
       "   'Description': '',\n",
       "   'Timeout': 15,\n",
       "   'MemorySize': 128,\n",
       "   'LastModified': '2019-07-12T01:56:26.106+0000',\n",
       "   'CodeSha256': 'fwfW+ITktkp6lWG8rMrQSBFSurEjTKlKugAC9O90N8w=',\n",
       "   'Version': '$LATEST',\n",
       "   'TracingConfig': {'Mode': 'PassThrough'},\n",
       "   'RevisionId': '87fba1f9-6c32-40cc-9ecc-c631a1f8b26d',\n",
       "   'PackageType': 'Zip'}]}"
      ]
     },
     "execution_count": 75,
     "metadata": {},
     "output_type": "execute_result"
    }
   ],
   "source": [
    "l_response = lambda_client.list_functions()\n",
    "\n",
    "l_response"
   ]
  },
  {
   "cell_type": "code",
   "execution_count": 77,
   "id": "94059254",
   "metadata": {},
   "outputs": [],
   "source": []
  },
  {
   "cell_type": "code",
   "execution_count": null,
   "id": "f0d8bad9",
   "metadata": {},
   "outputs": [],
   "source": [
    "# need to specify the "
   ]
  },
  {
   "cell_type": "code",
   "execution_count": null,
   "id": "dfa895b1",
   "metadata": {},
   "outputs": [],
   "source": [
    "!aws s3 cp s3://tuplex-public/tplxlam.zip . --request-payer requester"
   ]
  },
  {
   "cell_type": "code",
   "execution_count": null,
   "id": "4291cba3",
   "metadata": {},
   "outputs": [],
   "source": [
    "!aws s3 cp s3://tuplex-public/tplxlam.zip ."
   ]
  },
  {
   "cell_type": "code",
   "execution_count": null,
   "id": "cc5ae3c4",
   "metadata": {},
   "outputs": [],
   "source": [
    "# Note: S3 will give fatal error: An error occurred (403) when calling the HeadObject operation: Forbidden in case."
   ]
  },
  {
   "cell_type": "code",
   "execution_count": null,
   "id": "964dbcff",
   "metadata": {},
   "outputs": [],
   "source": []
  },
  {
   "cell_type": "code",
   "execution_count": null,
   "id": "2594bb00",
   "metadata": {},
   "outputs": [],
   "source": [
    "response = iam_client.get_role(RoleName=lambda_role)\n",
    "print(response)"
   ]
  },
  {
   "cell_type": "code",
   "execution_count": null,
   "id": "e574f35f",
   "metadata": {},
   "outputs": [],
   "source": [
    "iam_client.list_role_policies(RoleName=lambda_role)"
   ]
  },
  {
   "cell_type": "code",
   "execution_count": null,
   "id": "758abbc7",
   "metadata": {},
   "outputs": [],
   "source": [
    "iam_client.attach_role_policy(RoleName=lambda_role, PolicyArn='arn:aws:iam::aws:policy/service-role/AWSLambdaBasicExecutionRole')"
   ]
  },
  {
   "cell_type": "code",
   "execution_count": null,
   "id": "2c25ace8",
   "metadata": {},
   "outputs": [],
   "source": [
    "help(iam_client.put_role_policy)"
   ]
  },
  {
   "cell_type": "code",
   "execution_count": null,
   "id": "fb4c899c",
   "metadata": {},
   "outputs": [],
   "source": [
    "remove_lambda_role(iam_client, 'tuplex-lambda-role')"
   ]
  },
  {
   "cell_type": "code",
   "execution_count": null,
   "id": "e71fb365",
   "metadata": {},
   "outputs": [],
   "source": [
    "!cat /var/folders/l7/8zgzcszx7z5gk7kk92f6nc1c0000gn/T/tmp8qrc12_k"
   ]
  },
  {
   "cell_type": "code",
   "execution_count": null,
   "id": "a458a573",
   "metadata": {},
   "outputs": [],
   "source": [
    "help(iam_client.create_role)"
   ]
  },
  {
   "cell_type": "code",
   "execution_count": null,
   "id": "ebc61f19",
   "metadata": {},
   "outputs": [],
   "source": [
    "iam_client = boto3.client('iam')"
   ]
  },
  {
   "cell_type": "code",
   "execution_count": null,
   "id": "ad325c99",
   "metadata": {},
   "outputs": [],
   "source": [
    "iam = boto3.resource('iam')\n",
    "account_summary = iam.AccountSummary()"
   ]
  },
  {
   "cell_type": "code",
   "execution_count": null,
   "id": "e0ff287c",
   "metadata": {},
   "outputs": [],
   "source": [
    "account_summary.load()"
   ]
  },
  {
   "cell_type": "code",
   "execution_count": null,
   "id": "185401f7",
   "metadata": {},
   "outputs": [],
   "source": [
    "account_summary.get_available_subresources()"
   ]
  },
  {
   "cell_type": "code",
   "execution_count": null,
   "id": "b7ea2e88",
   "metadata": {},
   "outputs": [],
   "source": [
    "account_summary.summary_map"
   ]
  },
  {
   "cell_type": "code",
   "execution_count": null,
   "id": "707285c5",
   "metadata": {},
   "outputs": [],
   "source": [
    "user = iam.CurrentUser()"
   ]
  },
  {
   "cell_type": "code",
   "execution_count": null,
   "id": "dacc7594",
   "metadata": {},
   "outputs": [],
   "source": [
    "user.user_name"
   ]
  },
  {
   "cell_type": "code",
   "execution_count": null,
   "id": "26552b91",
   "metadata": {},
   "outputs": [],
   "source": [
    "user.user_id"
   ]
  },
  {
   "cell_type": "code",
   "execution_count": null,
   "id": "c7ced4f0",
   "metadata": {},
   "outputs": [],
   "source": [
    "user.get_available_subresources()"
   ]
  },
  {
   "cell_type": "code",
   "execution_count": null,
   "id": "8b67b05e",
   "metadata": {},
   "outputs": [],
   "source": []
  }
 ],
 "metadata": {
  "kernelspec": {
   "display_name": "Python 3",
   "language": "python",
   "name": "python3"
  },
  "language_info": {
   "codemirror_mode": {
    "name": "ipython",
    "version": 3
   },
   "file_extension": ".py",
   "mimetype": "text/x-python",
   "name": "python",
   "nbconvert_exporter": "python",
   "pygments_lexer": "ipython3",
   "version": "3.9.7"
  }
 },
 "nbformat": 4,
 "nbformat_minor": 5
}
