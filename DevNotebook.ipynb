{
 "cells": [
  {
   "cell_type": "code",
   "execution_count": 157,
   "id": "a94fb1e0",
   "metadata": {},
   "outputs": [],
   "source": [
    "import boto3\n",
    "import tempfile\n",
    "import logging\n",
    "import os"
   ]
  },
  {
   "cell_type": "code",
   "execution_count": 57,
   "id": "29a10f6f",
   "metadata": {},
   "outputs": [],
   "source": [
    "import logging\n",
    "logger = logging.getLogger()\n",
    "logger.setLevel(logging.INFO)"
   ]
  },
  {
   "cell_type": "code",
   "execution_count": 58,
   "id": "a2a4828b",
   "metadata": {},
   "outputs": [],
   "source": [
    "logging.debug('hello')"
   ]
  },
  {
   "cell_type": "code",
   "execution_count": 37,
   "id": "d79c3f27",
   "metadata": {},
   "outputs": [],
   "source": [
    "# Let's use Amazon S3\n",
    "s3 = boto3.resource('s3')"
   ]
  },
  {
   "cell_type": "code",
   "execution_count": 38,
   "id": "81b4c470",
   "metadata": {},
   "outputs": [
    {
     "name": "stdout",
     "output_type": "stream",
     "text": [
      "aws-deepracer-3f4fbafa-e09c-412c-8491-baeb4b0bffb7\n",
      "bbsn00\n",
      "bmwcpo\n",
      "tuplex\n",
      "tuplex-public\n",
      "tuplex-test\n"
     ]
    }
   ],
   "source": [
    "# Tuplex needs a bucket.\n",
    "# => create one tuplex-<iam-user> per default.\n",
    "# => this is where stuff gets stored.\n",
    "\n",
    "# layout bucket like this:\n",
    "# tuplex-<iam-user>/notebooks\n",
    "# tuplex-<iam-user>/data\n",
    "# tuplex-<iam-user>/scratch\n",
    "\n",
    "# upload lambda function as\n",
    "# tuplex-runner\n",
    "\n",
    "# -> add versioning to tuplex-runner! => allow for auto upload?\n",
    "\n",
    "\n",
    "# Print out bucket names\n",
    "for bucket in s3.buckets.all():\n",
    "    print(bucket.name)"
   ]
  },
  {
   "cell_type": "code",
   "execution_count": 131,
   "id": "c90b472a",
   "metadata": {},
   "outputs": [
    {
     "name": "stderr",
     "output_type": "stream",
     "text": [
      "INFO:root:Setting up AWS Lambda backend for IAM user leonhard\n",
      "INFO:root:Configuring backend in zone: us-east-1\n"
     ]
    }
   ],
   "source": [
    "def current_iam_user():\n",
    "    iam = boto3.resource('iam')\n",
    "    user = iam.CurrentUser()\n",
    "    return user.user_name.lower()\n",
    "\n",
    "def default_lambda_name():\n",
    "    return 'tuplex-lambda-runner'\n",
    "\n",
    "def default_lambda_role():\n",
    "    return 'tuplex-lambda-role'\n",
    "\n",
    "def default_bucket_name():\n",
    "    return 'tuplex-' + current_iam_user()\n",
    "\n",
    "def current_region():\n",
    "    session = boto3.session.Session()\n",
    "    region = session.region_name\n",
    "    return region\n",
    "\n",
    "def setup_aws(iam_user=current_iam_user(),\n",
    "              lambda_name=default_lambda_name(),\n",
    "              lambda_role=default_lambda_role(),\n",
    "              region=current_region()\n",
    "              ):\n",
    "    logging.info('Setting up AWS Lambda backend for IAM user {}'.format(iam_user))\n",
    "    logging.info('Configuring backend in zone: {}'.format(region))\n",
    "    \n",
    "    # check if iam user is found?\n",
    "    # --> skip for now, later properly authenticate using assume_role as described in\n",
    "    # https://docs.aws.amazon.com/IAM/latest/UserGuide/id_roles_use_switch-role-api.html\n",
    "    \n",
    "    # step 1: create Lambda role if not exists\n",
    "    iam = boto3.resource('iam')\n",
    "    \n",
    "    \n",
    "   \n",
    "    \n",
    "setup_aws()"
   ]
  },
  {
   "cell_type": "code",
   "execution_count": 50,
   "id": "e19df3bd",
   "metadata": {},
   "outputs": [],
   "source": [
    "iam = boto3.resource('iam')\n",
    "iam_client = boto3.client('iam')"
   ]
  },
  {
   "cell_type": "code",
   "execution_count": 113,
   "id": "42422234",
   "metadata": {},
   "outputs": [],
   "source": [
    "lambda_role=default_lambda_role()\n",
    "\n",
    "region = current_region()\n",
    "overwrite = True\n",
    "\n",
    "\n",
    "def create_lambda_role(iam_client, lambda_role):\n",
    "    \n",
    "    # Roles required for AWS Lambdas\n",
    "    trust_policy = '{\"Version\":\"2012-10-17\",\"Statement\":[{\"Effect\":\"Allow\",\"Principal\":{\"Service\":\"lambda.amazonaws.com\"},\"Action\":\"sts:AssumeRole\"}]}'\n",
    "    lambda_access_to_s3 = '{\"Version\":\"2012-10-17\",\"Statement\":[{\"Effect\":\"Allow\",\"Action\":[\"s3:*MultipartUpload*\",\"s3:Get*\",\"s3:ListBucket\",\"s3:Put*\"],\"Resource\":\"*\"}]}'\n",
    "    lambda_invoke_others = '{\"Version\":\"2012-10-17\",\"Statement\":[{\"Effect\":\"Allow\",\"Action\":[\"lambda:InvokeFunction\",\"lambda:InvokeAsync\"],\"Resource\":\"*\"}]}'\n",
    "\n",
    "    iam_client.create_role(RoleName=lambda_role,\n",
    "                           AssumeRolePolicyDocument=trust_policy,\n",
    "                           Description='Auto-created Role for Tuplex AWS Lambda runner')\n",
    "    iam_client.attach_role_policy(RoleName=lambda_role, PolicyArn='arn:aws:iam::aws:policy/service-role/AWSLambdaBasicExecutionRole')\n",
    "    iam_client.put_role_policy(RoleName=lambda_role, PolicyName='InvokeOtherlambdas', PolicyDocument=lambda_invoke_others)\n",
    "    iam_client.put_role_policy(RoleName=lambda_role, PolicyName='LambdaAccessForS3', PolicyDocument=lambda_access_to_s3)\n",
    "    logging.info('Created Tuplex AWS Lambda runner role ({})'.format(lambda_role))\n",
    "    \n",
    "    # check it exists\n",
    "    try:\n",
    "        response = iam_client.get_role(RoleName=lambda_role)\n",
    "        print(response)\n",
    "    except:\n",
    "        raise Exception('Failed to create AWS Lambda Role')\n",
    "    \n",
    "def remove_lambda_role(iam_client, lambda_role):\n",
    "    \n",
    "    # detach policies...\n",
    "    try:\n",
    "        iam_client.detach_role_policy(RoleName=lambda_role, PolicyArn='arn:aws:iam::aws:policy/service-role/AWSLambdaBasicExecutionRole')\n",
    "    except Exception as e:\n",
    "        logging.error('Error while detaching policy AWSLambdaBasicExecutionRole, Tuplex setup corrupted? Details: {}'.format(e))\n",
    "        \n",
    "    policy_names = iam_client.list_role_policies(RoleName=lambda_role)['PolicyNames']\n",
    "    \n",
    "    for name in policy_names:\n",
    "        try:\n",
    "            iam_client.delete_role_policy(RoleName=lambda_role, PolicyName=name)\n",
    "        except Exception as e:\n",
    "            logging.error('Error while detaching policy {}, Tuplex setup corrupted? Details: {}'.format(name, e))\n",
    "        \n",
    "    # delete role...\n",
    "    iam_client.delete_role(RoleName=lambda_role)\n",
    "\n",
    "def setup_lambda_role(iam_client, lambda_role, region, overwrite):\n",
    "    try:\n",
    "        response = iam_client.get_role(RoleName=lambda_role)\n",
    "        logging.info('Found Lambda role from {}'.format(response['Role']['CreateDate']))\n",
    "\n",
    "         # throw dummy exception to force overwrite\n",
    "        if overwrite:\n",
    "            remove_lambda_role(iam_client, lambda_role)\n",
    "            logging.info('Overwriting existing role {}'.format(lambda_role))\n",
    "            create_lambda_role(iam_client, lambda_role)\n",
    "\n",
    "    except iam_client.exceptions.NoSuchEntityException as e:\n",
    "        logging.info('Role {} was not found in {}, creating ...'.format(lambda_role, region))\n",
    "        create_lambda_role(iam_client, lambda_role)"
   ]
  },
  {
   "cell_type": "markdown",
   "id": "beea0259",
   "metadata": {},
   "source": [
    "## Creating/specifying s3 scratch space"
   ]
  },
  {
   "cell_type": "code",
   "execution_count": 136,
   "id": "04198383",
   "metadata": {},
   "outputs": [],
   "source": [
    "s3_client = boto3.client('s3', region_name=current_region())"
   ]
  },
  {
   "cell_type": "code",
   "execution_count": 128,
   "id": "7dabd793",
   "metadata": {},
   "outputs": [
    {
     "data": {
      "text/plain": [
       "['aws-deepracer-3f4fbafa-e09c-412c-8491-baeb4b0bffb7',\n",
       " 'bbsn00',\n",
       " 'bmwcpo',\n",
       " 'tuplex',\n",
       " 'tuplex-public',\n",
       " 'tuplex-test']"
      ]
     },
     "execution_count": 128,
     "metadata": {},
     "output_type": "execute_result"
    }
   ],
   "source": [
    "\n",
    "bucket_names"
   ]
  },
  {
   "cell_type": "code",
   "execution_count": 129,
   "id": "bb2d9473",
   "metadata": {},
   "outputs": [],
   "source": [
    "# create bucket if it not exists (private one)"
   ]
  },
  {
   "cell_type": "code",
   "execution_count": 133,
   "id": "26ac9f84",
   "metadata": {},
   "outputs": [
    {
     "data": {
      "text/plain": [
       "'tuplex-leonhard'"
      ]
     },
     "execution_count": 133,
     "metadata": {},
     "output_type": "execute_result"
    }
   ],
   "source": [
    "default_bucket_name()"
   ]
  },
  {
   "cell_type": "code",
   "execution_count": 144,
   "id": "110a6cf2",
   "metadata": {},
   "outputs": [
    {
     "name": "stderr",
     "output_type": "stream",
     "text": [
      "INFO:root:Found bucket tuplex-leonhard\n"
     ]
    }
   ],
   "source": [
    "def ensure_s3_bucket(s3_client, bucket_name, region):\n",
    "    bucket_names = list(map(lambda b: b['Name'], s3_client.list_buckets()['Buckets']))\n",
    "    \n",
    "    if bucket_name not in bucket_names:\n",
    "        logging.info('Bucket {} not found, creating (private bucket) in {} ...'.format(bucket_name, region))\n",
    "        \n",
    "        # bug in boto3: \n",
    "        if region == current_region():\n",
    "            s3_client.create_bucket(Bucket=bucket_name)\n",
    "            logging.info('Bucket {} created in {}'.format(bucket_name, region))\n",
    "        else:\n",
    "            location = {'LocationConstraint': region.strip()}\n",
    "            s3_client.create_bucket(Bucket=bucket_name,\n",
    "                                    CreateBucketConfiguration=location)\n",
    "            logging.info('Bucket {} created in {}'.format(bucket_name, region))\n",
    "    else:\n",
    "        logging.info('Found bucket {}'.format(bucket_name))\n",
    "    \n",
    "ensure_s3_bucket(s3_client, default_bucket_name(), current_region())"
   ]
  },
  {
   "cell_type": "markdown",
   "id": "434489ec",
   "metadata": {},
   "source": [
    "### Creating/uploading actual lambda function"
   ]
  },
  {
   "cell_type": "code",
   "execution_count": 114,
   "id": "b8e6acd9",
   "metadata": {},
   "outputs": [],
   "source": [
    "lambda_client = boto3.client('lambda')"
   ]
  },
  {
   "cell_type": "code",
   "execution_count": 156,
   "id": "574be5ed",
   "metadata": {},
   "outputs": [
    {
     "name": "stderr",
     "output_type": "stream",
     "text": [
      "INFO:root:Function tuplex-lambda-runner was not found in us-east-1, uploading ...\n"
     ]
    }
   ],
   "source": [
    "lambda_function_name=default_lambda_name()\n",
    "lambda_zip_file = './tplxlam.zip'\n",
    "\n",
    "try:\n",
    "    response = lambda_client.get_function(FunctionName=lambda_function_name)\n",
    "    print(response)\n",
    "except lambda_client.exceptions.ResourceNotFoundException as e:\n",
    "    logging.info('Function {} was not found in {}, uploading ...'.format(lambda_function_name, region))\n",
    "    "
   ]
  },
  {
   "cell_type": "code",
   "execution_count": 159,
   "id": "9b2ab4e5",
   "metadata": {},
   "outputs": [
    {
     "data": {
      "text/plain": [
       "46065298"
      ]
     },
     "execution_count": 159,
     "metadata": {},
     "output_type": "execute_result"
    }
   ],
   "source": [
    "def sizeof_fmt(num, suffix=\"B\"):\n",
    "    # from https://stackoverflow.com/questions/1094841/get-human-readable-version-of-file-size\n",
    "    for unit in [\"\", \"Ki\", \"Mi\", \"Gi\", \"Ti\", \"Pi\", \"Ei\", \"Zi\"]:\n",
    "        if abs(num) < 1024.0:\n",
    "            return f\"{num:3.1f}{unit}{suffix}\"\n",
    "        num /= 1024.0\n",
    "    return f\"{num:.1f}Yi{suffix}\"\n",
    "\n",
    "\n",
    "def upload_lambda(lambda_function_name, lambda_zip_file, overwrite=False, s3_client=None, s3_scratch_space=None):\n",
    "    # AWS only allows 50MB to be uploaded directly via request. Else, requires S3 upload.\n",
    "    \n",
    "    ZIP_UPLOAD_LIMIT_SIZE=50000000 \n",
    "    \n",
    "    if not os.path.isfile(lambda_zip_file):\n",
    "        raise Exception('Could not find local lambda zip file {}'.format(lambda_zip_file))\n",
    "    file_size = os.stat(lambda_zip_file).st_size\n",
    "    if file_size < ZIP_UPLOAD_LIMIT_SIZE:\n",
    "        logging.info('Found packaged lambda ({})'.format(sizeof_fmt(file_size)))\n",
    "        \n",
    "        # upload directly\n",
    "        \n",
    "    else:\n",
    "        if s3_client is None or s3_scratch_space is None:\n",
    "            raise Exception(\"Local packaged lambda to large to upload directly, \" \\\n",
    "                            \"need S3. Please specify S3 client + scratch space\")\n",
    "        # upload to s3 temporarily\n",
    "        \n",
    "        # delete temp s3 file after delete."
   ]
  },
  {
   "cell_type": "code",
   "execution_count": null,
   "id": "fd1f2a6c",
   "metadata": {},
   "outputs": [],
   "source": []
  },
  {
   "cell_type": "code",
   "execution_count": null,
   "id": "771d72dd",
   "metadata": {},
   "outputs": [],
   "source": [
    "# need to specify the "
   ]
  },
  {
   "cell_type": "code",
   "execution_count": 151,
   "id": "bb80a39c",
   "metadata": {},
   "outputs": [
    {
     "name": "stdout",
     "output_type": "stream",
     "text": [
      "fatal error: An error occurred (403) when calling the HeadObject operation: Forbidden\r\n"
     ]
    }
   ],
   "source": [
    "!aws s3 cp s3://tuplex-public/tplxlam.zip . --request-payer requester"
   ]
  },
  {
   "cell_type": "code",
   "execution_count": 149,
   "id": "44c35f28",
   "metadata": {},
   "outputs": [
    {
     "name": "stdout",
     "output_type": "stream",
     "text": [
      "fatal error: An error occurred (403) when calling the HeadObject operation: Forbidden\r\n"
     ]
    }
   ],
   "source": [
    "!aws s3 cp s3://tuplex-public/tplxlam.zip ."
   ]
  },
  {
   "cell_type": "code",
   "execution_count": 152,
   "id": "fea0ead9",
   "metadata": {},
   "outputs": [],
   "source": [
    "# Note: S3 will give fatal error: An error occurred (403) when calling the HeadObject operation: Forbidden in case."
   ]
  },
  {
   "cell_type": "code",
   "execution_count": null,
   "id": "7540d032",
   "metadata": {},
   "outputs": [],
   "source": []
  },
  {
   "cell_type": "code",
   "execution_count": 112,
   "id": "728972ee",
   "metadata": {},
   "outputs": [
    {
     "name": "stdout",
     "output_type": "stream",
     "text": [
      "{'Role': {'Path': '/', 'RoleName': 'tuplex-lambda-role', 'RoleId': 'AROAYRTVOQK5OLPIZZBZC', 'Arn': 'arn:aws:iam::587583095482:role/tuplex-lambda-role', 'CreateDate': datetime.datetime(2021, 11, 3, 19, 28, 9, tzinfo=tzutc()), 'AssumeRolePolicyDocument': {'Version': '2012-10-17', 'Statement': [{'Effect': 'Allow', 'Principal': {'Service': 'lambda.amazonaws.com'}, 'Action': 'sts:AssumeRole'}]}, 'Description': 'Auto-created Role for Tuplex AWS Lambda runner', 'MaxSessionDuration': 3600, 'RoleLastUsed': {}}, 'ResponseMetadata': {'RequestId': '9e88216b-d2ce-4051-9ed3-17070ca499d6', 'HTTPStatusCode': 200, 'HTTPHeaders': {'x-amzn-requestid': '9e88216b-d2ce-4051-9ed3-17070ca499d6', 'content-type': 'text/xml', 'content-length': '905', 'date': 'Wed, 03 Nov 2021 19:29:40 GMT'}, 'RetryAttempts': 0}}\n"
     ]
    }
   ],
   "source": [
    "response = iam_client.get_role(RoleName=lambda_role)\n",
    "print(response)"
   ]
  },
  {
   "cell_type": "code",
   "execution_count": 106,
   "id": "3a54e7ac",
   "metadata": {},
   "outputs": [
    {
     "data": {
      "text/plain": [
       "{'PolicyNames': ['InvokeOtherlambdas', 'LambdaAccessForS3'],\n",
       " 'IsTruncated': False,\n",
       " 'ResponseMetadata': {'RequestId': 'ee166a86-0c58-421d-9b5d-1b2db11337f7',\n",
       "  'HTTPStatusCode': 200,\n",
       "  'HTTPHeaders': {'x-amzn-requestid': 'ee166a86-0c58-421d-9b5d-1b2db11337f7',\n",
       "   'content-type': 'text/xml',\n",
       "   'content-length': '424',\n",
       "   'date': 'Wed, 03 Nov 2021 19:24:01 GMT'},\n",
       "  'RetryAttempts': 0}}"
      ]
     },
     "execution_count": 106,
     "metadata": {},
     "output_type": "execute_result"
    }
   ],
   "source": [
    "iam_client.list_role_policies(RoleName=lambda_role)"
   ]
  },
  {
   "cell_type": "code",
   "execution_count": null,
   "id": "8737977b",
   "metadata": {},
   "outputs": [],
   "source": [
    "iam_client.attach_role_policy(RoleName=lambda_role, PolicyArn='arn:aws:iam::aws:policy/service-role/AWSLambdaBasicExecutionRole')"
   ]
  },
  {
   "cell_type": "code",
   "execution_count": 96,
   "id": "a9041482",
   "metadata": {},
   "outputs": [
    {
     "name": "stdout",
     "output_type": "stream",
     "text": [
      "Help on method put_role_policy in module botocore.client:\n",
      "\n",
      "put_role_policy(*args, **kwargs) method of botocore.client.IAM instance\n",
      "    Adds or updates an inline policy document that is embedded in the specified IAM role.\n",
      "    \n",
      "     \n",
      "    \n",
      "    When you embed an inline policy in a role, the inline policy is used as part of the role's access (permissions) policy. The role's trust policy is created at the same time as the role, using  CreateRole . You can update a role's trust policy using  UpdateAssumeRolePolicy . For more information about IAM roles, see `Using roles to delegate permissions and federate identities <https://docs.aws.amazon.com/IAM/latest/UserGuide/roles-toplevel.html>`__ .\n",
      "    \n",
      "     \n",
      "    \n",
      "    A role can also have a managed policy attached to it. To attach a managed policy to a role, use  AttachRolePolicy . To create a new managed policy, use  CreatePolicy . For information about policies, see `Managed policies and inline policies <https://docs.aws.amazon.com/IAM/latest/UserGuide/policies-managed-vs-inline.html>`__ in the *IAM User Guide* .\n",
      "    \n",
      "     \n",
      "    \n",
      "    For information about the maximum number of inline policies that you can embed with a role, see `IAM and STS quotas <https://docs.aws.amazon.com/IAM/latest/UserGuide/reference_iam-quotas.html>`__ in the *IAM User Guide* .\n",
      "    \n",
      "     \n",
      "    \n",
      "    .. note::\n",
      "    \n",
      "       \n",
      "    \n",
      "      Because policy documents can be large, you should use POST rather than GET when calling ``PutRolePolicy`` . For general information about using the Query API with IAM, see `Making query requests <https://docs.aws.amazon.com/IAM/latest/UserGuide/IAM_UsingQueryAPI.html>`__ in the *IAM User Guide* .\n",
      "    \n",
      "       \n",
      "    \n",
      "    \n",
      "    \n",
      "    See also: `AWS API Documentation <https://docs.aws.amazon.com/goto/WebAPI/iam-2010-05-08/PutRolePolicy>`_\n",
      "    \n",
      "    \n",
      "    **Request Syntax** \n",
      "    ::\n",
      "    \n",
      "      response = client.put_role_policy(\n",
      "          RoleName='string',\n",
      "          PolicyName='string',\n",
      "          PolicyDocument='string'\n",
      "      )\n",
      "    :type RoleName: string\n",
      "    :param RoleName: **[REQUIRED]** \n",
      "    \n",
      "      The name of the role to associate the policy with.\n",
      "    \n",
      "       \n",
      "    \n",
      "      This parameter allows (through its `regex pattern <http://wikipedia.org/wiki/regex>`__ ) a string of characters consisting of upper and lowercase alphanumeric characters with no spaces. You can also include any of the following characters: _+=,.@-\n",
      "    \n",
      "      \n",
      "    \n",
      "    \n",
      "    :type PolicyName: string\n",
      "    :param PolicyName: **[REQUIRED]** \n",
      "    \n",
      "      The name of the policy document.\n",
      "    \n",
      "       \n",
      "    \n",
      "      This parameter allows (through its `regex pattern <http://wikipedia.org/wiki/regex>`__ ) a string of characters consisting of upper and lowercase alphanumeric characters with no spaces. You can also include any of the following characters: _+=,.@-\n",
      "    \n",
      "      \n",
      "    \n",
      "    \n",
      "    :type PolicyDocument: string\n",
      "    :param PolicyDocument: **[REQUIRED]** \n",
      "    \n",
      "      The policy document.\n",
      "    \n",
      "       \n",
      "    \n",
      "      You must provide policies in JSON format in IAM. However, for AWS CloudFormation templates formatted in YAML, you can provide the policy in JSON or YAML format. AWS CloudFormation always converts a YAML policy to JSON format before submitting it to IAM.\n",
      "    \n",
      "       \n",
      "    \n",
      "      The `regex pattern <http://wikipedia.org/wiki/regex>`__ used to validate this parameter is a string of characters consisting of the following:\n",
      "    \n",
      "       \n",
      "    \n",
      "       \n",
      "      * Any printable ASCII character ranging from the space character (``\\u0020`` ) through the end of the ASCII character range \n",
      "       \n",
      "      * The printable characters in the Basic Latin and Latin-1 Supplement character set (through ``\\u00FF`` ) \n",
      "       \n",
      "      * The special characters tab (``\\u0009`` ), line feed (``\\u000A`` ), and carriage return (``\\u000D`` ) \n",
      "       \n",
      "    \n",
      "      \n",
      "    \n",
      "    \n",
      "    \n",
      "    :returns: None\n",
      "\n"
     ]
    }
   ],
   "source": [
    "help(iam_client.put_role_policy)"
   ]
  },
  {
   "cell_type": "code",
   "execution_count": 93,
   "id": "5176c04c",
   "metadata": {},
   "outputs": [],
   "source": [
    "remove_lambda_role(iam_client, 'tuplex-lambda-role')"
   ]
  },
  {
   "cell_type": "code",
   "execution_count": 76,
   "id": "77b1f396",
   "metadata": {},
   "outputs": [
    {
     "name": "stdout",
     "output_type": "stream",
     "text": [
      "cat: /var/folders/l7/8zgzcszx7z5gk7kk92f6nc1c0000gn/T/tmp8qrc12_k: No such file or directory\r\n"
     ]
    }
   ],
   "source": [
    "!cat /var/folders/l7/8zgzcszx7z5gk7kk92f6nc1c0000gn/T/tmp8qrc12_k"
   ]
  },
  {
   "cell_type": "code",
   "execution_count": 65,
   "id": "9c5f6d1a",
   "metadata": {},
   "outputs": [
    {
     "name": "stdout",
     "output_type": "stream",
     "text": [
      "Help on method create_role in module botocore.client:\n",
      "\n",
      "create_role(*args, **kwargs) method of botocore.client.IAM instance\n",
      "    Creates a new role for your AWS account. For more information about roles, see `IAM roles <https://docs.aws.amazon.com/IAM/latest/UserGuide/WorkingWithRoles.html>`__ . For information about quotas for role names and the number of roles you can create, see `IAM and STS quotas <https://docs.aws.amazon.com/IAM/latest/UserGuide/reference_iam-quotas.html>`__ in the *IAM User Guide* .\n",
      "    \n",
      "    \n",
      "    \n",
      "    See also: `AWS API Documentation <https://docs.aws.amazon.com/goto/WebAPI/iam-2010-05-08/CreateRole>`_\n",
      "    \n",
      "    \n",
      "    **Request Syntax** \n",
      "    ::\n",
      "    \n",
      "      response = client.create_role(\n",
      "          Path='string',\n",
      "          RoleName='string',\n",
      "          AssumeRolePolicyDocument='string',\n",
      "          Description='string',\n",
      "          MaxSessionDuration=123,\n",
      "          PermissionsBoundary='string',\n",
      "          Tags=[\n",
      "              {\n",
      "                  'Key': 'string',\n",
      "                  'Value': 'string'\n",
      "              },\n",
      "          ]\n",
      "      )\n",
      "    :type Path: string\n",
      "    :param Path: \n",
      "    \n",
      "      The path to the role. For more information about paths, see `IAM Identifiers <https://docs.aws.amazon.com/IAM/latest/UserGuide/Using_Identifiers.html>`__ in the *IAM User Guide* .\n",
      "    \n",
      "       \n",
      "    \n",
      "      This parameter is optional. If it is not included, it defaults to a slash (/).\n",
      "    \n",
      "       \n",
      "    \n",
      "      This parameter allows (through its `regex pattern <http://wikipedia.org/wiki/regex>`__ ) a string of characters consisting of either a forward slash (/) by itself or a string that must begin and end with forward slashes. In addition, it can contain any ASCII character from the ! (``\\u0021`` ) through the DEL character (``\\u007F`` ), including most punctuation characters, digits, and upper and lowercased letters.\n",
      "    \n",
      "      \n",
      "    \n",
      "    \n",
      "    :type RoleName: string\n",
      "    :param RoleName: **[REQUIRED]** \n",
      "    \n",
      "      The name of the role to create.\n",
      "    \n",
      "       \n",
      "    \n",
      "      IAM user, group, role, and policy names must be unique within the account. Names are not distinguished by case. For example, you cannot create resources named both \"MyResource\" and \"myresource\".\n",
      "    \n",
      "      \n",
      "    \n",
      "    \n",
      "    :type AssumeRolePolicyDocument: string\n",
      "    :param AssumeRolePolicyDocument: **[REQUIRED]** \n",
      "    \n",
      "      The trust relationship policy document that grants an entity permission to assume the role.\n",
      "    \n",
      "       \n",
      "    \n",
      "      In IAM, you must provide a JSON policy that has been converted to a string. However, for AWS CloudFormation templates formatted in YAML, you can provide the policy in JSON or YAML format. AWS CloudFormation always converts a YAML policy to JSON format before submitting it to IAM.\n",
      "    \n",
      "       \n",
      "    \n",
      "      The `regex pattern <http://wikipedia.org/wiki/regex>`__ used to validate this parameter is a string of characters consisting of the following:\n",
      "    \n",
      "       \n",
      "    \n",
      "       \n",
      "      * Any printable ASCII character ranging from the space character (``\\u0020`` ) through the end of the ASCII character range \n",
      "       \n",
      "      * The printable characters in the Basic Latin and Latin-1 Supplement character set (through ``\\u00FF`` ) \n",
      "       \n",
      "      * The special characters tab (``\\u0009`` ), line feed (``\\u000A`` ), and carriage return (``\\u000D`` ) \n",
      "       \n",
      "    \n",
      "       \n",
      "    \n",
      "      Upon success, the response includes the same trust policy in JSON format.\n",
      "    \n",
      "      \n",
      "    \n",
      "    \n",
      "    :type Description: string\n",
      "    :param Description: \n",
      "    \n",
      "      A description of the role.\n",
      "    \n",
      "      \n",
      "    \n",
      "    \n",
      "    :type MaxSessionDuration: integer\n",
      "    :param MaxSessionDuration: \n",
      "    \n",
      "      The maximum session duration (in seconds) that you want to set for the specified role. If you do not specify a value for this setting, the default maximum of one hour is applied. This setting can have a value from 1 hour to 12 hours.\n",
      "    \n",
      "       \n",
      "    \n",
      "      Anyone who assumes the role from the AWS CLI or API can use the ``DurationSeconds`` API parameter or the ``duration-seconds`` CLI parameter to request a longer session. The ``MaxSessionDuration`` setting determines the maximum duration that can be requested using the ``DurationSeconds`` parameter. If users don't specify a value for the ``DurationSeconds`` parameter, their security credentials are valid for one hour by default. This applies when you use the ``AssumeRole*`` API operations or the ``assume-role*`` CLI operations but does not apply when you use those operations to create a console URL. For more information, see `Using IAM roles <https://docs.aws.amazon.com/IAM/latest/UserGuide/id_roles_use.html>`__ in the *IAM User Guide* .\n",
      "    \n",
      "      \n",
      "    \n",
      "    \n",
      "    :type PermissionsBoundary: string\n",
      "    :param PermissionsBoundary: \n",
      "    \n",
      "      The ARN of the policy that is used to set the permissions boundary for the role.\n",
      "    \n",
      "      \n",
      "    \n",
      "    \n",
      "    :type Tags: list\n",
      "    :param Tags: \n",
      "    \n",
      "      A list of tags that you want to attach to the new role. Each tag consists of a key name and an associated value. For more information about tagging, see `Tagging IAM resources <https://docs.aws.amazon.com/IAM/latest/UserGuide/id_tags.html>`__ in the *IAM User Guide* .\n",
      "    \n",
      "       \n",
      "    \n",
      "      .. note::\n",
      "    \n",
      "         \n",
      "    \n",
      "        If any one of the tags is invalid or if you exceed the allowed maximum number of tags, then the entire request fails and the resource is not created.\n",
      "    \n",
      "         \n",
      "    \n",
      "      \n",
      "    \n",
      "    \n",
      "      - *(dict) --* \n",
      "    \n",
      "        A structure that represents user-provided metadata that can be associated with an IAM resource. For more information about tagging, see `Tagging IAM resources <https://docs.aws.amazon.com/IAM/latest/UserGuide/id_tags.html>`__ in the *IAM User Guide* .\n",
      "    \n",
      "        \n",
      "    \n",
      "      \n",
      "        - **Key** *(string) --* **[REQUIRED]** \n",
      "    \n",
      "          The key name that can be used to look up or retrieve the associated value. For example, ``Department`` or ``Cost Center`` are common choices.\n",
      "    \n",
      "          \n",
      "    \n",
      "        \n",
      "        - **Value** *(string) --* **[REQUIRED]** \n",
      "    \n",
      "          The value associated with this tag. For example, tags with a key name of ``Department`` could have values such as ``Human Resources`` , ``Accounting`` , and ``Support`` . Tags with a key name of ``Cost Center`` might have values that consist of the number associated with the different cost centers in your company. Typically, many resources have tags with the same key name but with different values.\n",
      "    \n",
      "           \n",
      "    \n",
      "          .. note::\n",
      "    \n",
      "             \n",
      "    \n",
      "            AWS always interprets the tag ``Value`` as a single string. If you need to store an array, you can store comma-separated values in the string. However, you must interpret the value in your code.\n",
      "    \n",
      "             \n",
      "    \n",
      "          \n",
      "    \n",
      "        \n",
      "      \n",
      "    \n",
      "    \n",
      "    :rtype: dict\n",
      "    :returns: \n",
      "      \n",
      "      **Response Syntax** \n",
      "    \n",
      "      \n",
      "      ::\n",
      "    \n",
      "        {\n",
      "            'Role': {\n",
      "                'Path': 'string',\n",
      "                'RoleName': 'string',\n",
      "                'RoleId': 'string',\n",
      "                'Arn': 'string',\n",
      "                'CreateDate': datetime(2015, 1, 1),\n",
      "                'AssumeRolePolicyDocument': 'string',\n",
      "                'Description': 'string',\n",
      "                'MaxSessionDuration': 123,\n",
      "                'PermissionsBoundary': {\n",
      "                    'PermissionsBoundaryType': 'PermissionsBoundaryPolicy',\n",
      "                    'PermissionsBoundaryArn': 'string'\n",
      "                },\n",
      "                'Tags': [\n",
      "                    {\n",
      "                        'Key': 'string',\n",
      "                        'Value': 'string'\n",
      "                    },\n",
      "                ],\n",
      "                'RoleLastUsed': {\n",
      "                    'LastUsedDate': datetime(2015, 1, 1),\n",
      "                    'Region': 'string'\n",
      "                }\n",
      "            }\n",
      "        }\n",
      "      **Response Structure** \n",
      "    \n",
      "      \n",
      "    \n",
      "      - *(dict) --* \n",
      "    \n",
      "        Contains the response to a successful  CreateRole request. \n",
      "    \n",
      "        \n",
      "        \n",
      "    \n",
      "        - **Role** *(dict) --* \n",
      "    \n",
      "          A structure containing details about the new role.\n",
      "    \n",
      "          \n",
      "          \n",
      "    \n",
      "          - **Path** *(string) --* \n",
      "    \n",
      "            The path to the role. For more information about paths, see `IAM identifiers <https://docs.aws.amazon.com/IAM/latest/UserGuide/Using_Identifiers.html>`__ in the *IAM User Guide* . \n",
      "    \n",
      "            \n",
      "          \n",
      "    \n",
      "          - **RoleName** *(string) --* \n",
      "    \n",
      "            The friendly name that identifies the role.\n",
      "    \n",
      "            \n",
      "          \n",
      "    \n",
      "          - **RoleId** *(string) --* \n",
      "    \n",
      "            The stable and unique string identifying the role. For more information about IDs, see `IAM identifiers <https://docs.aws.amazon.com/IAM/latest/UserGuide/Using_Identifiers.html>`__ in the *IAM User Guide* . \n",
      "    \n",
      "            \n",
      "          \n",
      "    \n",
      "          - **Arn** *(string) --* \n",
      "    \n",
      "            The Amazon Resource Name (ARN) specifying the role. For more information about ARNs and how to use them in policies, see `IAM identifiers <https://docs.aws.amazon.com/IAM/latest/UserGuide/Using_Identifiers.html>`__ in the *IAM User Guide* guide. \n",
      "    \n",
      "            \n",
      "          \n",
      "    \n",
      "          - **CreateDate** *(datetime) --* \n",
      "    \n",
      "            The date and time, in `ISO 8601 date-time format <http://www.iso.org/iso/iso8601>`__ , when the role was created.\n",
      "    \n",
      "            \n",
      "          \n",
      "    \n",
      "          - **AssumeRolePolicyDocument** *(string) --* \n",
      "    \n",
      "            The policy that grants an entity permission to assume the role.\n",
      "    \n",
      "            \n",
      "          \n",
      "    \n",
      "          - **Description** *(string) --* \n",
      "    \n",
      "            A description of the role that you provide.\n",
      "    \n",
      "            \n",
      "          \n",
      "    \n",
      "          - **MaxSessionDuration** *(integer) --* \n",
      "    \n",
      "            The maximum session duration (in seconds) for the specified role. Anyone who uses the AWS CLI, or API to assume the role can specify the duration using the optional ``DurationSeconds`` API parameter or ``duration-seconds`` CLI parameter.\n",
      "    \n",
      "            \n",
      "          \n",
      "    \n",
      "          - **PermissionsBoundary** *(dict) --* \n",
      "    \n",
      "            The ARN of the policy used to set the permissions boundary for the role.\n",
      "    \n",
      "             \n",
      "    \n",
      "            For more information about permissions boundaries, see `Permissions boundaries for IAM identities <https://docs.aws.amazon.com/IAM/latest/UserGuide/access_policies_boundaries.html>`__ in the *IAM User Guide* .\n",
      "    \n",
      "            \n",
      "            \n",
      "    \n",
      "            - **PermissionsBoundaryType** *(string) --* \n",
      "    \n",
      "              The permissions boundary usage type that indicates what type of IAM resource is used as the permissions boundary for an entity. This data type can only have a value of ``Policy`` .\n",
      "    \n",
      "              \n",
      "            \n",
      "    \n",
      "            - **PermissionsBoundaryArn** *(string) --* \n",
      "    \n",
      "              The ARN of the policy used to set the permissions boundary for the user or role.\n",
      "    \n",
      "              \n",
      "        \n",
      "          \n",
      "    \n",
      "          - **Tags** *(list) --* \n",
      "    \n",
      "            A list of tags that are attached to the role. For more information about tagging, see `Tagging IAM resources <https://docs.aws.amazon.com/IAM/latest/UserGuide/id_tags.html>`__ in the *IAM User Guide* .\n",
      "    \n",
      "            \n",
      "            \n",
      "    \n",
      "            - *(dict) --* \n",
      "    \n",
      "              A structure that represents user-provided metadata that can be associated with an IAM resource. For more information about tagging, see `Tagging IAM resources <https://docs.aws.amazon.com/IAM/latest/UserGuide/id_tags.html>`__ in the *IAM User Guide* .\n",
      "    \n",
      "              \n",
      "              \n",
      "    \n",
      "              - **Key** *(string) --* \n",
      "    \n",
      "                The key name that can be used to look up or retrieve the associated value. For example, ``Department`` or ``Cost Center`` are common choices.\n",
      "    \n",
      "                \n",
      "              \n",
      "    \n",
      "              - **Value** *(string) --* \n",
      "    \n",
      "                The value associated with this tag. For example, tags with a key name of ``Department`` could have values such as ``Human Resources`` , ``Accounting`` , and ``Support`` . Tags with a key name of ``Cost Center`` might have values that consist of the number associated with the different cost centers in your company. Typically, many resources have tags with the same key name but with different values.\n",
      "    \n",
      "                 \n",
      "    \n",
      "                .. note::\n",
      "    \n",
      "                   \n",
      "    \n",
      "                  AWS always interprets the tag ``Value`` as a single string. If you need to store an array, you can store comma-separated values in the string. However, you must interpret the value in your code.\n",
      "    \n",
      "                   \n",
      "    \n",
      "                \n",
      "          \n",
      "        \n",
      "          \n",
      "    \n",
      "          - **RoleLastUsed** *(dict) --* \n",
      "    \n",
      "            Contains information about the last time that an IAM role was used. This includes the date and time and the Region in which the role was last used. Activity is only reported for the trailing 400 days. This period can be shorter if your Region began supporting these features within the last year. The role might have been used more than 400 days ago. For more information, see `Regions where data is tracked <https://docs.aws.amazon.com/IAM/latest/UserGuide/access_policies_access-advisor.html#access-advisor_tracking-period>`__ in the *IAM User Guide* .\n",
      "    \n",
      "            \n",
      "            \n",
      "    \n",
      "            - **LastUsedDate** *(datetime) --* \n",
      "    \n",
      "              The date and time, in `ISO 8601 date-time format <http://www.iso.org/iso/iso8601>`__ that the role was last used.\n",
      "    \n",
      "               \n",
      "    \n",
      "              This field is null if the role has not been used within the IAM tracking period. For more information about the tracking period, see `Regions where data is tracked <https://docs.aws.amazon.com/IAM/latest/UserGuide/access_policies_access-advisor.html#access-advisor_tracking-period>`__ in the *IAM User Guide* . \n",
      "    \n",
      "              \n",
      "            \n",
      "    \n",
      "            - **Region** *(string) --* \n",
      "    \n",
      "              The name of the AWS Region in which the role was last used.\n",
      "\n"
     ]
    }
   ],
   "source": [
    "help(iam_client.create_role)"
   ]
  },
  {
   "cell_type": "code",
   "execution_count": 10,
   "id": "94245b37",
   "metadata": {},
   "outputs": [],
   "source": [
    "iam_client = boto3.client('iam')"
   ]
  },
  {
   "cell_type": "code",
   "execution_count": 12,
   "id": "dd31bb52",
   "metadata": {},
   "outputs": [],
   "source": [
    "iam = boto3.resource('iam')\n",
    "account_summary = iam.AccountSummary()"
   ]
  },
  {
   "cell_type": "code",
   "execution_count": 14,
   "id": "99eeaa0d",
   "metadata": {},
   "outputs": [],
   "source": [
    "account_summary.load()"
   ]
  },
  {
   "cell_type": "code",
   "execution_count": 17,
   "id": "289afadb",
   "metadata": {},
   "outputs": [
    {
     "data": {
      "text/plain": [
       "[]"
      ]
     },
     "execution_count": 17,
     "metadata": {},
     "output_type": "execute_result"
    }
   ],
   "source": [
    "account_summary.get_available_subresources()"
   ]
  },
  {
   "cell_type": "code",
   "execution_count": 18,
   "id": "1584a982",
   "metadata": {},
   "outputs": [
    {
     "data": {
      "text/plain": [
       "{'GroupPolicySizeQuota': 5120,\n",
       " 'InstanceProfilesQuota': 1000,\n",
       " 'Policies': 3,\n",
       " 'GroupsPerUserQuota': 10,\n",
       " 'InstanceProfiles': 1,\n",
       " 'AttachedPoliciesPerUserQuota': 10,\n",
       " 'Users': 3,\n",
       " 'PoliciesQuota': 1500,\n",
       " 'Providers': 0,\n",
       " 'AccountMFAEnabled': 0,\n",
       " 'AccessKeysPerUserQuota': 2,\n",
       " 'AssumeRolePolicySizeQuota': 2048,\n",
       " 'PolicyVersionsInUseQuota': 10000,\n",
       " 'GlobalEndpointTokenVersion': 1,\n",
       " 'VersionsPerPolicyQuota': 5,\n",
       " 'AttachedPoliciesPerGroupQuota': 10,\n",
       " 'PolicySizeQuota': 6144,\n",
       " 'Groups': 2,\n",
       " 'AccountSigningCertificatesPresent': 0,\n",
       " 'UsersQuota': 5000,\n",
       " 'ServerCertificatesQuota': 20,\n",
       " 'MFADevices': 0,\n",
       " 'UserPolicySizeQuota': 2048,\n",
       " 'PolicyVersionsInUse': 23,\n",
       " 'ServerCertificates': 0,\n",
       " 'Roles': 18,\n",
       " 'RolesQuota': 1000,\n",
       " 'SigningCertificatesPerUserQuota': 2,\n",
       " 'MFADevicesInUse': 0,\n",
       " 'RolePolicySizeQuota': 10240,\n",
       " 'AttachedPoliciesPerRoleQuota': 10,\n",
       " 'AccountAccessKeysPresent': 1,\n",
       " 'GroupsQuota': 300}"
      ]
     },
     "execution_count": 18,
     "metadata": {},
     "output_type": "execute_result"
    }
   ],
   "source": [
    "account_summary.summary_map"
   ]
  },
  {
   "cell_type": "code",
   "execution_count": 20,
   "id": "8a4b5b14",
   "metadata": {},
   "outputs": [],
   "source": [
    "user = iam.CurrentUser()"
   ]
  },
  {
   "cell_type": "code",
   "execution_count": 22,
   "id": "cf5bbbbb",
   "metadata": {},
   "outputs": [
    {
     "data": {
      "text/plain": [
       "'Leonhard'"
      ]
     },
     "execution_count": 22,
     "metadata": {},
     "output_type": "execute_result"
    }
   ],
   "source": [
    "user.user_name"
   ]
  },
  {
   "cell_type": "code",
   "execution_count": 23,
   "id": "0680502d",
   "metadata": {},
   "outputs": [
    {
     "data": {
      "text/plain": [
       "'AIDAIJ6K567DOELIXHE52'"
      ]
     },
     "execution_count": 23,
     "metadata": {},
     "output_type": "execute_result"
    }
   ],
   "source": [
    "user.user_id"
   ]
  },
  {
   "cell_type": "code",
   "execution_count": 25,
   "id": "2d508008",
   "metadata": {},
   "outputs": [
    {
     "data": {
      "text/plain": [
       "[]"
      ]
     },
     "execution_count": 25,
     "metadata": {},
     "output_type": "execute_result"
    }
   ],
   "source": [
    "user.get_available_subresources()"
   ]
  },
  {
   "cell_type": "code",
   "execution_count": null,
   "id": "4e227361",
   "metadata": {},
   "outputs": [],
   "source": []
  }
 ],
 "metadata": {
  "kernelspec": {
   "display_name": "Python 3",
   "language": "python",
   "name": "python3"
  },
  "language_info": {
   "codemirror_mode": {
    "name": "ipython",
    "version": 3
   },
   "file_extension": ".py",
   "mimetype": "text/x-python",
   "name": "python",
   "nbconvert_exporter": "python",
   "pygments_lexer": "ipython3",
   "version": "3.9.7"
  }
 },
 "nbformat": 4,
 "nbformat_minor": 5
}
