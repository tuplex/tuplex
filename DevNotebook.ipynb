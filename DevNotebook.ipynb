{
 "cells": [
  {
   "cell_type": "code",
   "execution_count": 66,
   "id": "2f210702",
   "metadata": {},
   "outputs": [],
   "source": [
    "import boto3\n",
    "import tempfile\n",
    "import logging"
   ]
  },
  {
   "cell_type": "code",
   "execution_count": 57,
   "id": "be10a8a8",
   "metadata": {},
   "outputs": [],
   "source": [
    "import logging\n",
    "logger = logging.getLogger()\n",
    "logger.setLevel(logging.INFO)"
   ]
  },
  {
   "cell_type": "code",
   "execution_count": 58,
   "id": "87172029",
   "metadata": {},
   "outputs": [],
   "source": [
    "logging.debug('hello')"
   ]
  },
  {
   "cell_type": "code",
   "execution_count": 37,
   "id": "02a16be4",
   "metadata": {},
   "outputs": [],
   "source": [
    "# Let's use Amazon S3\n",
    "s3 = boto3.resource('s3')"
   ]
  },
  {
   "cell_type": "code",
   "execution_count": 38,
   "id": "7b7340fb",
   "metadata": {},
   "outputs": [
    {
     "name": "stdout",
     "output_type": "stream",
     "text": [
      "aws-deepracer-3f4fbafa-e09c-412c-8491-baeb4b0bffb7\n",
      "bbsn00\n",
      "bmwcpo\n",
      "tuplex\n",
      "tuplex-public\n",
      "tuplex-test\n"
     ]
    }
   ],
   "source": [
    "# Tuplex needs a bucket.\n",
    "# => create one tuplex-<iam-user> per default.\n",
    "# => this is where stuff gets stored.\n",
    "\n",
    "# layout bucket like this:\n",
    "# tuplex-<iam-user>/notebooks\n",
    "# tuplex-<iam-user>/data\n",
    "# tuplex-<iam-user>/scratch\n",
    "\n",
    "# upload lambda function as\n",
    "# tuplex-runner\n",
    "\n",
    "# -> add versioning to tuplex-runner! => allow for auto upload?\n",
    "\n",
    "\n",
    "# Print out bucket names\n",
    "for bucket in s3.buckets.all():\n",
    "    print(bucket.name)"
   ]
  },
  {
   "cell_type": "code",
   "execution_count": 46,
   "id": "346610f9",
   "metadata": {},
   "outputs": [
    {
     "name": "stderr",
     "output_type": "stream",
     "text": [
      "INFO:root:Setting up AWS Lambda backend for IAM user leonhard\n",
      "INFO:root:Configuring backend in zone: us-east-1\n"
     ]
    }
   ],
   "source": [
    "def current_iam_user():\n",
    "    iam = boto3.resource('iam')\n",
    "    user = iam.CurrentUser()\n",
    "    return user.user_name.lower()\n",
    "\n",
    "def default_lambda_name():\n",
    "    return 'tuplex-lambda-runner'\n",
    "\n",
    "def default_lambda_role():\n",
    "    return 'tuplex-lambda-role'\n",
    "\n",
    "def current_region():\n",
    "    session = boto3.session.Session()\n",
    "    region = session.region_name\n",
    "    return region\n",
    "\n",
    "def setup_aws(iam_user=current_iam_user(),\n",
    "              lambda_name=default_lambda_name(),\n",
    "              lambda_role=default_lambda_role(),\n",
    "              region=current_region()\n",
    "              ):\n",
    "    logging.info('Setting up AWS Lambda backend for IAM user {}'.format(iam_user))\n",
    "    logging.info('Configuring backend in zone: {}'.format(region))\n",
    "    \n",
    "    # check if iam user is found?\n",
    "    # --> skip for now, later properly authenticate using assume_role as described in\n",
    "    # https://docs.aws.amazon.com/IAM/latest/UserGuide/id_roles_use_switch-role-api.html\n",
    "    \n",
    "    # step 1: create Lambda role if not exists\n",
    "    iam = boto3.resource('iam')\n",
    "    response = i\n",
    "    \n",
    "   \n",
    "    \n",
    "setup_aws()"
   ]
  },
  {
   "cell_type": "code",
   "execution_count": 50,
   "id": "f043d6e2",
   "metadata": {},
   "outputs": [],
   "source": [
    "iam = boto3.resource('iam')\n",
    "iam_client = boto3.client('iam')"
   ]
  },
  {
   "cell_type": "code",
   "execution_count": 92,
   "id": "1b682b69",
   "metadata": {},
   "outputs": [
    {
     "name": "stderr",
     "output_type": "stream",
     "text": [
      "INFO:root:Found Lambda role from 2021-11-03 19:15:37+00:00\n",
      "INFO:root:Overwriting existing role tuplex-lambda-role\n",
      "INFO:root:Created Tuplex AWS Lambda runner role (tuplex-lambda-role)\n"
     ]
    }
   ],
   "source": [
    "lambda_role=default_lambda_role()\n",
    "\n",
    "region = current_region()\n",
    "overwrite = True\n",
    "\n",
    "\n",
    "def create_lambda_role(iam_client, lambda_role):\n",
    "    \n",
    "    # Roles required for AWS Lambdas\n",
    "    trust_policy = '{\"Version\":\"2012-10-17\",\"Statement\":[{\"Effect\":\"Allow\",\"Principal\":{\"Service\":\"lambda.amazonaws.com\"},\"Action\":\"sts:AssumeRole\"}]}'\n",
    "    lambda_access_to_s3 = '{\"Version\":\"2012-10-17\",\"Statement\":[{\"Effect\":\"Allow\",\"Action\":[\"s3:*MultipartUpload*\",\"s3:Get*\",\"s3:ListBucket\",\"s3:Put*\"],\"Resource\":\"*\"}]}'\n",
    "    lambda_invoke_others = '{\"Version\":\"2012-10-17\",\"Statement\":[{\"Effect\":\"Allow\",\"Action\":[\"lambda:InvokeFunction\",\"lambda:InvokeAsync\"],\"Resource\":\"*\"}]}'\n",
    "\n",
    "    iam_client.create_role(RoleName=lambda_role,\n",
    "                           AssumeRolePolicyDocument=trust_policy,\n",
    "                           Description='Auto-created Role for Tuplex AWS Lambda runner')\n",
    "    logging.info('Created Tuplex AWS Lambda runner role ({})'.format(lambda_role))\n",
    "    \n",
    "def remove_lambda_role(iam_client, lambda_role):\n",
    "    \n",
    "    # detach policies...\n",
    "        \n",
    "    # delete role...\n",
    "    iam_client.delete_role(RoleName=lambda_role)\n",
    "    \n",
    "try:\n",
    "    response = iam_client.get_role(RoleName=lambda_role)\n",
    "    logging.info('Found Lambda role from {}'.format(response['Role']['CreateDate']))\n",
    "    \n",
    "     # throw dummy exception to force overwrite\n",
    "    if overwrite:\n",
    "        remove_lambda_role(iam_client, lambda_role)\n",
    "        logging.info('Overwriting existing role {}'.format(lambda_role))\n",
    "        create_lambda_role(iam_client, lambda_role)\n",
    "    \n",
    "except iam_client.exceptions.NoSuchEntityException as e:\n",
    "    logging.info('Role {} was not found in {}, creating ...'.format(lambda_role, region))\n",
    "    create_lambda_role(iam_client, lambda_role)"
   ]
  },
  {
   "cell_type": "code",
   "execution_count": 87,
   "id": "7e08a8f8",
   "metadata": {},
   "outputs": [
    {
     "ename": "EntityAlreadyExistsException",
     "evalue": "An error occurred (EntityAlreadyExists) when calling the CreateRole operation: Role with name tuplex-lambda-role already exists.",
     "output_type": "error",
     "traceback": [
      "\u001b[0;31m---------------------------------------------------------------------------\u001b[0m",
      "\u001b[0;31mEntityAlreadyExistsException\u001b[0m              Traceback (most recent call last)",
      "\u001b[0;32m<ipython-input-87-dfc30aa7600e>\u001b[0m in \u001b[0;36m<module>\u001b[0;34m\u001b[0m\n\u001b[0;32m----> 1\u001b[0;31m iam_client.create_role(RoleName=lambda_role,\n\u001b[0m\u001b[1;32m      2\u001b[0m                            \u001b[0mAssumeRolePolicyDocument\u001b[0m\u001b[0;34m=\u001b[0m\u001b[0mtrust_policy\u001b[0m\u001b[0;34m,\u001b[0m\u001b[0;34m\u001b[0m\u001b[0;34m\u001b[0m\u001b[0m\n\u001b[1;32m      3\u001b[0m                            Description='Auto-created Role for Tuplex AWS Lambda runner')\n\u001b[1;32m      4\u001b[0m \u001b[0;34m\u001b[0m\u001b[0m\n",
      "\u001b[0;32m/usr/local/lib/python3.9/site-packages/botocore/client.py\u001b[0m in \u001b[0;36m_api_call\u001b[0;34m(self, *args, **kwargs)\u001b[0m\n\u001b[1;32m    355\u001b[0m                     \"%s() only accepts keyword arguments.\" % py_operation_name)\n\u001b[1;32m    356\u001b[0m             \u001b[0;31m# The \"self\" in this scope is referring to the BaseClient.\u001b[0m\u001b[0;34m\u001b[0m\u001b[0;34m\u001b[0m\u001b[0m\n\u001b[0;32m--> 357\u001b[0;31m             \u001b[0;32mreturn\u001b[0m \u001b[0mself\u001b[0m\u001b[0;34m.\u001b[0m\u001b[0m_make_api_call\u001b[0m\u001b[0;34m(\u001b[0m\u001b[0moperation_name\u001b[0m\u001b[0;34m,\u001b[0m \u001b[0mkwargs\u001b[0m\u001b[0;34m)\u001b[0m\u001b[0;34m\u001b[0m\u001b[0;34m\u001b[0m\u001b[0m\n\u001b[0m\u001b[1;32m    358\u001b[0m \u001b[0;34m\u001b[0m\u001b[0m\n\u001b[1;32m    359\u001b[0m         \u001b[0m_api_call\u001b[0m\u001b[0;34m.\u001b[0m\u001b[0m__name__\u001b[0m \u001b[0;34m=\u001b[0m \u001b[0mstr\u001b[0m\u001b[0;34m(\u001b[0m\u001b[0mpy_operation_name\u001b[0m\u001b[0;34m)\u001b[0m\u001b[0;34m\u001b[0m\u001b[0;34m\u001b[0m\u001b[0m\n",
      "\u001b[0;32m/usr/local/lib/python3.9/site-packages/botocore/client.py\u001b[0m in \u001b[0;36m_make_api_call\u001b[0;34m(self, operation_name, api_params)\u001b[0m\n\u001b[1;32m    674\u001b[0m             \u001b[0merror_code\u001b[0m \u001b[0;34m=\u001b[0m \u001b[0mparsed_response\u001b[0m\u001b[0;34m.\u001b[0m\u001b[0mget\u001b[0m\u001b[0;34m(\u001b[0m\u001b[0;34m\"Error\"\u001b[0m\u001b[0;34m,\u001b[0m \u001b[0;34m{\u001b[0m\u001b[0;34m}\u001b[0m\u001b[0;34m)\u001b[0m\u001b[0;34m.\u001b[0m\u001b[0mget\u001b[0m\u001b[0;34m(\u001b[0m\u001b[0;34m\"Code\"\u001b[0m\u001b[0;34m)\u001b[0m\u001b[0;34m\u001b[0m\u001b[0;34m\u001b[0m\u001b[0m\n\u001b[1;32m    675\u001b[0m             \u001b[0merror_class\u001b[0m \u001b[0;34m=\u001b[0m \u001b[0mself\u001b[0m\u001b[0;34m.\u001b[0m\u001b[0mexceptions\u001b[0m\u001b[0;34m.\u001b[0m\u001b[0mfrom_code\u001b[0m\u001b[0;34m(\u001b[0m\u001b[0merror_code\u001b[0m\u001b[0;34m)\u001b[0m\u001b[0;34m\u001b[0m\u001b[0;34m\u001b[0m\u001b[0m\n\u001b[0;32m--> 676\u001b[0;31m             \u001b[0;32mraise\u001b[0m \u001b[0merror_class\u001b[0m\u001b[0;34m(\u001b[0m\u001b[0mparsed_response\u001b[0m\u001b[0;34m,\u001b[0m \u001b[0moperation_name\u001b[0m\u001b[0;34m)\u001b[0m\u001b[0;34m\u001b[0m\u001b[0;34m\u001b[0m\u001b[0m\n\u001b[0m\u001b[1;32m    677\u001b[0m         \u001b[0;32melse\u001b[0m\u001b[0;34m:\u001b[0m\u001b[0;34m\u001b[0m\u001b[0;34m\u001b[0m\u001b[0m\n\u001b[1;32m    678\u001b[0m             \u001b[0;32mreturn\u001b[0m \u001b[0mparsed_response\u001b[0m\u001b[0;34m\u001b[0m\u001b[0;34m\u001b[0m\u001b[0m\n",
      "\u001b[0;31mEntityAlreadyExistsException\u001b[0m: An error occurred (EntityAlreadyExists) when calling the CreateRole operation: Role with name tuplex-lambda-role already exists."
     ]
    }
   ],
   "source": [
    "\n",
    "    "
   ]
  },
  {
   "cell_type": "code",
   "execution_count": 76,
   "id": "1345fc95",
   "metadata": {},
   "outputs": [
    {
     "name": "stdout",
     "output_type": "stream",
     "text": [
      "cat: /var/folders/l7/8zgzcszx7z5gk7kk92f6nc1c0000gn/T/tmp8qrc12_k: No such file or directory\r\n"
     ]
    }
   ],
   "source": [
    "!cat /var/folders/l7/8zgzcszx7z5gk7kk92f6nc1c0000gn/T/tmp8qrc12_k"
   ]
  },
  {
   "cell_type": "code",
   "execution_count": 65,
   "id": "20d436bb",
   "metadata": {},
   "outputs": [
    {
     "name": "stdout",
     "output_type": "stream",
     "text": [
      "Help on method create_role in module botocore.client:\n",
      "\n",
      "create_role(*args, **kwargs) method of botocore.client.IAM instance\n",
      "    Creates a new role for your AWS account. For more information about roles, see `IAM roles <https://docs.aws.amazon.com/IAM/latest/UserGuide/WorkingWithRoles.html>`__ . For information about quotas for role names and the number of roles you can create, see `IAM and STS quotas <https://docs.aws.amazon.com/IAM/latest/UserGuide/reference_iam-quotas.html>`__ in the *IAM User Guide* .\n",
      "    \n",
      "    \n",
      "    \n",
      "    See also: `AWS API Documentation <https://docs.aws.amazon.com/goto/WebAPI/iam-2010-05-08/CreateRole>`_\n",
      "    \n",
      "    \n",
      "    **Request Syntax** \n",
      "    ::\n",
      "    \n",
      "      response = client.create_role(\n",
      "          Path='string',\n",
      "          RoleName='string',\n",
      "          AssumeRolePolicyDocument='string',\n",
      "          Description='string',\n",
      "          MaxSessionDuration=123,\n",
      "          PermissionsBoundary='string',\n",
      "          Tags=[\n",
      "              {\n",
      "                  'Key': 'string',\n",
      "                  'Value': 'string'\n",
      "              },\n",
      "          ]\n",
      "      )\n",
      "    :type Path: string\n",
      "    :param Path: \n",
      "    \n",
      "      The path to the role. For more information about paths, see `IAM Identifiers <https://docs.aws.amazon.com/IAM/latest/UserGuide/Using_Identifiers.html>`__ in the *IAM User Guide* .\n",
      "    \n",
      "       \n",
      "    \n",
      "      This parameter is optional. If it is not included, it defaults to a slash (/).\n",
      "    \n",
      "       \n",
      "    \n",
      "      This parameter allows (through its `regex pattern <http://wikipedia.org/wiki/regex>`__ ) a string of characters consisting of either a forward slash (/) by itself or a string that must begin and end with forward slashes. In addition, it can contain any ASCII character from the ! (``\\u0021`` ) through the DEL character (``\\u007F`` ), including most punctuation characters, digits, and upper and lowercased letters.\n",
      "    \n",
      "      \n",
      "    \n",
      "    \n",
      "    :type RoleName: string\n",
      "    :param RoleName: **[REQUIRED]** \n",
      "    \n",
      "      The name of the role to create.\n",
      "    \n",
      "       \n",
      "    \n",
      "      IAM user, group, role, and policy names must be unique within the account. Names are not distinguished by case. For example, you cannot create resources named both \"MyResource\" and \"myresource\".\n",
      "    \n",
      "      \n",
      "    \n",
      "    \n",
      "    :type AssumeRolePolicyDocument: string\n",
      "    :param AssumeRolePolicyDocument: **[REQUIRED]** \n",
      "    \n",
      "      The trust relationship policy document that grants an entity permission to assume the role.\n",
      "    \n",
      "       \n",
      "    \n",
      "      In IAM, you must provide a JSON policy that has been converted to a string. However, for AWS CloudFormation templates formatted in YAML, you can provide the policy in JSON or YAML format. AWS CloudFormation always converts a YAML policy to JSON format before submitting it to IAM.\n",
      "    \n",
      "       \n",
      "    \n",
      "      The `regex pattern <http://wikipedia.org/wiki/regex>`__ used to validate this parameter is a string of characters consisting of the following:\n",
      "    \n",
      "       \n",
      "    \n",
      "       \n",
      "      * Any printable ASCII character ranging from the space character (``\\u0020`` ) through the end of the ASCII character range \n",
      "       \n",
      "      * The printable characters in the Basic Latin and Latin-1 Supplement character set (through ``\\u00FF`` ) \n",
      "       \n",
      "      * The special characters tab (``\\u0009`` ), line feed (``\\u000A`` ), and carriage return (``\\u000D`` ) \n",
      "       \n",
      "    \n",
      "       \n",
      "    \n",
      "      Upon success, the response includes the same trust policy in JSON format.\n",
      "    \n",
      "      \n",
      "    \n",
      "    \n",
      "    :type Description: string\n",
      "    :param Description: \n",
      "    \n",
      "      A description of the role.\n",
      "    \n",
      "      \n",
      "    \n",
      "    \n",
      "    :type MaxSessionDuration: integer\n",
      "    :param MaxSessionDuration: \n",
      "    \n",
      "      The maximum session duration (in seconds) that you want to set for the specified role. If you do not specify a value for this setting, the default maximum of one hour is applied. This setting can have a value from 1 hour to 12 hours.\n",
      "    \n",
      "       \n",
      "    \n",
      "      Anyone who assumes the role from the AWS CLI or API can use the ``DurationSeconds`` API parameter or the ``duration-seconds`` CLI parameter to request a longer session. The ``MaxSessionDuration`` setting determines the maximum duration that can be requested using the ``DurationSeconds`` parameter. If users don't specify a value for the ``DurationSeconds`` parameter, their security credentials are valid for one hour by default. This applies when you use the ``AssumeRole*`` API operations or the ``assume-role*`` CLI operations but does not apply when you use those operations to create a console URL. For more information, see `Using IAM roles <https://docs.aws.amazon.com/IAM/latest/UserGuide/id_roles_use.html>`__ in the *IAM User Guide* .\n",
      "    \n",
      "      \n",
      "    \n",
      "    \n",
      "    :type PermissionsBoundary: string\n",
      "    :param PermissionsBoundary: \n",
      "    \n",
      "      The ARN of the policy that is used to set the permissions boundary for the role.\n",
      "    \n",
      "      \n",
      "    \n",
      "    \n",
      "    :type Tags: list\n",
      "    :param Tags: \n",
      "    \n",
      "      A list of tags that you want to attach to the new role. Each tag consists of a key name and an associated value. For more information about tagging, see `Tagging IAM resources <https://docs.aws.amazon.com/IAM/latest/UserGuide/id_tags.html>`__ in the *IAM User Guide* .\n",
      "    \n",
      "       \n",
      "    \n",
      "      .. note::\n",
      "    \n",
      "         \n",
      "    \n",
      "        If any one of the tags is invalid or if you exceed the allowed maximum number of tags, then the entire request fails and the resource is not created.\n",
      "    \n",
      "         \n",
      "    \n",
      "      \n",
      "    \n",
      "    \n",
      "      - *(dict) --* \n",
      "    \n",
      "        A structure that represents user-provided metadata that can be associated with an IAM resource. For more information about tagging, see `Tagging IAM resources <https://docs.aws.amazon.com/IAM/latest/UserGuide/id_tags.html>`__ in the *IAM User Guide* .\n",
      "    \n",
      "        \n",
      "    \n",
      "      \n",
      "        - **Key** *(string) --* **[REQUIRED]** \n",
      "    \n",
      "          The key name that can be used to look up or retrieve the associated value. For example, ``Department`` or ``Cost Center`` are common choices.\n",
      "    \n",
      "          \n",
      "    \n",
      "        \n",
      "        - **Value** *(string) --* **[REQUIRED]** \n",
      "    \n",
      "          The value associated with this tag. For example, tags with a key name of ``Department`` could have values such as ``Human Resources`` , ``Accounting`` , and ``Support`` . Tags with a key name of ``Cost Center`` might have values that consist of the number associated with the different cost centers in your company. Typically, many resources have tags with the same key name but with different values.\n",
      "    \n",
      "           \n",
      "    \n",
      "          .. note::\n",
      "    \n",
      "             \n",
      "    \n",
      "            AWS always interprets the tag ``Value`` as a single string. If you need to store an array, you can store comma-separated values in the string. However, you must interpret the value in your code.\n",
      "    \n",
      "             \n",
      "    \n",
      "          \n",
      "    \n",
      "        \n",
      "      \n",
      "    \n",
      "    \n",
      "    :rtype: dict\n",
      "    :returns: \n",
      "      \n",
      "      **Response Syntax** \n",
      "    \n",
      "      \n",
      "      ::\n",
      "    \n",
      "        {\n",
      "            'Role': {\n",
      "                'Path': 'string',\n",
      "                'RoleName': 'string',\n",
      "                'RoleId': 'string',\n",
      "                'Arn': 'string',\n",
      "                'CreateDate': datetime(2015, 1, 1),\n",
      "                'AssumeRolePolicyDocument': 'string',\n",
      "                'Description': 'string',\n",
      "                'MaxSessionDuration': 123,\n",
      "                'PermissionsBoundary': {\n",
      "                    'PermissionsBoundaryType': 'PermissionsBoundaryPolicy',\n",
      "                    'PermissionsBoundaryArn': 'string'\n",
      "                },\n",
      "                'Tags': [\n",
      "                    {\n",
      "                        'Key': 'string',\n",
      "                        'Value': 'string'\n",
      "                    },\n",
      "                ],\n",
      "                'RoleLastUsed': {\n",
      "                    'LastUsedDate': datetime(2015, 1, 1),\n",
      "                    'Region': 'string'\n",
      "                }\n",
      "            }\n",
      "        }\n",
      "      **Response Structure** \n",
      "    \n",
      "      \n",
      "    \n",
      "      - *(dict) --* \n",
      "    \n",
      "        Contains the response to a successful  CreateRole request. \n",
      "    \n",
      "        \n",
      "        \n",
      "    \n",
      "        - **Role** *(dict) --* \n",
      "    \n",
      "          A structure containing details about the new role.\n",
      "    \n",
      "          \n",
      "          \n",
      "    \n",
      "          - **Path** *(string) --* \n",
      "    \n",
      "            The path to the role. For more information about paths, see `IAM identifiers <https://docs.aws.amazon.com/IAM/latest/UserGuide/Using_Identifiers.html>`__ in the *IAM User Guide* . \n",
      "    \n",
      "            \n",
      "          \n",
      "    \n",
      "          - **RoleName** *(string) --* \n",
      "    \n",
      "            The friendly name that identifies the role.\n",
      "    \n",
      "            \n",
      "          \n",
      "    \n",
      "          - **RoleId** *(string) --* \n",
      "    \n",
      "            The stable and unique string identifying the role. For more information about IDs, see `IAM identifiers <https://docs.aws.amazon.com/IAM/latest/UserGuide/Using_Identifiers.html>`__ in the *IAM User Guide* . \n",
      "    \n",
      "            \n",
      "          \n",
      "    \n",
      "          - **Arn** *(string) --* \n",
      "    \n",
      "            The Amazon Resource Name (ARN) specifying the role. For more information about ARNs and how to use them in policies, see `IAM identifiers <https://docs.aws.amazon.com/IAM/latest/UserGuide/Using_Identifiers.html>`__ in the *IAM User Guide* guide. \n",
      "    \n",
      "            \n",
      "          \n",
      "    \n",
      "          - **CreateDate** *(datetime) --* \n",
      "    \n",
      "            The date and time, in `ISO 8601 date-time format <http://www.iso.org/iso/iso8601>`__ , when the role was created.\n",
      "    \n",
      "            \n",
      "          \n",
      "    \n",
      "          - **AssumeRolePolicyDocument** *(string) --* \n",
      "    \n",
      "            The policy that grants an entity permission to assume the role.\n",
      "    \n",
      "            \n",
      "          \n",
      "    \n",
      "          - **Description** *(string) --* \n",
      "    \n",
      "            A description of the role that you provide.\n",
      "    \n",
      "            \n",
      "          \n",
      "    \n",
      "          - **MaxSessionDuration** *(integer) --* \n",
      "    \n",
      "            The maximum session duration (in seconds) for the specified role. Anyone who uses the AWS CLI, or API to assume the role can specify the duration using the optional ``DurationSeconds`` API parameter or ``duration-seconds`` CLI parameter.\n",
      "    \n",
      "            \n",
      "          \n",
      "    \n",
      "          - **PermissionsBoundary** *(dict) --* \n",
      "    \n",
      "            The ARN of the policy used to set the permissions boundary for the role.\n",
      "    \n",
      "             \n",
      "    \n",
      "            For more information about permissions boundaries, see `Permissions boundaries for IAM identities <https://docs.aws.amazon.com/IAM/latest/UserGuide/access_policies_boundaries.html>`__ in the *IAM User Guide* .\n",
      "    \n",
      "            \n",
      "            \n",
      "    \n",
      "            - **PermissionsBoundaryType** *(string) --* \n",
      "    \n",
      "              The permissions boundary usage type that indicates what type of IAM resource is used as the permissions boundary for an entity. This data type can only have a value of ``Policy`` .\n",
      "    \n",
      "              \n",
      "            \n",
      "    \n",
      "            - **PermissionsBoundaryArn** *(string) --* \n",
      "    \n",
      "              The ARN of the policy used to set the permissions boundary for the user or role.\n",
      "    \n",
      "              \n",
      "        \n",
      "          \n",
      "    \n",
      "          - **Tags** *(list) --* \n",
      "    \n",
      "            A list of tags that are attached to the role. For more information about tagging, see `Tagging IAM resources <https://docs.aws.amazon.com/IAM/latest/UserGuide/id_tags.html>`__ in the *IAM User Guide* .\n",
      "    \n",
      "            \n",
      "            \n",
      "    \n",
      "            - *(dict) --* \n",
      "    \n",
      "              A structure that represents user-provided metadata that can be associated with an IAM resource. For more information about tagging, see `Tagging IAM resources <https://docs.aws.amazon.com/IAM/latest/UserGuide/id_tags.html>`__ in the *IAM User Guide* .\n",
      "    \n",
      "              \n",
      "              \n",
      "    \n",
      "              - **Key** *(string) --* \n",
      "    \n",
      "                The key name that can be used to look up or retrieve the associated value. For example, ``Department`` or ``Cost Center`` are common choices.\n",
      "    \n",
      "                \n",
      "              \n",
      "    \n",
      "              - **Value** *(string) --* \n",
      "    \n",
      "                The value associated with this tag. For example, tags with a key name of ``Department`` could have values such as ``Human Resources`` , ``Accounting`` , and ``Support`` . Tags with a key name of ``Cost Center`` might have values that consist of the number associated with the different cost centers in your company. Typically, many resources have tags with the same key name but with different values.\n",
      "    \n",
      "                 \n",
      "    \n",
      "                .. note::\n",
      "    \n",
      "                   \n",
      "    \n",
      "                  AWS always interprets the tag ``Value`` as a single string. If you need to store an array, you can store comma-separated values in the string. However, you must interpret the value in your code.\n",
      "    \n",
      "                   \n",
      "    \n",
      "                \n",
      "          \n",
      "        \n",
      "          \n",
      "    \n",
      "          - **RoleLastUsed** *(dict) --* \n",
      "    \n",
      "            Contains information about the last time that an IAM role was used. This includes the date and time and the Region in which the role was last used. Activity is only reported for the trailing 400 days. This period can be shorter if your Region began supporting these features within the last year. The role might have been used more than 400 days ago. For more information, see `Regions where data is tracked <https://docs.aws.amazon.com/IAM/latest/UserGuide/access_policies_access-advisor.html#access-advisor_tracking-period>`__ in the *IAM User Guide* .\n",
      "    \n",
      "            \n",
      "            \n",
      "    \n",
      "            - **LastUsedDate** *(datetime) --* \n",
      "    \n",
      "              The date and time, in `ISO 8601 date-time format <http://www.iso.org/iso/iso8601>`__ that the role was last used.\n",
      "    \n",
      "               \n",
      "    \n",
      "              This field is null if the role has not been used within the IAM tracking period. For more information about the tracking period, see `Regions where data is tracked <https://docs.aws.amazon.com/IAM/latest/UserGuide/access_policies_access-advisor.html#access-advisor_tracking-period>`__ in the *IAM User Guide* . \n",
      "    \n",
      "              \n",
      "            \n",
      "    \n",
      "            - **Region** *(string) --* \n",
      "    \n",
      "              The name of the AWS Region in which the role was last used.\n",
      "\n"
     ]
    }
   ],
   "source": [
    "help(iam_client.create_role)"
   ]
  },
  {
   "cell_type": "code",
   "execution_count": 10,
   "id": "e43218fc",
   "metadata": {},
   "outputs": [],
   "source": [
    "iam_client = boto3.client('iam')"
   ]
  },
  {
   "cell_type": "code",
   "execution_count": 12,
   "id": "81b481c2",
   "metadata": {},
   "outputs": [],
   "source": [
    "iam = boto3.resource('iam')\n",
    "account_summary = iam.AccountSummary()"
   ]
  },
  {
   "cell_type": "code",
   "execution_count": 14,
   "id": "e97f1d8f",
   "metadata": {},
   "outputs": [],
   "source": [
    "account_summary.load()"
   ]
  },
  {
   "cell_type": "code",
   "execution_count": 17,
   "id": "4b6b9dd7",
   "metadata": {},
   "outputs": [
    {
     "data": {
      "text/plain": [
       "[]"
      ]
     },
     "execution_count": 17,
     "metadata": {},
     "output_type": "execute_result"
    }
   ],
   "source": [
    "account_summary.get_available_subresources()"
   ]
  },
  {
   "cell_type": "code",
   "execution_count": 18,
   "id": "2ef45ed7",
   "metadata": {},
   "outputs": [
    {
     "data": {
      "text/plain": [
       "{'GroupPolicySizeQuota': 5120,\n",
       " 'InstanceProfilesQuota': 1000,\n",
       " 'Policies': 3,\n",
       " 'GroupsPerUserQuota': 10,\n",
       " 'InstanceProfiles': 1,\n",
       " 'AttachedPoliciesPerUserQuota': 10,\n",
       " 'Users': 3,\n",
       " 'PoliciesQuota': 1500,\n",
       " 'Providers': 0,\n",
       " 'AccountMFAEnabled': 0,\n",
       " 'AccessKeysPerUserQuota': 2,\n",
       " 'AssumeRolePolicySizeQuota': 2048,\n",
       " 'PolicyVersionsInUseQuota': 10000,\n",
       " 'GlobalEndpointTokenVersion': 1,\n",
       " 'VersionsPerPolicyQuota': 5,\n",
       " 'AttachedPoliciesPerGroupQuota': 10,\n",
       " 'PolicySizeQuota': 6144,\n",
       " 'Groups': 2,\n",
       " 'AccountSigningCertificatesPresent': 0,\n",
       " 'UsersQuota': 5000,\n",
       " 'ServerCertificatesQuota': 20,\n",
       " 'MFADevices': 0,\n",
       " 'UserPolicySizeQuota': 2048,\n",
       " 'PolicyVersionsInUse': 23,\n",
       " 'ServerCertificates': 0,\n",
       " 'Roles': 18,\n",
       " 'RolesQuota': 1000,\n",
       " 'SigningCertificatesPerUserQuota': 2,\n",
       " 'MFADevicesInUse': 0,\n",
       " 'RolePolicySizeQuota': 10240,\n",
       " 'AttachedPoliciesPerRoleQuota': 10,\n",
       " 'AccountAccessKeysPresent': 1,\n",
       " 'GroupsQuota': 300}"
      ]
     },
     "execution_count": 18,
     "metadata": {},
     "output_type": "execute_result"
    }
   ],
   "source": [
    "account_summary.summary_map"
   ]
  },
  {
   "cell_type": "code",
   "execution_count": 20,
   "id": "9b5b83d6",
   "metadata": {},
   "outputs": [],
   "source": [
    "user = iam.CurrentUser()"
   ]
  },
  {
   "cell_type": "code",
   "execution_count": 22,
   "id": "720c583e",
   "metadata": {},
   "outputs": [
    {
     "data": {
      "text/plain": [
       "'Leonhard'"
      ]
     },
     "execution_count": 22,
     "metadata": {},
     "output_type": "execute_result"
    }
   ],
   "source": [
    "user.user_name"
   ]
  },
  {
   "cell_type": "code",
   "execution_count": 23,
   "id": "aa8f5d2c",
   "metadata": {},
   "outputs": [
    {
     "data": {
      "text/plain": [
       "'AIDAIJ6K567DOELIXHE52'"
      ]
     },
     "execution_count": 23,
     "metadata": {},
     "output_type": "execute_result"
    }
   ],
   "source": [
    "user.user_id"
   ]
  },
  {
   "cell_type": "code",
   "execution_count": 25,
   "id": "f0d66ef6",
   "metadata": {},
   "outputs": [
    {
     "data": {
      "text/plain": [
       "[]"
      ]
     },
     "execution_count": 25,
     "metadata": {},
     "output_type": "execute_result"
    }
   ],
   "source": [
    "user.get_available_subresources()"
   ]
  },
  {
   "cell_type": "code",
   "execution_count": null,
   "id": "58e5f417",
   "metadata": {},
   "outputs": [],
   "source": []
  }
 ],
 "metadata": {
  "kernelspec": {
   "display_name": "Python 3",
   "language": "python",
   "name": "python3"
  },
  "language_info": {
   "codemirror_mode": {
    "name": "ipython",
    "version": 3
   },
   "file_extension": ".py",
   "mimetype": "text/x-python",
   "name": "python",
   "nbconvert_exporter": "python",
   "pygments_lexer": "ipython3",
   "version": "3.9.7"
  }
 },
 "nbformat": 4,
 "nbformat_minor": 5
}
