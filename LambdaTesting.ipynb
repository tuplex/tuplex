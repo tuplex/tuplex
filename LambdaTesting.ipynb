{
 "cells": [
  {
   "cell_type": "code",
   "execution_count": 1,
   "id": "f15b80c4",
   "metadata": {},
   "outputs": [
    {
     "name": "stdout",
     "output_type": "stream",
     "text": [
      "Welcome to\n",
      "\n",
      "  _____            _\n",
      " |_   _|   _ _ __ | | _____  __\n",
      "   | || | | | '_ \\| |/ _ \\ \\/ /\n",
      "   | || |_| | |_) | |  __/>  <\n",
      "   |_| \\__,_| .__/|_|\\___/_/\\_\\ 0.3.1\n",
      "            |_|\n",
      "    \n",
      "using Python 3.9.7 (default, Sep  3 2021, 12:45:31) \n",
      "[Clang 12.0.0 (clang-1200.0.32.29)] on darwin\n"
     ]
    }
   ],
   "source": [
    "import tuplex"
   ]
  },
  {
   "cell_type": "markdown",
   "id": "22272703",
   "metadata": {},
   "source": [
    "TODO:\n",
    "    \n",
    "    Top-level setup.py should build/package Lambda as zip in pip package for easy upload.\n",
    "    Script should autodetect location"
   ]
  },
  {
   "cell_type": "code",
   "execution_count": 2,
   "id": "a247311a",
   "metadata": {},
   "outputs": [],
   "source": [
    "from tuplex.distributed import setup_aws, default_scratch_dir"
   ]
  },
  {
   "cell_type": "code",
   "execution_count": 3,
   "id": "b3962c17",
   "metadata": {},
   "outputs": [
    {
     "name": "stdout",
     "output_type": "stream",
     "text": [
      "Help on function setup_aws in module tuplex.distributed:\n",
      "\n",
      "setup_aws(aws_access_key=None, aws_secret_key=None, overwrite=True, iam_user='leonhard', lambda_name='tuplex-lambda-runner', lambda_role='tuplex-lambda-role', lambda_file=None, region='us-east-1', s3_scratch_uri='tuplex-leonhard/scratch', quiet=False)\n",
      "\n"
     ]
    }
   ],
   "source": [
    "help(setup_aws)"
   ]
  },
  {
   "cell_type": "code",
   "execution_count": 4,
   "id": "37bdcefb",
   "metadata": {},
   "outputs": [
    {
     "name": "stdout",
     "output_type": "stream",
     "text": [
      "tplxlam.zip  43.9MiB / 43.9MiB  (100.00%)\n",
      "Completed lambda setup in 21.39s\n"
     ]
    }
   ],
   "source": [
    "setup_aws(lambda_file='tplxlam.zip')"
   ]
  },
  {
   "cell_type": "code",
   "execution_count": 5,
   "id": "0a4441b2",
   "metadata": {},
   "outputs": [
    {
     "data": {
      "text/plain": [
       "'tuplex-leonhard/scratch'"
      ]
     },
     "execution_count": 5,
     "metadata": {},
     "output_type": "execute_result"
    }
   ],
   "source": [
    "default_scratch_dir()"
   ]
  },
  {
   "cell_type": "code",
   "execution_count": 6,
   "id": "132b0d98",
   "metadata": {},
   "outputs": [
    {
     "name": "stdout",
     "output_type": "stream",
     "text": [
      "Tuplex WebUI can be accessed under http://localhost:5000\n"
     ]
    }
   ],
   "source": [
    "# There's currently a bug in the Lambda backend when transferring local data to S3: The full partition gets transferred, \n",
    "# not just what is needed.\n",
    "c = tuplex.LambdaContext()"
   ]
  },
  {
   "cell_type": "code",
   "execution_count": null,
   "id": "e7259c7e",
   "metadata": {},
   "outputs": [],
   "source": [
    "%%time\n",
    "c.parallelize([1, 2, 3, 4, 5]).map(lambda x: x * x).collect()"
   ]
  },
  {
   "cell_type": "code",
   "execution_count": 7,
   "id": "ae56bab4",
   "metadata": {},
   "outputs": [],
   "source": [
    "import time"
   ]
  },
  {
   "cell_type": "code",
   "execution_count": 16,
   "id": "79472fc7",
   "metadata": {},
   "outputs": [],
   "source": [
    "import matplotlib.pyplot as plt\n",
    "import seaborn as sns\n",
    "import numpy as np\n",
    "import pandas as pd"
   ]
  },
  {
   "cell_type": "code",
   "execution_count": 18,
   "id": "b8494f46",
   "metadata": {},
   "outputs": [],
   "source": [
    "from tqdm import tqdm"
   ]
  },
  {
   "cell_type": "code",
   "execution_count": 19,
   "id": "fba97cbb",
   "metadata": {},
   "outputs": [
    {
     "name": "stderr",
     "output_type": "stream",
     "text": [
      "100%|██████████| 10/10 [00:07<00:00,  1.31it/s]\n"
     ]
    }
   ],
   "source": [
    "N_runs = 10\n",
    "\n",
    "rows = []\n",
    "\n",
    "for r in tqdm(range(N_runs)):\n",
    "    start_time = time.time()\n",
    "    res = c.parallelize([1, 2, 3, 4, 5]).map(lambda x: x * x).collect()\n",
    "    duration = time.time() - start_time\n",
    "    rows.append({'run' : r, 'duration':duration})\n",
    "df = pd.DataFrame(rows)"
   ]
  },
  {
   "cell_type": "code",
   "execution_count": 37,
   "id": "c6949ecf",
   "metadata": {},
   "outputs": [
    {
     "data": {
      "text/plain": [
       "(0.0, 2.9364781379699707)"
      ]
     },
     "execution_count": 37,
     "metadata": {},
     "output_type": "execute_result"
    },
    {
     "data": {
      "image/png": "[encoded data removed]",
      "text/plain": [
       "<Figure size 720x360 with 1 Axes>"
      ]
     },
     "metadata": {},
     "output_type": "display_data"
    }
   ],
   "source": [
    "plt.figure(figsize=(10, 5))\n",
    "sns.set_style('darkgrid')\n",
    "# sns.set_context('poster')\n",
    "sns.set_context('notebook')\n",
    "plt.plot(df['run']+1, df['duration'], marker='o')\n",
    "plt.xlabel('run')\n",
    "plt.ylabel('time in s')\n",
    "plt.ylim(0, df['duration'].max() + 0.5)"
   ]
  },
  {
   "cell_type": "code",
   "execution_count": null,
   "id": "a230f290",
   "metadata": {},
   "outputs": [],
   "source": []
  },
  {
   "cell_type": "code",
   "execution_count": 10,
   "id": "2adbc414",
   "metadata": {},
   "outputs": [
    {
     "data": {
      "text/plain": [
       "['s3://tuplex-public/test.csv', 's3://tuplex-public/tplxlam.zip']"
      ]
     },
     "execution_count": 10,
     "metadata": {},
     "output_type": "execute_result"
    }
   ],
   "source": [
    "c.ls('s3://tuplex-public/*')"
   ]
  },
  {
   "cell_type": "code",
   "execution_count": 13,
   "id": "ce0c42d2",
   "metadata": {},
   "outputs": [
    {
     "data": {
      "text/plain": [
       "[]"
      ]
     },
     "execution_count": 13,
     "metadata": {},
     "output_type": "execute_result"
    }
   ],
   "source": [
    "c.ls('s3://tuplex-public')"
   ]
  },
  {
   "cell_type": "code",
   "execution_count": 14,
   "id": "00b8ac79",
   "metadata": {},
   "outputs": [
    {
     "name": "stdout",
     "output_type": "stream",
     "text": [
      "Error: \n",
      "Exception:  AccessDenied\n",
      "Error message:  Access Denied"
     ]
    }
   ],
   "source": [
    "c.csv('s3://tuplex-public/test.csv').show(5)"
   ]
  },
  {
   "cell_type": "code",
   "execution_count": 15,
   "id": "9b01297b",
   "metadata": {},
   "outputs": [
    {
     "name": "stdout",
     "output_type": "stream",
     "text": [
      "Writing test.csv\n"
     ]
    }
   ],
   "source": [
    "%%file test.csv\n",
    "A,B,C\n",
    "1,2,3\n",
    "4,5,6\n",
    "7,8,9"
   ]
  },
  {
   "cell_type": "code",
   "execution_count": 17,
   "id": "1e21184d",
   "metadata": {},
   "outputs": [
    {
     "ename": "RuntimeError",
     "evalue": "not yet supported",
     "output_type": "error",
     "traceback": [
      "\u001b[0;31m---------------------------------------------------------------------------\u001b[0m",
      "\u001b[0;31mRuntimeError\u001b[0m                              Traceback (most recent call last)",
      "\u001b[0;32m<ipython-input-17-ad1eea6095e3>\u001b[0m in \u001b[0;36m<module>\u001b[0;34m\u001b[0m\n\u001b[1;32m      1\u001b[0m \u001b[0;31m# TODO: recursive as well!\u001b[0m\u001b[0;34m\u001b[0m\u001b[0;34m\u001b[0m\u001b[0m\n\u001b[0;32m----> 2\u001b[0;31m \u001b[0mc\u001b[0m\u001b[0;34m.\u001b[0m\u001b[0mcp\u001b[0m\u001b[0;34m(\u001b[0m\u001b[0;34m'test.csv'\u001b[0m\u001b[0;34m,\u001b[0m \u001b[0mdefault_scratch_dir\u001b[0m\u001b[0;34m(\u001b[0m\u001b[0;34m)\u001b[0m \u001b[0;34m+\u001b[0m \u001b[0;34m'/test.csv'\u001b[0m\u001b[0;34m)\u001b[0m\u001b[0;34m\u001b[0m\u001b[0;34m\u001b[0m\u001b[0m\n\u001b[0m",
      "\u001b[0;32m~/projects/tuplex-public/tuplex/python/tuplex/context.py\u001b[0m in \u001b[0;36mcp\u001b[0;34m(self, pattern, target_uri)\u001b[0m\n\u001b[1;32m    336\u001b[0m         \"\"\"\n\u001b[1;32m    337\u001b[0m         \u001b[0;32massert\u001b[0m \u001b[0mself\u001b[0m\u001b[0;34m.\u001b[0m\u001b[0m_context\u001b[0m\u001b[0;34m\u001b[0m\u001b[0;34m\u001b[0m\u001b[0m\n\u001b[0;32m--> 338\u001b[0;31m         \u001b[0;32mreturn\u001b[0m \u001b[0mself\u001b[0m\u001b[0;34m.\u001b[0m\u001b[0m_context\u001b[0m\u001b[0;34m.\u001b[0m\u001b[0mcp\u001b[0m\u001b[0;34m(\u001b[0m\u001b[0mpattern\u001b[0m\u001b[0;34m,\u001b[0m \u001b[0mtarget_uri\u001b[0m\u001b[0;34m)\u001b[0m\u001b[0;34m\u001b[0m\u001b[0;34m\u001b[0m\u001b[0m\n\u001b[0m\u001b[1;32m    339\u001b[0m \u001b[0;34m\u001b[0m\u001b[0m\n\u001b[1;32m    340\u001b[0m     \u001b[0;32mdef\u001b[0m \u001b[0mrm\u001b[0m\u001b[0;34m(\u001b[0m\u001b[0mself\u001b[0m\u001b[0;34m,\u001b[0m \u001b[0mpattern\u001b[0m\u001b[0;34m)\u001b[0m\u001b[0;34m:\u001b[0m\u001b[0;34m\u001b[0m\u001b[0;34m\u001b[0m\u001b[0m\n",
      "\u001b[0;31mRuntimeError\u001b[0m: not yet supported"
     ]
    }
   ],
   "source": [
    "# TODO: recursive as well!\n",
    "c.cp('test.csv', default_scratch_dir() + '/test.csv')"
   ]
  },
  {
   "cell_type": "code",
   "execution_count": null,
   "id": "52d67140",
   "metadata": {},
   "outputs": [],
   "source": []
  },
  {
   "cell_type": "code",
   "execution_count": null,
   "id": "7c037118",
   "metadata": {},
   "outputs": [],
   "source": []
  },
  {
   "cell_type": "code",
   "execution_count": null,
   "id": "13511482",
   "metadata": {},
   "outputs": [],
   "source": [
    "c.options()"
   ]
  },
  {
   "cell_type": "code",
   "execution_count": null,
   "id": "eb91157f",
   "metadata": {},
   "outputs": [],
   "source": [
    "import inspect"
   ]
  },
  {
   "cell_type": "code",
   "execution_count": null,
   "id": "7862e605",
   "metadata": {},
   "outputs": [],
   "source": [
    "%%time\n",
    "\n",
    "f = lambda x: x"
   ]
  },
  {
   "cell_type": "code",
   "execution_count": null,
   "id": "4ae08ab8",
   "metadata": {},
   "outputs": [],
   "source": [
    "res = inspect.getsourcefile(f)\n",
    "print(res)"
   ]
  },
  {
   "cell_type": "code",
   "execution_count": null,
   "id": "8fec4d52",
   "metadata": {},
   "outputs": [],
   "source": [
    "f.__code__.co_filename"
   ]
  },
  {
   "cell_type": "code",
   "execution_count": null,
   "id": "9433d5cc",
   "metadata": {},
   "outputs": [],
   "source": [
    "f.__code__.co_firstlineno"
   ]
  },
  {
   "cell_type": "code",
   "execution_count": null,
   "id": "2dac09a1",
   "metadata": {},
   "outputs": [],
   "source": [
    "inspect.getfile(f), inspect.getclasstree(f)"
   ]
  },
  {
   "cell_type": "code",
   "execution_count": null,
   "id": "fec90625",
   "metadata": {},
   "outputs": [],
   "source": [
    "f.__dict__"
   ]
  },
  {
   "cell_type": "code",
   "execution_count": null,
   "id": "5673938e",
   "metadata": {},
   "outputs": [],
   "source": []
  }
 ],
 "metadata": {
  "kernelspec": {
   "display_name": "Python 3",
   "language": "python",
   "name": "python3"
  },
  "language_info": {
   "codemirror_mode": {
    "name": "ipython",
    "version": 3
   },
   "file_extension": ".py",
   "mimetype": "text/x-python",
   "name": "python",
   "nbconvert_exporter": "python",
   "pygments_lexer": "ipython3",
   "version": "3.9.7"
  }
 },
 "nbformat": 4,
 "nbformat_minor": 5
}
