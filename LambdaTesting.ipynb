{
 "cells": [
  {
   "cell_type": "markdown",
   "id": "95800bb5",
   "metadata": {},
   "source": [
    "## Lambda Demo notebook\n",
    "This is a small notebook anyone can use to quickly setup Tuplex on Lambda."
   ]
  },
  {
   "cell_type": "code",
   "execution_count": 1,
   "id": "f15b80c4",
   "metadata": {},
   "outputs": [
    {
     "name": "stdout",
     "output_type": "stream",
     "text": [
      "Welcome to\n",
      "\n",
      "  _____            _\n",
      " |_   _|   _ _ __ | | _____  __\n",
      "   | || | | | '_ \\| |/ _ \\ \\/ /\n",
      "   | || |_| | |_) | |  __/>  <\n",
      "   |_| \\__,_| .__/|_|\\___/_/\\_\\ 0.3.1\n",
      "            |_|\n",
      "    \n",
      "using Python 3.9.7 (default, Sep  3 2021, 12:45:31) \n",
      "[Clang 12.0.0 (clang-1200.0.32.29)] on darwin\n"
     ]
    }
   ],
   "source": [
    "import tuplex"
   ]
  },
  {
   "cell_type": "markdown",
   "id": "22272703",
   "metadata": {},
   "source": [
    "**TODOs left:**\n",
    "    \n",
    "    - Top-level setup.py should build/package Lambda as zip in pip package for easy upload.\n",
    "    - Script should autodetect location\n",
    "    - Need to compile/ship full python (because of embedding) with lambda"
   ]
  },
  {
   "cell_type": "markdown",
   "id": "299ad268",
   "metadata": {},
   "source": [
    "`tuplex.distributed` provides a convenience function `setup_aws`, that allows to setup everything at once. You can customize it to your setup or just run it with auto-detected defaults. Some defaults are the result of functions, e.g. the default S3 scratch dir, which you can import to retrieve the value."
   ]
  },
  {
   "cell_type": "code",
   "execution_count": 2,
   "id": "a247311a",
   "metadata": {},
   "outputs": [],
   "source": [
    "from tuplex.distributed import setup_aws, default_scratch_dir"
   ]
  },
  {
   "cell_type": "markdown",
   "id": "ec4fccfa",
   "metadata": {},
   "source": [
    "Another option to quickly get an overview of all parameters is to simply invoke Python's builtin help"
   ]
  },
  {
   "cell_type": "code",
   "execution_count": 3,
   "id": "b3962c17",
   "metadata": {},
   "outputs": [
    {
     "name": "stdout",
     "output_type": "stream",
     "text": [
      "Help on function setup_aws in module tuplex.distributed:\n",
      "\n",
      "setup_aws(aws_access_key=None, aws_secret_key=None, overwrite=True, iam_user=None, lambda_name=None, lambda_role=None, lambda_file=None, region=None, s3_scratch_uri=None, quiet=False)\n",
      "\n"
     ]
    }
   ],
   "source": [
    "help(setup_aws)"
   ]
  },
  {
   "cell_type": "markdown",
   "id": "3ba6e32b",
   "metadata": {},
   "source": [
    "Let's do the default setup by deploying a Lambda runner. Depending on your network speed, this may take ~30s."
   ]
  },
  {
   "cell_type": "code",
   "execution_count": 4,
   "id": "37bdcefb",
   "metadata": {},
   "outputs": [
    {
     "name": "stdout",
     "output_type": "stream",
     "text": [
      "/Users/leonhards/projects/tuplex-public/tuplex/python/tuplex/other/tplxlam.zip  43.9MiB / 43.9MiB  (100.00%)\n",
      "Completed lambda setup in 20.83s\n"
     ]
    }
   ],
   "source": [
    "setup_aws()"
   ]
  },
  {
   "cell_type": "markdown",
   "id": "9e155588",
   "metadata": {},
   "source": [
    "To create a context using the Lambda backend you can either use `tuplex.Context(backend='lambda')` or simply use the `LambdaContext` function provided."
   ]
  },
  {
   "cell_type": "code",
   "execution_count": 5,
   "id": "132b0d98",
   "metadata": {},
   "outputs": [
    {
     "name": "stdout",
     "output_type": "stream",
     "text": [
      "Tuplex WebUI can be accessed under http://localhost:5000\n"
     ]
    }
   ],
   "source": [
    "# There's currently a bug in the Lambda backend when transferring local data to S3: The full partition gets transferred, \n",
    "# not just what is needed.\n",
    "c = tuplex.LambdaContext()"
   ]
  },
  {
   "cell_type": "markdown",
   "id": "69c2d65e",
   "metadata": {},
   "source": [
    "We can now simply execute a query in the Lambda environment incl. using some local data that gets automatically shipped to the cloud."
   ]
  },
  {
   "cell_type": "code",
   "execution_count": 6,
   "id": "f82310a8",
   "metadata": {},
   "outputs": [
    {
     "data": {
      "text/plain": [
       "[1, 4, 9, 16, 25]"
      ]
     },
     "execution_count": 6,
     "metadata": {},
     "output_type": "execute_result"
    }
   ],
   "source": [
    "c.parallelize([1, 2, 3, 4, 5]).map(lambda x: x * x).collect()"
   ]
  },
  {
   "cell_type": "markdown",
   "id": "af67c851",
   "metadata": {},
   "source": [
    "Naturally, more interesting is to access data in the cloud. E.g., let's read a csv file:"
   ]
  },
  {
   "cell_type": "code",
   "execution_count": 7,
   "id": "7c795f53",
   "metadata": {},
   "outputs": [
    {
     "name": "stdout",
     "output_type": "stream",
     "text": [
      "+----------+\n",
      "| Column_0 |\n",
      "+----------+\n",
      "| 0        |\n",
      "+----------+\n",
      "| 1        |\n",
      "+----------+\n",
      "| 2        |\n",
      "+----------+\n",
      "| 3        |\n",
      "+----------+\n",
      "| 4        |\n",
      "+----------+\n",
      "| 6        |\n",
      "+----------+\n"
     ]
    }
   ],
   "source": [
    "c.csv('s3://tuplex-public/test.csv').show()"
   ]
  },
  {
   "cell_type": "code",
   "execution_count": 8,
   "id": "691fd039",
   "metadata": {},
   "outputs": [],
   "source": [
    "c.parallelize([1, 2, 3], columns=['column']).tocsv(default_scratch_dir() + \"/output.csv\")"
   ]
  },
  {
   "cell_type": "code",
   "execution_count": 9,
   "id": "8be36002",
   "metadata": {},
   "outputs": [
    {
     "data": {
      "text/plain": [
       "'tuplex-leonhard/scratch'"
      ]
     },
     "execution_count": 9,
     "metadata": {},
     "output_type": "execute_result"
    }
   ],
   "source": [
    "default_scratch_dir()"
   ]
  },
  {
   "cell_type": "code",
   "execution_count": null,
   "id": "e785106f",
   "metadata": {},
   "outputs": [],
   "source": []
  },
  {
   "cell_type": "code",
   "execution_count": 10,
   "id": "b5a50186",
   "metadata": {},
   "outputs": [
    {
     "name": "stdout",
     "output_type": "stream",
     "text": [
      "2021-11-09 10:44:06        112 output.part0\r\n"
     ]
    }
   ],
   "source": [
    "!aws s3 ls \"s3://tuplex-leonhard/scratch/output.part0\""
   ]
  },
  {
   "cell_type": "markdown",
   "id": "95a4f4ec",
   "metadata": {},
   "source": [
    "Lambda auto-scales our execution, so let's perform a quick timing experiment:"
   ]
  },
  {
   "cell_type": "code",
   "execution_count": 11,
   "id": "ae56bab4",
   "metadata": {},
   "outputs": [],
   "source": [
    "import time\n",
    "import matplotlib.pyplot as plt\n",
    "import seaborn as sns\n",
    "import numpy as np\n",
    "import pandas as pd\n",
    "from tqdm import tqdm"
   ]
  },
  {
   "cell_type": "code",
   "execution_count": 12,
   "id": "fba97cbb",
   "metadata": {},
   "outputs": [
    {
     "name": "stderr",
     "output_type": "stream",
     "text": [
      "100%|██████████| 10/10 [00:09<00:00,  1.03it/s]\n"
     ]
    }
   ],
   "source": [
    "N_runs = 10\n",
    "\n",
    "rows = []\n",
    "\n",
    "for r in tqdm(range(N_runs)):\n",
    "    start_time = time.time()\n",
    "    res = c.parallelize([1, 2, 3, 4, 5]).map(lambda x: x * x).collect()\n",
    "    duration = time.time() - start_time\n",
    "    rows.append({'run' : r, 'duration':duration})\n",
    "df = pd.DataFrame(rows)"
   ]
  },
  {
   "cell_type": "code",
   "execution_count": 13,
   "id": "c6949ecf",
   "metadata": {},
   "outputs": [
    {
     "data": {
      "text/plain": [
       "(0.0, 2.6973230838775635)"
      ]
     },
     "execution_count": 13,
     "metadata": {},
     "output_type": "execute_result"
    },
    {
     "data": {
      "image/png": "[encoded data removed]",
      "text/plain": [
       "<Figure size 720x360 with 1 Axes>"
      ]
     },
     "metadata": {
      "needs_background": "light"
     },
     "output_type": "display_data"
    }
   ],
   "source": [
    "plt.figure(figsize=(10, 5))\n",
    "sns.set_style('darkgrid')\n",
    "# sns.set_context('poster')\n",
    "sns.set_context('notebook')\n",
    "plt.plot(df['run']+1, df['duration'], marker='o')\n",
    "plt.xlabel('run')\n",
    "plt.ylabel('time in s')\n",
    "plt.ylim(0, df['duration'].max() + 0.5)"
   ]
  },
  {
   "cell_type": "markdown",
   "id": "8a3a9fb8",
   "metadata": {},
   "source": [
    "As we can see subsequent runs get faster. This is because Lambda reuses containers."
   ]
  },
  {
   "cell_type": "code",
   "execution_count": null,
   "id": "7e4b563c",
   "metadata": {},
   "outputs": [],
   "source": []
  },
  {
   "cell_type": "code",
   "execution_count": null,
   "id": "c108164e",
   "metadata": {},
   "outputs": [],
   "source": [
    "Marketing:\n",
    "    - figures\n",
    "    - toy example\n",
    "    - video, explain toy example.\n",
    "    \n",
    "    price etc."
   ]
  },
  {
   "cell_type": "code",
   "execution_count": null,
   "id": "01a0432f",
   "metadata": {},
   "outputs": [],
   "source": []
  },
  {
   "cell_type": "code",
   "execution_count": null,
   "id": "36adca52",
   "metadata": {},
   "outputs": [],
   "source": []
  },
  {
   "cell_type": "code",
   "execution_count": null,
   "id": "c2a6e3e4",
   "metadata": {},
   "outputs": [],
   "source": []
  },
  {
   "cell_type": "code",
   "execution_count": null,
   "id": "cd5acc72",
   "metadata": {},
   "outputs": [],
   "source": []
  },
  {
   "cell_type": "code",
   "execution_count": null,
   "id": "0ccbbd9d",
   "metadata": {},
   "outputs": [],
   "source": []
  },
  {
   "cell_type": "code",
   "execution_count": null,
   "id": "148c7001",
   "metadata": {},
   "outputs": [],
   "source": []
  },
  {
   "cell_type": "code",
   "execution_count": null,
   "id": "2adbc414",
   "metadata": {},
   "outputs": [],
   "source": [
    "c.ls('s3://tuplex-public/*')"
   ]
  },
  {
   "cell_type": "code",
   "execution_count": null,
   "id": "ce0c42d2",
   "metadata": {},
   "outputs": [],
   "source": [
    "c.ls('s3://tuplex-public')"
   ]
  },
  {
   "cell_type": "code",
   "execution_count": null,
   "id": "00b8ac79",
   "metadata": {},
   "outputs": [],
   "source": [
    "c.csv('s3://tuplex-public/test.csv').show(5)"
   ]
  },
  {
   "cell_type": "code",
   "execution_count": null,
   "id": "e7259c7e",
   "metadata": {},
   "outputs": [],
   "source": [
    "%%time\n",
    "c.parallelize([1, 2, 3, 4, 5]).map(lambda x: x * x).collect()"
   ]
  },
  {
   "cell_type": "code",
   "execution_count": null,
   "id": "9b01297b",
   "metadata": {},
   "outputs": [],
   "source": [
    "%%file test.csv\n",
    "A,B,C\n",
    "1,2,3\n",
    "4,5,6\n",
    "7,8,9"
   ]
  },
  {
   "cell_type": "code",
   "execution_count": null,
   "id": "1e21184d",
   "metadata": {},
   "outputs": [],
   "source": [
    "# TODO: recursive as well!\n",
    "c.cp('test.csv', default_scratch_dir() + '/test.csv')"
   ]
  },
  {
   "cell_type": "code",
   "execution_count": null,
   "id": "52d67140",
   "metadata": {},
   "outputs": [],
   "source": []
  },
  {
   "cell_type": "code",
   "execution_count": null,
   "id": "7c037118",
   "metadata": {},
   "outputs": [],
   "source": []
  },
  {
   "cell_type": "code",
   "execution_count": null,
   "id": "13511482",
   "metadata": {},
   "outputs": [],
   "source": [
    "c.options()"
   ]
  },
  {
   "cell_type": "code",
   "execution_count": null,
   "id": "eb91157f",
   "metadata": {},
   "outputs": [],
   "source": [
    "import inspect"
   ]
  },
  {
   "cell_type": "code",
   "execution_count": null,
   "id": "7862e605",
   "metadata": {},
   "outputs": [],
   "source": [
    "%%time\n",
    "\n",
    "f = lambda x: x"
   ]
  },
  {
   "cell_type": "code",
   "execution_count": null,
   "id": "4ae08ab8",
   "metadata": {},
   "outputs": [],
   "source": [
    "res = inspect.getsourcefile(f)\n",
    "print(res)"
   ]
  },
  {
   "cell_type": "code",
   "execution_count": null,
   "id": "8fec4d52",
   "metadata": {},
   "outputs": [],
   "source": [
    "f.__code__.co_filename"
   ]
  },
  {
   "cell_type": "code",
   "execution_count": null,
   "id": "9433d5cc",
   "metadata": {},
   "outputs": [],
   "source": [
    "f.__code__.co_firstlineno"
   ]
  },
  {
   "cell_type": "code",
   "execution_count": null,
   "id": "2dac09a1",
   "metadata": {},
   "outputs": [],
   "source": [
    "inspect.getfile(f), inspect.getclasstree(f)"
   ]
  },
  {
   "cell_type": "code",
   "execution_count": null,
   "id": "fec90625",
   "metadata": {},
   "outputs": [],
   "source": [
    "f.__dict__"
   ]
  },
  {
   "cell_type": "code",
   "execution_count": null,
   "id": "5673938e",
   "metadata": {},
   "outputs": [],
   "source": []
  }
 ],
 "metadata": {
  "kernelspec": {
   "display_name": "Python 3",
   "language": "python",
   "name": "python3"
  },
  "language_info": {
   "codemirror_mode": {
    "name": "ipython",
    "version": 3
   },
   "file_extension": ".py",
   "mimetype": "text/x-python",
   "name": "python",
   "nbconvert_exporter": "python",
   "pygments_lexer": "ipython3",
   "version": "3.9.7"
  }
 },
 "nbformat": 4,
 "nbformat_minor": 5
}
