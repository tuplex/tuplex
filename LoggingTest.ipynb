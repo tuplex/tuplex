{
 "cells": [
  {
   "cell_type": "code",
   "execution_count": 1,
   "id": "8fd81fdc",
   "metadata": {},
   "outputs": [
    {
     "name": "stderr",
     "output_type": "stream",
     "text": [
      "INFO:root:logging test...\n"
     ]
    }
   ],
   "source": [
    "import logging\n",
    "logger = logging.getLogger()\n",
    "logger.setLevel(logging.INFO)\n",
    "logging.info(\"logging test...\")"
   ]
  },
  {
   "cell_type": "code",
   "execution_count": 2,
   "id": "6e162763",
   "metadata": {},
   "outputs": [
    {
     "name": "stdout",
     "output_type": "stream",
     "text": [
      "Help on function debug in module logging:\n",
      "\n",
      "debug(msg, *args, **kwargs)\n",
      "    Log a message with severity 'DEBUG' on the root logger. If the logger has\n",
      "    no handlers, call basicConfig() to add a console handler with a pre-defined\n",
      "    format.\n",
      "\n"
     ]
    }
   ],
   "source": [
    "help(logging.debug)"
   ]
  },
  {
   "cell_type": "code",
   "execution_count": 3,
   "id": "4d9f05d0",
   "metadata": {},
   "outputs": [
    {
     "name": "stdout",
     "output_type": "stream",
     "text": [
      "Welcome to\n",
      "\n",
      "  _____            _\n",
      " |_   _|   _ _ __ | | _____  __\n",
      "   | || | | | '_ \\| |/ _ \\ \\/ /\n",
      "   | || |_| | |_) | |  __/>  <\n",
      "   |_| \\__,_| .__/|_|\\___/_/\\_\\ 0.3.1\n",
      "            |_|\n",
      "    \n",
      "using Python 3.9.7 (default, Sep  3 2021, 12:45:31) \n",
      "[Clang 12.0.0 (clang-1200.0.32.29)] on darwin\n"
     ]
    }
   ],
   "source": [
    "import tuplex"
   ]
  },
  {
   "cell_type": "code",
   "execution_count": 4,
   "id": "b0cd0dc3",
   "metadata": {},
   "outputs": [],
   "source": [
    "from tuplex.libexec.tuplex import registerLogger"
   ]
  },
  {
   "cell_type": "code",
   "execution_count": 5,
   "id": "febb20a4",
   "metadata": {},
   "outputs": [],
   "source": [
    "def f(x):\n",
    "    print(x)"
   ]
  },
  {
   "cell_type": "code",
   "execution_count": 6,
   "id": "55dc8efd",
   "metadata": {},
   "outputs": [
    {
     "name": "stderr",
     "output_type": "stream",
     "text": [
      "INFO:root:this is a test message from the C++ backend...\n"
     ]
    },
    {
     "name": "stdout",
     "output_type": "stream",
     "text": [
      "test message\n"
     ]
    }
   ],
   "source": [
    "registerLogger(f)"
   ]
  },
  {
   "cell_type": "code",
   "execution_count": 7,
   "id": "8c842050",
   "metadata": {},
   "outputs": [
    {
     "name": "stderr",
     "output_type": "stream",
     "text": [
      "INFO:root:loaded runtime library from/Users/leonhards/projects/tuplex-public/tuplex/python/tuplex/libexec/tuplex_runtime.cpython-39-darwin.so\n",
      "INFO:root:initializing LLVM backend\n",
      "INFO:root:init JIT compiler also only in local mode\n",
      "INFO:root:compiling code for skylake\n",
      "INFO:root:allocated bitmap managed memory region (1.00 GB, 32.00 MB block size)\n",
      "INFO:root:allocated bitmap managed memory region (1.00 GB, 32.00 MB block size)\n",
      "INFO:root:allocated bitmap managed memory region (1.00 GB, 32.00 MB block size)\n",
      "INFO:root:allocated bitmap managed memory region (1.00 GB, 32.00 MB block size)\n",
      "INFO:root:allocated bitmap managed memory region (1.00 GB, 32.00 MB block size)\n",
      "INFO:root:allocated bitmap managed memory region (1.00 GB, 32.00 MB block size)\n",
      "INFO:root:allocated bitmap managed memory region (1.00 GB, 32.00 MB block size)\n",
      "INFO:root:allocated bitmap managed memory region (1.00 GB, 32.00 MB block size)\n",
      "INFO:root:allocated bitmap managed memory region (1.00 GB, 32.00 MB block size)\n",
      "INFO:root:allocated bitmap managed memory region (1.00 GB, 32.00 MB block size)\n",
      "INFO:root:allocated bitmap managed memory region (1.00 GB, 32.00 MB block size)\n",
      "INFO:root:allocated bitmap managed memory region (1.00 GB, 32.00 MB block size)\n",
      "INFO:root:started local executor E/1 (1.00 GB, 32.00 MB default partition size)\n",
      "INFO:root:started local executor E/2 (1.00 GB, 32.00 MB default partition size)\n",
      "INFO:root:started local executor E/3 (1.00 GB, 32.00 MB default partition size)\n",
      "INFO:root:starting detached process queue\n",
      "INFO:root:started local executor E/4 (1.00 GB, 32.00 MB default partition size)\n",
      "INFO:root:starting detached process queue\n",
      "INFO:root:starting detached process queue\n",
      "INFO:root:starting detached process queue\n",
      "INFO:root:initialized runtime memory (4.00 MB)\n",
      "INFO:root:initialized runtime memory (4.00 MB)\n",
      "INFO:root:initialized runtime memory (4.00 MB)\n",
      "INFO:root:started local executor E/5 (1.00 GB, 32.00 MB default partition size)\n",
      "INFO:root:starting detached process queue\n",
      "INFO:root:initialized runtime memory (4.00 MB)\n",
      "INFO:root:initialized runtime memory (4.00 MB)\n",
      "INFO:root:started local executor E/6 (1.00 GB, 32.00 MB default partition size)\n",
      "INFO:root:starting detached process queue\n",
      "INFO:root:started local executor E/7 (1.00 GB, 32.00 MB default partition size)\n",
      "INFO:root:starting detached process queue\n",
      "INFO:root:initialized runtime memory (4.00 MB)\n",
      "INFO:root:started local executor E/8 (1.00 GB, 32.00 MB default partition size)\n",
      "INFO:root:starting detached process queue\n",
      "INFO:root:started local executor E/9 (1.00 GB, 32.00 MB default partition size)\n",
      "INFO:root:initialized runtime memory (4.00 MB)\n",
      "INFO:root:starting detached process queue\n",
      "INFO:root:started local executor E/10 (1.00 GB, 32.00 MB default partition size)\n",
      "INFO:root:starting detached process queue\n",
      "INFO:root:initialized runtime memory (4.00 MB)\n",
      "INFO:root:started local executor E/11 (1.00 GB, 32.00 MB default partition size)\n",
      "INFO:root:starting detached process queue\n",
      "INFO:root:started local executor E/12 (1.00 GB, 32.00 MB default partition size)\n",
      "INFO:root:initialized runtime memory (4.00 MB)\n",
      "INFO:root:starting detached process queue\n",
      "INFO:root:allocated bitmap managed memory region (1.00 GB, 32.00 MB block size)\n",
      "INFO:root:initialized runtime memory (4.00 MB)\n",
      "INFO:root:initialized runtime memory (4.00 MB)\n",
      "INFO:root:started driver (1.00 GB, 32.00 MB default partition size)\n"
     ]
    },
    {
     "name": "stdout",
     "output_type": "stream",
     "text": [
      "loaded runtime library from/Users/leonhards/projects/tuplex-public/tuplex/python/tuplex/libexec/tuplex_runtime.cpython-39-darwin.so\n",
      "initializing LLVM backend\n",
      "init JIT compiler also only in local mode\n",
      "compiling code for skylake\n",
      "allocated bitmap managed memory region (1.00 GB, 32.00 MB block size)\n",
      "allocated bitmap managed memory region (1.00 GB, 32.00 MB block size)\n",
      "allocated bitmap managed memory region (1.00 GB, 32.00 MB block size)\n",
      "allocated bitmap managed memory region (1.00 GB, 32.00 MB block size)\n",
      "allocated bitmap managed memory region (1.00 GB, 32.00 MB block size)\n",
      "allocated bitmap managed memory region (1.00 GB, 32.00 MB block size)\n",
      "allocated bitmap managed memory region (1.00 GB, 32.00 MB block size)\n",
      "allocated bitmap managed memory region (1.00 GB, 32.00 MB block size)\n",
      "allocated bitmap managed memory region (1.00 GB, 32.00 MB block size)\n",
      "allocated bitmap managed memory region (1.00 GB, 32.00 MB block size)\n",
      "allocated bitmap managed memory region (1.00 GB, 32.00 MB block size)\n",
      "allocated bitmap managed memory region (1.00 GB, 32.00 MB block size)\n",
      "started local executor E/1 (1.00 GB, 32.00 MB default partition size)\n",
      "started local executor E/2 (1.00 GB, 32.00 MB default partition size)\n",
      "started local executor E/3 (1.00 GB, 32.00 MB default partition size)\n",
      "starting detached process queue\n",
      "started local executor E/4 (1.00 GB, 32.00 MB default partition size)\n",
      "starting detached process queue\n",
      "starting detached process queue\n",
      "starting detached process queue\n",
      "initialized runtime memory (4.00 MB)\n",
      "initialized runtime memory (4.00 MB)\n",
      "initialized runtime memory (4.00 MB)\n",
      "started local executor E/5 (1.00 GB, 32.00 MB default partition size)\n",
      "starting detached process queue\n",
      "initialized runtime memory (4.00 MB)\n",
      "initialized runtime memory (4.00 MB)\n",
      "started local executor E/6 (1.00 GB, 32.00 MB default partition size)\n",
      "starting detached process queue\n",
      "started local executor E/7 (1.00 GB, 32.00 MB default partition size)\n",
      "starting detached process queue\n",
      "initialized runtime memory (4.00 MB)\n",
      "started local executor E/8 (1.00 GB, 32.00 MB default partition size)\n",
      "starting detached process queue\n",
      "started local executor E/9 (1.00 GB, 32.00 MB default partition size)\n",
      "initialized runtime memory (4.00 MB)\n",
      "starting detached process queue\n",
      "started local executor E/10 (1.00 GB, 32.00 MB default partition size)\n",
      "starting detached process queue\n",
      "initialized runtime memory (4.00 MB)\n",
      "started local executor E/11 (1.00 GB, 32.00 MB default partition size)\n",
      "starting detached process queue\n",
      "started local executor E/12 (1.00 GB, 32.00 MB default partition size)\n",
      "initialized runtime memory (4.00 MB)\n",
      "starting detached process queue\n",
      "allocated bitmap managed memory region (1.00 GB, 32.00 MB block size)\n",
      "initialized runtime memory (4.00 MB)\n",
      "initialized runtime memory (4.00 MB)\n",
      "started driver (1.00 GB, 32.00 MB default partition size)\n"
     ]
    }
   ],
   "source": [
    "c = tuplex.Context(conf={'tuplex.webui.enable':False})"
   ]
  },
  {
   "cell_type": "code",
   "execution_count": null,
   "id": "3b88275d",
   "metadata": {},
   "outputs": [],
   "source": [
    "c.parallelize([1, 2, 3]).collect()"
   ]
  },
  {
   "cell_type": "code",
   "execution_count": null,
   "id": "8336991f",
   "metadata": {},
   "outputs": [],
   "source": [
    "print('test')"
   ]
  },
  {
   "cell_type": "code",
   "execution_count": null,
   "id": "1830485a",
   "metadata": {},
   "outputs": [],
   "source": []
  }
 ],
 "metadata": {
  "kernelspec": {
   "display_name": "Python 3",
   "language": "python",
   "name": "python3"
  },
  "language_info": {
   "codemirror_mode": {
    "name": "ipython",
    "version": 3
   },
   "file_extension": ".py",
   "mimetype": "text/x-python",
   "name": "python",
   "nbconvert_exporter": "python",
   "pygments_lexer": "ipython3",
   "version": "3.9.7"
  }
 },
 "nbformat": 4,
 "nbformat_minor": 5
}
