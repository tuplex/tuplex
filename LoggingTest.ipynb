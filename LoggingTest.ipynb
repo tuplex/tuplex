{
 "cells": [
  {
   "cell_type": "markdown",
   "id": "b76a7aa9",
   "metadata": {},
   "source": [
    "# LoggingDemo\n",
    "Tuplex supports now logging module.\n",
    "=> helpful for displaying logging output in Jupyter notebooks!"
   ]
  },
  {
   "cell_type": "code",
   "execution_count": null,
   "id": "8fd81fdc",
   "metadata": {},
   "outputs": [],
   "source": [
    "import logging\n",
    "logging.basicConfig(format='%(asctime)s: %(levelname)s: %(message)s', level=logging.INFO)\n",
    "logger = logging.getLogger()\n",
    "logger.setLevel(logging.INFO)\n",
    "logging.info(\"logging test...\")"
   ]
  },
  {
   "cell_type": "code",
   "execution_count": null,
   "id": "90f5b04a",
   "metadata": {},
   "outputs": [],
   "source": []
  },
  {
   "cell_type": "code",
   "execution_count": null,
   "id": "4d9f05d0",
   "metadata": {},
   "outputs": [],
   "source": [
    "import tuplex"
   ]
  },
  {
   "cell_type": "code",
   "execution_count": null,
   "id": "59390392",
   "metadata": {},
   "outputs": [],
   "source": [
    "c = tuplex.Context()"
   ]
  },
  {
   "cell_type": "code",
   "execution_count": null,
   "id": "e3858990",
   "metadata": {},
   "outputs": [],
   "source": [
    "c.parallelize([1,2,3,4 , 5]).map(lambda x: x * x).collect()"
   ]
  },
  {
   "cell_type": "code",
   "execution_count": null,
   "id": "53198272",
   "metadata": {},
   "outputs": [],
   "source": [
    "# adjust logging level --> need to adjust for ALL handlers\n",
    "def adjust_log_level(level=logging.INFO):\n",
    "    logger = logging.getLogger()\n",
    "    for handler in logger.handlers:\n",
    "        handler.setLevel(level)"
   ]
  },
  {
   "cell_type": "code",
   "execution_count": null,
   "id": "37611aa3",
   "metadata": {},
   "outputs": [],
   "source": [
    "adjust_log_level(logging.WARN)"
   ]
  },
  {
   "cell_type": "code",
   "execution_count": null,
   "id": "ca100865",
   "metadata": {},
   "outputs": [],
   "source": [
    "c.parallelize([1, 2, 3, 4]).map(lambda x: x - 1).collect()"
   ]
  },
  {
   "cell_type": "code",
   "execution_count": null,
   "id": "e82eba0f",
   "metadata": {},
   "outputs": [],
   "source": []
  },
  {
   "cell_type": "code",
   "execution_count": null,
   "id": "f18be65a",
   "metadata": {},
   "outputs": [],
   "source": []
  },
  {
   "cell_type": "code",
   "execution_count": null,
   "id": "c785390e",
   "metadata": {},
   "outputs": [],
   "source": []
  },
  {
   "cell_type": "code",
   "execution_count": null,
   "id": "bbdc7c0b",
   "metadata": {},
   "outputs": [],
   "source": []
  },
  {
   "cell_type": "code",
   "execution_count": null,
   "id": "15c1798c",
   "metadata": {},
   "outputs": [],
   "source": []
  },
  {
   "cell_type": "code",
   "execution_count": null,
   "id": "55d10158",
   "metadata": {},
   "outputs": [],
   "source": []
  },
  {
   "cell_type": "code",
   "execution_count": null,
   "id": "a3a76410",
   "metadata": {},
   "outputs": [],
   "source": []
  },
  {
   "cell_type": "code",
   "execution_count": null,
   "id": "b0cd0dc3",
   "metadata": {},
   "outputs": [],
   "source": [
    "from tuplex.libexec.tuplex import registerLoggingCallback"
   ]
  },
  {
   "cell_type": "code",
   "execution_count": null,
   "id": "e0c0a9fa",
   "metadata": {},
   "outputs": [],
   "source": [
    "import iso8601"
   ]
  },
  {
   "cell_type": "code",
   "execution_count": null,
   "id": "bc8c51e2",
   "metadata": {},
   "outputs": [],
   "source": [
    "def logging_callback(level, time_info, logger_name, msg):\n",
    "    # convert level to logging levels\n",
    "    if 0 == level: # unsupported level in C++\n",
    "        level = logging.INFO\n",
    "    if 1 == level: # trace in C++\n",
    "        level = logging.DEBUG\n",
    "    if 2 == level:\n",
    "        level = logging.DEBUG\n",
    "    if 3 == level:\n",
    "        level = logging.INFO\n",
    "    if 4 == level:\n",
    "        level = logging.WARNING\n",
    "    if 5 == level:\n",
    "        level = logging.ERROR\n",
    "    if 6 == level:\n",
    "        level = logging.CRITICAL\n",
    "    \n",
    "    pathname=None\n",
    "    lineno=None\n",
    "    ct = iso8601.parse_date(time_info).timestamp()\n",
    "\n",
    "    log_record = logging.LogRecord(name, level, pathname, lineno, msg, None, None)\n",
    "    log_record.created = ct\n",
    "    log_record.msecs = (ct - int(ct)) * 1000\n",
    "    log_record.relativeCreated = log_record.created - logging._startTime\n",
    "    logging.getLogger(logger_name).handle(log_record)"
   ]
  },
  {
   "cell_type": "code",
   "execution_count": null,
   "id": "ee478842",
   "metadata": {},
   "outputs": [],
   "source": [
    "log_record.msecs"
   ]
  },
  {
   "cell_type": "code",
   "execution_count": null,
   "id": "6273421b",
   "metadata": {},
   "outputs": [],
   "source": [
    "logging.WARN"
   ]
  },
  {
   "cell_type": "code",
   "execution_count": null,
   "id": "a8a7beae",
   "metadata": {},
   "outputs": [],
   "source": [
    "logging._startTime"
   ]
  },
  {
   "cell_type": "code",
   "execution_count": null,
   "id": "18ffe788",
   "metadata": {},
   "outputs": [],
   "source": [
    "import time"
   ]
  },
  {
   "cell_type": "code",
   "execution_count": null,
   "id": "7ffc4286",
   "metadata": {},
   "outputs": [],
   "source": [
    "time.time()"
   ]
  },
  {
   "cell_type": "code",
   "execution_count": null,
   "id": "7cd49fec",
   "metadata": {},
   "outputs": [],
   "source": [
    "dir(logging)"
   ]
  },
  {
   "cell_type": "code",
   "execution_count": null,
   "id": "febb20a4",
   "metadata": {},
   "outputs": [],
   "source": [
    "def f(a, b, c, d):\n",
    "    print(a, b, c, d)"
   ]
  },
  {
   "cell_type": "code",
   "execution_count": null,
   "id": "55dc8efd",
   "metadata": {},
   "outputs": [],
   "source": [
    "registerLogger(logging_callback)"
   ]
  },
  {
   "cell_type": "code",
   "execution_count": null,
   "id": "8c842050",
   "metadata": {},
   "outputs": [],
   "source": [
    "c = tuplex.Context(conf={'tuplex.webui.enable':False})"
   ]
  },
  {
   "cell_type": "code",
   "execution_count": null,
   "id": "3b88275d",
   "metadata": {},
   "outputs": [],
   "source": [
    "c.parallelize([1, 2, 3]).collect()"
   ]
  },
  {
   "cell_type": "code",
   "execution_count": null,
   "id": "8336991f",
   "metadata": {},
   "outputs": [],
   "source": [
    "print('test')"
   ]
  },
  {
   "cell_type": "code",
   "execution_count": null,
   "id": "1830485a",
   "metadata": {},
   "outputs": [],
   "source": []
  }
 ],
 "metadata": {
  "kernelspec": {
   "display_name": "Python 3",
   "language": "python",
   "name": "python3"
  },
  "language_info": {
   "codemirror_mode": {
    "name": "ipython",
    "version": 3
   },
   "file_extension": ".py",
   "mimetype": "text/x-python",
   "name": "python",
   "nbconvert_exporter": "python",
   "pygments_lexer": "ipython3",
   "version": "3.9.7"
  }
 },
 "nbformat": 4,
 "nbformat_minor": 5
}
