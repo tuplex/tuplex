{
 "cells": [
  {
   "cell_type": "code",
   "execution_count": 1,
   "id": "8fd81fdc",
   "metadata": {},
   "outputs": [
    {
     "name": "stderr",
     "output_type": "stream",
     "text": [
      "2021-11-11 18:21:37,837: INFO: logging test...\n"
     ]
    }
   ],
   "source": [
    "import logging\n",
    "logging.basicConfig(format='%(asctime)s: %(levelname)s: %(message)s', level=logging.INFO)\n",
    "logger = logging.getLogger()\n",
    "logger.setLevel(logging.INFO)\n",
    "logging.info(\"logging test...\")"
   ]
  },
  {
   "cell_type": "code",
   "execution_count": null,
   "id": "90f5b04a",
   "metadata": {},
   "outputs": [],
   "source": []
  },
  {
   "cell_type": "code",
   "execution_count": 2,
   "id": "4d9f05d0",
   "metadata": {},
   "outputs": [
    {
     "name": "stdout",
     "output_type": "stream",
     "text": [
      "Welcome to\n",
      "\n",
      "  _____            _\n",
      " |_   _|   _ _ __ | | _____  __\n",
      "   | || | | | '_ \\| |/ _ \\ \\/ /\n",
      "   | || |_| | |_) | |  __/>  <\n",
      "   |_| \\__,_| .__/|_|\\___/_/\\_\\ 0.3.1\n",
      "            |_|\n",
      "    \n",
      "using Python 3.9.7 (default, Sep  3 2021, 12:45:31) \n",
      "[Clang 12.0.0 (clang-1200.0.32.29)] on darwin\n"
     ]
    }
   ],
   "source": [
    "import tuplex"
   ]
  },
  {
   "cell_type": "code",
   "execution_count": 3,
   "id": "b0cd0dc3",
   "metadata": {},
   "outputs": [],
   "source": [
    "from tuplex.libexec.tuplex import registerLogger"
   ]
  },
  {
   "cell_type": "code",
   "execution_count": 4,
   "id": "e0c0a9fa",
   "metadata": {},
   "outputs": [],
   "source": [
    "import iso8601"
   ]
  },
  {
   "cell_type": "code",
   "execution_count": 18,
   "id": "bc8c51e2",
   "metadata": {},
   "outputs": [],
   "source": [
    "def logging_callback(level, time_info, logger_name, msg):\n",
    "    # convert level to logging levels\n",
    "    if 0 == level: # unsupported level in C++\n",
    "        level = logging.INFO\n",
    "    if 1 == level: # trace in C++\n",
    "        level = logging.DEBUG\n",
    "    if 2 == level:\n",
    "        level = logging.DEBUG\n",
    "    if 3 == level:\n",
    "        level = logging.INFO\n",
    "    if 4 == level:\n",
    "        level = logging.WARNING\n",
    "    if 5 == level:\n",
    "        level = logging.ERROR\n",
    "    if 6 == level:\n",
    "        level = logging.CRITICAL\n",
    "    \n",
    "    pathname=None\n",
    "    lineno=None\n",
    "    ct = iso8601.parse_date(time_info).timestamp()\n",
    "\n",
    "    log_record = logging.LogRecord(name, level, pathname, lineno, msg, None, None)\n",
    "    log_record.created = ct\n",
    "    log_record.msecs = (ct - int(ct)) * 1000\n",
    "    log_record.relativeCreated = log_record.created - logging._startTime\n",
    "    logging.getLogger(logger_name).handle(log_record)"
   ]
  },
  {
   "cell_type": "code",
   "execution_count": null,
   "id": "ee478842",
   "metadata": {},
   "outputs": [],
   "source": [
    "log_record.msecs"
   ]
  },
  {
   "cell_type": "code",
   "execution_count": 12,
   "id": "6273421b",
   "metadata": {},
   "outputs": [
    {
     "data": {
      "text/plain": [
       "1636672920.0"
      ]
     },
     "execution_count": 12,
     "metadata": {},
     "output_type": "execute_result"
    }
   ],
   "source": [
    "logging.WARN"
   ]
  },
  {
   "cell_type": "code",
   "execution_count": null,
   "id": "a8a7beae",
   "metadata": {},
   "outputs": [],
   "source": [
    "logging._startTime"
   ]
  },
  {
   "cell_type": "code",
   "execution_count": null,
   "id": "18ffe788",
   "metadata": {},
   "outputs": [],
   "source": [
    "import time"
   ]
  },
  {
   "cell_type": "code",
   "execution_count": null,
   "id": "7ffc4286",
   "metadata": {},
   "outputs": [],
   "source": [
    "time.time()"
   ]
  },
  {
   "cell_type": "code",
   "execution_count": null,
   "id": "7cd49fec",
   "metadata": {},
   "outputs": [],
   "source": [
    "dir(logging)"
   ]
  },
  {
   "cell_type": "code",
   "execution_count": 5,
   "id": "febb20a4",
   "metadata": {},
   "outputs": [],
   "source": [
    "def f(a, b, c, d):\n",
    "    print(a, b, c, d)"
   ]
  },
  {
   "cell_type": "code",
   "execution_count": 19,
   "id": "55dc8efd",
   "metadata": {},
   "outputs": [
    {
     "name": "stderr",
     "output_type": "stream",
     "text": [
      "2021-11-11 18:28:48,272: INFO: this is a test message from the C++ backend...\n"
     ]
    }
   ],
   "source": [
    "registerLogger(logging_callback)"
   ]
  },
  {
   "cell_type": "code",
   "execution_count": 20,
   "id": "8c842050",
   "metadata": {},
   "outputs": [
    {
     "name": "stderr",
     "output_type": "stream",
     "text": [
      "2021-11-11 18:28:49,000: INFO: loaded runtime library from/Users/leonhards/projects/tuplex-public/tuplex/python/tuplex/libexec/tuplex_runtime.cpython-39-darwin.so\n",
      "2021-11-11 18:28:49,000: INFO: initializing LLVM backend\n",
      "2021-11-11 18:28:49,000: WARNING: init JIT compiler also only in local mode\n",
      "2021-11-11 18:28:49,000: INFO: compiling code for skylake\n",
      "2021-11-11 18:28:49,000: INFO: started local executor E/12 (1.00 GB, 32.00 MB default partition size)\n",
      "2021-11-11 18:28:49,000: INFO: started local executor E/12 (1.00 GB, 32.00 MB default partition size)\n",
      "2021-11-11 18:28:49,000: INFO: started local executor E/12 (1.00 GB, 32.00 MB default partition size)\n",
      "2021-11-11 18:28:49,000: INFO: started local executor E/12 (1.00 GB, 32.00 MB default partition size)\n",
      "2021-11-11 18:28:49,000: INFO: started local executor E/12 (1.00 GB, 32.00 MB default partition size)\n",
      "2021-11-11 18:28:49,000: INFO: started local executor E/12 (1.00 GB, 32.00 MB default partition size)\n",
      "2021-11-11 18:28:49,000: INFO: started local executor E/12 (1.00 GB, 32.00 MB default partition size)\n",
      "2021-11-11 18:28:49,000: INFO: started local executor E/12 (1.00 GB, 32.00 MB default partition size)\n",
      "2021-11-11 18:28:49,000: INFO: started local executor E/12 (1.00 GB, 32.00 MB default partition size)\n",
      "2021-11-11 18:28:49,000: INFO: started local executor E/12 (1.00 GB, 32.00 MB default partition size)\n",
      "2021-11-11 18:28:49,000: INFO: started local executor E/12 (1.00 GB, 32.00 MB default partition size)\n",
      "2021-11-11 18:28:49,000: INFO: started local executor E/12 (1.00 GB, 32.00 MB default partition size)\n"
     ]
    }
   ],
   "source": [
    "c = tuplex.Context(conf={'tuplex.webui.enable':False})"
   ]
  },
  {
   "cell_type": "code",
   "execution_count": 21,
   "id": "3b88275d",
   "metadata": {},
   "outputs": [
    {
     "name": "stderr",
     "output_type": "stream",
     "text": [
      "2021-11-11 18:28:58,000: INFO: transferring 3 elements to tuplex\n",
      "2021-11-11 18:28:58,000: INFO: inferring type!\n",
      "2021-11-11 18:28:58,000: INFO: inferred default type is i64\n",
      "2021-11-11 18:28:58,000: INFO: Data transfer to backend took 0.043871 seconds (materialized: 32.00 MB)\n",
      "2021-11-11 18:28:58,000: INFO: logical optimization took 0.041895ms\n",
      "2021-11-11 18:28:58,000: INFO: [Transform Stage] skipped stage 0 because there is nothing todo here.\n",
      "2021-11-11 18:28:58,000: INFO: Query Execution took 0.289205s. (planning: 0.0642725s, execution: 0.224932s)\n",
      "2021-11-11 18:28:58,000: INFO: Data transfer back to Python took 0.013238 seconds\n"
     ]
    },
    {
     "data": {
      "text/plain": [
       "[1, 2, 3]"
      ]
     },
     "execution_count": 21,
     "metadata": {},
     "output_type": "execute_result"
    }
   ],
   "source": [
    "c.parallelize([1, 2, 3]).collect()"
   ]
  },
  {
   "cell_type": "code",
   "execution_count": null,
   "id": "8336991f",
   "metadata": {},
   "outputs": [],
   "source": [
    "print('test')"
   ]
  },
  {
   "cell_type": "code",
   "execution_count": null,
   "id": "1830485a",
   "metadata": {},
   "outputs": [],
   "source": []
  }
 ],
 "metadata": {
  "kernelspec": {
   "display_name": "Python 3",
   "language": "python",
   "name": "python3"
  },
  "language_info": {
   "codemirror_mode": {
    "name": "ipython",
    "version": 3
   },
   "file_extension": ".py",
   "mimetype": "text/x-python",
   "name": "python",
   "nbconvert_exporter": "python",
   "pygments_lexer": "ipython3",
   "version": "3.9.7"
  }
 },
 "nbformat": 4,
 "nbformat_minor": 5
}
