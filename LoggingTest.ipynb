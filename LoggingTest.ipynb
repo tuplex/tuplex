{
 "cells": [
  {
   "cell_type": "code",
   "execution_count": 1,
   "id": "8fd81fdc",
   "metadata": {},
   "outputs": [
    {
     "name": "stderr",
     "output_type": "stream",
     "text": [
      "2021-11-11 19:06:00,573: INFO: logging test...\n"
     ]
    }
   ],
   "source": [
    "import logging\n",
    "logging.basicConfig(format='%(asctime)s: %(levelname)s: %(message)s', level=logging.INFO)\n",
    "logger = logging.getLogger()\n",
    "logger.setLevel(logging.INFO)\n",
    "logging.info(\"logging test...\")"
   ]
  },
  {
   "cell_type": "code",
   "execution_count": null,
   "id": "90f5b04a",
   "metadata": {},
   "outputs": [],
   "source": []
  },
  {
   "cell_type": "code",
   "execution_count": 2,
   "id": "4d9f05d0",
   "metadata": {},
   "outputs": [
    {
     "name": "stdout",
     "output_type": "stream",
     "text": [
      "Welcome to\n",
      "\n",
      "  _____            _\n",
      " |_   _|   _ _ __ | | _____  __\n",
      "   | || | | | '_ \\| |/ _ \\ \\/ /\n",
      "   | || |_| | |_) | |  __/>  <\n",
      "   |_| \\__,_| .__/|_|\\___/_/\\_\\ 0.3.1\n",
      "            |_|\n",
      "    \n",
      "using Python 3.9.7 (default, Sep  3 2021, 12:45:31) \n",
      "[Clang 12.0.0 (clang-1200.0.32.29)] on darwin\n"
     ]
    }
   ],
   "source": [
    "import tuplex"
   ]
  },
  {
   "cell_type": "code",
   "execution_count": 3,
   "id": "59390392",
   "metadata": {},
   "outputs": [
    {
     "name": "stderr",
     "output_type": "stream",
     "text": [
      "2021-11-11 19:06:02,675: INFO: Redirecting C++ logging to Python\n",
      "2021-11-11 19:06:04,177: INFO: Gunicorn locally started...\n",
      "2021-11-11 19:06:04,491: INFO: Gunicorn PID=95223\n"
     ]
    },
    {
     "name": "stdout",
     "output_type": "stream",
     "text": [
      "Tuplex WebUI can be accessed under http://localhost:5000\n"
     ]
    },
    {
     "name": "stderr",
     "output_type": "stream",
     "text": [
      "2021-11-11 19:06:05,092: INFO: loaded runtime library from/Users/leonhards/projects/tuplex-public/tuplex/python/tuplex/libexec/tuplex_runtime.cpython-39-darwin.so\n",
      "2021-11-11 19:06:05,092: INFO: initializing LLVM backend\n",
      "2021-11-11 19:06:05,092: WARNING: init JIT compiler also only in local mode\n",
      "2021-11-11 19:06:05,092: INFO: compiling code for skylake\n",
      "2021-11-11 19:06:05,095: INFO: connected to history server running under http://localhost:5000\n",
      "2021-11-11 19:06:05,095: INFO: allocated bitmap managed memory region (1.00 GB, 32.00 MB block size)\n",
      "2021-11-11 19:06:05,095: INFO: allocated bitmap managed memory region (1.00 GB, 32.00 MB block size)\n",
      "2021-11-11 19:06:05,095: INFO: allocated bitmap managed memory region (1.00 GB, 32.00 MB block size)\n",
      "2021-11-11 19:06:05,095: INFO: allocated bitmap managed memory region (1.00 GB, 32.00 MB block size)\n",
      "2021-11-11 19:06:05,095: INFO: allocated bitmap managed memory region (1.00 GB, 32.00 MB block size)\n",
      "2021-11-11 19:06:05,096: INFO: allocated bitmap managed memory region (1.00 GB, 32.00 MB block size)\n",
      "2021-11-11 19:06:05,096: INFO: allocated bitmap managed memory region (1.00 GB, 32.00 MB block size)\n",
      "2021-11-11 19:06:05,096: INFO: allocated bitmap managed memory region (1.00 GB, 32.00 MB block size)\n",
      "2021-11-11 19:06:05,096: INFO: allocated bitmap managed memory region (1.00 GB, 32.00 MB block size)\n",
      "2021-11-11 19:06:05,096: INFO: allocated bitmap managed memory region (1.00 GB, 32.00 MB block size)\n",
      "2021-11-11 19:06:05,096: INFO: allocated bitmap managed memory region (1.00 GB, 32.00 MB block size)\n",
      "2021-11-11 19:06:05,096: INFO: allocated bitmap managed memory region (1.00 GB, 32.00 MB block size)\n",
      "2021-11-11 19:06:05,096: INFO: started local executor E/1 (1.00 GB, 32.00 MB default partition size)\n",
      "2021-11-11 19:06:05,096: INFO: started local executor E/2 (1.00 GB, 32.00 MB default partition size)\n",
      "2021-11-11 19:06:05,096: INFO: started local executor E/3 (1.00 GB, 32.00 MB default partition size)\n",
      "2021-11-11 19:06:05,096: INFO: started local executor E/4 (1.00 GB, 32.00 MB default partition size)\n",
      "2021-11-11 19:06:05,096: INFO: started local executor E/5 (1.00 GB, 32.00 MB default partition size)\n",
      "2021-11-11 19:06:05,096: INFO: starting detached process queue\n",
      "2021-11-11 19:06:05,096: INFO: started local executor E/6 (1.00 GB, 32.00 MB default partition size)\n",
      "2021-11-11 19:06:05,096: INFO: starting detached process queue\n",
      "2021-11-11 19:06:05,096: INFO: started local executor E/7 (1.00 GB, 32.00 MB default partition size)\n",
      "2021-11-11 19:06:05,096: INFO: starting detached process queue\n",
      "2021-11-11 19:06:05,096: INFO: starting detached process queue\n",
      "2021-11-11 19:06:05,096: INFO: started local executor E/8 (1.00 GB, 32.00 MB default partition size)\n",
      "2021-11-11 19:06:05,096: INFO: started local executor E/9 (1.00 GB, 32.00 MB default partition size)\n",
      "2021-11-11 19:06:05,096: INFO: starting detached process queue\n",
      "2021-11-11 19:06:05,096: INFO: started local executor E/10 (1.00 GB, 32.00 MB default partition size)\n",
      "2021-11-11 19:06:05,096: INFO: starting detached process queue\n",
      "2021-11-11 19:06:05,096: INFO: started local executor E/11 (1.00 GB, 32.00 MB default partition size)\n",
      "2021-11-11 19:06:05,096: INFO: initialized runtime memory (4.00 MB)\n",
      "2021-11-11 19:06:05,096: INFO: starting detached process queue\n",
      "2021-11-11 19:06:05,096: INFO: initialized runtime memory (4.00 MB)\n",
      "2021-11-11 19:06:05,096: INFO: started local executor E/12 (1.00 GB, 32.00 MB default partition size)\n",
      "2021-11-11 19:06:05,096: INFO: starting detached process queue\n",
      "2021-11-11 19:06:05,096: INFO: starting detached process queue\n",
      "2021-11-11 19:06:05,096: INFO: initialized runtime memory (4.00 MB)\n",
      "2021-11-11 19:06:05,096: INFO: starting detached process queue\n",
      "2021-11-11 19:06:05,096: INFO: initialized runtime memory (4.00 MB)\n",
      "2021-11-11 19:06:05,096: INFO: initialized runtime memory (4.00 MB)\n",
      "2021-11-11 19:06:05,096: INFO: initialized runtime memory (4.00 MB)\n",
      "2021-11-11 19:06:05,096: INFO: starting detached process queue\n",
      "2021-11-11 19:06:05,096: INFO: initialized runtime memory (4.00 MB)\n",
      "2021-11-11 19:06:05,096: INFO: initialized runtime memory (4.00 MB)\n",
      "2021-11-11 19:06:05,096: INFO: starting detached process queue\n",
      "2021-11-11 19:06:05,096: INFO: initialized runtime memory (4.00 MB)\n",
      "2021-11-11 19:06:05,098: INFO: initialized runtime memory (4.00 MB)\n",
      "2021-11-11 19:06:05,098: INFO: initialized runtime memory (4.00 MB)\n",
      "2021-11-11 19:06:05,098: INFO: initialized runtime memory (4.00 MB)\n",
      "2021-11-11 19:06:05,098: INFO: allocated bitmap managed memory region (1.00 GB, 32.00 MB block size)\n",
      "2021-11-11 19:06:05,098: INFO: started driver (1.00 GB, 32.00 MB default partition size)\n"
     ]
    }
   ],
   "source": [
    "c = tuplex.Context()"
   ]
  },
  {
   "cell_type": "code",
   "execution_count": 4,
   "id": "e3858990",
   "metadata": {},
   "outputs": [
    {
     "name": "stderr",
     "output_type": "stream",
     "text": [
      "2021-11-11 19:06:22,354: INFO: transferring 5 elements to tuplex\n",
      "2021-11-11 19:06:22,354: INFO: inferring type!\n",
      "2021-11-11 19:06:22,394: INFO: inferred default type is i64\n",
      "2021-11-11 19:06:22,394: INFO: Data transfer to backend took 0.040537 seconds (materialized: 32.00 MB)\n",
      "2021-11-11 19:06:22,411: INFO: performing static typing for UDF in operator map\n",
      "2021-11-11 19:06:22,434: INFO: performing static typing for UDF in operator map\n",
      "2021-11-11 19:06:22,456: INFO: performing static typing for UDF in operator map\n",
      "2021-11-11 19:06:22,479: INFO: performing static typing for UDF in operator map\n",
      "2021-11-11 19:06:22,480: INFO: logical optimization took 0.044890ms\n",
      "2021-11-11 19:06:22,480: INFO: generating pipeline for (i64) -> (i64) (1 operator pipelined)\n",
      "2021-11-11 19:06:22,482: INFO: generating lambda function for (i64) -> i64\n",
      "2021-11-11 19:06:22,500: INFO: notifying history server of new job\n",
      "2021-11-11 19:06:22,500: INFO: history server registered new job under id 618daffe32f3a359d8885d65\n",
      "2021-11-11 19:06:22,500: INFO: track job under http://localhost:5000/ui/job?id=618daffe32f3a359d8885d65\n",
      "2021-11-11 19:06:22,509: INFO: lazy init symbols\n",
      "2021-11-11 19:06:22,509: INFO: parse module in 0.000511\n",
      "2021-11-11 19:06:22,509: INFO: retrieved metrics object\n",
      "2021-11-11 19:06:22,542: INFO: Optimization via LLVM passes took 0.033456 ms\n",
      "2021-11-11 19:06:22,542: INFO: registering symbols...\n",
      "2021-11-11 19:06:22,542: INFO: starting code compilation\n",
      "2021-11-11 19:06:22,542: INFO: first compile done\n",
      "2021-11-11 19:06:22,556: INFO: functor Stage_0 retrieved from llvm\n",
      "2021-11-11 19:06:22,556: INFO: retrieving init/release stage functors\n",
      "2021-11-11 19:06:22,556: INFO: Compiled code paths for stage 0 in 0.02 ms\n",
      "2021-11-11 19:06:22,563: INFO: [Transform Stage] Stage 0 compiled to x86 in 0.0564401s\n",
      "2021-11-11 19:06:22,605: INFO: [Task Finished] Transform to mem in 0.041412s (5 normal rows, 0 exceptions)\n",
      "2021-11-11 19:06:22,612: INFO: [Transform Stage] Stage 0 completed 1 load&transform tasks in 0.0491939s\n",
      "2021-11-11 19:06:22,612: INFO: [Transform Stage] Stage 0 total wall clock time: 0.0414118s, 5 input rows, time to process 1 row via fast path: 8.28236ms\n",
      "2021-11-11 19:06:22,621: INFO: [Transform Stage] Stage 0 completed 1 sink tasks in 0.0076782s\n",
      "2021-11-11 19:06:22,621: INFO: [Transform Stage] Stage 0 took 0.11338s\n",
      "2021-11-11 19:06:22,628: INFO: Query Execution took 0.214451s. (planning: 0.0697967s, execution: 0.144655s)\n",
      "2021-11-11 19:06:22,668: INFO: Data transfer back to Python took 0.040563 seconds\n"
     ]
    },
    {
     "data": {
      "text/plain": [
       "[1, 4, 9, 16, 25]"
      ]
     },
     "execution_count": 4,
     "metadata": {},
     "output_type": "execute_result"
    }
   ],
   "source": [
    "c.parallelize([1,2,3,4 , 5]).map(lambda x: x * x).collect()"
   ]
  },
  {
   "cell_type": "code",
   "execution_count": 15,
   "id": "53198272",
   "metadata": {},
   "outputs": [],
   "source": [
    "# adjust logging level --> need to adjust for ALL handlers\n",
    "def adjust_log_level(level=logging.INFO):\n",
    "    logger = logging.getLogger()\n",
    "    for handler in logger.handlers:\n",
    "        handler.setLevel(level)"
   ]
  },
  {
   "cell_type": "code",
   "execution_count": 18,
   "id": "37611aa3",
   "metadata": {},
   "outputs": [],
   "source": [
    "adjust_log_level(logging.WARN)"
   ]
  },
  {
   "cell_type": "code",
   "execution_count": 19,
   "id": "ca100865",
   "metadata": {},
   "outputs": [
    {
     "data": {
      "text/plain": [
       "[0, 1, 2, 3]"
      ]
     },
     "execution_count": 19,
     "metadata": {},
     "output_type": "execute_result"
    }
   ],
   "source": [
    "c.parallelize([1, 2, 3, 4]).map(lambda x: x - 1).collect()"
   ]
  },
  {
   "cell_type": "code",
   "execution_count": null,
   "id": "e82eba0f",
   "metadata": {},
   "outputs": [],
   "source": []
  },
  {
   "cell_type": "code",
   "execution_count": null,
   "id": "f18be65a",
   "metadata": {},
   "outputs": [],
   "source": []
  },
  {
   "cell_type": "code",
   "execution_count": null,
   "id": "c785390e",
   "metadata": {},
   "outputs": [],
   "source": []
  },
  {
   "cell_type": "code",
   "execution_count": null,
   "id": "bbdc7c0b",
   "metadata": {},
   "outputs": [],
   "source": []
  },
  {
   "cell_type": "code",
   "execution_count": null,
   "id": "15c1798c",
   "metadata": {},
   "outputs": [],
   "source": []
  },
  {
   "cell_type": "code",
   "execution_count": null,
   "id": "55d10158",
   "metadata": {},
   "outputs": [],
   "source": []
  },
  {
   "cell_type": "code",
   "execution_count": null,
   "id": "a3a76410",
   "metadata": {},
   "outputs": [],
   "source": []
  },
  {
   "cell_type": "code",
   "execution_count": null,
   "id": "b0cd0dc3",
   "metadata": {},
   "outputs": [],
   "source": [
    "from tuplex.libexec.tuplex import registerLoggingCallback"
   ]
  },
  {
   "cell_type": "code",
   "execution_count": null,
   "id": "e0c0a9fa",
   "metadata": {},
   "outputs": [],
   "source": [
    "import iso8601"
   ]
  },
  {
   "cell_type": "code",
   "execution_count": null,
   "id": "bc8c51e2",
   "metadata": {},
   "outputs": [],
   "source": [
    "def logging_callback(level, time_info, logger_name, msg):\n",
    "    # convert level to logging levels\n",
    "    if 0 == level: # unsupported level in C++\n",
    "        level = logging.INFO\n",
    "    if 1 == level: # trace in C++\n",
    "        level = logging.DEBUG\n",
    "    if 2 == level:\n",
    "        level = logging.DEBUG\n",
    "    if 3 == level:\n",
    "        level = logging.INFO\n",
    "    if 4 == level:\n",
    "        level = logging.WARNING\n",
    "    if 5 == level:\n",
    "        level = logging.ERROR\n",
    "    if 6 == level:\n",
    "        level = logging.CRITICAL\n",
    "    \n",
    "    pathname=None\n",
    "    lineno=None\n",
    "    ct = iso8601.parse_date(time_info).timestamp()\n",
    "\n",
    "    log_record = logging.LogRecord(name, level, pathname, lineno, msg, None, None)\n",
    "    log_record.created = ct\n",
    "    log_record.msecs = (ct - int(ct)) * 1000\n",
    "    log_record.relativeCreated = log_record.created - logging._startTime\n",
    "    logging.getLogger(logger_name).handle(log_record)"
   ]
  },
  {
   "cell_type": "code",
   "execution_count": null,
   "id": "ee478842",
   "metadata": {},
   "outputs": [],
   "source": [
    "log_record.msecs"
   ]
  },
  {
   "cell_type": "code",
   "execution_count": null,
   "id": "6273421b",
   "metadata": {},
   "outputs": [],
   "source": [
    "logging.WARN"
   ]
  },
  {
   "cell_type": "code",
   "execution_count": null,
   "id": "a8a7beae",
   "metadata": {},
   "outputs": [],
   "source": [
    "logging._startTime"
   ]
  },
  {
   "cell_type": "code",
   "execution_count": null,
   "id": "18ffe788",
   "metadata": {},
   "outputs": [],
   "source": [
    "import time"
   ]
  },
  {
   "cell_type": "code",
   "execution_count": null,
   "id": "7ffc4286",
   "metadata": {},
   "outputs": [],
   "source": [
    "time.time()"
   ]
  },
  {
   "cell_type": "code",
   "execution_count": null,
   "id": "7cd49fec",
   "metadata": {},
   "outputs": [],
   "source": [
    "dir(logging)"
   ]
  },
  {
   "cell_type": "code",
   "execution_count": null,
   "id": "febb20a4",
   "metadata": {},
   "outputs": [],
   "source": [
    "def f(a, b, c, d):\n",
    "    print(a, b, c, d)"
   ]
  },
  {
   "cell_type": "code",
   "execution_count": null,
   "id": "55dc8efd",
   "metadata": {},
   "outputs": [],
   "source": [
    "registerLogger(logging_callback)"
   ]
  },
  {
   "cell_type": "code",
   "execution_count": null,
   "id": "8c842050",
   "metadata": {},
   "outputs": [],
   "source": [
    "c = tuplex.Context(conf={'tuplex.webui.enable':False})"
   ]
  },
  {
   "cell_type": "code",
   "execution_count": null,
   "id": "3b88275d",
   "metadata": {},
   "outputs": [],
   "source": [
    "c.parallelize([1, 2, 3]).collect()"
   ]
  },
  {
   "cell_type": "code",
   "execution_count": null,
   "id": "8336991f",
   "metadata": {},
   "outputs": [],
   "source": [
    "print('test')"
   ]
  },
  {
   "cell_type": "code",
   "execution_count": null,
   "id": "1830485a",
   "metadata": {},
   "outputs": [],
   "source": []
  }
 ],
 "metadata": {
  "kernelspec": {
   "display_name": "Python 3",
   "language": "python",
   "name": "python3"
  },
  "language_info": {
   "codemirror_mode": {
    "name": "ipython",
    "version": 3
   },
   "file_extension": ".py",
   "mimetype": "text/x-python",
   "name": "python",
   "nbconvert_exporter": "python",
   "pygments_lexer": "ipython3",
   "version": "3.9.7"
  }
 },
 "nbformat": 4,
 "nbformat_minor": 5
}
