{
 "cells": [
  {
   "cell_type": "code",
   "execution_count": 1,
   "id": "2b4ac99e",
   "metadata": {},
   "outputs": [],
   "source": [
    "import modulefinder"
   ]
  },
  {
   "cell_type": "code",
   "execution_count": 5,
   "id": "805a88e7",
   "metadata": {},
   "outputs": [],
   "source": [
    "m = modulefinder.ModuleFinder()"
   ]
  },
  {
   "cell_type": "code",
   "execution_count": 24,
   "id": "2bc1aea3",
   "metadata": {},
   "outputs": [],
   "source": [
    "f = lambda x: x * x\n",
    "\n",
    "import re\n",
    "import numpy as np\n",
    "f = lambda x: np.array(x)"
   ]
  },
  {
   "cell_type": "code",
   "execution_count": 25,
   "id": "867433f4",
   "metadata": {},
   "outputs": [
    {
     "data": {
      "text/plain": [
       "[]"
      ]
     },
     "execution_count": 25,
     "metadata": {},
     "output_type": "execute_result"
    }
   ],
   "source": [
    "list(m.scan_opcodes(f.__code__))"
   ]
  },
  {
   "cell_type": "code",
   "execution_count": 26,
   "id": "62da5fa3",
   "metadata": {},
   "outputs": [
    {
     "data": {
      "text/plain": [
       "b't\\x00\\xa0\\x01|\\x00\\xa1\\x01S\\x00'"
      ]
     },
     "execution_count": 26,
     "metadata": {},
     "output_type": "execute_result"
    }
   ],
   "source": [
    "f.__code__.co_code"
   ]
  },
  {
   "cell_type": "code",
   "execution_count": 27,
   "id": "915fa0ab",
   "metadata": {},
   "outputs": [],
   "source": [
    "import dis"
   ]
  },
  {
   "cell_type": "code",
   "execution_count": 28,
   "id": "cd953cf4",
   "metadata": {},
   "outputs": [
    {
     "name": "stdout",
     "output_type": "stream",
     "text": [
      "          0 LOAD_GLOBAL              0 (0)\n",
      "          2 LOAD_METHOD              1 (1)\n",
      "          4 LOAD_FAST                0 (0)\n",
      "          6 CALL_METHOD              1\n",
      "          8 RETURN_VALUE\n"
     ]
    }
   ],
   "source": [
    "dis.dis(f.__code__.co_code)"
   ]
  },
  {
   "cell_type": "markdown",
   "id": "a4bcb6f6",
   "metadata": {},
   "source": [
    "need to go via cloudpickle..."
   ]
  },
  {
   "cell_type": "code",
   "execution_count": null,
   "id": "a708f3e0",
   "metadata": {},
   "outputs": [],
   "source": []
  }
 ],
 "metadata": {
  "kernelspec": {
   "display_name": "Python 3",
   "language": "python",
   "name": "python3"
  },
  "language_info": {
   "codemirror_mode": {
    "name": "ipython",
    "version": 3
   },
   "file_extension": ".py",
   "mimetype": "text/x-python",
   "name": "python",
   "nbconvert_exporter": "python",
   "pygments_lexer": "ipython3",
   "version": "3.9.7"
  }
 },
 "nbformat": 4,
 "nbformat_minor": 5
}
