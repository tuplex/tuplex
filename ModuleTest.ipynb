{
 "cells": [
  {
   "cell_type": "code",
   "execution_count": 1,
   "id": "2b4ac99e",
   "metadata": {},
   "outputs": [],
   "source": [
    "import modulefinder"
   ]
  },
  {
   "cell_type": "code",
   "execution_count": 2,
   "id": "805a88e7",
   "metadata": {},
   "outputs": [],
   "source": [
    "m = modulefinder.ModuleFinder()"
   ]
  },
  {
   "cell_type": "code",
   "execution_count": 3,
   "id": "2bc1aea3",
   "metadata": {},
   "outputs": [],
   "source": [
    "f = lambda x: x * x\n",
    "\n",
    "import re\n",
    "import numpy as np\n",
    "f = lambda x: np.array(x)"
   ]
  },
  {
   "cell_type": "code",
   "execution_count": 4,
   "id": "867433f4",
   "metadata": {},
   "outputs": [
    {
     "data": {
      "text/plain": [
       "[]"
      ]
     },
     "execution_count": 4,
     "metadata": {},
     "output_type": "execute_result"
    }
   ],
   "source": [
    "list(m.scan_opcodes(f.__code__))"
   ]
  },
  {
   "cell_type": "code",
   "execution_count": 26,
   "id": "62da5fa3",
   "metadata": {},
   "outputs": [
    {
     "data": {
      "text/plain": [
       "b't\\x00\\xa0\\x01|\\x00\\xa1\\x01S\\x00'"
      ]
     },
     "execution_count": 26,
     "metadata": {},
     "output_type": "execute_result"
    }
   ],
   "source": [
    "f.__code__.co_code"
   ]
  },
  {
   "cell_type": "code",
   "execution_count": 27,
   "id": "915fa0ab",
   "metadata": {},
   "outputs": [],
   "source": [
    "import dis"
   ]
  },
  {
   "cell_type": "code",
   "execution_count": 28,
   "id": "cd953cf4",
   "metadata": {},
   "outputs": [
    {
     "name": "stdout",
     "output_type": "stream",
     "text": [
      "          0 LOAD_GLOBAL              0 (0)\n",
      "          2 LOAD_METHOD              1 (1)\n",
      "          4 LOAD_FAST                0 (0)\n",
      "          6 CALL_METHOD              1\n",
      "          8 RETURN_VALUE\n"
     ]
    }
   ],
   "source": [
    "dis.dis(f.__code__.co_code)"
   ]
  },
  {
   "cell_type": "markdown",
   "id": "a4bcb6f6",
   "metadata": {},
   "source": [
    "need to go via cloudpickle..."
   ]
  },
  {
   "cell_type": "code",
   "execution_count": 7,
   "id": "a708f3e0",
   "metadata": {},
   "outputs": [
    {
     "data": {
      "text/plain": [
       "'<ipython-input-3-ed8194a47f34>'"
      ]
     },
     "execution_count": 7,
     "metadata": {},
     "output_type": "execute_result"
    }
   ],
   "source": [
    "f.__code__.co_filename"
   ]
  },
  {
   "cell_type": "code",
   "execution_count": 8,
   "id": "36ab9eeb",
   "metadata": {},
   "outputs": [
    {
     "ename": "SyntaxError",
     "evalue": "invalid syntax (<ipython-input-8-3bc75c9f9925>, line 1)",
     "output_type": "error",
     "traceback": [
      "\u001b[0;36m  File \u001b[0;32m\"<ipython-input-8-3bc75c9f9925>\"\u001b[0;36m, line \u001b[0;32m1\u001b[0m\n\u001b[0;31m    https://github.com/ipython/ipython/blob/master/IPython/core/magics/execution.py\u001b[0m\n\u001b[0m          ^\u001b[0m\n\u001b[0;31mSyntaxError\u001b[0m\u001b[0;31m:\u001b[0m invalid syntax\n"
     ]
    }
   ],
   "source": [
    "https://github.com/ipython/ipython/blob/master/IPython/core/magics/execution.py"
   ]
  },
  {
   "cell_type": "code",
   "execution_count": 19,
   "id": "a1a21a05",
   "metadata": {},
   "outputs": [
    {
     "name": "stdout",
     "output_type": "stream",
     "text": [
      "CPU times: user 3 µs, sys: 1 µs, total: 4 µs\n",
      "Wall time: 5.01 µs\n"
     ]
    }
   ],
   "source": [
    "%%time\n",
    "\n",
    "def f(x):\n",
    "    return x * x"
   ]
  },
  {
   "cell_type": "code",
   "execution_count": 20,
   "id": "e5b2d941",
   "metadata": {},
   "outputs": [
    {
     "data": {
      "text/plain": [
       "'<timed exec>'"
      ]
     },
     "execution_count": 20,
     "metadata": {},
     "output_type": "execute_result"
    }
   ],
   "source": [
    "f.__code__.co_filename"
   ]
  },
  {
   "cell_type": "code",
   "execution_count": 11,
   "id": "46fe5da5",
   "metadata": {},
   "outputs": [],
   "source": [
    "import sys"
   ]
  },
  {
   "cell_type": "code",
   "execution_count": 14,
   "id": "4d376bc6",
   "metadata": {},
   "outputs": [
    {
     "data": {
      "text/plain": [
       "'/usr/local/lib/python3.9/site-packages/IPython/core/interactiveshell.py'"
      ]
     },
     "execution_count": 14,
     "metadata": {},
     "output_type": "execute_result"
    }
   ],
   "source": [
    "sys._getframe().f_back.f_code.co_filename"
   ]
  },
  {
   "cell_type": "code",
   "execution_count": 16,
   "id": "042b8912",
   "metadata": {},
   "outputs": [],
   "source": [
    "import linecache"
   ]
  },
  {
   "cell_type": "code",
   "execution_count": 18,
   "id": "2ff7efca",
   "metadata": {},
   "outputs": [
    {
     "data": {
      "text/plain": [
       "dict_keys(['<ipython-input-1-28156937c6c1>', '<ipython-input-2-03983f46f22e>', '<ipython-input-3-ed8194a47f34>', '<ipython-input-4-97057bbe8198>', '<ipython-input-5-a9fcd54b25e7>', '<ipython-input-6-e0f752cb4771>', '<ipython-input-7-bef51c695ded>', '<ipython-input-8-3bc75c9f9925>', '<ipython-input-9-ddc8afad38ac>', '<ipython-input-10-bef51c695ded>', '<ipython-input-11-99d75fe14e11>', '<ipython-input-12-4b56079dd922>', '<ipython-input-13-96ab33ac1db6>', '<ipython-input-14-b688e890ef4b>', '/usr/local/lib/python3.9/site-packages/IPython/core/interactiveshell.py', '<ipython-input-15-df3bb622053a>', '<ipython-input-16-d25e465def14>', '<ipython-input-17-38e64b9ea04a>', '<ipython-input-18-f5d80bb02136>'])"
      ]
     },
     "execution_count": 18,
     "metadata": {},
     "output_type": "execute_result"
    }
   ],
   "source": [
    "linecache.cache.keys()"
   ]
  },
  {
   "cell_type": "code",
   "execution_count": 21,
   "id": "022bc89f",
   "metadata": {},
   "outputs": [],
   "source": [
    "linecache.checkcache(f.__code__.co_filename)"
   ]
  },
  {
   "cell_type": "code",
   "execution_count": 23,
   "id": "5f01929f",
   "metadata": {},
   "outputs": [],
   "source": [
    "linecache.checkcache()"
   ]
  },
  {
   "cell_type": "code",
   "execution_count": 24,
   "id": "721d3446",
   "metadata": {},
   "outputs": [
    {
     "ename": "SyntaxError",
     "evalue": "invalid syntax (<ipython-input-24-08f108e41d8d>, line 1)",
     "output_type": "error",
     "traceback": [
      "\u001b[0;36m  File \u001b[0;32m\"<ipython-input-24-08f108e41d8d>\"\u001b[0;36m, line \u001b[0;32m1\u001b[0m\n\u001b[0;31m    https://gitmemory.cn/repo/eriknw/afar/issues/10\u001b[0m\n\u001b[0m          ^\u001b[0m\n\u001b[0;31mSyntaxError\u001b[0m\u001b[0;31m:\u001b[0m invalid syntax\n"
     ]
    }
   ],
   "source": [
    "https://gitmemory.cn/repo/eriknw/afar/issues/10"
   ]
  },
  {
   "cell_type": "code",
   "execution_count": null,
   "id": "3e4f5378",
   "metadata": {},
   "outputs": [],
   "source": []
  }
 ],
 "metadata": {
  "kernelspec": {
   "display_name": "Python 3",
   "language": "python",
   "name": "python3"
  },
  "language_info": {
   "codemirror_mode": {
    "name": "ipython",
    "version": 3
   },
   "file_extension": ".py",
   "mimetype": "text/x-python",
   "name": "python",
   "nbconvert_exporter": "python",
   "pygments_lexer": "ipython3",
   "version": "3.9.7"
  }
 },
 "nbformat": 4,
 "nbformat_minor": 5
}
