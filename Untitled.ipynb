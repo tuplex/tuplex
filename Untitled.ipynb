{
 "cells": [
  {
   "cell_type": "code",
   "execution_count": 1,
   "id": "56f190e4",
   "metadata": {},
   "outputs": [
    {
     "name": "stdout",
     "output_type": "stream",
     "text": [
      "Welcome to\n",
      "\n",
      "  _____            _\n",
      " |_   _|   _ _ __ | | _____  __\n",
      "   | || | | | '_ \\| |/ _ \\ \\/ /\n",
      "   | || |_| | |_) | |  __/>  <\n",
      "   |_| \\__,_| .__/|_|\\___/_/\\_\\ 0.3.1\n",
      "            |_|\n",
      "    \n",
      "using Python 3.9.7 (default, Sep  3 2021, 12:45:31) \n",
      "[Clang 12.0.0 (clang-1200.0.32.29)] on darwin\n"
     ]
    }
   ],
   "source": [
    "import tuplex"
   ]
  },
  {
   "cell_type": "code",
   "execution_count": 3,
   "id": "3e4471fc",
   "metadata": {},
   "outputs": [],
   "source": [
    "from tuplex.distributed import setup_aws, default_scratch_dir"
   ]
  },
  {
   "cell_type": "code",
   "execution_count": 4,
   "id": "78ae2ea0",
   "metadata": {},
   "outputs": [
    {
     "name": "stdout",
     "output_type": "stream",
     "text": [
      "Help on function setup_aws in module tuplex.distributed:\n",
      "\n",
      "setup_aws(aws_access_key=None, aws_secret_key=None, overwrite=True, iam_user='leonhard', lambda_name='tuplex-lambda-runner', lambda_role='tuplex-lambda-role', lambda_file=None, region='us-east-1', s3_scratch_uri='tuplex-leonhard/scratch', quiet=False)\n",
      "\n"
     ]
    }
   ],
   "source": [
    "help(setup_aws)"
   ]
  },
  {
   "cell_type": "code",
   "execution_count": 5,
   "id": "49dacdcc",
   "metadata": {},
   "outputs": [
    {
     "name": "stdout",
     "output_type": "stream",
     "text": [
      "tplxlam.zip  43.9MiB / 43.9MiB  (100.00%)\n",
      "Completed lambda setup in 20.85s\n"
     ]
    }
   ],
   "source": [
    "setup_aws(lambda_file='tplxlam.zip')"
   ]
  },
  {
   "cell_type": "code",
   "execution_count": 7,
   "id": "6dd3d5cd",
   "metadata": {},
   "outputs": [
    {
     "data": {
      "text/plain": [
       "'tuplex-leonhard/scratch'"
      ]
     },
     "execution_count": 7,
     "metadata": {},
     "output_type": "execute_result"
    }
   ],
   "source": [
    "default_scratch_dir()"
   ]
  },
  {
   "cell_type": "code",
   "execution_count": 13,
   "id": "a056dd81",
   "metadata": {},
   "outputs": [
    {
     "name": "stdout",
     "output_type": "stream",
     "text": [
      "Tuplex WebUI can be accessed under http://localhost:5000\n"
     ]
    }
   ],
   "source": [
    "# There's currently a bug in the Lambda backend when transferring local data to S3: The full partition gets transferred, \n",
    "# not just what is needed.\n",
    "c = tuplex.Context(conf={'backend' : 'lambda',\n",
    "                         'partitionSize':'1MB',\n",
    "                         'aws.scratchDir': default_scratch_dir()})"
   ]
  },
  {
   "cell_type": "code",
   "execution_count": 16,
   "id": "687f39dc",
   "metadata": {},
   "outputs": [
    {
     "ename": "OSError",
     "evalue": "could not get source code",
     "output_type": "error",
     "traceback": [
      "\u001b[0;31m---------------------------------------------------------------------------\u001b[0m",
      "\u001b[0;31mOSError\u001b[0m                                   Traceback (most recent call last)",
      "\u001b[0;32m<timed eval>\u001b[0m in \u001b[0;36m<module>\u001b[0;34m\u001b[0m\n",
      "\u001b[0;32m~/projects/tuplex-public/tuplex/python/tuplex/dataset.py\u001b[0m in \u001b[0;36mmap\u001b[0;34m(self, ftor)\u001b[0m\n\u001b[1;32m     62\u001b[0m         \u001b[0;32mtry\u001b[0m\u001b[0;34m:\u001b[0m\u001b[0;34m\u001b[0m\u001b[0;34m\u001b[0m\u001b[0m\n\u001b[1;32m     63\u001b[0m             \u001b[0;31m# convert code object to str representation\u001b[0m\u001b[0;34m\u001b[0m\u001b[0;34m\u001b[0m\u001b[0m\n\u001b[0;32m---> 64\u001b[0;31m             \u001b[0mcode\u001b[0m \u001b[0;34m=\u001b[0m \u001b[0mget_udf_source\u001b[0m\u001b[0;34m(\u001b[0m\u001b[0mftor\u001b[0m\u001b[0;34m)\u001b[0m\u001b[0;34m\u001b[0m\u001b[0;34m\u001b[0m\u001b[0m\n\u001b[0m\u001b[1;32m     65\u001b[0m         \u001b[0;32mexcept\u001b[0m \u001b[0mUDFCodeExtractionError\u001b[0m \u001b[0;32mas\u001b[0m \u001b[0me\u001b[0m\u001b[0;34m:\u001b[0m\u001b[0;34m\u001b[0m\u001b[0;34m\u001b[0m\u001b[0m\n\u001b[1;32m     66\u001b[0m             \u001b[0mlogging\u001b[0m\u001b[0;34m.\u001b[0m\u001b[0mwarn\u001b[0m\u001b[0;34m(\u001b[0m\u001b[0;34m'Could not extract code for {}. Details:\\n{}'\u001b[0m\u001b[0;34m.\u001b[0m\u001b[0mformat\u001b[0m\u001b[0;34m(\u001b[0m\u001b[0mftor\u001b[0m\u001b[0;34m,\u001b[0m \u001b[0me\u001b[0m\u001b[0;34m)\u001b[0m\u001b[0;34m)\u001b[0m\u001b[0;34m\u001b[0m\u001b[0;34m\u001b[0m\u001b[0m\n",
      "\u001b[0;32m~/projects/tuplex-public/tuplex/python/tuplex/utils/reflection.py\u001b[0m in \u001b[0;36mget_source\u001b[0;34m(f)\u001b[0m\n\u001b[1;32m    190\u001b[0m                 \u001b[0mf_colno\u001b[0m \u001b[0;34m=\u001b[0m \u001b[0mf\u001b[0m\u001b[0;34m.\u001b[0m\u001b[0m__code__\u001b[0m\u001b[0;34m.\u001b[0m\u001b[0mco_firstcolno\u001b[0m \u001b[0;32mif\u001b[0m \u001b[0mhasattr\u001b[0m\u001b[0;34m(\u001b[0m\u001b[0mf\u001b[0m\u001b[0;34m.\u001b[0m\u001b[0m__code__\u001b[0m\u001b[0;34m,\u001b[0m \u001b[0;34m'co_firstcolno'\u001b[0m\u001b[0;34m)\u001b[0m \u001b[0;32melse\u001b[0m \u001b[0;32mNone\u001b[0m\u001b[0;34m\u001b[0m\u001b[0;34m\u001b[0m\u001b[0m\n\u001b[1;32m    191\u001b[0m \u001b[0;34m\u001b[0m\u001b[0m\n\u001b[0;32m--> 192\u001b[0;31m                 \u001b[0msrc_info\u001b[0m \u001b[0;34m=\u001b[0m \u001b[0minspect\u001b[0m\u001b[0;34m.\u001b[0m\u001b[0mgetsourcelines\u001b[0m\u001b[0;34m(\u001b[0m\u001b[0mf\u001b[0m\u001b[0;34m)\u001b[0m\u001b[0;34m\u001b[0m\u001b[0;34m\u001b[0m\u001b[0m\n\u001b[0m\u001b[1;32m    193\u001b[0m \u001b[0;34m\u001b[0m\u001b[0m\n\u001b[1;32m    194\u001b[0m                 vault.extractAndPutAllLambdas(src_info,\n",
      "\u001b[0;32m/usr/local/Cellar/python@3.9/3.9.7/Frameworks/Python.framework/Versions/3.9/lib/python3.9/inspect.py\u001b[0m in \u001b[0;36mgetsourcelines\u001b[0;34m(object)\u001b[0m\n\u001b[1;32m   1004\u001b[0m     raised if the source code cannot be retrieved.\"\"\"\n\u001b[1;32m   1005\u001b[0m     \u001b[0mobject\u001b[0m \u001b[0;34m=\u001b[0m \u001b[0munwrap\u001b[0m\u001b[0;34m(\u001b[0m\u001b[0mobject\u001b[0m\u001b[0;34m)\u001b[0m\u001b[0;34m\u001b[0m\u001b[0;34m\u001b[0m\u001b[0m\n\u001b[0;32m-> 1006\u001b[0;31m     \u001b[0mlines\u001b[0m\u001b[0;34m,\u001b[0m \u001b[0mlnum\u001b[0m \u001b[0;34m=\u001b[0m \u001b[0mfindsource\u001b[0m\u001b[0;34m(\u001b[0m\u001b[0mobject\u001b[0m\u001b[0;34m)\u001b[0m\u001b[0;34m\u001b[0m\u001b[0;34m\u001b[0m\u001b[0m\n\u001b[0m\u001b[1;32m   1007\u001b[0m \u001b[0;34m\u001b[0m\u001b[0m\n\u001b[1;32m   1008\u001b[0m     \u001b[0;32mif\u001b[0m \u001b[0mistraceback\u001b[0m\u001b[0;34m(\u001b[0m\u001b[0mobject\u001b[0m\u001b[0;34m)\u001b[0m\u001b[0;34m:\u001b[0m\u001b[0;34m\u001b[0m\u001b[0;34m\u001b[0m\u001b[0m\n",
      "\u001b[0;32m/usr/local/Cellar/python@3.9/3.9.7/Frameworks/Python.framework/Versions/3.9/lib/python3.9/inspect.py\u001b[0m in \u001b[0;36mfindsource\u001b[0;34m(object)\u001b[0m\n\u001b[1;32m    833\u001b[0m         \u001b[0mlines\u001b[0m \u001b[0;34m=\u001b[0m \u001b[0mlinecache\u001b[0m\u001b[0;34m.\u001b[0m\u001b[0mgetlines\u001b[0m\u001b[0;34m(\u001b[0m\u001b[0mfile\u001b[0m\u001b[0;34m)\u001b[0m\u001b[0;34m\u001b[0m\u001b[0;34m\u001b[0m\u001b[0m\n\u001b[1;32m    834\u001b[0m     \u001b[0;32mif\u001b[0m \u001b[0;32mnot\u001b[0m \u001b[0mlines\u001b[0m\u001b[0;34m:\u001b[0m\u001b[0;34m\u001b[0m\u001b[0;34m\u001b[0m\u001b[0m\n\u001b[0;32m--> 835\u001b[0;31m         \u001b[0;32mraise\u001b[0m \u001b[0mOSError\u001b[0m\u001b[0;34m(\u001b[0m\u001b[0;34m'could not get source code'\u001b[0m\u001b[0;34m)\u001b[0m\u001b[0;34m\u001b[0m\u001b[0;34m\u001b[0m\u001b[0m\n\u001b[0m\u001b[1;32m    836\u001b[0m \u001b[0;34m\u001b[0m\u001b[0m\n\u001b[1;32m    837\u001b[0m     \u001b[0;32mif\u001b[0m \u001b[0mismodule\u001b[0m\u001b[0;34m(\u001b[0m\u001b[0mobject\u001b[0m\u001b[0;34m)\u001b[0m\u001b[0;34m:\u001b[0m\u001b[0;34m\u001b[0m\u001b[0;34m\u001b[0m\u001b[0m\n",
      "\u001b[0;31mOSError\u001b[0m: could not get source code"
     ]
    }
   ],
   "source": [
    "%%time\n",
    "c.parallelize([1, 2, 3, 4, 5]).map(lambda x: x * x).collect()"
   ]
  },
  {
   "cell_type": "code",
   "execution_count": 12,
   "id": "f419a24b",
   "metadata": {},
   "outputs": [
    {
     "data": {
      "text/plain": [
       "{'tuplex.useLLVMOptimizer': True,\n",
       " 'tuplex.autoUpcast': False,\n",
       " 'tuplex.allowUndefinedBehavior': False,\n",
       " 'tuplex.optimizer.codeStats': False,\n",
       " 'tuplex.optimizer.generateParser': False,\n",
       " 'tuplex.optimizer.nullValueOptimization': False,\n",
       " 'tuplex.optimizer.filterPushdown': True,\n",
       " 'tuplex.optimizer.sharedObjectPropagation': True,\n",
       " 'tuplex.interleaveIO': True,\n",
       " 'tuplex.resolveWithInterpreterOnly': False,\n",
       " 'tuplex.csv.selectionPushdown': True,\n",
       " 'tuplex.webui.enable': True,\n",
       " 'tuplex.executorCount': 12,\n",
       " 'tuplex.csv.maxDetectionRows': 10000,\n",
       " 'tuplex.webui.port': 5000,\n",
       " 'tuplex.webui.mongodb.port': 27017,\n",
       " 'tuplex.webui.exceptionDisplayLimit': 5,\n",
       " 'tuplex.normalcaseThreshold': 0.9,\n",
       " 'tuplex.aws.connectTimeout': '30',\n",
       " 'tuplex.aws.httpThreadCount': '12',\n",
       " 'tuplex.aws.lambdaMemory': '1536',\n",
       " 'tuplex.aws.lambdaTimeout': '600',\n",
       " 'tuplex.aws.maxConcurrency': '100',\n",
       " 'tuplex.aws.region': 'us-east-1',\n",
       " 'tuplex.aws.requestTimeout': '600',\n",
       " 'tuplex.aws.requesterPay': 'false',\n",
       " 'tuplex.aws.scratchDir': 'tuplex-leonhard/scratch',\n",
       " 'tuplex.backend': 'lambda',\n",
       " 'tuplex.csv.comments': ['#', '~'],\n",
       " 'tuplex.csv.maxDetectionMemory': '256KB',\n",
       " 'tuplex.csv.quotechar': '\"',\n",
       " 'tuplex.csv.separators': [',', ';', '|', '\\t'],\n",
       " 'tuplex.driverMemory': '1GB',\n",
       " 'tuplex.env.hostname': 'Leonhards-MacBook-Pro.local',\n",
       " 'tuplex.env.mode': 'jupyter',\n",
       " 'tuplex.env.user': 'leonhards',\n",
       " 'tuplex.executorMemory': '1GB',\n",
       " 'tuplex.inputSplitSize': '64MB',\n",
       " 'tuplex.logDir': '.',\n",
       " 'tuplex.optimizer.mergeExceptionsInOrder': 'true',\n",
       " 'tuplex.optimizer.operatorReordering': 'false',\n",
       " 'tuplex.optionalThreshold': '0.7',\n",
       " 'tuplex.partitionSize': '32MB',\n",
       " 'tuplex.readBufferSize': '128KB',\n",
       " 'tuplex.runTimeLibrary': '/Users/leonhards/projects/tuplex-public/tuplex/python/tuplex/libexec/tuplex_runtime.cpython-39-darwin.so',\n",
       " 'tuplex.runTimeMemory': '128MB',\n",
       " 'tuplex.runTimeMemoryBlockSize': '4MB',\n",
       " 'tuplex.scratchDir': '/tmp/tuplex-cache-leonhards',\n",
       " 'tuplex.webui.mongodb.path': '/tmp/tuplex-cache-leonhards/mongodb',\n",
       " 'tuplex.webui.mongodb.url': 'localhost',\n",
       " 'tuplex.webui.url': 'localhost'}"
      ]
     },
     "execution_count": 12,
     "metadata": {},
     "output_type": "execute_result"
    }
   ],
   "source": [
    "c.options()"
   ]
  },
  {
   "cell_type": "code",
   "execution_count": null,
   "id": "77790ec9",
   "metadata": {},
   "outputs": [],
   "source": []
  }
 ],
 "metadata": {
  "kernelspec": {
   "display_name": "Python 3",
   "language": "python",
   "name": "python3"
  },
  "language_info": {
   "codemirror_mode": {
    "name": "ipython",
    "version": 3
   },
   "file_extension": ".py",
   "mimetype": "text/x-python",
   "name": "python",
   "nbconvert_exporter": "python",
   "pygments_lexer": "ipython3",
   "version": "3.9.7"
  }
 },
 "nbformat": 4,
 "nbformat_minor": 5
}
