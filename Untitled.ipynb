{
 "cells": [
  {
   "cell_type": "code",
   "execution_count": 1,
   "id": "88a7c7d9",
   "metadata": {},
   "outputs": [
    {
     "name": "stdout",
     "output_type": "stream",
     "text": [
      "Welcome to\n",
      "\n",
      "  _____            _\n",
      " |_   _|   _ _ __ | | _____  __\n",
      "   | || | | | '_ \\| |/ _ \\ \\/ /\n",
      "   | || |_| | |_) | |  __/>  <\n",
      "   |_| \\__,_| .__/|_|\\___/_/\\_\\ 0.3.1\n",
      "            |_|\n",
      "    \n",
      "using Python 3.9.7 (default, Sep  3 2021, 12:45:31) \n",
      "[Clang 12.0.0 (clang-1200.0.32.29)] on darwin\n"
     ]
    }
   ],
   "source": [
    "import tuplex"
   ]
  },
  {
   "cell_type": "code",
   "execution_count": 2,
   "id": "801380c0",
   "metadata": {},
   "outputs": [],
   "source": [
    "from tuplex.distributed import setup_aws, default_scratch_dir"
   ]
  },
  {
   "cell_type": "code",
   "execution_count": 3,
   "id": "730b248b",
   "metadata": {},
   "outputs": [
    {
     "name": "stdout",
     "output_type": "stream",
     "text": [
      "Help on function setup_aws in module tuplex.distributed:\n",
      "\n",
      "setup_aws(aws_access_key=None, aws_secret_key=None, overwrite=True, iam_user='leonhard', lambda_name='tuplex-lambda-runner', lambda_role='tuplex-lambda-role', lambda_file=None, region='us-east-1', s3_scratch_uri='tuplex-leonhard/scratch', quiet=False)\n",
      "\n"
     ]
    }
   ],
   "source": [
    "help(setup_aws)"
   ]
  },
  {
   "cell_type": "code",
   "execution_count": null,
   "id": "edff84d7",
   "metadata": {},
   "outputs": [],
   "source": [
    "setup_aws(lambda_file='tplxlam.zip')"
   ]
  },
  {
   "cell_type": "code",
   "execution_count": 4,
   "id": "0a695e27",
   "metadata": {},
   "outputs": [
    {
     "data": {
      "text/plain": [
       "'tuplex-leonhard/scratch'"
      ]
     },
     "execution_count": 4,
     "metadata": {},
     "output_type": "execute_result"
    }
   ],
   "source": [
    "default_scratch_dir()"
   ]
  },
  {
   "cell_type": "code",
   "execution_count": 5,
   "id": "7b1b4ef7",
   "metadata": {},
   "outputs": [
    {
     "name": "stdout",
     "output_type": "stream",
     "text": [
      "Tuplex WebUI can be accessed under http://localhost:5000\n"
     ]
    }
   ],
   "source": [
    "# There's currently a bug in the Lambda backend when transferring local data to S3: The full partition gets transferred, \n",
    "# not just what is needed.\n",
    "c = tuplex.Context(conf={'backend' : 'lambda',\n",
    "                         'partitionSize':'1MB',\n",
    "                         'aws.scratchDir': default_scratch_dir()})"
   ]
  },
  {
   "cell_type": "code",
   "execution_count": 6,
   "id": "60460bc1",
   "metadata": {},
   "outputs": [
    {
     "ename": "TuplexException",
     "evalue": "%%time magic not supported for Tuplex code",
     "output_type": "error",
     "traceback": [
      "\u001b[0;31m---------------------------------------------------------------------------\u001b[0m",
      "\u001b[0;31mTuplexException\u001b[0m                           Traceback (most recent call last)",
      "\u001b[0;32m<timed eval>\u001b[0m in \u001b[0;36m<module>\u001b[0;34m\u001b[0m\n",
      "\u001b[0;32m~/projects/tuplex-public/tuplex/python/tuplex/dataset.py\u001b[0m in \u001b[0;36mmap\u001b[0;34m(self, ftor)\u001b[0m\n\u001b[1;32m     62\u001b[0m         \u001b[0;32mtry\u001b[0m\u001b[0;34m:\u001b[0m\u001b[0;34m\u001b[0m\u001b[0;34m\u001b[0m\u001b[0m\n\u001b[1;32m     63\u001b[0m             \u001b[0;31m# convert code object to str representation\u001b[0m\u001b[0;34m\u001b[0m\u001b[0;34m\u001b[0m\u001b[0m\n\u001b[0;32m---> 64\u001b[0;31m             \u001b[0mcode\u001b[0m \u001b[0;34m=\u001b[0m \u001b[0mget_udf_source\u001b[0m\u001b[0;34m(\u001b[0m\u001b[0mftor\u001b[0m\u001b[0;34m)\u001b[0m\u001b[0;34m\u001b[0m\u001b[0;34m\u001b[0m\u001b[0m\n\u001b[0m\u001b[1;32m     65\u001b[0m         \u001b[0;32mexcept\u001b[0m \u001b[0mUDFCodeExtractionError\u001b[0m \u001b[0;32mas\u001b[0m \u001b[0me\u001b[0m\u001b[0;34m:\u001b[0m\u001b[0;34m\u001b[0m\u001b[0;34m\u001b[0m\u001b[0m\n\u001b[1;32m     66\u001b[0m             \u001b[0mlogging\u001b[0m\u001b[0;34m.\u001b[0m\u001b[0mwarn\u001b[0m\u001b[0;34m(\u001b[0m\u001b[0;34m'Could not extract code for {}. Details:\\n{}'\u001b[0m\u001b[0;34m.\u001b[0m\u001b[0mformat\u001b[0m\u001b[0;34m(\u001b[0m\u001b[0mftor\u001b[0m\u001b[0;34m,\u001b[0m \u001b[0me\u001b[0m\u001b[0;34m)\u001b[0m\u001b[0;34m)\u001b[0m\u001b[0;34m\u001b[0m\u001b[0;34m\u001b[0m\u001b[0m\n",
      "\u001b[0;32m~/projects/tuplex-public/tuplex/python/tuplex/utils/reflection.py\u001b[0m in \u001b[0;36mget_source\u001b[0;34m(f)\u001b[0m\n\u001b[1;32m    193\u001b[0m                 \u001b[0;31m# special case: some unknown jupyter magic has been used...\u001b[0m\u001b[0;34m\u001b[0m\u001b[0;34m\u001b[0m\u001b[0m\n\u001b[1;32m    194\u001b[0m                 \u001b[0;32mif\u001b[0m \u001b[0;34m(\u001b[0m\u001b[0min_jupyter_notebook\u001b[0m\u001b[0;34m(\u001b[0m\u001b[0;34m)\u001b[0m \u001b[0;32mor\u001b[0m \u001b[0min_google_colab\u001b[0m\u001b[0;34m(\u001b[0m\u001b[0;34m)\u001b[0m\u001b[0;34m)\u001b[0m \u001b[0;32mand\u001b[0m \u001b[0;34m(\u001b[0m\u001b[0mf_filename\u001b[0m \u001b[0;34m==\u001b[0m \u001b[0;34m'<timed exec>'\u001b[0m \u001b[0;32mor\u001b[0m \u001b[0mf_filename\u001b[0m \u001b[0;34m==\u001b[0m \u001b[0;34m'<timed eval>'\u001b[0m\u001b[0;34m)\u001b[0m\u001b[0;34m:\u001b[0m\u001b[0;34m\u001b[0m\u001b[0;34m\u001b[0m\u001b[0m\n\u001b[0;32m--> 195\u001b[0;31m                     \u001b[0;32mraise\u001b[0m \u001b[0mTuplexException\u001b[0m\u001b[0;34m(\u001b[0m\u001b[0;34m'%%time magic not supported for Tuplex code'\u001b[0m\u001b[0;34m)\u001b[0m\u001b[0;34m\u001b[0m\u001b[0;34m\u001b[0m\u001b[0m\n\u001b[0m\u001b[1;32m    196\u001b[0m \u001b[0;34m\u001b[0m\u001b[0m\n\u001b[1;32m    197\u001b[0m                 \u001b[0msrc_info\u001b[0m \u001b[0;34m=\u001b[0m \u001b[0minspect\u001b[0m\u001b[0;34m.\u001b[0m\u001b[0mgetsourcelines\u001b[0m\u001b[0;34m(\u001b[0m\u001b[0mf\u001b[0m\u001b[0;34m)\u001b[0m\u001b[0;34m\u001b[0m\u001b[0;34m\u001b[0m\u001b[0m\n",
      "\u001b[0;31mTuplexException\u001b[0m: %%time magic not supported for Tuplex code"
     ]
    }
   ],
   "source": [
    "%%time\n",
    "c.parallelize([1, 2, 3, 4, 5]).map(lambda x: x * x).collect()"
   ]
  },
  {
   "cell_type": "code",
   "execution_count": null,
   "id": "7831947a",
   "metadata": {},
   "outputs": [],
   "source": [
    "import time"
   ]
  },
  {
   "cell_type": "code",
   "execution_count": null,
   "id": "c0cbb5f6",
   "metadata": {},
   "outputs": [],
   "source": [
    "start_time = time.time()"
   ]
  },
  {
   "cell_type": "code",
   "execution_count": null,
   "id": "6d8fd0ea",
   "metadata": {},
   "outputs": [],
   "source": []
  },
  {
   "cell_type": "code",
   "execution_count": null,
   "id": "d5c58455",
   "metadata": {},
   "outputs": [],
   "source": [
    "c.options()"
   ]
  },
  {
   "cell_type": "code",
   "execution_count": null,
   "id": "7b32c223",
   "metadata": {},
   "outputs": [],
   "source": [
    "import inspect"
   ]
  },
  {
   "cell_type": "code",
   "execution_count": null,
   "id": "d8203b8c",
   "metadata": {},
   "outputs": [],
   "source": [
    "%%time\n",
    "\n",
    "f = lambda x: x"
   ]
  },
  {
   "cell_type": "code",
   "execution_count": null,
   "id": "40c7c18d",
   "metadata": {},
   "outputs": [],
   "source": [
    "res = inspect.getsourcefile(f)\n",
    "print(res)"
   ]
  },
  {
   "cell_type": "code",
   "execution_count": null,
   "id": "1ab2aee8",
   "metadata": {},
   "outputs": [],
   "source": [
    "f.__code__.co_filename"
   ]
  },
  {
   "cell_type": "code",
   "execution_count": null,
   "id": "e2471fef",
   "metadata": {},
   "outputs": [],
   "source": [
    "f.__code__.co_firstlineno"
   ]
  },
  {
   "cell_type": "code",
   "execution_count": null,
   "id": "19055322",
   "metadata": {},
   "outputs": [],
   "source": [
    "inspect.getfile(f), inspect.getclasstree(f)"
   ]
  },
  {
   "cell_type": "code",
   "execution_count": null,
   "id": "d7579a00",
   "metadata": {},
   "outputs": [],
   "source": [
    "f.__dict__"
   ]
  },
  {
   "cell_type": "code",
   "execution_count": null,
   "id": "b6f4aa38",
   "metadata": {},
   "outputs": [],
   "source": []
  }
 ],
 "metadata": {
  "kernelspec": {
   "display_name": "Python 3",
   "language": "python",
   "name": "python3"
  },
  "language_info": {
   "codemirror_mode": {
    "name": "ipython",
    "version": 3
   },
   "file_extension": ".py",
   "mimetype": "text/x-python",
   "name": "python",
   "nbconvert_exporter": "python",
   "pygments_lexer": "ipython3",
   "version": "3.9.7"
  }
 },
 "nbformat": 4,
 "nbformat_minor": 5
}
