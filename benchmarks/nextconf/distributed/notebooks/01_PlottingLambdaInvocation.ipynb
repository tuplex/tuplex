{
 "cells": [
  {
   "cell_type": "code",
   "execution_count": 30,
   "id": "97bd624d",
   "metadata": {},
   "outputs": [],
   "source": [
    "import matplotlib.pyplot as plt\n",
    "import pandas as pd\n",
    "import seaborn as sns\n",
    "import numpy as np\n",
    "import json\n",
    "import os"
   ]
  },
  {
   "cell_type": "code",
   "execution_count": 40,
   "id": "37d0e600",
   "metadata": {},
   "outputs": [],
   "source": [
    "root_path = os.path.join(os.environ['HOME'], 'projects/tuplex-public/tuplex/cmake-build-debug/dist/bin')\n",
    "path = root_path + '/aws_job.json'"
   ]
  },
  {
   "cell_type": "code",
   "execution_count": 41,
   "id": "a084a93d",
   "metadata": {},
   "outputs": [],
   "source": [
    "# !cp /Users/leonhards/projects/tuplex-public/tuplex/cmake-build-debug/dist/bin/aws_job.json{,.backup}"
   ]
  },
  {
   "cell_type": "code",
   "execution_count": 42,
   "id": "2c32e458",
   "metadata": {},
   "outputs": [
    {
     "data": {
      "text/plain": [
       "True"
      ]
     },
     "execution_count": 42,
     "metadata": {},
     "output_type": "execute_result"
    }
   ],
   "source": [
    "os.path.isfile(path)"
   ]
  },
  {
   "cell_type": "code",
   "execution_count": 43,
   "id": "0bdb4518",
   "metadata": {},
   "outputs": [],
   "source": [
    "with open(path, 'r') as fp:\n",
    "    content = fp.read()"
   ]
  },
  {
   "cell_type": "code",
   "execution_count": 44,
   "id": "df705114",
   "metadata": {},
   "outputs": [
    {
     "data": {
      "text/plain": [
       "'10a5fafb2b5\",\"containerId\":\"\",\"durationInMs\":4305.14,\"billedDurationInMs\":4801,\"memorySizeInMb\":10000,\"maxMemoryUsedInMb\":363,\"returnCode\":0,\"errorMessage\":\"\",\"tsRequestStart\":1643700941743587640,\"tsR'"
      ]
     },
     "execution_count": 44,
     "metadata": {},
     "output_type": "execute_result"
    }
   ],
   "source": [
    "content[81125-100:81125+100]"
   ]
  },
  {
   "cell_type": "code",
   "execution_count": 45,
   "id": "8ac32c9e",
   "metadata": {},
   "outputs": [],
   "source": [
    "with open(path, 'r') as fp:\n",
    "    data = json.load(fp)"
   ]
  },
  {
   "cell_type": "code",
   "execution_count": 48,
   "id": "25b64b73",
   "metadata": {},
   "outputs": [
    {
     "data": {
      "text/plain": [
       "{'requestId': '70121d62-1924-4b5f-90ff-aa5115b37295',\n",
       " 'containerId': '',\n",
       " 'durationInMs': 4396,\n",
       " 'billedDurationInMs': 4868,\n",
       " 'memorySizeInMb': 10000,\n",
       " 'maxMemoryUsedInMb': 412,\n",
       " 'returnCode': 0,\n",
       " 'errorMessage': '',\n",
       " 'tsRequestStart': 1643700940935164442,\n",
       " 'tsRequestEnd': 1643700946554069577}"
      ]
     },
     "execution_count": 48,
     "metadata": {},
     "output_type": "execute_result"
    }
   ],
   "source": [
    "data['tasks'][0]['invoked_requests'][0]"
   ]
  },
  {
   "cell_type": "code",
   "execution_count": 93,
   "id": "7f58e3bd",
   "metadata": {},
   "outputs": [],
   "source": [
    "# requests\n",
    "\n",
    "global_start = data['stageStartTimestamp'] / 1e9\n",
    "job_duration = data['stageEndTimestamp'] / 1e9 - global_start\n",
    "\n",
    "def row_from_req(req):\n",
    "    start_ts = req['tsRequestStart'] / 1e9\n",
    "    end_ts = req['tsRequestEnd'] / 1e9\n",
    "    \n",
    "    duration = end_ts - start_ts\n",
    "    \n",
    "    row = {'start' : start_ts - global_start,\n",
    "           'end' : end_ts - global_start,\n",
    "           'duration' : duration}\n",
    "    return row\n",
    "\n",
    "rows = []\n",
    "for r in data['tasks'][0]['invoked_requests']:\n",
    "    row = row_from_req(r)\n",
    "    rows.append(row)"
   ]
  },
  {
   "cell_type": "code",
   "execution_count": 94,
   "id": "52a703cd",
   "metadata": {},
   "outputs": [],
   "source": [
    "df = pd.DataFrame(rows)"
   ]
  },
  {
   "cell_type": "code",
   "execution_count": 95,
   "id": "eac5f850",
   "metadata": {},
   "outputs": [
    {
     "data": {
      "text/plain": [
       "(2.9699223041534424, 4.37742018699646)"
      ]
     },
     "execution_count": 95,
     "metadata": {},
     "output_type": "execute_result"
    }
   ],
   "source": [
    "df.start.min(), df.start.max()"
   ]
  },
  {
   "cell_type": "code",
   "execution_count": 96,
   "id": "d5d5f671",
   "metadata": {},
   "outputs": [
    {
     "data": {
      "text/plain": [
       "True"
      ]
     },
     "execution_count": 96,
     "metadata": {},
     "output_type": "execute_result"
    }
   ],
   "source": [
    "global_start < 1643700940.9351645"
   ]
  },
  {
   "cell_type": "code",
   "execution_count": 97,
   "id": "9de463d0",
   "metadata": {},
   "outputs": [],
   "source": [
    "# start_min = df.start.min()\n",
    "# df['start'] -= start_min\n",
    "# df['end'] -= start_min"
   ]
  },
  {
   "cell_type": "code",
   "execution_count": 98,
   "id": "f256fb46",
   "metadata": {},
   "outputs": [
    {
     "data": {
      "text/html": [
       "<div>\n",
       "<style scoped>\n",
       "    .dataframe tbody tr th:only-of-type {\n",
       "        vertical-align: middle;\n",
       "    }\n",
       "\n",
       "    .dataframe tbody tr th {\n",
       "        vertical-align: top;\n",
       "    }\n",
       "\n",
       "    .dataframe thead th {\n",
       "        text-align: right;\n",
       "    }\n",
       "</style>\n",
       "<table border=\"1\" class=\"dataframe\">\n",
       "  <thead>\n",
       "    <tr style=\"text-align: right;\">\n",
       "      <th></th>\n",
       "      <th>start</th>\n",
       "      <th>end</th>\n",
       "      <th>duration</th>\n",
       "    </tr>\n",
       "  </thead>\n",
       "  <tbody>\n",
       "    <tr>\n",
       "      <th>0</th>\n",
       "      <td>2.969922</td>\n",
       "      <td>8.588827</td>\n",
       "      <td>5.618905</td>\n",
       "    </tr>\n",
       "    <tr>\n",
       "      <th>1</th>\n",
       "      <td>2.973112</td>\n",
       "      <td>12.330282</td>\n",
       "      <td>9.357170</td>\n",
       "    </tr>\n",
       "    <tr>\n",
       "      <th>2</th>\n",
       "      <td>2.976300</td>\n",
       "      <td>8.016119</td>\n",
       "      <td>5.039819</td>\n",
       "    </tr>\n",
       "    <tr>\n",
       "      <th>3</th>\n",
       "      <td>2.979674</td>\n",
       "      <td>8.831266</td>\n",
       "      <td>5.851593</td>\n",
       "    </tr>\n",
       "    <tr>\n",
       "      <th>4</th>\n",
       "      <td>2.983016</td>\n",
       "      <td>8.368283</td>\n",
       "      <td>5.385267</td>\n",
       "    </tr>\n",
       "    <tr>\n",
       "      <th>...</th>\n",
       "      <td>...</td>\n",
       "      <td>...</td>\n",
       "      <td>...</td>\n",
       "    </tr>\n",
       "    <tr>\n",
       "      <th>195</th>\n",
       "      <td>4.359840</td>\n",
       "      <td>11.645170</td>\n",
       "      <td>7.285330</td>\n",
       "    </tr>\n",
       "    <tr>\n",
       "      <th>196</th>\n",
       "      <td>4.363199</td>\n",
       "      <td>10.776392</td>\n",
       "      <td>6.413193</td>\n",
       "    </tr>\n",
       "    <tr>\n",
       "      <th>197</th>\n",
       "      <td>4.366929</td>\n",
       "      <td>12.340340</td>\n",
       "      <td>7.973412</td>\n",
       "    </tr>\n",
       "    <tr>\n",
       "      <th>198</th>\n",
       "      <td>4.370676</td>\n",
       "      <td>10.496689</td>\n",
       "      <td>6.126013</td>\n",
       "    </tr>\n",
       "    <tr>\n",
       "      <th>199</th>\n",
       "      <td>4.377420</td>\n",
       "      <td>11.052294</td>\n",
       "      <td>6.674873</td>\n",
       "    </tr>\n",
       "  </tbody>\n",
       "</table>\n",
       "<p>200 rows × 3 columns</p>\n",
       "</div>"
      ],
      "text/plain": [
       "        start        end  duration\n",
       "0    2.969922   8.588827  5.618905\n",
       "1    2.973112  12.330282  9.357170\n",
       "2    2.976300   8.016119  5.039819\n",
       "3    2.979674   8.831266  5.851593\n",
       "4    2.983016   8.368283  5.385267\n",
       "..        ...        ...       ...\n",
       "195  4.359840  11.645170  7.285330\n",
       "196  4.363199  10.776392  6.413193\n",
       "197  4.366929  12.340340  7.973412\n",
       "198  4.370676  10.496689  6.126013\n",
       "199  4.377420  11.052294  6.674873\n",
       "\n",
       "[200 rows x 3 columns]"
      ]
     },
     "execution_count": 98,
     "metadata": {},
     "output_type": "execute_result"
    }
   ],
   "source": [
    "df"
   ]
  },
  {
   "cell_type": "code",
   "execution_count": 106,
   "id": "baa4f141",
   "metadata": {},
   "outputs": [
    {
     "data": {
      "image/png": "[encoded data removed]",
      "text/plain": [
       "<Figure size 720x360 with 1 Axes>"
      ]
     },
     "metadata": {
      "needs_background": "light"
     },
     "output_type": "display_data"
    }
   ],
   "source": [
    "plt.figure(figsize=(10, 5))\n",
    "\n",
    "pos = 0\n",
    "for idx, row in df.sort_values(by=['start']).iterrows():\n",
    "    plt.bar(pos, row['duration'], 1, bottom=row['start'], color='blue')\n",
    "    pos += 1\n",
    "# plt.xticks([0, 1, 2, 3])\n",
    "plt.ylim(0, job_duration+1)\n",
    "# plt.x\n",
    "plt.ylabel('time in s')\n",
    "plt.xlabel('request no')\n",
    "plt.axhline(0)\n",
    "plt.axhline(job_duration)\n",
    "plt.grid(axis='y')"
   ]
  },
  {
   "cell_type": "code",
   "execution_count": 107,
   "id": "b35cfdef",
   "metadata": {},
   "outputs": [
    {
     "data": {
      "text/plain": [
       "200"
      ]
     },
     "execution_count": 107,
     "metadata": {},
     "output_type": "execute_result"
    }
   ],
   "source": [
    "len(data['tasks'][0]['invoked_requests'])"
   ]
  },
  {
   "cell_type": "code",
   "execution_count": null,
   "id": "44884657",
   "metadata": {},
   "outputs": [],
   "source": []
  },
  {
   "cell_type": "code",
   "execution_count": 47,
   "id": "97923894",
   "metadata": {},
   "outputs": [],
   "source": [
    "# analyze invocations with start/end\n",
    "# -> want to add request start & request end in absolute times!\n",
    "# --> these values should be filled in by the caller!"
   ]
  },
  {
   "cell_type": "code",
   "execution_count": 16,
   "id": "1a8eda8b",
   "metadata": {},
   "outputs": [],
   "source": [
    "rows = []\n",
    "\n",
    "global_start = data['stageStartTimestamp'] / 1e9\n",
    "job_duration = data['stageEndTimestamp'] / 1e9 - global_start\n",
    "\n",
    "def row_from_container(task):\n",
    "    start_ts = task['startTimestamp'] / 1e9\n",
    "    dead_ts = task['deadlineTimestamp'] / 1e9\n",
    "    remaining_s = task['msRemaining'] / 1000.0\n",
    "    end_ts = dead_ts - remaining_s\n",
    "    \n",
    "    duration = end_ts - start_ts\n",
    "    t = dead_ts - start_ts\n",
    "    \n",
    "    row = {'start' : start_ts - global_start,\n",
    "           'end' : end_ts - global_start,\n",
    "           'duration' : duration,\n",
    "           'uuid' : task['uuid']}\n",
    "    return row\n",
    "\n",
    "\n",
    "# add the first invoking container!\n",
    "row = row_from_container(data['tasks'][0]['container'])\n",
    "# row['start'] += global_start\n",
    "# row['end'] += global_start\n",
    "rows.append(row)\n",
    "for c in data['tasks'][0]['invoked_containers']:\n",
    "    row = row_from_container(c)\n",
    "    rows.append(row)"
   ]
  },
  {
   "cell_type": "code",
   "execution_count": null,
   "id": "711b1442",
   "metadata": {},
   "outputs": [],
   "source": []
  },
  {
   "cell_type": "code",
   "execution_count": 17,
   "id": "89233c3e",
   "metadata": {},
   "outputs": [
    {
     "data": {
      "text/plain": [
       "32.59984493255615"
      ]
     },
     "execution_count": 17,
     "metadata": {},
     "output_type": "execute_result"
    }
   ],
   "source": [
    "job_duration"
   ]
  },
  {
   "cell_type": "code",
   "execution_count": 18,
   "id": "de859d3b",
   "metadata": {},
   "outputs": [
    {
     "data": {
      "text/plain": [
       "{'start': -525.6395003795624,\n",
       " 'end': 32.13283085823059,\n",
       " 'duration': 557.772331237793,\n",
       " 'uuid': '87964fb3-a952-47ed-93d7-6cc4301c2068'}"
      ]
     },
     "execution_count": 18,
     "metadata": {},
     "output_type": "execute_result"
    }
   ],
   "source": [
    "rows[0]"
   ]
  },
  {
   "cell_type": "code",
   "execution_count": 19,
   "id": "b64a7006",
   "metadata": {},
   "outputs": [],
   "source": [
    "df = pd.DataFrame(rows)#.reset_index().rename(columns={'index' : 'request'})"
   ]
  },
  {
   "cell_type": "code",
   "execution_count": 20,
   "id": "8fd62b1a",
   "metadata": {},
   "outputs": [],
   "source": [
    "# group after uuid and get from there number (asc after start!)\n",
    "df = df.sort_values(by=['end'])"
   ]
  },
  {
   "cell_type": "code",
   "execution_count": 21,
   "id": "f7ce5903",
   "metadata": {},
   "outputs": [
    {
     "data": {
      "text/plain": [
       "198"
      ]
     },
     "execution_count": 21,
     "metadata": {},
     "output_type": "execute_result"
    }
   ],
   "source": [
    "len(df['uuid'].unique())"
   ]
  },
  {
   "cell_type": "code",
   "execution_count": 22,
   "id": "21c041db",
   "metadata": {},
   "outputs": [
    {
     "data": {
      "text/html": [
       "<div>\n",
       "<style scoped>\n",
       "    .dataframe tbody tr th:only-of-type {\n",
       "        vertical-align: middle;\n",
       "    }\n",
       "\n",
       "    .dataframe tbody tr th {\n",
       "        vertical-align: top;\n",
       "    }\n",
       "\n",
       "    .dataframe thead th {\n",
       "        text-align: right;\n",
       "    }\n",
       "</style>\n",
       "<table border=\"1\" class=\"dataframe\">\n",
       "  <thead>\n",
       "    <tr style=\"text-align: right;\">\n",
       "      <th></th>\n",
       "      <th>start</th>\n",
       "      <th>end</th>\n",
       "      <th>duration</th>\n",
       "      <th>uuid</th>\n",
       "    </tr>\n",
       "  </thead>\n",
       "  <tbody>\n",
       "    <tr>\n",
       "      <th>61</th>\n",
       "      <td>-527.173372</td>\n",
       "      <td>8.121831</td>\n",
       "      <td>535.295203</td>\n",
       "      <td>c4a6398c-2a50-4a4f-828d-60e2c10edf3e</td>\n",
       "    </tr>\n",
       "    <tr>\n",
       "      <th>72</th>\n",
       "      <td>-527.153701</td>\n",
       "      <td>4.223831</td>\n",
       "      <td>531.377532</td>\n",
       "      <td>33f1ea7e-0167-49e2-895b-780f53dd6e19</td>\n",
       "    </tr>\n",
       "    <tr>\n",
       "      <th>136</th>\n",
       "      <td>-526.869444</td>\n",
       "      <td>5.363831</td>\n",
       "      <td>532.233275</td>\n",
       "      <td>0944171c-70cf-432b-a7ec-a2e5c0a7a331</td>\n",
       "    </tr>\n",
       "    <tr>\n",
       "      <th>51</th>\n",
       "      <td>-526.712817</td>\n",
       "      <td>7.932831</td>\n",
       "      <td>534.645648</td>\n",
       "      <td>737f0507-ef43-4c71-9b3b-1de36288fd5a</td>\n",
       "    </tr>\n",
       "    <tr>\n",
       "      <th>85</th>\n",
       "      <td>-526.660302</td>\n",
       "      <td>7.876831</td>\n",
       "      <td>534.537133</td>\n",
       "      <td>0ea4ef0a-7dc4-48eb-9d81-22a299b248a0</td>\n",
       "    </tr>\n",
       "  </tbody>\n",
       "</table>\n",
       "</div>"
      ],
      "text/plain": [
       "          start       end    duration                                  uuid\n",
       "61  -527.173372  8.121831  535.295203  c4a6398c-2a50-4a4f-828d-60e2c10edf3e\n",
       "72  -527.153701  4.223831  531.377532  33f1ea7e-0167-49e2-895b-780f53dd6e19\n",
       "136 -526.869444  5.363831  532.233275  0944171c-70cf-432b-a7ec-a2e5c0a7a331\n",
       "51  -526.712817  7.932831  534.645648  737f0507-ef43-4c71-9b3b-1de36288fd5a\n",
       "85  -526.660302  7.876831  534.537133  0ea4ef0a-7dc4-48eb-9d81-22a299b248a0"
      ]
     },
     "execution_count": 22,
     "metadata": {},
     "output_type": "execute_result"
    }
   ],
   "source": [
    "df.sort_values(by=['start']).head()"
   ]
  },
  {
   "cell_type": "code",
   "execution_count": 23,
   "id": "ec8f2512",
   "metadata": {},
   "outputs": [],
   "source": [
    "# this is information regarding containers\n",
    "# => want to know something about requests though!"
   ]
  },
  {
   "cell_type": "code",
   "execution_count": 25,
   "id": "c3708a61",
   "metadata": {},
   "outputs": [
    {
     "data": {
      "image/png": "[encoded data removed]",
      "text/plain": [
       "<Figure size 720x360 with 1 Axes>"
      ]
     },
     "metadata": {
      "needs_background": "light"
     },
     "output_type": "display_data"
    }
   ],
   "source": [
    "plt.figure(figsize=(10, 5))\n",
    "\n",
    "pos = 0\n",
    "for idx, row in df.sort_values(by=['start']).iterrows():\n",
    "    plt.bar(pos, row['duration'], 1, bottom=row['start'], color='blue')\n",
    "    pos += 1\n",
    "# plt.xticks([0, 1, 2, 3])\n",
    "plt.ylim(0, job_duration)\n",
    "# plt.x\n",
    "plt.ylabel('time in s')\n",
    "plt.xlabel('request no')\n",
    "plt.grid(axis='y')"
   ]
  },
  {
   "cell_type": "code",
   "execution_count": null,
   "id": "e35e5d82",
   "metadata": {},
   "outputs": [],
   "source": []
  },
  {
   "cell_type": "code",
   "execution_count": 82,
   "id": "62b82b5c",
   "metadata": {},
   "outputs": [
    {
     "data": {
      "text/plain": [
       "[{'reused': False,\n",
       "  'requestId': 'b8905283-be18-4727-b914-9b4c23f30b61',\n",
       "  'uuid': '8397ce4a-0279-4350-a008-eb818eb1f464',\n",
       "  'msRemaining': 597987,\n",
       "  'requestsServed': 1,\n",
       "  'startTimestamp': 1643349680809836438,\n",
       "  'deadlineTimestamp': 1643350280846000000},\n",
       " {'reused': False,\n",
       "  'requestId': 'a06206e9-469e-413c-9187-9fb4d061fb3f',\n",
       "  'uuid': '44629c20-e17c-4032-882e-b6e98286ffc4',\n",
       "  'msRemaining': 597879,\n",
       "  'requestsServed': 1,\n",
       "  'startTimestamp': 1643349680961759223,\n",
       "  'deadlineTimestamp': 1643350280998000000},\n",
       " {'reused': False,\n",
       "  'requestId': '3104dc70-3cc0-4c7d-9f96-e05102b8b473',\n",
       "  'uuid': '76a84344-931f-44c7-87da-20c7040748d3',\n",
       "  'msRemaining': 598131,\n",
       "  'requestsServed': 1,\n",
       "  'startTimestamp': 1643349680923476145,\n",
       "  'deadlineTimestamp': 1643350280959000000}]"
      ]
     },
     "execution_count": 82,
     "metadata": {},
     "output_type": "execute_result"
    }
   ],
   "source": [
    "data['tasks'][0]['invoked_containers']"
   ]
  },
  {
   "cell_type": "code",
   "execution_count": 27,
   "id": "b5a31a2c",
   "metadata": {},
   "outputs": [],
   "source": [
    "import datetime"
   ]
  },
  {
   "cell_type": "code",
   "execution_count": null,
   "id": "5df1baff",
   "metadata": {},
   "outputs": [],
   "source": [
    "stageStart"
   ]
  },
  {
   "cell_type": "code",
   "execution_count": 28,
   "id": "7353eb22",
   "metadata": {},
   "outputs": [
    {
     "ename": "OSError",
     "evalue": "[Errno 22] Invalid argument",
     "output_type": "error",
     "traceback": [
      "\u001b[0;31m---------------------------------------------------------------------------\u001b[0m",
      "\u001b[0;31mOSError\u001b[0m                                   Traceback (most recent call last)",
      "\u001b[0;32m<ipython-input-28-da26dc25dd01>\u001b[0m in \u001b[0;36m<module>\u001b[0;34m\u001b[0m\n\u001b[0;32m----> 1\u001b[0;31m \u001b[0mdatetime\u001b[0m\u001b[0;34m.\u001b[0m\u001b[0mdatetime\u001b[0m\u001b[0;34m.\u001b[0m\u001b[0mfromtimestamp\u001b[0m\u001b[0;34m(\u001b[0m\u001b[0;36m1643339402105915345\u001b[0m\u001b[0;34m)\u001b[0m\u001b[0;34m\u001b[0m\u001b[0;34m\u001b[0m\u001b[0m\n\u001b[0m",
      "\u001b[0;31mOSError\u001b[0m: [Errno 22] Invalid argument"
     ]
    }
   ],
   "source": [
    "datetime.datetime.fromtimestamp(1643339402105915345)"
   ]
  },
  {
   "cell_type": "code",
   "execution_count": 30,
   "id": "c0bfe523",
   "metadata": {},
   "outputs": [
    {
     "name": "stdout",
     "output_type": "stream",
     "text": [
      "Help on built-in function fromtimestamp:\n",
      "\n",
      "fromtimestamp(...) method of builtins.type instance\n",
      "    timestamp[, tz] -> tz's local time from POSIX timestamp.\n",
      "\n"
     ]
    }
   ],
   "source": [
    "help(datetime.datetime.fromtimestamp)"
   ]
  },
  {
   "cell_type": "code",
   "execution_count": 37,
   "id": "da253810",
   "metadata": {},
   "outputs": [
    {
     "data": {
      "text/plain": [
       "datetime.datetime(2022, 1, 27, 23, 50, 57, 880027)"
      ]
     },
     "execution_count": 37,
     "metadata": {},
     "output_type": "execute_result"
    }
   ],
   "source": [
    "import time\n",
    "datetime.datetime.fromtimestamp(time.time())"
   ]
  },
  {
   "cell_type": "code",
   "execution_count": 47,
   "id": "18203c3b",
   "metadata": {},
   "outputs": [
    {
     "data": {
      "text/plain": [
       "datetime.datetime(2022, 1, 27, 22, 10, 4, 174495)"
      ]
     },
     "execution_count": 47,
     "metadata": {},
     "output_type": "execute_result"
    }
   ],
   "source": [
    "datetime.datetime.fromtimestamp(1643339404174495380 / 1e9)"
   ]
  },
  {
   "cell_type": "code",
   "execution_count": 49,
   "id": "b4d922e1",
   "metadata": {},
   "outputs": [
    {
     "data": {
      "text/plain": [
       "datetime.datetime(1970, 1, 5, 7, 50, 58, 287254)"
      ]
     },
     "execution_count": 49,
     "metadata": {},
     "output_type": "execute_result"
    }
   ],
   "source": [
    "datetime.datetime.fromtimestamp(391858287253828 / 1e9)"
   ]
  },
  {
   "cell_type": "code",
   "execution_count": null,
   "id": "71acaf1a",
   "metadata": {},
   "outputs": [],
   "source": []
  }
 ],
 "metadata": {
  "kernelspec": {
   "display_name": "Python 3",
   "language": "python",
   "name": "python3"
  },
  "language_info": {
   "codemirror_mode": {
    "name": "ipython",
    "version": 3
   },
   "file_extension": ".py",
   "mimetype": "text/x-python",
   "name": "python",
   "nbconvert_exporter": "python",
   "pygments_lexer": "ipython3",
   "version": "3.9.9"
  }
 },
 "nbformat": 4,
 "nbformat_minor": 5
}
