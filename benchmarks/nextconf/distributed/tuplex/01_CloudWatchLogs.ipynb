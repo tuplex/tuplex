{
 "cells": [
  {
   "cell_type": "code",
   "execution_count": 1,
   "id": "69ac07e3",
   "metadata": {},
   "outputs": [],
   "source": [
    "import boto3"
   ]
  },
  {
   "cell_type": "code",
   "execution_count": 2,
   "id": "61156966",
   "metadata": {},
   "outputs": [],
   "source": [
    "cw_client = boto3.client('cloudwatch')"
   ]
  },
  {
   "cell_type": "code",
   "execution_count": 4,
   "id": "c1bbc349",
   "metadata": {},
   "outputs": [
    {
     "data": {
      "text/plain": [
       "{'Metrics': [{'Namespace': 'AWS/Lambda',\n",
       "   'MetricName': 'ConcurrentExecutions',\n",
       "   'Dimensions': [{'Name': 'FunctionName', 'Value': 'tuplex-lambda-runner'},\n",
       "    {'Name': 'Resource', 'Value': 'tuplex-lambda-runner'}]},\n",
       "  {'Namespace': 'AWS/Lambda',\n",
       "   'MetricName': 'ConcurrentExecutions',\n",
       "   'Dimensions': [{'Name': 'FunctionName', 'Value': 'tuplex-lambda-runner'}]}],\n",
       " 'ResponseMetadata': {'RequestId': 'd2b22aff-cc4c-4fd2-8cf9-fddbd6ce0f0b',\n",
       "  'HTTPStatusCode': 200,\n",
       "  'HTTPHeaders': {'x-amzn-requestid': 'd2b22aff-cc4c-4fd2-8cf9-fddbd6ce0f0b',\n",
       "   'content-type': 'text/xml',\n",
       "   'content-length': '993',\n",
       "   'date': 'Thu, 25 Nov 2021 21:54:58 GMT'},\n",
       "  'RetryAttempts': 0}}"
      ]
     },
     "execution_count": 4,
     "metadata": {},
     "output_type": "execute_result"
    }
   ],
   "source": [
    "cw_client.list_metrics(Namespace='AWS/Lambda',\n",
    "                       MetricName='ConcurrentExecutions',\n",
    "                      Dimensions=[{'Name': 'FunctionName', 'Value': 'tuplex-lambda-runner'}])"
   ]
  },
  {
   "cell_type": "code",
   "execution_count": 8,
   "id": "1307c58f",
   "metadata": {},
   "outputs": [],
   "source": [
    "import datetime"
   ]
  },
  {
   "cell_type": "code",
   "execution_count": 12,
   "id": "a06dac82",
   "metadata": {},
   "outputs": [],
   "source": [
    "StartTime = datetime.datetime.now() - datetime.timedelta(hours=1)\n",
    "EndTime = datetime.datetime.now()"
   ]
  },
  {
   "cell_type": "code",
   "execution_count": 39,
   "id": "23d438b6",
   "metadata": {},
   "outputs": [],
   "source": [
    "metric = {\n",
    "'Namespace': 'AWS/Lambda',\n",
    "'MetricName': 'ConcurrentExecutions',\n",
    "'Dimensions': [{'Name': 'FunctionName', 'Value': 'tuplex-lambda-runner'}]\n",
    "}\n",
    "\n",
    "\n",
    "response = cw_client.get_metric_data(MetricDataQueries=[{'Id': 'concurrent_executions',\n",
    "                                             'MetricStat': {'Metric': metric,\n",
    "                                                            'Period': 60,\n",
    "                                                           'Stat': 'Maximum',\n",
    "                                                            'Unit': 'Count'\n",
    "                                                           }\n",
    "                                             }],\n",
    "                                              StartTime=datetime.datetime(2021, 1, 1),\n",
    "    EndTime=datetime.datetime.now())"
   ]
  },
  {
   "cell_type": "code",
   "execution_count": 40,
   "id": "6658409f",
   "metadata": {},
   "outputs": [
    {
     "data": {
      "text/plain": [
       "(datetime.datetime(2021, 11, 25, 16, 0, 7, 920577),\n",
       " datetime.datetime(2021, 11, 25, 17, 0, 7, 920622))"
      ]
     },
     "execution_count": 40,
     "metadata": {},
     "output_type": "execute_result"
    }
   ],
   "source": [
    "StartTime, EndTime"
   ]
  },
  {
   "cell_type": "code",
   "execution_count": 41,
   "id": "8594771b",
   "metadata": {},
   "outputs": [
    {
     "data": {
      "text/plain": [
       "{'MetricDataResults': [{'Id': 'concurrent_executions',\n",
       "   'Label': 'ConcurrentExecutions',\n",
       "   'Timestamps': [datetime.datetime(2021, 11, 23, 3, 47, tzinfo=tzutc()),\n",
       "    datetime.datetime(2021, 11, 23, 3, 46, tzinfo=tzutc()),\n",
       "    datetime.datetime(2021, 11, 23, 3, 45, tzinfo=tzutc()),\n",
       "    datetime.datetime(2021, 11, 23, 3, 44, tzinfo=tzutc()),\n",
       "    datetime.datetime(2021, 11, 23, 3, 43, tzinfo=tzutc()),\n",
       "    datetime.datetime(2021, 11, 23, 3, 42, tzinfo=tzutc()),\n",
       "    datetime.datetime(2021, 11, 23, 3, 41, tzinfo=tzutc()),\n",
       "    datetime.datetime(2021, 11, 23, 3, 39, tzinfo=tzutc()),\n",
       "    datetime.datetime(2021, 11, 23, 3, 38, tzinfo=tzutc()),\n",
       "    datetime.datetime(2021, 11, 23, 3, 37, tzinfo=tzutc()),\n",
       "    datetime.datetime(2021, 11, 23, 3, 34, tzinfo=tzutc()),\n",
       "    datetime.datetime(2021, 11, 23, 3, 33, tzinfo=tzutc()),\n",
       "    datetime.datetime(2021, 11, 23, 3, 31, tzinfo=tzutc()),\n",
       "    datetime.datetime(2021, 11, 23, 3, 30, tzinfo=tzutc()),\n",
       "    datetime.datetime(2021, 11, 23, 3, 26, tzinfo=tzutc()),\n",
       "    datetime.datetime(2021, 11, 23, 3, 25, tzinfo=tzutc()),\n",
       "    datetime.datetime(2021, 11, 22, 19, 55, tzinfo=tzutc()),\n",
       "    datetime.datetime(2021, 11, 22, 14, 59, tzinfo=tzutc()),\n",
       "    datetime.datetime(2021, 11, 19, 19, 14, tzinfo=tzutc()),\n",
       "    datetime.datetime(2021, 11, 19, 18, 47, tzinfo=tzutc()),\n",
       "    datetime.datetime(2021, 11, 19, 18, 32, tzinfo=tzutc()),\n",
       "    datetime.datetime(2021, 11, 19, 16, 51, tzinfo=tzutc()),\n",
       "    datetime.datetime(2021, 11, 19, 16, 3, tzinfo=tzutc()),\n",
       "    datetime.datetime(2021, 11, 19, 14, 58, tzinfo=tzutc()),\n",
       "    datetime.datetime(2021, 11, 19, 14, 50, tzinfo=tzutc())],\n",
       "   'Values': [100.0,\n",
       "    100.0,\n",
       "    100.0,\n",
       "    100.0,\n",
       "    100.0,\n",
       "    100.0,\n",
       "    100.0,\n",
       "    100.0,\n",
       "    100.0,\n",
       "    64.0,\n",
       "    64.0,\n",
       "    64.0,\n",
       "    64.0,\n",
       "    64.0,\n",
       "    64.0,\n",
       "    64.0,\n",
       "    1.0,\n",
       "    1.0,\n",
       "    1.0,\n",
       "    1.0,\n",
       "    1.0,\n",
       "    1.0,\n",
       "    1.0,\n",
       "    1.0,\n",
       "    1.0],\n",
       "   'StatusCode': 'PartialData'}],\n",
       " 'NextToken': 'ANDrd4oLfrkpsm9UXlJ34ggLCFC/4714tAVxQMJQF5bfuTITI7QiPljOYnaVsQ3tK6c3YrlvlLAYkDojs/bOAGswpIbgVTYeo+pzWyEg5RrSm99pDMGIumz4hURaKrTwQZOFo1BXcCGBIJMALFSMz1TMuK9gU228Ygyy9lQaGs/w',\n",
       " 'Messages': [],\n",
       " 'ResponseMetadata': {'RequestId': 'afc63812-ccc3-43f2-b74e-45bc7e1e31fd',\n",
       "  'HTTPStatusCode': 200,\n",
       "  'HTTPHeaders': {'x-amzn-requestid': 'afc63812-ccc3-43f2-b74e-45bc7e1e31fd',\n",
       "   'content-type': 'text/xml',\n",
       "   'content-length': '2763',\n",
       "   'date': 'Thu, 25 Nov 2021 22:05:58 GMT'},\n",
       "  'RetryAttempts': 0}}"
      ]
     },
     "execution_count": 41,
     "metadata": {},
     "output_type": "execute_result"
    }
   ],
   "source": [
    "response"
   ]
  },
  {
   "cell_type": "code",
   "execution_count": null,
   "id": "ff8e435c",
   "metadata": {},
   "outputs": [],
   "source": [
    "e"
   ]
  }
 ],
 "metadata": {
  "kernelspec": {
   "display_name": "Python 3",
   "language": "python",
   "name": "python3"
  },
  "language_info": {
   "codemirror_mode": {
    "name": "ipython",
    "version": 3
   },
   "file_extension": ".py",
   "mimetype": "text/x-python",
   "name": "python",
   "nbconvert_exporter": "python",
   "pygments_lexer": "ipython3",
   "version": "3.9.7"
  }
 },
 "nbformat": 4,
 "nbformat_minor": 5
}
