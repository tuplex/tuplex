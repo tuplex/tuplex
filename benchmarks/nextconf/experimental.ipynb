{
 "cells": [
  {
   "cell_type": "code",
   "execution_count": null,
   "id": "25e81e57",
   "metadata": {},
   "outputs": [],
   "source": [
    "import tarfile\n",
    "import os"
   ]
  },
  {
   "cell_type": "code",
   "execution_count": null,
   "id": "9d9f2b2e",
   "metadata": {
    "scrolled": false
   },
   "outputs": [],
   "source": [
    "with tarfile.open('build_cache/nocereal/tuplex.tar', 'r') as tf:\n",
    "    mems = tf.getmembers()"
   ]
  },
  {
   "cell_type": "code",
   "execution_count": null,
   "id": "845bc89b",
   "metadata": {},
   "outputs": [],
   "source": [
    "mems[1].get_info()['name']"
   ]
  },
  {
   "cell_type": "code",
   "execution_count": null,
   "id": "1a0747b6",
   "metadata": {},
   "outputs": [],
   "source": [
    "buf = mems[1].tobuf()"
   ]
  },
  {
   "cell_type": "code",
   "execution_count": null,
   "id": "adfe9352",
   "metadata": {},
   "outputs": [],
   "source": [
    "obj = mems[1]"
   ]
  },
  {
   "cell_type": "code",
   "execution_count": null,
   "id": "87047654",
   "metadata": {},
   "outputs": [],
   "source": [
    "obj.get_info()"
   ]
  },
  {
   "cell_type": "code",
   "execution_count": null,
   "id": "792d3e8f",
   "metadata": {},
   "outputs": [],
   "source": [
    "import io\n",
    "import os"
   ]
  },
  {
   "cell_type": "code",
   "execution_count": null,
   "id": "353beb44",
   "metadata": {},
   "outputs": [],
   "source": []
  },
  {
   "cell_type": "code",
   "execution_count": null,
   "id": "bfdfa910",
   "metadata": {},
   "outputs": [],
   "source": [
    "dest_path = 'build_cache/nocereal/tuplex-package.tar.gz'\n",
    "src_path = 'build_cache/nocereal/tuplex.tar'\n",
    "lambda_src_path = 'build_cache/nocereal/lambda-runner.tar'\n",
    "\n",
    "\n",
    "allowed_prefixes = ['python/tuplex', 'python/setup.py', 'python/MANIFEST.in']\n",
    "\n",
    "dest_root = ''\n",
    "\n",
    "with tarfile.open(src_path, 'r') as tf:\n",
    "    \n",
    "    mems = tf.getmembers()\n",
    "\n",
    "    with tarfile.open(dest_path, 'w:gz') as target:\n",
    "        for obj in mems:\n",
    "            \n",
    "            if len(list(filter(lambda prefix: obj.name.startswith(prefix), allowed_prefixes))) > 0:\n",
    "                if obj.name.endswith('tar.gz'):\n",
    "                    continue\n",
    "\n",
    "                if os.path.splitext(obj.name)[1][1:] not in {'in', 'py', 'so', 'dylib', 'toml'}:\n",
    "                    continue\n",
    "                fileobj = tf.extractfile(obj)    \n",
    "                obj.name = obj.name.replace('python/', dest_root)\n",
    "                target.addfile(obj, fileobj)\n",
    "                print('adding {}'.format(obj.name))\n",
    "        if lambda_src_path is not None:\n",
    "            with tarfile.open(lambda_src_path, 'r') as tf_lam:\n",
    "                obj = list(filter(lambda x: x.name.endswith('tplxlam.zip'), tf_lam.getmembers()))[0]\n",
    "                fileobj = tf_lam.extractfile(obj)    \n",
    "                obj.name = os.path.join(dest_root, 'tuplex/other/tplxlam.zip')\n",
    "                target.addfile(obj, fileobj)\n",
    "                print('adding {}'.format(obj.name))"
   ]
  },
  {
   "cell_type": "code",
   "execution_count": null,
   "id": "33451dfe",
   "metadata": {},
   "outputs": [],
   "source": []
  },
  {
   "cell_type": "code",
   "execution_count": null,
   "id": "3d8050cf",
   "metadata": {},
   "outputs": [],
   "source": [
    "import boto3"
   ]
  },
  {
   "cell_type": "code",
   "execution_count": null,
   "id": "aca5bcc7",
   "metadata": {},
   "outputs": [],
   "source": [
    "iam= boto3.client('iam')"
   ]
  },
  {
   "cell_type": "code",
   "execution_count": null,
   "id": "0ca522cb",
   "metadata": {},
   "outputs": [],
   "source": [
    "lambda_role='tuplex-lambda-role'\n",
    "policy_names = iam.list_role_policies(RoleName=lambda_role)['PolicyNames']\n",
    "\n",
    "# arn:aws:iam::\"${account_id}\":policy/\"${policy_name}\""
   ]
  },
  {
   "cell_type": "code",
   "execution_count": null,
   "id": "930242c1",
   "metadata": {},
   "outputs": [],
   "source": [
    "def get_policy_arn(policy_name):\n",
    "    sts = boto3.client('sts')\n",
    "    identity = sts.get_caller_identity()\n",
    "    account_id = identity['Account']\n",
    "    \n",
    "    return 'arn:aws:iam::{}:policy/{}'.format(account_id, policy_name)"
   ]
  },
  {
   "cell_type": "code",
   "execution_count": null,
   "id": "53875fc5",
   "metadata": {},
   "outputs": [],
   "source": [
    "arns = [get_policy_arn(name) for name in policy_names]"
   ]
  },
  {
   "cell_type": "code",
   "execution_count": null,
   "id": "8669010c",
   "metadata": {},
   "outputs": [],
   "source": [
    "policy_names"
   ]
  },
  {
   "cell_type": "code",
   "execution_count": null,
   "id": "428291af",
   "metadata": {},
   "outputs": [],
   "source": [
    "iam.detach_role_policy(RoleName=lambda_role, PolicyArn=arns[1])"
   ]
  },
  {
   "cell_type": "code",
   "execution_count": null,
   "id": "0a6cecac",
   "metadata": {},
   "outputs": [],
   "source": [
    "s3 = boto3.client('s3')"
   ]
  },
  {
   "cell_type": "code",
   "execution_count": null,
   "id": "bc558f05",
   "metadata": {},
   "outputs": [],
   "source": [
    "s3.delete_object(Bucket = 'tuplex-tuplex', Key='scratch/lambda-deploy.zip')"
   ]
  },
  {
   "cell_type": "code",
   "execution_count": null,
   "id": "b7dc9097",
   "metadata": {},
   "outputs": [],
   "source": []
  }
 ],
 "metadata": {
  "kernelspec": {
   "display_name": "Python 3",
   "language": "python",
   "name": "python3"
  },
  "language_info": {
   "codemirror_mode": {
    "name": "ipython",
    "version": 3
   },
   "file_extension": ".py",
   "mimetype": "text/x-python",
   "name": "python",
   "nbconvert_exporter": "python",
   "pygments_lexer": "ipython3",
   "version": "3.9.10"
  }
 },
 "nbformat": 4,
 "nbformat_minor": 5
}
