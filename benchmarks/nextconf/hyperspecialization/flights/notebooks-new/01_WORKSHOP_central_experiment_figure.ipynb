{
 "cells": [
  {
   "cell_type": "code",
   "execution_count": 10,
   "id": "0880e215",
   "metadata": {},
   "outputs": [],
   "source": [
    "import glob\n",
    "import os\n",
    "import re\n",
    "import pandas as pd\n",
    "import matplotlib.pyplot as plt\n",
    "import seaborn as sns\n",
    "import json"
   ]
  },
  {
   "cell_type": "code",
   "execution_count": 119,
   "id": "5502df40",
   "metadata": {},
   "outputs": [],
   "source": [
    "# paths = glob.glob('../results_hyper/*.txt')\n",
    "paths = glob.glob('data/results_hyper/badparse-fmt/*.txt')\n",
    "paths = glob.glob('data/results_hyper/internal-fmt/*.txt')"
   ]
  },
  {
   "cell_type": "code",
   "execution_count": 120,
   "id": "db287d9b",
   "metadata": {},
   "outputs": [
    {
     "data": {
      "text/plain": [
       "'data/results_hyper/internal-fmt/flights-hyper-run-5.txt'"
      ]
     },
     "execution_count": 120,
     "metadata": {},
     "output_type": "execute_result"
    }
   ],
   "source": [
    "path = paths[0]\n",
    "path"
   ]
  },
  {
   "cell_type": "code",
   "execution_count": 121,
   "id": "7072197a",
   "metadata": {},
   "outputs": [
    {
     "data": {
      "text/plain": [
       "['flights', 'hyper', 'run']"
      ]
     },
     "execution_count": 121,
     "metadata": {},
     "output_type": "execute_result"
    }
   ],
   "source": [
    "parts = os.path.basename(path).split('-')\n",
    "parts[:-1]"
   ]
  },
  {
   "cell_type": "code",
   "execution_count": 124,
   "id": "33bea934",
   "metadata": {},
   "outputs": [],
   "source": [
    "def extract_row(path):\n",
    "    with open(path) as fp:\n",
    "        lines = fp.readlines()\n",
    "\n",
    "        sel = list(filter(lambda line: line.startswith('{\"startupTime\":'), lines))\n",
    "        row = json.loads(sel[0])\n",
    "        parts = os.path.basename(path).split('-')\n",
    "        mode = '-'.join([p for p in parts[:-1] if p not in ['flights', 'run']])\n",
    "        run = parts[-1]\n",
    "        run = int(run.replace('.txt', ''))\n",
    "        row['mode'] = mode\n",
    "        row['run'] = run\n",
    "        row['path'] = path\n",
    "\n",
    "        sel = list(filter(lambda line: 'LAMBDA compute took' in line, lines))[0]\n",
    "        cost = float(sel[sel.find('cost $')+6:].strip())\n",
    "\n",
    "        row['cost'] = cost\n",
    "\n",
    "        return row"
   ]
  },
  {
   "cell_type": "code",
   "execution_count": 125,
   "id": "83cc8b41",
   "metadata": {},
   "outputs": [],
   "source": [
    "rows = []\n",
    "for path in paths:\n",
    "    rows.append(extract_row(path))\n",
    "    \n",
    "df = pd.DataFrame(rows)"
   ]
  },
  {
   "cell_type": "code",
   "execution_count": 126,
   "id": "8864178f",
   "metadata": {},
   "outputs": [
    {
     "name": "stderr",
     "output_type": "stream",
     "text": [
      "/var/folders/l7/8zgzcszx7z5gk7kk92f6nc1c0000gn/T/ipykernel_37400/3645649352.py:1: FutureWarning: ['path'] did not aggregate successfully. If any error is raised this will raise in a future version of pandas. Drop these columns/ops to avoid this warning.\n",
      "  df.groupby('mode').agg(['mean', 'std']).reset_index()\n"
     ]
    },
    {
     "data": {
      "text/html": [
       "<div>\n",
       "<style scoped>\n",
       "    .dataframe tbody tr th:only-of-type {\n",
       "        vertical-align: middle;\n",
       "    }\n",
       "\n",
       "    .dataframe tbody tr th {\n",
       "        vertical-align: top;\n",
       "    }\n",
       "\n",
       "    .dataframe thead tr th {\n",
       "        text-align: left;\n",
       "    }\n",
       "</style>\n",
       "<table border=\"1\" class=\"dataframe\">\n",
       "  <thead>\n",
       "    <tr>\n",
       "      <th></th>\n",
       "      <th>mode</th>\n",
       "      <th colspan=\"2\" halign=\"left\">startupTime</th>\n",
       "      <th colspan=\"2\" halign=\"left\">jobTime</th>\n",
       "      <th colspan=\"2\" halign=\"left\">run</th>\n",
       "      <th colspan=\"2\" halign=\"left\">cost</th>\n",
       "    </tr>\n",
       "    <tr>\n",
       "      <th></th>\n",
       "      <th></th>\n",
       "      <th>mean</th>\n",
       "      <th>std</th>\n",
       "      <th>mean</th>\n",
       "      <th>std</th>\n",
       "      <th>mean</th>\n",
       "      <th>std</th>\n",
       "      <th>mean</th>\n",
       "      <th>std</th>\n",
       "    </tr>\n",
       "  </thead>\n",
       "  <tbody>\n",
       "    <tr>\n",
       "      <th>0</th>\n",
       "      <td>hyper</td>\n",
       "      <td>0.198920</td>\n",
       "      <td>0.019765</td>\n",
       "      <td>16.637212</td>\n",
       "      <td>0.229461</td>\n",
       "      <td>4.0</td>\n",
       "      <td>2.160247</td>\n",
       "      <td>0.342857</td>\n",
       "      <td>0.004880</td>\n",
       "    </tr>\n",
       "    <tr>\n",
       "      <th>1</th>\n",
       "      <td>hyper-nocf</td>\n",
       "      <td>0.195543</td>\n",
       "      <td>0.012122</td>\n",
       "      <td>16.413572</td>\n",
       "      <td>0.124237</td>\n",
       "      <td>4.0</td>\n",
       "      <td>2.160247</td>\n",
       "      <td>0.341429</td>\n",
       "      <td>0.003780</td>\n",
       "    </tr>\n",
       "    <tr>\n",
       "      <th>2</th>\n",
       "      <td>nohyper</td>\n",
       "      <td>0.199423</td>\n",
       "      <td>0.023983</td>\n",
       "      <td>15.374068</td>\n",
       "      <td>1.612362</td>\n",
       "      <td>4.0</td>\n",
       "      <td>2.160247</td>\n",
       "      <td>0.308571</td>\n",
       "      <td>0.058146</td>\n",
       "    </tr>\n",
       "    <tr>\n",
       "      <th>3</th>\n",
       "      <td>nohyper-nocf</td>\n",
       "      <td>0.202687</td>\n",
       "      <td>0.012385</td>\n",
       "      <td>16.021030</td>\n",
       "      <td>0.266555</td>\n",
       "      <td>4.0</td>\n",
       "      <td>2.160247</td>\n",
       "      <td>0.282857</td>\n",
       "      <td>0.004880</td>\n",
       "    </tr>\n",
       "  </tbody>\n",
       "</table>\n",
       "</div>"
      ],
      "text/plain": [
       "           mode startupTime              jobTime            run            \\\n",
       "                       mean       std       mean       std mean       std   \n",
       "0         hyper    0.198920  0.019765  16.637212  0.229461  4.0  2.160247   \n",
       "1    hyper-nocf    0.195543  0.012122  16.413572  0.124237  4.0  2.160247   \n",
       "2       nohyper    0.199423  0.023983  15.374068  1.612362  4.0  2.160247   \n",
       "3  nohyper-nocf    0.202687  0.012385  16.021030  0.266555  4.0  2.160247   \n",
       "\n",
       "       cost            \n",
       "       mean       std  \n",
       "0  0.342857  0.004880  \n",
       "1  0.341429  0.003780  \n",
       "2  0.308571  0.058146  \n",
       "3  0.282857  0.004880  "
      ]
     },
     "execution_count": 126,
     "metadata": {},
     "output_type": "execute_result"
    }
   ],
   "source": [
    "df.groupby('mode').agg(['mean', 'std']).reset_index()"
   ]
  },
  {
   "cell_type": "code",
   "execution_count": 127,
   "id": "ec34c13d",
   "metadata": {},
   "outputs": [
    {
     "data": {
      "text/plain": [
       "1.348955000723733"
      ]
     },
     "execution_count": 127,
     "metadata": {},
     "output_type": "execute_result"
    }
   ],
   "source": [
    "#speedup\n",
    "63.819428 / 47.310272"
   ]
  },
  {
   "cell_type": "code",
   "execution_count": 128,
   "id": "8f4d9488",
   "metadata": {},
   "outputs": [
    {
     "data": {
      "text/plain": [
       "0.36480686695278974"
      ]
     },
     "execution_count": 128,
     "metadata": {},
     "output_type": "execute_result"
    }
   ],
   "source": [
    "1.0 - 0.592 / 0.932 "
   ]
  },
  {
   "cell_type": "code",
   "execution_count": 129,
   "id": "f3914755",
   "metadata": {},
   "outputs": [],
   "source": [
    "# maybe use different sampling modes?"
   ]
  },
  {
   "cell_type": "code",
   "execution_count": 130,
   "id": "9a34d843",
   "metadata": {},
   "outputs": [],
   "source": [
    "# generate the table from path info"
   ]
  },
  {
   "cell_type": "code",
   "execution_count": 131,
   "id": "1b0456a2",
   "metadata": {},
   "outputs": [],
   "source": [
    "test = 'LAMBDA Stage output: 202449065 rows, 238590 exceptions'\n",
    "nums = [int(n) for n in re.findall('(\\d+)', test)]\n",
    "output_rows, exceptions = nums"
   ]
  },
  {
   "cell_type": "code",
   "execution_count": 132,
   "id": "a20204eb",
   "metadata": {},
   "outputs": [],
   "source": [
    "def extract_path_stats_row(path):\n",
    "    print(path)\n",
    "    with open(path) as fp:\n",
    "        lines = fp.readlines()\n",
    "        needle = 'LAMBDA paths input rows took:'\n",
    "        sel = list(filter(lambda line: needle in line, lines))[0]\n",
    "\n",
    "        sel = sel[sel.find('normal:'):]\n",
    "        print(sel)\n",
    "        _, normal, _, general, _, interpreter, = sel.strip().split(' ')\n",
    "\n",
    "\n",
    "        # fetch if there are any unresolved rows\n",
    "        # format is something like LAMBDA Stage output: 202449065 rows, 238590 exceptions\n",
    "        needle = 'LAMBDA Stage output:'\n",
    "        sel = list(filter(lambda line: needle in line, lines))[0]\n",
    "\n",
    "        nums = [int(n) for n in re.findall('(\\d+)', test)]\n",
    "        output_rows, exceptions = nums\n",
    "        \n",
    "        \n",
    "        row = {'normal' : int(normal),\n",
    "               'general': int(general),\n",
    "               'interpreter' : int(interpreter),\n",
    "               'unresolved': exceptions,\n",
    "               'total_out': output_rows}\n",
    "\n",
    "        _, mode, _, run = os.path.basename(path).split('-')\n",
    "        row['mode'] = mode\n",
    "    return row"
   ]
  },
  {
   "cell_type": "code",
   "execution_count": 133,
   "id": "7eb926c1",
   "metadata": {},
   "outputs": [
    {
     "name": "stdout",
     "output_type": "stream",
     "text": [
      "data/results_hyper/badparse-fmt/flights-hyper-run-1.txt\n",
      "normal: 187855165 general: 14593900 interpreter: 0\n",
      "\n",
      "data/results_hyper/badparse-fmt/flights-nohyper-run-1.txt\n",
      "normal: 175552445 general: 27135210 interpreter: 0\n",
      "\n"
     ]
    }
   ],
   "source": [
    "df_rows = pd.DataFrame([extract_path_stats_row('data/results_hyper/badparse-fmt/flights-hyper-run-1.txt'),\n",
    "                       extract_path_stats_row('data/results_hyper/badparse-fmt/flights-nohyper-run-1.txt')])"
   ]
  },
  {
   "cell_type": "code",
   "execution_count": 109,
   "id": "a50f95cd",
   "metadata": {},
   "outputs": [
    {
     "data": {
      "text/html": [
       "<div>\n",
       "<style scoped>\n",
       "    .dataframe tbody tr th:only-of-type {\n",
       "        vertical-align: middle;\n",
       "    }\n",
       "\n",
       "    .dataframe tbody tr th {\n",
       "        vertical-align: top;\n",
       "    }\n",
       "\n",
       "    .dataframe thead th {\n",
       "        text-align: right;\n",
       "    }\n",
       "</style>\n",
       "<table border=\"1\" class=\"dataframe\">\n",
       "  <thead>\n",
       "    <tr style=\"text-align: right;\">\n",
       "      <th></th>\n",
       "      <th>normal</th>\n",
       "      <th>general</th>\n",
       "      <th>interpreter</th>\n",
       "      <th>unresolved</th>\n",
       "      <th>total_out</th>\n",
       "      <th>mode</th>\n",
       "    </tr>\n",
       "  </thead>\n",
       "  <tbody>\n",
       "    <tr>\n",
       "      <th>0</th>\n",
       "      <td>187855165</td>\n",
       "      <td>14593900</td>\n",
       "      <td>0</td>\n",
       "      <td>238590</td>\n",
       "      <td>202449065</td>\n",
       "      <td>hyper</td>\n",
       "    </tr>\n",
       "    <tr>\n",
       "      <th>1</th>\n",
       "      <td>175552445</td>\n",
       "      <td>27135210</td>\n",
       "      <td>0</td>\n",
       "      <td>238590</td>\n",
       "      <td>202449065</td>\n",
       "      <td>nohyper</td>\n",
       "    </tr>\n",
       "  </tbody>\n",
       "</table>\n",
       "</div>"
      ],
      "text/plain": [
       "      normal   general  interpreter  unresolved  total_out     mode\n",
       "0  187855165  14593900            0      238590  202449065    hyper\n",
       "1  175552445  27135210            0      238590  202449065  nohyper"
      ]
     },
     "execution_count": 109,
     "metadata": {},
     "output_type": "execute_result"
    }
   ],
   "source": [
    "df_rows"
   ]
  },
  {
   "cell_type": "code",
   "execution_count": 110,
   "id": "87c785ed",
   "metadata": {},
   "outputs": [
    {
     "name": "stdout",
     "output_type": "stream",
     "text": [
      "\\begin{tabular}{lrrr}\n",
      "\\toprule\n",
      "    mode &     normal &   general &  unresolved \\\\\n",
      "\\midrule\n",
      "   hyper &  187855165 &  14593900 &      238590 \\\\\n",
      " nohyper &  175552445 &  27135210 &      238590 \\\\\n",
      "\\bottomrule\n",
      "\\end{tabular}\n",
      "\n"
     ]
    },
    {
     "name": "stderr",
     "output_type": "stream",
     "text": [
      "/var/folders/l7/8zgzcszx7z5gk7kk92f6nc1c0000gn/T/ipykernel_37400/910385977.py:2: FutureWarning: In future versions `DataFrame.to_latex` is expected to utilise the base implementation of `Styler.to_latex` for formatting and rendering. The arguments signature may therefore change. It is recommended instead to use `DataFrame.style.to_latex` which also contains additional functionality.\n",
      "  print(df_rows[['mode', 'normal', 'general', 'unresolved']].to_latex(index=None))\n"
     ]
    }
   ],
   "source": [
    "df_rows.style.format(thousands=\",\")\n",
    "print(df_rows[['mode', 'normal', 'general', 'unresolved']].to_latex(index=None))"
   ]
  },
  {
   "cell_type": "markdown",
   "id": "06759e67",
   "metadata": {},
   "source": [
    "## paper figure"
   ]
  },
  {
   "cell_type": "code",
   "execution_count": 111,
   "id": "bf9661da",
   "metadata": {},
   "outputs": [],
   "source": [
    "import matplotlib.pyplot as plt\n",
    "import matplotlib\n",
    "import numpy as np\n",
    "import seaborn as sns\n",
    "\n",
    "from matplotlib.patches import Patch\n",
    "import matplotlib.patches as mpatches\n",
    "from matplotlib.lines import Line2D\n",
    "from matplotlib.path import *"
   ]
  },
  {
   "cell_type": "code",
   "execution_count": 112,
   "id": "34e7055f",
   "metadata": {},
   "outputs": [],
   "source": [
    "# adjust settings for final paper (colors & Co)\n",
    "def adjust_settings():\n",
    "    # make nice looking plot\n",
    "\n",
    "    sns.set_style('whitegrid')\n",
    "    sns.set_context('poster')  # Everything is larger\n",
    "\n",
    "    # matplotlib.rcParams['font.family'] = \"serif\"\n",
    "\n",
    "    # red 900c3f\n",
    "\n",
    "    # 48A70B\n",
    "    sns.set_palette(\n",
    "        [[.22, .52, .71], [.53, .80, .81], [144 / 255., 12 / 255, 63 / 255.], [67 / 255., 135 / 255., 107 / 255.],\n",
    "         [248 / 255., 194 / 255., 145 / 255.]])\n",
    "\n",
    "    matplotlib.rc('font', family='serif', size=9)\n",
    "    matplotlib.rc('text.latex', preamble=['\\\\usepackage{times,mathptmx}'])\n",
    "    matplotlib.rc('text', usetex=True)\n",
    "    matplotlib.rc('legend', fontsize=8)\n",
    "    matplotlib.rc('figure', figsize=(2.5, 1.4))\n",
    "    matplotlib.rc('axes', linewidth=0.5)\n",
    "    matplotlib.rc('lines', linewidth=0.5)"
   ]
  },
  {
   "cell_type": "code",
   "execution_count": 113,
   "id": "b42a0adf",
   "metadata": {},
   "outputs": [
    {
     "data": {
      "text/plain": [
       "202687655"
      ]
     },
     "execution_count": 113,
     "metadata": {},
     "output_type": "execute_result"
    }
   ],
   "source": [
    "total = df_rows[['normal', 'general', 'interpreter', 'unresolved']].iloc[0].sum()\n",
    "total"
   ]
  },
  {
   "cell_type": "code",
   "execution_count": 114,
   "id": "1e3d9c72",
   "metadata": {},
   "outputs": [
    {
     "ename": "AssertionError",
     "evalue": "",
     "output_type": "error",
     "traceback": [
      "\u001b[0;31m---------------------------------------------------------------------------\u001b[0m",
      "\u001b[0;31mAssertionError\u001b[0m                            Traceback (most recent call last)",
      "Cell \u001b[0;32mIn [114], line 1\u001b[0m\n\u001b[0;32m----> 1\u001b[0m \u001b[38;5;28;01massert\u001b[39;00m total \u001b[38;5;241m==\u001b[39m df_rows[[\u001b[38;5;124m'\u001b[39m\u001b[38;5;124mnormal\u001b[39m\u001b[38;5;124m'\u001b[39m, \u001b[38;5;124m'\u001b[39m\u001b[38;5;124mgeneral\u001b[39m\u001b[38;5;124m'\u001b[39m, \u001b[38;5;124m'\u001b[39m\u001b[38;5;124minterpreter\u001b[39m\u001b[38;5;124m'\u001b[39m, \u001b[38;5;124m'\u001b[39m\u001b[38;5;124munresolved\u001b[39m\u001b[38;5;124m'\u001b[39m]]\u001b[38;5;241m.\u001b[39miloc[\u001b[38;5;241m1\u001b[39m]\u001b[38;5;241m.\u001b[39msum()\n",
      "\u001b[0;31mAssertionError\u001b[0m: "
     ]
    }
   ],
   "source": [
    "assert total == df_rows[['normal', 'general', 'interpreter', 'unresolved']].iloc[1].sum()"
   ]
  },
  {
   "cell_type": "code",
   "execution_count": 115,
   "id": "45ef69cd",
   "metadata": {},
   "outputs": [
    {
     "data": {
      "text/plain": [
       "-238590"
      ]
     },
     "execution_count": 115,
     "metadata": {},
     "output_type": "execute_result"
    }
   ],
   "source": [
    "total - df_rows[['normal', 'general', 'interpreter', 'unresolved']].iloc[1].sum()"
   ]
  },
  {
   "cell_type": "code",
   "execution_count": 116,
   "id": "9f58c5d8",
   "metadata": {},
   "outputs": [],
   "source": [
    "df_rows = df_rows.sort_values(by='normal', ascending=True).reset_index(drop=True)"
   ]
  },
  {
   "cell_type": "code",
   "execution_count": null,
   "id": "6aa64460",
   "metadata": {},
   "outputs": [],
   "source": []
  },
  {
   "cell_type": "code",
   "execution_count": 118,
   "id": "06bf3e17",
   "metadata": {},
   "outputs": [
    {
     "data": {
      "image/png": "[encoded data removed]",
      "text/plain": [
       "<Figure size 1200x300 with 1 Axes>"
      ]
     },
     "metadata": {},
     "output_type": "display_data"
    }
   ],
   "source": [
    "rel = 0\n",
    "h = 0.6\n",
    "plt.figure(figsize=(12, 3))\n",
    "ax = plt.gca()\n",
    "# https://matplotlib.org/stable/tutorials/text/annotations.html#sphx-glr-tutorials-text-annotations-py\n",
    "# https://matplotlib.org/stable/gallery/text_labels_and_annotations/annotation_demo.html\n",
    "n_col = np.array([53, 66, 89]) / 255.0#sns.color_palette()[0]\n",
    "g_col = np.array([140, 192, 222]) / 255.0 #sns.color_palette()[1]\n",
    "i_col = np.array([156, 15, 72]) / 255.0 #sns.color_palette()[2]\n",
    "\n",
    "tg_col = n_col\n",
    "yq = np.arange(len(df_rows))[::-1]\n",
    "plt.barh(yq, df_rows['normal'] / total, h, left=rel, color=n_col)\n",
    "\n",
    "m = rel + df_rows['normal'] / total * .5\n",
    "ax.text(m[1], 0, '{:.1f}M fast'.format(df_rows['normal'].iloc[1] / 10**6),\n",
    "        va='center', ha='center', fontsize=16, color='w', fontweight='bold',)\n",
    "\n",
    "rel += df_rows['normal'] / total\n",
    "plt.barh(yq, df_rows['general'] / total, h, left=rel, color=g_col)\n",
    "\n",
    "m = rel + df_rows['general'] / total * .5\n",
    "ax.text(m[0], 1, '{:.1f}M slow'.format(df_rows['general'].iloc[0] / 10**6),\n",
    "        va='center', ha='center', fontsize=16, color=tg_col, fontweight='bold',)\n",
    "ax.text(m[1], 0, '{:.1f}M slow'.format(df_rows['general'].iloc[1] / 10**6),\n",
    "        va='center', ha='center', fontsize=16, color=tg_col, fontweight='bold',)\n",
    "\n",
    "\n",
    "rel += df_rows['general'] / total\n",
    "plt.barh(yq, df_rows['interpreter'] / total, h, left=rel, color=i_col)\n",
    "rel += df_rows['interpreter'] / total\n",
    "plt.barh(yq, df_rows['unresolved'] / total, h, left=rel, color='k')\n",
    "xq = np.arange(0, 1.1, 0.1)\n",
    "\n",
    "\n",
    "ax.annotate(\n",
    "    '{:.1f}k fast'.format(df_rows['normal'].iloc[0] / 1000.0),\n",
    "    xy=(df_rows['normal'].iloc[0] / total * 0.5, 1 + h/2), xycoords='data',\n",
    "    xytext=(30, 10), fontsize=16, textcoords='offset points', color=n_col, fontweight='bold',\n",
    "    arrowprops=dict(arrowstyle=\"-\", color=n_col,\n",
    "                    connectionstyle=\"angle,angleA=0,angleB=90,rad=10\"))\n",
    "\n",
    "ax.annotate(\n",
    "    '{:.1f}k\\nunresolved'.format(df_rows['unresolved'].iloc[0] / 1000.0),\n",
    "    xy=(1.0 - df_rows['unresolved'].iloc[0] / total * 0.5, 1 + h/2), xycoords='data',\n",
    "    xytext=(30, 10), fontsize=16, textcoords='offset points',\n",
    "    arrowprops=dict(arrowstyle=\"-\",\n",
    "                    connectionstyle=\"angle,angleA=0,angleB=90,rad=10\"))\n",
    "ax.annotate(\n",
    "    '{:.1f}k\\nunresolved'.format(df_rows['unresolved'].iloc[0] / 1000.0),\n",
    "    xy=(1.0 - df_rows['unresolved'].iloc[0] / total * 0.5, h/2), xycoords='data',\n",
    "    xytext=(30, 10), fontsize=16, textcoords='offset points',\n",
    "    arrowprops=dict(arrowstyle=\"-\",\n",
    "                    connectionstyle=\"angle,angleA=0,angleB=90,rad=10\"))\n",
    "\n",
    "ax.annotate(\n",
    "    '{:.1f}M interpreter'.format(df_rows['interpreter'].iloc[0] / 10**6),\n",
    "    xy=(1.0 - df_rows['unresolved'].iloc[0] / total - df_rows['interpreter'].iloc[0] / total * 0.5, 1 + h/2),\n",
    "    xycoords='data', color=i_col,\n",
    "    xytext=(-200, 10), fontsize=16, textcoords='offset points',\n",
    "    arrowprops=dict(arrowstyle=\"-\", color=i_col, \n",
    "                    connectionstyle=\"angle,angleA=0,angleB=90,rad=10\"))\n",
    "\n",
    "ax.annotate(\n",
    "    '{:.1f}M interpreter'.format(df_rows['interpreter'].iloc[1] / 10**6),\n",
    "    xy=(1.0 - df_rows['unresolved'].iloc[0] / total - df_rows['interpreter'].iloc[1] / total * 0.5, h/2),\n",
    "    xycoords='data', color=i_col,\n",
    "    xytext=(-200, 10), fontsize=16, textcoords='offset points',\n",
    "    arrowprops=dict(arrowstyle=\"-\", color=i_col,\n",
    "                    connectionstyle=\"angle,angleA=0,angleB=90,rad=10\"))\n",
    "\n",
    "plt.xticks(xq, ['{}%'.format(int(x * 100)) for x in xq], fontsize=14)\n",
    "plt.yticks([0, 1], ['Hyper', 'Global'], fontsize=16)\n",
    "sns.despine()\n",
    "\n",
    "plt.savefig('workshop_path_breakdown.pdf', transparent=True, dpi=120, bbox_inches = 'tight', pad_inches = 0)"
   ]
  },
  {
   "cell_type": "code",
   "execution_count": 140,
   "id": "e196a6ce",
   "metadata": {},
   "outputs": [
    {
     "name": "stdout",
     "output_type": "stream",
     "text": [
      "0    0.444679\n",
      "1    0.850303\n",
      "dtype: float64\n"
     ]
    }
   ],
   "source": [
    "print(m)"
   ]
  },
  {
   "cell_type": "code",
   "execution_count": 37,
   "id": "2aa58ee0",
   "metadata": {},
   "outputs": [
    {
     "name": "stdout",
     "output_type": "stream",
     "text": [
      "Help on function barh in module matplotlib.pyplot:\n",
      "\n",
      "barh(y, width, height=0.8, left=None, *, align='center', **kwargs)\n",
      "    Make a horizontal bar plot.\n",
      "    \n",
      "    The bars are positioned at *y* with the given *align*\\ment. Their\n",
      "    dimensions are given by *width* and *height*. The horizontal baseline\n",
      "    is *left* (default 0).\n",
      "    \n",
      "    Many parameters can take either a single value applying to all bars\n",
      "    or a sequence of values, one for each bar.\n",
      "    \n",
      "    Parameters\n",
      "    ----------\n",
      "    y : float or array-like\n",
      "        The y coordinates of the bars. See also *align* for the\n",
      "        alignment of the bars to the coordinates.\n",
      "    \n",
      "    width : float or array-like\n",
      "        The width(s) of the bars.\n",
      "    \n",
      "    height : float or array-like, default: 0.8\n",
      "        The heights of the bars.\n",
      "    \n",
      "    left : float or array-like, default: 0\n",
      "        The x coordinates of the left sides of the bars.\n",
      "    \n",
      "    align : {'center', 'edge'}, default: 'center'\n",
      "        Alignment of the base to the *y* coordinates*:\n",
      "    \n",
      "        - 'center': Center the bars on the *y* positions.\n",
      "        - 'edge': Align the bottom edges of the bars with the *y*\n",
      "          positions.\n",
      "    \n",
      "        To align the bars on the top edge pass a negative *height* and\n",
      "        ``align='edge'``.\n",
      "    \n",
      "    Returns\n",
      "    -------\n",
      "    `.BarContainer`\n",
      "        Container with all the bars and optionally errorbars.\n",
      "    \n",
      "    Other Parameters\n",
      "    ----------------\n",
      "    color : color or list of color, optional\n",
      "        The colors of the bar faces.\n",
      "    \n",
      "    edgecolor : color or list of color, optional\n",
      "        The colors of the bar edges.\n",
      "    \n",
      "    linewidth : float or array-like, optional\n",
      "        Width of the bar edge(s). If 0, don't draw edges.\n",
      "    \n",
      "    tick_label : str or list of str, optional\n",
      "        The tick labels of the bars.\n",
      "        Default: None (Use default numeric labels.)\n",
      "    \n",
      "    xerr, yerr : float or array-like of shape(N,) or shape(2, N), optional\n",
      "        If not ``None``, add horizontal / vertical errorbars to the\n",
      "        bar tips. The values are +/- sizes relative to the data:\n",
      "    \n",
      "        - scalar: symmetric +/- values for all bars\n",
      "        - shape(N,): symmetric +/- values for each bar\n",
      "        - shape(2, N): Separate - and + values for each bar. First row\n",
      "          contains the lower errors, the second row contains the upper\n",
      "          errors.\n",
      "        - *None*: No errorbar. (default)\n",
      "    \n",
      "        See :doc:`/gallery/statistics/errorbar_features`\n",
      "        for an example on the usage of ``xerr`` and ``yerr``.\n",
      "    \n",
      "    ecolor : color or list of color, default: 'black'\n",
      "        The line color of the errorbars.\n",
      "    \n",
      "    capsize : float, default: :rc:`errorbar.capsize`\n",
      "       The length of the error bar caps in points.\n",
      "    \n",
      "    error_kw : dict, optional\n",
      "        Dictionary of kwargs to be passed to the `~.Axes.errorbar`\n",
      "        method. Values of *ecolor* or *capsize* defined here take\n",
      "        precedence over the independent kwargs.\n",
      "    \n",
      "    log : bool, default: False\n",
      "        If ``True``, set the x-axis to be log scale.\n",
      "    \n",
      "    **kwargs : `.Rectangle` properties\n",
      "    \n",
      "    Properties:\n",
      "        agg_filter: a filter function, which takes a (m, n, 3) float array and a dpi value, and returns a (m, n, 3) array\n",
      "        alpha: scalar or None\n",
      "        animated: bool\n",
      "        antialiased or aa: unknown\n",
      "        capstyle: `.CapStyle` or {'butt', 'projecting', 'round'}\n",
      "        clip_box: `.Bbox`\n",
      "        clip_on: bool\n",
      "        clip_path: Patch or (Path, Transform) or None\n",
      "        color: color\n",
      "        contains: unknown\n",
      "        edgecolor or ec: color or None or 'auto'\n",
      "        facecolor or fc: color or None\n",
      "        figure: `.Figure`\n",
      "        fill: bool\n",
      "        gid: str\n",
      "        hatch: {'/', '\\\\', '|', '-', '+', 'x', 'o', 'O', '.', '*'}\n",
      "        in_layout: bool\n",
      "        joinstyle: `.JoinStyle` or {'miter', 'round', 'bevel'}\n",
      "        label: object\n",
      "        linestyle or ls: {'-', '--', '-.', ':', '', (offset, on-off-seq), ...}\n",
      "        linewidth or lw: float or None\n",
      "        path_effects: `.AbstractPathEffect`\n",
      "        picker: None or bool or float or callable\n",
      "        rasterized: bool\n",
      "        sketch_params: (scale: float, length: float, randomness: float)\n",
      "        snap: bool or None\n",
      "        transform: `.Transform`\n",
      "        url: str\n",
      "        visible: bool\n",
      "        zorder: float\n",
      "    \n",
      "    See Also\n",
      "    --------\n",
      "    bar : Plot a vertical bar plot.\n",
      "    \n",
      "    Notes\n",
      "    -----\n",
      "    Stacked bars can be achieved by passing individual *left* values per\n",
      "    bar. See\n",
      "    :doc:`/gallery/lines_bars_and_markers/horizontal_barchart_distribution`\n",
      "    .\n",
      "\n"
     ]
    }
   ],
   "source": [
    "help(plt.barh)"
   ]
  },
  {
   "cell_type": "code",
   "execution_count": 196,
   "id": "cb452eea",
   "metadata": {},
   "outputs": [
    {
     "data": {
      "text/html": [
       "<div>\n",
       "<style scoped>\n",
       "    .dataframe tbody tr th:only-of-type {\n",
       "        vertical-align: middle;\n",
       "    }\n",
       "\n",
       "    .dataframe tbody tr th {\n",
       "        vertical-align: top;\n",
       "    }\n",
       "\n",
       "    .dataframe thead th {\n",
       "        text-align: right;\n",
       "    }\n",
       "</style>\n",
       "<table border=\"1\" class=\"dataframe\">\n",
       "  <thead>\n",
       "    <tr style=\"text-align: right;\">\n",
       "      <th></th>\n",
       "      <th>normal</th>\n",
       "      <th>general</th>\n",
       "      <th>interpreter</th>\n",
       "      <th>unresolved</th>\n",
       "      <th>mode</th>\n",
       "    </tr>\n",
       "  </thead>\n",
       "  <tbody>\n",
       "    <tr>\n",
       "      <th>0</th>\n",
       "      <td>448620</td>\n",
       "      <td>179364496</td>\n",
       "      <td>22635949</td>\n",
       "      <td>238590</td>\n",
       "      <td>nohyper</td>\n",
       "    </tr>\n",
       "    <tr>\n",
       "      <th>1</th>\n",
       "      <td>149930703</td>\n",
       "      <td>44830574</td>\n",
       "      <td>7687788</td>\n",
       "      <td>238590</td>\n",
       "      <td>hyper</td>\n",
       "    </tr>\n",
       "  </tbody>\n",
       "</table>\n",
       "</div>"
      ],
      "text/plain": [
       "      normal    general  interpreter  unresolved     mode\n",
       "0     448620  179364496     22635949      238590  nohyper\n",
       "1  149930703   44830574      7687788      238590    hyper"
      ]
     },
     "execution_count": 196,
     "metadata": {},
     "output_type": "execute_result"
    }
   ],
   "source": [
    "df_rows"
   ]
  },
  {
   "cell_type": "code",
   "execution_count": 197,
   "id": "4d36bb8d",
   "metadata": {},
   "outputs": [
    {
     "data": {
      "text/plain": [
       "0.8849305400469506"
      ]
     },
     "execution_count": 197,
     "metadata": {},
     "output_type": "execute_result"
    }
   ],
   "source": [
    "179364496 / total"
   ]
  },
  {
   "cell_type": "code",
   "execution_count": 198,
   "id": "3a024536",
   "metadata": {},
   "outputs": [
    {
     "data": {
      "text/plain": [
       "0.0022133563092434022"
      ]
     },
     "execution_count": 198,
     "metadata": {},
     "output_type": "execute_result"
    }
   ],
   "source": [
    "448620 / total"
   ]
  },
  {
   "cell_type": "code",
   "execution_count": null,
   "id": "f14a2b67",
   "metadata": {},
   "outputs": [],
   "source": []
  }
 ],
 "metadata": {
  "kernelspec": {
   "display_name": "Python 3.10",
   "language": "python",
   "name": "python3"
  },
  "language_info": {
   "codemirror_mode": {
    "name": "ipython",
    "version": 3
   },
   "file_extension": ".py",
   "mimetype": "text/x-python",
   "name": "python",
   "nbconvert_exporter": "python",
   "pygments_lexer": "ipython3",
   "version": "3.10.6"
  }
 },
 "nbformat": 4,
 "nbformat_minor": 5
}
