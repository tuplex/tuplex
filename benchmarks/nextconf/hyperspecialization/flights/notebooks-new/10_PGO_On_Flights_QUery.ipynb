{
 "cells": [
  {
   "cell_type": "markdown",
   "metadata": {},
   "source": [
    "Goal in this experiment is to check whether PGO per file would lead to lower runtime. If not, maybe specialization is not the right way to go...\n",
    "\n",
    "\n",
    "Based on: http://cmdlinelinux.blogspot.com/2018/04/profiling-c-code-with-clang-using.html\n",
    "\n",
    "Use ./build-pgo.sh script for that."
   ]
  },
  {
   "cell_type": "markdown",
   "metadata": {},
   "source": [
    "I.e. for each file create a PGO version (using one run). Then compare whether this PGO version is faster for the specialized runs vs. an overall PGO run."
   ]
  },
  {
   "cell_type": "code",
   "execution_count": 23,
   "metadata": {},
   "outputs": [
    {
     "name": "stdout",
     "output_type": "stream",
     "text": [
      "Overwriting extract_flights.sh\n"
     ]
    }
   ],
   "source": [
    "%%file extract_flights.sh\n",
    "\n",
    "for file in `ls /disk/data/flights_gzip/*csv.gz`; do\n",
    "    target=/hot/data/flights_all/$(basename $file .gz)\n",
    "    gunzip -c $file > $target\n",
    "    echo $target\n",
    "done"
   ]
  },
  {
   "cell_type": "code",
   "execution_count": 12,
   "metadata": {},
   "outputs": [
    {
     "name": "stdout",
     "output_type": "stream",
     "text": [
      "#!/usr/bin/env bash\r\n",
      "\r\n",
      "# put in here the details\r\n",
      "INPUT_PATH=/disk/data/flights/flights_on_time_performance_2009_12.csv\r\n",
      "PROF_NAME=$(basename $INPUT_PATH)\".profraw\"\r\n",
      "\r\n",
      "echo \"Storing profile in $PROF_NAME\"\r\n",
      "mkdir -p profiles\r\n",
      "\r\n",
      "\r\n",
      "export PATH=/opt/llvm@6/bin:$PATH\r\n",
      "\r\n",
      "echo \"Building shared object\"\r\n",
      "\r\n",
      "# build object using prof instructions\r\n",
      "clang++ -shared -fPIC -g -fprofile-instr-generate -fcoverage-mapping -o process_row_orig_profile.so src/process_row/process_row_orig.cc\r\n",
      "\r\n",
      "#clang++ -shared -fPIC -O3 -msse4.2 -mcx16 -march=native -DNDEBUG -o process_row_orig.so src/process_row/process_row_orig.cc\r\n",
      "\r\n",
      "echo \"FINAL EXE\"\r\n",
      "clang++ -std=c++17 -msse4.2 -mcx16 -Wall -Wextra -O3 -march=native -DNDEBUG -o runner src/runner.cc -ldl\r\n",
      "\r\n",
      "\r\n",
      "# performing profiling run\r\n",
      "echo \"performing profiling run\"\r\n",
      "LLVM_PROFILE_FILE=\"${PROF_NAME}\" ./runner -i ${INPUT_PATH} -o test.csv -d process_row_orig_profile.so\r\n",
      "\r\n",
      "echo \"merge to output\"\r\n",
      "llvm-profdata merge -output=code.profdata \"${PROF_NAME}\"\r\n",
      "\r\n",
      "# can merge multiple runs together via https://clang.llvm.org/docs/UsersManual.html#profile-guided-optimization llvm-profdata merge,, yet use here a single run\r\n",
      "\r\n",
      "# recompiling using profile\r\n",
      "echo \"recompiling using profile\"\r\n",
      "clang++ -shared -fPIC -O3 -msse4.2 -mcx16 -march=native -DNDEBUG -fprofile-instr-use=code.profdata -o process_row_orig.so src/process_row/process_row_orig.cc\r\n",
      "\r\n",
      "echo \"running again using pgo optimized shared object\"\r\n",
      "./runner -i ${INPUT_PATH} -o test.csv -d process_row_orig.so\r\n",
      "\r\n",
      "# invocation then via e.g. ./runner -i /disk/data/flights/flights_on_time_performance_2009_12.csv -o test.csv shared_obj\r\n"
     ]
    }
   ],
   "source": [
    "!cat ../build-pgo.sh"
   ]
  },
  {
   "cell_type": "code",
   "execution_count": null,
   "metadata": {},
   "outputs": [],
   "source": []
  },
  {
   "cell_type": "markdown",
   "metadata": {},
   "source": [
    "TODO: \n",
    "\n",
    "restructure file! Need to compile profiler only ONCE!\n",
    "Then, run profile and check what's going on."
   ]
  },
  {
   "cell_type": "code",
   "execution_count": 47,
   "metadata": {},
   "outputs": [
    {
     "name": "stdout",
     "output_type": "stream",
     "text": [
      "Overwriting ../pgo-experiment.sh\n"
     ]
    }
   ],
   "source": [
    "%%file ../pgo-experiment.sh\n",
    "#!/usr/bin/env bash\n",
    "\n",
    "# invoke i.e. via nohup bash pgo-experiment.sh 2> pgo.stderr 1> pgo.stdout &\n",
    "echo \"Starting flights PGO specialization experiment\"\n",
    "\n",
    "INPUT_ROOT='/hot/data/flights_all/*.csv'\n",
    "\n",
    "# test\n",
    "#INPUT_ROOT='/hot/data/flights_all/*lights_on_time_performance_1999_01.csv'\n",
    "RESULT_DIR='pgo-experiment-results'\n",
    "PROF_DIR=$RESULT_DIR/profiles\n",
    "LIBEXEC_DIR=$RESULT_DIR/libexec\n",
    "\n",
    "echo \"Step 0: prepping experiment, compiling runner...\"\n",
    "export PATH=/opt/llvm@6/bin:$PATH\n",
    "clang++ -std=c++17 -msse4.2 -mcx16 -Wall -Wextra -O3 -march=native -DNDEBUG -o runner src/runner.cc -ldl\n",
    "echo \"done!\"\n",
    "\n",
    "mkdir -p $PROF_DIR\n",
    "mkdir -p $LIBEXEC_DIR\n",
    "echo \"Step 1: Create profile generating shared-object\"\n",
    "SO_FILE=process_row_profiler.so\n",
    "time clang++ -shared -fPIC -g -fprofile-instr-generate -fcoverage-mapping -o ${SO_FILE} src/process_row/process_row_orig.cc\n",
    "mv $SO_FILE $LIBEXEC_DIR/\n",
    "\n",
    "echo \"Step 2: Running profiles for each file\"\n",
    "for file in `ls $INPUT_ROOT`; do\n",
    "    echo \"Profiling $(basename $file)\"\n",
    "    \n",
    "    SO_FILE=$LIBEXEC_DIR/process_row_profiler.so\n",
    "    PROF_FILE=profile_$(basename $file .csv).profraw\n",
    "    LLVM_PROFILE_FILE=\"profile.profraw\" ./runner -i $file -o test.csv -d $SO_FILE\n",
    "    cp \"profile.profraw\" $PROF_DIR/$PROF_FILE\n",
    "    \n",
    "    # convert using llvm-merge\n",
    "    echo \"-- converting to llvm usable profile\"\n",
    "    llvm-profdata merge -output=code.profdata \"profile.profraw\"\n",
    "    PROF_FILE=profile_$(basename $file .csv).profdata\n",
    "    cp code.profdata $PROF_DIR/$PROF_FILE\n",
    "    \n",
    "    echo \"-- compile specialized version using profile for file $(basename $file)\"\n",
    "    SO_OPTIMIZED=process_row_pgo_$(basename $file .csv).so\n",
    "    time clang++ -shared -fPIC -O3 -msse4.2 -mcx16 -march=native -DNDEBUG -fprofile-instr-use=code.profdata -o ${SO_OPTIMIZED} src/process_row/process_row_orig.cc\n",
    "    mv $SO_OPTIMIZED $LIBEXEC_DIR\n",
    "    echo \"done, stored in ${SO_OPTIMIZED}\"\n",
    "done\n",
    "\n",
    "echo \"Step 3: Creating general shared obj, no PGO - just all optimizations on\"\n",
    "time clang++ -shared -fPIC -O3 -msse4.2 -mcx16 -march=native -DNDEBUG -o process_row_orig_general.so src/process_row/process_row_orig.cc\n",
    "mv process_row_orig_general.so $LIBEXEC_DIR/\n",
    "\n",
    "echo \"Step 4: Running benchmark\"\n",
    "NUM_RUNS=5\n",
    "\n",
    "OUTPUT_DIR='pgo-test-output'\n",
    "LOG_DIR=$RESULT_DIR/logs\n",
    "mkdir -p $LOG_DIR\n",
    "for file in `ls $INPUT_ROOT`; do\n",
    "    name=$(basename $file .csv)\n",
    "    echo \"general case for $name\"\n",
    "    for ((r = 1; r <= NUM_RUNS; r++)); do\n",
    "        \n",
    "        LOG=\"general-case-run-$r-$name.txt\"\n",
    "        LOG=$LOG_DIR/$LOG\n",
    "        ./runner -i $file -o $OUTPUT_DIR -d $LIBEXEC_DIR/process_row_orig_general.so 2>&1 | tee $LOG\n",
    "        echo \"-- run $r\"\n",
    "    done\n",
    "    \n",
    "    echo \"PGO optimized case for $name\"\n",
    "    for ((r = 1; r <= NUM_RUNS; r++)); do\n",
    "        \n",
    "        LOG=\"pgo-case-run-$r-$name.txt\"\n",
    "        LOG=$LOG_DIR/$LOG\n",
    "        SO_OPTIMIZED=process_row_pgo_$(basename $file .csv).so\n",
    "        ./runner -i $file -o $OUTPUT_DIR -d $LIBEXEC_DIR/$SO_OPTIMIZED 2>&1 | tee $LOG\n",
    "        echo \"-- run $r\"\n",
    "    done\n",
    "done"
   ]
  },
  {
   "cell_type": "code",
   "execution_count": 44,
   "metadata": {},
   "outputs": [],
   "source": [
    "!ls ../pgo-experiment-results/profiles/"
   ]
  },
  {
   "cell_type": "code",
   "execution_count": null,
   "metadata": {},
   "outputs": [],
   "source": []
  }
 ],
 "metadata": {
  "kernelspec": {
   "display_name": "Python 3",
   "language": "python",
   "name": "python3"
  },
  "language_info": {
   "codemirror_mode": {
    "name": "ipython",
    "version": 3
   },
   "file_extension": ".py",
   "mimetype": "text/x-python",
   "name": "python",
   "nbconvert_exporter": "python",
   "pygments_lexer": "ipython3",
   "version": "3.6.9"
  }
 },
 "nbformat": 4,
 "nbformat_minor": 4
}
