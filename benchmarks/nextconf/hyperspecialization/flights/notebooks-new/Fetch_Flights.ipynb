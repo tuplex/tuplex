{
 "cells": [
  {
   "cell_type": "code",
   "execution_count": 31,
   "id": "15345c94",
   "metadata": {},
   "outputs": [],
   "source": [
    "url = 'https://transtats.bts.gov/DL_SelectFields.asp?gnoyr_VQ=FGJ&QO_fu146_anzr=b0-gvzr'"
   ]
  },
  {
   "cell_type": "code",
   "execution_count": 32,
   "id": "55c20fad",
   "metadata": {},
   "outputs": [],
   "source": [
    "#  \"options = webdriver.ChromeOptions()\\n\",\n",
    "#     \"options.add_argument('headless')"
   ]
  },
  {
   "cell_type": "code",
   "execution_count": 33,
   "id": "419ec7ef",
   "metadata": {},
   "outputs": [],
   "source": [
    "from selenium import webdriver\n",
    "from selenium.webdriver.common.keys import Keys\n",
    "from selenium.webdriver.common.by import By\n",
    "from selenium.webdriver.support.ui import Select"
   ]
  },
  {
   "cell_type": "code",
   "execution_count": 34,
   "id": "fb6ade8a",
   "metadata": {},
   "outputs": [],
   "source": [
    "driver = webdriver.Firefox()\n"
   ]
  },
  {
   "cell_type": "code",
   "execution_count": 35,
   "id": "9f33d12b",
   "metadata": {},
   "outputs": [],
   "source": [
    "driver.get(url)"
   ]
  },
  {
   "cell_type": "code",
   "execution_count": 36,
   "id": "6679d692",
   "metadata": {},
   "outputs": [
    {
     "data": {
      "text/plain": [
       "[<selenium.webdriver.firefox.webelement.FirefoxWebElement (session=\"d8b71a50-fa51-2445-8036-9c9a785b8150\", element=\"14a8ecb9-7047-1d45-a9ef-bb6440c92497\")>,\n",
       " <selenium.webdriver.firefox.webelement.FirefoxWebElement (session=\"d8b71a50-fa51-2445-8036-9c9a785b8150\", element=\"f7394148-c884-dc48-a7d5-13bbf8958a75\")>]"
      ]
     },
     "execution_count": 36,
     "metadata": {},
     "output_type": "execute_result"
    }
   ],
   "source": [
    "tables = driver.find_elements(By.XPATH, '//table[@class=\"mediumTABLE\"]')\n",
    "\n",
    "tables"
   ]
  },
  {
   "cell_type": "code",
   "execution_count": 37,
   "id": "c4a8fdc0",
   "metadata": {},
   "outputs": [
    {
     "data": {
      "text/plain": [
       "<selenium.webdriver.firefox.webelement.FirefoxWebElement (session=\"d8b71a50-fa51-2445-8036-9c9a785b8150\", element=\"14a8ecb9-7047-1d45-a9ef-bb6440c92497\")>"
      ]
     },
     "execution_count": 37,
     "metadata": {},
     "output_type": "execute_result"
    }
   ],
   "source": [
    "tables[0]"
   ]
  },
  {
   "cell_type": "code",
   "execution_count": 38,
   "id": "e38c9ede",
   "metadata": {},
   "outputs": [],
   "source": [
    "checkbox_rows = tables[1].find_elements(By.CLASS_NAME, 'dataTD')"
   ]
  },
  {
   "cell_type": "code",
   "execution_count": 39,
   "id": "e1b5bf6c",
   "metadata": {},
   "outputs": [
    {
     "data": {
      "text/plain": [
       "'<input type=\"checkbox\" name=\"VarName\" id=\"VarName\" title=\"Year\" value=\"YEAR\" onclick=\"Try4(this);\"> Year'"
      ]
     },
     "execution_count": 39,
     "metadata": {},
     "output_type": "execute_result"
    }
   ],
   "source": [
    "checkbox_rows[0].get_attribute('innerHTML')"
   ]
  },
  {
   "cell_type": "code",
   "execution_count": 40,
   "id": "7c62a834",
   "metadata": {},
   "outputs": [],
   "source": [
    "marked = []\n",
    "for row in checkbox_rows:\n",
    "    try:\n",
    "        checkbox = row.find_element(By.XPATH, 'input[@type=\"checkbox\"]')\n",
    "        marked.append(checkbox.get_attribute('value'))\n",
    "        if not checkbox.is_selected():\n",
    "            checkbox.click()\n",
    "    except:\n",
    "        # print(row.get_attribute('innerHTML'))\n",
    "        pass"
   ]
  },
  {
   "cell_type": "code",
   "execution_count": 41,
   "id": "5e9bc0e5",
   "metadata": {},
   "outputs": [],
   "source": [
    "download_button = driver.find_element(By.XPATH, '//button[@class=\"tsbutton\" and @name=\"Download\"]')"
   ]
  },
  {
   "cell_type": "code",
   "execution_count": 42,
   "id": "3dcaba37",
   "metadata": {},
   "outputs": [
    {
     "data": {
      "text/plain": [
       "'Download'"
      ]
     },
     "execution_count": 42,
     "metadata": {},
     "output_type": "execute_result"
    }
   ],
   "source": [
    "download_button.get_attribute(\"innerHTML\")"
   ]
  },
  {
   "cell_type": "code",
   "execution_count": 43,
   "id": "6464870b",
   "metadata": {},
   "outputs": [],
   "source": [
    "download_button.click()"
   ]
  },
  {
   "cell_type": "code",
   "execution_count": 44,
   "id": "ecd43930",
   "metadata": {},
   "outputs": [],
   "source": [
    "year_sel = Select(driver.find_element(By.XPATH, '//select[@name=\"XYEAR\"]'))\n",
    "month_sel = Select(driver.find_element(By.XPATH, '//select[@name=\"FREQUENCY\"]'))"
   ]
  },
  {
   "cell_type": "code",
   "execution_count": 45,
   "id": "fd568b51",
   "metadata": {},
   "outputs": [
    {
     "data": {
      "text/plain": [
       "[<selenium.webdriver.firefox.webelement.FirefoxWebElement (session=\"d8b71a50-fa51-2445-8036-9c9a785b8150\", element=\"7c8a145c-b055-5e40-b19a-405193d165eb\")>,\n",
       " <selenium.webdriver.firefox.webelement.FirefoxWebElement (session=\"d8b71a50-fa51-2445-8036-9c9a785b8150\", element=\"c9b46c23-9991-0d42-adc8-812b43d7b66b\")>,\n",
       " <selenium.webdriver.firefox.webelement.FirefoxWebElement (session=\"d8b71a50-fa51-2445-8036-9c9a785b8150\", element=\"198be1ae-91c1-3d44-bc85-ef5fe7e84740\")>,\n",
       " <selenium.webdriver.firefox.webelement.FirefoxWebElement (session=\"d8b71a50-fa51-2445-8036-9c9a785b8150\", element=\"c0cc23ed-6261-7444-b871-5f2addbf3062\")>,\n",
       " <selenium.webdriver.firefox.webelement.FirefoxWebElement (session=\"d8b71a50-fa51-2445-8036-9c9a785b8150\", element=\"c316d7a1-b803-0846-bed0-8e4b34cd76c0\")>,\n",
       " <selenium.webdriver.firefox.webelement.FirefoxWebElement (session=\"d8b71a50-fa51-2445-8036-9c9a785b8150\", element=\"5fadd9a3-35c7-3240-9072-bc404db78fe9\")>,\n",
       " <selenium.webdriver.firefox.webelement.FirefoxWebElement (session=\"d8b71a50-fa51-2445-8036-9c9a785b8150\", element=\"e4542703-1d92-bc4b-a735-06bd4cc64d4e\")>,\n",
       " <selenium.webdriver.firefox.webelement.FirefoxWebElement (session=\"d8b71a50-fa51-2445-8036-9c9a785b8150\", element=\"0a0bfc8e-2039-5948-aa33-9fbcd4bea8e4\")>,\n",
       " <selenium.webdriver.firefox.webelement.FirefoxWebElement (session=\"d8b71a50-fa51-2445-8036-9c9a785b8150\", element=\"7d40323c-fe4e-e04c-8eaa-b75ba0ddb55c\")>,\n",
       " <selenium.webdriver.firefox.webelement.FirefoxWebElement (session=\"d8b71a50-fa51-2445-8036-9c9a785b8150\", element=\"02327e32-3604-e346-9082-84a90ff9ca09\")>,\n",
       " <selenium.webdriver.firefox.webelement.FirefoxWebElement (session=\"d8b71a50-fa51-2445-8036-9c9a785b8150\", element=\"68a617fb-3dcb-a840-ad2a-513ce3ebe0c1\")>,\n",
       " <selenium.webdriver.firefox.webelement.FirefoxWebElement (session=\"d8b71a50-fa51-2445-8036-9c9a785b8150\", element=\"a8e1f796-295c-0942-8df0-b47cea9d2a04\")>,\n",
       " <selenium.webdriver.firefox.webelement.FirefoxWebElement (session=\"d8b71a50-fa51-2445-8036-9c9a785b8150\", element=\"eacdfb41-0950-5f43-8811-94d55ecb6fa0\")>,\n",
       " <selenium.webdriver.firefox.webelement.FirefoxWebElement (session=\"d8b71a50-fa51-2445-8036-9c9a785b8150\", element=\"a7eb3a6a-1b42-c240-8220-67b780e318a1\")>,\n",
       " <selenium.webdriver.firefox.webelement.FirefoxWebElement (session=\"d8b71a50-fa51-2445-8036-9c9a785b8150\", element=\"8ff76531-e582-954a-a0df-b6b4f0bfffc4\")>,\n",
       " <selenium.webdriver.firefox.webelement.FirefoxWebElement (session=\"d8b71a50-fa51-2445-8036-9c9a785b8150\", element=\"7ece6a28-6545-094f-85af-4a550633e18c\")>,\n",
       " <selenium.webdriver.firefox.webelement.FirefoxWebElement (session=\"d8b71a50-fa51-2445-8036-9c9a785b8150\", element=\"54b3eb82-aec5-344d-9c7e-ca209da470d6\")>,\n",
       " <selenium.webdriver.firefox.webelement.FirefoxWebElement (session=\"d8b71a50-fa51-2445-8036-9c9a785b8150\", element=\"aa0928b1-74b5-f543-b548-2dd1f0d5defd\")>,\n",
       " <selenium.webdriver.firefox.webelement.FirefoxWebElement (session=\"d8b71a50-fa51-2445-8036-9c9a785b8150\", element=\"9b2638e7-7272-1a45-aa35-20afdaa0809c\")>,\n",
       " <selenium.webdriver.firefox.webelement.FirefoxWebElement (session=\"d8b71a50-fa51-2445-8036-9c9a785b8150\", element=\"ca9fa682-95e0-3545-a282-531dbc2ab059\")>,\n",
       " <selenium.webdriver.firefox.webelement.FirefoxWebElement (session=\"d8b71a50-fa51-2445-8036-9c9a785b8150\", element=\"64dc51ad-c17c-594c-b791-872bf325ddaf\")>,\n",
       " <selenium.webdriver.firefox.webelement.FirefoxWebElement (session=\"d8b71a50-fa51-2445-8036-9c9a785b8150\", element=\"0845d971-5754-2d41-b390-bfefbf0825aa\")>,\n",
       " <selenium.webdriver.firefox.webelement.FirefoxWebElement (session=\"d8b71a50-fa51-2445-8036-9c9a785b8150\", element=\"6f74f56d-d384-f04d-9778-ca45ec065b04\")>,\n",
       " <selenium.webdriver.firefox.webelement.FirefoxWebElement (session=\"d8b71a50-fa51-2445-8036-9c9a785b8150\", element=\"1d5ea1f9-af76-3747-a0d3-36a80e1da90f\")>,\n",
       " <selenium.webdriver.firefox.webelement.FirefoxWebElement (session=\"d8b71a50-fa51-2445-8036-9c9a785b8150\", element=\"9c8a20d9-31b6-b04b-9657-36c773675fbd\")>,\n",
       " <selenium.webdriver.firefox.webelement.FirefoxWebElement (session=\"d8b71a50-fa51-2445-8036-9c9a785b8150\", element=\"3c258af2-ad90-8f48-a9ac-e7bd426d9540\")>,\n",
       " <selenium.webdriver.firefox.webelement.FirefoxWebElement (session=\"d8b71a50-fa51-2445-8036-9c9a785b8150\", element=\"fc4f580d-537c-1b42-b02f-d05701efb99e\")>,\n",
       " <selenium.webdriver.firefox.webelement.FirefoxWebElement (session=\"d8b71a50-fa51-2445-8036-9c9a785b8150\", element=\"ba4bacc8-1b9f-6d45-afd9-6479fbf499d8\")>,\n",
       " <selenium.webdriver.firefox.webelement.FirefoxWebElement (session=\"d8b71a50-fa51-2445-8036-9c9a785b8150\", element=\"1e744e68-4c7b-db4d-a52b-14a122945daa\")>,\n",
       " <selenium.webdriver.firefox.webelement.FirefoxWebElement (session=\"d8b71a50-fa51-2445-8036-9c9a785b8150\", element=\"49a51ede-2222-2e4f-99ab-9d3eeccda14a\")>,\n",
       " <selenium.webdriver.firefox.webelement.FirefoxWebElement (session=\"d8b71a50-fa51-2445-8036-9c9a785b8150\", element=\"bbf26b1f-1449-624d-9739-1aaf74a5535c\")>,\n",
       " <selenium.webdriver.firefox.webelement.FirefoxWebElement (session=\"d8b71a50-fa51-2445-8036-9c9a785b8150\", element=\"63f527c7-bf46-9248-87f7-ec65a07eb993\")>,\n",
       " <selenium.webdriver.firefox.webelement.FirefoxWebElement (session=\"d8b71a50-fa51-2445-8036-9c9a785b8150\", element=\"87bd06c9-2bef-f74d-8ddc-a2104f45e6a0\")>,\n",
       " <selenium.webdriver.firefox.webelement.FirefoxWebElement (session=\"d8b71a50-fa51-2445-8036-9c9a785b8150\", element=\"fadae1cd-ab4a-7141-9293-c866cafa2af2\")>,\n",
       " <selenium.webdriver.firefox.webelement.FirefoxWebElement (session=\"d8b71a50-fa51-2445-8036-9c9a785b8150\", element=\"a562e77a-b436-1d4b-8633-fc2ceba6327a\")>]"
      ]
     },
     "execution_count": 45,
     "metadata": {},
     "output_type": "execute_result"
    }
   ],
   "source": [
    "year_sel.options"
   ]
  },
  {
   "cell_type": "code",
   "execution_count": 46,
   "id": "7d4f0e8f",
   "metadata": {},
   "outputs": [],
   "source": [
    "# get options from select\n",
    "def get_options(sel_element):\n",
    "    if isinstance(sel_element, Select):\n",
    "        opt_els = sel_element.options\n",
    "    else:\n",
    "        opt_els = sel_element.find_elements(By.XPATH, 'option')\n",
    "    return [el.get_attribute('value') for el in opt_els]"
   ]
  },
  {
   "cell_type": "code",
   "execution_count": 47,
   "id": "101b6f65",
   "metadata": {},
   "outputs": [],
   "source": [
    "years_avail = get_options(year_sel)\n",
    "months_avail = get_options(month_sel)"
   ]
  },
  {
   "cell_type": "code",
   "execution_count": 48,
   "id": "05e15aff",
   "metadata": {},
   "outputs": [
    {
     "data": {
      "text/plain": [
       "['1', '2', '3', '4', '5', '6', '7', '8', '9', '10', '11', '12']"
      ]
     },
     "execution_count": 48,
     "metadata": {},
     "output_type": "execute_result"
    }
   ],
   "source": [
    "months_avail"
   ]
  },
  {
   "cell_type": "code",
   "execution_count": 49,
   "id": "ee1e841b",
   "metadata": {},
   "outputs": [],
   "source": [
    "missing_list = [(2008, 7),\n",
    " (2019, 8),\n",
    " (2019, 11),\n",
    " (2019, 12),\n",
    " (2020, 1),\n",
    " (2020, 4)]"
   ]
  },
  {
   "cell_type": "code",
   "execution_count": 50,
   "id": "805b64d5",
   "metadata": {},
   "outputs": [
    {
     "data": {
      "text/plain": [
       "(2008, 7)"
      ]
     },
     "execution_count": 50,
     "metadata": {},
     "output_type": "execute_result"
    }
   ],
   "source": [
    "missing_list[0]"
   ]
  },
  {
   "cell_type": "code",
   "execution_count": 51,
   "id": "88c11944",
   "metadata": {},
   "outputs": [
    {
     "data": {
      "text/plain": [
       "['1', '2', '3', '4', '5', '6', '7', '8', '9', '10', '11', '12']"
      ]
     },
     "execution_count": 51,
     "metadata": {},
     "output_type": "execute_result"
    }
   ],
   "source": [
    "months_avail"
   ]
  },
  {
   "cell_type": "code",
   "execution_count": 52,
   "id": "d4bb3a2d",
   "metadata": {},
   "outputs": [
    {
     "name": "stdout",
     "output_type": "stream",
     "text": [
      "(2008, 7)\n",
      "downloading 2008 7\n",
      "done.\n",
      "(2019, 8)\n",
      "downloading 2019 8\n",
      "done.\n",
      "(2019, 11)\n",
      "downloading 2019 11\n",
      "done.\n",
      "(2019, 12)\n",
      "downloading 2019 12\n",
      "done.\n",
      "(2020, 1)\n",
      "downloading 2020 1\n",
      "done.\n",
      "(2020, 4)\n",
      "downloading 2020 4\n",
      "done.\n"
     ]
    }
   ],
   "source": [
    "import time\n",
    "for t in missing_list:\n",
    "    print(t)\n",
    "    year, month = t\n",
    "    year = str(year)\n",
    "    month = str(month)\n",
    "    year_sel.select_by_value(year)\n",
    "    month_sel.select_by_value(month)\n",
    "    print('downloading {} {}'.format(year, month))\n",
    "\n",
    "    download_button.click()\n",
    "    time.sleep(70)\n",
    "    print('done.')"
   ]
  },
  {
   "cell_type": "code",
   "execution_count": 53,
   "id": "74bb0cf6",
   "metadata": {},
   "outputs": [
    {
     "name": "stdout",
     "output_type": "stream",
     "text": [
      "downloading 2008 7\n"
     ]
    }
   ],
   "source": [
    "year, month = (2008, 7)\n",
    "year = str(year)\n",
    "month = str(month)\n",
    "year_sel.select_by_value(year)\n",
    "month_sel.select_by_value(month)\n",
    "print('downloading {} {}'.format(year, month))\n",
    "\n",
    "download_button.click()\n",
    "time.sleep(100)"
   ]
  },
  {
   "cell_type": "code",
   "execution_count": null,
   "id": "fcc9375b",
   "metadata": {},
   "outputs": [],
   "source": [
    "for year in years_avail[1:]:\n",
    "    for m in months_avail:\n",
    "        year_sel.select_by_value(year)\n",
    "        month_sel.select_by_value(m)\n",
    "        print('downloading {} {}'.format(year, m))\n",
    "\n",
    "        download_button.click()\n",
    "        time.sleep(30)\n",
    "        print('done.')"
   ]
  },
  {
   "cell_type": "code",
   "execution_count": null,
   "id": "b5722edb",
   "metadata": {},
   "outputs": [],
   "source": []
  }
 ],
 "metadata": {
  "kernelspec": {
   "display_name": "Python 3",
   "language": "python",
   "name": "python3"
  },
  "language_info": {
   "codemirror_mode": {
    "name": "ipython",
    "version": 3
   },
   "file_extension": ".py",
   "mimetype": "text/x-python",
   "name": "python",
   "nbconvert_exporter": "python",
   "pygments_lexer": "ipython3",
   "version": "3.9.10"
  }
 },
 "nbformat": 4,
 "nbformat_minor": 5
}
