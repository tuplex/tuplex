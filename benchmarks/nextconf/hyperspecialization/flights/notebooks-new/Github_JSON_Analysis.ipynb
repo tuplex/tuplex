{
 "cells": [
  {
   "cell_type": "code",
   "execution_count": null,
   "metadata": {},
   "outputs": [],
   "source": [
    "import pandas as pd\n",
    "import json\n",
    "import zipfile\n",
    "import gzip\n",
    "import glob\n",
    "import os\n",
    "\n",
    "import logging"
   ]
  },
  {
   "cell_type": "code",
   "execution_count": null,
   "metadata": {},
   "outputs": [],
   "source": [
    "!ls /disk/download/data/ | head"
   ]
  },
  {
   "cell_type": "code",
   "execution_count": null,
   "metadata": {},
   "outputs": [],
   "source": [
    "path = '/disk/download/data/2011-02-12-0.json.gz'\n",
    "\n",
    "with gzip.open(path, 'rb') as f:\n",
    "    file_content = f.read().decode()\n",
    "    \n",
    "    rows = [json.loads(line) for line in file_content.split('\\n') if len(line) > 0]"
   ]
  },
  {
   "cell_type": "code",
   "execution_count": null,
   "metadata": {},
   "outputs": [],
   "source": [
    "rows[0]"
   ]
  },
  {
   "cell_type": "code",
   "execution_count": null,
   "metadata": {},
   "outputs": [],
   "source": [
    "rows[0].keys()"
   ]
  },
  {
   "cell_type": "code",
   "execution_count": null,
   "metadata": {},
   "outputs": [],
   "source": [
    "!pip3 install treelib"
   ]
  },
  {
   "cell_type": "code",
   "execution_count": null,
   "metadata": {},
   "outputs": [],
   "source": [
    "import treelib"
   ]
  },
  {
   "cell_type": "code",
   "execution_count": null,
   "metadata": {},
   "outputs": [],
   "source": [
    "# build tree based on keys/attributes\n"
   ]
  },
  {
   "cell_type": "code",
   "execution_count": null,
   "metadata": {},
   "outputs": [],
   "source": [
    "tree = treelib.Tree()\n",
    "\n",
    "n = tree.create_node(\"test\", 0)"
   ]
  },
  {
   "cell_type": "code",
   "execution_count": null,
   "metadata": {},
   "outputs": [],
   "source": [
    "n.identifier"
   ]
  },
  {
   "cell_type": "code",
   "execution_count": null,
   "metadata": {},
   "outputs": [],
   "source": [
    "\n",
    "def detect_type(value):\n",
    "    if value is None:\n",
    "        return 'None'\n",
    "    elif value == dict:\n",
    "        return 'dict'\n",
    "   \n",
    "    if isinstance(value, dict):\n",
    "        return 'dict'\n",
    "    if isinstance(value, list):\n",
    "        \n",
    "        if len(value) == 0:\n",
    "            return 'List[]'\n",
    "        # check if it's a homogenous list! -> if not type as list[any]\n",
    "        el_types = {detect_type(el) for el in value}\n",
    "        if len(el_types) == 1:\n",
    "            return 'List[{}]'.format(list(el_types)[0])\n",
    "        \n",
    "        return 'List[Any]'\n",
    "    if isinstance(value, str):\n",
    "        return 'str'\n",
    "    if isinstance(value, bool):\n",
    "        return 'bool'\n",
    "    if isinstance(value, int):\n",
    "        return 'int'\n",
    "    if isinstance(value, float):\n",
    "        return 'float'\n",
    "\n",
    "    return ''\n",
    "\n",
    "class TreeData:\n",
    "    def __init__(self, name, type=None):\n",
    "        self.name = name\n",
    "        self.type = type\n",
    "        self.count = 1\n",
    "    \n",
    "    @property\n",
    "    def desc(self):\n",
    "        return '{}: {}'.format(self.name, self.type)\n",
    "    \n",
    "    def toJSON(self):\n",
    "        return json.dumps({'type':self.type}, sort_keys=True)\n",
    "    \n",
    "def dict_to_tree(d):\n",
    "    tree = treelib.Tree()\n",
    "    node = tree.create_node(tag=\"root\", identifier=0, data=TreeData(\"root\", 'dict'))\n",
    "    \n",
    "    \n",
    "    def recursive_helper(tree, parent, d):\n",
    "        for key, value in d.items():\n",
    "            node = tree.create_node(key, parent=parent.identifier, data=TreeData(key, detect_type(value)))\n",
    "\n",
    "            if isinstance(value, dict):\n",
    "                # recurse!\n",
    "                recursive_helper(tree, node, value)\n",
    "            elif isinstance(value, list):\n",
    "                # recurse!\n",
    "                # only take first element??\n",
    "                if len(value) > 0 and isinstance(value[0], dict):\n",
    "                    recursive_helper(tree, node, value[0])\n",
    "            else:\n",
    "                pass\n",
    "            \n",
    "    recursive_helper(tree, node, d)\n",
    "   \n",
    "    return tree\n",
    "\n",
    "class ComplexEncoder(json.JSONEncoder):\n",
    "    def default(self, z):\n",
    "        if isinstance(z, TreeData):\n",
    "            return z.toJSON()\n",
    "        else:\n",
    "            return super().default(z)"
   ]
  },
  {
   "cell_type": "code",
   "execution_count": null,
   "metadata": {},
   "outputs": [],
   "source": [
    "t1 = dict_to_tree(rows[0])\n",
    "key = json.dumps(t1.to_dict(with_data=True), cls=ComplexEncoder, sort_keys=True)"
   ]
  },
  {
   "cell_type": "code",
   "execution_count": null,
   "metadata": {},
   "outputs": [],
   "source": [
    "help(t1.to_json)"
   ]
  },
  {
   "cell_type": "code",
   "execution_count": null,
   "metadata": {},
   "outputs": [],
   "source": [
    "dict_to_tree(rows[0]).show(data_property=\"desc\")"
   ]
  },
  {
   "cell_type": "code",
   "execution_count": null,
   "metadata": {},
   "outputs": [],
   "source": [
    "dict_to_tree(rows[1]).show(data_property=\"desc\")"
   ]
  },
  {
   "cell_type": "code",
   "execution_count": null,
   "metadata": {},
   "outputs": [],
   "source": [
    "t = dict_to_tree(rows[0])"
   ]
  },
  {
   "cell_type": "code",
   "execution_count": null,
   "metadata": {},
   "outputs": [],
   "source": [
    "counts = {}\n",
    "\n",
    "counts[t] = 1"
   ]
  },
  {
   "cell_type": "code",
   "execution_count": null,
   "metadata": {},
   "outputs": [],
   "source": [
    "# count different trees and how often they occur!"
   ]
  },
  {
   "cell_type": "code",
   "execution_count": null,
   "metadata": {},
   "outputs": [],
   "source": [
    "def compare_trees(t1, t2):\n",
    "    \n",
    "    def compare_nodes(tree1, tree2, node1, node2): \n",
    "      # reimplement this comparison based on your needs: use data,...\n",
    "      if(node1.data != node2.data):\n",
    "        return False\n",
    "      else:\n",
    "        # access global trees\n",
    "        children1 = tree1.children(node1.identifier)\n",
    "        children2 = tree2.children(node2.identifier)\n",
    "\n",
    "        if len(children1) != len(children2):\n",
    "            return False\n",
    "        elif len(children1) > 0:\n",
    "            # recusivly compare children\n",
    "            return all([compare_nodes(tree1, tree2, c1i, c2i) for c1i, c2i in zip(children1, children2)])\n",
    "        else:\n",
    "            return True\n",
    "    \n",
    "    return compare_nodes(t1, t2, t1.get_node(t1.root), t2.get_node(t2.root))"
   ]
  },
  {
   "cell_type": "code",
   "execution_count": null,
   "metadata": {},
   "outputs": [],
   "source": [
    "from tqdm import tqdm"
   ]
  },
  {
   "cell_type": "code",
   "execution_count": null,
   "metadata": {},
   "outputs": [],
   "source": [
    "counts = {}\n",
    "\n",
    "for row in tqdm(rows):\n",
    "    t = dict_to_tree(row)\n",
    "    \n",
    "    key = json.dumps(t.to_dict(with_data=True), cls=ComplexEncoder, sort_keys=True)\n",
    "    \n",
    "    if key not in counts.keys():\n",
    "        counts[key] = (t, 1)\n",
    "    else:\n",
    "        t, c = counts[key]\n",
    "        counts[key] = (t, c + 1)"
   ]
  },
  {
   "cell_type": "code",
   "execution_count": null,
   "metadata": {},
   "outputs": [],
   "source": [
    "res = sorted(list(counts.items()), key=lambda x: -x[1][1]) "
   ]
  },
  {
   "cell_type": "code",
   "execution_count": null,
   "metadata": {},
   "outputs": [],
   "source": []
  },
  {
   "cell_type": "code",
   "execution_count": null,
   "metadata": {},
   "outputs": [],
   "source": []
  },
  {
   "cell_type": "code",
   "execution_count": null,
   "metadata": {},
   "outputs": [],
   "source": [
    "t1 = dict_to_tree(rows[0])\n",
    "t2 = dict_to_tree(rows[1])"
   ]
  },
  {
   "cell_type": "code",
   "execution_count": null,
   "metadata": {},
   "outputs": [],
   "source": [
    "s = t1.show(data_property=\"desc\")"
   ]
  },
  {
   "cell_type": "code",
   "execution_count": null,
   "metadata": {},
   "outputs": [],
   "source": [
    "t1.save2file('test.txt', data_property=\"desc\")"
   ]
  },
  {
   "cell_type": "code",
   "execution_count": null,
   "metadata": {},
   "outputs": [],
   "source": [
    "import io"
   ]
  },
  {
   "cell_type": "code",
   "execution_count": null,
   "metadata": {},
   "outputs": [],
   "source": [
    "import tempfile\n",
    "\n",
    "def tree_to_string(tree):\n",
    "    tf = tempfile.NamedTemporaryFile(delete=False)\n",
    "    \n",
    "    temp_name = tf.name\n",
    "    if os.path.exists(temp_name):\n",
    "        os.remove(temp_name)\n",
    "    tree.save2file(temp_name, data_property=\"desc\")\n",
    "    with open(temp_name, 'r') as fp:\n",
    "        s_tree = fp.read()\n",
    "    os.remove(temp_name)\n",
    "    return s_tree"
   ]
  },
  {
   "cell_type": "code",
   "execution_count": null,
   "metadata": {},
   "outputs": [],
   "source": [
    "import tempfile"
   ]
  },
  {
   "cell_type": "code",
   "execution_count": null,
   "metadata": {},
   "outputs": [],
   "source": [
    "tf = tempfile.NamedTemporaryFile(delete=False)\n",
    "\n",
    "tf.name"
   ]
  },
  {
   "cell_type": "code",
   "execution_count": null,
   "metadata": {},
   "outputs": [],
   "source": [
    "s_tree = tree_to_string(t1)"
   ]
  },
  {
   "cell_type": "code",
   "execution_count": null,
   "metadata": {},
   "outputs": [],
   "source": [
    "s_tree"
   ]
  },
  {
   "cell_type": "code",
   "execution_count": null,
   "metadata": {},
   "outputs": [],
   "source": [
    "counts"
   ]
  },
  {
   "cell_type": "code",
   "execution_count": null,
   "metadata": {},
   "outputs": [],
   "source": [
    "# the big transform function to analyze a single json.gz file\n",
    "\n",
    "def analyze_github_file(path, output_name, max_examples=5):\n",
    "    \n",
    "    logging.info('Analyzing {}'.format(path))\n",
    "    \n",
    "    logging.info('Loading data')\n",
    "    \n",
    "    with gzip.open(path, 'rb') as f:\n",
    "        file_content = f.read().decode()\n",
    "        rows = [json.loads(line) for line in file_content.split('\\n') if len(line) > 0]\n",
    "    \n",
    "    logging.info('Found {} rows'.format(len(rows)))\n",
    "    logging.info('Counting how often each structure exists')\n",
    "    counts = {}\n",
    "    for row in tqdm(rows):\n",
    "        t = dict_to_tree(row)\n",
    "\n",
    "        key = json.dumps(t.to_dict(with_data=True), cls=ComplexEncoder, sort_keys=True)\n",
    "\n",
    "        if key not in counts.keys():\n",
    "            counts[key] = (t, 1, [row])\n",
    "        else:\n",
    "            t, c, examples = counts[key]\n",
    "            if len(examples) < max_examples:\n",
    "                examples.append(row)\n",
    "            counts[key] = (t, c + 1, examples)\n",
    "    logging.info('Found {} different trees'.format(len(counts)))\n",
    "    logging.info('Converting to JSON')\n",
    "    \n",
    "    ret = []\n",
    "    for k, v in counts.items():\n",
    "        ret.append({'path' : path,\n",
    "                    'count' : v[1],\n",
    "                    'tree' : k,\n",
    "                    'formatted_tree': tree_to_string(v[0]),\n",
    "                    'examples' : v[2]})\n",
    "    logging.info(\"Writing result to {}\".format(output_name))\n",
    "    ret = sorted(ret, key=lambda x: -x['count'])\n",
    "    with open(output_name, 'w') as fp:\n",
    "        for r in ret:\n",
    "            fp.write(json.dumps(r) + '\\n')\n",
    "        \n",
    "    logging.info('Done.')"
   ]
  },
  {
   "cell_type": "code",
   "execution_count": null,
   "metadata": {},
   "outputs": [],
   "source": [
    "analyze_github_file(path, os.path.basename(path) + \".stats.json\")"
   ]
  },
  {
   "cell_type": "code",
   "execution_count": null,
   "metadata": {},
   "outputs": [],
   "source": [
    "s = 'root: dict\\n\\u251c\\u2500\\u2500 actor: dict\\n\\u2502   \\u251c\\u2500\\u2500 avatar_url: str\\n\\u2502   \\u251c\\u2500\\u2500 gravatar_id: str\\n\\u2502   \\u251c\\u2500\\u2500 id: int\\n\\u2502   \\u251c\\u2500\\u2500 login: str\\n\\u2502   \\u2514\\u2500\\u2500 url: str\\n\\u251c\\u2500\\u2500 created_at: str\\n\\u251c\\u2500\\u2500 id: str\\n\\u251c\\u2500\\u2500 payload: dict\\n\\u2502   \\u251c\\u2500\\u2500 action: str\\n\\u2502   \\u251c\\u2500\\u2500 actor: str\\n\\u2502   \\u251c\\u2500\\u2500 actor_gravatar: str\\n\\u2502   \\u2514\\u2500\\u2500 repo: str\\n\\u251c\\u2500\\u2500 public: bool\\n\\u251c\\u2500\\u2500 repo: dict\\n\\u2502   \\u251c\\u2500\\u2500 id: int\\n\\u2502   \\u251c\\u2500\\u2500 name: str\\n\\u2502   \\u2514\\u2500\\u2500 url: str\\n\\u2514\\u2500\\u2500 type: str\\n\"'\n",
    "print(s)"
   ]
  },
  {
   "cell_type": "code",
   "execution_count": null,
   "metadata": {},
   "outputs": [],
   "source": [
    "paths = sorted(glob.glob('/disk/download/data/*.json.gz'))"
   ]
  },
  {
   "cell_type": "code",
   "execution_count": null,
   "metadata": {},
   "outputs": [],
   "source": [
    "# use joblib to launch full stats\n",
    "output_dir = 'github_stats'\n",
    "os.makedirs(output_dir, exist_ok=True)\n",
    "\n",
    "from joblib import Parallel, delayed\n",
    "from joblib import Memory\n",
    "import time\n",
    "\n",
    "start = time.time()\n",
    "results = Parallel(n_jobs=32, verbose=10)(\n",
    "    delayed(analyze_github_file)(path, os.path.join(output_dir, os.path.basename(path) + \".stats.json\")) for path in paths[9500:])\n",
    "stop = time.time()\n",
    "\n",
    "print('Elapsed time for the entire processing: {:.2f} s'\n",
    "      .format(stop - start))"
   ]
  },
  {
   "cell_type": "code",
   "execution_count": null,
   "metadata": {},
   "outputs": [],
   "source": []
  },
  {
   "cell_type": "code",
   "execution_count": 192,
   "metadata": {},
   "outputs": [
    {
     "name": "stderr",
     "output_type": "stream",
     "text": [
      "DEBUG:root:test\n"
     ]
    }
   ],
   "source": [
    "import logging\n",
    "logger = logging.getLogger()\n",
    "logger.setLevel(logging.DEBUG)\n",
    "logging.debug(\"test\")"
   ]
  },
  {
   "cell_type": "code",
   "execution_count": null,
   "metadata": {},
   "outputs": [],
   "source": []
  }
 ],
 "metadata": {
  "kernelspec": {
   "display_name": "Python 3.10",
   "language": "python",
   "name": "python3"
  },
  "language_info": {
   "codemirror_mode": {
    "name": "ipython",
    "version": 3
   },
   "file_extension": ".py",
   "mimetype": "text/x-python",
   "name": "python",
   "nbconvert_exporter": "python",
   "pygments_lexer": "ipython3",
   "version": "3.10.6"
  }
 },
 "nbformat": 4,
 "nbformat_minor": 4
}
