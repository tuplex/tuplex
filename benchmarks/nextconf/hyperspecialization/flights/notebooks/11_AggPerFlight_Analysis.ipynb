{
 "cells": [
  {
   "cell_type": "code",
   "execution_count": 2,
   "metadata": {},
   "outputs": [],
   "source": [
    "import pandas as pd\n",
    "import joblib\n",
    "import glob\n",
    "import os"
   ]
  },
  {
   "cell_type": "code",
   "execution_count": 3,
   "metadata": {},
   "outputs": [],
   "source": [
    "root_path = '/hot/data/flights_all/'"
   ]
  },
  {
   "cell_type": "code",
   "execution_count": 4,
   "metadata": {},
   "outputs": [],
   "source": [
    "paths = glob.glob(os.path.join(root_path, 'flights*.csv'))"
   ]
  },
  {
   "cell_type": "code",
   "execution_count": 6,
   "metadata": {},
   "outputs": [],
   "source": [
    "path = paths[0]"
   ]
  },
  {
   "cell_type": "code",
   "execution_count": 7,
   "metadata": {},
   "outputs": [],
   "source": [
    "# on which files is weather delay always NULL?\n",
    "# on which files not?"
   ]
  },
  {
   "cell_type": "code",
   "execution_count": 8,
   "metadata": {},
   "outputs": [],
   "source": [
    "df = pd.read_csv(path,usecols=['WEATHER_DELAY'])"
   ]
  },
  {
   "cell_type": "code",
   "execution_count": 10,
   "metadata": {},
   "outputs": [],
   "source": [
    "# use sampling using first 50 and last 50 rows for detection"
   ]
  },
  {
   "cell_type": "code",
   "execution_count": 70,
   "metadata": {},
   "outputs": [],
   "source": [
    "def count_values(df):\n",
    "    num_values = len(df)\n",
    "    num_na_values = len(df[df['WEATHER_DELAY'].isna()])\n",
    "    num_non_navalues = len(df[~df['WEATHER_DELAY'].isna()])\n",
    "    num_na_values, num_non_navalues, num_values\n",
    "\n",
    "    return {'n_na' : num_na_values, 'n_nona' : num_non_navalues, 'n' : num_values}"
   ]
  },
  {
   "cell_type": "code",
   "execution_count": null,
   "metadata": {},
   "outputs": [],
   "source": []
  },
  {
   "cell_type": "code",
   "execution_count": 71,
   "metadata": {},
   "outputs": [
    {
     "data": {
      "text/plain": [
       "(606293, 120126)"
      ]
     },
     "execution_count": 71,
     "metadata": {},
     "output_type": "execute_result"
    }
   ],
   "source": [
    "len(df), len(df.dropna())"
   ]
  },
  {
   "cell_type": "code",
   "execution_count": 72,
   "metadata": {},
   "outputs": [
    {
     "data": {
      "text/plain": [
       "{'n_na': 15, 'n_nona': 5, 'n': 20}"
      ]
     },
     "execution_count": 72,
     "metadata": {},
     "output_type": "execute_result"
    }
   ],
   "source": [
    "# overlap? tiny files? => ignore.\n",
    "count_values(pd.concat((df.head(10), df.tail(10))))"
   ]
  },
  {
   "cell_type": "code",
   "execution_count": 73,
   "metadata": {},
   "outputs": [],
   "source": [
    "def get_stats(path):\n",
    "    df = pd.read_csv(path,usecols=['WEATHER_DELAY'])\n",
    "    \n",
    "    df_sample = df\n",
    "    if len(df) > 20:\n",
    "        df_sample = pd.concat((df.head(10), df.tail(10)))\n",
    "    \n",
    "    row = {'actual' : count_values(df), 'sample' : count_values(df_sample)}\n",
    "    \n",
    "    row['path'] = path\n",
    "    row['name'] = os.path.basename(path)\n",
    "    \n",
    "    row['actual_constant'] = row['actual']['n_na'] == row['actual']['n']\n",
    "    row['sample_constant'] = row['sample']['n_na'] == row['sample']['n']\n",
    "    \n",
    "    return row"
   ]
  },
  {
   "cell_type": "code",
   "execution_count": 74,
   "metadata": {},
   "outputs": [
    {
     "data": {
      "text/plain": [
       "{'actual': {'n_na': 486167, 'n_nona': 120126, 'n': 606293},\n",
       " 'sample': {'n_na': 15, 'n_nona': 5, 'n': 20},\n",
       " 'path': '/hot/data/flights_all/flights_on_time_performance_2008_05.csv',\n",
       " 'name': 'flights_on_time_performance_2008_05.csv',\n",
       " 'actual_constant': False,\n",
       " 'sample_constant': False}"
      ]
     },
     "execution_count": 74,
     "metadata": {},
     "output_type": "execute_result"
    }
   ],
   "source": [
    "get_stats(path)"
   ]
  },
  {
   "cell_type": "code",
   "execution_count": null,
   "metadata": {},
   "outputs": [],
   "source": []
  },
  {
   "cell_type": "code",
   "execution_count": null,
   "metadata": {},
   "outputs": [],
   "source": []
  },
  {
   "cell_type": "code",
   "execution_count": 75,
   "metadata": {},
   "outputs": [
    {
     "name": "stderr",
     "output_type": "stream",
     "text": [
      "[Parallel(n_jobs=32)]: Using backend LokyBackend with 32 concurrent workers.\n",
      "[Parallel(n_jobs=32)]: Done   8 tasks      | elapsed:    3.3s\n",
      "[Parallel(n_jobs=32)]: Done  21 tasks      | elapsed:    4.1s\n",
      "[Parallel(n_jobs=32)]: Done  34 tasks      | elapsed:    5.4s\n",
      "[Parallel(n_jobs=32)]: Done  49 tasks      | elapsed:    6.6s\n",
      "[Parallel(n_jobs=32)]: Done  64 tasks      | elapsed:    7.6s\n",
      "[Parallel(n_jobs=32)]: Done  81 tasks      | elapsed:    9.2s\n",
      "[Parallel(n_jobs=32)]: Done  98 tasks      | elapsed:   10.4s\n",
      "[Parallel(n_jobs=32)]: Done 117 tasks      | elapsed:   12.1s\n",
      "[Parallel(n_jobs=32)]: Done 136 tasks      | elapsed:   13.3s\n",
      "[Parallel(n_jobs=32)]: Done 157 tasks      | elapsed:   15.0s\n",
      "[Parallel(n_jobs=32)]: Done 178 tasks      | elapsed:   17.1s\n",
      "[Parallel(n_jobs=32)]: Done 201 tasks      | elapsed:   18.9s\n",
      "[Parallel(n_jobs=32)]: Done 224 tasks      | elapsed:   20.8s\n",
      "[Parallel(n_jobs=32)]: Done 249 tasks      | elapsed:   22.8s\n",
      "[Parallel(n_jobs=32)]: Done 274 tasks      | elapsed:   24.8s\n",
      "[Parallel(n_jobs=32)]: Done 301 tasks      | elapsed:   27.1s\n",
      "[Parallel(n_jobs=32)]: Done 328 tasks      | elapsed:   29.0s\n",
      "[Parallel(n_jobs=32)]: Done 389 out of 410 | elapsed:   34.3s remaining:    1.9s\n"
     ]
    },
    {
     "name": "stdout",
     "output_type": "stream",
     "text": [
      "Elapsed time for the entire processing: 36.14 s\n"
     ]
    },
    {
     "name": "stderr",
     "output_type": "stream",
     "text": [
      "[Parallel(n_jobs=32)]: Done 410 out of 410 | elapsed:   36.1s finished\n"
     ]
    }
   ],
   "source": [
    "#Import package\n",
    "from joblib import Parallel, delayed\n",
    "from joblib import Memory\n",
    "import time\n",
    "\n",
    "start = time.time()\n",
    "results = Parallel(n_jobs=32, verbose=10)(\n",
    "    delayed(get_stats)(path) for path in paths)\n",
    "stop = time.time()\n",
    "\n",
    "print('Elapsed time for the entire processing: {:.2f} s'\n",
    "      .format(stop - start))"
   ]
  },
  {
   "cell_type": "code",
   "execution_count": 76,
   "metadata": {},
   "outputs": [],
   "source": [
    "df_r = pd.DataFrame(results)"
   ]
  },
  {
   "cell_type": "code",
   "execution_count": 77,
   "metadata": {},
   "outputs": [],
   "source": [
    "# sampling accurate?\n",
    "# ==> yep. sufficient to answer everything basically..."
   ]
  },
  {
   "cell_type": "code",
   "execution_count": 87,
   "metadata": {},
   "outputs": [
    {
     "name": "stdout",
     "output_type": "stream",
     "text": [
      "21 out of 410 wrongly detected\n"
     ]
    }
   ],
   "source": [
    "num_wrongly_sampled = len(df_r[df_r['actual_constant'].values != df_r['sample_constant'].values])\n",
    "\n",
    "print('{} out of {} wrongly detected'.format(num_wrongly_sampled, len(df_r)))"
   ]
  },
  {
   "cell_type": "markdown",
   "metadata": {},
   "source": [
    "For the paper could do precision/recall/accuracy for this."
   ]
  },
  {
   "cell_type": "code",
   "execution_count": 83,
   "metadata": {},
   "outputs": [
    {
     "data": {
      "text/html": [
       "<div>\n",
       "<style scoped>\n",
       "    .dataframe tbody tr th:only-of-type {\n",
       "        vertical-align: middle;\n",
       "    }\n",
       "\n",
       "    .dataframe tbody tr th {\n",
       "        vertical-align: top;\n",
       "    }\n",
       "\n",
       "    .dataframe thead th {\n",
       "        text-align: right;\n",
       "    }\n",
       "</style>\n",
       "<table border=\"1\" class=\"dataframe\">\n",
       "  <thead>\n",
       "    <tr style=\"text-align: right;\">\n",
       "      <th></th>\n",
       "      <th>actual</th>\n",
       "      <th>sample</th>\n",
       "      <th>path</th>\n",
       "      <th>name</th>\n",
       "      <th>actual_constant</th>\n",
       "      <th>sample_constant</th>\n",
       "    </tr>\n",
       "  </thead>\n",
       "  <tbody>\n",
       "    <tr>\n",
       "      <th>8</th>\n",
       "      <td>{'n_na': 502649, 'n_nona': 142650, 'n': 645299}</td>\n",
       "      <td>{'n_na': 20, 'n_nona': 0, 'n': 20}</td>\n",
       "      <td>/hot/data/flights_all/flights_on_time_performa...</td>\n",
       "      <td>flights_on_time_performance_2018_07.csv</td>\n",
       "      <td>False</td>\n",
       "      <td>True</td>\n",
       "    </tr>\n",
       "    <tr>\n",
       "      <th>11</th>\n",
       "      <td>{'n_na': 398726, 'n_nona': 92285, 'n': 491011}</td>\n",
       "      <td>{'n_na': 20, 'n_nona': 0, 'n': 20}</td>\n",
       "      <td>/hot/data/flights_all/flights_on_time_performa...</td>\n",
       "      <td>flights_on_time_performance_2014_10.csv</td>\n",
       "      <td>False</td>\n",
       "      <td>True</td>\n",
       "    </tr>\n",
       "    <tr>\n",
       "      <th>80</th>\n",
       "      <td>{'n_na': 521183, 'n_nona': 93619, 'n': 614802}</td>\n",
       "      <td>{'n_na': 20, 'n_nona': 0, 'n': 20}</td>\n",
       "      <td>/hot/data/flights_all/flights_on_time_performa...</td>\n",
       "      <td>flights_on_time_performance_2005_05.csv</td>\n",
       "      <td>False</td>\n",
       "      <td>True</td>\n",
       "    </tr>\n",
       "    <tr>\n",
       "      <th>120</th>\n",
       "      <td>{'n_na': 432249, 'n_nona': 94684, 'n': 526933}</td>\n",
       "      <td>{'n_na': 20, 'n_nona': 0, 'n': 20}</td>\n",
       "      <td>/hot/data/flights_all/flights_on_time_performa...</td>\n",
       "      <td>flights_on_time_performance_2012_06.csv</td>\n",
       "      <td>False</td>\n",
       "      <td>True</td>\n",
       "    </tr>\n",
       "    <tr>\n",
       "      <th>171</th>\n",
       "      <td>{'n_na': 421275, 'n_nona': 72613, 'n': 493888}</td>\n",
       "      <td>{'n_na': 20, 'n_nona': 0, 'n': 20}</td>\n",
       "      <td>/hot/data/flights_all/flights_on_time_performa...</td>\n",
       "      <td>flights_on_time_performance_2011_12.csv</td>\n",
       "      <td>False</td>\n",
       "      <td>True</td>\n",
       "    </tr>\n",
       "    <tr>\n",
       "      <th>175</th>\n",
       "      <td>{'n_na': 523399, 'n_nona': 135630, 'n': 659029}</td>\n",
       "      <td>{'n_na': 20, 'n_nona': 0, 'n': 20}</td>\n",
       "      <td>/hot/data/flights_all/flights_on_time_performa...</td>\n",
       "      <td>flights_on_time_performance_2019_07.csv</td>\n",
       "      <td>False</td>\n",
       "      <td>True</td>\n",
       "    </tr>\n",
       "    <tr>\n",
       "      <th>191</th>\n",
       "      <td>{'n_na': 458705, 'n_nona': 121429, 'n': 580134}</td>\n",
       "      <td>{'n_na': 20, 'n_nona': 0, 'n': 20}</td>\n",
       "      <td>/hot/data/flights_all/flights_on_time_performa...</td>\n",
       "      <td>flights_on_time_performance_2009_07.csv</td>\n",
       "      <td>False</td>\n",
       "      <td>True</td>\n",
       "    </tr>\n",
       "    <tr>\n",
       "      <th>205</th>\n",
       "      <td>{'n_na': 469453, 'n_nona': 139742, 'n': 609195}</td>\n",
       "      <td>{'n_na': 20, 'n_nona': 0, 'n': 20}</td>\n",
       "      <td>/hot/data/flights_all/flights_on_time_performa...</td>\n",
       "      <td>flights_on_time_performance_2005_06.csv</td>\n",
       "      <td>False</td>\n",
       "      <td>True</td>\n",
       "    </tr>\n",
       "    <tr>\n",
       "      <th>217</th>\n",
       "      <td>{'n_na': 454800, 'n_nona': 54740, 'n': 509540}</td>\n",
       "      <td>{'n_na': 20, 'n_nona': 0, 'n': 20}</td>\n",
       "      <td>/hot/data/flights_all/flights_on_time_performa...</td>\n",
       "      <td>flights_on_time_performance_2009_11.csv</td>\n",
       "      <td>False</td>\n",
       "      <td>True</td>\n",
       "    </tr>\n",
       "    <tr>\n",
       "      <th>247</th>\n",
       "      <td>{'n_na': 415225, 'n_nona': 70908, 'n': 486133}</td>\n",
       "      <td>{'n_na': 20, 'n_nona': 0, 'n': 20}</td>\n",
       "      <td>/hot/data/flights_all/flights_on_time_performa...</td>\n",
       "      <td>flights_on_time_performance_2012_01.csv</td>\n",
       "      <td>False</td>\n",
       "      <td>True</td>\n",
       "    </tr>\n",
       "    <tr>\n",
       "      <th>261</th>\n",
       "      <td>{'n_na': 425087, 'n_nona': 111306, 'n': 536393}</td>\n",
       "      <td>{'n_na': 20, 'n_nona': 0, 'n': 20}</td>\n",
       "      <td>/hot/data/flights_all/flights_on_time_performa...</td>\n",
       "      <td>flights_on_time_performance_2013_04.csv</td>\n",
       "      <td>False</td>\n",
       "      <td>True</td>\n",
       "    </tr>\n",
       "    <tr>\n",
       "      <th>263</th>\n",
       "      <td>{'n_na': 514444, 'n_nona': 101657, 'n': 616101}</td>\n",
       "      <td>{'n_na': 20, 'n_nona': 0, 'n': 20}</td>\n",
       "      <td>/hot/data/flights_all/flights_on_time_performa...</td>\n",
       "      <td>flights_on_time_performance_2018_10.csv</td>\n",
       "      <td>False</td>\n",
       "      <td>True</td>\n",
       "    </tr>\n",
       "    <tr>\n",
       "      <th>291</th>\n",
       "      <td>{'n_na': 395133, 'n_nona': 104145, 'n': 499278}</td>\n",
       "      <td>{'n_na': 20, 'n_nona': 0, 'n': 20}</td>\n",
       "      <td>/hot/data/flights_all/flights_on_time_performa...</td>\n",
       "      <td>flights_on_time_performance_2014_05.csv</td>\n",
       "      <td>False</td>\n",
       "      <td>True</td>\n",
       "    </tr>\n",
       "    <tr>\n",
       "      <th>300</th>\n",
       "      <td>{'n_na': 374017, 'n_nona': 95951, 'n': 469968}</td>\n",
       "      <td>{'n_na': 20, 'n_nona': 0, 'n': 20}</td>\n",
       "      <td>/hot/data/flights_all/flights_on_time_performa...</td>\n",
       "      <td>flights_on_time_performance_2015_01.csv</td>\n",
       "      <td>False</td>\n",
       "      <td>True</td>\n",
       "    </tr>\n",
       "    <tr>\n",
       "      <th>320</th>\n",
       "      <td>{'n_na': 347748, 'n_nona': 28967, 'n': 376715}</td>\n",
       "      <td>{'n_na': 20, 'n_nona': 0, 'n': 20}</td>\n",
       "      <td>/hot/data/flights_all/flights_on_time_performa...</td>\n",
       "      <td>flights_on_time_performance_2020_08.csv</td>\n",
       "      <td>False</td>\n",
       "      <td>True</td>\n",
       "    </tr>\n",
       "    <tr>\n",
       "      <th>333</th>\n",
       "      <td>{'n_na': 172823, 'n_nona': 7794, 'n': 180617}</td>\n",
       "      <td>{'n_na': 20, 'n_nona': 0, 'n': 20}</td>\n",
       "      <td>/hot/data/flights_all/flights_on_time_performa...</td>\n",
       "      <td>flights_on_time_performance_2020_05.csv</td>\n",
       "      <td>False</td>\n",
       "      <td>True</td>\n",
       "    </tr>\n",
       "    <tr>\n",
       "      <th>350</th>\n",
       "      <td>{'n_na': 326467, 'n_nona': 34961, 'n': 361428}</td>\n",
       "      <td>{'n_na': 20, 'n_nona': 0, 'n': 20}</td>\n",
       "      <td>/hot/data/flights_all/flights_on_time_performa...</td>\n",
       "      <td>flights_on_time_performance_2021_01.csv</td>\n",
       "      <td>False</td>\n",
       "      <td>True</td>\n",
       "    </tr>\n",
       "    <tr>\n",
       "      <th>358</th>\n",
       "      <td>{'n_na': 371781, 'n_nona': 144958, 'n': 516739}</td>\n",
       "      <td>{'n_na': 20, 'n_nona': 0, 'n': 20}</td>\n",
       "      <td>/hot/data/flights_all/flights_on_time_performa...</td>\n",
       "      <td>flights_on_time_performance_2013_12.csv</td>\n",
       "      <td>False</td>\n",
       "      <td>True</td>\n",
       "    </tr>\n",
       "    <tr>\n",
       "      <th>389</th>\n",
       "      <td>{'n_na': 489473, 'n_nona': 141431, 'n': 630904}</td>\n",
       "      <td>{'n_na': 20, 'n_nona': 0, 'n': 20}</td>\n",
       "      <td>/hot/data/flights_all/flights_on_time_performa...</td>\n",
       "      <td>flights_on_time_performance_2005_08.csv</td>\n",
       "      <td>False</td>\n",
       "      <td>True</td>\n",
       "    </tr>\n",
       "    <tr>\n",
       "      <th>393</th>\n",
       "      <td>{'n_na': 402864, 'n_nona': 51298, 'n': 454162}</td>\n",
       "      <td>{'n_na': 20, 'n_nona': 0, 'n': 20}</td>\n",
       "      <td>/hot/data/flights_all/flights_on_time_performa...</td>\n",
       "      <td>flights_on_time_performance_2017_11.csv</td>\n",
       "      <td>False</td>\n",
       "      <td>True</td>\n",
       "    </tr>\n",
       "    <tr>\n",
       "      <th>401</th>\n",
       "      <td>{'n_na': 436359, 'n_nona': 104434, 'n': 540793}</td>\n",
       "      <td>{'n_na': 20, 'n_nona': 0, 'n': 20}</td>\n",
       "      <td>/hot/data/flights_all/flights_on_time_performa...</td>\n",
       "      <td>flights_on_time_performance_2012_08.csv</td>\n",
       "      <td>False</td>\n",
       "      <td>True</td>\n",
       "    </tr>\n",
       "  </tbody>\n",
       "</table>\n",
       "</div>"
      ],
      "text/plain": [
       "                                              actual  \\\n",
       "8    {'n_na': 502649, 'n_nona': 142650, 'n': 645299}   \n",
       "11    {'n_na': 398726, 'n_nona': 92285, 'n': 491011}   \n",
       "80    {'n_na': 521183, 'n_nona': 93619, 'n': 614802}   \n",
       "120   {'n_na': 432249, 'n_nona': 94684, 'n': 526933}   \n",
       "171   {'n_na': 421275, 'n_nona': 72613, 'n': 493888}   \n",
       "175  {'n_na': 523399, 'n_nona': 135630, 'n': 659029}   \n",
       "191  {'n_na': 458705, 'n_nona': 121429, 'n': 580134}   \n",
       "205  {'n_na': 469453, 'n_nona': 139742, 'n': 609195}   \n",
       "217   {'n_na': 454800, 'n_nona': 54740, 'n': 509540}   \n",
       "247   {'n_na': 415225, 'n_nona': 70908, 'n': 486133}   \n",
       "261  {'n_na': 425087, 'n_nona': 111306, 'n': 536393}   \n",
       "263  {'n_na': 514444, 'n_nona': 101657, 'n': 616101}   \n",
       "291  {'n_na': 395133, 'n_nona': 104145, 'n': 499278}   \n",
       "300   {'n_na': 374017, 'n_nona': 95951, 'n': 469968}   \n",
       "320   {'n_na': 347748, 'n_nona': 28967, 'n': 376715}   \n",
       "333    {'n_na': 172823, 'n_nona': 7794, 'n': 180617}   \n",
       "350   {'n_na': 326467, 'n_nona': 34961, 'n': 361428}   \n",
       "358  {'n_na': 371781, 'n_nona': 144958, 'n': 516739}   \n",
       "389  {'n_na': 489473, 'n_nona': 141431, 'n': 630904}   \n",
       "393   {'n_na': 402864, 'n_nona': 51298, 'n': 454162}   \n",
       "401  {'n_na': 436359, 'n_nona': 104434, 'n': 540793}   \n",
       "\n",
       "                                 sample  \\\n",
       "8    {'n_na': 20, 'n_nona': 0, 'n': 20}   \n",
       "11   {'n_na': 20, 'n_nona': 0, 'n': 20}   \n",
       "80   {'n_na': 20, 'n_nona': 0, 'n': 20}   \n",
       "120  {'n_na': 20, 'n_nona': 0, 'n': 20}   \n",
       "171  {'n_na': 20, 'n_nona': 0, 'n': 20}   \n",
       "175  {'n_na': 20, 'n_nona': 0, 'n': 20}   \n",
       "191  {'n_na': 20, 'n_nona': 0, 'n': 20}   \n",
       "205  {'n_na': 20, 'n_nona': 0, 'n': 20}   \n",
       "217  {'n_na': 20, 'n_nona': 0, 'n': 20}   \n",
       "247  {'n_na': 20, 'n_nona': 0, 'n': 20}   \n",
       "261  {'n_na': 20, 'n_nona': 0, 'n': 20}   \n",
       "263  {'n_na': 20, 'n_nona': 0, 'n': 20}   \n",
       "291  {'n_na': 20, 'n_nona': 0, 'n': 20}   \n",
       "300  {'n_na': 20, 'n_nona': 0, 'n': 20}   \n",
       "320  {'n_na': 20, 'n_nona': 0, 'n': 20}   \n",
       "333  {'n_na': 20, 'n_nona': 0, 'n': 20}   \n",
       "350  {'n_na': 20, 'n_nona': 0, 'n': 20}   \n",
       "358  {'n_na': 20, 'n_nona': 0, 'n': 20}   \n",
       "389  {'n_na': 20, 'n_nona': 0, 'n': 20}   \n",
       "393  {'n_na': 20, 'n_nona': 0, 'n': 20}   \n",
       "401  {'n_na': 20, 'n_nona': 0, 'n': 20}   \n",
       "\n",
       "                                                  path  \\\n",
       "8    /hot/data/flights_all/flights_on_time_performa...   \n",
       "11   /hot/data/flights_all/flights_on_time_performa...   \n",
       "80   /hot/data/flights_all/flights_on_time_performa...   \n",
       "120  /hot/data/flights_all/flights_on_time_performa...   \n",
       "171  /hot/data/flights_all/flights_on_time_performa...   \n",
       "175  /hot/data/flights_all/flights_on_time_performa...   \n",
       "191  /hot/data/flights_all/flights_on_time_performa...   \n",
       "205  /hot/data/flights_all/flights_on_time_performa...   \n",
       "217  /hot/data/flights_all/flights_on_time_performa...   \n",
       "247  /hot/data/flights_all/flights_on_time_performa...   \n",
       "261  /hot/data/flights_all/flights_on_time_performa...   \n",
       "263  /hot/data/flights_all/flights_on_time_performa...   \n",
       "291  /hot/data/flights_all/flights_on_time_performa...   \n",
       "300  /hot/data/flights_all/flights_on_time_performa...   \n",
       "320  /hot/data/flights_all/flights_on_time_performa...   \n",
       "333  /hot/data/flights_all/flights_on_time_performa...   \n",
       "350  /hot/data/flights_all/flights_on_time_performa...   \n",
       "358  /hot/data/flights_all/flights_on_time_performa...   \n",
       "389  /hot/data/flights_all/flights_on_time_performa...   \n",
       "393  /hot/data/flights_all/flights_on_time_performa...   \n",
       "401  /hot/data/flights_all/flights_on_time_performa...   \n",
       "\n",
       "                                        name  actual_constant  sample_constant  \n",
       "8    flights_on_time_performance_2018_07.csv            False             True  \n",
       "11   flights_on_time_performance_2014_10.csv            False             True  \n",
       "80   flights_on_time_performance_2005_05.csv            False             True  \n",
       "120  flights_on_time_performance_2012_06.csv            False             True  \n",
       "171  flights_on_time_performance_2011_12.csv            False             True  \n",
       "175  flights_on_time_performance_2019_07.csv            False             True  \n",
       "191  flights_on_time_performance_2009_07.csv            False             True  \n",
       "205  flights_on_time_performance_2005_06.csv            False             True  \n",
       "217  flights_on_time_performance_2009_11.csv            False             True  \n",
       "247  flights_on_time_performance_2012_01.csv            False             True  \n",
       "261  flights_on_time_performance_2013_04.csv            False             True  \n",
       "263  flights_on_time_performance_2018_10.csv            False             True  \n",
       "291  flights_on_time_performance_2014_05.csv            False             True  \n",
       "300  flights_on_time_performance_2015_01.csv            False             True  \n",
       "320  flights_on_time_performance_2020_08.csv            False             True  \n",
       "333  flights_on_time_performance_2020_05.csv            False             True  \n",
       "350  flights_on_time_performance_2021_01.csv            False             True  \n",
       "358  flights_on_time_performance_2013_12.csv            False             True  \n",
       "389  flights_on_time_performance_2005_08.csv            False             True  \n",
       "393  flights_on_time_performance_2017_11.csv            False             True  \n",
       "401  flights_on_time_performance_2012_08.csv            False             True  "
      ]
     },
     "execution_count": 83,
     "metadata": {},
     "output_type": "execute_result"
    }
   ],
   "source": [
    "# how large is the sampling error?\n",
    "\n",
    "df_r[df_r['actual_constant'].values != df_r['sample_constant'].values]"
   ]
  },
  {
   "cell_type": "code",
   "execution_count": 79,
   "metadata": {},
   "outputs": [],
   "source": [
    "# how many are constant? how many not?"
   ]
  },
  {
   "cell_type": "code",
   "execution_count": 80,
   "metadata": {},
   "outputs": [
    {
     "data": {
      "text/plain": [
       "False    222\n",
       "True     188\n",
       "Name: actual_constant, dtype: int64"
      ]
     },
     "execution_count": 80,
     "metadata": {},
     "output_type": "execute_result"
    }
   ],
   "source": [
    "df_r['actual_constant'].value_counts()"
   ]
  },
  {
   "cell_type": "code",
   "execution_count": 93,
   "metadata": {},
   "outputs": [
    {
     "data": {
      "text/plain": [
       "348    flights_on_time_performance_1987_10.csv\n",
       "184    flights_on_time_performance_1987_11.csv\n",
       "357    flights_on_time_performance_1987_12.csv\n",
       "158    flights_on_time_performance_1988_01.csv\n",
       "340    flights_on_time_performance_1988_02.csv\n",
       "                        ...                   \n",
       "284    flights_on_time_performance_2003_01.csv\n",
       "187    flights_on_time_performance_2003_02.csv\n",
       "344    flights_on_time_performance_2003_03.csv\n",
       "280    flights_on_time_performance_2003_04.csv\n",
       "131    flights_on_time_performance_2003_05.csv\n",
       "Name: name, Length: 188, dtype: object"
      ]
     },
     "execution_count": 93,
     "metadata": {},
     "output_type": "execute_result"
    }
   ],
   "source": [
    "df_r[df_r['actual_constant']]['name'].sort_values()"
   ]
  },
  {
   "cell_type": "code",
   "execution_count": 94,
   "metadata": {},
   "outputs": [],
   "source": [
    "# till 2003/05 it's basically constant.\n",
    "# Thus, we do unnecessary work for all of these files which are in sum\n",
    "\n",
    "# XX GB of data."
   ]
  },
  {
   "cell_type": "code",
   "execution_count": null,
   "metadata": {},
   "outputs": [],
   "source": []
  },
  {
   "cell_type": "code",
   "execution_count": 43,
   "metadata": {},
   "outputs": [
    {
     "data": {
      "text/html": [
       "<div>\n",
       "<style scoped>\n",
       "    .dataframe tbody tr th:only-of-type {\n",
       "        vertical-align: middle;\n",
       "    }\n",
       "\n",
       "    .dataframe tbody tr th {\n",
       "        vertical-align: top;\n",
       "    }\n",
       "\n",
       "    .dataframe thead th {\n",
       "        text-align: right;\n",
       "    }\n",
       "</style>\n",
       "<table border=\"1\" class=\"dataframe\">\n",
       "  <thead>\n",
       "    <tr style=\"text-align: right;\">\n",
       "      <th></th>\n",
       "      <th>actual</th>\n",
       "      <th>sample</th>\n",
       "      <th>path</th>\n",
       "      <th>name</th>\n",
       "      <th>actual_constant</th>\n",
       "      <th>sample_constant</th>\n",
       "    </tr>\n",
       "  </thead>\n",
       "  <tbody>\n",
       "    <tr>\n",
       "      <th>0</th>\n",
       "      <td>{'n_na': 486167, 'n_nona': 120126, 'n': 486167}</td>\n",
       "      <td>{'n_na': 15, 'n_nona': 5, 'n': 15}</td>\n",
       "      <td>/hot/data/flights_all/flights_on_time_performa...</td>\n",
       "      <td>flights_on_time_performance_2008_05.csv</td>\n",
       "      <td>True</td>\n",
       "      <td>True</td>\n",
       "    </tr>\n",
       "    <tr>\n",
       "      <th>1</th>\n",
       "      <td>{'n_na': 383950, 'n_nona': 0, 'n': 383950}</td>\n",
       "      <td>{'n_na': 20, 'n_nona': 0, 'n': 20}</td>\n",
       "      <td>/hot/data/flights_all/flights_on_time_performa...</td>\n",
       "      <td>flights_on_time_performance_1993_02.csv</td>\n",
       "      <td>True</td>\n",
       "      <td>True</td>\n",
       "    </tr>\n",
       "    <tr>\n",
       "      <th>2</th>\n",
       "      <td>{'n_na': 427091, 'n_nona': 0, 'n': 427091}</td>\n",
       "      <td>{'n_na': 20, 'n_nona': 0, 'n': 20}</td>\n",
       "      <td>/hot/data/flights_all/flights_on_time_performa...</td>\n",
       "      <td>flights_on_time_performance_1995_11.csv</td>\n",
       "      <td>True</td>\n",
       "      <td>True</td>\n",
       "    </tr>\n",
       "    <tr>\n",
       "      <th>3</th>\n",
       "      <td>{'n_na': 446427, 'n_nona': 0, 'n': 446427}</td>\n",
       "      <td>{'n_na': 20, 'n_nona': 0, 'n': 20}</td>\n",
       "      <td>/hot/data/flights_all/flights_on_time_performa...</td>\n",
       "      <td>flights_on_time_performance_1998_06.csv</td>\n",
       "      <td>True</td>\n",
       "      <td>True</td>\n",
       "    </tr>\n",
       "    <tr>\n",
       "      <th>4</th>\n",
       "      <td>{'n_na': 492088, 'n_nona': 134105, 'n': 492088}</td>\n",
       "      <td>{'n_na': 16, 'n_nona': 4, 'n': 16}</td>\n",
       "      <td>/hot/data/flights_all/flights_on_time_performa...</td>\n",
       "      <td>flights_on_time_performance_2018_06.csv</td>\n",
       "      <td>True</td>\n",
       "      <td>True</td>\n",
       "    </tr>\n",
       "    <tr>\n",
       "      <th>...</th>\n",
       "      <td>...</td>\n",
       "      <td>...</td>\n",
       "      <td>...</td>\n",
       "      <td>...</td>\n",
       "      <td>...</td>\n",
       "      <td>...</td>\n",
       "    </tr>\n",
       "    <tr>\n",
       "      <th>405</th>\n",
       "      <td>{'n_na': 438454, 'n_nona': 0, 'n': 438454}</td>\n",
       "      <td>{'n_na': 20, 'n_nona': 0, 'n': 20}</td>\n",
       "      <td>/hot/data/flights_all/flights_on_time_performa...</td>\n",
       "      <td>flights_on_time_performance_1988_12.csv</td>\n",
       "      <td>True</td>\n",
       "      <td>True</td>\n",
       "    </tr>\n",
       "    <tr>\n",
       "      <th>406</th>\n",
       "      <td>{'n_na': 428781, 'n_nona': 0, 'n': 428781}</td>\n",
       "      <td>{'n_na': 20, 'n_nona': 0, 'n': 20}</td>\n",
       "      <td>/hot/data/flights_all/flights_on_time_performa...</td>\n",
       "      <td>flights_on_time_performance_1990_11.csv</td>\n",
       "      <td>True</td>\n",
       "      <td>True</td>\n",
       "    </tr>\n",
       "    <tr>\n",
       "      <th>407</th>\n",
       "      <td>{'n_na': 529940, 'n_nona': 0, 'n': 529940}</td>\n",
       "      <td>{'n_na': 20, 'n_nona': 0, 'n': 20}</td>\n",
       "      <td>/hot/data/flights_all/flights_on_time_performa...</td>\n",
       "      <td>flights_on_time_performance_2001_01.csv</td>\n",
       "      <td>True</td>\n",
       "      <td>True</td>\n",
       "    </tr>\n",
       "    <tr>\n",
       "      <th>408</th>\n",
       "      <td>{'n_na': 432725, 'n_nona': 0, 'n': 432725}</td>\n",
       "      <td>{'n_na': 20, 'n_nona': 0, 'n': 20}</td>\n",
       "      <td>/hot/data/flights_all/flights_on_time_performa...</td>\n",
       "      <td>flights_on_time_performance_1997_11.csv</td>\n",
       "      <td>True</td>\n",
       "      <td>True</td>\n",
       "    </tr>\n",
       "    <tr>\n",
       "      <th>409</th>\n",
       "      <td>{'n_na': 447371, 'n_nona': 0, 'n': 447371}</td>\n",
       "      <td>{'n_na': 20, 'n_nona': 0, 'n': 20}</td>\n",
       "      <td>/hot/data/flights_all/flights_on_time_performa...</td>\n",
       "      <td>flights_on_time_performance_1990_05.csv</td>\n",
       "      <td>True</td>\n",
       "      <td>True</td>\n",
       "    </tr>\n",
       "  </tbody>\n",
       "</table>\n",
       "<p>410 rows × 6 columns</p>\n",
       "</div>"
      ],
      "text/plain": [
       "                                              actual  \\\n",
       "0    {'n_na': 486167, 'n_nona': 120126, 'n': 486167}   \n",
       "1         {'n_na': 383950, 'n_nona': 0, 'n': 383950}   \n",
       "2         {'n_na': 427091, 'n_nona': 0, 'n': 427091}   \n",
       "3         {'n_na': 446427, 'n_nona': 0, 'n': 446427}   \n",
       "4    {'n_na': 492088, 'n_nona': 134105, 'n': 492088}   \n",
       "..                                               ...   \n",
       "405       {'n_na': 438454, 'n_nona': 0, 'n': 438454}   \n",
       "406       {'n_na': 428781, 'n_nona': 0, 'n': 428781}   \n",
       "407       {'n_na': 529940, 'n_nona': 0, 'n': 529940}   \n",
       "408       {'n_na': 432725, 'n_nona': 0, 'n': 432725}   \n",
       "409       {'n_na': 447371, 'n_nona': 0, 'n': 447371}   \n",
       "\n",
       "                                 sample  \\\n",
       "0    {'n_na': 15, 'n_nona': 5, 'n': 15}   \n",
       "1    {'n_na': 20, 'n_nona': 0, 'n': 20}   \n",
       "2    {'n_na': 20, 'n_nona': 0, 'n': 20}   \n",
       "3    {'n_na': 20, 'n_nona': 0, 'n': 20}   \n",
       "4    {'n_na': 16, 'n_nona': 4, 'n': 16}   \n",
       "..                                  ...   \n",
       "405  {'n_na': 20, 'n_nona': 0, 'n': 20}   \n",
       "406  {'n_na': 20, 'n_nona': 0, 'n': 20}   \n",
       "407  {'n_na': 20, 'n_nona': 0, 'n': 20}   \n",
       "408  {'n_na': 20, 'n_nona': 0, 'n': 20}   \n",
       "409  {'n_na': 20, 'n_nona': 0, 'n': 20}   \n",
       "\n",
       "                                                  path  \\\n",
       "0    /hot/data/flights_all/flights_on_time_performa...   \n",
       "1    /hot/data/flights_all/flights_on_time_performa...   \n",
       "2    /hot/data/flights_all/flights_on_time_performa...   \n",
       "3    /hot/data/flights_all/flights_on_time_performa...   \n",
       "4    /hot/data/flights_all/flights_on_time_performa...   \n",
       "..                                                 ...   \n",
       "405  /hot/data/flights_all/flights_on_time_performa...   \n",
       "406  /hot/data/flights_all/flights_on_time_performa...   \n",
       "407  /hot/data/flights_all/flights_on_time_performa...   \n",
       "408  /hot/data/flights_all/flights_on_time_performa...   \n",
       "409  /hot/data/flights_all/flights_on_time_performa...   \n",
       "\n",
       "                                        name  actual_constant  sample_constant  \n",
       "0    flights_on_time_performance_2008_05.csv             True             True  \n",
       "1    flights_on_time_performance_1993_02.csv             True             True  \n",
       "2    flights_on_time_performance_1995_11.csv             True             True  \n",
       "3    flights_on_time_performance_1998_06.csv             True             True  \n",
       "4    flights_on_time_performance_2018_06.csv             True             True  \n",
       "..                                       ...              ...              ...  \n",
       "405  flights_on_time_performance_1988_12.csv             True             True  \n",
       "406  flights_on_time_performance_1990_11.csv             True             True  \n",
       "407  flights_on_time_performance_2001_01.csv             True             True  \n",
       "408  flights_on_time_performance_1997_11.csv             True             True  \n",
       "409  flights_on_time_performance_1990_05.csv             True             True  \n",
       "\n",
       "[410 rows x 6 columns]"
      ]
     },
     "execution_count": 43,
     "metadata": {},
     "output_type": "execute_result"
    }
   ],
   "source": [
    "df_r"
   ]
  },
  {
   "cell_type": "code",
   "execution_count": null,
   "metadata": {},
   "outputs": [],
   "source": []
  }
 ],
 "metadata": {
  "kernelspec": {
   "display_name": "Python 3",
   "language": "python",
   "name": "python3"
  },
  "language_info": {
   "codemirror_mode": {
    "name": "ipython",
    "version": 3
   },
   "file_extension": ".py",
   "mimetype": "text/x-python",
   "name": "python",
   "nbconvert_exporter": "python",
   "pygments_lexer": "ipython3",
   "version": "3.6.9"
  }
 },
 "nbformat": 4,
 "nbformat_minor": 4
}
