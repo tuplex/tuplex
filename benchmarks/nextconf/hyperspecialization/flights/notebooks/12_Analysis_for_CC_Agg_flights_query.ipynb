{
 "cells": [
  {
   "cell_type": "code",
   "execution_count": 75,
   "metadata": {},
   "outputs": [],
   "source": [
    "import glob\n",
    "import json\n",
    "import re\n",
    "import pandas as pd\n",
    "import os"
   ]
  },
  {
   "cell_type": "code",
   "execution_count": 76,
   "metadata": {},
   "outputs": [],
   "source": [
    "logs_path = '../results-agg-experiment/logs'"
   ]
  },
  {
   "cell_type": "code",
   "execution_count": 77,
   "metadata": {},
   "outputs": [],
   "source": [
    "paths = glob.glob(os.path.join(logs_path, '*.txt'))"
   ]
  },
  {
   "cell_type": "code",
   "execution_count": 78,
   "metadata": {},
   "outputs": [
    {
     "data": {
      "text/plain": [
       "70"
      ]
     },
     "execution_count": 78,
     "metadata": {},
     "output_type": "execute_result"
    }
   ],
   "source": [
    "len(paths)"
   ]
  },
  {
   "cell_type": "code",
   "execution_count": 79,
   "metadata": {},
   "outputs": [],
   "source": [
    "path = paths[0]"
   ]
  },
  {
   "cell_type": "code",
   "execution_count": 80,
   "metadata": {},
   "outputs": [
    {
     "name": "stdout",
     "output_type": "stream",
     "text": [
      "ERROR: ../results-agg-experiment/logs/flights-specialized-run-4-date-198801.txt\n"
     ]
    }
   ],
   "source": [
    "rows = []\n",
    "for path in paths:\n",
    "    try:\n",
    "        name = os.path.basename(path)\n",
    "        t = name[:name.find('-run')].replace('flights-', '')\n",
    "        r = int(name[name.find('run-')+4:name.rfind('-date')])\n",
    "\n",
    "        yearmonth = int(name[name.find('date-')+5:].replace('.txt', ''))\n",
    "        year = yearmonth // 100\n",
    "        month = yearmonth % 100\n",
    "        row = {'type' : t, 'run' : r, 'year' : int(year), 'month' : int(month)}\n",
    "\n",
    "        with open(path, 'r') as fp:\n",
    "            lines = fp.readlines()\n",
    "\n",
    "        row.update({'t_' + k : v for k, v in json.loads(lines[-1]).items()})\n",
    "        rows.append(row)\n",
    "    except Exception as e:\n",
    "        print('ERROR: {}'.format(path))"
   ]
  },
  {
   "cell_type": "code",
   "execution_count": 81,
   "metadata": {},
   "outputs": [],
   "source": [
    "df = pd.DataFrame(rows)"
   ]
  },
  {
   "cell_type": "code",
   "execution_count": 82,
   "metadata": {},
   "outputs": [],
   "source": [
    "gdf = df.groupby(['type', 'year', 'month']).mean().reset_index()"
   ]
  },
  {
   "cell_type": "code",
   "execution_count": 83,
   "metadata": {},
   "outputs": [],
   "source": [
    "import matplotlib.pyplot as plt\n",
    "import numpy as np"
   ]
  },
  {
   "cell_type": "code",
   "execution_count": 84,
   "metadata": {},
   "outputs": [],
   "source": [
    "import seaborn as sns"
   ]
  },
  {
   "cell_type": "code",
   "execution_count": 85,
   "metadata": {},
   "outputs": [],
   "source": [
    "gdf = gdf.sort_values(by=['year', 'month', 'type']).reset_index(drop=True)"
   ]
  },
  {
   "cell_type": "code",
   "execution_count": 86,
   "metadata": {},
   "outputs": [
    {
     "data": {
      "text/html": [
       "<div>\n",
       "<style scoped>\n",
       "    .dataframe tbody tr th:only-of-type {\n",
       "        vertical-align: middle;\n",
       "    }\n",
       "\n",
       "    .dataframe tbody tr th {\n",
       "        vertical-align: top;\n",
       "    }\n",
       "\n",
       "    .dataframe thead th {\n",
       "        text-align: right;\n",
       "    }\n",
       "</style>\n",
       "<table border=\"1\" class=\"dataframe\">\n",
       "  <thead>\n",
       "    <tr style=\"text-align: right;\">\n",
       "      <th></th>\n",
       "      <th>type</th>\n",
       "      <th>year</th>\n",
       "      <th>month</th>\n",
       "      <th>run</th>\n",
       "      <th>t_output</th>\n",
       "      <th>t_transform</th>\n",
       "      <th>t_total</th>\n",
       "    </tr>\n",
       "  </thead>\n",
       "  <tbody>\n",
       "    <tr>\n",
       "      <th>0</th>\n",
       "      <td>general</td>\n",
       "      <td>1987</td>\n",
       "      <td>10</td>\n",
       "      <td>6</td>\n",
       "      <td>0.000235</td>\n",
       "      <td>2.010697</td>\n",
       "      <td>2.010934</td>\n",
       "    </tr>\n",
       "    <tr>\n",
       "      <th>1</th>\n",
       "      <td>specialized</td>\n",
       "      <td>1987</td>\n",
       "      <td>10</td>\n",
       "      <td>6</td>\n",
       "      <td>0.000252</td>\n",
       "      <td>1.989872</td>\n",
       "      <td>1.990122</td>\n",
       "    </tr>\n",
       "    <tr>\n",
       "      <th>2</th>\n",
       "      <td>general</td>\n",
       "      <td>1987</td>\n",
       "      <td>11</td>\n",
       "      <td>6</td>\n",
       "      <td>0.000255</td>\n",
       "      <td>1.863666</td>\n",
       "      <td>1.863921</td>\n",
       "    </tr>\n",
       "    <tr>\n",
       "      <th>3</th>\n",
       "      <td>specialized</td>\n",
       "      <td>1987</td>\n",
       "      <td>11</td>\n",
       "      <td>6</td>\n",
       "      <td>0.000248</td>\n",
       "      <td>1.867912</td>\n",
       "      <td>1.868159</td>\n",
       "    </tr>\n",
       "    <tr>\n",
       "      <th>4</th>\n",
       "      <td>general</td>\n",
       "      <td>1987</td>\n",
       "      <td>12</td>\n",
       "      <td>6</td>\n",
       "      <td>0.000244</td>\n",
       "      <td>1.940159</td>\n",
       "      <td>1.940403</td>\n",
       "    </tr>\n",
       "    <tr>\n",
       "      <th>5</th>\n",
       "      <td>specialized</td>\n",
       "      <td>1987</td>\n",
       "      <td>12</td>\n",
       "      <td>6</td>\n",
       "      <td>0.030427</td>\n",
       "      <td>2.049450</td>\n",
       "      <td>2.079878</td>\n",
       "    </tr>\n",
       "    <tr>\n",
       "      <th>6</th>\n",
       "      <td>specialized</td>\n",
       "      <td>1988</td>\n",
       "      <td>1</td>\n",
       "      <td>2</td>\n",
       "      <td>0.000202</td>\n",
       "      <td>1.913937</td>\n",
       "      <td>1.914140</td>\n",
       "    </tr>\n",
       "  </tbody>\n",
       "</table>\n",
       "</div>"
      ],
      "text/plain": [
       "          type  year  month  run  t_output  t_transform   t_total\n",
       "0      general  1987     10    6  0.000235     2.010697  2.010934\n",
       "1  specialized  1987     10    6  0.000252     1.989872  1.990122\n",
       "2      general  1987     11    6  0.000255     1.863666  1.863921\n",
       "3  specialized  1987     11    6  0.000248     1.867912  1.868159\n",
       "4      general  1987     12    6  0.000244     1.940159  1.940403\n",
       "5  specialized  1987     12    6  0.030427     2.049450  2.079878\n",
       "6  specialized  1988      1    2  0.000202     1.913937  1.914140"
      ]
     },
     "execution_count": 86,
     "metadata": {},
     "output_type": "execute_result"
    }
   ],
   "source": [
    "gdf"
   ]
  },
  {
   "cell_type": "code",
   "execution_count": 87,
   "metadata": {},
   "outputs": [],
   "source": [
    "gdf_general = gdf.iloc[::2]\n",
    "gdf_special = gdf.iloc[1::2]"
   ]
  },
  {
   "cell_type": "code",
   "execution_count": 88,
   "metadata": {},
   "outputs": [
    {
     "data": {
      "text/html": [
       "<div>\n",
       "<style scoped>\n",
       "    .dataframe tbody tr th:only-of-type {\n",
       "        vertical-align: middle;\n",
       "    }\n",
       "\n",
       "    .dataframe tbody tr th {\n",
       "        vertical-align: top;\n",
       "    }\n",
       "\n",
       "    .dataframe thead th {\n",
       "        text-align: right;\n",
       "    }\n",
       "</style>\n",
       "<table border=\"1\" class=\"dataframe\">\n",
       "  <thead>\n",
       "    <tr style=\"text-align: right;\">\n",
       "      <th></th>\n",
       "      <th>type</th>\n",
       "      <th>year</th>\n",
       "      <th>month</th>\n",
       "      <th>run</th>\n",
       "      <th>t_output</th>\n",
       "      <th>t_transform</th>\n",
       "      <th>t_total</th>\n",
       "    </tr>\n",
       "  </thead>\n",
       "  <tbody>\n",
       "    <tr>\n",
       "      <th>0</th>\n",
       "      <td>general</td>\n",
       "      <td>1987</td>\n",
       "      <td>10</td>\n",
       "      <td>6</td>\n",
       "      <td>0.000235</td>\n",
       "      <td>2.010697</td>\n",
       "      <td>2.010934</td>\n",
       "    </tr>\n",
       "    <tr>\n",
       "      <th>2</th>\n",
       "      <td>general</td>\n",
       "      <td>1987</td>\n",
       "      <td>11</td>\n",
       "      <td>6</td>\n",
       "      <td>0.000255</td>\n",
       "      <td>1.863666</td>\n",
       "      <td>1.863921</td>\n",
       "    </tr>\n",
       "    <tr>\n",
       "      <th>4</th>\n",
       "      <td>general</td>\n",
       "      <td>1987</td>\n",
       "      <td>12</td>\n",
       "      <td>6</td>\n",
       "      <td>0.000244</td>\n",
       "      <td>1.940159</td>\n",
       "      <td>1.940403</td>\n",
       "    </tr>\n",
       "    <tr>\n",
       "      <th>6</th>\n",
       "      <td>specialized</td>\n",
       "      <td>1988</td>\n",
       "      <td>1</td>\n",
       "      <td>2</td>\n",
       "      <td>0.000202</td>\n",
       "      <td>1.913937</td>\n",
       "      <td>1.914140</td>\n",
       "    </tr>\n",
       "  </tbody>\n",
       "</table>\n",
       "</div>"
      ],
      "text/plain": [
       "          type  year  month  run  t_output  t_transform   t_total\n",
       "0      general  1987     10    6  0.000235     2.010697  2.010934\n",
       "2      general  1987     11    6  0.000255     1.863666  1.863921\n",
       "4      general  1987     12    6  0.000244     1.940159  1.940403\n",
       "6  specialized  1988      1    2  0.000202     1.913937  1.914140"
      ]
     },
     "execution_count": 88,
     "metadata": {},
     "output_type": "execute_result"
    }
   ],
   "source": [
    "gdf_general.head()"
   ]
  },
  {
   "cell_type": "code",
   "execution_count": 89,
   "metadata": {},
   "outputs": [
    {
     "data": {
      "text/plain": [
       "<matplotlib.collections.PathCollection at 0x7efef5462be0>"
      ]
     },
     "execution_count": 89,
     "metadata": {},
     "output_type": "execute_result"
    },
    {
     "data": {
      "image/png": "[encoded data removed]",
      "text/plain": [
       "<Figure size 432x288 with 1 Axes>"
      ]
     },
     "metadata": {
      "needs_background": "light"
     },
     "output_type": "display_data"
    }
   ],
   "source": [
    "plt.scatter(np.arange(len(gdf_general)), gdf_general['t_total'])\n",
    "plt.scatter(np.arange(len(gdf_special)), gdf_special['t_total'])"
   ]
  },
  {
   "cell_type": "code",
   "execution_count": 90,
   "metadata": {},
   "outputs": [
    {
     "data": {
      "text/plain": [
       "(7.729397272727273, 5.938159090909091)"
      ]
     },
     "execution_count": 90,
     "metadata": {},
     "output_type": "execute_result"
    }
   ],
   "source": [
    "gdf_general.sum()['t_total'], gdf_special.sum()['t_total']"
   ]
  },
  {
   "cell_type": "code",
   "execution_count": 91,
   "metadata": {},
   "outputs": [],
   "source": [
    "#is there any effect when using up to 2004?"
   ]
  },
  {
   "cell_type": "code",
   "execution_count": 92,
   "metadata": {},
   "outputs": [
    {
     "data": {
      "text/plain": [
       "(7.729397272727273, 5.938159090909091)"
      ]
     },
     "execution_count": 92,
     "metadata": {},
     "output_type": "execute_result"
    }
   ],
   "source": [
    "gdf_general[gdf_general['year'] <= 2003]['t_total'].sum(), gdf_special[gdf_special['year'] <= 2003]['t_total'].sum()"
   ]
  },
  {
   "cell_type": "code",
   "execution_count": 93,
   "metadata": {},
   "outputs": [],
   "source": [
    "# basically a difference not worth talking about..."
   ]
  },
  {
   "cell_type": "code",
   "execution_count": 94,
   "metadata": {},
   "outputs": [
    {
     "name": "stdout",
     "output_type": "stream",
     "text": [
      "cat: ../results-agg-experiment/logs/flights-general-run-1-date-199206.txt: No such file or directory\n"
     ]
    }
   ],
   "source": [
    "!cat ../results-agg-experiment/logs/flights-general-run-1-date-199206.txt"
   ]
  },
  {
   "cell_type": "code",
   "execution_count": null,
   "metadata": {},
   "outputs": [],
   "source": []
  }
 ],
 "metadata": {
  "kernelspec": {
   "display_name": "Python 3",
   "language": "python",
   "name": "python3"
  },
  "language_info": {
   "codemirror_mode": {
    "name": "ipython",
    "version": 3
   },
   "file_extension": ".py",
   "mimetype": "text/x-python",
   "name": "python",
   "nbconvert_exporter": "python",
   "pygments_lexer": "ipython3",
   "version": "3.6.9"
  }
 },
 "nbformat": 4,
 "nbformat_minor": 4
}
