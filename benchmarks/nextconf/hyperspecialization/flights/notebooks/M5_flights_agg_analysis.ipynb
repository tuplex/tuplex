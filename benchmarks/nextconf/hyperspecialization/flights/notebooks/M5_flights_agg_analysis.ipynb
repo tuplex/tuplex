{
 "cells": [
  {
   "cell_type": "markdown",
   "id": "a061ca14",
   "metadata": {},
   "source": [
    "## Flights Agg analysis\n",
    "\n",
    "First, let's start with the basics:\n",
    "\n",
    "\n",
    "Setup:\n",
    "- Single `m5.large` instance\n",
    "- everything run single-threaded-\n",
    "- C++ dummy code using csvmonkey parser\n",
    "- run over full flight data (from 1987 - 2021).\n",
    "\n",
    "\n",
    "We basically compare how fast 1. general-case code would run vs. 2. per-file specialized code.\n",
    "\n",
    "The python query we're interested in is roughly:\n",
    "\n",
    "```\n",
    "c.csv('flights*.csv')\n",
    " .mapColumn('WEATHER_DELAY', lambda x: 0 if x is None else x)\n",
    " .selectColumns(['MONTH', 'DAY', 'WEATHER_DELAY'])\n",
    " .aggregateByKey(['MONTH', 'DAY'], ['mean', 'std'])\n",
    " .collect()\n",
    "\n",
    "```\n",
    "\n",
    "Each version is translated to asm using clang-9 with the following flags:\n",
    "\n",
    "`-shared -fPIC -O3 -msse4.2 -mcx16 -march=native -DNDEBUG`\n",
    "\n",
    "\n",
    "- general case C++ source: `../src/agg_query/agg_general.cc`\n",
    "- specialized case C++ source: `../src/agg_query/agg_specialized.cc`\n",
    "- benchmark script: `../benchmark-agg-m5.sh`\n",
    "\n",
    "All files till 2003/05 can utilize the specialized version, all others require the general case version."
   ]
  },
  {
   "cell_type": "markdown",
   "id": "c9dc0531",
   "metadata": {},
   "source": [
    "General case version:\n",
    "\n",
    "```\n",
    "extern \"C\" int64_t process_cells(void *userData, char **cells, int64_t *cell_sizes) {\n",
    "\n",
    "    // only care about the WEATHER_DELAY cell, yet filter based on JFK airport code!\n",
    "    auto s_day = cells[DAY_COLUMN_INDEX];\n",
    "    auto s_month = cells[MONTH_COLUMN_INDEX];\n",
    "    auto s_weather_delay = cells[WEATHER_DELAY_COLUMN_INDEX];\n",
    "    auto s_airport_code = cells[AIRPORT_CODE_INDEX];\n",
    "\n",
    "    //// parsing avoided here...\n",
    "    //if(0 == strcmp(s_airport_code, \"12478\")) {\n",
    "        // compute aggregate for current airport\n",
    "        double weather_delay;\n",
    "\n",
    "        if(0 == strlen(s_weather_delay))\n",
    "            weather_delay = 0.0;\n",
    "        else {\n",
    "            // parse as float!\n",
    "            weather_delay = atof(s_weather_delay);\n",
    "        }\n",
    "\n",
    "        // Note: could hash using string directly, i.e. delayed parsing?\n",
    "        auto day = atoi(s_day);\n",
    "        auto month = atoi(s_month);\n",
    "\n",
    "        // put into aggregate\n",
    "        int key = month + 16 * day;\n",
    "\n",
    "\n",
    "        // using https://en.wikipedia.org/wiki/Algorithms_for_calculating_variance#Welford's_online_algorithm\n",
    "        // # For a new value newValue, compute the new count, new mean, the new M2.\n",
    "        //# mean accumulates the mean of the entire dataset\n",
    "        //# M2 aggregates the squared distance from the mean\n",
    "        //# count aggregates the number of samples seen so far\n",
    "        //def update(existingAggregate, newValue):\n",
    "        //    (count, mean, M2) = existingAggregate\n",
    "        //    count += 1\n",
    "        //    delta = newValue - mean\n",
    "        //    mean += delta / count\n",
    "        //    delta2 = newValue - mean\n",
    "        //    M2 += delta * delta2\n",
    "        //    return (count, mean, M2)\n",
    "\n",
    "        // not in use? init!\n",
    "        auto& entry = agg_map[key];\n",
    "        if(!entry.in_use) {\n",
    "            entry.in_use = true;\n",
    "            entry.count = 0;\n",
    "            entry.mean = 0.0;\n",
    "            entry.m2 = 0.0;\n",
    "        }\n",
    "\n",
    "        auto count = agg_map[key].count;\n",
    "        auto mean = agg_map[key].mean;\n",
    "        auto m2 = agg_map[key].m2;\n",
    "\n",
    "        count++;\n",
    "        auto delta = weather_delay - mean;\n",
    "        mean += delta / count;\n",
    "        auto delta2 = weather_delay - mean;\n",
    "        m2 += delta * delta2;\n",
    "        agg_map[key].count = count;\n",
    "        agg_map[key].mean = mean;\n",
    "        agg_map[key].m2 = m2;\n",
    "    //}\n",
    "\n",
    "    return 0;\n",
    "}\n",
    "```\n",
    "\n",
    "\n",
    "Resulting assembly (from m5.large):\n",
    "```\n",
    "00000000000013b0 <process_cells>:\n",
    "    13b0:\t41 56                \tpush   %r14\n",
    "    13b2:\t53                   \tpush   %rbx\n",
    "    13b3:\t50                   \tpush   %rax\n",
    "    13b4:\t4c 8b 76 10          \tmov    0x10(%rsi),%r14\n",
    "    13b8:\t48 8b 5e 18          \tmov    0x18(%rsi),%rbx\n",
    "    13bc:\t48 8b be c8 01 00 00 \tmov    0x1c8(%rsi),%rdi\n",
    "    13c3:\t80 3f 00             \tcmpb   $0x0,(%rdi)\n",
    "    13c6:\t74 09                \tje     13d1 <process_cells+0x21>\n",
    "    13c8:\t31 f6                \txor    %esi,%esi\n",
    "    13ca:\te8 a1 fc ff ff       \tcallq  1070 <strtod@plt>\n",
    "    13cf:\teb 04                \tjmp    13d5 <process_cells+0x25>\n",
    "    13d1:\tc5 f9 57 c0          \tvxorpd %xmm0,%xmm0,%xmm0\n",
    "    13d5:\tc5 fb 11 04 24       \tvmovsd %xmm0,(%rsp)\n",
    "    13da:\t48 89 df             \tmov    %rbx,%rdi\n",
    "    13dd:\t31 f6                \txor    %esi,%esi\n",
    "    13df:\tba 0a 00 00 00       \tmov    $0xa,%edx\n",
    "    13e4:\te8 d7 fc ff ff       \tcallq  10c0 <strtol@plt>\n",
    "    13e9:\t48 89 c3             \tmov    %rax,%rbx\n",
    "    13ec:\t4c 89 f7             \tmov    %r14,%rdi\n",
    "    13ef:\t31 f6                \txor    %esi,%esi\n",
    "    13f1:\tba 0a 00 00 00       \tmov    $0xa,%edx\n",
    "    13f6:\te8 c5 fc ff ff       \tcallq  10c0 <strtol@plt>\n",
    "    13fb:\tc1 e3 04             \tshl    $0x4,%ebx\n",
    "    13fe:\t01 c3                \tadd    %eax,%ebx\n",
    "    1400:\t48 8b 05 89 2c 00 00 \tmov    0x2c89(%rip),%rax        # 4090 <_ZL7agg_map>\n",
    "    1407:\t48 63 cb             \tmovslq %ebx,%rcx\n",
    "    140a:\t48 c1 e1 05          \tshl    $0x5,%rcx\n",
    "    140e:\t80 3c 08 00          \tcmpb   $0x0,(%rax,%rcx,1)\n",
    "    1412:\t74 16                \tje     142a <process_cells+0x7a>\n",
    "    1414:\t48 8b 54 08 08       \tmov    0x8(%rax,%rcx,1),%rdx\n",
    "    1419:\tc5 fb 10 4c 08 10    \tvmovsd 0x10(%rax,%rcx,1),%xmm1\n",
    "    141f:\tc5 fb 10 44 08 18    \tvmovsd 0x18(%rax,%rcx,1),%xmm0\n",
    "    1425:\t48 ff c2             \tinc    %rdx\n",
    "    1428:\teb 27                \tjmp    1451 <process_cells+0xa1>\n",
    "    142a:\t48 8d 14 08          \tlea    (%rax,%rcx,1),%rdx\n",
    "    142e:\tc6 02 01             \tmovb   $0x1,(%rdx)\n",
    "    1431:\tc5 f9 57 c0          \tvxorpd %xmm0,%xmm0,%xmm0\n",
    "    1435:\tc5 f9 11 44 08 08    \tvmovupd %xmm0,0x8(%rax,%rcx,1)\n",
    "    143b:\t48 c7 44 08 18 00 00 \tmovq   $0x0,0x18(%rax,%rcx,1)\n",
    "    1442:\t00 00 \n",
    "    1444:\tba 01 00 00 00       \tmov    $0x1,%edx\n",
    "    1449:\tc5 f9 57 c0          \tvxorpd %xmm0,%xmm0,%xmm0\n",
    "    144d:\tc5 f1 57 c9          \tvxorpd %xmm1,%xmm1,%xmm1\n",
    "    1451:\tc4 e1 eb 2a d2       \tvcvtsi2sd %rdx,%xmm2,%xmm2\n",
    "    1456:\tc5 fb 10 24 24       \tvmovsd (%rsp),%xmm4\n",
    "    145b:\tc5 db 5c d9          \tvsubsd %xmm1,%xmm4,%xmm3\n",
    "    145f:\tc5 e3 5e d2          \tvdivsd %xmm2,%xmm3,%xmm2\n",
    "    1463:\tc5 f3 58 ca          \tvaddsd %xmm2,%xmm1,%xmm1\n",
    "    1467:\tc5 db 5c d1          \tvsubsd %xmm1,%xmm4,%xmm2\n",
    "    146b:\tc5 e3 59 d2          \tvmulsd %xmm2,%xmm3,%xmm2\n",
    "    146f:\tc5 fb 58 c2          \tvaddsd %xmm2,%xmm0,%xmm0\n",
    "    1473:\t48 89 54 08 08       \tmov    %rdx,0x8(%rax,%rcx,1)\n",
    "    1478:\tc5 fb 11 4c 08 10    \tvmovsd %xmm1,0x10(%rax,%rcx,1)\n",
    "    147e:\tc5 fb 11 44 08 18    \tvmovsd %xmm0,0x18(%rax,%rcx,1)\n",
    "    1484:\t31 c0                \txor    %eax,%eax\n",
    "    1486:\t48 83 c4 08          \tadd    $0x8,%rsp\n",
    "    148a:\t5b                   \tpop    %rbx\n",
    "    148b:\t41 5e                \tpop    %r14\n",
    "    148d:\tc3                   \tretq   \n",
    "    148e:\t66 90                \txchg   %ax,%ax\n",
    "```"
   ]
  },
  {
   "cell_type": "markdown",
   "id": "71dff61f",
   "metadata": {},
   "source": [
    "Specialized case version:\n",
    "\n",
    "```\n",
    "extern \"C\" int64_t process_cells(void *userData, char **cells, int64_t *cell_sizes) {\n",
    "\n",
    "    // only care about the WEATHER_DELAY cell, yet filter based on JFK airport code!\n",
    "    auto s_day = cells[DAY_COLUMN_INDEX];\n",
    "    auto s_month = cells[MONTH_COLUMN_INDEX];\n",
    "    auto s_weather_delay = cells[WEATHER_DELAY_COLUMN_INDEX];\n",
    "    auto s_airport_code = cells[AIRPORT_CODE_INDEX];\n",
    "\n",
    "    // parsing avoided here...\n",
    "    //if(0 == strcmp(s_airport_code, \"12478\")) {\n",
    "\n",
    "        // compute aggregate for current airport\n",
    "        double weather_delay;\n",
    "\n",
    "        if(0 != strlen(s_weather_delay))\n",
    "            return SPECIALIZATION_FAILURE;\n",
    "\n",
    "        // Note: could hash using string directly, i.e. delayed parsing?\n",
    "        auto day = atoi(s_day);\n",
    "        auto month = atoi(s_month);\n",
    "\n",
    "        // put into aggregate\n",
    "        int key = month + 16 * day;\n",
    "\n",
    "        // using https://en.wikipedia.org/wiki/Algorithms_for_calculating_variance#Welford's_online_algorithm\n",
    "        // # For a new value newValue, compute the new count, new mean, the new M2.\n",
    "        //# mean accumulates the mean of the entire dataset\n",
    "        //# M2 aggregates the squared distance from the mean\n",
    "        //# count aggregates the number of samples seen so far\n",
    "        //def update(existingAggregate, newValue):\n",
    "        //    (count, mean, M2) = existingAggregate\n",
    "        //    count += 1\n",
    "        //    delta = newValue - mean\n",
    "        //    mean += delta / count\n",
    "        //    delta2 = newValue - mean\n",
    "        //    M2 += delta * delta2\n",
    "        //    return (count, mean, M2)\n",
    "\n",
    "        // not in use? init!\n",
    "        auto& entry = agg_map[key];\n",
    "        if(!entry.in_use) {\n",
    "            entry.in_use = true;\n",
    "            entry.count = 0;\n",
    "        } else {\n",
    "            entry.count++; // this is NOT the actual count, but rather a count of how many constant inputs were encountered...\n",
    "        }\n",
    "   // }\n",
    "\n",
    "    return 0;\n",
    "}\n",
    "```\n",
    "\n",
    "\n",
    "Resulting assembly (from m5.large):\n",
    "```\n",
    "0000000000001410 <process_cells>:\n",
    "    1410:\t41 56                \tpush   %r14\n",
    "    1412:\t53                   \tpush   %rbx\n",
    "    1413:\t50                   \tpush   %rax\n",
    "    1414:\t48 8b 8e c8 01 00 00 \tmov    0x1c8(%rsi),%rcx\n",
    "    141b:\tb8 2a 00 00 00       \tmov    $0x2a,%eax\n",
    "    1420:\t80 39 00             \tcmpb   $0x0,(%rcx)\n",
    "    1423:\t74 08                \tje     142d <process_cells+0x1d>\n",
    "    1425:\t48 83 c4 08          \tadd    $0x8,%rsp\n",
    "    1429:\t5b                   \tpop    %rbx\n",
    "    142a:\t41 5e                \tpop    %r14\n",
    "    142c:\tc3                   \tretq   \n",
    "    142d:\t4c 8b 76 10          \tmov    0x10(%rsi),%r14\n",
    "    1431:\t48 8b 7e 18          \tmov    0x18(%rsi),%rdi\n",
    "    1435:\t31 f6                \txor    %esi,%esi\n",
    "    1437:\tba 0a 00 00 00       \tmov    $0xa,%edx\n",
    "    143c:\te8 cf fc ff ff       \tcallq  1110 <strtol@plt>\n",
    "    1441:\t48 89 c3             \tmov    %rax,%rbx\n",
    "    1444:\t4c 89 f7             \tmov    %r14,%rdi\n",
    "    1447:\t31 f6                \txor    %esi,%esi\n",
    "    1449:\tba 0a 00 00 00       \tmov    $0xa,%edx\n",
    "    144e:\te8 bd fc ff ff       \tcallq  1110 <strtol@plt>\n",
    "    1453:\tc1 e3 04             \tshl    $0x4,%ebx\n",
    "    1456:\t01 c3                \tadd    %eax,%ebx\n",
    "    1458:\t48 8b 05 61 2c 00 00 \tmov    0x2c61(%rip),%rax        # 40c0 <_ZL7agg_map>\n",
    "    145f:\t48 63 cb             \tmovslq %ebx,%rcx\n",
    "    1462:\t48 c1 e1 05          \tshl    $0x5,%rcx\n",
    "    1466:\t80 3c 08 00          \tcmpb   $0x0,(%rax,%rcx,1)\n",
    "    146a:\t74 07                \tje     1473 <process_cells+0x63>\n",
    "    146c:\t48 ff 44 08 08       \tincq   0x8(%rax,%rcx,1)\n",
    "    1471:\teb 10                \tjmp    1483 <process_cells+0x73>\n",
    "    1473:\t48 8d 14 08          \tlea    (%rax,%rcx,1),%rdx\n",
    "    1477:\tc6 02 01             \tmovb   $0x1,(%rdx)\n",
    "    147a:\t48 c7 44 08 08 00 00 \tmovq   $0x0,0x8(%rax,%rcx,1)\n",
    "    1481:\t00 00 \n",
    "    1483:\t31 c0                \txor    %eax,%eax\n",
    "    1485:\t48 83 c4 08          \tadd    $0x8,%rsp\n",
    "    1489:\t5b                   \tpop    %rbx\n",
    "    148a:\t41 5e                \tpop    %r14\n",
    "    148c:\tc3                   \tretq   \n",
    "    148d:\t0f 1f 00             \tnopl   (%rax)\n",
    "```"
   ]
  },
  {
   "cell_type": "markdown",
   "id": "cc92e021",
   "metadata": {},
   "source": [
    "So let's crunch the numbers.\n",
    "\n",
    "THESE SHOWN HERE ARE WITH PRELOADING THE CSV TO MEMORY FIRST."
   ]
  },
  {
   "cell_type": "code",
   "execution_count": 1,
   "id": "d43a8132",
   "metadata": {},
   "outputs": [],
   "source": [
    "!tar xf results-agg-experiment.tar.gz"
   ]
  },
  {
   "cell_type": "code",
   "execution_count": 2,
   "id": "64552ef2",
   "metadata": {},
   "outputs": [],
   "source": [
    "import numpy as np\n",
    "import matplotlib.pyplot as plt\n",
    "import seaborn\n",
    "import pandas as pd\n",
    "import glob\n",
    "import os\n",
    "import json"
   ]
  },
  {
   "cell_type": "code",
   "execution_count": 3,
   "id": "e05695c0",
   "metadata": {},
   "outputs": [],
   "source": [
    "logs_path = './results-agg-experiment/logs'\n",
    "paths = glob.glob(os.path.join(logs_path, '*.txt'))"
   ]
  },
  {
   "cell_type": "code",
   "execution_count": 4,
   "id": "2abd9e41",
   "metadata": {},
   "outputs": [
    {
     "name": "stdout",
     "output_type": "stream",
     "text": [
      "ERROR: ./results-agg-experiment/logs/flights-specialized-run-3-date-201001.txt\n",
      "ERROR: ./results-agg-experiment/logs/flights-general-run-2-date-201001.txt\n",
      "ERROR: ./results-agg-experiment/logs/flights-general-run-3-date-201001.txt\n",
      "ERROR: ./results-agg-experiment/logs/flights-specialized-run-2-date-201001.txt\n",
      "ERROR: ./results-agg-experiment/logs/flights-general-run-1-date-201001.txt\n",
      "ERROR: ./results-agg-experiment/logs/flights-specialized-run-1-date-201001.txt\n"
     ]
    }
   ],
   "source": [
    "rows = []\n",
    "for path in paths:\n",
    "    try:\n",
    "        name = os.path.basename(path)\n",
    "        t = name[:name.find('-run')].replace('flights-', '')\n",
    "        r = int(name[name.find('run-')+4:name.rfind('-date')])\n",
    "\n",
    "        yearmonth = int(name[name.find('date-')+5:].replace('.txt', ''))\n",
    "        year = yearmonth // 100\n",
    "        month = yearmonth % 100\n",
    "        row = {'type' : t, 'run' : r, 'year' : int(year), 'month' : int(month)}\n",
    "\n",
    "        with open(path, 'r') as fp:\n",
    "            lines = fp.readlines()\n",
    "\n",
    "        row.update({'t_' + k : v for k, v in json.loads(lines[-1]).items()})\n",
    "        rows.append(row)\n",
    "    except Exception as e:\n",
    "        print('ERROR: {}'.format(path))\n",
    "df = pd.DataFrame(rows)"
   ]
  },
  {
   "cell_type": "code",
   "execution_count": 5,
   "id": "ee8b7e03",
   "metadata": {},
   "outputs": [],
   "source": [
    "# drop the first run, important because it's loading the file from EBS to RAM\n",
    "df = df[df['run'] != 1]"
   ]
  },
  {
   "cell_type": "code",
   "execution_count": 6,
   "id": "c5948d8a",
   "metadata": {},
   "outputs": [
    {
     "data": {
      "text/html": [
       "<div>\n",
       "<style scoped>\n",
       "    .dataframe tbody tr th:only-of-type {\n",
       "        vertical-align: middle;\n",
       "    }\n",
       "\n",
       "    .dataframe tbody tr th {\n",
       "        vertical-align: top;\n",
       "    }\n",
       "\n",
       "    .dataframe thead th {\n",
       "        text-align: right;\n",
       "    }\n",
       "</style>\n",
       "<table border=\"1\" class=\"dataframe\">\n",
       "  <thead>\n",
       "    <tr style=\"text-align: right;\">\n",
       "      <th></th>\n",
       "      <th>type</th>\n",
       "      <th>year</th>\n",
       "      <th>month</th>\n",
       "      <th>run</th>\n",
       "      <th>t_output</th>\n",
       "      <th>t_preload</th>\n",
       "      <th>t_transform</th>\n",
       "      <th>t_total</th>\n",
       "    </tr>\n",
       "  </thead>\n",
       "  <tbody>\n",
       "    <tr>\n",
       "      <th>0</th>\n",
       "      <td>general</td>\n",
       "      <td>1987</td>\n",
       "      <td>10</td>\n",
       "      <td>2.5</td>\n",
       "      <td>0.001340</td>\n",
       "      <td>2.979575</td>\n",
       "      <td>0.107623</td>\n",
       "      <td>3.088535</td>\n",
       "    </tr>\n",
       "    <tr>\n",
       "      <th>1</th>\n",
       "      <td>specialized</td>\n",
       "      <td>1987</td>\n",
       "      <td>10</td>\n",
       "      <td>2.5</td>\n",
       "      <td>0.001300</td>\n",
       "      <td>2.992310</td>\n",
       "      <td>0.109388</td>\n",
       "      <td>3.102995</td>\n",
       "    </tr>\n",
       "    <tr>\n",
       "      <th>2</th>\n",
       "      <td>general</td>\n",
       "      <td>1987</td>\n",
       "      <td>11</td>\n",
       "      <td>2.5</td>\n",
       "      <td>0.001307</td>\n",
       "      <td>2.811200</td>\n",
       "      <td>0.101381</td>\n",
       "      <td>2.913890</td>\n",
       "    </tr>\n",
       "    <tr>\n",
       "      <th>3</th>\n",
       "      <td>specialized</td>\n",
       "      <td>1987</td>\n",
       "      <td>11</td>\n",
       "      <td>2.5</td>\n",
       "      <td>0.001333</td>\n",
       "      <td>2.821045</td>\n",
       "      <td>0.103637</td>\n",
       "      <td>2.926015</td>\n",
       "    </tr>\n",
       "    <tr>\n",
       "      <th>4</th>\n",
       "      <td>general</td>\n",
       "      <td>1987</td>\n",
       "      <td>12</td>\n",
       "      <td>2.5</td>\n",
       "      <td>0.001331</td>\n",
       "      <td>2.920800</td>\n",
       "      <td>0.104750</td>\n",
       "      <td>3.026880</td>\n",
       "    </tr>\n",
       "  </tbody>\n",
       "</table>\n",
       "</div>"
      ],
      "text/plain": [
       "          type  year  month  run  t_output  t_preload  t_transform   t_total\n",
       "0      general  1987     10  2.5  0.001340   2.979575     0.107623  3.088535\n",
       "1  specialized  1987     10  2.5  0.001300   2.992310     0.109388  3.102995\n",
       "2      general  1987     11  2.5  0.001307   2.811200     0.101381  2.913890\n",
       "3  specialized  1987     11  2.5  0.001333   2.821045     0.103637  2.926015\n",
       "4      general  1987     12  2.5  0.001331   2.920800     0.104750  3.026880"
      ]
     },
     "execution_count": 6,
     "metadata": {},
     "output_type": "execute_result"
    }
   ],
   "source": [
    "gdf = df.groupby(['type', 'year', 'month']).mean().reset_index()\n",
    "gdf = gdf.sort_values(by=['year', 'month', 'type']).reset_index(drop=True)\n",
    "gdf.head()"
   ]
  },
  {
   "cell_type": "code",
   "execution_count": 7,
   "id": "e043b26f",
   "metadata": {},
   "outputs": [
    {
     "data": {
      "text/plain": [
       "818"
      ]
     },
     "execution_count": 7,
     "metadata": {},
     "output_type": "execute_result"
    }
   ],
   "source": [
    "len(gdf)"
   ]
  },
  {
   "cell_type": "code",
   "execution_count": 8,
   "id": "36c16be5",
   "metadata": {},
   "outputs": [
    {
     "data": {
      "text/plain": [
       "(0.0, 200.0)"
      ]
     },
     "execution_count": 8,
     "metadata": {},
     "output_type": "execute_result"
    },
    {
     "data": {
      "image/png": "[encoded data removed]",
      "text/plain": [
       "<Figure size 720x360 with 1 Axes>"
      ]
     },
     "metadata": {
      "needs_background": "light"
     },
     "output_type": "display_data"
    }
   ],
   "source": [
    "gdf_general = gdf.iloc[::2]\n",
    "gdf_special = gdf.iloc[1::2]\n",
    "\n",
    "plt.figure(figsize=(10, 5))\n",
    "plt.grid()\n",
    "plt.ylabel('transform time in ms')\n",
    "plt.xlabel('file')\n",
    "plt.scatter(np.arange(len(gdf_general)), gdf_general['t_transform'] * 1000, marker='x', alpha=.5, label='general')\n",
    "plt.scatter(np.arange(len(gdf_special)), gdf_special['t_transform'] * 1000, marker='o', alpha=.5, label='specialized')\n",
    "plt.legend(loc='best')\n",
    "\n",
    "plt.ylim(0, 200)"
   ]
  },
  {
   "cell_type": "markdown",
   "id": "65b256af",
   "metadata": {},
   "source": [
    "to understand a bit better what's going, let's also plot here the file sizes:"
   ]
  },
  {
   "cell_type": "code",
   "execution_count": 9,
   "id": "5454a05c",
   "metadata": {},
   "outputs": [
    {
     "data": {
      "text/plain": [
       "Text(0.5, 0, 'file')"
      ]
     },
     "execution_count": 9,
     "metadata": {},
     "output_type": "execute_result"
    },
    {
     "data": {
      "image/png": "[encoded data removed]",
      "text/plain": [
       "<Figure size 720x360 with 1 Axes>"
      ]
     },
     "metadata": {
      "needs_background": "light"
     },
     "output_type": "display_data"
    }
   ],
   "source": [
    "with open('flight_data_sizes.tsv', 'r') as fp:\n",
    "    lines = filter(lambda line: len(line.strip()) > 0, fp.readlines())\n",
    "lines = list(map(lambda parts: (int(parts[4]), parts[-1].strip()),\n",
    "             map(lambda line: [x for x in line.split(' ') if len(x) > 0], lines)))\n",
    "\n",
    "sizes = np.array([info[0] for info in lines])\n",
    "sizes_in_mb = sizes / 1024 / 1024\n",
    "\n",
    "plt.figure(figsize=(10, 5))\n",
    "plt.grid()\n",
    "plt.bar(np.arange(len(sizes_in_mb)), sizes_in_mb, width=1.)\n",
    "plt.ylabel('size in MB')\n",
    "plt.xlabel('file')"
   ]
  },
  {
   "cell_type": "markdown",
   "id": "29762c77",
   "metadata": {},
   "source": [
    "Looking at the numbers there's basically no significant difference.\n",
    "\n",
    "(note: for time reasons above numbers are averages of 2 runs only)"
   ]
  },
  {
   "cell_type": "code",
   "execution_count": 10,
   "id": "aa5cbb03",
   "metadata": {},
   "outputs": [
    {
     "data": {
      "text/plain": [
       "(49.57749235, 50.06845855)"
      ]
     },
     "execution_count": 10,
     "metadata": {},
     "output_type": "execute_result"
    }
   ],
   "source": [
    "gdf_general.sum()['t_transform'], gdf_special.sum()['t_transform']"
   ]
  },
  {
   "cell_type": "markdown",
   "id": "3a38423b",
   "metadata": {},
   "source": [
    "---\n",
    "(c) 2017 - 2022 Tuplex authors"
   ]
  }
 ],
 "metadata": {
  "kernelspec": {
   "display_name": "Python 3",
   "language": "python",
   "name": "python3"
  },
  "language_info": {
   "codemirror_mode": {
    "name": "ipython",
    "version": 3
   },
   "file_extension": ".py",
   "mimetype": "text/x-python",
   "name": "python",
   "nbconvert_exporter": "python",
   "pygments_lexer": "ipython3",
   "version": "3.9.10"
  }
 },
 "nbformat": 4,
 "nbformat_minor": 5
}
