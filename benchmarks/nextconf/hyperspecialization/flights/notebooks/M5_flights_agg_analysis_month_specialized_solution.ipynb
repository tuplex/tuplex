{
 "cells": [
  {
   "cell_type": "markdown",
   "id": "a061ca14",
   "metadata": {},
   "source": [
    "## Flights Agg analysis - STLmap and noavx configurations\n",
    "\n",
    "First, let's start with the basics:\n",
    "\n",
    "\n",
    "Setup:\n",
    "- Single `m5.large` instance\n",
    "- everything run single-threaded-\n",
    "- C++ dummy code using csvmonkey parser\n",
    "- run over full flight data (from 1987 - 2021).\n",
    "\n",
    "For time reasons, only analyze 2003 because the change in specialized/general occurs in May 2003"
   ]
  },
  {
   "cell_type": "markdown",
   "id": "cc92e021",
   "metadata": {},
   "source": [
    "So let's crunch the numbers.\n",
    "\n",
    "THESE SHOWN HERE ARE WITH PRELOADING THE CSV TO MEMORY FIRST."
   ]
  },
  {
   "cell_type": "code",
   "execution_count": 1,
   "id": "d43a8132",
   "metadata": {},
   "outputs": [],
   "source": [
    "!tar xf results-agg-experiment-month.tar.gz"
   ]
  },
  {
   "cell_type": "code",
   "execution_count": 2,
   "id": "64552ef2",
   "metadata": {},
   "outputs": [],
   "source": [
    "import numpy as np\n",
    "import matplotlib.pyplot as plt\n",
    "import seaborn as sns\n",
    "import pandas as pd\n",
    "import glob\n",
    "import os\n",
    "import json"
   ]
  },
  {
   "cell_type": "code",
   "execution_count": 3,
   "id": "9bf477c7",
   "metadata": {},
   "outputs": [],
   "source": [
    "def load_to_df(logs_path, name=None, drop_first_run=True):\n",
    "    paths = glob.glob(os.path.join(logs_path, '*.txt'))\n",
    "    rows = []\n",
    "    for path in paths:\n",
    "        try:\n",
    "            name = os.path.basename(path)\n",
    "            t = name[:name.find('-run')].replace('flights-', '')\n",
    "            r = int(name[name.find('run-')+4:name.rfind('-date')])\n",
    "\n",
    "            yearmonth = int(name[name.find('date-')+5:].replace('.txt', ''))\n",
    "            year = yearmonth // 100\n",
    "            month = yearmonth % 100\n",
    "            row = {'type' : t, 'run' : r, 'year' : int(year), 'month' : int(month)}\n",
    "\n",
    "            with open(path, 'r') as fp:\n",
    "                lines = fp.readlines()\n",
    "\n",
    "            row.update({'t_' + k : v for k, v in json.loads(lines[-1]).items()})\n",
    "            rows.append(row)\n",
    "        except Exception as e:\n",
    "            print('ERROR: {}'.format(path))\n",
    "    df = pd.DataFrame(rows)\n",
    "    \n",
    "    if drop_first_run:\n",
    "        # drop the first run, important because it's loading the file from EBS to RAM\n",
    "        df = df[df['run'] != 1]\n",
    "    \n",
    "    if name is not None:\n",
    "        df['name'] = name\n",
    "    return df"
   ]
  },
  {
   "cell_type": "code",
   "execution_count": 4,
   "id": "e05695c0",
   "metadata": {},
   "outputs": [],
   "source": [
    "df = load_to_df('results-agg-experiment-month/logs/', 'month')"
   ]
  },
  {
   "cell_type": "code",
   "execution_count": 5,
   "id": "2abd9e41",
   "metadata": {},
   "outputs": [],
   "source": [
    "gdf = df.groupby(['type', 'year', 'month']).mean().reset_index()\n",
    "gdf = gdf.sort_values(by=['year', 'month', 'type']).reset_index(drop=True)\n",
    "\n",
    "gdf_general = gdf.iloc[::2]\n",
    "gdf_special = gdf.iloc[1::2]"
   ]
  },
  {
   "cell_type": "code",
   "execution_count": 6,
   "id": "ee8b7e03",
   "metadata": {},
   "outputs": [
    {
     "data": {
      "text/html": [
       "<div>\n",
       "<style scoped>\n",
       "    .dataframe tbody tr th:only-of-type {\n",
       "        vertical-align: middle;\n",
       "    }\n",
       "\n",
       "    .dataframe tbody tr th {\n",
       "        vertical-align: top;\n",
       "    }\n",
       "\n",
       "    .dataframe thead th {\n",
       "        text-align: right;\n",
       "    }\n",
       "</style>\n",
       "<table border=\"1\" class=\"dataframe\">\n",
       "  <thead>\n",
       "    <tr style=\"text-align: right;\">\n",
       "      <th></th>\n",
       "      <th>type</th>\n",
       "      <th>year</th>\n",
       "      <th>month</th>\n",
       "      <th>run</th>\n",
       "      <th>t_output</th>\n",
       "      <th>t_transform</th>\n",
       "      <th>t_total</th>\n",
       "    </tr>\n",
       "  </thead>\n",
       "  <tbody>\n",
       "    <tr>\n",
       "      <th>0</th>\n",
       "      <td>general</td>\n",
       "      <td>2003</td>\n",
       "      <td>4</td>\n",
       "      <td>6.5</td>\n",
       "      <td>0.000105</td>\n",
       "      <td>1.061554</td>\n",
       "      <td>1.061660</td>\n",
       "    </tr>\n",
       "    <tr>\n",
       "      <th>1</th>\n",
       "      <td>specialized</td>\n",
       "      <td>2003</td>\n",
       "      <td>4</td>\n",
       "      <td>6.5</td>\n",
       "      <td>0.000291</td>\n",
       "      <td>1.014464</td>\n",
       "      <td>1.014752</td>\n",
       "    </tr>\n",
       "  </tbody>\n",
       "</table>\n",
       "</div>"
      ],
      "text/plain": [
       "          type  year  month  run  t_output  t_transform   t_total\n",
       "0      general  2003      4  6.5  0.000105     1.061554  1.061660\n",
       "1  specialized  2003      4  6.5  0.000291     1.014464  1.014752"
      ]
     },
     "execution_count": 6,
     "metadata": {},
     "output_type": "execute_result"
    }
   ],
   "source": [
    "gdf"
   ]
  },
  {
   "cell_type": "markdown",
   "id": "29762c77",
   "metadata": {},
   "source": [
    "Looking at the numbers there's basically no significant difference.\n",
    "\n",
    "(note: for time reasons above numbers are averages of 2 runs only)"
   ]
  },
  {
   "cell_type": "code",
   "execution_count": 7,
   "id": "aa5cbb03",
   "metadata": {},
   "outputs": [
    {
     "name": "stdout",
     "output_type": "stream",
     "text": [
      "specialized month vs. rest:\n",
      "---\n",
      "specialized:\t10.14s\n",
      "general:\t10.62s\n",
      "speedup:\t1.05x\n",
      "\n"
     ]
    }
   ],
   "source": [
    "# how much faster is specialized total vs. rest? \n",
    "\n",
    "def calc_speedup(df):\n",
    "    \n",
    "    # calculate mean speedup!\n",
    "    \n",
    "    \n",
    "    g_t = df[df['type'] == 'general']['t_transform'].sum()\n",
    "    s_t  = df[df['type'] == 'specialized']['t_transform'].sum()\n",
    "    \n",
    "    return 'specialized:\\t{:.2f}s\\ngeneral:\\t{:.2f}s\\nspeedup:\\t{:.2f}x'.format(s_t, g_t, g_t / s_t)\n",
    "\n",
    "print('specialized month vs. rest:\\n---\\n{}'.format(calc_speedup(df)))\n",
    "print()"
   ]
  },
  {
   "cell_type": "markdown",
   "id": "3a38423b",
   "metadata": {},
   "source": [
    "---\n",
    "(c) 2017 - 2022 Tuplex authors"
   ]
  }
 ],
 "metadata": {
  "kernelspec": {
   "display_name": "Python 3",
   "language": "python",
   "name": "python3"
  },
  "language_info": {
   "codemirror_mode": {
    "name": "ipython",
    "version": 3
   },
   "file_extension": ".py",
   "mimetype": "text/x-python",
   "name": "python",
   "nbconvert_exporter": "python",
   "pygments_lexer": "ipython3",
   "version": "3.9.10"
  }
 },
 "nbformat": 4,
 "nbformat_minor": 5
}
