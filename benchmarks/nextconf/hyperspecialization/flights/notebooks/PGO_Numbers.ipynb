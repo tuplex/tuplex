{
 "cells": [
  {
   "cell_type": "code",
   "execution_count": 1,
   "id": "798e4b78",
   "metadata": {},
   "outputs": [],
   "source": [
    "import re\n",
    "import numpy as np\n",
    "import pandas as pd"
   ]
  },
  {
   "cell_type": "code",
   "execution_count": 2,
   "id": "44482c48",
   "metadata": {},
   "outputs": [],
   "source": [
    "path = '../pgo-log-bbsn00.txt'"
   ]
  },
  {
   "cell_type": "code",
   "execution_count": 3,
   "id": "25ef3c3f",
   "metadata": {},
   "outputs": [],
   "source": [
    "with open(path, 'r') as fp:\n",
    "    lines = fp.readlines()"
   ]
  },
  {
   "cell_type": "code",
   "execution_count": 7,
   "id": "57570a53",
   "metadata": {},
   "outputs": [],
   "source": [
    "timings = list(filter(lambda line: line.startswith('real'), lines))"
   ]
  },
  {
   "cell_type": "code",
   "execution_count": 16,
   "id": "665d9d0d",
   "metadata": {},
   "outputs": [],
   "source": [
    "# exclude first which is generating the profile runner.\n",
    "timings = timings[1:]\n",
    "ts = [60.0 + float(t.strip().replace('real\\t1m', '').replace('s', '')) for t in timings]"
   ]
  },
  {
   "cell_type": "code",
   "execution_count": 19,
   "id": "b04f3022",
   "metadata": {},
   "outputs": [
    {
     "data": {
      "text/plain": [
       "(87.125, 103.906)"
      ]
     },
     "execution_count": 19,
     "metadata": {},
     "output_type": "execute_result"
    }
   ],
   "source": [
    "min(ts), max(ts)"
   ]
  },
  {
   "cell_type": "code",
   "execution_count": 21,
   "id": "1d893d64",
   "metadata": {},
   "outputs": [
    {
     "data": {
      "text/plain": [
       "89.45500000000001"
      ]
     },
     "execution_count": 21,
     "metadata": {},
     "output_type": "execute_result"
    }
   ],
   "source": [
    "np.array(ts).mean()"
   ]
  },
  {
   "cell_type": "code",
   "execution_count": 22,
   "id": "b4908a81",
   "metadata": {},
   "outputs": [
    {
     "data": {
      "text/plain": [
       "5.463659396411897"
      ]
     },
     "execution_count": 22,
     "metadata": {},
     "output_type": "execute_result"
    }
   ],
   "source": [
    "np.array(ts).std()"
   ]
  },
  {
   "cell_type": "code",
   "execution_count": null,
   "id": "90e49772",
   "metadata": {},
   "outputs": [],
   "source": []
  },
  {
   "cell_type": "code",
   "execution_count": null,
   "id": "a5453786",
   "metadata": {},
   "outputs": [],
   "source": []
  },
  {
   "cell_type": "code",
   "execution_count": null,
   "id": "1ced07b0",
   "metadata": {},
   "outputs": [],
   "source": []
  }
 ],
 "metadata": {
  "kernelspec": {
   "display_name": "Python 3",
   "language": "python",
   "name": "python3"
  },
  "language_info": {
   "codemirror_mode": {
    "name": "ipython",
    "version": 3
   },
   "file_extension": ".py",
   "mimetype": "text/x-python",
   "name": "python",
   "nbconvert_exporter": "python",
   "pygments_lexer": "ipython3",
   "version": "3.9.10"
  }
 },
 "nbformat": 4,
 "nbformat_minor": 5
}
