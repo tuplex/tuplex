{
 "cells": [
  {
   "cell_type": "code",
   "execution_count": 1,
   "id": "b68545b2",
   "metadata": {},
   "outputs": [],
   "source": [
    "import numpy as np"
   ]
  },
  {
   "cell_type": "code",
   "execution_count": 17,
   "id": "8a22a9e1",
   "metadata": {},
   "outputs": [],
   "source": [
    "n = 13\n",
    "\n",
    "# randomly generate mu\n",
    "# randomly generate sigma\n",
    "\n",
    "mu = np.random.normal(0, scale=20.0, size=n)\n",
    "\n",
    "std = np.sqrt(np.random.normal(0, scale=10.0, size=n)**2)"
   ]
  },
  {
   "cell_type": "code",
   "execution_count": 19,
   "id": "f47ddf82",
   "metadata": {},
   "outputs": [
    {
     "data": {
      "text/plain": [
       "(array([ 10.34020663,  -5.32110325, -23.76501655,  -9.9471319 ,\n",
       "         11.08306402,  28.44419468,  34.33795322,  -3.5271869 ,\n",
       "         14.31617576,  -2.37601258,   3.10218378,  31.74930251,\n",
       "         30.65958678]),\n",
       " array([ 6.14500234, 15.43086255,  3.95305606,  8.95857769,  5.82440163,\n",
       "        10.0310225 ,  8.20700403,  8.16668611,  3.34533295,  9.30209542,\n",
       "         7.54420077,  0.17705991, 13.322939  ]))"
      ]
     },
     "execution_count": 19,
     "metadata": {},
     "output_type": "execute_result"
    }
   ],
   "source": [
    "mu, std"
   ]
  },
  {
   "cell_type": "code",
   "execution_count": 37,
   "id": "d3efac3f",
   "metadata": {},
   "outputs": [
    {
     "name": "stdout",
     "output_type": "stream",
     "text": [
      "normalized_f = [(f[0] - mu[0]) / std[0], (f[1] - mu[1]) / std[1], (f[2] - mu[2]) / std[2], (f[3] - mu[3]) / std[3], (f[4] - mu[4]) / std[4], (f[5] - mu[5]) / std[5], (f[6] - mu[6]) / std[6], (f[7] - mu[7]) / std[7], (f[8] - mu[8]) / std[8], (f[9] - mu[9]) / std[9], (f[10] - mu[10]) / std[10], (f[11] - mu[11]) / std[11], (f[12] - mu[12]) / std[12]]\n",
      "\n",
      "normalized_t_carrier_delay = normalized_f[0] * 1.12 + normalized_f[1] * 4.49 + normalized_f[2] * 3.42 + normalized_f[3] * 4.28 + normalized_f[4] * 0.81 + normalized_f[5] * 5.13 + normalized_f[6] * 5.26 + normalized_f[7] * -0.07 + normalized_f[8] * -1.39 + normalized_f[9] * 2.74 + normalized_f[10] * -2.93 + normalized_f[11] * 4.81 + normalized_f[12] * 4.36\n",
      "t_carrier_delay = normalized_t_carrier_delay * 4.06 + 1.48\n",
      "\n",
      "normalized_t_weather_delay = normalized_f[0] * 1.84 + normalized_f[1] * -1.92 + normalized_f[2] * 2.59 + normalized_f[3] * -1.49 + normalized_f[4] * 9.29 + normalized_f[5] * 7.88 + normalized_f[6] * 1.11 + normalized_f[7] * 3.87 + normalized_f[8] * 0.57 + normalized_f[9] * 4.32 + normalized_f[10] * 7.65 + normalized_f[11] * -4.69 + normalized_f[12] * 0.07\n",
      "t_weather_delay = normalized_t_weather_delay * -5.07 + 5.95\n",
      "\n",
      "normalized_t_nas_delay = normalized_f[0] * -3.33 + normalized_f[1] * 9.12 + normalized_f[2] * 2.64 + normalized_f[3] * 0.05 + normalized_f[4] * 2.51 + normalized_f[5] * -3.30 + normalized_f[6] * -1.44 + normalized_f[7] * -2.38 + normalized_f[8] * 6.60 + normalized_f[9] * 2.86 + normalized_f[10] * 2.74 + normalized_f[11] * 3.00 + normalized_f[12] * 2.61\n",
      "t_nas_delay = normalized_t_nas_delay * 5.90 + 5.87\n",
      "\n",
      "normalized_t_security_delay = normalized_f[0] * 4.25 + normalized_f[1] * -0.68 + normalized_f[2] * 3.40 + normalized_f[3] * 5.63 + normalized_f[4] * 3.57 + normalized_f[5] * 3.19 + normalized_f[6] * 2.90 + normalized_f[7] * 1.43 + normalized_f[8] * 3.86 + normalized_f[9] * 4.24 + normalized_f[10] * 10.60 + normalized_f[11] * 0.84 + normalized_f[12] * 2.97\n",
      "t_security_delay = normalized_t_security_delay * 0.11 + 8.68\n",
      "\n",
      "normalized_t_late_aircraft_delay = normalized_f[0] * 2.89 + normalized_f[1] * -1.12 + normalized_f[2] * 1.52 + normalized_f[3] * 3.10 + normalized_f[4] * 4.74 + normalized_f[5] * -0.97 + normalized_f[6] * 1.47 + normalized_f[7] * 8.53 + normalized_f[8] * 0.63 + normalized_f[9] * 6.67 + normalized_f[10] * 4.44 + normalized_f[11] * 3.12 + normalized_f[12] * 2.92\n",
      "t_late_aircraft_delay = normalized_t_late_aircraft_delay * -4.50 + 1.04\n",
      "\n"
     ]
    }
   ],
   "source": [
    "# generate code\n",
    "\n",
    "s = 'normalized_f = [{}]\\n'.format(', '.join([f'(f[{i}] - mu[{i}]) / std[{i}]' for i in range(n)]))\n",
    "\n",
    "\n",
    "target_var_names = [\"t_carrier_delay\",\n",
    "            \"t_weather_delay\",\n",
    "            \"t_nas_delay\",\n",
    "            \"t_security_delay\",\n",
    "            \"t_late_aircraft_delay\"]\n",
    "\n",
    "# generate some random variables to create \"linear\" model to predict\n",
    "for name in target_var_names:\n",
    "    s += '\\n'\n",
    "    lm = ' + '.join([f'normalized_f[{i}] * {val:.2f}' for i, val in zip(range(n), np.random.normal(loc=2, scale=3, size=n))])\n",
    "    s += 'normalized_{} = {}\\n'.format(name, lm)\n",
    "    s += '{} = {}\\n'.format(name,  'normalized_{} * {:.2f} + {:.2f}'.format(name,\n",
    "                                                                    10.0 * np.random.normal(),\n",
    "                                                                    5.0 * abs(np.random.normal())))\n",
    "print(s)"
   ]
  },
  {
   "cell_type": "code",
   "execution_count": 23,
   "id": "af6937ff",
   "metadata": {},
   "outputs": [
    {
     "data": {
      "text/plain": [
       "'(f[1] - mu[1]) / std[1]'"
      ]
     },
     "execution_count": 23,
     "metadata": {},
     "output_type": "execute_result"
    }
   ],
   "source": [
    "i= 1\n"
   ]
  },
  {
   "cell_type": "code",
   "execution_count": 25,
   "id": "b63d5921",
   "metadata": {},
   "outputs": [],
   "source": [
    "f = np.random.normal(0, scale=20.0, size=n)"
   ]
  },
  {
   "cell_type": "code",
   "execution_count": 26,
   "id": "b1005045",
   "metadata": {},
   "outputs": [],
   "source": [
    "normalized_f = [(f[0] - mu[0]) / std[0], (f[1] - mu[1]) / std[1], (f[2] - mu[2]) / std[2], (f[3] - mu[3]) / std[3], (f[4] - mu[4]) / std[4], (f[5] - mu[5]) / std[5], (f[6] - mu[6]) / std[6], (f[7] - mu[7]) / std[7], (f[8] - mu[8]) / std[8], (f[9] - mu[9]) / std[9], (f[10] - mu[10]) / std[10], (f[11] - mu[11]) / std[11], (f[12] - mu[12]) / std[12]]"
   ]
  },
  {
   "cell_type": "code",
   "execution_count": 27,
   "id": "911319f7",
   "metadata": {},
   "outputs": [
    {
     "data": {
      "text/plain": [
       "[-0.023880441138122654,\n",
       " 0.09221761273088569,\n",
       " 6.1047679636474,\n",
       " 1.4632219848547927,\n",
       " 1.9422300088513167,\n",
       " -9.623320555685202,\n",
       " 2.1705638973482544,\n",
       " -2.9436940670477414,\n",
       " -11.434306051184459,\n",
       " 0.5254869136648129,\n",
       " 1.648711325974819,\n",
       " -246.56034148045887,\n",
       " -0.6148549004322564]"
      ]
     },
     "execution_count": 27,
     "metadata": {},
     "output_type": "execute_result"
    }
   ],
   "source": [
    "normalized_f"
   ]
  },
  {
   "cell_type": "code",
   "execution_count": 38,
   "id": "cac2b102",
   "metadata": {},
   "outputs": [
    {
     "data": {
      "text/plain": [
       "119.09621619546128"
      ]
     },
     "execution_count": 38,
     "metadata": {},
     "output_type": "execute_result"
    }
   ],
   "source": [
    "mu.sum()"
   ]
  },
  {
   "cell_type": "code",
   "execution_count": 43,
   "id": "d84a217a",
   "metadata": {},
   "outputs": [],
   "source": [
    "x = abs(np.random.normal(size=5))"
   ]
  },
  {
   "cell_type": "code",
   "execution_count": 44,
   "id": "ba49174b",
   "metadata": {},
   "outputs": [
    {
     "data": {
      "text/plain": [
       "array([0.50078111, 0.78645001, 0.39839926, 1.29654005, 0.87113178])"
      ]
     },
     "execution_count": 44,
     "metadata": {},
     "output_type": "execute_result"
    }
   ],
   "source": [
    "x"
   ]
  },
  {
   "cell_type": "code",
   "execution_count": 49,
   "id": "698f9662",
   "metadata": {},
   "outputs": [],
   "source": [
    "y = (x  / x.sum()) * 5"
   ]
  },
  {
   "cell_type": "code",
   "execution_count": 50,
   "id": "4675b62c",
   "metadata": {},
   "outputs": [
    {
     "data": {
      "text/plain": [
       "array([0.64980773, 1.02048836, 0.51695823, 1.68237525, 1.13037044])"
      ]
     },
     "execution_count": 50,
     "metadata": {},
     "output_type": "execute_result"
    }
   ],
   "source": [
    "y"
   ]
  },
  {
   "cell_type": "code",
   "execution_count": 51,
   "id": "43d3c753",
   "metadata": {},
   "outputs": [
    {
     "data": {
      "text/plain": [
       "5.0"
      ]
     },
     "execution_count": 51,
     "metadata": {},
     "output_type": "execute_result"
    }
   ],
   "source": [
    "y.sum()"
   ]
  },
  {
   "cell_type": "code",
   "execution_count": null,
   "id": "c2fd64a8",
   "metadata": {},
   "outputs": [],
   "source": [
    " 5 / s_factor"
   ]
  }
 ],
 "metadata": {
  "kernelspec": {
   "display_name": "Python 3 (ipykernel)",
   "language": "python",
   "name": "python3"
  },
  "language_info": {
   "codemirror_mode": {
    "name": "ipython",
    "version": 3
   },
   "file_extension": ".py",
   "mimetype": "text/x-python",
   "name": "python",
   "nbconvert_exporter": "python",
   "pygments_lexer": "ipython3",
   "version": "3.10.6"
  }
 },
 "nbformat": 4,
 "nbformat_minor": 5
}
