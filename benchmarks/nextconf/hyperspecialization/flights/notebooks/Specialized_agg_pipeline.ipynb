{
 "cells": [
  {
   "cell_type": "code",
   "execution_count": null,
   "metadata": {},
   "outputs": [],
   "source": [
    "import tuplex"
   ]
  },
  {
   "cell_type": "code",
   "execution_count": null,
   "metadata": {},
   "outputs": [],
   "source": [
    "import pandas as pd\n",
    "import os"
   ]
  },
  {
   "cell_type": "code",
   "execution_count": null,
   "metadata": {},
   "outputs": [],
   "source": [
    "null_based_file = \"/Users/leonhards/Downloads/flights/flights_on_time_performance_2013_01.csv\""
   ]
  },
  {
   "cell_type": "code",
   "execution_count": null,
   "metadata": {},
   "outputs": [],
   "source": [
    "df = pd.read_csv(null_based_file)"
   ]
  },
  {
   "cell_type": "code",
   "execution_count": null,
   "metadata": {},
   "outputs": [],
   "source": [
    "df['WEATHER_DELAY'].value_counts(dropna=False)"
   ]
  },
  {
   "cell_type": "code",
   "execution_count": null,
   "metadata": {},
   "outputs": [],
   "source": [
    "421309 / len(df) * 100.0"
   ]
  },
  {
   "cell_type": "code",
   "execution_count": null,
   "metadata": {},
   "outputs": [],
   "source": [
    "# so 82% of all values are null and need value imputation"
   ]
  },
  {
   "cell_type": "code",
   "execution_count": null,
   "metadata": {},
   "outputs": [],
   "source": [
    "# is weather delay related to overall delay?"
   ]
  },
  {
   "cell_type": "code",
   "execution_count": null,
   "metadata": {},
   "outputs": [],
   "source": [
    "# weather delay should be ONLY imputed if flight is not on time.\n",
    "# cf. https://www.bts.gov/topics/airlines-and-airports/understanding-reporting-causes-flight-delays-and-cancellations#q8\n",
    "\n",
    "# i.e. before 2003/06 the data is missing."
   ]
  },
  {
   "cell_type": "code",
   "execution_count": null,
   "metadata": {},
   "outputs": [],
   "source": [
    "list(df.columns)"
   ]
  },
  {
   "cell_type": "code",
   "execution_count": null,
   "metadata": {},
   "outputs": [],
   "source": [
    "df['ARR_DELAY_NEW']"
   ]
  },
  {
   "cell_type": "code",
   "execution_count": null,
   "metadata": {},
   "outputs": [],
   "source": [
    "delay_cols = sorted([c for c in df.columns if 'DELAY' in c])\n",
    "df[df['ARR_DELAY'] < 0.].iloc[:2][delay_cols]"
   ]
  },
  {
   "cell_type": "code",
   "execution_count": null,
   "metadata": {},
   "outputs": [],
   "source": [
    "df[~df['DIV_ARR_DELAY'].isna()][delay_cols]"
   ]
  },
  {
   "cell_type": "code",
   "execution_count": null,
   "metadata": {},
   "outputs": [],
   "source": [
    "# ok, so here's the logic:\n",
    "\n",
    "def fill_in_delays(row):\n",
    "    # want to fill in data for missing carrier_delay, weather delay etc.\n",
    "    # only need to do that prior to 2003/06\n",
    "    \n",
    "    year = row['YEAR']\n",
    "    month = row['MONTH']\n",
    "    arr_delay = row['ARR_DELAY']\n",
    "    \n",
    "    if year == 2003 and month < 6 or year < 2003:\n",
    "        # fill in delay breakdown using model and complex logic\n",
    "        if arr_delay < 0.:\n",
    "            # stays None, because flight arrived early\n",
    "            # if diverted though, need to add everything to div_arr_delay\n",
    "            return {'year' : year, 'month' : month,\n",
    "                    'day' : row['DAY_OF_MONTH'],\n",
    "                    'carrier': row['OP_UNIQUE_CARRIER'],\n",
    "                    'flightno' : row['OP_CARRIER_FL_NUM'],\n",
    "                    'origin': row['ORIGIN_AIRPORT_ID'],\n",
    "                    'dest': row['DEST_AIRPORT_ID'],\n",
    "                    'distance' : row['DISTANCE'],\n",
    "                    'dep_delay' : row['DEP_DELAY'],\n",
    "                    'arr_delay': row['ARR_DELAY'],\n",
    "                    'carrier_delay' : None,\n",
    "                    'weather_delay': None,\n",
    "                    'nas_delay' : None,\n",
    "                    'security_delay': None,\n",
    "                    'late_aircraft_delay' : None}\n",
    "        elif arr_delay < 5.:\n",
    "            # it's an ontime flight, just attribute any delay to the carrier\n",
    "            carrier_delay = arr_delay\n",
    "            # set the rest to 0\n",
    "            # ....\n",
    "            return {'year' : year, 'month' : month,\n",
    "                    'day' : row['DAY_OF_MONTH'],\n",
    "                    'carrier': row['OP_UNIQUE_CARRIER'],\n",
    "                    'flightno' : row['OP_CARRIER_FL_NUM'],\n",
    "                    'origin': row['ORIGIN_AIRPORT_ID'],\n",
    "                    'dest': row['DEST_AIRPORT_ID'],\n",
    "                    'distance' : row['DISTANCE'],\n",
    "                    'dep_delay' : row['DEP_DELAY'],\n",
    "                    'arr_delay': row['ARR_DELAY'],\n",
    "                    'carrier_delay' : carrier_delay,\n",
    "                    'weather_delay': None,\n",
    "                    'nas_delay' : None,\n",
    "                    'security_delay': None,\n",
    "                    'late_aircraft_delay' : None}\n",
    "        else:\n",
    "            # use model to determine everything and set into (join with weather data?)\n",
    "            # i.e., extract here a couple additional columns & use them for features etc.!\n",
    "            crs_dep_time = row['CRS_DEP_TIME']\n",
    "            crs_elapsed_time = row['CRS_ELAPSED_TIME']\n",
    "            carrier_delay = 1024\n",
    "            weather_delay = 2000\n",
    "            nas_delay = 3600\n",
    "            security_delay = 7200\n",
    "            late_aircraft_delay = 20\n",
    "            return {'year' : year, 'month' : month,\n",
    "                    'day' : row['DAY_OF_MONTH'],\n",
    "                    'carrier': row['OP_UNIQUE_CARRIER'],\n",
    "                    'flightno' : row['OP_CARRIER_FL_NUM'],\n",
    "                    'origin': row['ORIGIN_AIRPORT_ID'],\n",
    "                    'dest': row['DEST_AIRPORT_ID'],\n",
    "                    'distance' : row['DISTANCE'],\n",
    "                    'dep_delay' : row['DEP_DELAY'],\n",
    "                    'arr_delay': row['ARR_DELAY'],\n",
    "                    'carrier_delay' : carrier_delay,\n",
    "                    'weather_delay': weather_delay,\n",
    "                    'nas_delay' : nas_delay,\n",
    "                    'security_delay': security_delay,\n",
    "                    'late_aircraft_delay' : late_aircraft_delay}\n",
    "    else:\n",
    "        # just return it as is\n",
    "        return {'year' : year, 'month' : month,\n",
    "                'day' : row['DAY_OF_MONTH'],\n",
    "                'carrier': row['OP_UNIQUE_CARRIER'],\n",
    "                'flightno' : row['OP_CARRIER_FL_NUM'],\n",
    "                'origin': row['ORIGIN_AIRPORT_ID'],\n",
    "                'dest': row['DEST_AIRPORT_ID'],\n",
    "                'distance' : row['DISTANCE'],\n",
    "                'dep_delay' : row['DEP_DELAY'],\n",
    "                'arr_delay': row['ARR_DELAY'],\n",
    "                'carrier_delay' : row['CARRIER_DELAY'],\n",
    "                'weather_delay':row['WEATHER_DELAY'],\n",
    "                'nas_delay' : row['NAS_DELAY'],\n",
    "                'security_delay': row['SECURITY_DELAY'],\n",
    "                'late_aircraft_delay' : row['LATE_AIRCRAFT_DELAY']}\n",
    "   \n",
    "    # then aggregate them with replacing NULLs with 0s?\n",
    "# exclude diverted/cancelled flights (!!!)\n",
    "filter(!diverted and !cancelled)\n",
    "filter(arr_delay > 0)"
   ]
  },
  {
   "cell_type": "code",
   "execution_count": null,
   "metadata": {},
   "outputs": [],
   "source": []
  },
  {
   "cell_type": "code",
   "execution_count": null,
   "metadata": {},
   "outputs": [],
   "source": [
    "# Train quickly a linear model to fill in data!\n",
    "\n",
    "# fetch traindata!\n"
   ]
  },
  {
   "cell_type": "code",
   "execution_count": 3,
   "metadata": {},
   "outputs": [],
   "source": [
    "import pandas as pd\n",
    "import os\n",
    "import glob\n",
    "import sklearn\n",
    "import time"
   ]
  },
  {
   "cell_type": "code",
   "execution_count": null,
   "metadata": {
    "scrolled": true
   },
   "outputs": [
    {
     "name": "stdout",
     "output_type": "stream",
     "text": [
      "loading flights_on_time_performance_2003_01.csv\n",
      "loaded 0 rows in 19.59s\n",
      "loading flights_on_time_performance_2004_01.csv\n",
      "loaded 128236 rows in 17.93s\n",
      "loading flights_on_time_performance_2005_01.csv\n",
      "loaded 143316 rows in 18.85s\n",
      "loading flights_on_time_performance_2006_01.csv\n",
      "loaded 112299 rows in 19.34s\n",
      "loading flights_on_time_performance_2007_01.csv\n",
      "loaded 150144 rows in 21.19s\n",
      "loading flights_on_time_performance_2008_01.csv\n",
      "loaded 148807 rows in 21.32s\n",
      "loading flights_on_time_performance_2009_01.csv\n",
      "loaded 108656 rows in 19.80s\n",
      "loading flights_on_time_performance_2010_01.csv\n",
      "loaded 96928 rows in 6.86s\n",
      "loading flights_on_time_performance_2011_01.csv\n",
      "loaded 97078 rows in 19.78s\n",
      "loading flights_on_time_performance_2012_01.csv\n",
      "loaded 70908 rows in 19.63s\n",
      "loading flights_on_time_performance_2013_01.csv\n",
      "loaded 88210 rows in 20.95s\n",
      "loading flights_on_time_performance_2014_01.csv\n",
      "loaded 119994 rows in 20.79s\n",
      "loading flights_on_time_performance_2015_01.csv\n",
      "loaded 95951 rows in 21.68s\n",
      "loading flights_on_time_performance_2016_01.csv\n",
      "loaded 70882 rows in 20.49s\n",
      "loading flights_on_time_performance_2017_01.csv\n",
      "loaded 97699 rows in 20.97s\n",
      "loading flights_on_time_performance_2018_01.csv\n",
      "loaded 97760 rows in 24.90s\n",
      "loading flights_on_time_performance_2019_01.csv\n",
      "loaded 105222 rows in 26.11s\n",
      "loading flights_on_time_performance_2020_01.csv\n",
      "loaded 82285 rows in 26.70s\n",
      "loading flights_on_time_performance_2003_02.csv\n",
      "loaded 0 rows in 23.26s\n",
      "loading flights_on_time_performance_2004_02.csv\n",
      "loaded 114517 rows in 24.89s\n",
      "loading flights_on_time_performance_2005_02.csv\n",
      "loaded 111897 rows in 25.46s\n",
      "loading flights_on_time_performance_2006_02.csv\n",
      "loaded 118610 rows in 25.57s\n",
      "loading flights_on_time_performance_2007_02.csv\n",
      "loaded 158435 rows in 27.32s\n",
      "loading flights_on_time_performance_2008_02.csv\n",
      "loaded 156237 rows in 28.47s\n",
      "loading flights_on_time_performance_2009_02.csv\n",
      "loaded 78087 rows in 28.02s\n",
      "loading flights_on_time_performance_2010_02.csv\n",
      "loaded 95021 rows in 28.50s\n",
      "loading flights_on_time_performance_2011_02.csv\n",
      "loaded 92709 rows in 28.58s\n",
      "loading flights_on_time_performance_2012_02.csv\n",
      "loaded 58987 rows in 29.15s\n",
      "loading flights_on_time_performance_2013_02.csv\n",
      "loaded 83565 rows in 29.49s\n",
      "loading flights_on_time_performance_2014_02.csv\n",
      "loaded 101440 rows in 28.89s\n",
      "loading flights_on_time_performance_2015_02.csv\n",
      "loaded 95179 rows in 29.34s\n",
      "loading flights_on_time_performance_2016_02.csv\n",
      "loaded 61680 rows in 29.38s\n",
      "loading flights_on_time_performance_2017_02.csv\n",
      "loaded 64264 rows in 29.20s\n",
      "loading flights_on_time_performance_2018_02.csv\n",
      "loaded 97291 rows in 32.82s\n",
      "loading flights_on_time_performance_2019_02.csv\n",
      "loaded 119477 rows in 34.24s\n",
      "loading flights_on_time_performance_2020_02.csv\n",
      "loaded 84616 rows in 35.49s\n",
      "loading flights_on_time_performance_2003_03.csv\n",
      "loaded 0 rows in 34.03s\n",
      "loading flights_on_time_performance_2004_03.csv\n",
      "loaded 104031 rows in 36.20s\n",
      "loading flights_on_time_performance_2005_03.csv\n",
      "loaded 131384 rows in 37.35s\n",
      "loading flights_on_time_performance_2006_03.csv\n",
      "loaded 135897 rows in 38.32s\n",
      "loading flights_on_time_performance_2007_03.csv\n",
      "loaded 152689 rows in 39.93s\n",
      "loading flights_on_time_performance_2008_03.csv\n",
      "loaded 157370 rows in 40.35s\n",
      "loading flights_on_time_performance_2009_03.csv\n",
      "loaded 107408 rows in 39.62s\n",
      "loading flights_on_time_performance_2010_03.csv\n",
      "loaded 100534 rows in 39.64s\n",
      "loading flights_on_time_performance_2011_03.csv\n",
      "loaded 101542 rows in 39.74s\n",
      "loading flights_on_time_performance_2012_03.csv\n",
      "loaded 86476 rows in 39.94s\n",
      "loading flights_on_time_performance_2013_03.csv\n",
      "loaded 101743 rows in 41.45s\n",
      "loading flights_on_time_performance_2014_03.csv\n",
      "loaded 102297 rows in 40.87s\n",
      "loading flights_on_time_performance_2015_03.csv\n",
      "loaded 95452 rows in 41.23s\n",
      "loading flights_on_time_performance_2016_03.csv\n",
      "loaded 82569 rows in 41.16s\n",
      "loading flights_on_time_performance_2017_03.csv\n",
      "loaded 88638 rows in 41.24s\n",
      "loading flights_on_time_performance_2018_03.csv\n",
      "loaded 98744 rows in 45.62s\n",
      "loading flights_on_time_performance_2019_03.csv\n",
      "loaded 106277 rows in 46.75s\n",
      "loading flights_on_time_performance_2020_03.csv\n",
      "loaded 53720 rows in 47.08s\n",
      "loading flights_on_time_performance_2003_04.csv\n",
      "loaded 0 rows in 42.35s\n",
      "loading flights_on_time_performance_2004_04.csv\n",
      "loaded 93754 rows in 44.82s\n",
      "loading flights_on_time_performance_2005_04.csv\n",
      "loaded 90137 rows in 45.88s\n",
      "loading flights_on_time_performance_2006_04.csv\n",
      "loaded 118715 rows in 46.62s\n",
      "loading flights_on_time_performance_2007_04.csv\n",
      "loaded 136991 rows in 48.00s\n",
      "loading flights_on_time_performance_2008_04.csv\n",
      "loaded 122169 rows in 48.19s\n",
      "loading flights_on_time_performance_2009_04.csv\n",
      "loaded 102681 rows in 47.14s\n",
      "loading flights_on_time_performance_2010_04.csv\n",
      "loaded 73184 rows in 47.17s\n",
      "loading flights_on_time_performance_2011_04.csv\n",
      "loaded 112528 rows in 47.24s\n",
      "loading flights_on_time_performance_2012_04.csv\n",
      "loaded 63639 rows in 47.82s\n",
      "loading flights_on_time_performance_2013_04.csv\n",
      "loaded 111306 rows in 49.16s\n",
      "loading flights_on_time_performance_2014_04.csv\n",
      "loaded 91806 rows in 48.12s\n",
      "loading flights_on_time_performance_2015_04.csv\n",
      "loaded 82247 rows in 48.48s\n",
      "loading flights_on_time_performance_2016_04.csv\n",
      "loaded 66607 rows in 48.05s\n",
      "loading flights_on_time_performance_2017_04.csv\n",
      "loaded 92143 rows in 48.82s\n",
      "loading flights_on_time_performance_2018_04.csv\n",
      "loaded 103805 rows in 53.02s\n",
      "loading flights_on_time_performance_2019_04.csv\n",
      "loaded 108518 rows in 54.14s\n",
      "loading flights_on_time_performance_2020_04.csv\n",
      "loaded 9038 rows in 44.72s\n",
      "loading flights_on_time_performance_2003_05.csv\n",
      "loaded 0 rows in 50.61s\n",
      "loading flights_on_time_performance_2004_05.csv\n",
      "loaded 121019 rows in 53.58s\n",
      "loading flights_on_time_performance_2005_05.csv\n",
      "loaded 93619 rows in 54.67s\n",
      "loading flights_on_time_performance_2006_05.csv\n",
      "loaded 122693 rows in 55.97s\n",
      "loading flights_on_time_performance_2007_05.csv\n",
      "loaded 131298 rows in 56.67s\n",
      "loading flights_on_time_performance_2008_05.csv\n",
      "loaded 120126 rows in 56.66s\n",
      "loading flights_on_time_performance_2009_05.csv\n",
      "loaded 100688 rows in 55.84s\n",
      "loading flights_on_time_performance_2010_05.csv\n",
      "loaded 100683 rows in 56.58s\n",
      "loading flights_on_time_performance_2011_05.csv\n",
      "loaded 107145 rows in 56.25s\n",
      "loading flights_on_time_performance_2012_05.csv\n",
      "loaded 80453 rows in 57.34s\n",
      "loading flights_on_time_performance_2013_05.csv\n",
      "loaded 105278 rows in 58.13s\n",
      "loading flights_on_time_performance_2014_05.csv\n",
      "loaded 104145 rows in 57.39s\n",
      "loading flights_on_time_performance_2015_05.csv\n",
      "loaded 89645 rows in 57.61s\n",
      "loading flights_on_time_performance_2016_05.csv\n",
      "loaded 75498 rows in 57.52s\n",
      "loading flights_on_time_performance_2017_05.csv\n",
      "loaded 96680 rows in 57.80s\n",
      "loading flights_on_time_performance_2018_05.csv\n",
      "loaded 118393 rows in 62.50s\n",
      "loading flights_on_time_performance_2019_05.csv\n",
      "loaded 126283 rows in 64.14s\n",
      "loading flights_on_time_performance_2020_05.csv\n",
      "loaded 7794 rows in 50.43s\n",
      "loading flights_on_time_performance_2003_06.csv\n",
      "loaded 89441 rows in 61.07s\n",
      "loading flights_on_time_performance_2004_06.csv\n",
      "loaded 148726 rows in 63.59s\n",
      "loading flights_on_time_performance_2005_06.csv\n",
      "loaded 139742 rows in 64.79s\n",
      "loading flights_on_time_performance_2006_06.csv\n",
      "loaded 150683 rows in 65.68s\n",
      "loading flights_on_time_performance_2007_06.csv\n",
      "loaded 181502 rows in 67.49s\n",
      "loading flights_on_time_performance_2008_06.csv\n",
      "loaded 164260 rows in 67.76s\n",
      "loading flights_on_time_performance_2009_06.csv\n",
      "loaded 122886 rows in 67.71s\n",
      "loading flights_on_time_performance_2010_06.csv\n",
      "loaded 120007 rows in 68.22s\n",
      "loading flights_on_time_performance_2011_06.csv\n",
      "loaded 111137 rows in 67.80s\n",
      "loading flights_on_time_performance_2012_06.csv\n",
      "loaded 94684 rows in 68.34s\n",
      "loading flights_on_time_performance_2013_06.csv\n",
      "loaded 143184 rows in 69.82s\n",
      "loading flights_on_time_performance_2014_06.csv\n",
      "loaded 129706 rows in 69.48s\n",
      "loading flights_on_time_performance_2015_06.csv\n",
      "loaded 115742 rows in 70.91s\n",
      "loading flights_on_time_performance_2016_06.csv\n",
      "loaded 100361 rows in 70.45s\n",
      "loading flights_on_time_performance_2017_06.csv\n",
      "loaded 110719 rows in 70.74s\n",
      "loading flights_on_time_performance_2018_06.csv\n",
      "loaded 134105 rows in 75.55s\n",
      "loading flights_on_time_performance_2019_06.csv\n",
      "loaded 153358 rows in 76.38s\n",
      "loading flights_on_time_performance_2020_06.csv\n"
     ]
    },
    {
     "name": "stdout",
     "output_type": "stream",
     "text": [
      "loaded 14949 rows in 63.94s\n",
      "loading flights_on_time_performance_2003_07.csv\n",
      "loaded 104579 rows in 73.76s\n",
      "loading flights_on_time_performance_2004_07.csv\n",
      "loaded 135999 rows in 75.91s\n",
      "loading flights_on_time_performance_2005_07.csv\n",
      "loaded 166767 rows in 77.81s\n",
      "loading flights_on_time_performance_2006_07.csv\n",
      "loaded 150771 rows in 78.38s\n",
      "loading flights_on_time_performance_2007_07.csv\n",
      "loaded 180319 rows in 80.32s\n",
      "loading flights_on_time_performance_2008_07.csv\n",
      "loaded 140050 rows in 80.46s\n",
      "loading flights_on_time_performance_2009_07.csv\n",
      "loaded 121429 rows in 80.17s\n",
      "loading flights_on_time_performance_2010_07.csv\n",
      "loaded 122900 rows in 81.01s\n",
      "loading flights_on_time_performance_2011_07.csv\n",
      "loaded 110478 rows in 80.55s\n",
      "loading flights_on_time_performance_2012_07.csv\n",
      "loaded 121396 rows in 81.33s\n",
      "loading flights_on_time_performance_2013_07.csv\n",
      "loaded 142559 rows in 83.04s\n",
      "loading flights_on_time_performance_2014_07.csv\n",
      "loaded 117151 rows in 82.53s\n",
      "loading flights_on_time_performance_2015_07.csv\n",
      "loaded 107627 rows in 83.53s\n",
      "loading flights_on_time_performance_2016_07.csv\n",
      "loaded 113601 rows in 82.72s\n",
      "loading flights_on_time_performance_2017_07.csv\n",
      "loaded 110081 rows in 83.98s\n",
      "loading flights_on_time_performance_2018_07.csv\n",
      "loaded 142650 rows in 88.86s\n",
      "loading flights_on_time_performance_2019_07.csv\n",
      "loaded 135630 rows in 89.92s\n",
      "loading flights_on_time_performance_2020_07.csv\n",
      "loaded 29913 rows in 80.74s\n",
      "loading flights_on_time_performance_2003_08.csv\n",
      "loaded 106326 rows in 86.31s\n",
      "loading flights_on_time_performance_2004_08.csv\n",
      "loaded 123884 rows in 89.22s\n",
      "loading flights_on_time_performance_2005_08.csv\n",
      "loaded 141431 rows in 92.13s\n",
      "loading flights_on_time_performance_2006_08.csv\n",
      "loaded 140784 rows in 90.98s\n",
      "loading flights_on_time_performance_2007_08.csv\n",
      "loaded 170851 rows in 93.96s\n",
      "loading flights_on_time_performance_2008_08.csv\n",
      "loaded 120481 rows in 92.65s\n",
      "loading flights_on_time_performance_2009_08.csv\n",
      "loaded 108382 rows in 94.23s\n",
      "loading flights_on_time_performance_2010_08.csv\n",
      "loaded 97597 rows in 92.50s\n",
      "loading flights_on_time_performance_2011_08.csv\n",
      "loaded 96632 rows in 95.36s\n",
      "loading flights_on_time_performance_2012_08.csv\n",
      "loaded 104434 rows in 93.47s\n",
      "loading flights_on_time_performance_2013_08.csv\n",
      "loaded 112650 rows in 96.48s\n",
      "loading flights_on_time_performance_2014_08.csv\n",
      "loaded 105706 rows in 93.36s\n",
      "loading flights_on_time_performance_2015_08.csv\n",
      "loaded 94113 rows in 95.58s\n",
      "loading flights_on_time_performance_2016_08.csv\n",
      "loaded 103421 rows in 94.09s\n",
      "loading flights_on_time_performance_2017_08.csv\n",
      "loaded 104708 rows in 97.36s\n",
      "loading flights_on_time_performance_2018_08.csv\n",
      "loaded 142884 rows in 101.45s\n",
      "loading flights_on_time_performance_2019_08.csv\n",
      "loaded 133278 rows in 103.09s\n",
      "loading flights_on_time_performance_2020_08.csv\n",
      "loaded 28967 rows in 93.55s\n",
      "loading flights_on_time_performance_2003_09.csv\n",
      "loaded 67386 rows in 98.13s\n",
      "loading flights_on_time_performance_2004_09.csv\n",
      "loaded 75147 rows in 100.31s\n",
      "loading flights_on_time_performance_2005_09.csv\n",
      "loaded 87235 rows in 100.20s\n",
      "loading flights_on_time_performance_2006_09.csv\n",
      "loaded 127900 rows in 101.62s\n",
      "loading flights_on_time_performance_2007_09.csv\n",
      "loaded 102383 rows in 103.13s\n",
      "loading flights_on_time_performance_2008_09.csv\n",
      "loaded 71149 rows in 101.64s\n",
      "loading flights_on_time_performance_2009_09.csv\n",
      "loaded 66762 rows in 101.69s\n",
      "loading flights_on_time_performance_2010_09.csv\n",
      "loaded 72738 rows in 109.21s\n",
      "loading flights_on_time_performance_2011_09.csv\n",
      "loaded 73512 rows in 105.09s\n",
      "loading flights_on_time_performance_2012_09.csv\n",
      "loaded 77075 rows in 104.54s\n",
      "loading flights_on_time_performance_2013_09.csv\n",
      "loaded 77134 rows in 106.02s\n",
      "loading flights_on_time_performance_2014_09.csv\n",
      "loaded 81178 rows in 106.21s\n",
      "loading flights_on_time_performance_2015_09.csv\n",
      "loaded 60061 rows in 105.67s\n",
      "loading flights_on_time_performance_2016_09.csv\n",
      "loaded 63686 rows in 104.69s\n",
      "loading flights_on_time_performance_2017_09.csv\n",
      "loaded 58914 rows in 105.00s\n",
      "loading flights_on_time_performance_2018_09.csv\n",
      "loaded 94962 rows in 109.19s\n",
      "loading flights_on_time_performance_2019_09.csv\n",
      "loaded 83568 rows in 111.02s\n",
      "loading flights_on_time_performance_2020_09.csv\n",
      "loaded 20195 rows in 102.19s\n",
      "loading flights_on_time_performance_2003_10.csv\n",
      "loaded 69394 rows in 108.32s\n",
      "loading flights_on_time_performance_2004_10.csv\n",
      "loaded 108341 rows in 111.39s\n",
      "loading flights_on_time_performance_2005_10.csv\n",
      "loaded 99904 rows in 112.21s\n",
      "loading flights_on_time_performance_2006_10.csv\n",
      "loaded 153067 rows in 114.10s\n",
      "loading flights_on_time_performance_2007_10.csv\n",
      "loaded 128977 rows in 115.92s\n",
      "loading flights_on_time_performance_2008_10.csv\n",
      "loaded 73517 rows in 115.11s\n",
      "loading flights_on_time_performance_2009_10.csv\n",
      "loaded 114549 rows in 112.75s\n",
      "loading flights_on_time_performance_2010_10.csv\n",
      "loaded 82391 rows in 115.06s\n",
      "loading flights_on_time_performance_2011_10.csv\n",
      "loaded 68219 rows in 113.95s\n",
      "loading flights_on_time_performance_2012_10.csv\n",
      "loaded 86545 rows in 113.98s\n",
      "loading flights_on_time_performance_2013_10.csv\n",
      "loaded 81338 rows in 117.40s\n",
      "loading flights_on_time_performance_2014_10.csv\n",
      "loaded 92285 rows in 114.99s\n",
      "loading flights_on_time_performance_2015_10.csv\n",
      "loaded 60079 rows in 114.10s\n",
      "loading flights_on_time_performance_2016_10.csv\n",
      "loaded 63470 rows in 121.30s\n",
      "loading flights_on_time_performance_2017_10.csv\n",
      "loaded 69027 rows in 120.26s\n",
      "loading flights_on_time_performance_2018_10.csv\n",
      "loaded 101657 rows in 118.21s\n",
      "loading flights_on_time_performance_2019_10.csv\n",
      "loaded 105046 rows in 120.28s\n",
      "loading flights_on_time_performance_2020_10.csv\n"
     ]
    }
   ],
   "source": [
    "df = pd.DataFrame()\n",
    "\n",
    "for month in range(1, 13):\n",
    "    for year in range(2003, 2021):\n",
    "        path = '/hot/data/flights_all/flights_on_time_performance_{:04d}_{:02d}.csv'.format(year, month)\n",
    "        \n",
    "        if os.path.isfile(path):\n",
    "            tstart = time.time()\n",
    "            print('loading {}'.format(os.path.basename(path)))\n",
    "            subdf = pd.read_csv(path, low_memory=False)\n",
    "            subdf = subdf[~subdf['WEATHER_DELAY'].isna()]\n",
    "            df = pd.concat((df, subdf))\n",
    "            print('loaded {} rows in {:.2f}s'.format(len(subdf), time.time() - tstart))\n",
    "print('loaded {} rows in total.'.format(len(df)))"
   ]
  },
  {
   "cell_type": "code",
   "execution_count": 6,
   "metadata": {},
   "outputs": [],
   "source": [
    "# Need to create a super basic model...\n",
    "# use spark for quick preprocessing??? Or Tuplex???"
   ]
  },
  {
   "cell_type": "code",
   "execution_count": 7,
   "metadata": {},
   "outputs": [
    {
     "data": {
      "text/plain": [
       "21744768"
      ]
     },
     "execution_count": 7,
     "metadata": {},
     "output_type": "execute_result"
    }
   ],
   "source": [
    "len(df)"
   ]
  },
  {
   "cell_type": "code",
   "execution_count": 9,
   "metadata": {},
   "outputs": [],
   "source": [
    "!mkdir /hot/scratch/flights_lm"
   ]
  },
  {
   "cell_type": "code",
   "execution_count": 11,
   "metadata": {},
   "outputs": [],
   "source": [
    "#df.to_csv('/hot/scratch/flights_lm/rawdata.csv', index=None)"
   ]
  },
  {
   "cell_type": "code",
   "execution_count": 12,
   "metadata": {},
   "outputs": [
    {
     "data": {
      "text/plain": [
       "Index(['YEAR', 'QUARTER', 'MONTH', 'DAY_OF_MONTH', 'DAY_OF_WEEK', 'FL_DATE',\n",
       "       'OP_UNIQUE_CARRIER', 'OP_CARRIER_AIRLINE_ID', 'OP_CARRIER', 'TAIL_NUM',\n",
       "       ...\n",
       "       'DIV5_AIRPORT', 'DIV5_AIRPORT_ID', 'DIV5_AIRPORT_SEQ_ID',\n",
       "       'DIV5_WHEELS_ON', 'DIV5_TOTAL_GTIME', 'DIV5_LONGEST_GTIME',\n",
       "       'DIV5_WHEELS_OFF', 'DIV5_TAIL_NUM', 'Unnamed: 109', 'Unnamed: 23'],\n",
       "      dtype='object', length=111)"
      ]
     },
     "execution_count": 12,
     "metadata": {},
     "output_type": "execute_result"
    }
   ],
   "source": [
    "df.columns"
   ]
  },
  {
   "cell_type": "code",
   "execution_count": 15,
   "metadata": {},
   "outputs": [],
   "source": [
    "delay_cols = [name for name in df.columns if 'DELAY' in name]"
   ]
  },
  {
   "cell_type": "code",
   "execution_count": 16,
   "metadata": {},
   "outputs": [
    {
     "data": {
      "text/plain": [
       "['DEP_DELAY',\n",
       " 'DEP_DELAY_NEW',\n",
       " 'DEP_DELAY_GROUP',\n",
       " 'ARR_DELAY',\n",
       " 'ARR_DELAY_NEW',\n",
       " 'ARR_DELAY_GROUP',\n",
       " 'CARRIER_DELAY',\n",
       " 'WEATHER_DELAY',\n",
       " 'NAS_DELAY',\n",
       " 'SECURITY_DELAY',\n",
       " 'LATE_AIRCRAFT_DELAY',\n",
       " 'DIV_ARR_DELAY']"
      ]
     },
     "execution_count": 16,
     "metadata": {},
     "output_type": "execute_result"
    }
   ],
   "source": [
    "delay_cols"
   ]
  },
  {
   "cell_type": "code",
   "execution_count": 17,
   "metadata": {},
   "outputs": [],
   "source": [
    "# predict these!\n",
    "target_vars = ['CARRIER_DELAY',\n",
    "'WEATHER_DELAY',\n",
    "'NAS_DELAY',\n",
    "'SECURITY_DELAY',\n",
    "'LATE_AIRCRAFT_DELAY']"
   ]
  },
  {
   "cell_type": "code",
   "execution_count": 18,
   "metadata": {},
   "outputs": [
    {
     "data": {
      "text/plain": [
       "['CARRIER_DELAY',\n",
       " 'WEATHER_DELAY',\n",
       " 'NAS_DELAY',\n",
       " 'SECURITY_DELAY',\n",
       " 'LATE_AIRCRAFT_DELAY']"
      ]
     },
     "execution_count": 18,
     "metadata": {},
     "output_type": "execute_result"
    }
   ],
   "source": [
    "target_vars"
   ]
  },
  {
   "cell_type": "code",
   "execution_count": 19,
   "metadata": {},
   "outputs": [],
   "source": [
    "y = df[target_vars]"
   ]
  },
  {
   "cell_type": "code",
   "execution_count": 22,
   "metadata": {},
   "outputs": [
    {
     "data": {
      "text/plain": [
       "array([[  0.,   0.,  22.,   0., 195.],\n",
       "       [  0.,  62.,   2.,   0.,  46.],\n",
       "       [  0.,   0.,   2.,   0., 108.],\n",
       "       [  0.,   4.,  18.,   0.,  16.],\n",
       "       [  0.,   0.,  40.,   0.,   0.],\n",
       "       [ 33.,   0.,   0.,   0.,   0.],\n",
       "       [ 17.,   0.,   8.,   0.,   0.],\n",
       "       [  0.,   3.,  19.,   0.,  16.],\n",
       "       [ 27.,   0.,   0.,   0.,   0.],\n",
       "       [  0.,   0.,  37.,   0.,   0.]])"
      ]
     },
     "execution_count": 22,
     "metadata": {},
     "output_type": "execute_result"
    }
   ],
   "source": [
    "y.values[:10]"
   ]
  },
  {
   "cell_type": "code",
   "execution_count": 24,
   "metadata": {},
   "outputs": [],
   "source": [
    "# features:\n",
    "\n",
    "# which airline, which year, month, day, ...\n",
    "# which time\n",
    "# what distance"
   ]
  },
  {
   "cell_type": "code",
   "execution_count": 26,
   "metadata": {},
   "outputs": [],
   "source": [
    "airline_codes = df['OP_UNIQUE_CARRIER'].unique()"
   ]
  },
  {
   "cell_type": "code",
   "execution_count": 29,
   "metadata": {},
   "outputs": [],
   "source": [
    "airline_codes = list(airline_codes)"
   ]
  },
  {
   "cell_type": "code",
   "execution_count": 30,
   "metadata": {},
   "outputs": [
    {
     "data": {
      "text/plain": [
       "['AA',\n",
       " 'DH',\n",
       " 'DL',\n",
       " 'EV',\n",
       " 'HP',\n",
       " 'MQ',\n",
       " 'NW',\n",
       " 'OO',\n",
       " 'XE',\n",
       " 'UA',\n",
       " 'US',\n",
       " 'WN',\n",
       " 'CO',\n",
       " 'FL',\n",
       " 'OH',\n",
       " 'HA',\n",
       " 'TZ',\n",
       " 'AS',\n",
       " 'B6',\n",
       " 'F9',\n",
       " 'YV',\n",
       " '9E',\n",
       " 'KH',\n",
       " 'VX',\n",
       " 'NK',\n",
       " 'G4',\n",
       " 'YX']"
      ]
     },
     "execution_count": 30,
     "metadata": {},
     "output_type": "execute_result"
    }
   ],
   "source": [
    "airline_codes"
   ]
  },
  {
   "cell_type": "code",
   "execution_count": 57,
   "metadata": {},
   "outputs": [],
   "source": [
    "unique_states = df['ORIGIN_STATE_ABR'].unique()"
   ]
  },
  {
   "cell_type": "code",
   "execution_count": 58,
   "metadata": {},
   "outputs": [
    {
     "data": {
      "text/plain": [
       "['MO',\n",
       " 'NY',\n",
       " 'TX',\n",
       " 'MA',\n",
       " 'IL',\n",
       " 'FL',\n",
       " 'UT',\n",
       " 'GA',\n",
       " 'NC',\n",
       " 'NJ',\n",
       " 'CA',\n",
       " 'TN',\n",
       " 'NE',\n",
       " 'PA',\n",
       " 'MI',\n",
       " 'RI',\n",
       " 'OK',\n",
       " 'VA',\n",
       " 'PR',\n",
       " 'IA',\n",
       " 'NV',\n",
       " 'IN',\n",
       " 'WA',\n",
       " 'LA',\n",
       " 'AZ',\n",
       " 'NM',\n",
       " 'CO',\n",
       " 'MN',\n",
       " 'VI',\n",
       " 'KS',\n",
       " 'OR',\n",
       " 'CT',\n",
       " 'OH',\n",
       " 'MD',\n",
       " 'AR',\n",
       " 'KY',\n",
       " 'SC',\n",
       " 'SD',\n",
       " 'VT',\n",
       " 'AL',\n",
       " 'ME',\n",
       " 'WI',\n",
       " 'ND',\n",
       " 'WV',\n",
       " 'NH',\n",
       " 'MT',\n",
       " 'ID',\n",
       " 'WY',\n",
       " 'AK',\n",
       " 'MS',\n",
       " 'HI',\n",
       " 'DE',\n",
       " nan,\n",
       " 'TT']"
      ]
     },
     "execution_count": 58,
     "metadata": {},
     "output_type": "execute_result"
    }
   ],
   "source": [
    "list(unique_states)"
   ]
  },
  {
   "cell_type": "code",
   "execution_count": 59,
   "metadata": {},
   "outputs": [],
   "source": [
    "unique_states = ['MO',\n",
    " 'NY',\n",
    " 'TX',\n",
    " 'MA',\n",
    " 'IL',\n",
    " 'FL',\n",
    " 'UT',\n",
    " 'GA',\n",
    " 'NC',\n",
    " 'NJ',\n",
    " 'CA',\n",
    " 'TN',\n",
    " 'NE',\n",
    " 'PA',\n",
    " 'MI',\n",
    " 'RI',\n",
    " 'OK',\n",
    " 'VA',\n",
    " 'PR',\n",
    " 'IA',\n",
    " 'NV',\n",
    " 'IN',\n",
    " 'WA',\n",
    " 'LA',\n",
    " 'AZ',\n",
    " 'NM',\n",
    " 'CO',\n",
    " 'MN',\n",
    " 'VI',\n",
    " 'KS',\n",
    " 'OR',\n",
    " 'CT',\n",
    " 'OH',\n",
    " 'MD',\n",
    " 'AR',\n",
    " 'KY',\n",
    " 'SC',\n",
    " 'SD',\n",
    " 'VT',\n",
    " 'AL',\n",
    " 'ME',\n",
    " 'WI',\n",
    " 'ND',\n",
    " 'WV',\n",
    " 'NH',\n",
    " 'MT',\n",
    " 'ID',\n",
    " 'WY',\n",
    " 'AK',\n",
    " 'MS',\n",
    " 'HI',\n",
    " 'DE',\n",
    " 'TT']"
   ]
  },
  {
   "cell_type": "code",
   "execution_count": 61,
   "metadata": {},
   "outputs": [
    {
     "data": {
      "text/plain": [
       "21744768"
      ]
     },
     "execution_count": 61,
     "metadata": {},
     "output_type": "execute_result"
    }
   ],
   "source": [
    "len(df)"
   ]
  },
  {
   "cell_type": "code",
   "execution_count": 64,
   "metadata": {},
   "outputs": [],
   "source": [
    "airport_codes = set(df['ORIGIN'].unique()) | set(df['DEST'].unique())"
   ]
  },
  {
   "cell_type": "code",
   "execution_count": 66,
   "metadata": {},
   "outputs": [],
   "source": [
    "airport_codes = list(airport_codes)"
   ]
  },
  {
   "cell_type": "code",
   "execution_count": 80,
   "metadata": {},
   "outputs": [
    {
     "data": {
      "text/plain": [
       "\"['RIC','SMX','BFF','STT','ALS','BIL','CRP','ORH','SHV','BMI','MVY','DRO','ESC','GCK','LNK','UST','YUM','MDT','CLD','PIE','DSM','BHM','HHH','PSG','BIS','LIH','ROW','DLH','HGR','DCA','HNL','DTW','LMT','AVL','LAW','ITH','HRL','LAX','PHL','SWO','CWA','BOS','GJT','SRQ','VIS','ACY','CPR','MOB','SJC','YNG','SNA','CSG','BRO','BFM','SWF','HYA','OGG','LBF','ANC','ONT','TRI','SCE','RKS','BTV','BGM','LGB','MCN','ROA','PGV','MSY','MQT','ITO','VLD','OMA','SUN','EVV','FOE','GUM','OGS','YKM','SAT','JMS','EWN','ASE','CIC','STL','CDC','LWB','SCC','SBP','DAY','CEC','SGF','OTH','DFW','INL','ILE','SPS','PSE','SFB','JAC','CHO','TXK','BET','BUR','PSC','DDC','TPA','HVN','BRD','PIB','ABQ','EWR','ORD','OWB','LCH','AKN','PSP','ISO','IAG','RDD','FSM','PFN','DRT','FMN','AGS','EAR','CMI','STC','LBB','SHD','IAD','MIA','EFD','RDU','HOU','GNV','LFT','FAT','MOT','PLN','SPI','IPT','RFD','OME','MFE','TYS','RHI','DEN','MKC','CDB','JAN','SYR','SIT','MBS','ABY','SCK','IPL','DLG','WYS','UIN','GRK','MRY','PIA','LAN','CRW','SBA','LEX','PVU','XNA','ROC','FCA','PIT','SAN','PHF','PSM','PHX','PIH','CVG','RSW','TUS','ABI','DEC','COS','LSE','FSD','ORF','BWI','BTM','CYS','UTM','ERI','EYW','HIB','LGA','BTR','MMH','YAK','JNU','ILM','BNA','GPT','FNT','PWM','BRW','AZA','MKK','ABR','DAB','MHK','MLB','GTR','SEA','SJU','CMX','ACT','BDL','KOA','ACV','RNO','OTZ','HLN','JST','STS','PAE','BQK','GCC','BLV','SLC','FLL','LYH','CGI','CIU','GST','TTN','AMA','AVP','JLN','EGE','WRG','MGM','TWF','BQN','CLE','MLU','GSP','APF','PGD','LBE','SOP','EUG','MLI','ADQ','CAE','FLG','MDW','CAK','SJT','SLE','MYR','GEG','ATL','PUB','USA','VEL','MCO','DIK','MWH','EKO','MFR','PBI','TUL','MOD','GRB','ALO','ECP','AZO','GUC','TUP','HDN','BLI','CNY','RDM','VPS','AEX','LRD','APN','BKG','VCT','PDX','PNS','GTF','PRC','SPN','SLN','LCK','OAK','SUX','ADK','TEX','BPT','SBN','OKC','FAR','DVL','ELM','TYR','MEM','SFO','PPG','DUT','STX','MTH','PVD','SAV','IMT','SDF','ART','HKY','HYS','DBQ','CMH','TLH','MTJ','CHA','GSO','CLL','OAJ','CHS','LNY','CID','ISN','ACK','IAH','IND','CLT','DAL','LAS','HPN','AUS','FAY','DHN','SGU','ATY','GGG','HOB','KTN','ILG','MEI','EAU','MSO','ATW','TOL','MSN','LBL','JFK','MKG','TVC','RIW','MSP','IFP','OXR','GRR','ICT','RST','PAH','IDA','BFL','OGD','SHR','BGR','LIT','MKE','HSV','BJI','ELP','PIR','ABE','COD','MCI','BZN','FLO','MHT','PMD','FAI','IYK','FWA','SMF','COU','XWA','BOI','HTS','RAP','PBG','JAX','ALB','ISP','CDV','GRI','MAF','GFK','BUF','LAR','SAF','LWS','CKB']\""
      ]
     },
     "execution_count": 80,
     "metadata": {},
     "output_type": "execute_result"
    }
   ],
   "source": [
    "'[' + ','.join(map(lambda x: \"'{}'\".format(x), airport_codes)) + ']'"
   ]
  },
  {
   "cell_type": "code",
   "execution_count": 86,
   "metadata": {},
   "outputs": [
    {
     "data": {
      "text/plain": [
       "\"['MO','NY','TX','MA','IL','FL','UT','GA','NC','NJ','CA','TN','NE','PA','MI','RI','OK','VA','PR','IA','NV','IN','WA','LA','AZ','NM','CO','MN','VI','KS','OR','CT','OH','MD','AR','KY','SC','SD','VT','AL','ME','WI','ND','WV','NH','MT','ID','WY','AK','MS','HI','DE','TT']\""
      ]
     },
     "execution_count": 86,
     "metadata": {},
     "output_type": "execute_result"
    }
   ],
   "source": [
    "'[' + ','.join(map(lambda x: \"'{}'\".format(x), unique_states)) + ']'"
   ]
  },
  {
   "cell_type": "code",
   "execution_count": 87,
   "metadata": {},
   "outputs": [],
   "source": [
    "# for each row, compute feature vector (lambda func!)\n",
    "def feature_vector(row):\n",
    "    fv = []\n",
    "    fv += [float(row['DAY_OF_MONTH']), float(row['DAY_OF_WEEK']), float(row['MONTH']),\n",
    "           float(row['QUARTER']), float(row['CRS_ELAPSED_TIME']), float(row['DISTANCE'])]\n",
    "    \n",
    "    # one-hot encode arrival and departure time\n",
    "    crs_arr_minute = int(row['CRS_ARR_TIME']) % 100\n",
    "    crs_arr_hour = int(row['CRS_ARR_TIME'] / 100)\n",
    "    crs_arr_15min = int(crs_arr_minute / 15)\n",
    "\n",
    "    crs_dep_minute = int(row['CRS_DEP_TIME']) % 100 % 100\n",
    "    crs_dep_hour = int(row['CRS_DEP_TIME'] / 100)\n",
    "    crs_dep_15min = int(crs_dep_minute / 15)\n",
    "    \n",
    "    fv += [float(crs_arr_hour), float(crs_arr_15min), float(crs_dep_hour), float(crs_dep_15min)]\n",
    "    \n",
    "    # one-hot encode dest airport and origin airport\n",
    "    airport_codes = ['RIC','SMX','BFF','STT','ALS','BIL','CRP','ORH','SHV','BMI','MVY',\n",
    "                     'DRO','ESC','GCK','LNK','UST','YUM','MDT','CLD','PIE','DSM','BHM',\n",
    "                     'HHH','PSG','BIS','LIH','ROW','DLH','HGR','DCA','HNL','DTW','LMT',\n",
    "                     'AVL','LAW','ITH','HRL','LAX','PHL','SWO','CWA','BOS','GJT','SRQ',\n",
    "                     'VIS','ACY','CPR','MOB','SJC','YNG','SNA','CSG','BRO','BFM','SWF',\n",
    "                     'HYA','OGG','LBF','ANC','ONT','TRI','SCE','RKS','BTV','BGM','LGB',\n",
    "                     'MCN','ROA','PGV','MSY','MQT','ITO','VLD','OMA','SUN','EVV','FOE',\n",
    "                     'GUM','OGS','YKM','SAT','JMS','EWN','ASE','CIC','STL','CDC','LWB',\n",
    "                     'SCC','SBP','DAY','CEC','SGF','OTH','DFW','INL','ILE','SPS','PSE',\n",
    "                     'SFB','JAC','CHO','TXK','BET','BUR','PSC','DDC','TPA','HVN','BRD',\n",
    "                     'PIB','ABQ','EWR','ORD','OWB','LCH','AKN','PSP','ISO','IAG','RDD',\n",
    "                     'FSM','PFN','DRT','FMN','AGS','EAR','CMI','STC','LBB','SHD','IAD',\n",
    "                     'MIA','EFD','RDU','HOU','GNV','LFT','FAT','MOT','PLN','SPI','IPT',\n",
    "                     'RFD','OME','MFE','TYS','RHI','DEN','MKC','CDB','JAN','SYR','SIT',\n",
    "                     'MBS','ABY','SCK','IPL','DLG','WYS','UIN','GRK','MRY','PIA','LAN',\n",
    "                     'CRW','SBA','LEX','PVU','XNA','ROC','FCA','PIT','SAN','PHF','PSM',\n",
    "                     'PHX','PIH','CVG','RSW','TUS','ABI','DEC','COS','LSE','FSD','ORF',\n",
    "                     'BWI','BTM','CYS','UTM','ERI','EYW','HIB','LGA','BTR','MMH','YAK',\n",
    "                     'JNU','ILM','BNA','GPT','FNT','PWM','BRW','AZA','MKK','ABR','DAB',\n",
    "                     'MHK','MLB','GTR','SEA','SJU','CMX','ACT','BDL','KOA','ACV','RNO',\n",
    "                     'OTZ','HLN','JST','STS','PAE','BQK','GCC','BLV','SLC','FLL','LYH',\n",
    "                     'CGI','CIU','GST','TTN','AMA','AVP','JLN','EGE','WRG','MGM','TWF',\n",
    "                     'BQN','CLE','MLU','GSP','APF','PGD','LBE','SOP','EUG','MLI','ADQ',\n",
    "                     'CAE','FLG','MDW','CAK','SJT','SLE','MYR','GEG','ATL','PUB','USA',\n",
    "                     'VEL','MCO','DIK','MWH','EKO','MFR','PBI','TUL','MOD','GRB','ALO',\n",
    "                     'ECP','AZO','GUC','TUP','HDN','BLI','CNY','RDM','VPS','AEX','LRD',\n",
    "                     'APN','BKG','VCT','PDX','PNS','GTF','PRC','SPN','SLN','LCK','OAK',\n",
    "                     'SUX','ADK','TEX','BPT','SBN','OKC','FAR','DVL','ELM','TYR','MEM',\n",
    "                     'SFO','PPG','DUT','STX','MTH','PVD','SAV','IMT','SDF','ART','HKY',\n",
    "                     'HYS','DBQ','CMH','TLH','MTJ','CHA','GSO','CLL','OAJ','CHS','LNY',\n",
    "                     'CID','ISN','ACK','IAH','IND','CLT','DAL','LAS','HPN','AUS','FAY',\n",
    "                     'DHN','SGU','ATY','GGG','HOB','KTN','ILG','MEI','EAU','MSO','ATW',\n",
    "                     'TOL','MSN','LBL','JFK','MKG','TVC','RIW','MSP','IFP','OXR','GRR',\n",
    "                     'ICT','RST','PAH','IDA','BFL','OGD','SHR','BGR','LIT','MKE','HSV',\n",
    "                     'BJI','ELP','PIR','ABE','COD','MCI','BZN','FLO','MHT','PMD','FAI',\n",
    "                     'IYK','FWA','SMF','COU','XWA','BOI','HTS','RAP','PBG','JAX','ALB',\n",
    "                     'ISP','CDV','GRI','MAF','GFK','BUF','LAR','SAF','LWS','CKB']\n",
    "    \n",
    "    origin_one_hot = [float(code == row['ORIGIN']) for code in airport_codes]\n",
    "    dest_one_hot = [float(code == row['DEST']) for code in airport_codes]\n",
    "    fv += origin_one_hot\n",
    "    fv += dest_one_hot\n",
    "    \n",
    "    # state one hot encoding (can be None!)\n",
    "    origin_state_is_none = row['ORIGIN_STATE_ABR'] is None\n",
    "    fv.append(float(origin_state_is_none))\n",
    "    dest_state_is_none = row['DEST_STATE_ABR'] is None\n",
    "    fv.append(float(dest_state_is_none))\n",
    "    \n",
    "    # now perform state one hot encoding, make a bit faster with if logic!\n",
    "    states_abbr = ['MO','NY','TX','MA','IL','FL','UT','GA','NC','NJ','CA','TN','NE','PA',\n",
    "                   'MI','RI','OK','VA','PR','IA','NV','IN','WA','LA','AZ','NM','CO','MN',\n",
    "                   'VI','KS','OR','CT','OH','MD','AR','KY','SC','SD','VT','AL','ME','WI',\n",
    "                   'ND','WV','NH','MT','ID','WY','AK','MS','HI','DE','TT']\n",
    "    \n",
    "    state_origin_one_hot = [float(code == row['ORIGIN_STATE_ABR']) for code in states_abbr]\n",
    "    state_dest_one_hot = [float(code == row['DEST_STATE_ABR']) for code in states_abbr]\n",
    "    fv += state_origin_one_hot\n",
    "    fv += state_dest_one_hot\n",
    "    \n",
    "    return fv"
   ]
  },
  {
   "cell_type": "code",
   "execution_count": 3,
   "metadata": {},
   "outputs": [],
   "source": [
    "import numpy as np"
   ]
  },
  {
   "cell_type": "code",
   "execution_count": 4,
   "metadata": {},
   "outputs": [],
   "source": [
    "import pandas as pd"
   ]
  },
  {
   "cell_type": "code",
   "execution_count": 5,
   "metadata": {},
   "outputs": [],
   "source": [
    "nrows = 10000"
   ]
  },
  {
   "cell_type": "code",
   "execution_count": null,
   "metadata": {},
   "outputs": [],
   "source": [
    "minidf = pd.read_csv('/hot/scratch/flights_lm/rawdata.csv', nrows=nrows)"
   ]
  },
  {
   "cell_type": "code",
   "execution_count": 118,
   "metadata": {},
   "outputs": [
    {
     "name": "stderr",
     "output_type": "stream",
     "text": [
      "1000it [00:08, 122.06it/s]\n"
     ]
    }
   ],
   "source": [
    "# Now encode quickly minidf into feature vector & fit sklearn model...\n",
    "\n",
    "\n",
    "x = np.array(feature_vector(minidf.iloc[0]))\n",
    "X = x\n",
    "\n",
    "for idx, row in tqdm(minidf.reset_index(drop=True).iterrows()):\n",
    "    if idx == 0:\n",
    "        continue\n",
    "    x = np.array(feature_vector(row))\n",
    "    X = np.vstack((X,x))"
   ]
  },
  {
   "cell_type": "code",
   "execution_count": 119,
   "metadata": {
    "scrolled": true
   },
   "outputs": [
    {
     "data": {
      "text/plain": [
       "(1000, 930)"
      ]
     },
     "execution_count": 119,
     "metadata": {},
     "output_type": "execute_result"
    }
   ],
   "source": [
    "X.shape"
   ]
  },
  {
   "cell_type": "code",
   "execution_count": 120,
   "metadata": {},
   "outputs": [],
   "source": [
    "y = minidf[target_vars].values"
   ]
  },
  {
   "cell_type": "code",
   "execution_count": 121,
   "metadata": {},
   "outputs": [
    {
     "data": {
      "text/plain": [
       "(1000, 5)"
      ]
     },
     "execution_count": 121,
     "metadata": {},
     "output_type": "execute_result"
    }
   ],
   "source": [
    "y.shape"
   ]
  },
  {
   "cell_type": "code",
   "execution_count": 159,
   "metadata": {},
   "outputs": [],
   "source": [
    "from sklearn.linear_model import LinearRegression, Ridge\n",
    "from sklearn.preprocessing import StandardScaler"
   ]
  },
  {
   "cell_type": "code",
   "execution_count": 2,
   "metadata": {},
   "outputs": [
    {
     "ename": "NameError",
     "evalue": "name 'StandardScaler' is not defined",
     "output_type": "error",
     "traceback": [
      "\u001b[0;31m---------------------------------------------------------------------------\u001b[0m",
      "\u001b[0;31mNameError\u001b[0m                                 Traceback (most recent call last)",
      "\u001b[0;32m<ipython-input-2-da7df76eafc4>\u001b[0m in \u001b[0;36m<module>\u001b[0;34m\u001b[0m\n\u001b[0;32m----> 1\u001b[0;31m \u001b[0mscaler\u001b[0m \u001b[0;34m=\u001b[0m \u001b[0mStandardScaler\u001b[0m\u001b[0;34m(\u001b[0m\u001b[0;34m)\u001b[0m\u001b[0;34m.\u001b[0m\u001b[0mfit\u001b[0m\u001b[0;34m(\u001b[0m\u001b[0mX\u001b[0m\u001b[0;34m)\u001b[0m\u001b[0;34m\u001b[0m\u001b[0;34m\u001b[0m\u001b[0m\n\u001b[0m",
      "\u001b[0;31mNameError\u001b[0m: name 'StandardScaler' is not defined"
     ]
    }
   ],
   "source": [
    "scaler = StandardScaler().fit(X)"
   ]
  },
  {
   "cell_type": "code",
   "execution_count": 161,
   "metadata": {},
   "outputs": [],
   "source": [
    "# scaler.mean_"
   ]
  },
  {
   "cell_type": "code",
   "execution_count": 147,
   "metadata": {},
   "outputs": [],
   "source": [
    "sX = scaler.transform(X)"
   ]
  },
  {
   "cell_type": "code",
   "execution_count": 1,
   "metadata": {},
   "outputs": [
    {
     "name": "stdout",
     "output_type": "stream",
     "text": [
      "Collecting scikit-learn\n",
      "  Using cached https://files.pythonhosted.org/packages/f5/ef/bcd79e8d59250d6e8478eb1290dc6e05be42b3be8a86e3954146adbc171a/scikit_learn-0.24.2-cp36-cp36m-manylinux1_x86_64.whl\n",
      "Collecting threadpoolctl>=2.0.0 (from scikit-learn)\n",
      "  Using cached https://files.pythonhosted.org/packages/61/cf/6e354304bcb9c6413c4e02a747b600061c21d38ba51e7e544ac7bc66aecc/threadpoolctl-3.1.0-py3-none-any.whl\n",
      "Collecting scipy>=0.19.1 (from scikit-learn)\n",
      "  Using cached https://files.pythonhosted.org/packages/c8/89/63171228d5ced148f5ced50305c89e8576ffc695a90b58fe5bb602b910c2/scipy-1.5.4-cp36-cp36m-manylinux1_x86_64.whl\n",
      "Collecting joblib>=0.11 (from scikit-learn)\n",
      "  Using cached https://files.pythonhosted.org/packages/3e/d5/0163eb0cfa0b673aa4fe1cd3ea9d8a81ea0f32e50807b0c295871e4aab2e/joblib-1.1.0-py2.py3-none-any.whl\n",
      "Collecting numpy>=1.13.3 (from scikit-learn)\n",
      "  Using cached https://files.pythonhosted.org/packages/45/b2/6c7545bb7a38754d63048c7696804a0d947328125d81bf12beaa692c3ae3/numpy-1.19.5-cp36-cp36m-manylinux1_x86_64.whl\n",
      "Installing collected packages: threadpoolctl, numpy, scipy, joblib, scikit-learn\n",
      "Successfully installed joblib-1.1.0 numpy-1.19.5 scikit-learn-0.24.2 scipy-1.5.4 threadpoolctl-3.1.0\n"
     ]
    }
   ],
   "source": [
    "!pip3 install --upgrade scikit-learn"
   ]
  },
  {
   "cell_type": "code",
   "execution_count": 163,
   "metadata": {},
   "outputs": [
    {
     "name": "stdout",
     "output_type": "stream",
     "text": [
      "Help on class Ridge in module sklearn.linear_model._ridge:\n",
      "\n",
      "class Ridge(sklearn.base.MultiOutputMixin, sklearn.base.RegressorMixin, _BaseRidge)\n",
      " |  Linear least squares with l2 regularization.\n",
      " |  \n",
      " |  Minimizes the objective function::\n",
      " |  \n",
      " |  ||y - Xw||^2_2 + alpha * ||w||^2_2\n",
      " |  \n",
      " |  This model solves a regression model where the loss function is\n",
      " |  the linear least squares function and regularization is given by\n",
      " |  the l2-norm. Also known as Ridge Regression or Tikhonov regularization.\n",
      " |  This estimator has built-in support for multi-variate regression\n",
      " |  (i.e., when y is a 2d-array of shape (n_samples, n_targets)).\n",
      " |  \n",
      " |  Read more in the :ref:`User Guide <ridge_regression>`.\n",
      " |  \n",
      " |  Parameters\n",
      " |  ----------\n",
      " |  alpha : {float, ndarray of shape (n_targets,)}, default=1.0\n",
      " |      Regularization strength; must be a positive float. Regularization\n",
      " |      improves the conditioning of the problem and reduces the variance of\n",
      " |      the estimates. Larger values specify stronger regularization.\n",
      " |      Alpha corresponds to ``1 / (2C)`` in other linear models such as\n",
      " |      :class:`~sklearn.linear_model.LogisticRegression` or\n",
      " |      :class:`~sklearn.svm.LinearSVC`. If an array is passed, penalties are\n",
      " |      assumed to be specific to the targets. Hence they must correspond in\n",
      " |      number.\n",
      " |  \n",
      " |  fit_intercept : bool, default=True\n",
      " |      Whether to fit the intercept for this model. If set\n",
      " |      to false, no intercept will be used in calculations\n",
      " |      (i.e. ``X`` and ``y`` are expected to be centered).\n",
      " |  \n",
      " |  normalize : bool, default=False\n",
      " |      This parameter is ignored when ``fit_intercept`` is set to False.\n",
      " |      If True, the regressors X will be normalized before regression by\n",
      " |      subtracting the mean and dividing by the l2-norm.\n",
      " |      If you wish to standardize, please use\n",
      " |      :class:`~sklearn.preprocessing.StandardScaler` before calling ``fit``\n",
      " |      on an estimator with ``normalize=False``.\n",
      " |  \n",
      " |  copy_X : bool, default=True\n",
      " |      If True, X will be copied; else, it may be overwritten.\n",
      " |  \n",
      " |  max_iter : int, default=None\n",
      " |      Maximum number of iterations for conjugate gradient solver.\n",
      " |      For 'sparse_cg' and 'lsqr' solvers, the default value is determined\n",
      " |      by scipy.sparse.linalg. For 'sag' solver, the default value is 1000.\n",
      " |  \n",
      " |  tol : float, default=1e-3\n",
      " |      Precision of the solution.\n",
      " |  \n",
      " |  solver : {'auto', 'svd', 'cholesky', 'lsqr', 'sparse_cg', 'sag', 'saga'},         default='auto'\n",
      " |      Solver to use in the computational routines:\n",
      " |  \n",
      " |      - 'auto' chooses the solver automatically based on the type of data.\n",
      " |  \n",
      " |      - 'svd' uses a Singular Value Decomposition of X to compute the Ridge\n",
      " |        coefficients. More stable for singular matrices than 'cholesky'.\n",
      " |  \n",
      " |      - 'cholesky' uses the standard scipy.linalg.solve function to\n",
      " |        obtain a closed-form solution.\n",
      " |  \n",
      " |      - 'sparse_cg' uses the conjugate gradient solver as found in\n",
      " |        scipy.sparse.linalg.cg. As an iterative algorithm, this solver is\n",
      " |        more appropriate than 'cholesky' for large-scale data\n",
      " |        (possibility to set `tol` and `max_iter`).\n",
      " |  \n",
      " |      - 'lsqr' uses the dedicated regularized least-squares routine\n",
      " |        scipy.sparse.linalg.lsqr. It is the fastest and uses an iterative\n",
      " |        procedure.\n",
      " |  \n",
      " |      - 'sag' uses a Stochastic Average Gradient descent, and 'saga' uses\n",
      " |        its improved, unbiased version named SAGA. Both methods also use an\n",
      " |        iterative procedure, and are often faster than other solvers when\n",
      " |        both n_samples and n_features are large. Note that 'sag' and\n",
      " |        'saga' fast convergence is only guaranteed on features with\n",
      " |        approximately the same scale. You can preprocess the data with a\n",
      " |        scaler from sklearn.preprocessing.\n",
      " |  \n",
      " |      All last five solvers support both dense and sparse data. However, only\n",
      " |      'sag' and 'sparse_cg' supports sparse input when `fit_intercept` is\n",
      " |      True.\n",
      " |  \n",
      " |      .. versionadded:: 0.17\n",
      " |         Stochastic Average Gradient descent solver.\n",
      " |      .. versionadded:: 0.19\n",
      " |         SAGA solver.\n",
      " |  \n",
      " |  random_state : int, RandomState instance, default=None\n",
      " |      Used when ``solver`` == 'sag' or 'saga' to shuffle the data.\n",
      " |      See :term:`Glossary <random_state>` for details.\n",
      " |  \n",
      " |      .. versionadded:: 0.17\n",
      " |         `random_state` to support Stochastic Average Gradient.\n",
      " |  \n",
      " |  Attributes\n",
      " |  ----------\n",
      " |  coef_ : ndarray of shape (n_features,) or (n_targets, n_features)\n",
      " |      Weight vector(s).\n",
      " |  \n",
      " |  intercept_ : float or ndarray of shape (n_targets,)\n",
      " |      Independent term in decision function. Set to 0.0 if\n",
      " |      ``fit_intercept = False``.\n",
      " |  \n",
      " |  n_iter_ : None or ndarray of shape (n_targets,)\n",
      " |      Actual number of iterations for each target. Available only for\n",
      " |      sag and lsqr solvers. Other solvers will return None.\n",
      " |  \n",
      " |      .. versionadded:: 0.17\n",
      " |  \n",
      " |  See Also\n",
      " |  --------\n",
      " |  RidgeClassifier : Ridge classifier.\n",
      " |  RidgeCV : Ridge regression with built-in cross validation.\n",
      " |  :class:`~sklearn.kernel_ridge.KernelRidge` : Kernel ridge regression\n",
      " |      combines ridge regression with the kernel trick.\n",
      " |  \n",
      " |  Examples\n",
      " |  --------\n",
      " |  >>> from sklearn.linear_model import Ridge\n",
      " |  >>> import numpy as np\n",
      " |  >>> n_samples, n_features = 10, 5\n",
      " |  >>> rng = np.random.RandomState(0)\n",
      " |  >>> y = rng.randn(n_samples)\n",
      " |  >>> X = rng.randn(n_samples, n_features)\n",
      " |  >>> clf = Ridge(alpha=1.0)\n",
      " |  >>> clf.fit(X, y)\n",
      " |  Ridge()\n",
      " |  \n",
      " |  Method resolution order:\n",
      " |      Ridge\n",
      " |      sklearn.base.MultiOutputMixin\n",
      " |      sklearn.base.RegressorMixin\n",
      " |      _BaseRidge\n",
      " |      sklearn.linear_model._base.LinearModel\n",
      " |      sklearn.base.BaseEstimator\n",
      " |      builtins.object\n",
      " |  \n",
      " |  Methods defined here:\n",
      " |  \n",
      " |  __init__(self, alpha=1.0, *, fit_intercept=True, normalize=False, copy_X=True, max_iter=None, tol=0.001, solver='auto', random_state=None)\n",
      " |      Initialize self.  See help(type(self)) for accurate signature.\n",
      " |  \n",
      " |  fit(self, X, y, sample_weight=None)\n",
      " |      Fit Ridge regression model.\n",
      " |      \n",
      " |      Parameters\n",
      " |      ----------\n",
      " |      X : {ndarray, sparse matrix} of shape (n_samples, n_features)\n",
      " |          Training data\n",
      " |      \n",
      " |      y : ndarray of shape (n_samples,) or (n_samples, n_targets)\n",
      " |          Target values\n",
      " |      \n",
      " |      sample_weight : float or ndarray of shape (n_samples,), default=None\n",
      " |          Individual weights for each sample. If given a float, every sample\n",
      " |          will have the same weight.\n",
      " |      \n",
      " |      Returns\n",
      " |      -------\n",
      " |      self : returns an instance of self.\n",
      " |  \n",
      " |  ----------------------------------------------------------------------\n",
      " |  Data and other attributes defined here:\n",
      " |  \n",
      " |  __abstractmethods__ = frozenset()\n",
      " |  \n",
      " |  ----------------------------------------------------------------------\n",
      " |  Data descriptors inherited from sklearn.base.MultiOutputMixin:\n",
      " |  \n",
      " |  __dict__\n",
      " |      dictionary for instance variables (if defined)\n",
      " |  \n",
      " |  __weakref__\n",
      " |      list of weak references to the object (if defined)\n",
      " |  \n",
      " |  ----------------------------------------------------------------------\n",
      " |  Methods inherited from sklearn.base.RegressorMixin:\n",
      " |  \n",
      " |  score(self, X, y, sample_weight=None)\n",
      " |      Return the coefficient of determination :math:`R^2` of the\n",
      " |      prediction.\n",
      " |      \n",
      " |      The coefficient :math:`R^2` is defined as :math:`(1 - \\frac{u}{v})`,\n",
      " |      where :math:`u` is the residual sum of squares ``((y_true - y_pred)\n",
      " |      ** 2).sum()`` and :math:`v` is the total sum of squares ``((y_true -\n",
      " |      y_true.mean()) ** 2).sum()``. The best possible score is 1.0 and it\n",
      " |      can be negative (because the model can be arbitrarily worse). A\n",
      " |      constant model that always predicts the expected value of `y`,\n",
      " |      disregarding the input features, would get a :math:`R^2` score of\n",
      " |      0.0.\n",
      " |      \n",
      " |      Parameters\n",
      " |      ----------\n",
      " |      X : array-like of shape (n_samples, n_features)\n",
      " |          Test samples. For some estimators this may be a precomputed\n",
      " |          kernel matrix or a list of generic objects instead with shape\n",
      " |          ``(n_samples, n_samples_fitted)``, where ``n_samples_fitted``\n",
      " |          is the number of samples used in the fitting for the estimator.\n",
      " |      \n",
      " |      y : array-like of shape (n_samples,) or (n_samples, n_outputs)\n",
      " |          True values for `X`.\n",
      " |      \n",
      " |      sample_weight : array-like of shape (n_samples,), default=None\n",
      " |          Sample weights.\n",
      " |      \n",
      " |      Returns\n",
      " |      -------\n",
      " |      score : float\n",
      " |          :math:`R^2` of ``self.predict(X)`` wrt. `y`.\n",
      " |      \n",
      " |      Notes\n",
      " |      -----\n",
      " |      The :math:`R^2` score used when calling ``score`` on a regressor uses\n",
      " |      ``multioutput='uniform_average'`` from version 0.23 to keep consistent\n",
      " |      with default value of :func:`~sklearn.metrics.r2_score`.\n",
      " |      This influences the ``score`` method of all the multioutput\n",
      " |      regressors (except for\n",
      " |      :class:`~sklearn.multioutput.MultiOutputRegressor`).\n",
      " |  \n",
      " |  ----------------------------------------------------------------------\n",
      " |  Methods inherited from sklearn.linear_model._base.LinearModel:\n",
      " |  \n",
      " |  predict(self, X)\n",
      " |      Predict using the linear model.\n",
      " |      \n",
      " |      Parameters\n",
      " |      ----------\n",
      " |      X : array-like or sparse matrix, shape (n_samples, n_features)\n",
      " |          Samples.\n",
      " |      \n",
      " |      Returns\n",
      " |      -------\n",
      " |      C : array, shape (n_samples,)\n",
      " |          Returns predicted values.\n",
      " |  \n",
      " |  ----------------------------------------------------------------------\n",
      " |  Methods inherited from sklearn.base.BaseEstimator:\n",
      " |  \n",
      " |  __getstate__(self)\n",
      " |  \n",
      " |  __repr__(self, N_CHAR_MAX=700)\n",
      " |      Return repr(self).\n",
      " |  \n",
      " |  __setstate__(self, state)\n",
      " |  \n",
      " |  get_params(self, deep=True)\n",
      " |      Get parameters for this estimator.\n",
      " |      \n",
      " |      Parameters\n",
      " |      ----------\n",
      " |      deep : bool, default=True\n",
      " |          If True, will return the parameters for this estimator and\n",
      " |          contained subobjects that are estimators.\n",
      " |      \n",
      " |      Returns\n",
      " |      -------\n",
      " |      params : dict\n",
      " |          Parameter names mapped to their values.\n",
      " |  \n",
      " |  set_params(self, **params)\n",
      " |      Set the parameters of this estimator.\n",
      " |      \n",
      " |      The method works on simple estimators as well as on nested objects\n",
      " |      (such as :class:`~sklearn.pipeline.Pipeline`). The latter have\n",
      " |      parameters of the form ``<component>__<parameter>`` so that it's\n",
      " |      possible to update each component of a nested object.\n",
      " |      \n",
      " |      Parameters\n",
      " |      ----------\n",
      " |      **params : dict\n",
      " |          Estimator parameters.\n",
      " |      \n",
      " |      Returns\n",
      " |      -------\n",
      " |      self : estimator instance\n",
      " |          Estimator instance.\n",
      "\n"
     ]
    }
   ],
   "source": [
    "help(Ridge)"
   ]
  },
  {
   "cell_type": "code",
   "execution_count": 162,
   "metadata": {},
   "outputs": [
    {
     "ename": "TypeError",
     "evalue": "__init__() got an unexpected keyword argument 'positive'",
     "output_type": "error",
     "traceback": [
      "\u001b[0;31m---------------------------------------------------------------------------\u001b[0m",
      "\u001b[0;31mTypeError\u001b[0m                                 Traceback (most recent call last)",
      "\u001b[0;32m<ipython-input-162-a6fb49aec65e>\u001b[0m in \u001b[0;36m<module>\u001b[0;34m\u001b[0m\n\u001b[0;32m----> 1\u001b[0;31m \u001b[0mmdl\u001b[0m \u001b[0;34m=\u001b[0m \u001b[0mRidge\u001b[0m\u001b[0;34m(\u001b[0m\u001b[0mpositive\u001b[0m\u001b[0;34m=\u001b[0m\u001b[0;32mTrue\u001b[0m\u001b[0;34m)\u001b[0m\u001b[0;34m\u001b[0m\u001b[0;34m\u001b[0m\u001b[0m\n\u001b[0m",
      "\u001b[0;32m~/.local/lib/python3.6/site-packages/sklearn/utils/validation.py\u001b[0m in \u001b[0;36minner_f\u001b[0;34m(*args, **kwargs)\u001b[0m\n\u001b[1;32m     61\u001b[0m             \u001b[0mextra_args\u001b[0m \u001b[0;34m=\u001b[0m \u001b[0mlen\u001b[0m\u001b[0;34m(\u001b[0m\u001b[0margs\u001b[0m\u001b[0;34m)\u001b[0m \u001b[0;34m-\u001b[0m \u001b[0mlen\u001b[0m\u001b[0;34m(\u001b[0m\u001b[0mall_args\u001b[0m\u001b[0;34m)\u001b[0m\u001b[0;34m\u001b[0m\u001b[0;34m\u001b[0m\u001b[0m\n\u001b[1;32m     62\u001b[0m             \u001b[0;32mif\u001b[0m \u001b[0mextra_args\u001b[0m \u001b[0;34m<=\u001b[0m \u001b[0;36m0\u001b[0m\u001b[0;34m:\u001b[0m\u001b[0;34m\u001b[0m\u001b[0;34m\u001b[0m\u001b[0m\n\u001b[0;32m---> 63\u001b[0;31m                 \u001b[0;32mreturn\u001b[0m \u001b[0mf\u001b[0m\u001b[0;34m(\u001b[0m\u001b[0;34m*\u001b[0m\u001b[0margs\u001b[0m\u001b[0;34m,\u001b[0m \u001b[0;34m**\u001b[0m\u001b[0mkwargs\u001b[0m\u001b[0;34m)\u001b[0m\u001b[0;34m\u001b[0m\u001b[0;34m\u001b[0m\u001b[0m\n\u001b[0m\u001b[1;32m     64\u001b[0m \u001b[0;34m\u001b[0m\u001b[0m\n\u001b[1;32m     65\u001b[0m             \u001b[0;31m# extra_args > 0\u001b[0m\u001b[0;34m\u001b[0m\u001b[0;34m\u001b[0m\u001b[0;34m\u001b[0m\u001b[0m\n",
      "\u001b[0;31mTypeError\u001b[0m: __init__() got an unexpected keyword argument 'positive'"
     ]
    }
   ],
   "source": [
    "mdl = Ridge(positive=True)"
   ]
  },
  {
   "cell_type": "code",
   "execution_count": 155,
   "metadata": {},
   "outputs": [],
   "source": [
    "reg = mdl.fit(sX, y)"
   ]
  },
  {
   "cell_type": "code",
   "execution_count": 156,
   "metadata": {},
   "outputs": [
    {
     "data": {
      "text/plain": [
       "0.189922899853625"
      ]
     },
     "execution_count": 156,
     "metadata": {},
     "output_type": "execute_result"
    }
   ],
   "source": [
    "reg.score(sX, y)"
   ]
  },
  {
   "cell_type": "code",
   "execution_count": 157,
   "metadata": {},
   "outputs": [
    {
     "data": {
      "text/plain": [
       "array([[0.        , 0.        , 0.        , ..., 0.        , 0.        ,\n",
       "        0.        ],\n",
       "       [0.        , 0.69532202, 0.        , ..., 0.        , 0.        ,\n",
       "        0.        ],\n",
       "       [0.        , 0.70215925, 0.        , ..., 0.        , 0.        ,\n",
       "        0.        ],\n",
       "       [0.        , 0.        , 0.        , ..., 0.        , 0.        ,\n",
       "        0.        ],\n",
       "       [0.        , 0.        , 0.        , ..., 0.        , 0.        ,\n",
       "        0.        ]])"
      ]
     },
     "execution_count": 157,
     "metadata": {},
     "output_type": "execute_result"
    }
   ],
   "source": [
    "reg.coef_"
   ]
  },
  {
   "cell_type": "code",
   "execution_count": 158,
   "metadata": {},
   "outputs": [
    {
     "data": {
      "text/plain": [
       "array([1.61497473e+01, 5.16221997e+00, 1.70202572e+01, 3.00000000e-03,\n",
       "       1.75490669e+01])"
      ]
     },
     "execution_count": 158,
     "metadata": {},
     "output_type": "execute_result"
    }
   ],
   "source": [
    "reg.intercept_"
   ]
  },
  {
   "cell_type": "code",
   "execution_count": 153,
   "metadata": {},
   "outputs": [
    {
     "data": {
      "text/plain": [
       "array([[-2.72557524e+15,  8.88778350e+14, -3.30176617e+14,\n",
       "        -2.89717579e+12, -1.25487036e+15]])"
      ]
     },
     "execution_count": 153,
     "metadata": {},
     "output_type": "execute_result"
    }
   ],
   "source": [
    "x = np.array(feature_vector(df.iloc[200000])).reshape(1, -1)\n",
    "sx = scaler.transform(x)\n",
    "reg.predict(sx)"
   ]
  },
  {
   "cell_type": "code",
   "execution_count": null,
   "metadata": {},
   "outputs": [],
   "source": [
    "sklearn.loggi"
   ]
  },
  {
   "cell_type": "code",
   "execution_count": null,
   "metadata": {},
   "outputs": [],
   "source": []
  },
  {
   "cell_type": "code",
   "execution_count": null,
   "metadata": {},
   "outputs": [],
   "source": []
  },
  {
   "cell_type": "code",
   "execution_count": null,
   "metadata": {},
   "outputs": [],
   "source": []
  },
  {
   "cell_type": "code",
   "execution_count": 60,
   "metadata": {},
   "outputs": [],
   "source": [
    "# encode, also note there are potentially null values!"
   ]
  },
  {
   "cell_type": "code",
   "execution_count": 31,
   "metadata": {},
   "outputs": [],
   "source": [
    "from tqdm import tqdm"
   ]
  },
  {
   "cell_type": "code",
   "execution_count": 32,
   "metadata": {},
   "outputs": [],
   "source": [
    "minidf = df.iloc[:1000]"
   ]
  },
  {
   "cell_type": "code",
   "execution_count": 47,
   "metadata": {},
   "outputs": [],
   "source": [
    "# holiday? ==> could use that as feature as well!\n",
    "numeric_vars = ['DAY_OF_MONTH', 'DAY_OF_WEEK', 'MONTH', 'QUARTER', 'CRS_ELAPSED_TIME', 'DISTANCE']"
   ]
  },
  {
   "cell_type": "code",
   "execution_count": 48,
   "metadata": {},
   "outputs": [],
   "source": [
    "crs_arr_minute = minidf['CRS_ARR_TIME'].astype(int) % 100\n",
    "crs_arr_15min = (crs_arr_minute / 15).astype(int)\n",
    "\n",
    "crs_dep_minute = minidf['CRS_DEP_TIME'].astype(int) % 100\n",
    "crs_dep_15min = (crs_dep_minute / 15).astype(int)"
   ]
  },
  {
   "cell_type": "code",
   "execution_count": 50,
   "metadata": {},
   "outputs": [],
   "source": [
    "# state"
   ]
  },
  {
   "cell_type": "code",
   "execution_count": 55,
   "metadata": {},
   "outputs": [
    {
     "data": {
      "text/plain": [
       "array(['MO', 'NY', 'TX', 'MA', 'IL', 'FL', 'UT', 'GA', 'NC', 'NJ', 'CA',\n",
       "       'TN', 'NE', 'PA', 'MI', 'RI', 'OK', 'VA', 'PR', 'IA', 'NV', 'IN',\n",
       "       'WA', 'LA', 'AZ', 'NM', 'CO', 'MN', 'VI', 'KS'], dtype=object)"
      ]
     },
     "execution_count": 55,
     "metadata": {},
     "output_type": "execute_result"
    }
   ],
   "source": [
    "minidf['ORIGIN_STATE_ABR'].unique()"
   ]
  },
  {
   "cell_type": "code",
   "execution_count": 13,
   "metadata": {},
   "outputs": [
    {
     "ename": "NameError",
     "evalue": "name 'delay_cols' is not defined",
     "output_type": "error",
     "traceback": [
      "\u001b[0;31m---------------------------------------------------------------------------\u001b[0m",
      "\u001b[0;31mNameError\u001b[0m                                 Traceback (most recent call last)",
      "\u001b[0;32m<ipython-input-13-7703b88a75b0>\u001b[0m in \u001b[0;36m<module>\u001b[0;34m\u001b[0m\n\u001b[0;32m----> 1\u001b[0;31m \u001b[0mdelay_cols\u001b[0m\u001b[0;34m\u001b[0m\u001b[0;34m\u001b[0m\u001b[0m\n\u001b[0m",
      "\u001b[0;31mNameError\u001b[0m: name 'delay_cols' is not defined"
     ]
    }
   ],
   "source": [
    "delay_cols"
   ]
  },
  {
   "cell_type": "code",
   "execution_count": 2,
   "metadata": {},
   "outputs": [
    {
     "name": "stdout",
     "output_type": "stream",
     "text": [
      "flights_on_time_performance_1987_10.csv\r\n",
      "flights_on_time_performance_1987_11.csv\r\n",
      "flights_on_time_performance_1987_12.csv\r\n",
      "flights_on_time_performance_1988_01.csv\r\n",
      "flights_on_time_performance_1988_02.csv\r\n",
      "flights_on_time_performance_1988_03.csv\r\n",
      "flights_on_time_performance_1988_04.csv\r\n",
      "flights_on_time_performance_1988_05.csv\r\n",
      "flights_on_time_performance_1988_06.csv\r\n",
      "flights_on_time_performance_1988_07.csv\r\n",
      "flights_on_time_performance_1988_08.csv\r\n",
      "flights_on_time_performance_1988_09.csv\r\n",
      "flights_on_time_performance_1988_10.csv\r\n",
      "flights_on_time_performance_1988_11.csv\r\n",
      "flights_on_time_performance_1988_12.csv\r\n",
      "flights_on_time_performance_1989_01.csv\r\n",
      "flights_on_time_performance_1989_02.csv\r\n",
      "flights_on_time_performance_1989_03.csv\r\n",
      "flights_on_time_performance_1989_04.csv\r\n",
      "flights_on_time_performance_1989_05.csv\r\n",
      "flights_on_time_performance_1989_06.csv\r\n",
      "flights_on_time_performance_1989_07.csv\r\n",
      "flights_on_time_performance_1989_08.csv\r\n",
      "flights_on_time_performance_1989_09.csv\r\n",
      "flights_on_time_performance_1989_10.csv\r\n",
      "flights_on_time_performance_1989_11.csv\r\n",
      "flights_on_time_performance_1989_12.csv\r\n",
      "flights_on_time_performance_1990_01.csv\r\n",
      "flights_on_time_performance_1990_02.csv\r\n",
      "flights_on_time_performance_1990_03.csv\r\n",
      "flights_on_time_performance_1990_04.csv\r\n",
      "flights_on_time_performance_1990_05.csv\r\n",
      "flights_on_time_performance_1990_06.csv\r\n",
      "flights_on_time_performance_1990_07.csv\r\n",
      "flights_on_time_performance_1990_08.csv\r\n",
      "flights_on_time_performance_1990_09.csv\r\n",
      "flights_on_time_performance_1990_10.csv\r\n",
      "flights_on_time_performance_1990_11.csv\r\n",
      "flights_on_time_performance_1990_12.csv\r\n",
      "flights_on_time_performance_1991_01.csv\r\n",
      "flights_on_time_performance_1991_02.csv\r\n",
      "flights_on_time_performance_1991_03.csv\r\n",
      "flights_on_time_performance_1991_04.csv\r\n",
      "flights_on_time_performance_1991_05.csv\r\n",
      "flights_on_time_performance_1991_06.csv\r\n",
      "flights_on_time_performance_1991_07.csv\r\n",
      "flights_on_time_performance_1991_08.csv\r\n",
      "flights_on_time_performance_1991_09.csv\r\n",
      "flights_on_time_performance_1991_10.csv\r\n",
      "flights_on_time_performance_1991_11.csv\r\n",
      "flights_on_time_performance_1991_12.csv\r\n",
      "flights_on_time_performance_1992_01.csv\r\n",
      "flights_on_time_performance_1992_02.csv\r\n",
      "flights_on_time_performance_1992_03.csv\r\n",
      "flights_on_time_performance_1992_04.csv\r\n",
      "flights_on_time_performance_1992_05.csv\r\n",
      "flights_on_time_performance_1992_06.csv\r\n",
      "flights_on_time_performance_1992_07.csv\r\n",
      "flights_on_time_performance_1992_08.csv\r\n",
      "flights_on_time_performance_1992_09.csv\r\n",
      "flights_on_time_performance_1992_10.csv\r\n",
      "flights_on_time_performance_1992_11.csv\r\n",
      "flights_on_time_performance_1992_12.csv\r\n",
      "flights_on_time_performance_1993_01.csv\r\n",
      "flights_on_time_performance_1993_02.csv\r\n",
      "flights_on_time_performance_1993_03.csv\r\n",
      "flights_on_time_performance_1993_04.csv\r\n",
      "flights_on_time_performance_1993_05.csv\r\n",
      "flights_on_time_performance_1993_06.csv\r\n",
      "flights_on_time_performance_1993_07.csv\r\n",
      "flights_on_time_performance_1993_08.csv\r\n",
      "flights_on_time_performance_1993_09.csv\r\n",
      "flights_on_time_performance_1993_10.csv\r\n",
      "flights_on_time_performance_1993_11.csv\r\n",
      "flights_on_time_performance_1993_12.csv\r\n",
      "flights_on_time_performance_1994_01.csv\r\n",
      "flights_on_time_performance_1994_02.csv\r\n",
      "flights_on_time_performance_1994_03.csv\r\n",
      "flights_on_time_performance_1994_04.csv\r\n",
      "flights_on_time_performance_1994_05.csv\r\n",
      "flights_on_time_performance_1994_06.csv\r\n",
      "flights_on_time_performance_1994_07.csv\r\n",
      "flights_on_time_performance_1994_08.csv\r\n",
      "flights_on_time_performance_1994_09.csv\r\n",
      "flights_on_time_performance_1994_10.csv\r\n",
      "flights_on_time_performance_1994_11.csv\r\n",
      "flights_on_time_performance_1994_12.csv\r\n",
      "flights_on_time_performance_1995_01.csv\r\n",
      "flights_on_time_performance_1995_02.csv\r\n",
      "flights_on_time_performance_1995_03.csv\r\n",
      "flights_on_time_performance_1995_04.csv\r\n",
      "flights_on_time_performance_1995_05.csv\r\n",
      "flights_on_time_performance_1995_06.csv\r\n",
      "flights_on_time_performance_1995_07.csv\r\n",
      "flights_on_time_performance_1995_08.csv\r\n",
      "flights_on_time_performance_1995_09.csv\r\n",
      "flights_on_time_performance_1995_10.csv\r\n",
      "flights_on_time_performance_1995_11.csv\r\n",
      "flights_on_time_performance_1995_12.csv\r\n",
      "flights_on_time_performance_1996_01.csv\r\n",
      "flights_on_time_performance_1996_02.csv\r\n",
      "flights_on_time_performance_1996_03.csv\r\n",
      "flights_on_time_performance_1996_04.csv\r\n",
      "flights_on_time_performance_1996_05.csv\r\n",
      "flights_on_time_performance_1996_06.csv\r\n",
      "flights_on_time_performance_1996_07.csv\r\n",
      "flights_on_time_performance_1996_08.csv\r\n",
      "flights_on_time_performance_1996_09.csv\r\n",
      "flights_on_time_performance_1996_10.csv\r\n",
      "flights_on_time_performance_1996_11.csv\r\n",
      "flights_on_time_performance_1996_12.csv\r\n",
      "flights_on_time_performance_1997_01.csv\r\n",
      "flights_on_time_performance_1997_02.csv\r\n",
      "flights_on_time_performance_1997_03.csv\r\n",
      "flights_on_time_performance_1997_04.csv\r\n",
      "flights_on_time_performance_1997_05.csv\r\n",
      "flights_on_time_performance_1997_06.csv\r\n",
      "flights_on_time_performance_1997_07.csv\r\n",
      "flights_on_time_performance_1997_08.csv\r\n",
      "flights_on_time_performance_1997_09.csv\r\n",
      "flights_on_time_performance_1997_10.csv\r\n",
      "flights_on_time_performance_1997_11.csv\r\n",
      "flights_on_time_performance_1997_12.csv\r\n",
      "flights_on_time_performance_1998_01.csv\r\n",
      "flights_on_time_performance_1998_02.csv\r\n",
      "flights_on_time_performance_1998_03.csv\r\n",
      "flights_on_time_performance_1998_04.csv\r\n",
      "flights_on_time_performance_1998_05.csv\r\n",
      "flights_on_time_performance_1998_06.csv\r\n",
      "flights_on_time_performance_1998_07.csv\r\n",
      "flights_on_time_performance_1998_08.csv\r\n",
      "flights_on_time_performance_1998_09.csv\r\n",
      "flights_on_time_performance_1998_10.csv\r\n",
      "flights_on_time_performance_1998_11.csv\r\n",
      "flights_on_time_performance_1998_12.csv\r\n",
      "flights_on_time_performance_1999_01.csv\r\n",
      "flights_on_time_performance_1999_02.csv\r\n",
      "flights_on_time_performance_1999_03.csv\r\n",
      "flights_on_time_performance_1999_04.csv\r\n",
      "flights_on_time_performance_1999_05.csv\r\n",
      "flights_on_time_performance_1999_06.csv\r\n",
      "flights_on_time_performance_1999_07.csv\r\n",
      "flights_on_time_performance_1999_08.csv\r\n",
      "flights_on_time_performance_1999_09.csv\r\n",
      "flights_on_time_performance_1999_10.csv\r\n",
      "flights_on_time_performance_1999_11.csv\r\n",
      "flights_on_time_performance_1999_12.csv\r\n",
      "flights_on_time_performance_2000_01.csv\r\n",
      "flights_on_time_performance_2000_02.csv\r\n",
      "flights_on_time_performance_2000_03.csv\r\n",
      "flights_on_time_performance_2000_04.csv\r\n",
      "flights_on_time_performance_2000_05.csv\r\n",
      "flights_on_time_performance_2000_06.csv\r\n",
      "flights_on_time_performance_2000_07.csv\r\n",
      "flights_on_time_performance_2000_08.csv\r\n",
      "flights_on_time_performance_2000_09.csv\r\n",
      "flights_on_time_performance_2000_10.csv\r\n",
      "flights_on_time_performance_2000_11.csv\r\n",
      "flights_on_time_performance_2000_12.csv\r\n",
      "flights_on_time_performance_2001_01.csv\r\n",
      "flights_on_time_performance_2001_02.csv\r\n",
      "flights_on_time_performance_2001_03.csv\r\n",
      "flights_on_time_performance_2001_04.csv\r\n",
      "flights_on_time_performance_2001_05.csv\r\n",
      "flights_on_time_performance_2001_06.csv\r\n",
      "flights_on_time_performance_2001_07.csv\r\n",
      "flights_on_time_performance_2001_08.csv\r\n",
      "flights_on_time_performance_2001_09.csv\r\n",
      "flights_on_time_performance_2001_10.csv\r\n",
      "flights_on_time_performance_2001_11.csv\r\n",
      "flights_on_time_performance_2001_12.csv\r\n",
      "flights_on_time_performance_2002_01.csv\r\n",
      "flights_on_time_performance_2002_02.csv\r\n",
      "flights_on_time_performance_2002_03.csv\r\n",
      "flights_on_time_performance_2002_04.csv\r\n",
      "flights_on_time_performance_2002_05.csv\r\n",
      "flights_on_time_performance_2002_06.csv\r\n",
      "flights_on_time_performance_2002_07.csv\r\n",
      "flights_on_time_performance_2002_08.csv\r\n",
      "flights_on_time_performance_2002_09.csv\r\n",
      "flights_on_time_performance_2002_10.csv\r\n",
      "flights_on_time_performance_2002_11.csv\r\n",
      "flights_on_time_performance_2002_12.csv\r\n",
      "flights_on_time_performance_2003_01.csv\r\n",
      "flights_on_time_performance_2003_02.csv\r\n",
      "flights_on_time_performance_2003_03.csv\r\n",
      "flights_on_time_performance_2003_04.csv\r\n",
      "flights_on_time_performance_2003_05.csv\r\n",
      "flights_on_time_performance_2003_06.csv\r\n",
      "flights_on_time_performance_2003_07.csv\r\n",
      "flights_on_time_performance_2003_08.csv\r\n",
      "flights_on_time_performance_2003_09.csv\r\n",
      "flights_on_time_performance_2003_10.csv\r\n",
      "flights_on_time_performance_2003_11.csv\r\n",
      "flights_on_time_performance_2003_12.csv\r\n",
      "flights_on_time_performance_2004_01.csv\r\n",
      "flights_on_time_performance_2004_02.csv\r\n",
      "flights_on_time_performance_2004_03.csv\r\n",
      "flights_on_time_performance_2004_04.csv\r\n",
      "flights_on_time_performance_2004_05.csv\r\n",
      "flights_on_time_performance_2004_06.csv\r\n",
      "flights_on_time_performance_2004_07.csv\r\n",
      "flights_on_time_performance_2004_08.csv\r\n",
      "flights_on_time_performance_2004_09.csv\r\n",
      "flights_on_time_performance_2004_10.csv\r\n",
      "flights_on_time_performance_2004_11.csv\r\n",
      "flights_on_time_performance_2004_12.csv\r\n",
      "flights_on_time_performance_2005_01.csv\r\n",
      "flights_on_time_performance_2005_02.csv\r\n",
      "flights_on_time_performance_2005_03.csv\r\n",
      "flights_on_time_performance_2005_04.csv\r\n",
      "flights_on_time_performance_2005_05.csv\r\n",
      "flights_on_time_performance_2005_06.csv\r\n",
      "flights_on_time_performance_2005_07.csv\r\n",
      "flights_on_time_performance_2005_08.csv\r\n",
      "flights_on_time_performance_2005_09.csv\r\n",
      "flights_on_time_performance_2005_10.csv\r\n",
      "flights_on_time_performance_2005_11.csv\r\n",
      "flights_on_time_performance_2005_12.csv\r\n",
      "flights_on_time_performance_2006_01.csv\r\n",
      "flights_on_time_performance_2006_02.csv\r\n",
      "flights_on_time_performance_2006_03.csv\r\n",
      "flights_on_time_performance_2006_04.csv\r\n",
      "flights_on_time_performance_2006_05.csv\r\n",
      "flights_on_time_performance_2006_06.csv\r\n",
      "flights_on_time_performance_2006_07.csv\r\n",
      "flights_on_time_performance_2006_08.csv\r\n",
      "flights_on_time_performance_2006_09.csv\r\n",
      "flights_on_time_performance_2006_10.csv\r\n",
      "flights_on_time_performance_2006_11.csv\r\n",
      "flights_on_time_performance_2006_12.csv\r\n",
      "flights_on_time_performance_2007_01.csv\r\n",
      "flights_on_time_performance_2007_02.csv\r\n",
      "flights_on_time_performance_2007_03.csv\r\n",
      "flights_on_time_performance_2007_04.csv\r\n",
      "flights_on_time_performance_2007_05.csv\r\n",
      "flights_on_time_performance_2007_06.csv\r\n",
      "flights_on_time_performance_2007_07.csv\r\n",
      "flights_on_time_performance_2007_08.csv\r\n",
      "flights_on_time_performance_2007_09.csv\r\n",
      "flights_on_time_performance_2007_10.csv\r\n",
      "flights_on_time_performance_2007_11.csv\r\n",
      "flights_on_time_performance_2007_12.csv\r\n",
      "flights_on_time_performance_2008_01.csv\r\n",
      "flights_on_time_performance_2008_02.csv\r\n",
      "flights_on_time_performance_2008_03.csv\r\n",
      "flights_on_time_performance_2008_04.csv\r\n",
      "flights_on_time_performance_2008_05.csv\r\n",
      "flights_on_time_performance_2008_06.csv\r\n",
      "flights_on_time_performance_2008_07.csv\r\n",
      "flights_on_time_performance_2008_08.csv\r\n",
      "flights_on_time_performance_2008_09.csv\r\n",
      "flights_on_time_performance_2008_10.csv\r\n",
      "flights_on_time_performance_2008_11.csv\r\n",
      "flights_on_time_performance_2008_12.csv\r\n",
      "flights_on_time_performance_2009_01.csv\r\n",
      "flights_on_time_performance_2009_02.csv\r\n",
      "flights_on_time_performance_2009_03.csv\r\n",
      "flights_on_time_performance_2009_04.csv\r\n",
      "flights_on_time_performance_2009_05.csv\r\n",
      "flights_on_time_performance_2009_06.csv\r\n",
      "flights_on_time_performance_2009_07.csv\r\n",
      "flights_on_time_performance_2009_08.csv\r\n",
      "flights_on_time_performance_2009_09.csv\r\n",
      "flights_on_time_performance_2009_10.csv\r\n",
      "flights_on_time_performance_2009_11.csv\r\n",
      "flights_on_time_performance_2009_12.csv\r\n",
      "flights_on_time_performance_2010_01.csv\r\n",
      "flights_on_time_performance_2010_02.csv\r\n",
      "flights_on_time_performance_2010_03.csv\r\n",
      "flights_on_time_performance_2010_04.csv\r\n",
      "flights_on_time_performance_2010_05.csv\r\n",
      "flights_on_time_performance_2010_06.csv\r\n",
      "flights_on_time_performance_2010_07.csv\r\n",
      "flights_on_time_performance_2010_08.csv\r\n",
      "flights_on_time_performance_2010_09.csv\r\n",
      "flights_on_time_performance_2010_10.csv\r\n",
      "flights_on_time_performance_2010_11.csv\r\n",
      "flights_on_time_performance_2010_12.csv\r\n",
      "flights_on_time_performance_2011_01.csv\r\n",
      "flights_on_time_performance_2011_02.csv\r\n",
      "flights_on_time_performance_2011_03.csv\r\n",
      "flights_on_time_performance_2011_04.csv\r\n",
      "flights_on_time_performance_2011_05.csv\r\n",
      "flights_on_time_performance_2011_06.csv\r\n",
      "flights_on_time_performance_2011_07.csv\r\n",
      "flights_on_time_performance_2011_08.csv\r\n",
      "flights_on_time_performance_2011_09.csv\r\n",
      "flights_on_time_performance_2011_10.csv\r\n",
      "flights_on_time_performance_2011_11.csv\r\n",
      "flights_on_time_performance_2011_12.csv\r\n",
      "flights_on_time_performance_2012_01.csv\r\n",
      "flights_on_time_performance_2012_02.csv\r\n",
      "flights_on_time_performance_2012_03.csv\r\n",
      "flights_on_time_performance_2012_04.csv\r\n",
      "flights_on_time_performance_2012_05.csv\r\n",
      "flights_on_time_performance_2012_06.csv\r\n",
      "flights_on_time_performance_2012_07.csv\r\n",
      "flights_on_time_performance_2012_08.csv\r\n",
      "flights_on_time_performance_2012_09.csv\r\n",
      "flights_on_time_performance_2012_10.csv\r\n",
      "flights_on_time_performance_2012_11.csv\r\n",
      "flights_on_time_performance_2012_12.csv\r\n",
      "flights_on_time_performance_2013_01.csv\r\n",
      "flights_on_time_performance_2013_02.csv\r\n",
      "flights_on_time_performance_2013_03.csv\r\n",
      "flights_on_time_performance_2013_04.csv\r\n",
      "flights_on_time_performance_2013_05.csv\r\n",
      "flights_on_time_performance_2013_06.csv\r\n",
      "flights_on_time_performance_2013_07.csv\r\n",
      "flights_on_time_performance_2013_08.csv\r\n",
      "flights_on_time_performance_2013_09.csv\r\n",
      "flights_on_time_performance_2013_10.csv\r\n",
      "flights_on_time_performance_2013_11.csv\r\n",
      "flights_on_time_performance_2013_12.csv\r\n",
      "flights_on_time_performance_2014_01.csv\r\n",
      "flights_on_time_performance_2014_02.csv\r\n",
      "flights_on_time_performance_2014_03.csv\r\n",
      "flights_on_time_performance_2014_04.csv\r\n",
      "flights_on_time_performance_2014_05.csv\r\n",
      "flights_on_time_performance_2014_06.csv\r\n",
      "flights_on_time_performance_2014_07.csv\r\n",
      "flights_on_time_performance_2014_08.csv\r\n",
      "flights_on_time_performance_2014_09.csv\r\n",
      "flights_on_time_performance_2014_10.csv\r\n",
      "flights_on_time_performance_2014_11.csv\r\n",
      "flights_on_time_performance_2014_12.csv\r\n",
      "flights_on_time_performance_2015_01.csv\r\n",
      "flights_on_time_performance_2015_02.csv\r\n",
      "flights_on_time_performance_2015_03.csv\r\n",
      "flights_on_time_performance_2015_04.csv\r\n",
      "flights_on_time_performance_2015_05.csv\r\n",
      "flights_on_time_performance_2015_06.csv\r\n",
      "flights_on_time_performance_2015_07.csv\r\n",
      "flights_on_time_performance_2015_08.csv\r\n",
      "flights_on_time_performance_2015_09.csv\r\n",
      "flights_on_time_performance_2015_10.csv\r\n",
      "flights_on_time_performance_2015_11.csv\r\n",
      "flights_on_time_performance_2015_12.csv\r\n",
      "flights_on_time_performance_2016_01.csv\r\n",
      "flights_on_time_performance_2016_02.csv\r\n",
      "flights_on_time_performance_2016_03.csv\r\n",
      "flights_on_time_performance_2016_04.csv\r\n",
      "flights_on_time_performance_2016_05.csv\r\n",
      "flights_on_time_performance_2016_06.csv\r\n",
      "flights_on_time_performance_2016_07.csv\r\n",
      "flights_on_time_performance_2016_08.csv\r\n",
      "flights_on_time_performance_2016_09.csv\r\n",
      "flights_on_time_performance_2016_10.csv\r\n",
      "flights_on_time_performance_2016_11.csv\r\n",
      "flights_on_time_performance_2016_12.csv\r\n",
      "flights_on_time_performance_2017_01.csv\r\n",
      "flights_on_time_performance_2017_02.csv\r\n",
      "flights_on_time_performance_2017_03.csv\r\n",
      "flights_on_time_performance_2017_04.csv\r\n",
      "flights_on_time_performance_2017_05.csv\r\n",
      "flights_on_time_performance_2017_06.csv\r\n",
      "flights_on_time_performance_2017_07.csv\r\n",
      "flights_on_time_performance_2017_08.csv\r\n",
      "flights_on_time_performance_2017_09.csv\r\n",
      "flights_on_time_performance_2017_10.csv\r\n",
      "flights_on_time_performance_2017_11.csv\r\n",
      "flights_on_time_performance_2017_12.csv\r\n",
      "flights_on_time_performance_2018_01.csv\r\n",
      "flights_on_time_performance_2018_02.csv\r\n",
      "flights_on_time_performance_2018_03.csv\r\n",
      "flights_on_time_performance_2018_04.csv\r\n",
      "flights_on_time_performance_2018_05.csv\r\n",
      "flights_on_time_performance_2018_06.csv\r\n",
      "flights_on_time_performance_2018_07.csv\r\n",
      "flights_on_time_performance_2018_08.csv\r\n",
      "flights_on_time_performance_2018_09.csv\r\n",
      "flights_on_time_performance_2018_10.csv\r\n",
      "flights_on_time_performance_2018_11.csv\r\n",
      "flights_on_time_performance_2018_12.csv\r\n",
      "flights_on_time_performance_2019_01.csv\r\n",
      "flights_on_time_performance_2019_02.csv\r\n",
      "flights_on_time_performance_2019_03.csv\r\n",
      "flights_on_time_performance_2019_04.csv\r\n",
      "flights_on_time_performance_2019_05.csv\r\n",
      "flights_on_time_performance_2019_06.csv\r\n",
      "flights_on_time_performance_2019_07.csv\r\n",
      "flights_on_time_performance_2019_08.csv\r\n",
      "flights_on_time_performance_2019_09.csv\r\n",
      "flights_on_time_performance_2019_10.csv\r\n",
      "flights_on_time_performance_2019_11.csv\r\n",
      "flights_on_time_performance_2019_12.csv\r\n",
      "flights_on_time_performance_2020_01.csv\r\n",
      "flights_on_time_performance_2020_02.csv\r\n",
      "flights_on_time_performance_2020_03.csv\r\n",
      "flights_on_time_performance_2020_04.csv\r\n",
      "flights_on_time_performance_2020_05.csv\r\n",
      "flights_on_time_performance_2020_06.csv\r\n",
      "flights_on_time_performance_2020_07.csv\r\n",
      "flights_on_time_performance_2020_08.csv\r\n",
      "flights_on_time_performance_2020_09.csv\r\n",
      "flights_on_time_performance_2020_10.csv\r\n",
      "flights_on_time_performance_2020_11.csv\r\n",
      "flights_on_time_performance_2020_12.csv\r\n",
      "flights_on_time_performance_2021_01.csv\r\n",
      "flights_on_time_performance_2021_02.csv\r\n",
      "flights_on_time_performance_2021_03.csv\r\n",
      "flights_on_time_performance_2021_04.csv\r\n",
      "flights_on_time_performance_2021_05.csv\r\n",
      "flights_on_time_performance_2021_06.csv\r\n",
      "flights_on_time_performance_2021_07.csv\r\n",
      "flights_on_time_performance_2021_08.csv\r\n",
      "flights_on_time_performance_2021_09.csv\r\n",
      "flights_on_time_performance_2021_10.csv\r\n",
      "flights_on_time_performance_2021_11.csv\r\n"
     ]
    }
   ],
   "source": [
    "!ls /hot/data/flights_all"
   ]
  },
  {
   "cell_type": "code",
   "execution_count": null,
   "metadata": {},
   "outputs": [],
   "source": []
  },
  {
   "cell_type": "code",
   "execution_count": null,
   "metadata": {},
   "outputs": [],
   "source": [
    "delay_cols = sorted([c for c in df.columns if 'DELAY' in c])"
   ]
  },
  {
   "cell_type": "code",
   "execution_count": null,
   "metadata": {},
   "outputs": [],
   "source": [
    "# use the following logic:\n",
    "\n",
    "# if flight arrives on time => check if arrival delay is larger than 0"
   ]
  }
 ],
 "metadata": {
  "kernelspec": {
   "display_name": "Python 3",
   "language": "python",
   "name": "python3"
  },
  "language_info": {
   "codemirror_mode": {
    "name": "ipython",
    "version": 3
   },
   "file_extension": ".py",
   "mimetype": "text/x-python",
   "name": "python",
   "nbconvert_exporter": "python",
   "pygments_lexer": "ipython3",
   "version": "3.6.9"
  }
 },
 "nbformat": 4,
 "nbformat_minor": 5
}
