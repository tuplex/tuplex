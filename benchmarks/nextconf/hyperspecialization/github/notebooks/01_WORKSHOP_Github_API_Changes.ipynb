{
 "cells": [
  {
   "cell_type": "code",
   "execution_count": 1,
   "id": "cbae1607",
   "metadata": {},
   "outputs": [],
   "source": [
    "url = 'https://docs.github.com/en/graphql/overview/changelog'"
   ]
  },
  {
   "cell_type": "code",
   "execution_count": 6,
   "id": "ec657e37",
   "metadata": {},
   "outputs": [],
   "source": [
    "import urllib\n",
    "import requests"
   ]
  },
  {
   "cell_type": "code",
   "execution_count": 3,
   "id": "d6c31301",
   "metadata": {},
   "outputs": [],
   "source": [
    "from bs4 import BeautifulSoup"
   ]
  },
  {
   "cell_type": "code",
   "execution_count": 7,
   "id": "39440492",
   "metadata": {},
   "outputs": [],
   "source": [
    "r = requests.get(url)"
   ]
  },
  {
   "cell_type": "code",
   "execution_count": 30,
   "id": "568d749c",
   "metadata": {},
   "outputs": [
    {
     "data": {
      "text/plain": [
       "1937014"
      ]
     },
     "execution_count": 30,
     "metadata": {},
     "output_type": "execute_result"
    }
   ],
   "source": [
    "len(text)"
   ]
  },
  {
   "cell_type": "code",
   "execution_count": 31,
   "id": "a7b6d71e",
   "metadata": {},
   "outputs": [],
   "source": [
    "with open('Changelog - GitHub Docs.html') as fp:\n",
    "    text = fp.read()"
   ]
  },
  {
   "cell_type": "code",
   "execution_count": 32,
   "id": "bc6464dc",
   "metadata": {},
   "outputs": [],
   "source": [
    "soup = BeautifulSoup(text)"
   ]
  },
  {
   "cell_type": "code",
   "execution_count": 33,
   "id": "7977051a",
   "metadata": {
    "scrolled": true
   },
   "outputs": [
    {
     "name": "stdout",
     "output_type": "stream",
     "text": [
      "Help on method find_all in module bs4.element:\n",
      "\n",
      "find_all(name=None, attrs={}, recursive=True, text=None, limit=None, **kwargs) method of bs4.BeautifulSoup instance\n",
      "    Look in the children of this PageElement and find all\n",
      "    PageElements that match the given criteria.\n",
      "    \n",
      "    All find_* methods take a common set of arguments. See the online\n",
      "    documentation for detailed explanations.\n",
      "    \n",
      "    :param name: A filter on tag name.\n",
      "    :param attrs: A dictionary of filters on attribute values.\n",
      "    :param recursive: If this is True, find_all() will perform a\n",
      "        recursive search of this PageElement's children. Otherwise,\n",
      "        only the direct children will be considered.\n",
      "    :param limit: Stop looking after finding this many results.\n",
      "    :kwargs: A dictionary of filters on attribute values.\n",
      "    :return: A ResultSet of PageElements.\n",
      "    :rtype: bs4.element.ResultSet\n",
      "\n"
     ]
    }
   ],
   "source": [
    "help(soup.find_all)"
   ]
  },
  {
   "cell_type": "code",
   "execution_count": 34,
   "id": "950c434e",
   "metadata": {},
   "outputs": [],
   "source": [
    "main_el = soup.find('main', {\"id\": \"main-content\"})"
   ]
  },
  {
   "cell_type": "code",
   "execution_count": 35,
   "id": "964473fc",
   "metadata": {},
   "outputs": [],
   "source": [
    "ul_changes = main_el.find_all('ul')"
   ]
  },
  {
   "cell_type": "code",
   "execution_count": 36,
   "id": "3e47afd2",
   "metadata": {},
   "outputs": [
    {
     "data": {
      "text/plain": [
       "747"
      ]
     },
     "execution_count": 36,
     "metadata": {},
     "output_type": "execute_result"
    }
   ],
   "source": [
    "len(ul_changes)"
   ]
  },
  {
   "cell_type": "code",
   "execution_count": 37,
   "id": "da3d6e5a",
   "metadata": {},
   "outputs": [
    {
     "data": {
      "text/plain": [
       "<ul><li class=\"Item__StyledItem-sc-yeql7o-2 hoyjJO\" tabindex=\"-1\"><div class=\"Item__DividedContent-sc-yeql7o-0 eBArJY\"><div class=\"Item__MainContent-sc-yeql7o-1 bzHypO\" style=\"--main-content-flex-direction:row\"><div class=\"lh-condensed d-block width-full\"><a class=\"d-block width-auto\" href=\"#schema-changes-for-2022-06-13\">Schema Changes for 2022-06-13</a></div></div></div></li></ul>"
      ]
     },
     "execution_count": 37,
     "metadata": {},
     "output_type": "execute_result"
    }
   ],
   "source": [
    "ul_changes[0]"
   ]
  },
  {
   "cell_type": "code",
   "execution_count": 57,
   "id": "5d95c837",
   "metadata": {},
   "outputs": [],
   "source": [
    "# import selenium"
   ]
  },
  {
   "cell_type": "code",
   "execution_count": 58,
   "id": "d9a5852e",
   "metadata": {},
   "outputs": [],
   "source": [
    "# from selenium import webdriver\n",
    "# from selenium.webdriver.support.ui import WebDriverWait\n",
    "# # Step 1) Open Firefox \n",
    "# browser = webdriver.Firefox()\n",
    "# browser.get(url)"
   ]
  },
  {
   "cell_type": "code",
   "execution_count": 40,
   "id": "f36695d6",
   "metadata": {},
   "outputs": [],
   "source": [
    "with open('data.html', 'w') as fp:\n",
    "    fp.write(browser.page_source)"
   ]
  },
  {
   "cell_type": "code",
   "execution_count": 41,
   "id": "e2c77a59",
   "metadata": {},
   "outputs": [],
   "source": [
    "with open('data.html') as fp:\n",
    "    text = fp.read()\n",
    "    \n"
   ]
  },
  {
   "cell_type": "code",
   "execution_count": 56,
   "id": "1056f052",
   "metadata": {},
   "outputs": [],
   "source": [
    "# browser.close()"
   ]
  },
  {
   "cell_type": "code",
   "execution_count": 52,
   "id": "815d704c",
   "metadata": {},
   "outputs": [],
   "source": [
    "soup = BeautifulSoup(text)"
   ]
  },
  {
   "cell_type": "code",
   "execution_count": 53,
   "id": "c5f46037",
   "metadata": {},
   "outputs": [],
   "source": [
    "main_el = soup.find('main', {\"id\": \"main-content\"})"
   ]
  },
  {
   "cell_type": "code",
   "execution_count": 59,
   "id": "87ae9365",
   "metadata": {},
   "outputs": [],
   "source": [
    "ul_elements = main_el.find_all('ul')"
   ]
  },
  {
   "cell_type": "code",
   "execution_count": 65,
   "id": "05393e48",
   "metadata": {},
   "outputs": [],
   "source": [
    "uls = [el for el in ul_elements if len(el.attrs) == 0]"
   ]
  },
  {
   "cell_type": "code",
   "execution_count": 74,
   "id": "b93c24f6",
   "metadata": {},
   "outputs": [],
   "source": [
    "def has_lis(ul_el):\n",
    "    lis = ul_el.find_all('li')\n",
    "    for li in lis:\n",
    "        if len(li.attrs) != 0:\n",
    "            return False\n",
    "    return True"
   ]
  },
  {
   "cell_type": "code",
   "execution_count": 76,
   "id": "7ac2ea69",
   "metadata": {},
   "outputs": [],
   "source": [
    "uls = list(filter(has_lis, uls))"
   ]
  },
  {
   "cell_type": "code",
   "execution_count": 77,
   "id": "2e2b71a4",
   "metadata": {},
   "outputs": [
    {
     "data": {
      "text/plain": [
       "407"
      ]
     },
     "execution_count": 77,
     "metadata": {},
     "output_type": "execute_result"
    }
   ],
   "source": [
    "len(uls)"
   ]
  },
  {
   "cell_type": "code",
   "execution_count": 79,
   "id": "f95fb398",
   "metadata": {},
   "outputs": [],
   "source": [
    "changes: 407"
   ]
  },
  {
   "cell_type": "markdown",
   "id": "4f58b7a1",
   "metadata": {},
   "source": [
    "individual changes:"
   ]
  },
  {
   "cell_type": "code",
   "execution_count": 85,
   "id": "7715a89d",
   "metadata": {},
   "outputs": [],
   "source": [
    "import numpy as np"
   ]
  },
  {
   "cell_type": "code",
   "execution_count": 86,
   "id": "45fae4e5",
   "metadata": {},
   "outputs": [],
   "source": [
    "n_changes = np.array([len(el.find_all('li')) for el in uls])"
   ]
  },
  {
   "cell_type": "code",
   "execution_count": 88,
   "id": "d71efab1",
   "metadata": {},
   "outputs": [
    {
     "data": {
      "text/plain": [
       "3748"
      ]
     },
     "execution_count": 88,
     "metadata": {},
     "output_type": "execute_result"
    }
   ],
   "source": [
    "n_changes.sum()"
   ]
  },
  {
   "cell_type": "code",
   "execution_count": null,
   "id": "ea41708e",
   "metadata": {},
   "outputs": [],
   "source": []
  }
 ],
 "metadata": {
  "kernelspec": {
   "display_name": "Python 3",
   "language": "python",
   "name": "python3"
  },
  "language_info": {
   "codemirror_mode": {
    "name": "ipython",
    "version": 3
   },
   "file_extension": ".py",
   "mimetype": "text/x-python",
   "name": "python",
   "nbconvert_exporter": "python",
   "pygments_lexer": "ipython3",
   "version": "3.9.10"
  }
 },
 "nbformat": 4,
 "nbformat_minor": 5
}
