{
 "cells": [
  {
   "cell_type": "markdown",
   "id": "046291f9",
   "metadata": {},
   "source": [
    "# 1. Constant-folding benchmark\n",
    "\n",
    "Run micro-benchmark via\n",
    "`tuplex-public/tuplex/build$ ctest -R BasicInvocation.MicroConstantFoldedAggregation --verbose`\n",
    "\n",
    "\n",
    "What?\n",
    "Goal of this benchmark is to estimate how much benefit comes from replacing a hashmap within aggregateByKey with aggregate when the key is constant.\n",
    "\n",
    "Setup:\n",
    "\n",
    "N rows, 3 columns of int64_t integers. First column year, second column month, third column data to sum up.\n",
    "\n",
    "I.e., corresponds to query\n",
    "\n",
    "```\n",
    "ctx.csv(input_pattern)\n",
    "        .selectColumns(std::vector<std::string>({\"YEAR\", \"MONTH\", \"ARR_DELAY\"}))\n",
    "        .aggregateByKey(UDF(\"lambda a, b: a + b\"),\n",
    "                        UDF(\"lambda a, row: a + row['ARR_DELAY']\"),\n",
    "                        Row(0), std::vector<std::string>({\"YEAR\", \"MONTH\"}))\n",
    "        .show();\n",
    "```"
   ]
  },
  {
   "cell_type": "code",
   "execution_count": 1,
   "id": "773c1549",
   "metadata": {},
   "outputs": [],
   "source": [
    "import pandas as pd"
   ]
  },
  {
   "cell_type": "code",
   "execution_count": 2,
   "id": "21f78ded",
   "metadata": {},
   "outputs": [],
   "source": [
    "df = pd.read_csv('../data/bbsn00/constant-folded-agg.csv')"
   ]
  },
  {
   "cell_type": "code",
   "execution_count": 8,
   "id": "6adfed39",
   "metadata": {},
   "outputs": [
    {
     "data": {
      "text/html": [
       "<div>\n",
       "<style scoped>\n",
       "    .dataframe tbody tr th:only-of-type {\n",
       "        vertical-align: middle;\n",
       "    }\n",
       "\n",
       "    .dataframe tbody tr th {\n",
       "        vertical-align: top;\n",
       "    }\n",
       "\n",
       "    .dataframe thead th {\n",
       "        text-align: right;\n",
       "    }\n",
       "</style>\n",
       "<table border=\"1\" class=\"dataframe\">\n",
       "  <thead>\n",
       "    <tr style=\"text-align: right;\">\n",
       "      <th></th>\n",
       "      <th>mode</th>\n",
       "      <th>N</th>\n",
       "      <th>mean</th>\n",
       "      <th>std</th>\n",
       "    </tr>\n",
       "  </thead>\n",
       "  <tbody>\n",
       "    <tr>\n",
       "      <th>0</th>\n",
       "      <td>constant-folded</td>\n",
       "      <td>1000000</td>\n",
       "      <td>0.006313</td>\n",
       "      <td>0.000525</td>\n",
       "    </tr>\n",
       "    <tr>\n",
       "      <th>1</th>\n",
       "      <td>hashmap</td>\n",
       "      <td>1000000</td>\n",
       "      <td>0.065912</td>\n",
       "      <td>0.000229</td>\n",
       "    </tr>\n",
       "  </tbody>\n",
       "</table>\n",
       "</div>"
      ],
      "text/plain": [
       "              mode        N      mean       std\n",
       "0  constant-folded  1000000  0.006313  0.000525\n",
       "1          hashmap  1000000  0.065912  0.000229"
      ]
     },
     "execution_count": 8,
     "metadata": {},
     "output_type": "execute_result"
    }
   ],
   "source": [
    "gdf = df.groupby(['mode', 'N']).agg(['mean', 'std'])['time_in_s'] \\\n",
    "       .reset_index().sort_values(by='mean').reset_index(drop=True)\n",
    "gdf"
   ]
  },
  {
   "cell_type": "code",
   "execution_count": 14,
   "id": "e94d95be",
   "metadata": {},
   "outputs": [
    {
     "data": {
      "text/plain": [
       "10.441187349658588"
      ]
     },
     "execution_count": 14,
     "metadata": {},
     "output_type": "execute_result"
    }
   ],
   "source": [
    "# speedup factor\n",
    "speedup_factor = gdf.loc[1, 'mean'] / gdf.loc[0, 'mean']\n",
    "speedup_factor"
   ]
  },
  {
   "cell_type": "code",
   "execution_count": null,
   "id": "27a915c5",
   "metadata": {},
   "outputs": [],
   "source": []
  }
 ],
 "metadata": {
  "kernelspec": {
   "display_name": "Python 3.10",
   "language": "python",
   "name": "python3"
  },
  "language_info": {
   "codemirror_mode": {
    "name": "ipython",
    "version": 3
   },
   "file_extension": ".py",
   "mimetype": "text/x-python",
   "name": "python",
   "nbconvert_exporter": "python",
   "pygments_lexer": "ipython3",
   "version": "3.10.6"
  }
 },
 "nbformat": 4,
 "nbformat_minor": 5
}
