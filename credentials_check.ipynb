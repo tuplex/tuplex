{
 "cells": [
  {
   "cell_type": "code",
   "execution_count": 18,
   "id": "88f15686",
   "metadata": {},
   "outputs": [],
   "source": [
    "import boto3\n",
    "import botocore.exceptions\n",
    "import logging"
   ]
  },
  {
   "cell_type": "code",
   "execution_count": 19,
   "id": "29c3ff31",
   "metadata": {},
   "outputs": [],
   "source": [
    "client = boto3.client('s3')"
   ]
  },
  {
   "cell_type": "code",
   "execution_count": 22,
   "id": "12152eab",
   "metadata": {},
   "outputs": [],
   "source": [
    "def check_credentials(aws_access_key_id=None, aws_secret_access_key=None):\n",
    "    kwargs = {}\n",
    "    if isinstance(aws_access_key_id, str):\n",
    "        kwargs['aws_access_key_id'] = aws_access_key_id\n",
    "    if isinstance(aws_secret_access_key, str):\n",
    "        kwargs['aws_secret_access_key'] = aws_secret_access_key\n",
    "    client = boto3.client('s3', **kwargs)\n",
    "    try:\n",
    "        client.list_buckets()\n",
    "    except botocore.exceptions.NoCredentialsError as e:\n",
    "        logging.error('Could not connect to AWS, Details: {}. To configure AWS credentials please confer the guide under https://boto3.amazonaws.com/v1/documentation/api/latest/guide/credentials.html#configuring-credentials'.format(e))\n",
    "        return False\n",
    "    return True"
   ]
  },
  {
   "cell_type": "code",
   "execution_count": 23,
   "id": "39106c3c",
   "metadata": {},
   "outputs": [
    {
     "name": "stderr",
     "output_type": "stream",
     "text": [
      "ERROR:root:Could not connect to AWS, Details: Unable to locate credentials. To configure AWS credentials please confer the guide under https://boto3.amazonaws.com/v1/documentation/api/latest/guide/credentials.html#configuring-credentials\n"
     ]
    },
    {
     "data": {
      "text/plain": [
       "False"
      ]
     },
     "execution_count": 23,
     "metadata": {},
     "output_type": "execute_result"
    }
   ],
   "source": [
    "check_credentials()"
   ]
  },
  {
   "cell_type": "code",
   "execution_count": null,
   "id": "35bbbbfd",
   "metadata": {},
   "outputs": [],
   "source": []
  }
 ],
 "metadata": {
  "kernelspec": {
   "display_name": "Python 3 (ipykernel)",
   "language": "python",
   "name": "python3"
  },
  "language_info": {
   "codemirror_mode": {
    "name": "ipython",
    "version": 3
   },
   "file_extension": ".py",
   "mimetype": "text/x-python",
   "name": "python",
   "nbconvert_exporter": "python",
   "pygments_lexer": "ipython3",
   "version": "3.9.7"
  }
 },
 "nbformat": 4,
 "nbformat_minor": 5
}
