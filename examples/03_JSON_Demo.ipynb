{
 "cells": [
  {
   "cell_type": "code",
   "execution_count": null,
   "id": "7a5a39d1",
   "metadata": {},
   "outputs": [],
   "source": [
    "import sys"
   ]
  },
  {
   "cell_type": "code",
   "execution_count": null,
   "id": "d1750d46",
   "metadata": {},
   "outputs": [],
   "source": [
    "sys.version_info"
   ]
  },
  {
   "cell_type": "code",
   "execution_count": null,
   "id": "151517de",
   "metadata": {},
   "outputs": [],
   "source": [
    "!head -n 1 sample_data/github.json"
   ]
  },
  {
   "cell_type": "code",
   "execution_count": null,
   "id": "07224d88",
   "metadata": {},
   "outputs": [],
   "source": [
    "import logging"
   ]
  },
  {
   "cell_type": "code",
   "execution_count": null,
   "id": "5abf58fe",
   "metadata": {},
   "outputs": [],
   "source": [
    "logging.basicConfig()\n",
    "logger = logging.getLogger()\n",
    "logger.setLevel(logging.WARN)"
   ]
  },
  {
   "cell_type": "code",
   "execution_count": null,
   "id": "ba9e1b50",
   "metadata": {},
   "outputs": [],
   "source": [
    "import tuplex"
   ]
  },
  {
   "cell_type": "code",
   "execution_count": null,
   "id": "9d05ac8e",
   "metadata": {},
   "outputs": [],
   "source": [
    "c = tuplex.Context({'executorMemory' : '16MB', 'driverMemory' : '16MB', 'executorCount' : 1, \n",
    "                   'tuplex.redirectToPythonLogging': True})"
   ]
  },
  {
   "cell_type": "code",
   "execution_count": null,
   "id": "ae8f0a84",
   "metadata": {},
   "outputs": [],
   "source": [
    "c.parallelize([1, 2, 3, 4]).map(lambda x: x * x).collect()"
   ]
  },
  {
   "cell_type": "code",
   "execution_count": null,
   "id": "a811f854",
   "metadata": {},
   "outputs": [],
   "source": [
    "help(c.json)"
   ]
  },
  {
   "cell_type": "code",
   "execution_count": null,
   "id": "46fa70c2",
   "metadata": {
    "scrolled": false
   },
   "outputs": [],
   "source": [
    "c.json('sample_data/github.json').show(5)"
   ]
  },
  {
   "cell_type": "code",
   "execution_count": null,
   "id": "e5ca22b1",
   "metadata": {},
   "outputs": [],
   "source": [
    "c.json('sample_data/github.json').map(lambda x: x['type']).unique().collect()"
   ]
  },
  {
   "cell_type": "code",
   "execution_count": null,
   "id": "2042fce2",
   "metadata": {},
   "outputs": [],
   "source": []
  }
 ],
 "metadata": {
  "kernelspec": {
   "display_name": "Python 3.10",
   "language": "python",
   "name": "python3"
  },
  "language_info": {
   "codemirror_mode": {
    "name": "ipython",
    "version": 3
   },
   "file_extension": ".py",
   "mimetype": "text/x-python",
   "name": "python",
   "nbconvert_exporter": "python",
   "pygments_lexer": "ipython3",
   "version": "3.10.6"
  }
 },
 "nbformat": 4,
 "nbformat_minor": 5
}
