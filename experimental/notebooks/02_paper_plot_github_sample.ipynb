{
 "cells": [
  {
   "cell_type": "markdown",
   "id": "484e136f",
   "metadata": {},
   "source": [
    "Fetch data (~52MB) from gdrive.\n",
    "\n",
    "On ubuntu use `texlive-latex-extra texlive-fonts-recommended latexmk cm- dvipng` to install minimal set of latex packages (~500MB)"
   ]
  },
  {
   "cell_type": "code",
   "execution_count": 18,
   "id": "cf6cc273",
   "metadata": {},
   "outputs": [],
   "source": [
    "import gdown\n",
    "import os"
   ]
  },
  {
   "cell_type": "code",
   "execution_count": 19,
   "id": "b6ff4c37",
   "metadata": {},
   "outputs": [],
   "source": [
    "# !rm -rf .cache/\n",
    "# !rm *.pdf"
   ]
  },
  {
   "cell_type": "code",
   "execution_count": 164,
   "id": "7f58ca14",
   "metadata": {},
   "outputs": [
    {
     "name": "stdout",
     "output_type": "stream",
     "text": [
      "File exists: .cache/pushevent_filter_promo.json\n"
     ]
    }
   ],
   "source": [
    "mode = 'pushevent_filter_promo'\n",
    "# mode = 'forkevent_filter_promo'\n",
    "# mode = 'regular'\n",
    "\n",
    "result_path = ''\n",
    "cache_path = '.cache'\n",
    "os.makedirs(cache_path, exist_ok=True)\n",
    "if mode == 'pushevent_filter_promo':\n",
    "    result_path = os.path.join(cache_path, mode + '.json')\n",
    "    gdown.cached_download('https://drive.google.com/file/d/1YQnYgbAj9Mpj8tVDkACI1vt_Z52FTEHD/view?usp=sharing',\n",
    "                         result_path, fuzzy=True)\n",
    "elif mode == 'regular':\n",
    "    result_path = os.path.join(cache_path, mode + '.json')\n",
    "    gdown.cached_download('https://drive.google.com/file/d/1QmPwhh8M5o8xL3L81uaw_sZ2L6b8OFn0/view?usp=sharing',\n",
    "                         result_path, fuzzy=True)\n",
    "elif mode == 'forkevent_filter_promo':\n",
    "    result_path = os.path.join(cache_path, mode + '.json')\n",
    "    gdown.cached_download('https://drive.google.com/file/d/1JBJH0aum6Cl7O_biu_xe_7BWTn_-S46v/view?usp=sharing',\n",
    "                         result_path, fuzzy=True)\n",
    "else:\n",
    "    raise Exception('unknown mode ' + mode)"
   ]
  },
  {
   "cell_type": "code",
   "execution_count": 165,
   "id": "254ced04",
   "metadata": {},
   "outputs": [],
   "source": [
    "ylims_mem = {'regular' : (0, 16000), 'pushevent_filter_promo' : (0, 1600),\n",
    "             'forkevent_filter_promo' : (0, 400)}\n",
    "ylims_complexity = {'regular' : (0, 1200), 'pushevent_filter_promo' : (0, 120),\n",
    "                    'forkevent_filter_promo': (0, 120)}"
   ]
  },
  {
   "cell_type": "code",
   "execution_count": null,
   "id": "0f88b20c",
   "metadata": {},
   "outputs": [],
   "source": []
  },
  {
   "cell_type": "code",
   "execution_count": 166,
   "id": "a52360d6",
   "metadata": {},
   "outputs": [],
   "source": [
    "#result_path =  '/Users/leonhards/projects/tuplex-public/tuplex/cmake-build-release/dist/bin/experiment_result.json'"
   ]
  },
  {
   "cell_type": "code",
   "execution_count": 167,
   "id": "400c014e",
   "metadata": {},
   "outputs": [],
   "source": [
    "import json\n",
    "import pandas as pd\n",
    "import matplotlib\n",
    "import matplotlib.pyplot as plt\n",
    "import seaborn as sns\n",
    "import numpy as np\n",
    "\n",
    "from matplotlib.lines import Line2D\n",
    "import matplotlib.ticker as ticker\n",
    "from matplotlib.lines import Line2D\n",
    "import matplotlib.ticker\n",
    "from paper import *"
   ]
  },
  {
   "cell_type": "code",
   "execution_count": 168,
   "id": "4065348f",
   "metadata": {},
   "outputs": [],
   "source": [
    "adjust_settings()"
   ]
  },
  {
   "cell_type": "code",
   "execution_count": 169,
   "id": "1fd7b917",
   "metadata": {},
   "outputs": [],
   "source": [
    "with open(result_path, 'r') as fp:\n",
    "    data = fp.read()"
   ]
  },
  {
   "cell_type": "code",
   "execution_count": 170,
   "id": "6f81b792",
   "metadata": {},
   "outputs": [
    {
     "data": {
      "text/plain": [
       "22"
      ]
     },
     "execution_count": 170,
     "metadata": {},
     "output_type": "execute_result"
    }
   ],
   "source": [
    "lines = data.strip().split('\\n')\n",
    "len(lines)"
   ]
  },
  {
   "cell_type": "code",
   "execution_count": 171,
   "id": "96c8cf7e",
   "metadata": {},
   "outputs": [],
   "source": [
    "d = [json.loads(line) for line in lines]\n",
    "df = pd.DataFrame(d)"
   ]
  },
  {
   "cell_type": "code",
   "execution_count": 172,
   "id": "3e978e5b",
   "metadata": {},
   "outputs": [
    {
     "data": {
      "text/plain": [
       "Index(['buf_size_compressed', 'buf_size_uncompressed', 'event_to_filter_for',\n",
       "       'fallback_mem', 'fallback_rows', 'filter_promotion', 'filtered_rows',\n",
       "       'general_case', 'general_case_field_count', 'general_case_pretty',\n",
       "       'general_json_paths', 'general_mem', 'general_rows', 'mode',\n",
       "       'normal_case', 'normal_case_field_count', 'normal_case_pretty',\n",
       "       'normal_json_paths', 'normal_mem', 'normal_rows', 'path',\n",
       "       'perfect_sample', 'sample', 'sample_row_count', 'sample_size',\n",
       "       'total_rows', 'type_counts'],\n",
       "      dtype='object')"
      ]
     },
     "execution_count": 172,
     "metadata": {},
     "output_type": "execute_result"
    }
   ],
   "source": [
    "df.columns"
   ]
  },
  {
   "cell_type": "code",
   "execution_count": 173,
   "id": "315d1c92",
   "metadata": {},
   "outputs": [],
   "source": [
    "df['year'] = df['path'].apply(lambda x: x.replace('.json.gz', '')).apply(lambda x: x[x.rfind('/')+1:].split('-')[0]).astype(int)"
   ]
  },
  {
   "cell_type": "code",
   "execution_count": 174,
   "id": "f345e272",
   "metadata": {},
   "outputs": [
    {
     "data": {
      "text/plain": [
       "10      48899\n",
       "9      165692\n",
       "8      296456\n",
       "7      476393\n",
       "6      737714\n",
       "5      678134\n",
       "4      910100\n",
       "3     1522655\n",
       "2     2134789\n",
       "1     2963694\n",
       "0     1078139\n",
       "Name: total_rows, dtype: int64"
      ]
     },
     "execution_count": 174,
     "metadata": {},
     "output_type": "execute_result"
    }
   ],
   "source": [
    "df[df['mode'] == 'hyper'].sort_values(by=['year'])['total_rows']"
   ]
  },
  {
   "cell_type": "code",
   "execution_count": 175,
   "id": "b473ff88",
   "metadata": {},
   "outputs": [
    {
     "data": {
      "text/plain": [
       "21      48899\n",
       "20     165692\n",
       "19     296456\n",
       "18     476393\n",
       "17     737714\n",
       "16     678134\n",
       "15     910100\n",
       "14    1522655\n",
       "13    2134789\n",
       "12    2963694\n",
       "11    1078139\n",
       "Name: total_rows, dtype: int64"
      ]
     },
     "execution_count": 175,
     "metadata": {},
     "output_type": "execute_result"
    }
   ],
   "source": [
    "df[df['mode'] == 'global'].sort_values(by=['year'])['total_rows']"
   ]
  },
  {
   "cell_type": "markdown",
   "id": "b3b7044a",
   "metadata": {},
   "source": [
    "sanity check done, now let's plot them next to each other"
   ]
  },
  {
   "cell_type": "code",
   "execution_count": 176,
   "id": "460c9294",
   "metadata": {},
   "outputs": [],
   "source": [
    "df_hyper = df[df['mode'] == 'hyper'].sort_values(by=['year'])\n",
    "df_global = df[df['mode'] == 'global'].sort_values(by=['year'])"
   ]
  },
  {
   "cell_type": "markdown",
   "id": "87f42e5f",
   "metadata": {},
   "source": [
    "plot nice overview over data"
   ]
  },
  {
   "cell_type": "code",
   "execution_count": 177,
   "id": "4ef14030",
   "metadata": {},
   "outputs": [
    {
     "data": {
      "image/png": "[encoded data removed]",
      "text/plain": [
       "<Figure size 1200x400 with 2 Axes>"
      ]
     },
     "metadata": {},
     "output_type": "display_data"
    }
   ],
   "source": [
    "plt.figure(figsize=(12, 4))\n",
    "\n",
    "primary_col = sns.color_palette('Blues')[-2]\n",
    "secondary_col = [0.6]*3\n",
    "\n",
    "\n",
    "ax1 = plt.gca()\n",
    "xq = np.arange(len(df_global))\n",
    "oct_offset = 288/365 # ignore leap year\n",
    "ax1.plot(xq + oct_offset, df_global['total_rows'] / 10**6, marker='o',\n",
    "         color=primary_col, markersize=15, linewidth=2)\n",
    "\n",
    "ax1.set_ylabel('rows in million')\n",
    "ax1.set_ylim(0, 4)\n",
    "xt = np.array([0, 1, 2, 3, 4])\n",
    "ax1.set_yticks(xt)\n",
    "ax2 = ax1.twinx()\n",
    "ax2.plot(xq + oct_offset, df_global['buf_size_uncompressed'] / (1024**3),\n",
    "         color=secondary_col, marker='^', markersize=15,\n",
    "        linewidth=2)\n",
    "ax2.set_ylim(0, 12)\n",
    "ax2.set_yticks(xt * 3)\n",
    "ax2.set_ylabel('size in GiB')\n",
    "\n",
    "# fix for ordering\n",
    "ax2.zorder=0\n",
    "ax1.zorder=1\n",
    "ax1.patch.set_visible(False)\n",
    "\n",
    "lgd_handles = []\n",
    "lgd_handles.append(Line2D([0], [0], marker='o', color=primary_col, label='rows',\n",
    "                   markerfacecolor=primary_col, markersize=20, linewidth=0))\n",
    "lgd_handles.append(Line2D([0], [0], marker='^', color=secondary_col, label='uncompressed size',\n",
    "                   markerfacecolor=secondary_col, markersize=20, linewidth=0))\n",
    "ax1.legend(loc='upper left', handles=lgd_handles, fontsize=16, handletextpad=0.05, facecolor='w', framealpha=1)\n",
    "\n",
    "#sns.despine()\n",
    "xq = np.arange(len(df_global) + 1)\n",
    "\n",
    "# ax1.grid(axis='y')\n",
    "ax1.grid(False)\n",
    "# ax2.grid(axis='x')\n",
    "plt.xticks(xq, list(df_global['year'].values) + ['2022'], visible=True, rotation=\"vertical\")\n",
    "plt.savefig(mode + '_peryear_data_overview.pdf', transparent=True, bbox_inches = 'tight', pad_inches = 0)"
   ]
  },
  {
   "cell_type": "markdown",
   "id": "fbd819d3",
   "metadata": {},
   "source": [
    "plot number of fields over years"
   ]
  },
  {
   "cell_type": "code",
   "execution_count": 243,
   "id": "55ccad05",
   "metadata": {},
   "outputs": [
    {
     "data": {
      "image/png": "[encoded data removed]",
      "text/plain": [
       "<Figure size 1600x700 with 1 Axes>"
      ]
     },
     "metadata": {},
     "output_type": "display_data"
    }
   ],
   "source": [
    "plt.figure(figsize=(16,7))\n",
    "plt.plot(df_hyper['year'], df_hyper['normal_case_field_count'],\n",
    "         marker='^', linewidth=2, label='normal case (hyper)')\n",
    "plt.plot(df_hyper['year'], df_hyper['general_case_field_count'],\n",
    "         marker='v', linewidth=2, label='general case (hyper)')\n",
    "plt.axhline(df_global['normal_case_field_count'].iloc[0], linewidth=3,\n",
    "            linestyle='--',\n",
    "            color='k', label='normal case (global)')\n",
    "plt.axhline(df_global['general_case_field_count'].iloc[0], linewidth=3, linestyle='--',\n",
    "            color=[0.6]*3, label='general case (global)')\n",
    "plt.legend(fontsize=20)\n",
    "if mode == 'regular':\n",
    "    plt.yscale('log')\n",
    "    plt.yticks([1, 10, 20, 30, 40, 50, 100, 200, 300, 400, 500, 1000])\n",
    "    plt.ylim([10, 1500])\n",
    "    \n",
    "plt.xticks(df_hyper['year'])\n",
    "\n",
    "def fmt(x, pos):\n",
    "    return str(int(x))\n",
    "ax = plt.gca()\n",
    "#ax.yaxis.set_major_locator(ticker.FixedLocator(np.arange(0, 10 ** 7, 0.5 * 10**6)))\n",
    "ax.yaxis.set_major_formatter(matplotlib.ticker.FuncFormatter(fmt))\n",
    "\n",
    "sns.despine()\n",
    "plt.grid(axis='x')\n",
    "plt.ylabel('number of fields')\n",
    "plt.savefig(mode + '_peryear_schema_complexity.pdf', transparent=True, bbox_inches = 'tight', pad_inches = 0)"
   ]
  },
  {
   "cell_type": "markdown",
   "id": "73dc0eac",
   "metadata": {},
   "source": [
    "TODO: Could potentially add to this graph the most complex and least complex schema actually found in the data...\n",
    "\n",
    "--> this is basically a lower and upper bound"
   ]
  },
  {
   "cell_type": "code",
   "execution_count": 179,
   "id": "1ef0cec2",
   "metadata": {},
   "outputs": [
    {
     "name": "stdout",
     "output_type": "stream",
     "text": [
      "normal  case (global): 25 fields\n",
      "general case (global): 35 fields\n"
     ]
    }
   ],
   "source": [
    "# general case complexity:\n",
    "print('normal  case (global): {} fields'.format(df_global['normal_case_field_count'].iloc[0]))\n",
    "print('general case (global): {} fields'.format(df_global['general_case_field_count'].iloc[0]))"
   ]
  },
  {
   "cell_type": "code",
   "execution_count": 180,
   "id": "2b4ed86c",
   "metadata": {},
   "outputs": [
    {
     "name": "stdout",
     "output_type": "stream",
     "text": [
      "normal  case (hyper): 24 - 90 fields\n",
      "general case (hyper): 29 - 91 fields\n"
     ]
    }
   ],
   "source": [
    "# normal case complexity\n",
    "print('normal  case (hyper): {} - {} fields'.format(df_hyper['normal_case_field_count'].min(),\n",
    "                                                   df_hyper['normal_case_field_count'].max()))\n",
    "print('general case (hyper): {} - {} fields'.format(df_hyper['general_case_field_count'].min(),\n",
    "                                                   df_hyper['general_case_field_count'].max()))"
   ]
  },
  {
   "cell_type": "code",
   "execution_count": 181,
   "id": "7c17daf9",
   "metadata": {},
   "outputs": [
    {
     "data": {
      "text/html": [
       "<div>\n",
       "<style scoped>\n",
       "    .dataframe tbody tr th:only-of-type {\n",
       "        vertical-align: middle;\n",
       "    }\n",
       "\n",
       "    .dataframe tbody tr th {\n",
       "        vertical-align: top;\n",
       "    }\n",
       "\n",
       "    .dataframe thead th {\n",
       "        text-align: right;\n",
       "    }\n",
       "</style>\n",
       "<table border=\"1\" class=\"dataframe\">\n",
       "  <thead>\n",
       "    <tr style=\"text-align: right;\">\n",
       "      <th></th>\n",
       "      <th>normal_mem</th>\n",
       "      <th>general_mem</th>\n",
       "      <th>fallback_mem</th>\n",
       "    </tr>\n",
       "  </thead>\n",
       "  <tbody>\n",
       "    <tr>\n",
       "      <th>7</th>\n",
       "      <td>8438752</td>\n",
       "      <td>9730715</td>\n",
       "      <td>1102230118</td>\n",
       "    </tr>\n",
       "  </tbody>\n",
       "</table>\n",
       "</div>"
      ],
      "text/plain": [
       "   normal_mem  general_mem  fallback_mem\n",
       "7     8438752      9730715    1102230118"
      ]
     },
     "execution_count": 181,
     "metadata": {},
     "output_type": "execute_result"
    }
   ],
   "source": [
    "df_hyper[df_hyper['year'] == 2014][['normal_mem', 'general_mem', 'fallback_mem']]"
   ]
  },
  {
   "cell_type": "code",
   "execution_count": 182,
   "id": "67e56e0a",
   "metadata": {},
   "outputs": [
    {
     "data": {
      "text/html": [
       "<div>\n",
       "<style scoped>\n",
       "    .dataframe tbody tr th:only-of-type {\n",
       "        vertical-align: middle;\n",
       "    }\n",
       "\n",
       "    .dataframe tbody tr th {\n",
       "        vertical-align: top;\n",
       "    }\n",
       "\n",
       "    .dataframe thead th {\n",
       "        text-align: right;\n",
       "    }\n",
       "</style>\n",
       "<table border=\"1\" class=\"dataframe\">\n",
       "  <thead>\n",
       "    <tr style=\"text-align: right;\">\n",
       "      <th></th>\n",
       "      <th>normal_rows</th>\n",
       "      <th>general_rows</th>\n",
       "      <th>fallback_rows</th>\n",
       "    </tr>\n",
       "  </thead>\n",
       "  <tbody>\n",
       "    <tr>\n",
       "      <th>7</th>\n",
       "      <td>240251</td>\n",
       "      <td>2245</td>\n",
       "      <td>233897</td>\n",
       "    </tr>\n",
       "  </tbody>\n",
       "</table>\n",
       "</div>"
      ],
      "text/plain": [
       "   normal_rows  general_rows  fallback_rows\n",
       "7       240251          2245         233897"
      ]
     },
     "execution_count": 182,
     "metadata": {},
     "output_type": "execute_result"
    }
   ],
   "source": [
    "df_hyper[df_hyper['year'] == 2014][['normal_rows', 'general_rows', 'fallback_rows']]"
   ]
  },
  {
   "cell_type": "code",
   "execution_count": 183,
   "id": "62c899b0",
   "metadata": {},
   "outputs": [
    {
     "data": {
      "text/html": [
       "<div>\n",
       "<style scoped>\n",
       "    .dataframe tbody tr th:only-of-type {\n",
       "        vertical-align: middle;\n",
       "    }\n",
       "\n",
       "    .dataframe tbody tr th {\n",
       "        vertical-align: top;\n",
       "    }\n",
       "\n",
       "    .dataframe thead th {\n",
       "        text-align: right;\n",
       "    }\n",
       "</style>\n",
       "<table border=\"1\" class=\"dataframe\">\n",
       "  <thead>\n",
       "    <tr style=\"text-align: right;\">\n",
       "      <th></th>\n",
       "      <th>normal_rows</th>\n",
       "      <th>filtered_rows</th>\n",
       "    </tr>\n",
       "  </thead>\n",
       "  <tbody>\n",
       "    <tr>\n",
       "      <th>10</th>\n",
       "      <td>31937</td>\n",
       "      <td>24825</td>\n",
       "    </tr>\n",
       "    <tr>\n",
       "      <th>9</th>\n",
       "      <td>88848</td>\n",
       "      <td>87720</td>\n",
       "    </tr>\n",
       "    <tr>\n",
       "      <th>8</th>\n",
       "      <td>153618</td>\n",
       "      <td>151527</td>\n",
       "    </tr>\n",
       "    <tr>\n",
       "      <th>7</th>\n",
       "      <td>240251</td>\n",
       "      <td>238381</td>\n",
       "    </tr>\n",
       "    <tr>\n",
       "      <th>6</th>\n",
       "      <td>737714</td>\n",
       "      <td>387090</td>\n",
       "    </tr>\n",
       "    <tr>\n",
       "      <th>5</th>\n",
       "      <td>678134</td>\n",
       "      <td>305636</td>\n",
       "    </tr>\n",
       "    <tr>\n",
       "      <th>4</th>\n",
       "      <td>910100</td>\n",
       "      <td>391341</td>\n",
       "    </tr>\n",
       "    <tr>\n",
       "      <th>3</th>\n",
       "      <td>1522655</td>\n",
       "      <td>735258</td>\n",
       "    </tr>\n",
       "    <tr>\n",
       "      <th>2</th>\n",
       "      <td>2134789</td>\n",
       "      <td>1089230</td>\n",
       "    </tr>\n",
       "    <tr>\n",
       "      <th>1</th>\n",
       "      <td>2963694</td>\n",
       "      <td>1401945</td>\n",
       "    </tr>\n",
       "    <tr>\n",
       "      <th>0</th>\n",
       "      <td>1078139</td>\n",
       "      <td>471770</td>\n",
       "    </tr>\n",
       "  </tbody>\n",
       "</table>\n",
       "</div>"
      ],
      "text/plain": [
       "    normal_rows  filtered_rows\n",
       "10        31937          24825\n",
       "9         88848          87720\n",
       "8        153618         151527\n",
       "7        240251         238381\n",
       "6        737714         387090\n",
       "5        678134         305636\n",
       "4        910100         391341\n",
       "3       1522655         735258\n",
       "2       2134789        1089230\n",
       "1       2963694        1401945\n",
       "0       1078139         471770"
      ]
     },
     "execution_count": 183,
     "metadata": {},
     "output_type": "execute_result"
    }
   ],
   "source": [
    "df_hyper[['normal_rows', 'filtered_rows']]"
   ]
  },
  {
   "cell_type": "code",
   "execution_count": 184,
   "id": "262fbf48",
   "metadata": {},
   "outputs": [],
   "source": [
    "def plot_bars(subdf, xoff, w, c1, c2, c3):\n",
    "    xq = np.arange(len(subdf))\n",
    "    \n",
    "    has_filtered_rows = 'filtered_rows' in subdf.columns and subdf['filtered_rows'].sum() > 0\n",
    "    print(has_filtered_rows)\n",
    "    \n",
    "    if has_filtered_rows:\n",
    "        fr = subdf['filtered_rows'].copy()\n",
    "        nr = subdf['normal_rows'].copy()\n",
    "        nr -= fr\n",
    "        gr = subdf['general_rows'].copy()\n",
    "        fb = subdf['fallback_rows'].copy()\n",
    "        plt.bar(xq + xoff, nr,  w, color=c1)\n",
    "        plt.bar(xq + xoff, gr, w, bottom=nr, color=c2)\n",
    "        plt.bar(xq + xoff, fb, w, bottom=nr + gr, color=c3)\n",
    "    else:\n",
    "        plt.bar(xq + xoff, subdf['normal_rows'],  w, color=c1)\n",
    "        plt.bar(xq + xoff, subdf['general_rows'], w, bottom=subdf['normal_rows'], color=c2)\n",
    "        plt.bar(xq + xoff, subdf['fallback_rows'], w, bottom=subdf['normal_rows'] + subdf['general_rows'], color=c3)\n",
    "    \n",
    "def plot_bars_mem(subdf, xoff, w, mem_factor, c1, c2, c3):\n",
    "    xq = np.arange(len(subdf))\n",
    "    plt.bar(xq + xoff, subdf['normal_mem'] / mem_factor,  w, color=c1)\n",
    "    plt.bar(xq + xoff, subdf['general_mem'] / mem_factor, w, bottom=subdf['normal_mem'] / mem_factor, color=c2)\n",
    "    plt.bar(xq + xoff, subdf['fallback_mem'] / mem_factor, w, bottom=subdf['normal_mem']  / mem_factor + subdf['general_mem']  / mem_factor, color=c3)"
   ]
  },
  {
   "cell_type": "code",
   "execution_count": 185,
   "id": "309867aa",
   "metadata": {},
   "outputs": [
    {
     "name": "stdout",
     "output_type": "stream",
     "text": [
      "True\n",
      "True\n",
      "done\n"
     ]
    },
    {
     "data": {
      "image/png": "[encoded data removed]",
      "text/plain": [
       "<Figure size 1800x500 with 1 Axes>"
      ]
     },
     "metadata": {},
     "output_type": "display_data"
    }
   ],
   "source": [
    "plt.figure(figsize=(18, 5))\n",
    "handles =[]\n",
    "c1, c2, c3 = sns.color_palette('Blues', 3)[::-1]\n",
    "plot_bars(df_hyper, -.2, 0.4, c1, c2 , c3)\n",
    "normal = df_hyper['normal_rows'].sum()\n",
    "general = df_hyper['general_rows'].sum()\n",
    "fallback = df_hyper['fallback_rows'].sum()\n",
    "handles += [(f'hyper (normal)    \\\\,\\\\,\\\\quad{normal:,} rows', c1),\n",
    "            (f'hyper (general)   \\\\,\\\\quad{general:,} rows', c2),\n",
    "            (f'hyper (fallback)  \\\\quad {fallback:,} rows', c3)]\n",
    "c1, c2, c3 = sns.color_palette('Reds', 3)[::-1]\n",
    "normal =   df_global['normal_rows'].sum()\n",
    "general =  df_global['general_rows'].sum()\n",
    "fallback = df_global['fallback_rows'].sum()\n",
    "handles += [(f'global (normal)   \\\\;\\\\,\\\\,\\\\,\\\\, {normal:,} rows', c1),\n",
    "            (f'global (general)  \\\\quad {general:,} rows', c2),\n",
    "            (f'global (fallback) \\\\quad\\; {fallback:,} rows', c3)]\n",
    "plot_bars(df_global, .2, 0.4, c1, c2, c3)\n",
    "xq = np.arange(len(df_hyper))\n",
    "plt.xticks(xq, df_hyper['year'])\n",
    "print('done')\n",
    "sns.despine()\n",
    "\n",
    "has_filtered_rows = 'filtered_rows' in df.columns and df['filtered_rows'].sum() > 0\n",
    "if has_filtered_rows:\n",
    "    plt.ylabel('rows (post-filter)')\n",
    "else:\n",
    "    plt.ylabel('rows')\n",
    "plt.xlabel('year')\n",
    "\n",
    "plt.grid(axis='x')\n",
    "\n",
    "# https://matplotlib.org/3.1.1/tutorials/intermediate/legend_guide.html\n",
    "lgd_handles=[]\n",
    "for h in handles:\n",
    "    lgd_handles.append(Line2D([0], [0], marker='o', color='w', label=h[0],\n",
    "                        markerfacecolor=h[1], markersize=12))\n",
    "ax = plt.gca()\n",
    "ax.legend(loc='best', handles=lgd_handles, fontsize=20, handletextpad=0.05, facecolor='w', framealpha=1)\n",
    "\n",
    "def fmt(x, pos):\n",
    "    k = int(x / 10**3)\n",
    "    return  f'{k:,}' + 'k'\n",
    "\n",
    "#ax.yaxis.set_major_locator(ticker.FixedLocator(np.arange(0, 10 ** 7, 0.5 * 10**6)))\n",
    "ax.yaxis.set_major_formatter(matplotlib.ticker.FuncFormatter(fmt))\n",
    "#ax.tick_params(which = 'major', length = 25)\n",
    "\n",
    "plt.savefig(mode + '_peryear_data_fullschema.pdf', transparent=True, bbox_inches = 'tight', pad_inches = 0)"
   ]
  },
  {
   "cell_type": "code",
   "execution_count": 186,
   "id": "63867c0c",
   "metadata": {},
   "outputs": [
    {
     "name": "stdout",
     "output_type": "stream",
     "text": [
      "done\n"
     ]
    },
    {
     "data": {
      "image/png": "[encoded data removed]",
      "text/plain": [
       "<Figure size 1800x500 with 1 Axes>"
      ]
     },
     "metadata": {},
     "output_type": "display_data"
    }
   ],
   "source": [
    "plt.figure(figsize=(18, 5))\n",
    "handles =[]\n",
    "c1, c2, c3 = sns.color_palette('Greens', 3)[::-1]\n",
    "mem_factor = 1024 * 1024\n",
    "mem_unit = 'MiB'\n",
    "plot_bars_mem(df_hyper, -.2, 0.4, mem_factor, c1, c2 , c3)\n",
    "normal = int(df_hyper['normal_mem'].sum() / mem_factor)\n",
    "general = int(df_hyper['general_mem'].sum() / mem_factor)\n",
    "fallback = int(df_hyper['fallback_mem'].sum() / mem_factor)\n",
    "handles += [(f'hyper (normal)    {normal:,} {mem_unit}', c1),\n",
    "            (f'hyper (general)   {general:,} {mem_unit}', c2),\n",
    "            (f'hyper (fallback)  {fallback:,} {mem_unit}', c3)]\n",
    "c1, c2, c3 = sns.color_palette('Greys', 3)[::-1]\n",
    "normal =   int(df_global['normal_mem'].sum() / mem_factor)\n",
    "general =  int(df_global['general_mem'].sum() / mem_factor)\n",
    "fallback = int(df_global['fallback_mem'].sum() / mem_factor)\n",
    "handles += [(f'global (normal)    {normal:,} {mem_unit}', c1),\n",
    "            (f'global (general)     {general:,} {mem_unit}', c2),\n",
    "            (f'global (fallback) {fallback:,} {mem_unit}', c3)]\n",
    "plot_bars_mem(df_global, .2, 0.4, mem_factor, c1, c2, c3)\n",
    "xq = np.arange(len(df_hyper))\n",
    "plt.xticks(xq, df_hyper['year'])\n",
    "print('done')\n",
    "sns.despine()\n",
    "plt.ylabel(mem_unit)\n",
    "plt.xlabel('year')\n",
    "\n",
    "plt.grid(axis='x')\n",
    "\n",
    "# https://matplotlib.org/3.1.1/tutorials/intermediate/legend_guide.html\n",
    "lgd_handles=[]\n",
    "for h in handles:\n",
    "    lgd_handles.append(Line2D([0], [0], marker='o', color='w', label=h[0],\n",
    "                        markerfacecolor=h[1], markersize=12))\n",
    "ax = plt.gca()\n",
    "ax.legend(loc='best', handles=lgd_handles, fontsize=20, handletextpad=0.05, facecolor='w', framealpha=1)\n",
    "plt.savefig(mode + '_peryear_data_fullschema_memory.pdf', transparent=True, bbox_inches = 'tight', pad_inches = 0)"
   ]
  },
  {
   "cell_type": "code",
   "execution_count": 187,
   "id": "eedb8483",
   "metadata": {},
   "outputs": [
    {
     "name": "stdout",
     "output_type": "stream",
     "text": [
      "memory usage:: hyper 6660.6 MiB  global 6722.8 MiB\n",
      "memory usage:: hyper 6.5 GiB  global 6.6 GiB\n"
     ]
    }
   ],
   "source": [
    "# interpolation for full dataset (pretty off)\n",
    "hyper_total = df_hyper['normal_mem'].sum() + df_hyper['general_mem'].sum() + df_hyper['fallback_mem'].sum()\n",
    "global_total = df_global['normal_mem'].sum() + df_global['general_mem'].sum() + df_global['fallback_mem'].sum()\n",
    "\n",
    "print('memory usage:: hyper {:.1f} MiB  global {:.1f} MiB'.format(\n",
    "    hyper_total / mem_factor, global_total / mem_factor))\n",
    "\n",
    "print('memory usage:: hyper {:.1f} GiB  global {:.1f} GiB'.format(\n",
    "    hyper_total / (mem_factor * 1024), global_total / (mem_factor * 1024)))"
   ]
  },
  {
   "cell_type": "code",
   "execution_count": 188,
   "id": "b2780759",
   "metadata": {},
   "outputs": [
    {
     "name": "stdout",
     "output_type": "stream",
     "text": [
      "hyper reduced overall footprint by 0.9256820604997107%\n"
     ]
    }
   ],
   "source": [
    "pct_reduction = 100.0 * (1.0 - hyper_total / global_total)\n",
    "print('hyper reduced overall footprint by {}%'.format(pct_reduction))"
   ]
  },
  {
   "cell_type": "code",
   "execution_count": 189,
   "id": "e3dcff44",
   "metadata": {},
   "outputs": [
    {
     "name": "stdout",
     "output_type": "stream",
     "text": [
      "encoding 1 row in normal   (hyper): 0.51 Kib\n",
      "encoding 1 row in general  (hyper): 3.16 Kib\n",
      "encoding 1 row in fallback (hyper): 2.96 Kib\n",
      "----\n",
      "encoding 1 row in normal   (global): 0.49 Kib\n",
      "encoding 1 row in general  (global): 1.26 Kib\n",
      "encoding 1 row in fallback (global): 2.96 Kib\n"
     ]
    }
   ],
   "source": [
    "# averages per row may be also interesting:\n",
    "\n",
    "print('encoding 1 row in normal   (hyper): {:.2f} Kib'.format(\n",
    "    df_hyper['normal_mem'].sum() / df_hyper['normal_rows'].sum() / 1024))\n",
    "print('encoding 1 row in general  (hyper): {:.2f} Kib'.format(\n",
    "    df_hyper['general_mem'].sum() / df_hyper['general_rows'].sum() / 1024))\n",
    "print('encoding 1 row in fallback (hyper): {:.2f} Kib'.format(\n",
    "    df_hyper['fallback_mem'].sum() / df_hyper['fallback_rows'].sum() / 1024))\n",
    "print('----')\n",
    "print('encoding 1 row in normal   (global): {:.2f} Kib'.format(\n",
    "    df_global['normal_mem'].sum() / df_global['normal_rows'].sum() / 1024))\n",
    "print('encoding 1 row in general  (global): {:.2f} Kib'.format(\n",
    "    df_global['general_mem'].sum() / df_global['general_rows'].sum() / 1024))\n",
    "print('encoding 1 row in fallback (global): {:.2f} Kib'.format(\n",
    "    df_global['fallback_mem'].sum() / df_global['fallback_rows'].sum() / 1024))"
   ]
  },
  {
   "cell_type": "markdown",
   "id": "aa0101f4",
   "metadata": {},
   "source": [
    "How many unique normal-cases exist in hyper?"
   ]
  },
  {
   "cell_type": "code",
   "execution_count": 190,
   "id": "21326eda",
   "metadata": {},
   "outputs": [
    {
     "data": {
      "text/plain": [
       "(7, 1)"
      ]
     },
     "execution_count": 190,
     "metadata": {},
     "output_type": "execute_result"
    }
   ],
   "source": [
    "len(df_hyper['normal_case'].unique()), len(df_global['normal_case'].unique())"
   ]
  },
  {
   "cell_type": "markdown",
   "id": "3f57f96d",
   "metadata": {},
   "source": [
    "How many unique general-cases exist in hyper?"
   ]
  },
  {
   "cell_type": "code",
   "execution_count": 191,
   "id": "10bb4bd0",
   "metadata": {},
   "outputs": [
    {
     "data": {
      "text/plain": [
       "(6, 1)"
      ]
     },
     "execution_count": 191,
     "metadata": {},
     "output_type": "execute_result"
    }
   ],
   "source": [
    "len(df_hyper['general_case'].unique()), len(df_global['general_case'].unique())"
   ]
  },
  {
   "cell_type": "markdown",
   "id": "ae84b9fd",
   "metadata": {},
   "source": [
    "some more analysis (specific for promotion)"
   ]
  },
  {
   "cell_type": "code",
   "execution_count": 192,
   "id": "98dcc797",
   "metadata": {},
   "outputs": [
    {
     "data": {
      "text/html": [
       "<div>\n",
       "<style scoped>\n",
       "    .dataframe tbody tr th:only-of-type {\n",
       "        vertical-align: middle;\n",
       "    }\n",
       "\n",
       "    .dataframe tbody tr th {\n",
       "        vertical-align: top;\n",
       "    }\n",
       "\n",
       "    .dataframe thead th {\n",
       "        text-align: right;\n",
       "    }\n",
       "</style>\n",
       "<table border=\"1\" class=\"dataframe\">\n",
       "  <thead>\n",
       "    <tr style=\"text-align: right;\">\n",
       "      <th></th>\n",
       "      <th>year</th>\n",
       "      <th>normal_rows</th>\n",
       "      <th>general_rows</th>\n",
       "      <th>fallback_rows</th>\n",
       "    </tr>\n",
       "  </thead>\n",
       "  <tbody>\n",
       "    <tr>\n",
       "      <th>10</th>\n",
       "      <td>2011</td>\n",
       "      <td>31937</td>\n",
       "      <td>0</td>\n",
       "      <td>16962</td>\n",
       "    </tr>\n",
       "    <tr>\n",
       "      <th>9</th>\n",
       "      <td>2012</td>\n",
       "      <td>88848</td>\n",
       "      <td>482</td>\n",
       "      <td>76362</td>\n",
       "    </tr>\n",
       "    <tr>\n",
       "      <th>8</th>\n",
       "      <td>2013</td>\n",
       "      <td>153618</td>\n",
       "      <td>655</td>\n",
       "      <td>142183</td>\n",
       "    </tr>\n",
       "    <tr>\n",
       "      <th>7</th>\n",
       "      <td>2014</td>\n",
       "      <td>240251</td>\n",
       "      <td>2245</td>\n",
       "      <td>233897</td>\n",
       "    </tr>\n",
       "    <tr>\n",
       "      <th>6</th>\n",
       "      <td>2015</td>\n",
       "      <td>737714</td>\n",
       "      <td>0</td>\n",
       "      <td>0</td>\n",
       "    </tr>\n",
       "    <tr>\n",
       "      <th>5</th>\n",
       "      <td>2016</td>\n",
       "      <td>678134</td>\n",
       "      <td>0</td>\n",
       "      <td>0</td>\n",
       "    </tr>\n",
       "    <tr>\n",
       "      <th>4</th>\n",
       "      <td>2017</td>\n",
       "      <td>910100</td>\n",
       "      <td>0</td>\n",
       "      <td>0</td>\n",
       "    </tr>\n",
       "    <tr>\n",
       "      <th>3</th>\n",
       "      <td>2018</td>\n",
       "      <td>1522655</td>\n",
       "      <td>0</td>\n",
       "      <td>0</td>\n",
       "    </tr>\n",
       "    <tr>\n",
       "      <th>2</th>\n",
       "      <td>2019</td>\n",
       "      <td>2134789</td>\n",
       "      <td>0</td>\n",
       "      <td>0</td>\n",
       "    </tr>\n",
       "    <tr>\n",
       "      <th>1</th>\n",
       "      <td>2020</td>\n",
       "      <td>2963694</td>\n",
       "      <td>0</td>\n",
       "      <td>0</td>\n",
       "    </tr>\n",
       "    <tr>\n",
       "      <th>0</th>\n",
       "      <td>2021</td>\n",
       "      <td>1078139</td>\n",
       "      <td>0</td>\n",
       "      <td>0</td>\n",
       "    </tr>\n",
       "  </tbody>\n",
       "</table>\n",
       "</div>"
      ],
      "text/plain": [
       "    year  normal_rows  general_rows  fallback_rows\n",
       "10  2011        31937             0          16962\n",
       "9   2012        88848           482          76362\n",
       "8   2013       153618           655         142183\n",
       "7   2014       240251          2245         233897\n",
       "6   2015       737714             0              0\n",
       "5   2016       678134             0              0\n",
       "4   2017       910100             0              0\n",
       "3   2018      1522655             0              0\n",
       "2   2019      2134789             0              0\n",
       "1   2020      2963694             0              0\n",
       "0   2021      1078139             0              0"
      ]
     },
     "execution_count": 192,
     "metadata": {},
     "output_type": "execute_result"
    }
   ],
   "source": [
    "df_hyper[['year', 'normal_rows', 'general_rows', 'fallback_rows']]"
   ]
  },
  {
   "cell_type": "code",
   "execution_count": 193,
   "id": "f1acbd22",
   "metadata": {},
   "outputs": [
    {
     "data": {
      "text/html": [
       "<div>\n",
       "<style scoped>\n",
       "    .dataframe tbody tr th:only-of-type {\n",
       "        vertical-align: middle;\n",
       "    }\n",
       "\n",
       "    .dataframe tbody tr th {\n",
       "        vertical-align: top;\n",
       "    }\n",
       "\n",
       "    .dataframe thead th {\n",
       "        text-align: right;\n",
       "    }\n",
       "</style>\n",
       "<table border=\"1\" class=\"dataframe\">\n",
       "  <thead>\n",
       "    <tr style=\"text-align: right;\">\n",
       "      <th></th>\n",
       "      <th>year</th>\n",
       "      <th>normal_rows</th>\n",
       "      <th>general_rows</th>\n",
       "      <th>fallback_rows</th>\n",
       "    </tr>\n",
       "  </thead>\n",
       "  <tbody>\n",
       "    <tr>\n",
       "      <th>21</th>\n",
       "      <td>2011</td>\n",
       "      <td>24825</td>\n",
       "      <td>7112</td>\n",
       "      <td>16962</td>\n",
       "    </tr>\n",
       "    <tr>\n",
       "      <th>20</th>\n",
       "      <td>2012</td>\n",
       "      <td>87720</td>\n",
       "      <td>0</td>\n",
       "      <td>77972</td>\n",
       "    </tr>\n",
       "    <tr>\n",
       "      <th>19</th>\n",
       "      <td>2013</td>\n",
       "      <td>151527</td>\n",
       "      <td>0</td>\n",
       "      <td>144929</td>\n",
       "    </tr>\n",
       "    <tr>\n",
       "      <th>18</th>\n",
       "      <td>2014</td>\n",
       "      <td>238381</td>\n",
       "      <td>0</td>\n",
       "      <td>238012</td>\n",
       "    </tr>\n",
       "    <tr>\n",
       "      <th>17</th>\n",
       "      <td>2015</td>\n",
       "      <td>387090</td>\n",
       "      <td>350624</td>\n",
       "      <td>0</td>\n",
       "    </tr>\n",
       "    <tr>\n",
       "      <th>16</th>\n",
       "      <td>2016</td>\n",
       "      <td>678134</td>\n",
       "      <td>0</td>\n",
       "      <td>0</td>\n",
       "    </tr>\n",
       "    <tr>\n",
       "      <th>15</th>\n",
       "      <td>2017</td>\n",
       "      <td>910100</td>\n",
       "      <td>0</td>\n",
       "      <td>0</td>\n",
       "    </tr>\n",
       "    <tr>\n",
       "      <th>14</th>\n",
       "      <td>2018</td>\n",
       "      <td>1522655</td>\n",
       "      <td>0</td>\n",
       "      <td>0</td>\n",
       "    </tr>\n",
       "    <tr>\n",
       "      <th>13</th>\n",
       "      <td>2019</td>\n",
       "      <td>2134789</td>\n",
       "      <td>0</td>\n",
       "      <td>0</td>\n",
       "    </tr>\n",
       "    <tr>\n",
       "      <th>12</th>\n",
       "      <td>2020</td>\n",
       "      <td>2963694</td>\n",
       "      <td>0</td>\n",
       "      <td>0</td>\n",
       "    </tr>\n",
       "    <tr>\n",
       "      <th>11</th>\n",
       "      <td>2021</td>\n",
       "      <td>1078139</td>\n",
       "      <td>0</td>\n",
       "      <td>0</td>\n",
       "    </tr>\n",
       "  </tbody>\n",
       "</table>\n",
       "</div>"
      ],
      "text/plain": [
       "    year  normal_rows  general_rows  fallback_rows\n",
       "21  2011        24825          7112          16962\n",
       "20  2012        87720             0          77972\n",
       "19  2013       151527             0         144929\n",
       "18  2014       238381             0         238012\n",
       "17  2015       387090        350624              0\n",
       "16  2016       678134             0              0\n",
       "15  2017       910100             0              0\n",
       "14  2018      1522655             0              0\n",
       "13  2019      2134789             0              0\n",
       "12  2020      2963694             0              0\n",
       "11  2021      1078139             0              0"
      ]
     },
     "execution_count": 193,
     "metadata": {},
     "output_type": "execute_result"
    }
   ],
   "source": [
    "df_global[['year', 'normal_rows', 'general_rows', 'fallback_rows']]"
   ]
  },
  {
   "cell_type": "code",
   "execution_count": 194,
   "id": "fd2a90cc",
   "metadata": {},
   "outputs": [
    {
     "data": {
      "text/plain": [
       "<matplotlib.legend.Legend at 0x7f996b824a00>"
      ]
     },
     "execution_count": 194,
     "metadata": {},
     "output_type": "execute_result"
    },
    {
     "data": {
      "image/png": "[encoded data removed]",
      "text/plain": [
       "<Figure size 250x140 with 1 Axes>"
      ]
     },
     "metadata": {},
     "output_type": "display_data"
    }
   ],
   "source": [
    "plt.plot(df_hyper['buf_size_compressed'] / mem_factor, 'o', label='compressed data size')\n",
    "plt.plot(df_hyper['buf_size_uncompressed'] / mem_factor, 'o', label='compressed data size')\n",
    "plt.xticks(xq, df_hyper['year'])\n",
    "sns.despine()\n",
    "plt.ylabel(mem_unit)\n",
    "plt.xlabel('year')\n",
    "\n",
    "plt.legend(loc='best')"
   ]
  },
  {
   "cell_type": "code",
   "execution_count": 195,
   "id": "7906dab1",
   "metadata": {},
   "outputs": [],
   "source": [
    "# require filter promotion etc. to get a better fit? E.g., a restrictive filter on years 2015 and 2016 could do."
   ]
  },
  {
   "cell_type": "code",
   "execution_count": 196,
   "id": "e1a18589",
   "metadata": {},
   "outputs": [
    {
     "data": {
      "text/plain": [
       "\"Struct[(str,'actor'->Struct[(str,'id'->i64),(str,'login'->str),(str,'gravatar_id'->str),(str,'url'->str),(str,'avatar_url'->str)]),(str,'created_at'->str),(str,'id'->str),(str,'payload'->Struct[(str,'before'->str),(str,'commits'->List[Struct[(str,'sha'->str),(str,'author'->Struct[(str,'email'->str),(str,'name'->str)]),(str,'message'->str),(str,'distinct'->boolean),(str,'url'->str)]]),(str,'distinct_size'->i64),(str,'head'->str),(str,'push_id'->i64),(str,'ref'->str),(str,'size'->i64)]),(str,'public'->boolean),(str,'repo'->Struct[(str,'id'->i64),(str,'name'->str),(str,'url'->str)]),(str,'type'->str)]\""
      ]
     },
     "execution_count": 196,
     "metadata": {},
     "output_type": "execute_result"
    }
   ],
   "source": [
    "# least complex normal-case\n",
    "sorted(list(df['normal_case'].values), key=len)[0]"
   ]
  },
  {
   "cell_type": "code",
   "execution_count": 197,
   "id": "91d58480",
   "metadata": {},
   "outputs": [
    {
     "data": {
      "text/plain": [
       "\"Struct[(str,'actor'->str),(str,'actor_attributes'->Struct[(str,'login'->str),(str,'type'->str),(str,'gravatar_id'->str),(str,'name'->str),(str,'company'->str),(str,'blog'->str),(str,'location'->str),(str,'email'->str)]),(str,'created_at'->str),(str,'payload'->Struct[(str,'shas'->List[(str,str,str,str,boolean)]),(str,'size'->i64),(str,'ref'->str),(str,'head'->str)]),(str,'public'->boolean),(str,'repository'->Struct[(str,'archive_url'->str),(str,'assignees_url'->str),(str,'blobs_url'->str),(str,'branches_url'->str),(str,'clone_url'->str),(str,'collaborators_url'->str),(str,'comments_url'->str),(str,'commits_url'->str),(str,'compare_url'->str),(str,'contents_url'->str),(str,'contributors_url'->str),(str,'created_at'->str),(str,'default_branch'->str),(str,'description'->Option[str]),(str,'downloads_url'->str),(str,'events_url'->str),(str,'fork'->boolean),(str,'forks'->i64),(str,'forks_count'->i64),(str,'forks_url'->str),(str,'full_name'->str),(str,'git_commits_url'->str),(str,'git_refs_url'->str),(str,'git_tags_url'->str),(str,'git_url'->str),(str,'has_downloads'->boolean),(str,'has_issues'->boolean),(str,'has_pages'->boolean),(str,'has_wiki'->boolean),(str,'homepage'->Option[str]),(str,'hooks_url'->str),(str,'html_url'->str),(str,'id'->i64),(str,'issue_comment_url'->str),(str,'issue_events_url'->str),(str,'issues_url'->str),(str,'keys_url'->str),(str,'labels_url'->str),(str,'language'->Option[str]),(str,'languages_url'->str),(str,'master_branch'->str),(str,'merges_url'->str),(str,'milestones_url'->str),(str,'mirror_url'->null),(str,'name'->str),(str,'notifications_url'->str),(str,'open_issues'->i64),(str,'open_issues_count'->i64),(str,'owner'->str),(str,'private'->boolean),(str,'pulls_url'->str),(str,'pushed_at'->str),(str,'releases_url'->str),(str,'size'->i64),(str,'ssh_url'->str),(str,'stargazers'->i64),(str,'stargazers_count'->i64),(str,'stargazers_url'->str),(str,'statuses_url'->str),(str,'subscribers_url'->str),(str,'subscription_url'->str),(str,'svn_url'->str),(str,'tags_url'->str),(str,'teams_url'->str),(str,'trees_url'->str),(str,'updated_at'->str),(str,'url'->str),(str,'watchers'->i64),(str,'watchers_count'->i64)]),(str,'type'->str),(str,'url'->str)]\""
      ]
     },
     "execution_count": 197,
     "metadata": {},
     "output_type": "execute_result"
    }
   ],
   "source": [
    "# most complex normal-case\n",
    "sorted(list(df['normal_case'].values), key=len)[-1]"
   ]
  },
  {
   "cell_type": "code",
   "execution_count": 198,
   "id": "12df46fc",
   "metadata": {},
   "outputs": [
    {
     "data": {
      "text/plain": [
       "\"Struct[(str,'actor'->Struct[(str,'id'->i64),(str,'login'->str),(str,'gravatar_id'->str),(str,'url'->str),(str,'avatar_url'->str)]),(str,'created_at'->str),(str,'id'->str),(str,'org'=>Struct[(str,'id'->i64),(str,'login'->str),(str,'gravatar_id'->str),(str,'url'->str),(str,'avatar_url'->str)]),(str,'payload'->Struct[(str,'push_id'->i64),(str,'size'->i64),(str,'distinct_size'->i64),(str,'ref'->str),(str,'head'->str),(str,'before'->str),(str,'commits'->List[Struct[(str,'sha'->str),(str,'author'->Struct[(str,'email'->str),(str,'name'->str)]),(str,'message'->str),(str,'distinct'->boolean),(str,'url'->str)]])]),(str,'public'->boolean),(str,'repo'->Struct[(str,'id'->i64),(str,'name'->str),(str,'url'->str)]),(str,'type'->str)]\""
      ]
     },
     "execution_count": 198,
     "metadata": {},
     "output_type": "execute_result"
    }
   ],
   "source": [
    "# least complex general_case\n",
    "sorted(list(df['general_case'].values), key=len)[0]"
   ]
  },
  {
   "cell_type": "code",
   "execution_count": 199,
   "id": "5444d89a",
   "metadata": {
    "scrolled": false
   },
   "outputs": [
    {
     "data": {
      "text/plain": [
       "\"Struct[(str,'actor'->str),(str,'actor_attributes'->Struct[(str,'blog'=>str),(str,'company'=>str),(str,'email'->str),(str,'gravatar_id'->str),(str,'location'=>str),(str,'login'->str),(str,'name'=>str),(str,'type'->str)]),(str,'created_at'->str),(str,'payload'->Struct[(str,'shas'->List[(str,str,str,str,boolean)]),(str,'size'->i64),(str,'ref'->str),(str,'head'->str)]),(str,'public'->boolean),(str,'repository'->Struct[(str,'archive_url'->str),(str,'assignees_url'->str),(str,'blobs_url'->str),(str,'branches_url'->str),(str,'clone_url'->str),(str,'collaborators_url'->str),(str,'comments_url'->str),(str,'commits_url'->str),(str,'compare_url'->str),(str,'contents_url'->str),(str,'contributors_url'->str),(str,'created_at'->str),(str,'default_branch'->str),(str,'description'->Option[str]),(str,'downloads_url'->str),(str,'events_url'->str),(str,'fork'->boolean),(str,'forks'->i64),(str,'forks_count'->i64),(str,'forks_url'->str),(str,'full_name'->str),(str,'git_commits_url'->str),(str,'git_refs_url'->str),(str,'git_tags_url'->str),(str,'git_url'->str),(str,'has_downloads'->boolean),(str,'has_issues'->boolean),(str,'has_pages'->boolean),(str,'has_wiki'->boolean),(str,'homepage'->Option[str]),(str,'hooks_url'->str),(str,'html_url'->str),(str,'id'->i64),(str,'issue_comment_url'->str),(str,'issue_events_url'->str),(str,'issues_url'->str),(str,'keys_url'->str),(str,'labels_url'->str),(str,'language'->Option[str]),(str,'languages_url'->str),(str,'master_branch'->str),(str,'merges_url'->str),(str,'milestones_url'->str),(str,'mirror_url'->null),(str,'name'->str),(str,'notifications_url'->str),(str,'open_issues'->i64),(str,'open_issues_count'->i64),(str,'organization'=>str),(str,'owner'->str),(str,'private'->boolean),(str,'pulls_url'->str),(str,'pushed_at'->str),(str,'releases_url'->str),(str,'size'->i64),(str,'ssh_url'->str),(str,'stargazers'->i64),(str,'stargazers_count'->i64),(str,'stargazers_url'->str),(str,'statuses_url'->str),(str,'subscribers_url'->str),(str,'subscription_url'->str),(str,'svn_url'->str),(str,'tags_url'->str),(str,'teams_url'->str),(str,'trees_url'->str),(str,'updated_at'->str),(str,'url'->str),(str,'watchers'->i64),(str,'watchers_count'->i64)]),(str,'type'->str),(str,'url'->str)]\""
      ]
     },
     "execution_count": 199,
     "metadata": {},
     "output_type": "execute_result"
    }
   ],
   "source": [
    "# most complex general_case\n",
    "sorted(list(df['general_case'].values), key=len)[-1]"
   ]
  },
  {
   "cell_type": "code",
   "execution_count": 200,
   "id": "ee88244f",
   "metadata": {},
   "outputs": [
    {
     "data": {
      "text/plain": [
       "\"Struct[(str,'actor'->Struct[(str,'id'->i64),(str,'login'->str),(str,'display_login'->str),(str,'gravatar_id'->str),(str,'url'->str),(str,'avatar_url'->str)]),(str,'created_at'->str),(str,'id'->str),(str,'payload'->Struct[(str,'before'->str),(str,'commits'->List[Struct[(str,'author'->Struct[(str,'email'->str),(str,'name'->str)]),(str,'distinct'->boolean),(str,'message'->str),(str,'sha'->str),(str,'url'->str)]]),(str,'distinct_size'->i64),(str,'head'->str),(str,'push_id'->i64),(str,'ref'->str),(str,'size'->i64)]),(str,'public'->boolean),(str,'repo'->Struct[(str,'id'->i64),(str,'name'->str),(str,'url'->str)]),(str,'type'->str)]\""
      ]
     },
     "execution_count": 200,
     "metadata": {},
     "output_type": "execute_result"
    }
   ],
   "source": [
    "df_global['normal_case'].iloc[0]"
   ]
  },
  {
   "cell_type": "code",
   "execution_count": 201,
   "id": "b45f2ba6",
   "metadata": {},
   "outputs": [
    {
     "data": {
      "text/plain": [
       "\"Struct[(str,'actor'->Struct[(str,'avatar_url'->str),(str,'display_login'=>str),(str,'gravatar_id'->str),(str,'id'->i64),(str,'login'->str),(str,'url'->str)]),(str,'created_at'->str),(str,'id'->str),(str,'org'=>Struct[(str,'avatar_url'->str),(str,'gravatar_id'->str),(str,'id'->i64),(str,'login'->str),(str,'url'->str)]),(str,'payload'->Struct[(str,'before'=>str),(str,'commits'->List[Struct[(str,'author'->Struct[(str,'email'->str),(str,'name'->str)]),(str,'distinct'=>boolean),(str,'message'->str),(str,'sha'->str),(str,'url'->str)]]),(str,'distinct_size'=>i64),(str,'head'->str),(str,'legacy'=>Struct[(str,'head'->str),(str,'push_id'->i64),(str,'ref'->str),(str,'shas'->List[List[Option[str]]]),(str,'size'->i64)]),(str,'push_id'->i64),(str,'ref'->str),(str,'size'->i64)]),(str,'public'->boolean),(str,'repo'->Struct[(str,'id'->i64),(str,'name'->str),(str,'url'->str)]),(str,'type'->str)]\""
      ]
     },
     "execution_count": 201,
     "metadata": {},
     "output_type": "execute_result"
    }
   ],
   "source": [
    "df_global['general_case'].iloc[0]"
   ]
  },
  {
   "cell_type": "markdown",
   "id": "1d83fd7d",
   "metadata": {},
   "source": [
    "Some specific 2014 analysis:"
   ]
  },
  {
   "cell_type": "code",
   "execution_count": 211,
   "id": "c8eb7e0d",
   "metadata": {},
   "outputs": [],
   "source": [
    "sample = list(df_hyper[df_hyper['year'] ==  2014]['sample'].values)[0]"
   ]
  },
  {
   "cell_type": "code",
   "execution_count": 213,
   "id": "5b917ae2",
   "metadata": {
    "scrolled": false
   },
   "outputs": [
    {
     "data": {
      "text/plain": [
       "3"
      ]
     },
     "execution_count": 213,
     "metadata": {},
     "output_type": "execute_result"
    }
   ],
   "source": [
    "len(sample)"
   ]
  },
  {
   "cell_type": "code",
   "execution_count": 218,
   "id": "e284397c",
   "metadata": {},
   "outputs": [],
   "source": [
    "df_hyper_2014_counts = pd.DataFrame(df_hyper[df_hyper['year'] ==  2014]['type_counts'].values[0])"
   ]
  },
  {
   "cell_type": "code",
   "execution_count": 227,
   "id": "086ce993",
   "metadata": {},
   "outputs": [],
   "source": [
    "most_common = df_hyper_2014_counts.sort_values(by=['count'], ascending=False).iloc[0]['type']"
   ]
  },
  {
   "cell_type": "code",
   "execution_count": 228,
   "id": "7f19f2e7",
   "metadata": {},
   "outputs": [],
   "source": [
    "least_common = df_hyper_2014_counts.sort_values(by=['count'], ascending=False).iloc[-1]['type']"
   ]
  },
  {
   "cell_type": "code",
   "execution_count": 229,
   "id": "8ddb3462",
   "metadata": {},
   "outputs": [
    {
     "data": {
      "text/plain": [
       "(2173, 2178)"
      ]
     },
     "execution_count": 229,
     "metadata": {},
     "output_type": "execute_result"
    }
   ],
   "source": [
    "len(most_common), len(least_common)"
   ]
  },
  {
   "cell_type": "code",
   "execution_count": 233,
   "id": "55329581",
   "metadata": {},
   "outputs": [],
   "source": [
    "import difflib\n",
    "import sys"
   ]
  },
  {
   "cell_type": "code",
   "execution_count": 235,
   "id": "ec9a4647",
   "metadata": {},
   "outputs": [
    {
     "data": {
      "text/plain": [
       "\"(Struct[(str,'created_at'->str),(str,'payload'->Struct[(str,'shas'->List[(str,str,str,str,boolean)]),(str,'size'->i64),(str,'ref'->str),(str,'head'->str)]),(str,'public'->boolean),(str,'type'->str),(str,'url'->str),(str,'actor'->str),(str,'actor_attributes'->Struct[(str,'login'->str),(str,'type'->str),(str,'gravatar_id'->str),(str,'name'->str),(str,'blog'->str),(str,'location'->str),(str,'email'->str)]),(str,'repository'->Struct[(str,'id'->i64),(str,'name'->str),(str,'full_name'->str),(str,'owner'->str),(str,'private'->boolean),(str,'html_url'->str),(str,'description'->str),(str,'fork'->boolean),(str,'url'->str),(str,'forks_url'->str),(str,'keys_url'->str),(str,'collaborators_url'->str),(str,'teams_url'->str),(str,'hooks_url'->str),(str,'issue_events_url'->str),(str,'events_url'->str),(str,'assignees_url'->str),(str,'branches_url'->str),(str,'tags_url'->str),(str,'blobs_url'->str),(str,'git_tags_url'->str),(str,'git_refs_url'->str),(str,'trees_url'->str),(str,'statuses_url'->str),(str,'languages_url'->str),(str,'stargazers_url'->str),(str,'contributors_url'->str),(str,'subscribers_url'->str),(str,'subscription_url'->str),(str,'commits_url'->str),(str,'git_commits_url'->str),(str,'comments_url'->str),(str,'issue_comment_url'->str),(str,'contents_url'->str),(str,'compare_url'->str),(str,'merges_url'->str),(str,'archive_url'->str),(str,'downloads_url'->str),(str,'issues_url'->str),(str,'pulls_url'->str),(str,'milestones_url'->str),(str,'notifications_url'->str),(str,'labels_url'->str),(str,'releases_url'->str),(str,'created_at'->str),(str,'updated_at'->str),(str,'pushed_at'->str),(str,'git_url'->str),(str,'ssh_url'->str),(str,'clone_url'->str),(str,'svn_url'->str),(str,'homepage'->null),(str,'size'->i64),(str,'stargazers_count'->i64),(str,'watchers_count'->i64),(str,'language'->str),(str,'has_issues'->boolean),(str,'has_downloads'->boolean),(str,'has_wiki'->boolean),(str,'has_pages'->boolean),(str,'forks_count'->i64),(str,'mirror_url'->null),(str,'open_issues_count'->i64),(str,'forks'->i64),(str,'open_issues'->i64),(str,'watchers'->i64),(str,'default_branch'->str),(str,'stargazers'->i64),(str,'master_branch'->str),(str,'organization'->str)])])\""
      ]
     },
     "execution_count": 235,
     "metadata": {},
     "output_type": "execute_result"
    }
   ],
   "source": [
    "least_common"
   ]
  },
  {
   "cell_type": "code",
   "execution_count": 241,
   "id": "6f3f1619",
   "metadata": {},
   "outputs": [],
   "source": [
    "def diff_types(rhs, lhs):\n",
    "    # check for common substr from start and end\n",
    "    spos = 0\n",
    "    for a,b in zip(rhs, lhs):\n",
    "        if a != b:\n",
    "            break\n",
    "        spos += 1\n",
    "    epos = 0\n",
    "    for a,b in zip(reversed(rhs), reversed(lhs)):\n",
    "        if a != b:\n",
    "            break\n",
    "        epos += 1\n",
    "    print('...{}...\\n...{}...\\n'.format(lhs[spos:-epos], rhs[spos:-epos]))"
   ]
  },
  {
   "cell_type": "code",
   "execution_count": 242,
   "id": "38c58bd8",
   "metadata": {},
   "outputs": [
    {
     "name": "stdout",
     "output_type": "stream",
     "text": [
      "...blog'->str),(str,'location'->str),(str,'email'->str)]),(str,'repository'->Struct[(str,'id'->i64),(str,'name'->str),(str,'full_name'->str),(str,'owner'->str),(str,'private'->boolean),(str,'html_url'->str),(str,'description'->str),(str,'fork'->boolean),(str,'url'->str),(str,'forks_url'->str),(str,'keys_url'->str),(str,'collaborators_url'->str),(str,'teams_url'->str),(str,'hooks_url'->str),(str,'issue_events_url'->str),(str,'events_url'->str),(str,'assignees_url'->str),(str,'branches_url'->str),(str,'tags_url'->str),(str,'blobs_url'->str),(str,'git_tags_url'->str),(str,'git_refs_url'->str),(str,'trees_url'->str),(str,'statuses_url'->str),(str,'languages_url'->str),(str,'stargazers_url'->str),(str,'contributors_url'->str),(str,'subscribers_url'->str),(str,'subscription_url'->str),(str,'commits_url'->str),(str,'git_commits_url'->str),(str,'comments_url'->str),(str,'issue_comment_url'->str),(str,'contents_url'->str),(str,'compare_url'->str),(str,'merges_url'->str),(str,'archive_url'->str),(str,'downloads_url'->str),(str,'issues_url'->str),(str,'pulls_url'->str),(str,'milestones_url'->str),(str,'notifications_url'->str),(str,'labels_url'->str),(str,'releases_url'->str),(str,'created_at'->str),(str,'updated_at'->str),(str,'pushed_at'->str),(str,'git_url'->str),(str,'ssh_url'->str),(str,'clone_url'->str),(str,'svn_url'->str),(str,'homepage'->null),(str,'size'->i64),(str,'stargazers_count'->i64),(str,'watchers_count'->i64),(str,'language'->str),(str,'has_issues'->boolean),(str,'has_downloads'->boolean),(str,'has_wiki'->boolean),(str,'has_pages'->boolean),(str,'forks_count'->i64),(str,'mirror_url'->null),(str,'open_issues_count'->i64),(str,'forks'->i64),(str,'open_issues'->i64),(str,'watchers'->i64),(str,'default_branch'->str),(str,'stargazers'->i64),(str,'master_branch'->str),(str,'organization...\n",
      "...company'->str),(str,'blog'->str),(str,'location'->str),(str,'email'->str)]),(str,'repository'->Struct[(str,'id'->i64),(str,'name'->str),(str,'full_name'->str),(str,'owner'->str),(str,'private'->boolean),(str,'html_url'->str),(str,'description'->str),(str,'fork'->boolean),(str,'url'->str),(str,'forks_url'->str),(str,'keys_url'->str),(str,'collaborators_url'->str),(str,'teams_url'->str),(str,'hooks_url'->str),(str,'issue_events_url'->str),(str,'events_url'->str),(str,'assignees_url'->str),(str,'branches_url'->str),(str,'tags_url'->str),(str,'blobs_url'->str),(str,'git_tags_url'->str),(str,'git_refs_url'->str),(str,'trees_url'->str),(str,'statuses_url'->str),(str,'languages_url'->str),(str,'stargazers_url'->str),(str,'contributors_url'->str),(str,'subscribers_url'->str),(str,'subscription_url'->str),(str,'commits_url'->str),(str,'git_commits_url'->str),(str,'comments_url'->str),(str,'issue_comment_url'->str),(str,'contents_url'->str),(str,'compare_url'->str),(str,'merges_url'->str),(str,'archive_url'->str),(str,'downloads_url'->str),(str,'issues_url'->str),(str,'pulls_url'->str),(str,'milestones_url'->str),(str,'notifications_url'->str),(str,'labels_url'->str),(str,'releases_url'->str),(str,'created_at'->str),(str,'updated_at'->str),(str,'pushed_at'->str),(str,'git_url'->str),(str,'ssh_url'->str),(str,'clone_url'->str),(str,'svn_url'->str),(str,'homepage'->null),(str,'size'->i64),(str,'stargazers_count'->i64),(str,'watchers_count'->i64),(str,'language'->str),(str,'has_issues'->boolean),(str,'has_downloads'->boolean),(str,'has_wiki'->boolean),(str,'has_pages'->boolean),(str,'forks_count'->i64),(str,'mirror_url'->null),(str,'open_issues_count'->i64),(str,'forks'->i64),(str,'open_issues'->i64),(str,'watchers'->i64),(str,'default_branch'->str),(str,'stargazers'->i64),(str,'master_branch...\n",
      "\n"
     ]
    }
   ],
   "source": [
    "diff_types(most_common, least_common)"
   ]
  },
  {
   "cell_type": "code",
   "execution_count": 244,
   "id": "06699318",
   "metadata": {},
   "outputs": [
    {
     "data": {
      "text/plain": [
       "Index(['buf_size_compressed', 'buf_size_uncompressed', 'event_to_filter_for',\n",
       "       'fallback_mem', 'fallback_rows', 'filter_promotion', 'filtered_rows',\n",
       "       'general_case', 'general_case_field_count', 'general_case_pretty',\n",
       "       'general_json_paths', 'general_mem', 'general_rows', 'mode',\n",
       "       'normal_case', 'normal_case_field_count', 'normal_case_pretty',\n",
       "       'normal_json_paths', 'normal_mem', 'normal_rows', 'path',\n",
       "       'perfect_sample', 'sample', 'sample_row_count', 'sample_size',\n",
       "       'total_rows', 'type_counts', 'year'],\n",
       "      dtype='object')"
      ]
     },
     "execution_count": 244,
     "metadata": {},
     "output_type": "execute_result"
    }
   ],
   "source": [
    "df_hyper[df_hyper['year'] == 2014].columns"
   ]
  },
  {
   "cell_type": "code",
   "execution_count": 247,
   "id": "831b5231",
   "metadata": {},
   "outputs": [
    {
     "name": "stdout",
     "output_type": "stream",
     "text": [
      "{\n",
      "  \"actor\":str,\n",
      "  \"actor_attributes\":{\n",
      "    \"login\":str,\n",
      "    \"type\":str,\n",
      "    \"gravatar_id\":str,\n",
      "    \"name\":str,\n",
      "    \"company\":str,\n",
      "    \"blog\":str,\n",
      "    \"location\":str,\n",
      "    \"email\":str\n",
      "  },\n",
      "  \"created_at\":str,\n",
      "  \"payload\":{\n",
      "    \"shas\":List[(str,str,str,str,boolean)],\n",
      "    \"size\":i64,\n",
      "    \"ref\":str,\n",
      "    \"head\":str\n",
      "  },\n",
      "  \"public\":boolean,\n",
      "  \"repository\":{\n",
      "    \"archive_url\":str,\n",
      "    \"assignees_url\":str,\n",
      "    \"blobs_url\":str,\n",
      "    \"branches_url\":str,\n",
      "    \"clone_url\":str,\n",
      "    \"collaborators_url\":str,\n",
      "    \"comments_url\":str,\n",
      "    \"commits_url\":str,\n",
      "    \"compare_url\":str,\n",
      "    \"contents_url\":str,\n",
      "    \"contributors_url\":str,\n",
      "    \"created_at\":str,\n",
      "    \"default_branch\":str,\n",
      "    \"description\":Option[str],\n",
      "    \"downloads_url\":str,\n",
      "    \"events_url\":str,\n",
      "    \"fork\":boolean,\n",
      "    \"forks\":i64,\n",
      "    \"forks_count\":i64,\n",
      "    \"forks_url\":str,\n",
      "    \"full_name\":str,\n",
      "    \"git_commits_url\":str,\n",
      "    \"git_refs_url\":str,\n",
      "    \"git_tags_url\":str,\n",
      "    \"git_url\":str,\n",
      "    \"has_downloads\":boolean,\n",
      "    \"has_issues\":boolean,\n",
      "    \"has_pages\":boolean,\n",
      "    \"has_wiki\":boolean,\n",
      "    \"homepage\":Option[str],\n",
      "    \"hooks_url\":str,\n",
      "    \"html_url\":str,\n",
      "    \"id\":i64,\n",
      "    \"issue_comment_url\":str,\n",
      "    \"issue_events_url\":str,\n",
      "    \"issues_url\":str,\n",
      "    \"keys_url\":str,\n",
      "    \"labels_url\":str,\n",
      "    \"language\":Option[str],\n",
      "    \"languages_url\":str,\n",
      "    \"master_branch\":str,\n",
      "    \"merges_url\":str,\n",
      "    \"milestones_url\":str,\n",
      "    \"mirror_url\":null,\n",
      "    \"name\":str,\n",
      "    \"notifications_url\":str,\n",
      "    \"open_issues\":i64,\n",
      "    \"open_issues_count\":i64,\n",
      "    \"owner\":str,\n",
      "    \"private\":boolean,\n",
      "    \"pulls_url\":str,\n",
      "    \"pushed_at\":str,\n",
      "    \"releases_url\":str,\n",
      "    \"size\":i64,\n",
      "    \"ssh_url\":str,\n",
      "    \"stargazers\":i64,\n",
      "    \"stargazers_count\":i64,\n",
      "    \"stargazers_url\":str,\n",
      "    \"statuses_url\":str,\n",
      "    \"subscribers_url\":str,\n",
      "    \"subscription_url\":str,\n",
      "    \"svn_url\":str,\n",
      "    \"tags_url\":str,\n",
      "    \"teams_url\":str,\n",
      "    \"trees_url\":str,\n",
      "    \"updated_at\":str,\n",
      "    \"url\":str,\n",
      "    \"watchers\":i64,\n",
      "    \"watchers_count\":i64\n",
      "  },\n",
      "  \"type\":str,\n",
      "  \"url\":str\n",
      "}\n"
     ]
    }
   ],
   "source": [
    "print(df_hyper[df_hyper['year'] == 2014]['normal_case_pretty'].values[0])"
   ]
  },
  {
   "cell_type": "code",
   "execution_count": 248,
   "id": "0b6bd099",
   "metadata": {},
   "outputs": [
    {
     "name": "stdout",
     "output_type": "stream",
     "text": [
      "{\n",
      "  \"created_at\":str,\n",
      "  \"payload\":{\n",
      "    \"shas\":List[(str,str,str,str,boolean)],\n",
      "    \"size\":i64,\n",
      "    \"ref\":str,\n",
      "    \"head\":str\n",
      "  },\n",
      "  \"public\":boolean,\n",
      "  \"type\":str,\n",
      "  \"url\":str,\n",
      "  \"actor\":str,\n",
      "  \"actor_attributes\":{\n",
      "    \"login\":str,\n",
      "    \"type\":str,\n",
      "    \"gravatar_id\":str,\n",
      "    \"email\":str\n",
      "  },\n",
      "  \"repository\":{\n",
      "    \"id\":i64,\n",
      "    \"name\":str,\n",
      "    \"url\":str,\n",
      "    \"description\":str,\n",
      "    \"watchers\":i64,\n",
      "    \"stargazers\":i64,\n",
      "    \"forks\":i64,\n",
      "    \"fork\":boolean,\n",
      "    \"size\":i64,\n",
      "    \"owner\":str,\n",
      "    \"private\":boolean,\n",
      "    \"open_issues\":i64,\n",
      "    \"has_issues\":boolean,\n",
      "    \"has_downloads\":boolean,\n",
      "    \"has_wiki\":boolean,\n",
      "    \"language\":str,\n",
      "    \"created_at\":str,\n",
      "    \"pushed_at\":str,\n",
      "    \"master_branch\":str\n",
      "  }\n",
      "}\n"
     ]
    }
   ],
   "source": [
    "print(df_hyper[df_hyper['year'] == 2013]['normal_case_pretty'].values[0])"
   ]
  },
  {
   "cell_type": "code",
   "execution_count": 249,
   "id": "6e7b2197",
   "metadata": {},
   "outputs": [
    {
     "name": "stdout",
     "output_type": "stream",
     "text": [
      "{\n",
      "  \"actor\":{\n",
      "    \"id\":i64,\n",
      "    \"login\":str,\n",
      "    \"gravatar_id\":str,\n",
      "    \"url\":str,\n",
      "    \"avatar_url\":str\n",
      "  },\n",
      "  \"created_at\":str,\n",
      "  \"id\":str,\n",
      "  \"payload\":{\n",
      "    \"before\":str,\n",
      "    \"commits\":List[Struct[(str,'sha'->str),(str,'author'->Struct[(str,'email'->str),(str,'name'->str)]),(str,'message'->str),(str,'distinct'->boolean),(str,'url'->str)]],\n",
      "    \"distinct_size\":i64,\n",
      "    \"head\":str,\n",
      "    \"push_id\":i64,\n",
      "    \"ref\":str,\n",
      "    \"size\":i64\n",
      "  },\n",
      "  \"public\":boolean,\n",
      "  \"repo\":{\n",
      "    \"id\":i64,\n",
      "    \"name\":str,\n",
      "    \"url\":str\n",
      "  },\n",
      "  \"type\":str\n",
      "}\n"
     ]
    }
   ],
   "source": [
    "print(df_hyper[df_hyper['year'] == 2015]['normal_case_pretty'].values[0])"
   ]
  },
  {
   "cell_type": "code",
   "execution_count": 251,
   "id": "fe2e418e",
   "metadata": {},
   "outputs": [
    {
     "name": "stdout",
     "output_type": "stream",
     "text": [
      "{\n",
      "  \"actor\":{\n",
      "    \"id\":i64,\n",
      "    \"login\":str,\n",
      "    \"display_login\":str,\n",
      "    \"gravatar_id\":str,\n",
      "    \"url\":str,\n",
      "    \"avatar_url\":str\n",
      "  },\n",
      "  \"created_at\":str,\n",
      "  \"id\":str,\n",
      "  \"payload\":{\n",
      "    \"before\":str,\n",
      "    \"commits\":List[Struct[(str,'sha'->str),(str,'author'->Struct[(str,'name'->str),(str,'email'->str)]),(str,'message'->str),(str,'distinct'->boolean),(str,'url'->str)]],\n",
      "    \"distinct_size\":i64,\n",
      "    \"head\":str,\n",
      "    \"push_id\":i64,\n",
      "    \"ref\":str,\n",
      "    \"size\":i64\n",
      "  },\n",
      "  \"public\":boolean,\n",
      "  \"repo\":{\n",
      "    \"id\":i64,\n",
      "    \"name\":str,\n",
      "    \"url\":str\n",
      "  },\n",
      "  \"type\":str\n",
      "}\n"
     ]
    }
   ],
   "source": [
    "print(df_hyper[df_hyper['year'] == 2016]['normal_case_pretty'].values[0])"
   ]
  },
  {
   "cell_type": "markdown",
   "id": "f17bd09f",
   "metadata": {},
   "source": [
    "From 2015 -> 2016 a field display_login was added."
   ]
  },
  {
   "cell_type": "code",
   "execution_count": null,
   "id": "7ced092c",
   "metadata": {},
   "outputs": [],
   "source": []
  },
  {
   "cell_type": "code",
   "execution_count": 252,
   "id": "e159cb9e",
   "metadata": {},
   "outputs": [
    {
     "name": "stdout",
     "output_type": "stream",
     "text": [
      "{\n",
      "  \"actor\":str,\n",
      "  \"actor_attributes\":{\n",
      "    \"login\":str,\n",
      "    \"type\":str,\n",
      "    \"gravatar_id\":str,\n",
      "    \"name\":str,\n",
      "    \"company\":str,\n",
      "    \"blog\":str,\n",
      "    \"location\":str,\n",
      "    \"email\":str\n",
      "  },\n",
      "  \"created_at\":str,\n",
      "  \"payload\":{\n",
      "    \"shas\":List[(str,str,str,str,boolean)],\n",
      "    \"size\":i64,\n",
      "    \"ref\":str,\n",
      "    \"head\":str\n",
      "  },\n",
      "  \"public\":boolean,\n",
      "  \"repository\":{\n",
      "    \"archive_url\":str,\n",
      "    \"assignees_url\":str,\n",
      "    \"blobs_url\":str,\n",
      "    \"branches_url\":str,\n",
      "    \"clone_url\":str,\n",
      "    \"collaborators_url\":str,\n",
      "    \"comments_url\":str,\n",
      "    \"commits_url\":str,\n",
      "    \"compare_url\":str,\n",
      "    \"contents_url\":str,\n",
      "    \"contributors_url\":str,\n",
      "    \"created_at\":str,\n",
      "    \"default_branch\":str,\n",
      "    \"description\":Option[str],\n",
      "    \"downloads_url\":str,\n",
      "    \"events_url\":str,\n",
      "    \"fork\":boolean,\n",
      "    \"forks\":i64,\n",
      "    \"forks_count\":i64,\n",
      "    \"forks_url\":str,\n",
      "    \"full_name\":str,\n",
      "    \"git_commits_url\":str,\n",
      "    \"git_refs_url\":str,\n",
      "    \"git_tags_url\":str,\n",
      "    \"git_url\":str,\n",
      "    \"has_downloads\":boolean,\n",
      "    \"has_issues\":boolean,\n",
      "    \"has_pages\":boolean,\n",
      "    \"has_wiki\":boolean,\n",
      "    \"homepage\":Option[str],\n",
      "    \"hooks_url\":str,\n",
      "    \"html_url\":str,\n",
      "    \"id\":i64,\n",
      "    \"issue_comment_url\":str,\n",
      "    \"issue_events_url\":str,\n",
      "    \"issues_url\":str,\n",
      "    \"keys_url\":str,\n",
      "    \"labels_url\":str,\n",
      "    \"language\":Option[str],\n",
      "    \"languages_url\":str,\n",
      "    \"master_branch\":str,\n",
      "    \"merges_url\":str,\n",
      "    \"milestones_url\":str,\n",
      "    \"mirror_url\":null,\n",
      "    \"name\":str,\n",
      "    \"notifications_url\":str,\n",
      "    \"open_issues\":i64,\n",
      "    \"open_issues_count\":i64,\n",
      "    \"owner\":str,\n",
      "    \"private\":boolean,\n",
      "    \"pulls_url\":str,\n",
      "    \"pushed_at\":str,\n",
      "    \"releases_url\":str,\n",
      "    \"size\":i64,\n",
      "    \"ssh_url\":str,\n",
      "    \"stargazers\":i64,\n",
      "    \"stargazers_count\":i64,\n",
      "    \"stargazers_url\":str,\n",
      "    \"statuses_url\":str,\n",
      "    \"subscribers_url\":str,\n",
      "    \"subscription_url\":str,\n",
      "    \"svn_url\":str,\n",
      "    \"tags_url\":str,\n",
      "    \"teams_url\":str,\n",
      "    \"trees_url\":str,\n",
      "    \"updated_at\":str,\n",
      "    \"url\":str,\n",
      "    \"watchers\":i64,\n",
      "    \"watchers_count\":i64\n",
      "  },\n",
      "  \"type\":str,\n",
      "  \"url\":str\n",
      "}\n"
     ]
    }
   ],
   "source": [
    "print(df_hyper[df_hyper['year'] == 2014]['normal_case_pretty'].values[0])"
   ]
  },
  {
   "cell_type": "code",
   "execution_count": null,
   "id": "f0ecc9a3",
   "metadata": {},
   "outputs": [],
   "source": []
  },
  {
   "cell_type": "code",
   "execution_count": null,
   "id": "28fc3827",
   "metadata": {},
   "outputs": [],
   "source": []
  },
  {
   "cell_type": "markdown",
   "id": "912181da",
   "metadata": {},
   "source": [
    "Maybe the question could be? How do stars and forks coincide? I.e. how many stars does one need so the repo gets forked?\n",
    "\n",
    "Another interesting question could be to find active forks?\n",
    "This means, forks that have stars/watchers and other forks!\n",
    "\n",
    "--> perhaps this is a self-join?"
   ]
  },
  {
   "cell_type": "code",
   "execution_count": 202,
   "id": "3cde896f",
   "metadata": {},
   "outputs": [],
   "source": [
    "# !open ."
   ]
  },
  {
   "cell_type": "code",
   "execution_count": 203,
   "id": "eea40822",
   "metadata": {},
   "outputs": [
    {
     "data": {
      "text/plain": [
       "10      48899\n",
       "9      165692\n",
       "8      296456\n",
       "7      476393\n",
       "6      737714\n",
       "5      678134\n",
       "4      910100\n",
       "3     1522655\n",
       "2     2134789\n",
       "1     2963694\n",
       "0     1078139\n",
       "Name: total_rows, dtype: int64"
      ]
     },
     "execution_count": 203,
     "metadata": {},
     "output_type": "execute_result"
    }
   ],
   "source": [
    "df_hyper['total_rows']"
   ]
  },
  {
   "cell_type": "code",
   "execution_count": null,
   "id": "b6d11d90",
   "metadata": {},
   "outputs": [],
   "source": []
  },
  {
   "cell_type": "code",
   "execution_count": 64,
   "id": "926fff42",
   "metadata": {},
   "outputs": [],
   "source": [
    "# -> prob. picks up the wrong normal-case/global case... -> selection routine may be off..."
   ]
  },
  {
   "cell_type": "markdown",
   "id": "7604da82",
   "metadata": {},
   "source": [
    "Improvements:\n",
    "    \n",
    "    - pick specific day (October 15th :P?)\n",
    "    - combine data for the day (so it's larger)\n",
    "    - rerun this experiment"
   ]
  },
  {
   "cell_type": "markdown",
   "id": "31e1e1d0",
   "metadata": {},
   "source": [
    "Observations: \n",
    "\n",
    "    -> why is there nearly no general-case matching in the global specialization case?"
   ]
  },
  {
   "cell_type": "markdown",
   "id": "011f8652",
   "metadata": {},
   "source": [
    "--> perform pushdown (PushEvent?)"
   ]
  },
  {
   "cell_type": "markdown",
   "id": "ad9a04f9",
   "metadata": {},
   "source": [
    "--> then map function"
   ]
  },
  {
   "cell_type": "markdown",
   "id": "5ff6a57d",
   "metadata": {},
   "source": [
    "Notes:\n",
    "\n",
    "--> does maybe adding keycheck change things?"
   ]
  },
  {
   "cell_type": "code",
   "execution_count": null,
   "id": "48b5dcb1",
   "metadata": {},
   "outputs": [],
   "source": [
    "nc = df_hyper[df_hyper['year'] == 2014]['normal_case'].iloc[0]\n",
    "nc[nc.find('payload'):]"
   ]
  },
  {
   "cell_type": "code",
   "execution_count": null,
   "id": "97d1b99a",
   "metadata": {},
   "outputs": [],
   "source": [
    "nc = df_hyper[df_hyper['year'] == 2013]['normal_case'].iloc[0]\n",
    "nc[nc.find('payload'):]"
   ]
  },
  {
   "cell_type": "code",
   "execution_count": null,
   "id": "f9e84c63",
   "metadata": {},
   "outputs": [],
   "source": [
    "nc = df_hyper[df_hyper['year'] == 2015]['normal_case'].iloc[0]\n",
    "nc[nc.find('payload'):]"
   ]
  },
  {
   "cell_type": "markdown",
   "id": "8958582a",
   "metadata": {},
   "source": [
    "To answer: What happened in 2014?\n",
    "\n",
    "what happened in 2015 for global sample?"
   ]
  },
  {
   "cell_type": "code",
   "execution_count": null,
   "id": "641b20a9",
   "metadata": {},
   "outputs": [],
   "source": [
    "df_hyper[['year', 'sample_row_count']]"
   ]
  },
  {
   "cell_type": "code",
   "execution_count": null,
   "id": "77d068ba",
   "metadata": {},
   "outputs": [],
   "source": [
    "plt.figure(figsize=(10,5))\n",
    "plt.plot(df_hyper['year'], df_hyper['sample_row_count'], marker='x')"
   ]
  },
  {
   "cell_type": "code",
   "execution_count": null,
   "id": "2fd22913",
   "metadata": {},
   "outputs": [],
   "source": [
    "df_global['sample_row_count'].iloc[0]"
   ]
  },
  {
   "cell_type": "code",
   "execution_count": null,
   "id": "1362d07d",
   "metadata": {},
   "outputs": [],
   "source": [
    "df_hyper.columns"
   ]
  },
  {
   "cell_type": "markdown",
   "id": "91cc4691",
   "metadata": {},
   "source": [
    "=> increase sample size. => fix number of rows for sampling, e.g. 2000 rows (then also same number of rows for global? i.e. 200 each?)\n",
    "\n",
    "\n",
    "=> check why pushevent rows prior to 2015 end up on fallback case for hyper specialization."
   ]
  },
  {
   "cell_type": "code",
   "execution_count": null,
   "id": "cbef4b33",
   "metadata": {},
   "outputs": [],
   "source": [
    "df_global[['year', 'normal_mem', 'general_mem', 'fallback_mem']]"
   ]
  },
  {
   "cell_type": "markdown",
   "id": "173e9604",
   "metadata": {},
   "source": [
    "--> no idea what is going on in 2015. Shouldn't half of data be on normal-case?"
   ]
  },
  {
   "cell_type": "markdown",
   "id": "fdc9d1d9",
   "metadata": {},
   "source": [
    "add in filter promo chart. another bar to tell the normal/filtered out rows."
   ]
  },
  {
   "cell_type": "code",
   "execution_count": null,
   "id": "c28833e8",
   "metadata": {},
   "outputs": [],
   "source": [
    "df_global['normal_case'].iloc[0]"
   ]
  },
  {
   "cell_type": "code",
   "execution_count": null,
   "id": "e10c64ce",
   "metadata": {},
   "outputs": [],
   "source": [
    "df_global['general_case'].iloc[0]"
   ]
  },
  {
   "cell_type": "markdown",
   "id": "96860a7b",
   "metadata": {},
   "source": [
    "maybe add some sample data to this."
   ]
  },
  {
   "cell_type": "markdown",
   "id": "b662e2b4",
   "metadata": {},
   "source": [
    "Another driver for (current) global:\n",
    "\n",
    "    All files are equally weighted."
   ]
  },
  {
   "cell_type": "code",
   "execution_count": null,
   "id": "b2a9f1be",
   "metadata": {},
   "outputs": [],
   "source": []
  }
 ],
 "metadata": {
  "kernelspec": {
   "display_name": "Python 3 (ipykernel)",
   "language": "python",
   "name": "python3"
  },
  "language_info": {
   "codemirror_mode": {
    "name": "ipython",
    "version": 3
   },
   "file_extension": ".py",
   "mimetype": "text/x-python",
   "name": "python",
   "nbconvert_exporter": "python",
   "pygments_lexer": "ipython3",
   "version": "3.10.6"
  }
 },
 "nbformat": 4,
 "nbformat_minor": 5
}
