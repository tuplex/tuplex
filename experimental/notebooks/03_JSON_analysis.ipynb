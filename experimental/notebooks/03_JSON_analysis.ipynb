{
 "cells": [
  {
   "cell_type": "code",
   "execution_count": 2,
   "id": "883bb584",
   "metadata": {},
   "outputs": [],
   "source": [
    "import pandas as pd"
   ]
  },
  {
   "cell_type": "code",
   "execution_count": 45,
   "id": "21763b7e",
   "metadata": {},
   "outputs": [],
   "source": [
    "# %%file extract_sample.sh\n",
    "# #!/usr/bin/env bash\n",
    "\n",
    "# # unix is faster\n",
    "\n",
    "# mkdir -p .cache\n",
    "# N='100'\n",
    "# for file in `ls ~/Downloads/github_daily_sample/*.json.gz`; do\n",
    "#     echo $file\n",
    "#     NAME=$(basename $file)\n",
    "#     echo .cache/${NAME}\n",
    "#     DATA=$(head -n ${N} < <(cat $file | gunzip))\n",
    "#     #DATA=$(cat $file | gunzip | head -n 100)\n",
    "#     # > .cache/${NAME}\n",
    "# done\n",
    "# #!"
   ]
  },
  {
   "cell_type": "code",
   "execution_count": 46,
   "id": "cda0a8b1",
   "metadata": {},
   "outputs": [],
   "source": [
    "# !bash extract_sample.sh"
   ]
  },
  {
   "cell_type": "code",
   "execution_count": 53,
   "id": "8d43fc90",
   "metadata": {},
   "outputs": [],
   "source": [
    "import glob\n",
    "import os\n",
    "import gzip"
   ]
  },
  {
   "cell_type": "code",
   "execution_count": 74,
   "id": "5e6e82e7",
   "metadata": {},
   "outputs": [
    {
     "name": "stdout",
     "output_type": "stream",
     "text": [
      "2021-10-15.json\n",
      "2018-10-15.json\n",
      "2016-10-15.json\n",
      "2012-10-15.json\n",
      "2015-10-15.json\n",
      "2011-10-15.json\n",
      "2014-10-15.json\n",
      "2013-10-15.json\n",
      "2017-10-15.json\n",
      "2019-10-15.json\n",
      "2020-10-15.json\n"
     ]
    }
   ],
   "source": [
    "os.makedirs('.cache', exist_ok=True)\n",
    "\n",
    "for path in glob.glob('/Users/leonhards/Downloads/github_daily_sample/*.json.gz'):\n",
    "    name = os.path.basename(path).replace('.gz', '')\n",
    "    print(name)\n",
    "    with gzip.open(path, 'rt') as zp:\n",
    "        sample = zp.readlines()[:10000]\n",
    "        \n",
    "        with open(os.path.join('.cache', name), 'w') as fp:\n",
    "            fp.writelines(sample)"
   ]
  },
  {
   "cell_type": "code",
   "execution_count": 77,
   "id": "3f41ab4a",
   "metadata": {},
   "outputs": [],
   "source": [
    "df = pd.read_json('.cache/2020-10-15.json', lines=True)"
   ]
  },
  {
   "cell_type": "code",
   "execution_count": 85,
   "id": "21b20492",
   "metadata": {},
   "outputs": [],
   "source": [
    "def count_keys(d):\n",
    "    if isinstance(d, dict):\n",
    "        return sum([count_keys(el) for el in d.values()])\n",
    "    if isinstance(d, list):\n",
    "        if len(d) == 0:\n",
    "            return 1\n",
    "        return max([count_keys(el) for el in d])\n",
    "    return 1"
   ]
  },
  {
   "cell_type": "code",
   "execution_count": null,
   "id": "2005ab32",
   "metadata": {},
   "outputs": [],
   "source": []
  },
  {
   "cell_type": "code",
   "execution_count": 86,
   "id": "c9ea1536",
   "metadata": {},
   "outputs": [
    {
     "data": {
      "text/plain": [
       "0       12\n",
       "3       12\n",
       "6       12\n",
       "8       12\n",
       "9       12\n",
       "        ..\n",
       "9986    12\n",
       "9987    12\n",
       "9988    12\n",
       "9989    12\n",
       "9994    12\n",
       "Name: payload, Length: 5742, dtype: int64"
      ]
     },
     "execution_count": 86,
     "metadata": {},
     "output_type": "execute_result"
    }
   ],
   "source": [
    "df[df['type'] == 'PushEvent']['payload'].apply(count_keys) #.apply(lambda d: len(d.keys())).max()"
   ]
  },
  {
   "cell_type": "code",
   "execution_count": 87,
   "id": "ab7cdd66",
   "metadata": {},
   "outputs": [],
   "source": [
    "events = df['type'].unique()"
   ]
  },
  {
   "cell_type": "code",
   "execution_count": 91,
   "id": "677f715c",
   "metadata": {},
   "outputs": [
    {
     "name": "stdout",
     "output_type": "stream",
     "text": [
      ".cache/2011-10-15.json ForkEvent 27 27\n",
      ".cache/2012-10-15.json ForkEvent 0 0\n",
      ".cache/2013-10-15.json ForkEvent 0 0\n",
      ".cache/2014-10-15.json ForkEvent 0 0\n",
      ".cache/2015-10-15.json ForkEvent 84 84\n",
      ".cache/2016-10-15.json ForkEvent 85 85\n",
      ".cache/2017-10-15.json ForkEvent 86 86\n",
      ".cache/2018-10-15.json ForkEvent 90 94\n",
      ".cache/2019-10-15.json ForkEvent 91 95\n",
      ".cache/2020-10-15.json ForkEvent 91 95\n",
      ".cache/2021-10-15.json ForkEvent 95 99\n"
     ]
    }
   ],
   "source": [
    "for path in sorted(glob.glob('.cache/*-10-15.json')):\n",
    "    df = pd.read_json(path, lines=True)\n",
    "    for event in ['ForkEvent']:\n",
    "        sub = df[df['type'] == event]['payload'].apply(count_keys)#.apply(lambda d: len(d.keys()))\n",
    "        print(path, event, sub.min(), sub.max())"
   ]
  },
  {
   "cell_type": "code",
   "execution_count": 92,
   "id": "a51a5ffe",
   "metadata": {},
   "outputs": [
    {
     "data": {
      "text/plain": [
       "{'forkee': {'id': 417316449,\n",
       "  'node_id': 'R_kgDOGN--YQ',\n",
       "  'name': 'cudf_benchmarks',\n",
       "  'full_name': 'isVoid/cudf_benchmarks',\n",
       "  'private': False,\n",
       "  'owner': {'login': 'isVoid',\n",
       "   'id': 13521008,\n",
       "   'node_id': 'MDQ6VXNlcjEzNTIxMDA4',\n",
       "   'avatar_url': 'https://avatars.githubusercontent.com/u/13521008?v=4',\n",
       "   'gravatar_id': '',\n",
       "   'url': 'https://api.github.com/users/isVoid',\n",
       "   'html_url': 'https://github.com/isVoid',\n",
       "   'followers_url': 'https://api.github.com/users/isVoid/followers',\n",
       "   'following_url': 'https://api.github.com/users/isVoid/following{/other_user}',\n",
       "   'gists_url': 'https://api.github.com/users/isVoid/gists{/gist_id}',\n",
       "   'starred_url': 'https://api.github.com/users/isVoid/starred{/owner}{/repo}',\n",
       "   'subscriptions_url': 'https://api.github.com/users/isVoid/subscriptions',\n",
       "   'organizations_url': 'https://api.github.com/users/isVoid/orgs',\n",
       "   'repos_url': 'https://api.github.com/users/isVoid/repos',\n",
       "   'events_url': 'https://api.github.com/users/isVoid/events{/privacy}',\n",
       "   'received_events_url': 'https://api.github.com/users/isVoid/received_events',\n",
       "   'type': 'User',\n",
       "   'site_admin': False},\n",
       "  'html_url': 'https://github.com/isVoid/cudf_benchmarks',\n",
       "  'description': 'Benchmarks of cudf',\n",
       "  'fork': True,\n",
       "  'url': 'https://api.github.com/repos/isVoid/cudf_benchmarks',\n",
       "  'forks_url': 'https://api.github.com/repos/isVoid/cudf_benchmarks/forks',\n",
       "  'keys_url': 'https://api.github.com/repos/isVoid/cudf_benchmarks/keys{/key_id}',\n",
       "  'collaborators_url': 'https://api.github.com/repos/isVoid/cudf_benchmarks/collaborators{/collaborator}',\n",
       "  'teams_url': 'https://api.github.com/repos/isVoid/cudf_benchmarks/teams',\n",
       "  'hooks_url': 'https://api.github.com/repos/isVoid/cudf_benchmarks/hooks',\n",
       "  'issue_events_url': 'https://api.github.com/repos/isVoid/cudf_benchmarks/issues/events{/number}',\n",
       "  'events_url': 'https://api.github.com/repos/isVoid/cudf_benchmarks/events',\n",
       "  'assignees_url': 'https://api.github.com/repos/isVoid/cudf_benchmarks/assignees{/user}',\n",
       "  'branches_url': 'https://api.github.com/repos/isVoid/cudf_benchmarks/branches{/branch}',\n",
       "  'tags_url': 'https://api.github.com/repos/isVoid/cudf_benchmarks/tags',\n",
       "  'blobs_url': 'https://api.github.com/repos/isVoid/cudf_benchmarks/git/blobs{/sha}',\n",
       "  'git_tags_url': 'https://api.github.com/repos/isVoid/cudf_benchmarks/git/tags{/sha}',\n",
       "  'git_refs_url': 'https://api.github.com/repos/isVoid/cudf_benchmarks/git/refs{/sha}',\n",
       "  'trees_url': 'https://api.github.com/repos/isVoid/cudf_benchmarks/git/trees{/sha}',\n",
       "  'statuses_url': 'https://api.github.com/repos/isVoid/cudf_benchmarks/statuses/{sha}',\n",
       "  'languages_url': 'https://api.github.com/repos/isVoid/cudf_benchmarks/languages',\n",
       "  'stargazers_url': 'https://api.github.com/repos/isVoid/cudf_benchmarks/stargazers',\n",
       "  'contributors_url': 'https://api.github.com/repos/isVoid/cudf_benchmarks/contributors',\n",
       "  'subscribers_url': 'https://api.github.com/repos/isVoid/cudf_benchmarks/subscribers',\n",
       "  'subscription_url': 'https://api.github.com/repos/isVoid/cudf_benchmarks/subscription',\n",
       "  'commits_url': 'https://api.github.com/repos/isVoid/cudf_benchmarks/commits{/sha}',\n",
       "  'git_commits_url': 'https://api.github.com/repos/isVoid/cudf_benchmarks/git/commits{/sha}',\n",
       "  'comments_url': 'https://api.github.com/repos/isVoid/cudf_benchmarks/comments{/number}',\n",
       "  'issue_comment_url': 'https://api.github.com/repos/isVoid/cudf_benchmarks/issues/comments{/number}',\n",
       "  'contents_url': 'https://api.github.com/repos/isVoid/cudf_benchmarks/contents/{+path}',\n",
       "  'compare_url': 'https://api.github.com/repos/isVoid/cudf_benchmarks/compare/{base}...{head}',\n",
       "  'merges_url': 'https://api.github.com/repos/isVoid/cudf_benchmarks/merges',\n",
       "  'archive_url': 'https://api.github.com/repos/isVoid/cudf_benchmarks/{archive_format}{/ref}',\n",
       "  'downloads_url': 'https://api.github.com/repos/isVoid/cudf_benchmarks/downloads',\n",
       "  'issues_url': 'https://api.github.com/repos/isVoid/cudf_benchmarks/issues{/number}',\n",
       "  'pulls_url': 'https://api.github.com/repos/isVoid/cudf_benchmarks/pulls{/number}',\n",
       "  'milestones_url': 'https://api.github.com/repos/isVoid/cudf_benchmarks/milestones{/number}',\n",
       "  'notifications_url': 'https://api.github.com/repos/isVoid/cudf_benchmarks/notifications{?since,all,participating}',\n",
       "  'labels_url': 'https://api.github.com/repos/isVoid/cudf_benchmarks/labels{/name}',\n",
       "  'releases_url': 'https://api.github.com/repos/isVoid/cudf_benchmarks/releases{/id}',\n",
       "  'deployments_url': 'https://api.github.com/repos/isVoid/cudf_benchmarks/deployments',\n",
       "  'created_at': '2021-10-15T00:00:06Z',\n",
       "  'updated_at': '2021-10-05T20:33:56Z',\n",
       "  'pushed_at': '2021-10-05T20:33:52Z',\n",
       "  'git_url': 'git://github.com/isVoid/cudf_benchmarks.git',\n",
       "  'ssh_url': 'git@github.com:isVoid/cudf_benchmarks.git',\n",
       "  'clone_url': 'https://github.com/isVoid/cudf_benchmarks.git',\n",
       "  'svn_url': 'https://github.com/isVoid/cudf_benchmarks',\n",
       "  'homepage': None,\n",
       "  'size': 10,\n",
       "  'stargazers_count': 0,\n",
       "  'watchers_count': 0,\n",
       "  'language': None,\n",
       "  'has_issues': False,\n",
       "  'has_projects': True,\n",
       "  'has_downloads': True,\n",
       "  'has_wiki': True,\n",
       "  'has_pages': False,\n",
       "  'forks_count': 0,\n",
       "  'mirror_url': None,\n",
       "  'archived': False,\n",
       "  'disabled': False,\n",
       "  'open_issues_count': 0,\n",
       "  'license': None,\n",
       "  'allow_forking': True,\n",
       "  'is_template': False,\n",
       "  'topics': [],\n",
       "  'visibility': 'public',\n",
       "  'forks': 0,\n",
       "  'open_issues': 0,\n",
       "  'watchers': 0,\n",
       "  'default_branch': 'master',\n",
       "  'public': True}}"
      ]
     },
     "execution_count": 92,
     "metadata": {},
     "output_type": "execute_result"
    }
   ],
   "source": [
    "df[df['type'] == 'ForkEvent']['payload'].iloc[0]"
   ]
  },
  {
   "cell_type": "code",
   "execution_count": null,
   "id": "09b64173",
   "metadata": {},
   "outputs": [],
   "source": [
    "lambda x: x['type'] == 'ForkEvent'"
   ]
  }
 ],
 "metadata": {
  "kernelspec": {
   "display_name": "Python 3",
   "language": "python",
   "name": "python3"
  },
  "language_info": {
   "codemirror_mode": {
    "name": "ipython",
    "version": 3
   },
   "file_extension": ".py",
   "mimetype": "text/x-python",
   "name": "python",
   "nbconvert_exporter": "python",
   "pygments_lexer": "ipython3",
   "version": "3.9.14"
  }
 },
 "nbformat": 4,
 "nbformat_minor": 5
}
