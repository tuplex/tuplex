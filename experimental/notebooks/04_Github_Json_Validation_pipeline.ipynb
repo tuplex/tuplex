{
 "cells": [
  {
   "cell_type": "code",
   "execution_count": 9,
   "id": "aa4b0bc8",
   "metadata": {},
   "outputs": [],
   "source": [
    "import json\n",
    "import time\n",
    "import logging\n",
    "import os"
   ]
  },
  {
   "cell_type": "code",
   "execution_count": 39,
   "id": "381fa090",
   "metadata": {},
   "outputs": [
    {
     "name": "stderr",
     "output_type": "stream",
     "text": [
      "INFO:root:Hello from the logging system!\n"
     ]
    }
   ],
   "source": [
    "import logging\n",
    "logger = logging.getLogger()\n",
    "logger.setLevel(logging.INFO)\n",
    "logging.info(\"Hello from the logging system!\")"
   ]
  },
  {
   "cell_type": "code",
   "execution_count": 15,
   "id": "51c06ea4",
   "metadata": {},
   "outputs": [],
   "source": [
    "#         auto repo_id_code = \"def extract_repo_id(row):\\n\"\n",
    "#                             \"\\tif 2012 <= row['year'] <= 2014:\\n\"\n",
    "#                             \"\\t\\treturn row['repository']['id']\\n\"\n",
    "#                             \"\\telse:\\n\"\n",
    "#                             \"\\t\\treturn row['repo']['id']\\n\";\n",
    "\n",
    "#         return ctx.json(pattern)\n",
    "#                   .withColumn(\"year\", UDF(\"lambda x: int(x['created_at'].split('-')[0])\"))\n",
    "#                   .withColumn(\"repo_id\", UDF(repo_id_code))\n",
    "#                   .filter(UDF(\"lambda x: x['type'] == 'ForkEvent'\"))\n",
    "#                   .selectColumns(std::vector<std::string>({\"type\", \"repo_id\", \"year\"}));"
   ]
  },
  {
   "cell_type": "code",
   "execution_count": null,
   "id": "7d60e03c",
   "metadata": {},
   "outputs": [],
   "source": []
  },
  {
   "cell_type": "code",
   "execution_count": 51,
   "id": "4347b6bc",
   "metadata": {},
   "outputs": [],
   "source": [
    "\n",
    "\n",
    "# pipeline executed per path (note row numbers with execeptions etc.)\n",
    "def github_pipeline(input_path):\n",
    "    \n",
    "    logging.info('opening {}'.format(os.path.basename(input_path)))\n",
    "    with open(input_path, 'r') as fp:\n",
    "        lines = fp.readlines()\n",
    "    logging.info('Parsing {} rows to dict objects...'.format(len(lines)))    \n",
    "    rows = [json.loads(line) for line in lines]\n",
    "    logging.info('Parsed {} rows.'.format(len(rows)))\n",
    "    \n",
    "    \n",
    "    def extract_repo_id(row):\n",
    "        if 2012 <= row['year'] <= 2014:\n",
    "            return row['repository']['id']\n",
    "        else:\n",
    "            return row['repo']['id']\n",
    "        \n",
    "    def with_column(rows, name, f):\n",
    "        def helper(row):\n",
    "            try:\n",
    "                row[name] = f(row)\n",
    "                return row\n",
    "            except Exception as e:\n",
    "                return e\n",
    "            \n",
    "        return [helper(row) for row in rows]\n",
    "        \n",
    "    def count_exceptions(rows):\n",
    "        e_rows = list(filter(lambda x: isinstance(x, Exception), rows))\n",
    "        if len(e_rows) != 0:\n",
    "            print(len(e_rows))\n",
    "        \n",
    "    # now process\n",
    "    tmp1 = with_column(rows, 'year', lambda x: int(x['created_at'].split('-')[0]))\n",
    "    logging.info('First UDF applied.')\n",
    "    tmp2 = with_column(tmp1, 'repo_id', extract_repo_id)\n",
    "    logging.info('Second UDF applied.')\n",
    "    count_exceptions(tmp2)\n",
    "    # how many exceptions and of what kind?\n",
    "    tmp3 = list(filter(lambda x: not isinstance(x, Exception) and x['type'] == 'ForkEvent', tmp2))\n",
    "    logging.info('Filtered rows down.')\n",
    "    # get result\n",
    "    tmp4 = list(map(lambda x: (x['type'], x['repo_id'], x['year']), tmp3))\n",
    "    res = tmp4\n",
    "    \n",
    "    return res"
   ]
  },
  {
   "cell_type": "code",
   "execution_count": 52,
   "id": "3086f4e1",
   "metadata": {},
   "outputs": [],
   "source": [
    "sample_path = '../../tuplex/test/resources/hyperspecialization/github_daily/2013-10-15.json.sample'"
   ]
  },
  {
   "cell_type": "code",
   "execution_count": 55,
   "id": "74b3f41f",
   "metadata": {},
   "outputs": [
    {
     "name": "stderr",
     "output_type": "stream",
     "text": [
      "INFO:root:opening 2013-10-15.json.sample\n",
      "INFO:root:Parsing 1200 rows to dict objects...\n",
      "INFO:root:Parsed 1200 rows.\n",
      "INFO:root:First UDF applied.\n",
      "INFO:root:Second UDF applied.\n",
      "INFO:root:Filtered rows down.\n"
     ]
    },
    {
     "name": "stdout",
     "output_type": "stream",
     "text": [
      "61\n",
      "Got as result for 2013-10-15.json.sample in total 55 rows\n"
     ]
    }
   ],
   "source": [
    "rows = github_pipeline(sample_path)\n",
    "print('Got as result for {} in total {} rows'.format(os.path.basename(sample_path), len(rows)))"
   ]
  },
  {
   "cell_type": "code",
   "execution_count": 56,
   "id": "06714b2a",
   "metadata": {},
   "outputs": [],
   "source": [
    "import glob"
   ]
  },
  {
   "cell_type": "code",
   "execution_count": 58,
   "id": "3ffe7539",
   "metadata": {},
   "outputs": [
    {
     "name": "stderr",
     "output_type": "stream",
     "text": [
      "INFO:root:opening 2014-10-15.json.sample\n",
      "INFO:root:Parsing 1200 rows to dict objects...\n",
      "INFO:root:Parsed 1200 rows.\n",
      "INFO:root:First UDF applied.\n",
      "INFO:root:Second UDF applied.\n",
      "INFO:root:Filtered rows down.\n",
      "INFO:root:opening 2020-10-15.json.sample\n",
      "INFO:root:Parsing 1200 rows to dict objects...\n",
      "INFO:root:Parsed 1200 rows.\n",
      "INFO:root:First UDF applied.\n",
      "INFO:root:Second UDF applied.\n",
      "INFO:root:Filtered rows down.\n",
      "INFO:root:opening 2011-10-15.json.sample\n"
     ]
    },
    {
     "name": "stdout",
     "output_type": "stream",
     "text": [
      "1\n",
      "Got as result for 2014-10-15.json.sample in total 62 rows\n",
      "Got as result for 2020-10-15.json.sample in total 24 rows\n"
     ]
    },
    {
     "name": "stderr",
     "output_type": "stream",
     "text": [
      "INFO:root:Parsing 1200 rows to dict objects...\n",
      "INFO:root:Parsed 1200 rows.\n",
      "INFO:root:First UDF applied.\n",
      "INFO:root:Second UDF applied.\n",
      "INFO:root:Filtered rows down.\n",
      "INFO:root:opening 2015-10-15.json.sample\n",
      "INFO:root:Parsing 1200 rows to dict objects...\n",
      "INFO:root:Parsed 1200 rows.\n",
      "INFO:root:First UDF applied.\n",
      "INFO:root:Second UDF applied.\n",
      "INFO:root:Filtered rows down.\n",
      "INFO:root:opening 2021-10-15.json.sample\n",
      "INFO:root:Parsing 1200 rows to dict objects...\n"
     ]
    },
    {
     "name": "stdout",
     "output_type": "stream",
     "text": [
      "45\n",
      "Got as result for 2011-10-15.json.sample in total 30 rows\n",
      "Got as result for 2015-10-15.json.sample in total 40 rows\n"
     ]
    },
    {
     "name": "stderr",
     "output_type": "stream",
     "text": [
      "INFO:root:Parsed 1200 rows.\n",
      "INFO:root:First UDF applied.\n",
      "INFO:root:Second UDF applied.\n",
      "INFO:root:Filtered rows down.\n",
      "INFO:root:opening 2016-10-15.json.sample\n",
      "INFO:root:Parsing 1200 rows to dict objects...\n",
      "INFO:root:Parsed 1200 rows.\n",
      "INFO:root:First UDF applied.\n",
      "INFO:root:Second UDF applied.\n",
      "INFO:root:Filtered rows down.\n",
      "INFO:root:opening 2013-10-15.json.sample\n",
      "INFO:root:Parsing 1200 rows to dict objects...\n"
     ]
    },
    {
     "name": "stdout",
     "output_type": "stream",
     "text": [
      "Got as result for 2021-10-15.json.sample in total 18 rows\n",
      "Got as result for 2016-10-15.json.sample in total 31 rows\n"
     ]
    },
    {
     "name": "stderr",
     "output_type": "stream",
     "text": [
      "INFO:root:Parsed 1200 rows.\n",
      "INFO:root:First UDF applied.\n",
      "INFO:root:Second UDF applied.\n",
      "INFO:root:Filtered rows down.\n",
      "INFO:root:opening 2017-10-15.json.sample\n",
      "INFO:root:Parsing 1200 rows to dict objects...\n",
      "INFO:root:Parsed 1200 rows.\n",
      "INFO:root:First UDF applied.\n",
      "INFO:root:Second UDF applied.\n",
      "INFO:root:Filtered rows down.\n",
      "INFO:root:opening 2012-10-15.json.sample\n",
      "INFO:root:Parsing 1200 rows to dict objects...\n"
     ]
    },
    {
     "name": "stdout",
     "output_type": "stream",
     "text": [
      "61\n",
      "Got as result for 2013-10-15.json.sample in total 55 rows\n",
      "Got as result for 2017-10-15.json.sample in total 15 rows\n"
     ]
    },
    {
     "name": "stderr",
     "output_type": "stream",
     "text": [
      "INFO:root:Parsed 1200 rows.\n",
      "INFO:root:First UDF applied.\n",
      "INFO:root:Second UDF applied.\n",
      "INFO:root:Filtered rows down.\n",
      "INFO:root:opening 2019-10-15.json.sample\n",
      "INFO:root:Parsing 1200 rows to dict objects...\n",
      "INFO:root:Parsed 1200 rows.\n",
      "INFO:root:First UDF applied.\n",
      "INFO:root:Second UDF applied.\n",
      "INFO:root:Filtered rows down.\n",
      "INFO:root:opening 2018-10-15.json.sample\n",
      "INFO:root:Parsing 1200 rows to dict objects...\n"
     ]
    },
    {
     "name": "stdout",
     "output_type": "stream",
     "text": [
      "57\n",
      "Got as result for 2012-10-15.json.sample in total 53 rows\n",
      "Got as result for 2019-10-15.json.sample in total 24 rows\n"
     ]
    },
    {
     "name": "stderr",
     "output_type": "stream",
     "text": [
      "INFO:root:Parsed 1200 rows.\n",
      "INFO:root:First UDF applied.\n",
      "INFO:root:Second UDF applied.\n",
      "INFO:root:Filtered rows down.\n"
     ]
    },
    {
     "name": "stdout",
     "output_type": "stream",
     "text": [
      "Got as result for 2018-10-15.json.sample in total 26 rows\n",
      "{'2014-10-15.json.sample': 62, '2020-10-15.json.sample': 24, '2011-10-15.json.sample': 30, '2015-10-15.json.sample': 40, '2021-10-15.json.sample': 18, '2016-10-15.json.sample': 31, '2013-10-15.json.sample': 55, '2017-10-15.json.sample': 15, '2012-10-15.json.sample': 53, '2019-10-15.json.sample': 24, '2018-10-15.json.sample': 26}\n"
     ]
    }
   ],
   "source": [
    "paths = glob.glob('../../tuplex/test/resources/hyperspecialization/github_daily/*.json.sample')\n",
    "\n",
    "res_dict = {}\n",
    "for path in paths:\n",
    "    rows = github_pipeline(path)\n",
    "    print('Got as result for {} in total {} rows'.format(os.path.basename(path), len(rows)))\n",
    "    res_dict[os.path.basename(path)] = len(rows)\n",
    "    \n",
    "print(res_dict)"
   ]
  },
  {
   "cell_type": "code",
   "execution_count": 59,
   "id": "f7206737",
   "metadata": {},
   "outputs": [],
   "source": [
    "import pandas as pd"
   ]
  },
  {
   "cell_type": "code",
   "execution_count": 65,
   "id": "23223524",
   "metadata": {},
   "outputs": [
    {
     "data": {
      "text/html": [
       "<div>\n",
       "<style scoped>\n",
       "    .dataframe tbody tr th:only-of-type {\n",
       "        vertical-align: middle;\n",
       "    }\n",
       "\n",
       "    .dataframe tbody tr th {\n",
       "        vertical-align: top;\n",
       "    }\n",
       "\n",
       "    .dataframe thead th {\n",
       "        text-align: right;\n",
       "    }\n",
       "</style>\n",
       "<table border=\"1\" class=\"dataframe\">\n",
       "  <thead>\n",
       "    <tr style=\"text-align: right;\">\n",
       "      <th></th>\n",
       "      <th>file</th>\n",
       "      <th>out_row_count</th>\n",
       "    </tr>\n",
       "  </thead>\n",
       "  <tbody>\n",
       "    <tr>\n",
       "      <th>2</th>\n",
       "      <td>2011-10-15.json.sample</td>\n",
       "      <td>30</td>\n",
       "    </tr>\n",
       "    <tr>\n",
       "      <th>8</th>\n",
       "      <td>2012-10-15.json.sample</td>\n",
       "      <td>53</td>\n",
       "    </tr>\n",
       "    <tr>\n",
       "      <th>6</th>\n",
       "      <td>2013-10-15.json.sample</td>\n",
       "      <td>55</td>\n",
       "    </tr>\n",
       "    <tr>\n",
       "      <th>0</th>\n",
       "      <td>2014-10-15.json.sample</td>\n",
       "      <td>62</td>\n",
       "    </tr>\n",
       "    <tr>\n",
       "      <th>3</th>\n",
       "      <td>2015-10-15.json.sample</td>\n",
       "      <td>40</td>\n",
       "    </tr>\n",
       "    <tr>\n",
       "      <th>5</th>\n",
       "      <td>2016-10-15.json.sample</td>\n",
       "      <td>31</td>\n",
       "    </tr>\n",
       "    <tr>\n",
       "      <th>7</th>\n",
       "      <td>2017-10-15.json.sample</td>\n",
       "      <td>15</td>\n",
       "    </tr>\n",
       "    <tr>\n",
       "      <th>10</th>\n",
       "      <td>2018-10-15.json.sample</td>\n",
       "      <td>26</td>\n",
       "    </tr>\n",
       "    <tr>\n",
       "      <th>9</th>\n",
       "      <td>2019-10-15.json.sample</td>\n",
       "      <td>24</td>\n",
       "    </tr>\n",
       "    <tr>\n",
       "      <th>1</th>\n",
       "      <td>2020-10-15.json.sample</td>\n",
       "      <td>24</td>\n",
       "    </tr>\n",
       "    <tr>\n",
       "      <th>4</th>\n",
       "      <td>2021-10-15.json.sample</td>\n",
       "      <td>18</td>\n",
       "    </tr>\n",
       "  </tbody>\n",
       "</table>\n",
       "</div>"
      ],
      "text/plain": [
       "                      file  out_row_count\n",
       "2   2011-10-15.json.sample             30\n",
       "8   2012-10-15.json.sample             53\n",
       "6   2013-10-15.json.sample             55\n",
       "0   2014-10-15.json.sample             62\n",
       "3   2015-10-15.json.sample             40\n",
       "5   2016-10-15.json.sample             31\n",
       "7   2017-10-15.json.sample             15\n",
       "10  2018-10-15.json.sample             26\n",
       "9   2019-10-15.json.sample             24\n",
       "1   2020-10-15.json.sample             24\n",
       "4   2021-10-15.json.sample             18"
      ]
     },
     "execution_count": 65,
     "metadata": {},
     "output_type": "execute_result"
    }
   ],
   "source": [
    "df = pd.DataFrame(list(res_dict.items()), columns=['file', 'out_row_count']).sort_values(by='file')\n",
    "df"
   ]
  },
  {
   "cell_type": "markdown",
   "id": "1818c9fa",
   "metadata": {},
   "source": [
    "  ```\n",
    "  # lspiegel@bbsn00:~/tuplex-public/tuplex/build$ wc -l test/hyper/*.csv\n",
    "  31 test/hyper/2011-10-15_github_forkevents.part0.csv\n",
    "   54 test/hyper/2012-10-15_github_forkevents.part0.csv\n",
    "   56 test/hyper/2013-10-15_github_forkevents.part0.csv\n",
    "   63 test/hyper/2014-10-15_github_forkevents.part0.csv\n",
    "   41 test/hyper/2015-10-15_github_forkevents.part0.csv\n",
    "   32 test/hyper/2016-10-15_github_forkevents.part0.csv\n",
    "   16 test/hyper/2017-10-15_github_forkevents.part0.csv\n",
    "   27 test/hyper/2018-10-15_github_forkevents.part0.csv\n",
    "   25 test/hyper/2019-10-15_github_forkevents.part0.csv\n",
    "   25 test/hyper/2020-10-15_github_forkevents.part0.csv\n",
    "   19 test/hyper/2021-10-15_github_forkevents.part0.csv\n",
    "  379 test/hyper/github_forkevents.part0.csv\n",
    "  768 total\n",
    "```"
   ]
  },
  {
   "cell_type": "markdown",
   "id": "5f6d5398",
   "metadata": {},
   "source": [
    "```\n",
    "\n",
    "# let's do proper validation for everything:\n",
    "# ->    31 test/hyper/2011-10-15_github_forkevents.part0.csv\n",
    "   54 test/hyper/2012-10-15_github_forkevents.part0.csv\n",
    "   56 test/hyper/2013-10-15_github_forkevents.part0.csv\n",
    "   63 test/hyper/2014-10-15_github_forkevents.part0.csv\n",
    "   41 test/hyper/2015-10-15_github_forkevents.part0.csv\n",
    "   32 test/hyper/2016-10-15_github_forkevents.part0.csv\n",
    "   16 test/hyper/2017-10-15_github_forkevents.part0.csv\n",
    "   27 test/hyper/2018-10-15_github_forkevents.part0.csv\n",
    "   25 test/hyper/2019-10-15_github_forkevents.part0.csv\n",
    "   25 test/hyper/2020-10-15_github_forkevents.part0.csv\n",
    "   19 test/hyper/2021-10-15_github_forkevents.part0.csv\n",
    "   84 test/hyper/github_forkevents.part0.csv\n",
    "   56 test/hyper/github_forkevents.part1.csv\n",
    "   63 test/hyper/github_forkevents.part2.csv\n",
    "   72 test/hyper/github_forkevents.part3.csv\n",
    "   66 test/hyper/github_forkevents.part4.csv\n",
    "   43 test/hyper/github_forkevents.part5.csv\n",
    "  773 total\n",
    "  \n",
    "  ```"
   ]
  },
  {
   "cell_type": "code",
   "execution_count": 66,
   "id": "a518fdd9",
   "metadata": {},
   "outputs": [
    {
     "data": {
      "text/plain": [
       "378"
      ]
     },
     "execution_count": 66,
     "metadata": {},
     "output_type": "execute_result"
    }
   ],
   "source": [
    "df['out_row_count'].sum()"
   ]
  },
  {
   "cell_type": "code",
   "execution_count": null,
   "id": "3dd7a8d0",
   "metadata": {},
   "outputs": [],
   "source": []
  }
 ],
 "metadata": {
  "kernelspec": {
   "display_name": "Python 3.10",
   "language": "python",
   "name": "python3"
  },
  "language_info": {
   "codemirror_mode": {
    "name": "ipython",
    "version": 3
   },
   "file_extension": ".py",
   "mimetype": "text/x-python",
   "name": "python",
   "nbconvert_exporter": "python",
   "pygments_lexer": "ipython3",
   "version": "3.10.6"
  }
 },
 "nbformat": 4,
 "nbformat_minor": 5
}
