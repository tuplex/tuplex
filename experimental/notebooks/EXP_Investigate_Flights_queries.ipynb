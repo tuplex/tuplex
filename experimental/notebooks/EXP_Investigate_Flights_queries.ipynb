{
 "cells": [
  {
   "cell_type": "code",
   "execution_count": 12,
   "id": "00bbb58a",
   "metadata": {},
   "outputs": [],
   "source": [
    "import json\n",
    "import glob\n",
    "import os\n",
    "import pandas as pd\n",
    "import numpy as np"
   ]
  },
  {
   "cell_type": "markdown",
   "id": "c966bdf5",
   "metadata": {},
   "source": [
    "## 1. Settings to check:\n",
    "\n",
    "-> activate proj. pushdown, filter pushdown\n",
    "\n",
    "- hyper / no-cf  invoked via `python3.9 runtuplex.py --no-cf`\n",
    "- nohyper / no-cf invoked via `python3.9 runtuplex.py --no-cf --no-hyper`\n",
    "- hyper / cf invoked via `python3.9 runtuplex.py`\n",
    "- nohyper / cf `python3.9 runtuplex.py --no-hyper`\n",
    "\n",
    "All of them should have the same number of output rows, input rows."
   ]
  },
  {
   "cell_type": "code",
   "execution_count": 13,
   "id": "14f2d219",
   "metadata": {},
   "outputs": [
    {
     "name": "stdout",
     "output_type": "stream",
     "text": [
      "job_0000.json job_0001.json job_0002.json job_0003.json\r\n"
     ]
    }
   ],
   "source": [
    "!ls flights_debug/"
   ]
  },
  {
   "cell_type": "code",
   "execution_count": 31,
   "id": "40daa12c",
   "metadata": {},
   "outputs": [],
   "source": [
    "path_map = {\n",
    "    'flights_debug/job_0000.json':'hyper-nocf',\n",
    "           'flights_debug/job_0001.json':'nohyper-nocf',\n",
    "          'flights_debug/job_0002.json':'hyper-cf',\n",
    "           'flights_debug/job_0003.json':'nohyper-cf'}"
   ]
  },
  {
   "cell_type": "code",
   "execution_count": 32,
   "id": "f6fd6dea",
   "metadata": {},
   "outputs": [],
   "source": [
    "path = list(path_map.keys())[0]"
   ]
  },
  {
   "cell_type": "code",
   "execution_count": 33,
   "id": "c215e887",
   "metadata": {},
   "outputs": [
    {
     "name": "stdout",
     "output_type": "stream",
     "text": [
      "hyper-nocf\n",
      "{'normal': 202449065, 'general': 238590, 'fallback': 0, 'unresolved': 0}\n",
      "{'normal': 197327045, 'unresolved': 0}\n",
      "total: 202687655\n",
      "---\n",
      "nohyper-nocf\n",
      "{'normal': 202449065, 'general': 238590, 'fallback': 0, 'unresolved': 0}\n",
      "{'normal': 175791035, 'unresolved': 0}\n",
      "total: 202687655\n",
      "---\n",
      "hyper-cf\n",
      "{'normal': 144522313, 'general': 57974043, 'fallback': 0, 'unresolved': 191299}\n",
      "{'normal': 198926126, 'unresolved': 191299}\n",
      "total: 202687655\n",
      "---\n",
      "nohyper-cf\n",
      "{'normal': 202449065, 'general': 238590, 'fallback': 0, 'unresolved': 0}\n",
      "{'normal': 175791035, 'unresolved': 0}\n",
      "total: 202687655\n",
      "---\n"
     ]
    }
   ],
   "source": [
    "for path in path_map.keys():\n",
    "    with open(path, 'r') as fp:\n",
    "        print(path_map[path])\n",
    "        data = json.load(fp)\n",
    "        print(data['input_paths_taken'])\n",
    "        print(data['output_paths_taken'])\n",
    "        x = np.array(list(data['input_paths_taken'].values()))\n",
    "        print('total: {}'.format(x.sum()))\n",
    "        print('---')"
   ]
  },
  {
   "cell_type": "code",
   "execution_count": 28,
   "id": "608131ee",
   "metadata": {},
   "outputs": [
    {
     "data": {
      "text/plain": [
       "{'normal': 175791035, 'unresolved': 0}"
      ]
     },
     "execution_count": 28,
     "metadata": {},
     "output_type": "execute_result"
    }
   ],
   "source": [
    "data['output_paths_taken']"
   ]
  },
  {
   "cell_type": "code",
   "execution_count": 22,
   "id": "aca6719b",
   "metadata": {},
   "outputs": [],
   "source": [
    "test_path = '/Users/leonhards/projects/tuplex-public/tuplex/test/resources/hyperspecialization/flights/flights_on_time_performance_2021_11.csv.sample'"
   ]
  },
  {
   "cell_type": "code",
   "execution_count": 24,
   "id": "f0dbff8b",
   "metadata": {},
   "outputs": [],
   "source": [
    "df = pd.read_csv(test_path)"
   ]
  },
  {
   "cell_type": "code",
   "execution_count": 26,
   "id": "016fd9a2",
   "metadata": {},
   "outputs": [
    {
     "data": {
      "text/plain": [
       "0       29.0\n",
       "1       22.0\n",
       "2       31.0\n",
       "3       23.0\n",
       "4       20.0\n",
       "        ... \n",
       "4994     NaN\n",
       "4995     NaN\n",
       "4996     NaN\n",
       "4997     NaN\n",
       "4998     NaN\n",
       "Name: NAS_DELAY, Length: 4999, dtype: float64"
      ]
     },
     "execution_count": 26,
     "metadata": {},
     "output_type": "execute_result"
    }
   ],
   "source": [
    "df['NAS_DELAY']"
   ]
  },
  {
   "cell_type": "markdown",
   "id": "1207e4f3",
   "metadata": {},
   "source": [
    "Next test: write pipeline to (only) extract year and check in all modes.\n",
    "    "
   ]
  },
  {
   "cell_type": "markdown",
   "id": "eba16fd6",
   "metadata": {},
   "source": [
    "=> #input rows should match #output rows. If not, debug and fix!"
   ]
  },
  {
   "cell_type": "markdown",
   "id": "0caded1b",
   "metadata": {},
   "source": [
    "- number of input rows is: 202687655\n",
    "- number of output rows should be the same!: 202687655"
   ]
  },
  {
   "cell_type": "code",
   "execution_count": null,
   "id": "0ca65921",
   "metadata": {},
   "outputs": [],
   "source": [
    "[2022-12-04 13:54:36.257] [aws-lambda] [info] LAMBDA Stage output: 202687655 rows, 0 exceptions\n",
    "[2022-12-04 13:54:36.257] [aws-lambda] [info] LAMBDA paths input rows took: normal: 202687655 general: 0 interpreter: 0"
   ]
  },
  {
   "cell_type": "code",
   "execution_count": null,
   "id": "39bd4e5a",
   "metadata": {},
   "outputs": [],
   "source": []
  },
  {
   "cell_type": "code",
   "execution_count": 36,
   "id": "b7ef53e3",
   "metadata": {},
   "outputs": [],
   "source": [
    "# for nas delay, hyper fails with: 201224513 vs. 202687655 -> incorrect number of rows."
   ]
  },
  {
   "cell_type": "code",
   "execution_count": 37,
   "id": "aa5d47b0",
   "metadata": {},
   "outputs": [],
   "source": [
    "# nohyper as well: 180051706"
   ]
  },
  {
   "cell_type": "code",
   "execution_count": 38,
   "id": "e0747c49",
   "metadata": {},
   "outputs": [],
   "source": [
    "#nohyper/nocf as well: 180051706"
   ]
  },
  {
   "cell_type": "code",
   "execution_count": 39,
   "id": "2304af81",
   "metadata": {},
   "outputs": [
    {
     "ename": "SyntaxError",
     "evalue": "invalid syntax (2346267872.py, line 1)",
     "output_type": "error",
     "traceback": [
      "\u001b[0;36m  Cell \u001b[0;32mIn [39], line 1\u001b[0;36m\u001b[0m\n\u001b[0;31m    prob. the null check is off. Need to investigate, fix this.\u001b[0m\n\u001b[0m              ^\u001b[0m\n\u001b[0;31mSyntaxError\u001b[0m\u001b[0;31m:\u001b[0m invalid syntax\n"
     ]
    }
   ],
   "source": [
    "prob. the null check is off. Need to investigate, fix this."
   ]
  },
  {
   "cell_type": "markdown",
   "id": "6e466df8",
   "metadata": {},
   "source": [
    "## --- a couple bugs fixed --- yet excepitons in hyper mode with cf."
   ]
  },
  {
   "cell_type": "code",
   "execution_count": 40,
   "id": "3a5bcd71",
   "metadata": {},
   "outputs": [],
   "source": [
    "path = 'flights_debug/job_0044.json'"
   ]
  },
  {
   "cell_type": "code",
   "execution_count": 41,
   "id": "6544e9ea",
   "metadata": {},
   "outputs": [
    {
     "name": "stdout",
     "output_type": "stream",
     "text": [
      "{'normal': 140952083, 'general': 61544273, 'fallback': 0, 'unresolved': 191299}\n",
      "{'normal': 202496356, 'unresolved': 191299}\n",
      "total: 202687655\n",
      "---\n"
     ]
    }
   ],
   "source": [
    "    with open(path, 'r') as fp:\n",
    "        data = json.load(fp)\n",
    "        print(data['input_paths_taken'])\n",
    "        print(data['output_paths_taken'])\n",
    "        x = np.array(list(data['input_paths_taken'].values()))\n",
    "        print('total: {}'.format(x.sum()))\n",
    "        print('---')"
   ]
  },
  {
   "cell_type": "code",
   "execution_count": 42,
   "id": "7ec5599d",
   "metadata": {},
   "outputs": [
    {
     "data": {
      "text/plain": [
       "dict_keys(['stageStartTimestamp', 'stageEndTimestamp', 'hyper_mode', 'cost', 'input_paths_taken', 'output_paths_taken', 'tasks', 'requests'])"
      ]
     },
     "execution_count": 42,
     "metadata": {},
     "output_type": "execute_result"
    }
   ],
   "source": [
    "data.keys()"
   ]
  },
  {
   "cell_type": "code",
   "execution_count": 46,
   "id": "e53fcf16",
   "metadata": {},
   "outputs": [
    {
     "data": {
      "text/plain": [
       "{'requestId': '6beb83d5-8519-4e95-88ef-4c45143d39c3',\n",
       " 'containerId': '8f68e195-8cc5-474c-855e-41b9f8854357',\n",
       " 'durationInMs': 7279.16,\n",
       " 'billedDurationInMs': 7280,\n",
       " 'memorySizeInMb': 10000,\n",
       " 'maxMemoryUsedInMb': 491,\n",
       " 'returnCode': 0,\n",
       " 'errorMessage': '',\n",
       " 'input_paths_taken': {'normal': 8390,\n",
       "  'general': 418457,\n",
       "  'fallback': 0,\n",
       "  'unresolved': 244},\n",
       " 'output_paths_taken': {'normal': 426847, 'unresolved': 244},\n",
       " 't_hyper': 0.609789,\n",
       " 't_compile': 0.0814773,\n",
       " 't_fast': 5.17275,\n",
       " 't_slow': 0.949678,\n",
       " 'tsRequestStart': 1670191260099440813,\n",
       " 'tsRequestEnd': 1670191267571687332}"
      ]
     },
     "execution_count": 46,
     "metadata": {},
     "output_type": "execute_result"
    }
   ],
   "source": [
    "list(filter(lambda x: x['input_paths_taken']['unresolved'] != 0, data['requests']))[0]"
   ]
  },
  {
   "cell_type": "code",
   "execution_count": 50,
   "id": "483fec02",
   "metadata": {},
   "outputs": [
    {
     "data": {
      "text/plain": [
       "[{'container': {'reused': True,\n",
       "   'requestId': '6beb83d5-8519-4e95-88ef-4c45143d39c3',\n",
       "   'uuid': '8f68e195-8cc5-474c-855e-41b9f8854357',\n",
       "   'msRemaining': 592725,\n",
       "   'requestsServed': 31,\n",
       "   'startTimestamp': 1670188942828895966,\n",
       "   'deadlineTimestamp': 1670191860279000000},\n",
       "  'invoked_containers': [],\n",
       "  'log': \"[2022-12-04 22:00:33.285] [Lambda worker] [info] performing global initialization (Worker App)\\n[2022-12-04 22:00:33.290] [Lambda worker] [info] Invoking WorkerApp fallback\\n[2022-12-04 22:00:33.292] [Lambda worker] [info] Found 1 input URIs to process\\n[2022-12-04 22:00:33.292] [Lambda worker] [info] *** hyperspecialization active ***\\n[2022-12-04 22:00:33.292] [Lambda worker] [info] -- specializing to s3://tuplex-public/data/flights_all/flights_on_time_performance_1995_11.csv:0-189889530\\n[2022-12-04 22:00:33.292] [hyper specializer] [info] specializing code to file s3://tuplex-public/data/flights_all/flights_on_time_performance_1995_11.csv:0-189889530\\n[2022-12-04 22:00:33.293] [hyper specializer] [info] Decompressed Code context from 9.38 KB to 88.28 KB\\n[2022-12-04 22:00:33.328] [hyper specializer] [info] Deserialization of Code context took 0.034882s\\n[2022-12-04 22:00:33.328] [hyper specializer] [info] Total Stage Decode took 0.035631s\\n[2022-12-04 22:00:33.328] [hyper specializer] [info] number of input columns before hyperspecialization: 18\\n[2022-12-04 22:00:33.412] [global] [info] sampled s3://tuplex-public/data/flights_all/flights_on_time_performance_1995_11.csv:0-189889530 on 256.00 KB\\n[2022-12-04 22:00:33.412] [fileinputoperator] [info] Sample fetch done.\\n[2022-12-04 22:00:33.412] [fileinputoperator] [info] Filling sample cache for csv operator took 0.083971s (1 entry)\\n[2022-12-04 22:00:33.442] [global] [info] sampled s3://tuplex-public/data/flights_all/flights_on_time_performance_1995_11.csv:0-189889530 on 256.00 KB\\n[2022-12-04 22:00:33.691] [global] [info] sampled s3://tuplex-public/data/flights_all/flights_on_time_performance_1995_11.csv:0-189889530 on 256.00 KB\\n[2022-12-04 22:00:33.734] [fileinputoperator] [info] Extracting row sample took 0.321894s\\n[2022-12-04 22:00:33.735] [hyper specializer] [info] sampling (setInputFiles) took 0.406942s (limit=10000)\\n[2022-12-04 22:00:33.735] [global] [warning] requested 2000 rows for sampling, but only 586 stored. Consider decreasing sample size. Returning all available rows.\\n[2022-12-04 22:00:33.773] [specializing stage optimizer] [info] Row type before retype: (i64,i64,i64,str,i64,i64,i64,i64,f64,i64,f64,f64,f64,null,null,null,null,null)\\n[2022-12-04 22:00:33.773] [specializing stage optimizer] [info] Row type after retype: (i64,i64,i64,str,i64,i64,i64,i64,f64,i64,f64,f64,f64,null,null,null,null,null)\\n[2022-12-04 22:00:33.797] [global] [error] output schema for map operator is not well-defined, propagation error?\\n[2022-12-04 22:00:33.799] [specializing stage optimizer] [info] performing Constant-Folding specialization\\n[2022-12-04 22:00:33.799] [specializing stage optimizer] [info] Performing constant folding optimization\\n[2022-12-04 22:00:33.799] [specializing stage optimizer] [info] accessed columns before folding: 0 1 2 3 4 5 6 7 8 9 10 11 12 13 14 15 16 17\\n[2022-12-04 22:00:33.878] [hyper specializer] [info] specialized to input:  (i64,str,i64,i64,i64,f64,i64,f64,f64,f64)\\n[2022-12-04 22:00:33.878] [hyper specializer] [info] specialized to output: (str)\\n[2022-12-04 22:00:33.878] [hyper specializer] [info] specialized code reads: 10 columns\\n[2022-12-04 22:00:33.878] [hyper specializer] [info] column 3 'DAY_OF_MONTH': i64\\ncolumn 6 'OP_UNIQUE_CARRIER': str\\ncolumn 10 'OP_CARRIER_FL_NUM': i64\\ncolumn 11 'ORIGIN_AIRPORT_ID': i64\\ncolumn 29 'CRS_DEP_TIME': i64\\ncolumn 31 'DEP_DELAY': f64\\ncolumn 40 'CRS_ARR_TIME': i64\\ncolumn 42 'ARR_DELAY': f64\\ncolumn 50 'CRS_ELAPSED_TIME': f64\\ncolumn 54 'DISTANCE': f64\\n[2022-12-04 22:00:33.878] [codegen] [info] module's data layout is:\\n[2022-12-04 22:00:33.878] [codegen] [info] generating pipeline for (i64,str,i64,i64,i64,f64,i64,f64,f64,f64) -> (str) (2 operators pipelined)\\n[2022-12-04 22:00:33.879] [codegen] [info] generating function fill_in_delays for ((i64,str,i64,i64,i64,f64,i64,f64,f64,f64)) -> (_Constant[i64,value=1995],_Constant[i64,value=11],i64,str,i64,i64,_Constant[i64,value=11618],f64,f64,Option[f64],Option[f64],Option[f64],Option[f64],Option[f64],Option[f64])\\n[2022-12-04 22:00:33.883] [codegen] [warning] hack, need to fix stuff here...\\n[2022-12-04 22:00:33.883] [codegen] [info] emitting constant check == 1995 for column 0\\n[2022-12-04 22:00:33.883] [codegen] [info] emitting constant check == 11 for column 2\\n[2022-12-04 22:00:33.883] [codegen] [info] emitting constant check == 11618 for column 20\\n[2022-12-04 22:00:33.883] [codegen] [warning] this requires slowpath/interpreter path to exist\\n[2022-12-04 22:00:33.885] [hyper specializer] [info] number of input columns after hyperspecialization: 10\\n[2022-12-04 22:00:33.885] [hyper specializer] [info] generated code in 0.007476s\\n[2022-12-04 22:00:33.902] [Lambda worker] [info] specialized normal-case type (i64,str,i64,i64,i64,f64,i64,f64,f64,f64) is different than given normal-case type (Option[i64],Option[i64],Option[i64],Option[str],Option[i64],Option[i64],Option[i64],Option[i64],Option[f64],Option[i64],Option[f64],Option[f64],Option[f64],Option[str],Option[str],Option[str],Option[str],Option[str]).\\n[2022-12-04 22:00:33.902] [Lambda worker] [info] -- hyperspecialization took 0.609779s\\n[2022-12-04 22:00:33.904] [Lambda worker] [info] parsed llvm module from bitcode, <module>\\n[2022-12-04 22:00:33.945] [global] [info] TransformStage - Optimization via LLVM passes took 0.039571 ms\\n[2022-12-04 22:00:33.945] [global] [info] syms registered (or skipped), compile now\\n[2022-12-04 22:00:33.984] [Lambda worker] [info] calling initStageFunctor with 0 args\\n[2022-12-04 22:00:39.157] [Lambda worker] [info] processed file 1/1\\n[2022-12-04 22:00:39.157] [Lambda worker] [info] fast path took: 5.172732s\\n[2022-12-04 22:00:39.157] [Lambda worker] [info] Input rows processed: normal: 8390 unresolved: 418701\\n[2022-12-04 22:00:39.157] [Lambda worker] [info] Normal rows before resolve: 8390, except rows before resolve: 418701\\n[2022-12-04 22:00:39.157] [Lambda worker] [info] Starting exception resolution/slow path execution\\n[2022-12-04 22:00:39.157] [Lambda worker] [info] has interpreter path: yes has compiled fallback path: yes\\n[2022-12-04 22:00:39.222] [Lambda worker] [info] compiling slow code path.\\n[2022-12-04 22:00:39.811] [Lambda worker] [info] Compilation of slow path took 0.588636s\\n[2022-12-04 22:00:39.813] [Lambda worker] [info] first unresolved row ec code result is: ec code: 129\\n[2022-12-04 22:00:40.102] [Lambda worker] [info] Resolved buffer, compiled: 418457 interpreted: 0 unresolved: 244\\n[2022-12-04 22:00:40.106] [Lambda worker] [info] Exception resolution/slow path done. Took 0.949634s\\n[2022-12-04 22:00:40.106] [Lambda worker] [info] Data processed in 6.12254s 25.73 MB (426847 normal rows) 56.58 KB (244 exception rows)  64.02 KB (0 hash rows)\\n[2022-12-04 22:00:40.106] [Lambda worker] [info] Writing data to s3://tuplex-leonhard/experiments/flights_hyper/hyper/part97.csv.csv\\n[2022-12-04 22:00:40.106] [Lambda worker] [info] file output initiated...\\n[2022-12-04 22:00:40.106] [Lambda worker] [info] Writing output from 1 part (25.73 MB, 426847 rows)\\n[2022-12-04 22:00:40.106] [Lambda worker] [info] Merging output parts together into s3://tuplex-leonhard/experiments/flights_hyper/hyper/part97.csv.csv\\n[2022-12-04 22:00:40.122] [s3fs] [info] Invoking lazyUpload to uri s3://tuplex-leonhard/experiments/flights_hyper/hyper/part97.csv.csv\\n[2022-12-04 22:00:40.122] [s3fs] [info] Issuing simple write request\\n[2022-12-04 22:00:40.552] [Lambda worker] [info] file output done.\\n[2022-12-04 22:00:40.553] [Lambda worker] [info] Data fully materialized\\n[2022-12-04 22:00:40.553] [Lambda worker] [info] Took 6.569463s in total\\n[2022-12-04 22:00:40.553] [Lambda worker] [info] Paths rows took: normal: 8390 general: 418457 interpreter: 0 unresolved: 244\\n\",\n",
       "  'invoked_requests': [],\n",
       "  'input_uris': ['s3://tuplex-public/data/flights_all/flights_on_time_performance_1995_11.csv:0-189889530']}]"
      ]
     },
     "execution_count": 50,
     "metadata": {},
     "output_type": "execute_result"
    }
   ],
   "source": [
    "list(filter(lambda x: x['container']['requestId'] == '6beb83d5-8519-4e95-88ef-4c45143d39c3', data['tasks']))"
   ]
  },
  {
   "cell_type": "code",
   "execution_count": 53,
   "id": "6c044cfb",
   "metadata": {},
   "outputs": [
    {
     "name": "stdout",
     "output_type": "stream",
     "text": [
      "[2022-12-04 22:00:33.169] [Lambda worker] [info] performing global initialization (Worker App)\n",
      "[2022-12-04 22:00:33.173] [Lambda worker] [info] Invoking WorkerApp fallback\n",
      "[2022-12-04 22:00:33.175] [Lambda worker] [info] Found 1 input URIs to process\n",
      "[2022-12-04 22:00:33.175] [Lambda worker] [info] *** hyperspecialization active ***\n",
      "[2022-12-04 22:00:33.175] [Lambda worker] [info] -- specializing to s3://tuplex-public/data/flights_all/flights_on_time_performance_1994_08.csv:0-187864859\n",
      "[2022-12-04 22:00:33.175] [hyper specializer] [info] specializing code to file s3://tuplex-public/data/flights_all/flights_on_time_performance_1994_08.csv:0-187864859\n",
      "[2022-12-04 22:00:33.176] [hyper specializer] [info] Decompressed Code context from 9.38 KB to 88.28 KB\n",
      "[2022-12-04 22:00:33.210] [hyper specializer] [info] Deserialization of Code context took 0.033519s\n",
      "[2022-12-04 22:00:33.210] [hyper specializer] [info] Total Stage Decode took 0.034337s\n",
      "[2022-12-04 22:00:33.210] [hyper specializer] [info] number of input columns before hyperspecialization: 18\n",
      "[2022-12-04 22:00:33.321] [global] [info] sampled s3://tuplex-public/data/flights_all/flights_on_time_performance_1994_08.csv:0-187864859 on 256.00 KB\n",
      "[2022-12-04 22:00:33.322] [fileinputoperator] [info] Sample fetch done.\n",
      "[2022-12-04 22:00:33.322] [fileinputoperator] [info] Filling sample cache for csv operator took 0.111854s (1 entry)\n",
      "[2022-12-04 22:00:33.343] [global] [info] sampled s3://tuplex-public/data/flights_all/flights_on_time_performance_1994_08.csv:0-187864859 on 256.00 KB\n",
      "[2022-12-04 22:00:33.584] [global] [info] sampled s3://tuplex-public/data/flights_all/flights_on_time_performance_1994_08.csv:0-187864859 on 256.00 KB\n",
      "[2022-12-04 22:00:33.921] [fileinputoperator] [info] Extracting row sample took 0.599930s\n",
      "[2022-12-04 22:00:33.922] [hyper specializer] [info] sampling (setInputFiles) took 0.712816s (limit=10000)\n",
      "[2022-12-04 22:00:33.923] [global] [warning] requested 2000 rows for sampling, but only 1255 stored. Consider decreasing sample size. Returning all available rows.\n",
      "[2022-12-04 22:00:33.996] [specializing stage optimizer] [info] Row type before retype: (i64,i64,i64,str,i64,i64,i64,i64,f64,i64,f64,f64,f64,null,null,null,null,null)\n",
      "[2022-12-04 22:00:33.999] [specializing stage optimizer] [info] Row type after retype: (i64,i64,i64,str,i64,i64,i64,i64,f64,i64,f64,f64,f64,null,null,null,null,null)\n",
      "[2022-12-04 22:00:34.051] [global] [error] output schema for map operator is not well-defined, propagation error?\n",
      "[2022-12-04 22:00:34.052] [specializing stage optimizer] [info] performing Constant-Folding specialization\n",
      "[2022-12-04 22:00:34.052] [specializing stage optimizer] [info] Performing constant folding optimization\n",
      "[2022-12-04 22:00:34.052] [specializing stage optimizer] [info] accessed columns before folding: 0 1 2 3 4 5 6 7 8 9 10 11 12 13 14 15 16 17\n",
      "[2022-12-04 22:00:34.201] [hyper specializer] [info] specialized to input:  (i64,_Constant[str,value='TW'],i64,i64,i64,i64,f64,i64,f64,f64,f64)\n",
      "[2022-12-04 22:00:34.201] [hyper specializer] [info] specialized to output: (str)\n",
      "[2022-12-04 22:00:34.201] [hyper specializer] [info] specialized code reads: 11 columns\n",
      "[2022-12-04 22:00:34.201] [hyper specializer] [info] column 3 'DAY_OF_MONTH': i64\n",
      "column 6 'OP_UNIQUE_CARRIER': _Constant[str,value='TW']\n",
      "column 10 'OP_CARRIER_FL_NUM': i64\n",
      "column 11 'ORIGIN_AIRPORT_ID': i64\n",
      "column 20 'DEST_AIRPORT_ID': i64\n",
      "column 29 'CRS_DEP_TIME': i64\n",
      "column 31 'DEP_DELAY': f64\n",
      "column 40 'CRS_ARR_TIME': i64\n",
      "column 42 'ARR_DELAY': f64\n",
      "column 50 'CRS_ELAPSED_TIME': f64\n",
      "column 54 'DISTANCE': f64\n",
      "[2022-12-04 22:00:34.201] [codegen] [info] module's data layout is:\n",
      "[2022-12-04 22:00:34.201] [codegen] [info] generating pipeline for (i64,_Constant[str,value='TW'],i64,i64,i64,i64,f64,i64,f64,f64,f64) -> (str) (2 operators pipelined)\n",
      "[2022-12-04 22:00:34.202] [codegen] [info] generating function fill_in_delays for ((i64,_Constant[str,value='TW'],i64,i64,i64,i64,f64,i64,f64,f64,f64)) -> (_Constant[i64,value=1994],_Constant[i64,value=8],i64,_Constant[str,value='TW'],i64,i64,i64,f64,f64,Option[f64],Option[f64],Option[f64],Option[f64],Option[f64],Option[f64])\n",
      "[2022-12-04 22:00:34.206] [codegen] [warning] hack, need to fix stuff here...\n",
      "[2022-12-04 22:00:34.206] [codegen] [info] emitting constant check == 1994 for column 0\n",
      "[2022-12-04 22:00:34.206] [codegen] [info] emitting constant check == 8 for column 2\n",
      "[2022-12-04 22:00:34.206] [codegen] [info] emitting constant check == 'TW' for column 6\n",
      "[2022-12-04 22:00:34.206] [codegen] [warning] this requires slowpath/interpreter path to exist\n",
      "[2022-12-04 22:00:34.208] [hyper specializer] [info] number of input columns after hyperspecialization: 11\n",
      "[2022-12-04 22:00:34.208] [hyper specializer] [info] generated code in 0.007272s\n",
      "[2022-12-04 22:00:34.241] [Lambda worker] [info] specialized normal-case type (i64,_Constant[str,value='TW'],i64,i64,i64,i64,f64,i64,f64,f64,f64) is different than given normal-case type (Option[i64],Option[i64],Option[i64],Option[str],Option[i64],Option[i64],Option[i64],Option[i64],Option[f64],Option[i64],Option[f64],Option[f64],Option[f64],Option[str],Option[str],Option[str],Option[str],Option[str]).\n",
      "[2022-12-04 22:00:34.241] [Lambda worker] [info] -- hyperspecialization took 1.065397s\n",
      "[2022-12-04 22:00:34.242] [Lambda worker] [info] parsed llvm module from bitcode, <module>\n",
      "[2022-12-04 22:00:34.279] [global] [info] TransformStage - Optimization via LLVM passes took 0.036421 ms\n",
      "[2022-12-04 22:00:34.279] [global] [info] syms registered (or skipped), compile now\n",
      "[2022-12-04 22:00:34.316] [Lambda worker] [info] calling initStageFunctor with 0 args\n",
      "[2022-12-04 22:00:39.520] [Lambda worker] [info] processed file 1/1\n",
      "[2022-12-04 22:00:39.520] [Lambda worker] [info] fast path took: 5.204456s\n",
      "[2022-12-04 22:00:39.520] [Lambda worker] [info] Input rows processed: normal: 22296 unresolved: 428790\n",
      "[2022-12-04 22:00:39.520] [Lambda worker] [info] Normal rows before resolve: 22296, except rows before resolve: 428790\n",
      "[2022-12-04 22:00:39.520] [Lambda worker] [info] Starting exception resolution/slow path execution\n",
      "[2022-12-04 22:00:39.520] [Lambda worker] [info] has interpreter path: yes has compiled fallback path: yes\n",
      "[2022-12-04 22:00:39.587] [Lambda worker] [info] compiling slow code path.\n",
      "[2022-12-04 22:00:40.167] [Lambda worker] [info] Compilation of slow path took 0.580021s\n",
      "[2022-12-04 22:00:40.465] [Lambda worker] [info] Resolved buffer, compiled: 428790 interpreted: 0 unresolved: 0\n",
      "[2022-12-04 22:00:40.469] [Lambda worker] [info] Exception resolution/slow path done. Took 0.948195s\n",
      "[2022-12-04 22:00:40.469] [Lambda worker] [info] Data processed in 6.1528s 27.64 MB (451086 normal rows) 0.00 B (0 exception rows)  64.02 KB (0 hash rows)\n",
      "[2022-12-04 22:00:40.469] [Lambda worker] [info] Writing data to s3://tuplex-leonhard/experiments/flights_hyper/hyper/part82.csv.csv\n",
      "[2022-12-04 22:00:40.469] [Lambda worker] [info] file output initiated...\n",
      "[2022-12-04 22:00:40.469] [Lambda worker] [info] Writing output from 1 part (27.64 MB, 451086 rows)\n",
      "[2022-12-04 22:00:40.469] [Lambda worker] [info] Merging output parts together into s3://tuplex-leonhard/experiments/flights_hyper/hyper/part82.csv.csv\n",
      "[2022-12-04 22:00:40.486] [s3fs] [info] Invoking lazyUpload to uri s3://tuplex-leonhard/experiments/flights_hyper/hyper/part82.csv.csv\n",
      "[2022-12-04 22:00:40.486] [s3fs] [info] Issuing simple write request\n",
      "[2022-12-04 22:00:40.781] [Lambda worker] [info] file output done.\n",
      "[2022-12-04 22:00:40.782] [Lambda worker] [info] Data fully materialized\n",
      "[2022-12-04 22:00:40.782] [Lambda worker] [info] Took 6.466478s in total\n",
      "[2022-12-04 22:00:40.782] [Lambda worker] [info] Paths rows took: normal: 22296 general: 428790 interpreter: 0 unresolved: 0\n",
      "\n"
     ]
    }
   ],
   "source": [
    "print(data['tasks'][100]['log'])"
   ]
  },
  {
   "cell_type": "code",
   "execution_count": 54,
   "id": "81590935",
   "metadata": {},
   "outputs": [],
   "source": [
    "root_path = '/Users/leonhards/projects/tuplex-public/tuplex/cmake-build-debug-w-cereal/dist/bin'"
   ]
  },
  {
   "cell_type": "code",
   "execution_count": 55,
   "id": "1ce4df2c",
   "metadata": {},
   "outputs": [],
   "source": [
    "with open(root_path + '/request_2650.json') as fp:\n",
    "    data = json.load(fp)"
   ]
  },
  {
   "cell_type": "code",
   "execution_count": 57,
   "id": "f2d168fa",
   "metadata": {},
   "outputs": [
    {
     "data": {
      "text/plain": [
       "dict_keys(['inputURIS', 'inputSizes', 'baseOutputURI', 'type', 'settings', 'stage', 'verboseLogging'])"
      ]
     },
     "execution_count": 57,
     "metadata": {},
     "output_type": "execute_result"
    }
   ],
   "source": []
  },
  {
   "cell_type": "code",
   "execution_count": null,
   "id": "f4860950",
   "metadata": {},
   "outputs": [],
   "source": []
  }
 ],
 "metadata": {
  "kernelspec": {
   "display_name": "Python 3.10",
   "language": "python",
   "name": "python3"
  },
  "language_info": {
   "codemirror_mode": {
    "name": "ipython",
    "version": 3
   },
   "file_extension": ".py",
   "mimetype": "text/x-python",
   "name": "python",
   "nbconvert_exporter": "python",
   "pygments_lexer": "ipython3",
   "version": "3.10.6"
  }
 },
 "nbformat": 4,
 "nbformat_minor": 5
}
