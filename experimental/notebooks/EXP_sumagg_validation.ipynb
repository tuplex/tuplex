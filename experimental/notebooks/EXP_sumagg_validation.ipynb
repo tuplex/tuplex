{
 "cells": [
  {
   "cell_type": "code",
   "execution_count": 13,
   "id": "f91005d3",
   "metadata": {},
   "outputs": [],
   "source": [
    "paths = ['/home/leonhard/projects/tuplex-public/tuplex/cmake-build-debug/dist/resources/hyperspecialization/flights/flights_on_time_performance_2021_11.csv.sample',\n",
    "        '/home/leonhard/projects/tuplex-public/tuplex/cmake-build-debug/dist/resources/hyperspecialization/flights/flights_on_time_performance_2000_10.csv.sample',\n",
    "        '/home/leonhard/projects/tuplex-public/tuplex/cmake-build-debug/dist/resources/hyperspecialization/flights/flights_on_time_performance_1987_10.csv.sample']"
   ]
  },
  {
   "cell_type": "code",
   "execution_count": 14,
   "id": "ce92506f",
   "metadata": {},
   "outputs": [],
   "source": [
    "import pandas as pd"
   ]
  },
  {
   "cell_type": "code",
   "execution_count": 17,
   "id": "58e91135",
   "metadata": {},
   "outputs": [],
   "source": [
    "df = pd.read_csv(paths[2])"
   ]
  },
  {
   "cell_type": "code",
   "execution_count": 18,
   "id": "ba2c38b7",
   "metadata": {},
   "outputs": [
    {
     "data": {
      "text/plain": [
       "2249.0"
      ]
     },
     "execution_count": 18,
     "metadata": {},
     "output_type": "execute_result"
    }
   ],
   "source": [
    "df['ARR_DELAY'].sum()"
   ]
  },
  {
   "cell_type": "code",
   "execution_count": null,
   "id": "311c37ed",
   "metadata": {},
   "outputs": [],
   "source": []
  }
 ],
 "metadata": {
  "kernelspec": {
   "display_name": "Python 3 (ipykernel)",
   "language": "python",
   "name": "python3"
  },
  "language_info": {
   "codemirror_mode": {
    "name": "ipython",
    "version": 3
   },
   "file_extension": ".py",
   "mimetype": "text/x-python",
   "name": "python",
   "nbconvert_exporter": "python",
   "pygments_lexer": "ipython3",
   "version": "3.10.6"
  }
 },
 "nbformat": 4,
 "nbformat_minor": 5
}
