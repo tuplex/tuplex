{
 "cells": [
  {
   "cell_type": "code",
   "execution_count": 1,
   "id": "bab848b5",
   "metadata": {},
   "outputs": [],
   "source": [
    "#!pip3 install smart_open[all]"
   ]
  },
  {
   "cell_type": "code",
   "execution_count": 2,
   "id": "4987efb6",
   "metadata": {},
   "outputs": [],
   "source": [
    "import smart_open\n",
    "import json"
   ]
  },
  {
   "cell_type": "code",
   "execution_count": 3,
   "id": "3e48f97b",
   "metadata": {},
   "outputs": [],
   "source": [
    "# def fork_event_pipeline(ctx, input_pattern, s3_output_path, sm = None):\n",
    "#     \"\"\"test pipeline to extract fork evenets across years\"\"\"\n",
    "#     if sm is None:\n",
    "#         sm = tuplex.dataset.SamplingMode.FIRST_FILE | tuplex.dataset.SamplingMode.LAST_FILE | tuplex.dataset.SamplingMode.FIRST_ROWS | tuplex.dataset.SamplingMode.LAST_ROWS\n",
    "#     #sm = tuplex.dataset.SamplingMode.FIRST_FILE | tuplex.dataset.SamplingMode.FIRST_ROWS\n",
    "#     #sm = tuplex.dataset.SamplingMode.FIRST_FILE | tuplex.dataset.SamplingMode.FIRST_ROWS | tuplex.dataset.SamplingMode.LAST_ROWS\n",
    "#     #sm = tuplex.dataset.SamplingMode.LAST_FILE | tuplex.dataset.SamplingMode.FIRST_ROWS | tuplex.dataset.SamplingMode.LAST_ROWS\n",
    "\n",
    "#     ctx.json(input_pattern, sampling_mode=sm) \\\n",
    "#         .withColumn('year', lambda x: int(x['created_at'].split('-')[0])) \\\n",
    "#         .withColumn('repo_id', extract_repo_id_code) \\\n",
    "#         .filter(lambda x: x['type'] == 'ForkEvent') \\\n",
    "#         .selectColumns(['type', 'repo_id', 'year']) \\\n",
    "#         .tocsv(s3_output_path)\n"
   ]
  },
  {
   "cell_type": "code",
   "execution_count": 4,
   "id": "85f786c3",
   "metadata": {},
   "outputs": [],
   "source": [
    "from tqdm import tqdm"
   ]
  },
  {
   "cell_type": "code",
   "execution_count": 5,
   "id": "add141a3",
   "metadata": {},
   "outputs": [
    {
     "data": {
      "text/plain": [
       "['s3://tuplex-public/data/github_daily/2011-10-15.json',\n",
       " 's3://tuplex-public/data/github_daily/2012-10-15.json',\n",
       " 's3://tuplex-public/data/github_daily/2013-10-15.json',\n",
       " 's3://tuplex-public/data/github_daily/2014-10-15.json',\n",
       " 's3://tuplex-public/data/github_daily/2015-10-15.json',\n",
       " 's3://tuplex-public/data/github_daily/2016-10-15.json',\n",
       " 's3://tuplex-public/data/github_daily/2017-10-15.json',\n",
       " 's3://tuplex-public/data/github_daily/2018-10-15.json',\n",
       " 's3://tuplex-public/data/github_daily/2019-10-15.json',\n",
       " 's3://tuplex-public/data/github_daily/2020-10-15.json',\n",
       " 's3://tuplex-public/data/github_daily/2021-10-15.json']"
      ]
     },
     "execution_count": 5,
     "metadata": {},
     "output_type": "execute_result"
    }
   ],
   "source": [
    "paths = ['s3://tuplex-public/data/github_daily/{}-10-15.json'.format(year) for year in range(2011, 2022)]\n",
    "paths"
   ]
  },
  {
   "cell_type": "code",
   "execution_count": 20,
   "id": "58de0ee6",
   "metadata": {},
   "outputs": [],
   "source": [
    "# execute pipeline for a single line\n",
    "def github_pipeline(line):\n",
    "    rows = [json.loads(line)]\n",
    "    \n",
    "    def extract_repo_id(row):\n",
    "        if 2012 <= row['year'] <= 2014:\n",
    "            return row['repository']['id']\n",
    "        else:\n",
    "            return row['repo']['id']\n",
    "        \n",
    "    def with_column(rows, name, f):\n",
    "        def helper(row):\n",
    "            row[name] = f(row)\n",
    "            return row\n",
    "            \n",
    "        return [helper(row) for row in rows]\n",
    "        \n",
    "    # now process\n",
    "    tmp1 = with_column(rows, 'year', lambda x: int(x['created_at'].split('-')[0]))\n",
    "    \n",
    "    tmp2 = with_column(tmp1, 'repo_id', extract_repo_id)\n",
    "    # how many exceptions and of what kind?\n",
    "    tmp3 = list(filter(lambda x: not isinstance(x, Exception) and x['type'] == 'ForkEvent', tmp2))\n",
    "    # get result\n",
    "    tmp4 = list(map(lambda x: (x['type'], x['repo_id'], x['year']), tmp3))\n",
    "\n",
    "    res = tmp4\n",
    "    return res"
   ]
  },
  {
   "cell_type": "code",
   "execution_count": 24,
   "id": "e4a8608b",
   "metadata": {},
   "outputs": [
    {
     "name": "stderr",
     "output_type": "stream",
     "text": [
      "48899it [00:13, 3600.77it/s]\n"
     ]
    },
    {
     "name": "stdout",
     "output_type": "stream",
     "text": [
      "{'path': 's3://tuplex-public/data/github_daily/2011-10-15.json', 'num_output_rows': 1418, 'num_input_rows': 48899, 'num_exceptions': 1284}\n"
     ]
    },
    {
     "name": "stderr",
     "output_type": "stream",
     "text": [
      "165692it [00:32, 5068.03it/s] \n"
     ]
    },
    {
     "name": "stdout",
     "output_type": "stream",
     "text": [
      "{'path': 's3://tuplex-public/data/github_daily/2012-10-15.json', 'num_output_rows': 5907, 'num_input_rows': 165692, 'num_exceptions': 8139}\n"
     ]
    },
    {
     "name": "stderr",
     "output_type": "stream",
     "text": [
      "296456it [00:48, 6168.34it/s]\n"
     ]
    },
    {
     "name": "stdout",
     "output_type": "stream",
     "text": [
      "{'path': 's3://tuplex-public/data/github_daily/2013-10-15.json', 'num_output_rows': 10628, 'num_input_rows': 296456, 'num_exceptions': 10725}\n"
     ]
    },
    {
     "name": "stderr",
     "output_type": "stream",
     "text": [
      "476393it [05:46, 1374.72it/s]\n"
     ]
    },
    {
     "name": "stdout",
     "output_type": "stream",
     "text": [
      "{'path': 's3://tuplex-public/data/github_daily/2014-10-15.json', 'num_output_rows': 16014, 'num_input_rows': 476393, 'num_exceptions': 637}\n"
     ]
    },
    {
     "name": "stderr",
     "output_type": "stream",
     "text": [
      "737714it [04:38, 2651.17it/s]\n"
     ]
    },
    {
     "name": "stdout",
     "output_type": "stream",
     "text": [
      "{'path': 's3://tuplex-public/data/github_daily/2015-10-15.json', 'num_output_rows': 25301, 'num_input_rows': 737714, 'num_exceptions': 0}\n"
     ]
    },
    {
     "name": "stderr",
     "output_type": "stream",
     "text": [
      "678134it [04:07, 2742.21it/s]\n"
     ]
    },
    {
     "name": "stdout",
     "output_type": "stream",
     "text": [
      "{'path': 's3://tuplex-public/data/github_daily/2016-10-15.json', 'num_output_rows': 19412, 'num_input_rows': 678134, 'num_exceptions': 0}\n"
     ]
    },
    {
     "name": "stderr",
     "output_type": "stream",
     "text": [
      "910100it [04:15, 3565.28it/s]\n"
     ]
    },
    {
     "name": "stdout",
     "output_type": "stream",
     "text": [
      "{'path': 's3://tuplex-public/data/github_daily/2017-10-15.json', 'num_output_rows': 26107, 'num_input_rows': 910100, 'num_exceptions': 0}\n"
     ]
    },
    {
     "name": "stderr",
     "output_type": "stream",
     "text": [
      "1522655it [12:51, 1974.86it/s]\n"
     ]
    },
    {
     "name": "stdout",
     "output_type": "stream",
     "text": [
      "{'path': 's3://tuplex-public/data/github_daily/2018-10-15.json', 'num_output_rows': 44404, 'num_input_rows': 1522655, 'num_exceptions': 0}\n"
     ]
    },
    {
     "name": "stderr",
     "output_type": "stream",
     "text": [
      "2134789it [19:16, 1846.20it/s]\n"
     ]
    },
    {
     "name": "stdout",
     "output_type": "stream",
     "text": [
      "{'path': 's3://tuplex-public/data/github_daily/2019-10-15.json', 'num_output_rows': 61337, 'num_input_rows': 2134789, 'num_exceptions': 0}\n"
     ]
    },
    {
     "name": "stderr",
     "output_type": "stream",
     "text": [
      "2963694it [27:28, 1797.37it/s]\n"
     ]
    },
    {
     "name": "stdout",
     "output_type": "stream",
     "text": [
      "{'path': 's3://tuplex-public/data/github_daily/2020-10-15.json', 'num_output_rows': 62354, 'num_input_rows': 2963694, 'num_exceptions': 0}\n"
     ]
    },
    {
     "name": "stderr",
     "output_type": "stream",
     "text": [
      "1078139it [05:53, 3053.37it/s]"
     ]
    },
    {
     "name": "stdout",
     "output_type": "stream",
     "text": [
      "{'path': 's3://tuplex-public/data/github_daily/2021-10-15.json', 'num_output_rows': 21313, 'num_input_rows': 1078139, 'num_exceptions': 0}\n"
     ]
    },
    {
     "name": "stderr",
     "output_type": "stream",
     "text": [
      "\n"
     ]
    }
   ],
   "source": [
    "rows = []\n",
    "for s3_uri in paths:\n",
    "    with smart_open.smart_open(s3_uri) as fin:\n",
    "        row = {'path' : s3_uri}\n",
    "        num_input_rows = 0\n",
    "        num_output_rows = 0\n",
    "        num_exceptions = 0\n",
    "        for line in tqdm(fin):\n",
    "            num_input_rows += 1\n",
    "            try:\n",
    "                res = github_pipeline(line)\n",
    "                num_output_rows += len(res)\n",
    "            except:\n",
    "                num_exceptions += 1\n",
    "        row['num_output_rows'] = num_output_rows\n",
    "        row['num_input_rows'] = num_input_rows\n",
    "        row['num_exceptions'] = num_exceptions\n",
    "        print(row)\n",
    "        rows.append(row)"
   ]
  },
  {
   "cell_type": "code",
   "execution_count": 26,
   "id": "06ff42b2",
   "metadata": {},
   "outputs": [],
   "source": [
    "import pandas as pd"
   ]
  },
  {
   "cell_type": "code",
   "execution_count": 27,
   "id": "af8dd09b",
   "metadata": {},
   "outputs": [],
   "source": [
    "df = pd.DataFrame(rows)"
   ]
  },
  {
   "cell_type": "code",
   "execution_count": 28,
   "id": "52af88e5",
   "metadata": {},
   "outputs": [
    {
     "data": {
      "text/html": [
       "<div>\n",
       "<style scoped>\n",
       "    .dataframe tbody tr th:only-of-type {\n",
       "        vertical-align: middle;\n",
       "    }\n",
       "\n",
       "    .dataframe tbody tr th {\n",
       "        vertical-align: top;\n",
       "    }\n",
       "\n",
       "    .dataframe thead th {\n",
       "        text-align: right;\n",
       "    }\n",
       "</style>\n",
       "<table border=\"1\" class=\"dataframe\">\n",
       "  <thead>\n",
       "    <tr style=\"text-align: right;\">\n",
       "      <th></th>\n",
       "      <th>path</th>\n",
       "      <th>num_output_rows</th>\n",
       "      <th>num_input_rows</th>\n",
       "      <th>num_exceptions</th>\n",
       "    </tr>\n",
       "  </thead>\n",
       "  <tbody>\n",
       "    <tr>\n",
       "      <th>0</th>\n",
       "      <td>s3://tuplex-public/data/github_daily/2011-10-1...</td>\n",
       "      <td>1418</td>\n",
       "      <td>48899</td>\n",
       "      <td>1284</td>\n",
       "    </tr>\n",
       "    <tr>\n",
       "      <th>1</th>\n",
       "      <td>s3://tuplex-public/data/github_daily/2012-10-1...</td>\n",
       "      <td>5907</td>\n",
       "      <td>165692</td>\n",
       "      <td>8139</td>\n",
       "    </tr>\n",
       "    <tr>\n",
       "      <th>2</th>\n",
       "      <td>s3://tuplex-public/data/github_daily/2013-10-1...</td>\n",
       "      <td>10628</td>\n",
       "      <td>296456</td>\n",
       "      <td>10725</td>\n",
       "    </tr>\n",
       "    <tr>\n",
       "      <th>3</th>\n",
       "      <td>s3://tuplex-public/data/github_daily/2014-10-1...</td>\n",
       "      <td>16014</td>\n",
       "      <td>476393</td>\n",
       "      <td>637</td>\n",
       "    </tr>\n",
       "    <tr>\n",
       "      <th>4</th>\n",
       "      <td>s3://tuplex-public/data/github_daily/2015-10-1...</td>\n",
       "      <td>25301</td>\n",
       "      <td>737714</td>\n",
       "      <td>0</td>\n",
       "    </tr>\n",
       "    <tr>\n",
       "      <th>5</th>\n",
       "      <td>s3://tuplex-public/data/github_daily/2016-10-1...</td>\n",
       "      <td>19412</td>\n",
       "      <td>678134</td>\n",
       "      <td>0</td>\n",
       "    </tr>\n",
       "    <tr>\n",
       "      <th>6</th>\n",
       "      <td>s3://tuplex-public/data/github_daily/2017-10-1...</td>\n",
       "      <td>26107</td>\n",
       "      <td>910100</td>\n",
       "      <td>0</td>\n",
       "    </tr>\n",
       "    <tr>\n",
       "      <th>7</th>\n",
       "      <td>s3://tuplex-public/data/github_daily/2018-10-1...</td>\n",
       "      <td>44404</td>\n",
       "      <td>1522655</td>\n",
       "      <td>0</td>\n",
       "    </tr>\n",
       "    <tr>\n",
       "      <th>8</th>\n",
       "      <td>s3://tuplex-public/data/github_daily/2019-10-1...</td>\n",
       "      <td>61337</td>\n",
       "      <td>2134789</td>\n",
       "      <td>0</td>\n",
       "    </tr>\n",
       "    <tr>\n",
       "      <th>9</th>\n",
       "      <td>s3://tuplex-public/data/github_daily/2020-10-1...</td>\n",
       "      <td>62354</td>\n",
       "      <td>2963694</td>\n",
       "      <td>0</td>\n",
       "    </tr>\n",
       "    <tr>\n",
       "      <th>10</th>\n",
       "      <td>s3://tuplex-public/data/github_daily/2021-10-1...</td>\n",
       "      <td>21313</td>\n",
       "      <td>1078139</td>\n",
       "      <td>0</td>\n",
       "    </tr>\n",
       "  </tbody>\n",
       "</table>\n",
       "</div>"
      ],
      "text/plain": [
       "                                                 path  num_output_rows  \\\n",
       "0   s3://tuplex-public/data/github_daily/2011-10-1...             1418   \n",
       "1   s3://tuplex-public/data/github_daily/2012-10-1...             5907   \n",
       "2   s3://tuplex-public/data/github_daily/2013-10-1...            10628   \n",
       "3   s3://tuplex-public/data/github_daily/2014-10-1...            16014   \n",
       "4   s3://tuplex-public/data/github_daily/2015-10-1...            25301   \n",
       "5   s3://tuplex-public/data/github_daily/2016-10-1...            19412   \n",
       "6   s3://tuplex-public/data/github_daily/2017-10-1...            26107   \n",
       "7   s3://tuplex-public/data/github_daily/2018-10-1...            44404   \n",
       "8   s3://tuplex-public/data/github_daily/2019-10-1...            61337   \n",
       "9   s3://tuplex-public/data/github_daily/2020-10-1...            62354   \n",
       "10  s3://tuplex-public/data/github_daily/2021-10-1...            21313   \n",
       "\n",
       "    num_input_rows  num_exceptions  \n",
       "0            48899            1284  \n",
       "1           165692            8139  \n",
       "2           296456           10725  \n",
       "3           476393             637  \n",
       "4           737714               0  \n",
       "5           678134               0  \n",
       "6           910100               0  \n",
       "7          1522655               0  \n",
       "8          2134789               0  \n",
       "9          2963694               0  \n",
       "10         1078139               0  "
      ]
     },
     "execution_count": 28,
     "metadata": {},
     "output_type": "execute_result"
    }
   ],
   "source": [
    "df"
   ]
  },
  {
   "cell_type": "code",
   "execution_count": 38,
   "id": "3e7aa8d8",
   "metadata": {},
   "outputs": [
    {
     "data": {
      "text/plain": [
       "294195"
      ]
     },
     "execution_count": 38,
     "metadata": {},
     "output_type": "execute_result"
    }
   ],
   "source": [
    "df['num_output_rows'].sum()"
   ]
  },
  {
   "cell_type": "code",
   "execution_count": 39,
   "id": "f67a346d",
   "metadata": {},
   "outputs": [
    {
     "data": {
      "text/plain": [
       "11012665"
      ]
     },
     "execution_count": 39,
     "metadata": {},
     "output_type": "execute_result"
    }
   ],
   "source": [
    "df['num_input_rows'].sum()"
   ]
  },
  {
   "cell_type": "code",
   "execution_count": 40,
   "id": "3da4b7a5",
   "metadata": {},
   "outputs": [
    {
     "data": {
      "text/plain": [
       "20785"
      ]
     },
     "execution_count": 40,
     "metadata": {},
     "output_type": "execute_result"
    }
   ],
   "source": [
    "df['num_exceptions'].sum()"
   ]
  },
  {
   "cell_type": "code",
   "execution_count": 29,
   "id": "68216b4a",
   "metadata": {},
   "outputs": [],
   "source": [
    "df.to_csv('reference.csv', index=None)"
   ]
  },
  {
   "cell_type": "code",
   "execution_count": 33,
   "id": "5d0d4eb1",
   "metadata": {},
   "outputs": [
    {
     "data": {
      "text/plain": [
       "56"
      ]
     },
     "execution_count": 33,
     "metadata": {},
     "output_type": "execute_result"
    }
   ],
   "source": [
    "1522655 - (787385 + 490768 + 244446)"
   ]
  },
  {
   "cell_type": "code",
   "execution_count": 31,
   "id": "b434901d",
   "metadata": {},
   "outputs": [
    {
     "data": {
      "text/plain": [
       "1522655"
      ]
     },
     "execution_count": 31,
     "metadata": {},
     "output_type": "execute_result"
    }
   ],
   "source": []
  },
  {
   "cell_type": "code",
   "execution_count": 34,
   "id": "cbc89905",
   "metadata": {},
   "outputs": [
    {
     "data": {
      "text/plain": [
       "2.9473684210526314"
      ]
     },
     "execution_count": 34,
     "metadata": {},
     "output_type": "execute_result"
    }
   ],
   "source": [
    "56 / 19"
   ]
  },
  {
   "cell_type": "code",
   "execution_count": 36,
   "id": "0c0ded7c",
   "metadata": {},
   "outputs": [
    {
     "data": {
      "text/plain": [
       "array(['s3://tuplex-public/data/github_daily/2011-10-15.json',\n",
       "       's3://tuplex-public/data/github_daily/2012-10-15.json',\n",
       "       's3://tuplex-public/data/github_daily/2013-10-15.json',\n",
       "       's3://tuplex-public/data/github_daily/2014-10-15.json',\n",
       "       's3://tuplex-public/data/github_daily/2015-10-15.json',\n",
       "       's3://tuplex-public/data/github_daily/2016-10-15.json',\n",
       "       's3://tuplex-public/data/github_daily/2017-10-15.json',\n",
       "       's3://tuplex-public/data/github_daily/2018-10-15.json',\n",
       "       's3://tuplex-public/data/github_daily/2019-10-15.json',\n",
       "       's3://tuplex-public/data/github_daily/2020-10-15.json',\n",
       "       's3://tuplex-public/data/github_daily/2021-10-15.json'],\n",
       "      dtype=object)"
      ]
     },
     "execution_count": 36,
     "metadata": {},
     "output_type": "execute_result"
    }
   ],
   "source": [
    "df['path'].values"
   ]
  },
  {
   "cell_type": "code",
   "execution_count": null,
   "id": "6b43abd5",
   "metadata": {},
   "outputs": [],
   "source": []
  }
 ],
 "metadata": {
  "kernelspec": {
   "display_name": "Python 3.10",
   "language": "python",
   "name": "python3"
  },
  "language_info": {
   "codemirror_mode": {
    "name": "ipython",
    "version": 3
   },
   "file_extension": ".py",
   "mimetype": "text/x-python",
   "name": "python",
   "nbconvert_exporter": "python",
   "pygments_lexer": "ipython3",
   "version": "3.10.6"
  }
 },
 "nbformat": 4,
 "nbformat_minor": 5
}
