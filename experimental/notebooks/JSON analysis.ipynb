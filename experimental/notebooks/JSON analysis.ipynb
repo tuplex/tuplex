{
 "cells": [
  {
   "cell_type": "markdown",
   "id": "74f775f7",
   "metadata": {},
   "source": [
    "## instructions\n",
    "\n",
    "to download files, use `scp /home/lspiegel/tuplex-public/tuplex/build/stats/*.json <dest-dir>`"
   ]
  },
  {
   "cell_type": "code",
   "execution_count": 67,
   "id": "408dc524",
   "metadata": {},
   "outputs": [],
   "source": [
    "import pandas as pd\n",
    "import json\n",
    "import glob"
   ]
  },
  {
   "cell_type": "code",
   "execution_count": 68,
   "id": "27f1dec4",
   "metadata": {},
   "outputs": [
    {
     "name": "stdout",
     "output_type": "stream",
     "text": [
      "     121\r\n"
     ]
    }
   ],
   "source": [
    "!ls -l ../data/json_stats/ | wc -l"
   ]
  },
  {
   "cell_type": "code",
   "execution_count": 69,
   "id": "84860fcc",
   "metadata": {},
   "outputs": [],
   "source": [
    "rows = []\n",
    "for path in glob.glob('../data/json_stats/*.json'):\n",
    "    with open(path, 'r') as fp:\n",
    "        rows.append(json.load(fp))"
   ]
  },
  {
   "cell_type": "code",
   "execution_count": 70,
   "id": "eba1ec29",
   "metadata": {},
   "outputs": [],
   "source": [
    "df = pd.DataFrame(rows)"
   ]
  },
  {
   "cell_type": "code",
   "execution_count": 71,
   "id": "77c690ec",
   "metadata": {},
   "outputs": [
    {
     "name": "stdout",
     "output_type": "stream",
     "text": [
      "14\tunique general case types\n",
      "2\tunique normal case types\n",
      "120\tfiles\n"
     ]
    }
   ],
   "source": [
    "# print some global stats\n",
    "n_unique_general_case = len(df['general_case_type'].unique())\n",
    "n_unique_normal_case = len(df['normal_case_type'].unique())\n",
    "\n",
    "print('{}\\tunique general case types\\n{}\\t'\n",
    "'unique normal case types\\n{}\\tfiles'.format(n_unique_general_case, n_unique_normal_case, len(df)))"
   ]
  },
  {
   "cell_type": "code",
   "execution_count": 72,
   "id": "f63429f8",
   "metadata": {},
   "outputs": [],
   "source": [
    "import matplotlib.pyplot as plt\n",
    "import seaborn as sns\n",
    "import numpy as np"
   ]
  },
  {
   "cell_type": "code",
   "execution_count": 73,
   "id": "879d2ca5",
   "metadata": {},
   "outputs": [],
   "source": [
    "# plot out normal/general/fallback case distribution"
   ]
  },
  {
   "cell_type": "code",
   "execution_count": 74,
   "id": "1c4ff734",
   "metadata": {},
   "outputs": [],
   "source": [
    "df= df.sort_values(by='nrows')"
   ]
  },
  {
   "cell_type": "code",
   "execution_count": 75,
   "id": "e1fd9e99",
   "metadata": {},
   "outputs": [
    {
     "data": {
      "image/png": "[encoded data removed]",
      "text/plain": [
       "<Figure size 720x360 with 1 Axes>"
      ]
     },
     "metadata": {
      "needs_background": "light"
     },
     "output_type": "display_data"
    }
   ],
   "source": [
    "plt.figure(figsize=(10, 5))\n",
    "xq = np.arange(len(df)) + .5\n",
    "plt.bar(xq, df['normal_case_path_count'], width=1, linewidth=0, label='normal case')\n",
    "plt.bar(xq, df['general_case_path_count'], width=1, linewidth=0,\n",
    "        bottom=df['normal_case_path_count'], label='general case')\n",
    "plt.bar(xq, df['fallback_case_path_count'], width=1, linewidth=0,\n",
    "        bottom=df['normal_case_path_count'] + df['general_case_path_count'],\n",
    "       label='fallback')\n",
    "plt.ylabel('num rows')\n",
    "plt.xlabel('file index')\n",
    "plt.xlim(0, len(df))\n",
    "plt.legend()\n",
    "sns.despine()"
   ]
  },
  {
   "cell_type": "code",
   "execution_count": 79,
   "id": "4ace84d3",
   "metadata": {},
   "outputs": [
    {
     "data": {
      "text/plain": [
       "\"Struct[(str,'id'->str),(str,'type'->str),(str,'actor'->Struct[(str,'id'->i64),(str,'login'->str),(str,'display_login'->str),(str,'gravatar_id'->str),(str,'url'->str),(str,'avatar_url'->str)]),(str,'repo'->Struct[(str,'id'->i64),(str,'name'->str),(str,'url'->str)]),(str,'payload'->Struct[(str,'push_id'->i64),(str,'size'->i64),(str,'distinct_size'->i64),(str,'ref'->str),(str,'head'->str),(str,'before'->str),(str,'commits'->List[Struct[(str,'sha'->str),(str,'author'->Struct[(str,'name'->str),(str,'email'->str)]),(str,'message'->str),(str,'distinct'->boolean),(str,'url'->str)]])]),(str,'public'->boolean),(str,'created_at'->str)]\""
      ]
     },
     "execution_count": 79,
     "metadata": {},
     "output_type": "execute_result"
    }
   ],
   "source": [
    "df.head().iloc[0]['normal_case_type']"
   ]
  },
  {
   "cell_type": "code",
   "execution_count": 80,
   "id": "cb3df19d",
   "metadata": {},
   "outputs": [
    {
     "data": {
      "text/plain": [
       "\"Struct[(str,'actor'->Struct[(str,'id'->i64),(str,'login'->str),(str,'display_login'->str),(str,'gravatar_id'->str),(str,'url'->str),(str,'avatar_url'->str)]),(str,'created_at'->str),(str,'id'->str),(str,'org'=>Struct[(str,'id'->i64),(str,'login'->str),(str,'gravatar_id'->str),(str,'url'->str),(str,'avatar_url'->str)]),(str,'payload'->Struct[(str,'action'=>str),(str,'before'=>str),(str,'commits'=>List[Struct[(str,'sha'->str),(str,'author'->Struct[(str,'name'->str),(str,'email'->str)]),(str,'message'->str),(str,'distinct'->boolean),(str,'url'->str)]]),(str,'description'=>Option[str]),(str,'distinct_size'=>i64),(str,'head'=>str),(str,'master_branch'=>str),(str,'push_id'=>i64),(str,'pusher_type'=>str),(str,'ref'=>Option[str]),(str,'ref_type'=>str),(str,'size'=>i64)]),(str,'public'->boolean),(str,'repo'->Struct[(str,'id'->i64),(str,'name'->str),(str,'url'->str)]),(str,'type'->str)]\""
      ]
     },
     "execution_count": 80,
     "metadata": {},
     "output_type": "execute_result"
    }
   ],
   "source": [
    "df.head().iloc[0]['general_case_type']"
   ]
  },
  {
   "cell_type": "code",
   "execution_count": 86,
   "id": "380f70e4",
   "metadata": {},
   "outputs": [
    {
     "data": {
      "text/plain": [
       "\"Struct[(str,'actor'->Struct[(str,'id'->i64),(str,'login'->str),(str,'display_login'->str),(str,'gravatar_id'->str),(str,'url'->str),(str,'avatar_url'->str)]),(str,'created_at'->str),(str,'id'->str),(str,'org'=>Struct[(str,'id'->i64),(str,'login'->str),(str,'gravatar_id'->str),(str,'url'->str),(str,'avatar_url'->str)]),(str,'payload'->Struct[(str,'push_id'->i64),(str,'size'->i64),(str,'distinct_size'->i64),(str,'ref'->str),(str,'head'->str),(str,'before'->str),(str,'commits'->List[Struct[(str,'sha'->str),(str,'author'->Struct[(str,'email'->str),(str,'name'->str)]),(str,'message'->str),(str,'distinct'->boolean),(str,'url'->str)]])]),(str,'public'->boolean),(str,'repo'->Struct[(str,'id'->i64),(str,'name'->str),(str,'url'->str)]),(str,'type'->str)]\""
      ]
     },
     "execution_count": 86,
     "metadata": {},
     "output_type": "execute_result"
    }
   ],
   "source": [
    "sorted(list(df['general_case_type'].unique()), key=lambda x: len(x))[0]"
   ]
  },
  {
   "cell_type": "code",
   "execution_count": 85,
   "id": "6e193658",
   "metadata": {},
   "outputs": [
    {
     "data": {
      "text/plain": [
       "\"Struct[(str,'actor'->Struct[(str,'id'->i64),(str,'login'->str),(str,'display_login'->str),(str,'gravatar_id'->str),(str,'url'->str),(str,'avatar_url'->str)]),(str,'created_at'->str),(str,'id'->str),(str,'org'=>Struct[(str,'id'->i64),(str,'login'->str),(str,'gravatar_id'->str),(str,'url'->str),(str,'avatar_url'->str)]),(str,'payload'->Struct[(str,'action'=>str),(str,'before'=>str),(str,'comment'=>Struct[(str,'url'->str),(str,'html_url'->str),(str,'issue_url'->str),(str,'id'->i64),(str,'node_id'->str),(str,'user'->Struct[(str,'login'->str),(str,'id'->i64),(str,'node_id'->str),(str,'avatar_url'->str),(str,'gravatar_id'->str),(str,'url'->str),(str,'html_url'->str),(str,'followers_url'->str),(str,'following_url'->str),(str,'gists_url'->str),(str,'starred_url'->str),(str,'subscriptions_url'->str),(str,'organizations_url'->str),(str,'repos_url'->str),(str,'events_url'->str),(str,'received_events_url'->str),(str,'type'->str),(str,'site_admin'->boolean)]),(str,'created_at'->str),(str,'updated_at'->str),(str,'author_association'->str),(str,'body'->str),(str,'performed_via_github_app'->null)]),(str,'commits'=>List[Struct[(str,'sha'->str),(str,'author'->Struct[(str,'name'->str),(str,'email'->str)]),(str,'message'->str),(str,'distinct'->boolean),(str,'url'->str)]]),(str,'description'=>Option[str]),(str,'distinct_size'=>i64),(str,'head'=>str),(str,'issue'=>Struct[(str,'url'->str),(str,'repository_url'->str),(str,'labels_url'->str),(str,'comments_url'->str),(str,'events_url'->str),(str,'html_url'->str),(str,'id'->i64),(str,'node_id'->str),(str,'number'->i64),(str,'title'->str),(str,'user'->Struct[(str,'login'->str),(str,'id'->i64),(str,'node_id'->str),(str,'avatar_url'->str),(str,'gravatar_id'->str),(str,'url'->str),(str,'html_url'->str),(str,'followers_url'->str),(str,'following_url'->str),(str,'gists_url'->str),(str,'starred_url'->str),(str,'subscriptions_url'->str),(str,'organizations_url'->str),(str,'repos_url'->str),(str,'events_url'->str),(str,'received_events_url'->str),(str,'type'->str),(str,'site_admin'->boolean)]),(str,'labels'->List[Struct[(str,'id'->i64),(str,'node_id'->str),(str,'url'->str),(str,'name'->str),(str,'color'->str),(str,'default'->boolean),(str,'description'->str)]]),(str,'state'->str),(str,'locked'->boolean),(str,'assignee'->null),(str,'assignees'->[]),(str,'milestone'->null),(str,'comments'->i64),(str,'created_at'->str),(str,'updated_at'->str),(str,'closed_at'->null),(str,'author_association'->str),(str,'active_lock_reason'->null),(str,'pull_request'->Struct[(str,'url'->str),(str,'html_url'->str),(str,'diff_url'->str),(str,'patch_url'->str)]),(str,'body'->str),(str,'performed_via_github_app'->null)]),(str,'master_branch'=>str),(str,'number'=>i64),(str,'pull_request'=>Struct[(str,'_links'->Struct[(str,'self'->Struct[(str,'href'->str)]),(str,'html'->Struct[(str,'href'->str)]),(str,'issue'->Struct[(str,'href'->str)]),(str,'comments'->Struct[(str,'href'->str)]),(str,'review_comments'->Struct[(str,'href'->str)]),(str,'review_comment'->Struct[(str,'href'->str)]),(str,'commits'->Struct[(str,'href'->str)]),(str,'statuses'->Struct[(str,'href'->str)])]),(str,'active_lock_reason'->null),(str,'additions'->i64),(str,'assignee'->null),(str,'assignees'->[]),(str,'author_association'->str),(str,'base'->Struct[(str,'label'->str),(str,'ref'->str),(str,'repo'->Struct[(str,'archive_url'->str),(str,'archived'->boolean),(str,'assignees_url'->str),(str,'blobs_url'->str),(str,'branches_url'->str),(str,'clone_url'->str),(str,'collaborators_url'->str),(str,'comments_url'->str),(str,'commits_url'->str),(str,'compare_url'->str),(str,'contents_url'->str),(str,'contributors_url'->str),(str,'created_at'->str),(str,'default_branch'->str),(str,'deployments_url'->str),(str,'description'->Option[str]),(str,'disabled'->boolean),(str,'downloads_url'->str),(str,'events_url'->str),(str,'fork'->boolean),(str,'forks'->i64),(str,'forks_count'->i64),(str,'forks_url'->str),(str,'full_name'->str),(str,'git_commits_url'->str),(str,'git_refs_url'->str),(str,'git_tags_url'->str),(str,'git_url'->str),(str,'has_downloads'->boolean),(str,'has_issues'->boolean),(str,'has_pages'->boolean),(str,'has_projects'->boolean),(str,'has_wiki'->boolean),(str,'homepage'->Option[str]),(str,'hooks_url'->str),(str,'html_url'->str),(str,'id'->i64),(str,'issue_comment_url'->str),(str,'issue_events_url'->str),(str,'issues_url'->str),(str,'keys_url'->str),(str,'labels_url'->str),(str,'language'->str),(str,'languages_url'->str),(str,'license'->Option[Struct[(str,'key'->str),(str,'name'->str),(str,'spdx_id'->str),(str,'url'->str),(str,'node_id'->str)]]),(str,'merges_url'->str),(str,'milestones_url'->str),(str,'mirror_url'->null),(str,'name'->str),(str,'node_id'->str),(str,'notifications_url'->str),(str,'open_issues'->i64),(str,'open_issues_count'->i64),(str,'owner'->Struct[(str,'login'->str),(str,'id'->i64),(str,'node_id'->str),(str,'avatar_url'->str),(str,'gravatar_id'->str),(str,'url'->str),(str,'html_url'->str),(str,'followers_url'->str),(str,'following_url'->str),(str,'gists_url'->str),(str,'starred_url'->str),(str,'subscriptions_url'->str),(str,'organizations_url'->str),(str,'repos_url'->str),(str,'events_url'->str),(str,'received_events_url'->str),(str,'type'->str),(str,'site_admin'->boolean)]),(str,'private'->boolean),(str,'pulls_url'->str),(str,'pushed_at'->str),(str,'releases_url'->str),(str,'size'->i64),(str,'ssh_url'->str),(str,'stargazers_count'->i64),(str,'stargazers_url'->str),(str,'statuses_url'->str),(str,'subscribers_url'->str),(str,'subscription_url'->str),(str,'svn_url'->str),(str,'tags_url'->str),(str,'teams_url'->str),(str,'trees_url'->str),(str,'updated_at'->str),(str,'url'->str),(str,'watchers'->i64),(str,'watchers_count'->i64)]),(str,'sha'->str),(str,'user'->Struct[(str,'login'->str),(str,'id'->i64),(str,'node_id'->str),(str,'avatar_url'->str),(str,'gravatar_id'->str),(str,'url'->str),(str,'html_url'->str),(str,'followers_url'->str),(str,'following_url'->str),(str,'gists_url'->str),(str,'starred_url'->str),(str,'subscriptions_url'->str),(str,'organizations_url'->str),(str,'repos_url'->str),(str,'events_url'->str),(str,'received_events_url'->str),(str,'type'->str),(str,'site_admin'->boolean)])]),(str,'body'->str),(str,'changed_files'->i64),(str,'closed_at'->null),(str,'comments'->i64),(str,'comments_url'->str),(str,'commits'->i64),(str,'commits_url'->str),(str,'created_at'->str),(str,'deletions'->i64),(str,'diff_url'->str),(str,'draft'->boolean),(str,'head'->Struct[(str,'label'->str),(str,'ref'->str),(str,'repo'->Struct[(str,'archive_url'->str),(str,'archived'->boolean),(str,'assignees_url'->str),(str,'blobs_url'->str),(str,'branches_url'->str),(str,'clone_url'->str),(str,'collaborators_url'->str),(str,'comments_url'->str),(str,'commits_url'->str),(str,'compare_url'->str),(str,'contents_url'->str),(str,'contributors_url'->str),(str,'created_at'->str),(str,'default_branch'->str),(str,'deployments_url'->str),(str,'description'->Option[str]),(str,'disabled'->boolean),(str,'downloads_url'->str),(str,'events_url'->str),(str,'fork'->boolean),(str,'forks'->i64),(str,'forks_count'->i64),(str,'forks_url'->str),(str,'full_name'->str),(str,'git_commits_url'->str),(str,'git_refs_url'->str),(str,'git_tags_url'->str),(str,'git_url'->str),(str,'has_downloads'->boolean),(str,'has_issues'->boolean),(str,'has_pages'->boolean),(str,'has_projects'->boolean),(str,'has_wiki'->boolean),(str,'homepage'->Option[str]),(str,'hooks_url'->str),(str,'html_url'->str),(str,'id'->i64),(str,'issue_comment_url'->str),(str,'issue_events_url'->str),(str,'issues_url'->str),(str,'keys_url'->str),(str,'labels_url'->str),(str,'language'->str),(str,'languages_url'->str),(str,'license'->Option[Struct[(str,'key'->str),(str,'name'->str),(str,'spdx_id'->str),(str,'url'->str),(str,'node_id'->str)]]),(str,'merges_url'->str),(str,'milestones_url'->str),(str,'mirror_url'->null),(str,'name'->str),(str,'node_id'->str),(str,'notifications_url'->str),(str,'open_issues'->i64),(str,'open_issues_count'->i64),(str,'owner'->Struct[(str,'login'->str),(str,'id'->i64),(str,'node_id'->str),(str,'avatar_url'->str),(str,'gravatar_id'->str),(str,'url'->str),(str,'html_url'->str),(str,'followers_url'->str),(str,'following_url'->str),(str,'gists_url'->str),(str,'starred_url'->str),(str,'subscriptions_url'->str),(str,'organizations_url'->str),(str,'repos_url'->str),(str,'events_url'->str),(str,'received_events_url'->str),(str,'type'->str),(str,'site_admin'->boolean)]),(str,'private'->boolean),(str,'pulls_url'->str),(str,'pushed_at'->str),(str,'releases_url'->str),(str,'size'->i64),(str,'ssh_url'->str),(str,'stargazers_count'->i64),(str,'stargazers_url'->str),(str,'statuses_url'->str),(str,'subscribers_url'->str),(str,'subscription_url'->str),(str,'svn_url'->str),(str,'tags_url'->str),(str,'teams_url'->str),(str,'trees_url'->str),(str,'updated_at'->str),(str,'url'->str),(str,'watchers'->i64),(str,'watchers_count'->i64)]),(str,'sha'->str),(str,'user'->Struct[(str,'login'->str),(str,'id'->i64),(str,'node_id'->str),(str,'avatar_url'->str),(str,'gravatar_id'->str),(str,'url'->str),(str,'html_url'->str),(str,'followers_url'->str),(str,'following_url'->str),(str,'gists_url'->str),(str,'starred_url'->str),(str,'subscriptions_url'->str),(str,'organizations_url'->str),(str,'repos_url'->str),(str,'events_url'->str),(str,'received_events_url'->str),(str,'type'->str),(str,'site_admin'->boolean)])]),(str,'html_url'->str),(str,'id'->i64),(str,'issue_url'->str),(str,'labels'->[]),(str,'locked'->boolean),(str,'maintainer_can_modify'->boolean),(str,'merge_commit_sha'->null),(str,'mergeable'->null),(str,'mergeable_state'->str),(str,'merged'->boolean),(str,'merged_at'->null),(str,'merged_by'->null),(str,'milestone'->null),(str,'node_id'->str),(str,'number'->i64),(str,'patch_url'->str),(str,'rebaseable'->null),(str,'requested_reviewers'->[]),(str,'requested_teams'->[]),(str,'review_comment_url'->str),(str,'review_comments'->i64),(str,'review_comments_url'->str),(str,'state'->str),(str,'statuses_url'->str),(str,'title'->str),(str,'updated_at'->str),(str,'url'->str),(str,'user'->Struct[(str,'login'->str),(str,'id'->i64),(str,'node_id'->str),(str,'avatar_url'->str),(str,'gravatar_id'->str),(str,'url'->str),(str,'html_url'->str),(str,'followers_url'->str),(str,'following_url'->str),(str,'gists_url'->str),(str,'starred_url'->str),(str,'subscriptions_url'->str),(str,'organizations_url'->str),(str,'repos_url'->str),(str,'events_url'->str),(str,'received_events_url'->str),(str,'type'->str),(str,'site_admin'->boolean)])]),(str,'push_id'=>i64),(str,'pusher_type'=>str),(str,'ref'=>Option[str]),(str,'ref_type'=>str),(str,'size'=>i64)]),(str,'public'->boolean),(str,'repo'->Struct[(str,'id'->i64),(str,'name'->str),(str,'url'->str)]),(str,'type'->str)]\""
      ]
     },
     "execution_count": 85,
     "metadata": {},
     "output_type": "execute_result"
    }
   ],
   "source": [
    "sorted(list(df['general_case_type'].unique()), key=lambda x: len(x))[::-1][0]"
   ]
  },
  {
   "cell_type": "markdown",
   "id": "9c77f832",
   "metadata": {},
   "source": [
    "TODO: If we computed a global general case, this would mean either everything was optional or highly likely optional, but also often we can't create this global general case becuase of the type mismatch since Tuplex has only Optional[ ] types as polymoprhic types."
   ]
  },
  {
   "cell_type": "markdown",
   "id": "4a117663",
   "metadata": {},
   "source": [
    "TODO: add to stats sample rows (100x ?) that match normal/general case/fallback case."
   ]
  },
  {
   "cell_type": "markdown",
   "id": "cb6b30ba",
   "metadata": {},
   "source": [
    "TODO: add pretty print for nested struct type."
   ]
  },
  {
   "cell_type": "code",
   "execution_count": 76,
   "id": "bacbd343",
   "metadata": {},
   "outputs": [
    {
     "data": {
      "image/png": "[encoded data removed]",
      "text/plain": [
       "<Figure size 720x360 with 1 Axes>"
      ]
     },
     "metadata": {
      "needs_background": "light"
     },
     "output_type": "display_data"
    }
   ],
   "source": [
    "# same figure, but this time with percent\n",
    "plt.figure(figsize=(10, 5))\n",
    "xq = np.arange(len(df)) + .5\n",
    "nrows = df['nrows'] * 0.01\n",
    "plt.bar(xq, df['normal_case_path_count'] / nrows,\n",
    "        width=1, linewidth=0, label='% normal case')\n",
    "plt.bar(xq, df['general_case_path_count'] / nrows, label='% general case',\n",
    "        width=1, linewidth=0, bottom=df['normal_case_path_count'] / nrows)\n",
    "plt.bar(xq, df['fallback_case_path_count'] / nrows,\n",
    "        width=1, linewidth=0, label='% fallback',\n",
    "        bottom=df['normal_case_path_count'] / nrows + df['general_case_path_count'] / nrows)\n",
    "plt.ylabel('%')\n",
    "plt.xlabel('file index')\n",
    "plt.axhline(50, color='k', linestyle='--')\n",
    "plt.yticks(np.arange(0, 110, 10))\n",
    "plt.xlim(0, len(df))\n",
    "plt.legend()\n",
    "sns.despine()"
   ]
  },
  {
   "cell_type": "code",
   "execution_count": 77,
   "id": "025520ba",
   "metadata": {},
   "outputs": [
    {
     "data": {
      "image/png": "[encoded data removed]",
      "text/plain": [
       "<Figure size 720x360 with 1 Axes>"
      ]
     },
     "metadata": {
      "needs_background": "light"
     },
     "output_type": "display_data"
    }
   ],
   "source": [
    "# same figure, but this time with percent\n",
    "plt.figure(figsize=(10, 5))\n",
    "xq = np.arange(len(df)) + .5\n",
    "nrows = df['nrows'] * 0.01\n",
    "alpha=.6\n",
    "plt.bar(xq, df['normal_case_path_count'] / nrows,\n",
    "        width=1, linewidth=0, label='% normal case', alpha=alpha)\n",
    "plt.bar(xq, df['general_case_path_count'] / nrows, label='% general case',\n",
    "        width=1, linewidth=0, alpha=alpha)\n",
    "plt.bar(xq, df['fallback_case_path_count'] / nrows,\n",
    "        width=1, linewidth=0, label='% fallback', alpha=alpha)\n",
    "plt.ylabel('%')\n",
    "plt.xlabel('file index')\n",
    "plt.axhline(50, color='k', linestyle='--')\n",
    "plt.yticks(np.arange(0, 110, 10))\n",
    "plt.xlim(0, len(df))\n",
    "plt.legend()\n",
    "sns.despine()"
   ]
  },
  {
   "cell_type": "markdown",
   "id": "a49e91d9",
   "metadata": {},
   "source": [
    "Next steps:\n",
    "--> make pushdown work. Also the idea with the filter (i.e., filter after event type (PushEvent?))\n",
    "\n",
    "--> UDF should actually then check on the type (i.e. list or int). => requires adding `isinstance`"
   ]
  },
  {
   "cell_type": "code",
   "execution_count": null,
   "id": "74f25903",
   "metadata": {},
   "outputs": [],
   "source": []
  }
 ],
 "metadata": {
  "kernelspec": {
   "display_name": "Python 3",
   "language": "python",
   "name": "python3"
  },
  "language_info": {
   "codemirror_mode": {
    "name": "ipython",
    "version": 3
   },
   "file_extension": ".py",
   "mimetype": "text/x-python",
   "name": "python",
   "nbconvert_exporter": "python",
   "pygments_lexer": "ipython3",
   "version": "3.9.14"
  }
 },
 "nbformat": 4,
 "nbformat_minor": 5
}
